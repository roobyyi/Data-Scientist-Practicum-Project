{
 "cells": [
  {
   "cell_type": "markdown",
   "metadata": {},
   "source": [
    "# Deskripsi tugas\n",
    "\n",
    "Perusahaan taksi bernama Sweet Lift telah mengumpulkan data historis tentang pesanan taksi di bandara. Untuk menarik lebih banyak pengemudi pada jam sibuk, perlu memprediksi jumlah pesanan taksi untuk satu jam berikutnya. Buat model untuk prediksi seperti itu.\n",
    "\n",
    "Metrik RMSE pada *test set* tidak boleh lebih dari 48.\n",
    "\n",
    "## Instruksi tugas\n",
    "\n",
    "1. Unduh data dan lakukan *resampling* dalam satu jam.\n",
    "2. Analisis datanya.\n",
    "3.  Latih model yang berbeda dengan hiperparameter yang berbeda pula. Sampel tes harus 10% dari *dataset* awal.\n",
    "4. Uji data menggunakan sampel tes dan berikan kesimpulan.\n",
    "\n",
    "## Deskripsi data\n",
    "\n",
    "Data tersimpan di file `taxi.csv`. Jumlah pesanan di kolom'*num_orders*'."
   ]
  },
  {
   "cell_type": "markdown",
   "metadata": {},
   "source": [
    "## Persiapan"
   ]
  },
  {
   "cell_type": "code",
   "execution_count": 1,
   "metadata": {},
   "outputs": [],
   "source": [
    "import pandas as pd\n",
    "import matplotlib.pyplot as plt\n",
    "import numpy as np"
   ]
  },
  {
   "cell_type": "code",
   "execution_count": 2,
   "metadata": {},
   "outputs": [],
   "source": [
    "data = pd.read_csv('/datasets/taxi.csv', parse_dates=['datetime'], index_col=['datetime'])"
   ]
  },
  {
   "cell_type": "code",
   "execution_count": 3,
   "metadata": {},
   "outputs": [
    {
     "data": {
      "text/html": [
       "<div>\n",
       "<style scoped>\n",
       "    .dataframe tbody tr th:only-of-type {\n",
       "        vertical-align: middle;\n",
       "    }\n",
       "\n",
       "    .dataframe tbody tr th {\n",
       "        vertical-align: top;\n",
       "    }\n",
       "\n",
       "    .dataframe thead th {\n",
       "        text-align: right;\n",
       "    }\n",
       "</style>\n",
       "<table border=\"1\" class=\"dataframe\">\n",
       "  <thead>\n",
       "    <tr style=\"text-align: right;\">\n",
       "      <th></th>\n",
       "      <th>num_orders</th>\n",
       "    </tr>\n",
       "    <tr>\n",
       "      <th>datetime</th>\n",
       "      <th></th>\n",
       "    </tr>\n",
       "  </thead>\n",
       "  <tbody>\n",
       "    <tr>\n",
       "      <th>2018-03-01 00:00:00</th>\n",
       "      <td>9</td>\n",
       "    </tr>\n",
       "    <tr>\n",
       "      <th>2018-03-01 00:10:00</th>\n",
       "      <td>14</td>\n",
       "    </tr>\n",
       "    <tr>\n",
       "      <th>2018-03-01 00:20:00</th>\n",
       "      <td>28</td>\n",
       "    </tr>\n",
       "    <tr>\n",
       "      <th>2018-03-01 00:30:00</th>\n",
       "      <td>20</td>\n",
       "    </tr>\n",
       "    <tr>\n",
       "      <th>2018-03-01 00:40:00</th>\n",
       "      <td>32</td>\n",
       "    </tr>\n",
       "  </tbody>\n",
       "</table>\n",
       "</div>"
      ],
      "text/plain": [
       "                     num_orders\n",
       "datetime                       \n",
       "2018-03-01 00:00:00           9\n",
       "2018-03-01 00:10:00          14\n",
       "2018-03-01 00:20:00          28\n",
       "2018-03-01 00:30:00          20\n",
       "2018-03-01 00:40:00          32"
      ]
     },
     "execution_count": 3,
     "metadata": {},
     "output_type": "execute_result"
    }
   ],
   "source": [
    "data.head()"
   ]
  },
  {
   "cell_type": "code",
   "execution_count": 4,
   "metadata": {},
   "outputs": [
    {
     "name": "stdout",
     "output_type": "stream",
     "text": [
      "<class 'pandas.core.frame.DataFrame'>\n",
      "DatetimeIndex: 26496 entries, 2018-03-01 00:00:00 to 2018-08-31 23:50:00\n",
      "Data columns (total 1 columns):\n",
      " #   Column      Non-Null Count  Dtype\n",
      "---  ------      --------------  -----\n",
      " 0   num_orders  26496 non-null  int64\n",
      "dtypes: int64(1)\n",
      "memory usage: 414.0 KB\n"
     ]
    }
   ],
   "source": [
    "data.info()"
   ]
  },
  {
   "cell_type": "code",
   "execution_count": 5,
   "metadata": {},
   "outputs": [
    {
     "data": {
      "text/plain": [
       "(26496, 1)"
      ]
     },
     "execution_count": 5,
     "metadata": {},
     "output_type": "execute_result"
    }
   ],
   "source": [
    "data.shape"
   ]
  },
  {
   "cell_type": "code",
   "execution_count": 6,
   "metadata": {},
   "outputs": [
    {
     "data": {
      "text/html": [
       "<div>\n",
       "<style scoped>\n",
       "    .dataframe tbody tr th:only-of-type {\n",
       "        vertical-align: middle;\n",
       "    }\n",
       "\n",
       "    .dataframe tbody tr th {\n",
       "        vertical-align: top;\n",
       "    }\n",
       "\n",
       "    .dataframe thead th {\n",
       "        text-align: right;\n",
       "    }\n",
       "</style>\n",
       "<table border=\"1\" class=\"dataframe\">\n",
       "  <thead>\n",
       "    <tr style=\"text-align: right;\">\n",
       "      <th></th>\n",
       "      <th>num_orders</th>\n",
       "    </tr>\n",
       "  </thead>\n",
       "  <tbody>\n",
       "    <tr>\n",
       "      <th>count</th>\n",
       "      <td>26496.000000</td>\n",
       "    </tr>\n",
       "    <tr>\n",
       "      <th>mean</th>\n",
       "      <td>14.070463</td>\n",
       "    </tr>\n",
       "    <tr>\n",
       "      <th>std</th>\n",
       "      <td>9.211330</td>\n",
       "    </tr>\n",
       "    <tr>\n",
       "      <th>min</th>\n",
       "      <td>0.000000</td>\n",
       "    </tr>\n",
       "    <tr>\n",
       "      <th>25%</th>\n",
       "      <td>8.000000</td>\n",
       "    </tr>\n",
       "    <tr>\n",
       "      <th>50%</th>\n",
       "      <td>13.000000</td>\n",
       "    </tr>\n",
       "    <tr>\n",
       "      <th>75%</th>\n",
       "      <td>19.000000</td>\n",
       "    </tr>\n",
       "    <tr>\n",
       "      <th>max</th>\n",
       "      <td>119.000000</td>\n",
       "    </tr>\n",
       "  </tbody>\n",
       "</table>\n",
       "</div>"
      ],
      "text/plain": [
       "         num_orders\n",
       "count  26496.000000\n",
       "mean      14.070463\n",
       "std        9.211330\n",
       "min        0.000000\n",
       "25%        8.000000\n",
       "50%       13.000000\n",
       "75%       19.000000\n",
       "max      119.000000"
      ]
     },
     "execution_count": 6,
     "metadata": {},
     "output_type": "execute_result"
    }
   ],
   "source": [
    "data.describe()"
   ]
  },
  {
   "cell_type": "code",
   "execution_count": 7,
   "metadata": {},
   "outputs": [
    {
     "data": {
      "text/plain": [
       "<AxesSubplot:xlabel='datetime'>"
      ]
     },
     "execution_count": 7,
     "metadata": {},
     "output_type": "execute_result"
    },
    {
     "data": {
      "image/png": "[encoded data removed]",
      "text/plain": [
       "<Figure size 432x288 with 1 Axes>"
      ]
     },
     "metadata": {
      "needs_background": "light"
     },
     "output_type": "display_data"
    }
   ],
   "source": [
    "data.plot()"
   ]
  },
  {
   "cell_type": "markdown",
   "metadata": {},
   "source": [
    "Data terlihat baik baik saja tidak ada masalah."
   ]
  },
  {
   "cell_type": "markdown",
   "metadata": {},
   "source": [
    "Resample Data 1 Jam"
   ]
  },
  {
   "cell_type": "code",
   "execution_count": 8,
   "metadata": {},
   "outputs": [
    {
     "data": {
      "text/html": [
       "<div>\n",
       "<style scoped>\n",
       "    .dataframe tbody tr th:only-of-type {\n",
       "        vertical-align: middle;\n",
       "    }\n",
       "\n",
       "    .dataframe tbody tr th {\n",
       "        vertical-align: top;\n",
       "    }\n",
       "\n",
       "    .dataframe thead th {\n",
       "        text-align: right;\n",
       "    }\n",
       "</style>\n",
       "<table border=\"1\" class=\"dataframe\">\n",
       "  <thead>\n",
       "    <tr style=\"text-align: right;\">\n",
       "      <th></th>\n",
       "      <th>num_orders</th>\n",
       "    </tr>\n",
       "    <tr>\n",
       "      <th>datetime</th>\n",
       "      <th></th>\n",
       "    </tr>\n",
       "  </thead>\n",
       "  <tbody>\n",
       "    <tr>\n",
       "      <th>2018-03-01 00:00:00</th>\n",
       "      <td>124</td>\n",
       "    </tr>\n",
       "    <tr>\n",
       "      <th>2018-03-01 01:00:00</th>\n",
       "      <td>85</td>\n",
       "    </tr>\n",
       "    <tr>\n",
       "      <th>2018-03-01 02:00:00</th>\n",
       "      <td>71</td>\n",
       "    </tr>\n",
       "    <tr>\n",
       "      <th>2018-03-01 03:00:00</th>\n",
       "      <td>66</td>\n",
       "    </tr>\n",
       "    <tr>\n",
       "      <th>2018-03-01 04:00:00</th>\n",
       "      <td>43</td>\n",
       "    </tr>\n",
       "    <tr>\n",
       "      <th>...</th>\n",
       "      <td>...</td>\n",
       "    </tr>\n",
       "    <tr>\n",
       "      <th>2018-08-31 19:00:00</th>\n",
       "      <td>136</td>\n",
       "    </tr>\n",
       "    <tr>\n",
       "      <th>2018-08-31 20:00:00</th>\n",
       "      <td>154</td>\n",
       "    </tr>\n",
       "    <tr>\n",
       "      <th>2018-08-31 21:00:00</th>\n",
       "      <td>159</td>\n",
       "    </tr>\n",
       "    <tr>\n",
       "      <th>2018-08-31 22:00:00</th>\n",
       "      <td>223</td>\n",
       "    </tr>\n",
       "    <tr>\n",
       "      <th>2018-08-31 23:00:00</th>\n",
       "      <td>205</td>\n",
       "    </tr>\n",
       "  </tbody>\n",
       "</table>\n",
       "<p>4416 rows × 1 columns</p>\n",
       "</div>"
      ],
      "text/plain": [
       "                     num_orders\n",
       "datetime                       \n",
       "2018-03-01 00:00:00         124\n",
       "2018-03-01 01:00:00          85\n",
       "2018-03-01 02:00:00          71\n",
       "2018-03-01 03:00:00          66\n",
       "2018-03-01 04:00:00          43\n",
       "...                         ...\n",
       "2018-08-31 19:00:00         136\n",
       "2018-08-31 20:00:00         154\n",
       "2018-08-31 21:00:00         159\n",
       "2018-08-31 22:00:00         223\n",
       "2018-08-31 23:00:00         205\n",
       "\n",
       "[4416 rows x 1 columns]"
      ]
     },
     "execution_count": 8,
     "metadata": {},
     "output_type": "execute_result"
    }
   ],
   "source": [
    "data = data.resample('1H').sum()\n",
    "data"
   ]
  },
  {
   "cell_type": "code",
   "execution_count": 9,
   "metadata": {},
   "outputs": [
    {
     "data": {
      "text/plain": [
       "<AxesSubplot:xlabel='datetime'>"
      ]
     },
     "execution_count": 9,
     "metadata": {},
     "output_type": "execute_result"
    },
    {
     "data": {
      "image/png": "[encoded data removed]",
      "text/plain": [
       "<Figure size 432x288 with 1 Axes>"
      ]
     },
     "metadata": {
      "needs_background": "light"
     },
     "output_type": "display_data"
    }
   ],
   "source": [
    "data.plot()"
   ]
  },
  {
   "cell_type": "markdown",
   "metadata": {},
   "source": [
    "Data sudah di resample menjadi 1 Jam"
   ]
  },
  {
   "cell_type": "code",
   "execution_count": 10,
   "metadata": {},
   "outputs": [
    {
     "data": {
      "text/plain": [
       "(4416, 1)"
      ]
     },
     "execution_count": 10,
     "metadata": {},
     "output_type": "execute_result"
    }
   ],
   "source": [
    "data.shape"
   ]
  },
  {
   "cell_type": "code",
   "execution_count": 11,
   "metadata": {},
   "outputs": [
    {
     "name": "stdout",
     "output_type": "stream",
     "text": [
      "<class 'pandas.core.frame.DataFrame'>\n",
      "DatetimeIndex: 4416 entries, 2018-03-01 00:00:00 to 2018-08-31 23:00:00\n",
      "Freq: H\n",
      "Data columns (total 1 columns):\n",
      " #   Column      Non-Null Count  Dtype\n",
      "---  ------      --------------  -----\n",
      " 0   num_orders  4416 non-null   int64\n",
      "dtypes: int64(1)\n",
      "memory usage: 69.0 KB\n"
     ]
    }
   ],
   "source": [
    "data.info()"
   ]
  },
  {
   "cell_type": "markdown",
   "metadata": {},
   "source": [
    "## Analisis"
   ]
  },
  {
   "cell_type": "markdown",
   "metadata": {},
   "source": [
    "Sebelum melangkah lebih jauh, dilakukan analisa tentang tren, seasonal, dan residual."
   ]
  },
  {
   "cell_type": "code",
   "execution_count": 12,
   "metadata": {},
   "outputs": [],
   "source": [
    "from statsmodels.tsa.seasonal import seasonal_decompose"
   ]
  },
  {
   "cell_type": "code",
   "execution_count": 13,
   "metadata": {},
   "outputs": [],
   "source": [
    "decomposed = seasonal_decompose(data)"
   ]
  },
  {
   "cell_type": "code",
   "execution_count": 14,
   "metadata": {
    "scrolled": false
   },
   "outputs": [
    {
     "data": {
      "image/png": "[encoded data removed]",
      "text/plain": [
       "<Figure size 720x432 with 3 Axes>"
      ]
     },
     "metadata": {
      "needs_background": "light"
     },
     "output_type": "display_data"
    }
   ],
   "source": [
    "plt.figure(figsize=(10,6))\n",
    "plt.subplot(311)\n",
    "decomposed.trend.plot(ax=plt.gca())\n",
    "plt.title('Trend')\n",
    "plt.subplot(312)\n",
    "decomposed.seasonal.plot(ax=plt.gca())\n",
    "plt.title('Seasonality')\n",
    "plt.subplot(313)\n",
    "decomposed.resid.plot(ax=plt.gca())\n",
    "plt.title('Residuals')\n",
    "plt.tight_layout()"
   ]
  },
  {
   "cell_type": "markdown",
   "metadata": {},
   "source": [
    "Seasonalitynya memiliki pola yang hampir sama, selanjutnya kita lihat bagaimana seasonalitynya dalam 1 hari."
   ]
  },
  {
   "cell_type": "code",
   "execution_count": 15,
   "metadata": {},
   "outputs": [
    {
     "data": {
      "text/plain": [
       "<AxesSubplot:xlabel='datetime'>"
      ]
     },
     "execution_count": 15,
     "metadata": {},
     "output_type": "execute_result"
    },
    {
     "data": {
      "image/png": "[encoded data removed]",
      "text/plain": [
       "<Figure size 432x288 with 1 Axes>"
      ]
     },
     "metadata": {
      "needs_background": "light"
     },
     "output_type": "display_data"
    }
   ],
   "source": [
    "decomposed.seasonal['2018-03-5'].plot(ax=plt.gca())"
   ]
  },
  {
   "cell_type": "markdown",
   "metadata": {},
   "source": [
    "Terlihat bahwa order taxi turun di jam 12 hingga jam 6, lalu naik kembali di jam 9an, dan kembali turun sedikit hingga jam 12, dan mengalami kenaikan lagi di jam 15, lalu turun kembali hingga jam 18 dan terus naik hingga jam 12 malam.\n",
    "\n",
    "Insight yang didapatkan adalah:\n",
    "1. Untuk Trend dalam 6 bulan, terlihat bahwa pesanan taxi selalu naik.\n",
    "2. Pesanan taxi di bandara memiliki peak saat jam 3 pagi, jam 9 pagi, jam 4 sore dan seterusnya.\n",
    "3. Pesanan taxi di bandara memliki nilai minimum di jam 6 pagi, hal ini dikarenakan tidak banyak pesawat yang tiba di bandara pada jam 6 pagi.\n",
    "4. Untuk pesanan taxi di tengah malam bisa disebabkan karena transportasi umum yang lain bisa jadi tidak beroperasi, biasanya angkutan umum (Jika di Indonesia, hanya beroperasi hingga jam 6-9 malam)\n",
    "5. Untuk pesanan taxi dari jam 9 hingga jam 3 sore sebenarnya memang memiliki nilai yang lebih baik dibanding jam 6, namun pada jam tersebut beberapa orang bisa saja memilih transportasi umum yang lain.\n"
   ]
  },
  {
   "cell_type": "markdown",
   "metadata": {},
   "source": [
    "## Pelatihan"
   ]
  },
  {
   "cell_type": "markdown",
   "metadata": {},
   "source": [
    "Pelatihan dimulai dengan membuat fitur yang dibutuhkan terlebih dahulu yaitu month, day, dayofweek, dan hour."
   ]
  },
  {
   "cell_type": "code",
   "execution_count": 16,
   "metadata": {},
   "outputs": [
    {
     "name": "stdout",
     "output_type": "stream",
     "text": [
      "(4406, 10)\n"
     ]
    },
    {
     "data": {
      "text/html": [
       "<div>\n",
       "<style scoped>\n",
       "    .dataframe tbody tr th:only-of-type {\n",
       "        vertical-align: middle;\n",
       "    }\n",
       "\n",
       "    .dataframe tbody tr th {\n",
       "        vertical-align: top;\n",
       "    }\n",
       "\n",
       "    .dataframe thead th {\n",
       "        text-align: right;\n",
       "    }\n",
       "</style>\n",
       "<table border=\"1\" class=\"dataframe\">\n",
       "  <thead>\n",
       "    <tr style=\"text-align: right;\">\n",
       "      <th></th>\n",
       "      <th>num_orders</th>\n",
       "      <th>month</th>\n",
       "      <th>day</th>\n",
       "      <th>dayofweek</th>\n",
       "      <th>hour</th>\n",
       "      <th>lag_1</th>\n",
       "      <th>lag_2</th>\n",
       "      <th>lag_3</th>\n",
       "      <th>lag_4</th>\n",
       "      <th>rolling_mean</th>\n",
       "    </tr>\n",
       "    <tr>\n",
       "      <th>datetime</th>\n",
       "      <th></th>\n",
       "      <th></th>\n",
       "      <th></th>\n",
       "      <th></th>\n",
       "      <th></th>\n",
       "      <th></th>\n",
       "      <th></th>\n",
       "      <th></th>\n",
       "      <th></th>\n",
       "      <th></th>\n",
       "    </tr>\n",
       "  </thead>\n",
       "  <tbody>\n",
       "    <tr>\n",
       "      <th>2018-03-01 10:00:00</th>\n",
       "      <td>64</td>\n",
       "      <td>3</td>\n",
       "      <td>1</td>\n",
       "      <td>3</td>\n",
       "      <td>10</td>\n",
       "      <td>69.0</td>\n",
       "      <td>34.0</td>\n",
       "      <td>15.0</td>\n",
       "      <td>12.0</td>\n",
       "      <td>52.5</td>\n",
       "    </tr>\n",
       "    <tr>\n",
       "      <th>2018-03-01 11:00:00</th>\n",
       "      <td>96</td>\n",
       "      <td>3</td>\n",
       "      <td>1</td>\n",
       "      <td>3</td>\n",
       "      <td>11</td>\n",
       "      <td>64.0</td>\n",
       "      <td>69.0</td>\n",
       "      <td>34.0</td>\n",
       "      <td>15.0</td>\n",
       "      <td>46.5</td>\n",
       "    </tr>\n",
       "    <tr>\n",
       "      <th>2018-03-01 12:00:00</th>\n",
       "      <td>30</td>\n",
       "      <td>3</td>\n",
       "      <td>1</td>\n",
       "      <td>3</td>\n",
       "      <td>12</td>\n",
       "      <td>96.0</td>\n",
       "      <td>64.0</td>\n",
       "      <td>69.0</td>\n",
       "      <td>34.0</td>\n",
       "      <td>47.6</td>\n",
       "    </tr>\n",
       "    <tr>\n",
       "      <th>2018-03-01 13:00:00</th>\n",
       "      <td>32</td>\n",
       "      <td>3</td>\n",
       "      <td>1</td>\n",
       "      <td>3</td>\n",
       "      <td>13</td>\n",
       "      <td>30.0</td>\n",
       "      <td>96.0</td>\n",
       "      <td>64.0</td>\n",
       "      <td>69.0</td>\n",
       "      <td>43.5</td>\n",
       "    </tr>\n",
       "    <tr>\n",
       "      <th>2018-03-01 14:00:00</th>\n",
       "      <td>48</td>\n",
       "      <td>3</td>\n",
       "      <td>1</td>\n",
       "      <td>3</td>\n",
       "      <td>14</td>\n",
       "      <td>32.0</td>\n",
       "      <td>30.0</td>\n",
       "      <td>96.0</td>\n",
       "      <td>64.0</td>\n",
       "      <td>40.1</td>\n",
       "    </tr>\n",
       "  </tbody>\n",
       "</table>\n",
       "</div>"
      ],
      "text/plain": [
       "                     num_orders  month  day  dayofweek  hour  lag_1  lag_2  \\\n",
       "datetime                                                                     \n",
       "2018-03-01 10:00:00          64      3    1          3    10   69.0   34.0   \n",
       "2018-03-01 11:00:00          96      3    1          3    11   64.0   69.0   \n",
       "2018-03-01 12:00:00          30      3    1          3    12   96.0   64.0   \n",
       "2018-03-01 13:00:00          32      3    1          3    13   30.0   96.0   \n",
       "2018-03-01 14:00:00          48      3    1          3    14   32.0   30.0   \n",
       "\n",
       "                     lag_3  lag_4  rolling_mean  \n",
       "datetime                                         \n",
       "2018-03-01 10:00:00   15.0   12.0          52.5  \n",
       "2018-03-01 11:00:00   34.0   15.0          46.5  \n",
       "2018-03-01 12:00:00   69.0   34.0          47.6  \n",
       "2018-03-01 13:00:00   64.0   69.0          43.5  \n",
       "2018-03-01 14:00:00   96.0   64.0          40.1  "
      ]
     },
     "execution_count": 16,
     "metadata": {},
     "output_type": "execute_result"
    }
   ],
   "source": [
    "def make_features(data, max_lag=4, rolling_mean_size=10):\n",
    "    data['month'] = data.index.month\n",
    "    data['day'] = data.index.day\n",
    "    data['dayofweek'] = data.index.dayofweek\n",
    "    data['hour'] = data.index.hour\n",
    "\n",
    "    for lag in range(1, max_lag + 1):\n",
    "        data['lag_{}'.format(lag)] = data['num_orders'].shift(lag)\n",
    "        \n",
    "    data['rolling_mean'] = data['num_orders'].shift().rolling(rolling_mean_size).mean()\n",
    "\n",
    "\n",
    "make_features(data)\n",
    "data = data.dropna()\n",
    "print(data.shape)\n",
    "data.head()"
   ]
  },
  {
   "cell_type": "markdown",
   "metadata": {},
   "source": [
    "Selanjutnya dilakukan pemisahan data dengan rasio 70% untuk training, 20% untuk valid, dan sisanya untuk dataset test."
   ]
  },
  {
   "cell_type": "code",
   "execution_count": 51,
   "metadata": {
    "scrolled": true
   },
   "outputs": [
    {
     "name": "stdout",
     "output_type": "stream",
     "text": [
      "2018-03-19 18:00:00 2018-07-26 14:00:00\n",
      "(3093, 10)\n",
      "Dataset dibagi train menjadi 0.70\n",
      "2018-07-26 15:00:00 2018-08-31 23:00:00\n",
      "(873, 10)\n",
      "Dataset dibagi valid menjadi 0.20\n",
      "2018-03-01 10:00:00 2018-03-19 17:00:00\n",
      "(440, 10)\n",
      "Dataset dibagi test menjadi 0.10\n"
     ]
    }
   ],
   "source": [
    "from sklearn.model_selection import train_test_split\n",
    "\n",
    "test, sisa = train_test_split(data, shuffle=False, train_size=0.1)\n",
    "train, valid = train_test_split(sisa, shuffle=False, train_size=0.78)\n",
    "##Sisa adalah gabungan dari train dan valid\n",
    "print(train.index.min(), train.index.max())\n",
    "print(train.shape)\n",
    "print(f'Dataset dibagi train menjadi {train.shape[0]/data.shape[0]:.2f}')\n",
    "print(valid.index.min(), valid.index.max())\n",
    "print(valid.shape)\n",
    "print(f'Dataset dibagi valid menjadi {valid.shape[0]/data.shape[0]:.2f}')\n",
    "print(test.index.min(), test.index.max())\n",
    "print(test.shape)\n",
    "print(f'Dataset dibagi test menjadi {test.shape[0]/data.shape[0]:.2f}')"
   ]
  },
  {
   "cell_type": "markdown",
   "metadata": {},
   "source": [
    "Selanjutnya mendefinisikan features dan target"
   ]
  },
  {
   "cell_type": "code",
   "execution_count": 18,
   "metadata": {},
   "outputs": [],
   "source": [
    "features_train = train.drop(['num_orders'], axis=1)\n",
    "target_train = train['num_orders']\n",
    "features_valid = valid.drop(['num_orders'], axis=1)\n",
    "target_valid = valid['num_orders']\n",
    "features_test = test.drop(['num_orders'], axis=1)\n",
    "target_test = test['num_orders']"
   ]
  },
  {
   "cell_type": "markdown",
   "metadata": {},
   "source": [
    "Metric yang akan digunakan adalah RMSE"
   ]
  },
  {
   "cell_type": "code",
   "execution_count": 19,
   "metadata": {},
   "outputs": [],
   "source": [
    "from sklearn.metrics import mean_squared_error\n",
    "\n",
    "def rmse(true, pred):\n",
    "    return mean_squared_error(true, pred)**0.5"
   ]
  },
  {
   "cell_type": "markdown",
   "metadata": {},
   "source": [
    "Sanity check dilakukan terlebih dahulu untuk dijadikan baseline."
   ]
  },
  {
   "cell_type": "code",
   "execution_count": 20,
   "metadata": {},
   "outputs": [
    {
     "name": "stdout",
     "output_type": "stream",
     "text": [
      "RMSE dengan data sebelumnya: 29.33257574779276\n",
      "RMSE dengan mean: 35.49626961184421\n"
     ]
    }
   ],
   "source": [
    "pred_previous = test.shift()\n",
    "pred_previous.iloc[0] = train.iloc[-1]\n",
    "print('RMSE dengan data sebelumnya:', rmse(test['num_orders'], pred_previous['num_orders']))\n",
    "pred_mean = np.ones(test['num_orders'].shape) * train['num_orders'].mean()\n",
    "print('RMSE dengan mean:', rmse(test['num_orders'], pred_mean))"
   ]
  },
  {
   "cell_type": "markdown",
   "metadata": {},
   "source": [
    "### Model Regresi Linear"
   ]
  },
  {
   "cell_type": "code",
   "execution_count": 21,
   "metadata": {},
   "outputs": [
    {
     "data": {
      "text/plain": [
       "LinearRegression()"
      ]
     },
     "execution_count": 21,
     "metadata": {},
     "output_type": "execute_result"
    }
   ],
   "source": [
    "from sklearn.linear_model import LinearRegression\n",
    "\n",
    "model = LinearRegression()\n",
    "model.fit(features_train, target_train)"
   ]
  },
  {
   "cell_type": "code",
   "execution_count": 22,
   "metadata": {},
   "outputs": [],
   "source": [
    "pred_train = model.predict(features_train)\n",
    "pred_valid = model.predict(features_valid)"
   ]
  },
  {
   "cell_type": "code",
   "execution_count": 23,
   "metadata": {
    "scrolled": true
   },
   "outputs": [
    {
     "name": "stdout",
     "output_type": "stream",
     "text": [
      "Train RMSE: 29.49942363448474\n",
      "Valid RMSE: 47.62901560531077\n"
     ]
    }
   ],
   "source": [
    "print(\"Train RMSE:\", rmse(target_train, pred_train))\n",
    "print(\"Valid RMSE:\", rmse(target_valid, pred_valid))"
   ]
  },
  {
   "cell_type": "markdown",
   "metadata": {},
   "source": [
    "### LightGBM"
   ]
  },
  {
   "cell_type": "code",
   "execution_count": 24,
   "metadata": {},
   "outputs": [],
   "source": [
    "import lightgbm as lgb"
   ]
  },
  {
   "cell_type": "code",
   "execution_count": 25,
   "metadata": {},
   "outputs": [
    {
     "name": "stdout",
     "output_type": "stream",
     "text": [
      "Estimators: 100\n",
      "Train RMSE 13.386169525570608\n",
      "Valid RMSE: 45.62549710303614\n",
      "Estimators: 250\n",
      "Train RMSE 8.717110243262425\n",
      "Valid RMSE: 46.615335606027145\n",
      "Estimators: 500\n",
      "Train RMSE 4.909544937612653\n",
      "Valid RMSE: 46.92151423712726\n",
      "Estimators: 750\n",
      "Train RMSE 2.928342854582913\n",
      "Valid RMSE: 46.89148139161372\n",
      "Estimators: 1000\n",
      "Train RMSE 1.8634819592418848\n",
      "Valid RMSE: 46.91944468064785\n"
     ]
    }
   ],
   "source": [
    "for i in [100,250,500,750, 1000]:\n",
    "    model = lgb.LGBMRegressor(n_estimators=i, random_state=1, objective='rmse')\n",
    "    model.fit(features_train, target_train)\n",
    "    pred_train = model.predict(features_train)\n",
    "    pred_valid = model.predict(features_valid)\n",
    "    print(\"Estimators:\", i)\n",
    "    print('Train RMSE',rmse(target_train, pred_train))\n",
    "    print('Valid RMSE:', rmse(target_valid, pred_valid))"
   ]
  },
  {
   "cell_type": "markdown",
   "metadata": {},
   "source": [
    "Nilai train RMSE nya terlalu jauh dengan valid RMSE, hal ini menandakan adanya overfitting, sehingga selanjutnya dilakukan tuning pada learning ratenya."
   ]
  },
  {
   "cell_type": "code",
   "execution_count": 26,
   "metadata": {},
   "outputs": [
    {
     "name": "stdout",
     "output_type": "stream",
     "text": [
      "Estimators: 100\n",
      "Train RMSE: 23.69247219589766\n",
      "Valid RMSE: 55.89818247279005\n",
      "Estimators: 250\n",
      "Train RMSE: 19.002397919443556\n",
      "Valid RMSE: 48.28922813769986\n",
      "Estimators: 500\n",
      "Train RMSE: 16.34224502123891\n",
      "Valid RMSE: 45.74269119298876\n",
      "Estimators: 750\n",
      "Train RMSE: 14.731909828524794\n",
      "Valid RMSE: 45.48258180197146\n",
      "Estimators: 1000\n",
      "Train RMSE: 13.521673519194206\n",
      "Valid RMSE: 45.56922282841021\n"
     ]
    }
   ],
   "source": [
    "for i in [100,250,500,750, 1000]:\n",
    "    model = lgb.LGBMRegressor(n_estimators=i,learning_rate=0.01, random_state=1, objective='rmse')\n",
    "    model.fit(features_train, target_train)\n",
    "    pred_train = model.predict(features_train)\n",
    "    pred_valid = model.predict(features_valid)\n",
    "    print(\"Estimators:\", i)\n",
    "    print(\"Train RMSE:\", rmse(target_train, pred_train))\n",
    "    print(\"Valid RMSE:\", rmse(target_valid, pred_valid)) "
   ]
  },
  {
   "cell_type": "markdown",
   "metadata": {},
   "source": [
    "Didapatkan bahwa n_estimator 1000 dengan learning rate 0.01 mendapatkan nilai rmse yang paling baik. Namun estimator masih bisa ditingkatkan."
   ]
  },
  {
   "cell_type": "code",
   "execution_count": 27,
   "metadata": {},
   "outputs": [
    {
     "name": "stdout",
     "output_type": "stream",
     "text": [
      "Estimators: 100\n",
      "Train RMSE: 23.69247219589766\n",
      "Valid RMSE: 55.89818247279005\n",
      "Estimators: 250\n",
      "Train RMSE: 19.002397919443556\n",
      "Valid RMSE: 48.28922813769986\n",
      "Estimators: 500\n",
      "Train RMSE: 16.34224502123891\n",
      "Valid RMSE: 45.74269119298876\n",
      "Estimators: 750\n",
      "Train RMSE: 14.731909828524794\n",
      "Valid RMSE: 45.48258180197146\n",
      "Estimators: 1000\n",
      "Train RMSE: 13.521673519194206\n",
      "Valid RMSE: 45.56922282841021\n",
      "Estimators: 1500\n",
      "Train RMSE: 11.54335429444551\n",
      "Valid RMSE: 46.053437785826745\n",
      "Estimators: 2000\n",
      "Train RMSE: 10.03609747588255\n",
      "Valid RMSE: 46.26592465384159\n"
     ]
    }
   ],
   "source": [
    "for i in [100,250,500,750, 1000, 1500, 2000]:\n",
    "    model = lgb.LGBMRegressor(n_estimators=i,learning_rate=0.01, random_state=1, objective='rmse')\n",
    "    model.fit(features_train, target_train)\n",
    "    pred_train = model.predict(features_train)\n",
    "    pred_valid = model.predict(features_valid)\n",
    "    print(\"Estimators:\", i)\n",
    "    print(\"Train RMSE:\", rmse(target_train, pred_train))\n",
    "    print(\"Valid RMSE:\", rmse(target_valid, pred_valid)) "
   ]
  },
  {
   "cell_type": "markdown",
   "metadata": {},
   "source": [
    "Nilai maksimum Valid RMSE terbaik didapatkan saat estimator di 1000, berarti difix kan bahwa estimator yang akan dipakai adalah 1000, selanjutnya tuning learning rate."
   ]
  },
  {
   "cell_type": "code",
   "execution_count": 28,
   "metadata": {},
   "outputs": [
    {
     "name": "stdout",
     "output_type": "stream",
     "text": [
      "Learning Rate: 0.005\n",
      "Train RMSE: 16.35543567817773\n",
      "Valid RMSE: 45.89720009360671\n",
      "Learning Rate: 0.01\n",
      "Train RMSE: 13.521673519194206\n",
      "Valid RMSE: 45.56922282841021\n",
      "Learning Rate: 0.05\n",
      "Train RMSE: 5.041141188665493\n",
      "Valid RMSE: 47.17006569007668\n",
      "Learning Rate: 0.1\n",
      "Train RMSE: 1.8634819592418848\n",
      "Valid RMSE: 46.91944468064785\n"
     ]
    }
   ],
   "source": [
    "for i in [0.005,0.01,0.05,0.1]:\n",
    "    model = lgb.LGBMRegressor(n_estimators=1000,learning_rate=i, random_state=1, objective='rmse')\n",
    "    model.fit(features_train, target_train)\n",
    "    pred_train = model.predict(features_train)\n",
    "    pred_valid = model.predict(features_valid)\n",
    "    print(\"Learning Rate:\", i)\n",
    "    print(\"Train RMSE:\", rmse(target_train, pred_train))\n",
    "    print(\"Valid RMSE:\", rmse(target_valid, pred_valid)) "
   ]
  },
  {
   "cell_type": "markdown",
   "metadata": {},
   "source": [
    "Learning Rate 0.01 menjadi yang terbaik."
   ]
  },
  {
   "cell_type": "markdown",
   "metadata": {},
   "source": [
    "Hyperparameter yang digunakan adalah 1000 estimator dengan learning rate sebesar 0.01."
   ]
  },
  {
   "cell_type": "markdown",
   "metadata": {},
   "source": [
    "### CatBoost"
   ]
  },
  {
   "cell_type": "code",
   "execution_count": 29,
   "metadata": {},
   "outputs": [],
   "source": [
    "from catboost import CatBoostRegressor"
   ]
  },
  {
   "cell_type": "code",
   "execution_count": 30,
   "metadata": {},
   "outputs": [
    {
     "name": "stdout",
     "output_type": "stream",
     "text": [
      "Estimators: 100\n",
      "Learning Rate: 0.005\n",
      "Train RMSE: 29.958615110270294\n",
      "Valid RMSE: 65.33044306392969\n",
      "Estimators: 100\n",
      "Learning Rate: 0.01\n",
      "Train RMSE: 26.902000286135983\n",
      "Valid RMSE: 60.52514625568178\n",
      "Estimators: 100\n",
      "Learning Rate: 0.05\n",
      "Train RMSE: 20.891814640983334\n",
      "Valid RMSE: 48.56995738586398\n",
      "Estimators: 100\n",
      "Learning Rate: 0.1\n",
      "Train RMSE: 18.892486469274996\n",
      "Valid RMSE: 47.18752830144062\n",
      "Estimators: 250\n",
      "Learning Rate: 0.005\n",
      "Train RMSE: 25.904596812452603\n",
      "Valid RMSE: 58.55757762335717\n",
      "Estimators: 250\n",
      "Learning Rate: 0.01\n",
      "Train RMSE: 23.090406224725722\n",
      "Valid RMSE: 52.87518738206717\n",
      "Estimators: 250\n",
      "Learning Rate: 0.05\n",
      "Train RMSE: 18.091682478113565\n",
      "Valid RMSE: 46.015292716007146\n",
      "Estimators: 250\n",
      "Learning Rate: 0.1\n",
      "Train RMSE: 15.39175312485899\n",
      "Valid RMSE: 46.9167953152107\n",
      "Estimators: 500\n",
      "Learning Rate: 0.005\n",
      "Train RMSE: 23.13791146613296\n",
      "Valid RMSE: 52.83777704130401\n",
      "Estimators: 500\n",
      "Learning Rate: 0.01\n",
      "Train RMSE: 20.878770463094728\n",
      "Valid RMSE: 48.61322147850758\n",
      "Estimators: 500\n",
      "Learning Rate: 0.05\n",
      "Train RMSE: 15.329903333383013\n",
      "Valid RMSE: 46.09577543376699\n",
      "Estimators: 500\n",
      "Learning Rate: 0.1\n",
      "Train RMSE: 12.064055801996336\n",
      "Valid RMSE: 47.09796665049601\n",
      "Estimators: 750\n",
      "Learning Rate: 0.005\n",
      "Train RMSE: 21.805214085166686\n",
      "Valid RMSE: 50.08107522746218\n",
      "Estimators: 750\n",
      "Learning Rate: 0.01\n",
      "Train RMSE: 19.694681173080255\n",
      "Valid RMSE: 47.03137780759511\n",
      "Estimators: 750\n",
      "Learning Rate: 0.05\n",
      "Train RMSE: 13.508476304469301\n",
      "Valid RMSE: 46.06957957499203\n",
      "Estimators: 750\n",
      "Learning Rate: 0.1\n",
      "Train RMSE: 9.917707831547483\n",
      "Valid RMSE: 47.25615298002499\n",
      "Estimators: 1000\n",
      "Learning Rate: 0.005\n",
      "Train RMSE: 20.920924859184392\n",
      "Valid RMSE: 48.53768124311724\n",
      "Estimators: 1000\n",
      "Learning Rate: 0.01\n",
      "Train RMSE: 18.77551976244315\n",
      "Valid RMSE: 46.40138037902671\n",
      "Estimators: 1000\n",
      "Learning Rate: 0.05\n",
      "Train RMSE: 12.109902256208432\n",
      "Valid RMSE: 46.037453723575574\n",
      "Estimators: 1000\n",
      "Learning Rate: 0.1\n",
      "Train RMSE: 8.435998658280703\n",
      "Valid RMSE: 47.42502196705068\n",
      "Estimators: 1500\n",
      "Learning Rate: 0.005\n",
      "Train RMSE: 19.685001270121496\n",
      "Valid RMSE: 47.008052996554994\n",
      "Estimators: 1500\n",
      "Learning Rate: 0.01\n",
      "Train RMSE: 17.39489336419531\n",
      "Valid RMSE: 45.8565987652848\n",
      "Estimators: 1500\n",
      "Learning Rate: 0.05\n",
      "Train RMSE: 10.038339937846956\n",
      "Valid RMSE: 46.20907255661803\n",
      "Estimators: 1500\n",
      "Learning Rate: 0.1\n",
      "Train RMSE: 6.104804409730452\n",
      "Valid RMSE: 47.57531491324766\n",
      "Estimators: 2000\n",
      "Learning Rate: 0.005\n",
      "Train RMSE: 18.772981702913516\n",
      "Valid RMSE: 46.30736349037268\n",
      "Estimators: 2000\n",
      "Learning Rate: 0.01\n",
      "Train RMSE: 16.24964714469395\n",
      "Valid RMSE: 45.80739001024282\n",
      "Estimators: 2000\n",
      "Learning Rate: 0.05\n",
      "Train RMSE: 8.43691530821911\n",
      "Valid RMSE: 46.34245679988776\n",
      "Estimators: 2000\n",
      "Learning Rate: 0.1\n",
      "Train RMSE: 4.542089833788833\n",
      "Valid RMSE: 47.63638676081983\n"
     ]
    }
   ],
   "source": [
    "for i in [100, 250, 500, 750, 1000, 1500, 2000]:\n",
    "    for j in [0.005,0.01,0.05,0.1]:\n",
    "        model = CatBoostRegressor(n_estimators=i, learning_rate = j, random_state=1, verbose=False)\n",
    "        model.fit(features_train, target_train)\n",
    "        pred_train = model.predict(features_train)\n",
    "        pred_valid = model.predict(features_valid)\n",
    "        print(\"Estimators:\", i)\n",
    "        print('Learning Rate:', j)\n",
    "        print(\"Train RMSE:\", rmse(target_train, pred_train))\n",
    "        print(\"Valid RMSE:\", rmse(target_valid, pred_valid)) "
   ]
  },
  {
   "cell_type": "markdown",
   "metadata": {},
   "source": [
    "Karena terlihat bahwa model mengalami overfitting, maka dilakukan tuning terhadap learning rate."
   ]
  },
  {
   "cell_type": "markdown",
   "metadata": {},
   "source": [
    "Hyperparameter yang akan digunakan adalah 1000 estimator dengan learning rate sebesar 0,01."
   ]
  },
  {
   "cell_type": "markdown",
   "metadata": {},
   "source": [
    "### Model XGBoost"
   ]
  },
  {
   "cell_type": "code",
   "execution_count": 31,
   "metadata": {},
   "outputs": [
    {
     "name": "stdout",
     "output_type": "stream",
     "text": [
      "[21:07:22] WARNING: ../src/objective/regression_obj.cu:188: reg:linear is now deprecated in favor of reg:squarederror.\n",
      "Estimators: 100\n",
      "Train RMSE: 37.06289400829774\n",
      "Valid RMSE: 78.448862803988\n",
      "[21:07:24] WARNING: ../src/objective/regression_obj.cu:188: reg:linear is now deprecated in favor of reg:squarederror.\n",
      "Estimators: 250\n",
      "Train RMSE: 19.531646933243888\n",
      "Valid RMSE: 53.64977119031004\n",
      "[21:07:29] WARNING: ../src/objective/regression_obj.cu:188: reg:linear is now deprecated in favor of reg:squarederror.\n",
      "Estimators: 500\n",
      "Train RMSE: 15.142756462225925\n",
      "Valid RMSE: 47.21388622252618\n",
      "[21:07:38] WARNING: ../src/objective/regression_obj.cu:188: reg:linear is now deprecated in favor of reg:squarederror.\n",
      "Estimators: 750\n",
      "Train RMSE: 13.630582406356805\n",
      "Valid RMSE: 46.45619781492701\n",
      "[21:07:52] WARNING: ../src/objective/regression_obj.cu:188: reg:linear is now deprecated in favor of reg:squarederror.\n",
      "Estimators: 1000\n",
      "Train RMSE: 12.394498752622054\n",
      "Valid RMSE: 46.5192977802421\n",
      "[21:08:11] WARNING: ../src/objective/regression_obj.cu:188: reg:linear is now deprecated in favor of reg:squarederror.\n",
      "Estimators: 1500\n",
      "Train RMSE: 10.327921291823658\n",
      "Valid RMSE: 46.52432067447065\n",
      "[21:08:39] WARNING: ../src/objective/regression_obj.cu:188: reg:linear is now deprecated in favor of reg:squarederror.\n",
      "Estimators: 2000\n",
      "Train RMSE: 9.008754489502454\n",
      "Valid RMSE: 46.37051716586317\n"
     ]
    }
   ],
   "source": [
    "import xgboost as xg\n",
    "\n",
    "for i in [100, 250, 500, 750, 1000, 1500, 2000]:\n",
    "    model = xg.XGBRegressor(objective ='reg:linear',n_estimators = i, seed = 123, learning_rate=0.01)\n",
    "    model.fit(features_train, target_train)\n",
    "    pred_train = model.predict(features_train)\n",
    "    pred_valid = model.predict(features_valid)\n",
    "    print(\"Estimators:\", i)\n",
    "    print(\"Train RMSE:\", rmse(target_train, pred_train))\n",
    "    print(\"Valid RMSE:\", rmse(target_valid, pred_valid))"
   ]
  },
  {
   "cell_type": "markdown",
   "metadata": {},
   "source": [
    "Dengan mempertimbangkan train RMSE dengan Valid RMSE, dan model lain, maka estimator dan learning rate akan disamakan menjadi 1000 estimator dengan learning rate 0,01."
   ]
  },
  {
   "cell_type": "markdown",
   "metadata": {},
   "source": [
    "### Random Forest Regressor"
   ]
  },
  {
   "cell_type": "code",
   "execution_count": 32,
   "metadata": {},
   "outputs": [],
   "source": [
    "from sklearn.ensemble import RandomForestRegressor"
   ]
  },
  {
   "cell_type": "code",
   "execution_count": 33,
   "metadata": {},
   "outputs": [
    {
     "name": "stdout",
     "output_type": "stream",
     "text": [
      "Depth: 1\n",
      "Estimator: 50\n",
      "Train RMSE: 31.933932280195716\n",
      "Valid RMSE: 65.9882353403216\n",
      "Depth: 1\n",
      "Estimator: 100\n",
      "Train RMSE: 31.887179148821936\n",
      "Valid RMSE: 66.03003697255046\n",
      "Depth: 1\n",
      "Estimator: 150\n",
      "Train RMSE: 31.90323930128242\n",
      "Valid RMSE: 65.75021591882103\n",
      "Depth: 1\n",
      "Estimator: 200\n",
      "Train RMSE: 31.903312078776008\n",
      "Valid RMSE: 65.77282509620645\n",
      "Depth: 1\n",
      "Estimator: 250\n",
      "Train RMSE: 31.886567494125757\n",
      "Valid RMSE: 65.83708592680418\n",
      "Depth: 2\n",
      "Estimator: 50\n",
      "Train RMSE: 28.701103371351312\n",
      "Valid RMSE: 64.00970327616815\n",
      "Depth: 2\n",
      "Estimator: 100\n",
      "Train RMSE: 28.7135033645213\n",
      "Valid RMSE: 64.1732550379808\n",
      "Depth: 2\n",
      "Estimator: 150\n",
      "Train RMSE: 28.746885589176493\n",
      "Valid RMSE: 63.83714951480059\n",
      "Depth: 2\n",
      "Estimator: 200\n",
      "Train RMSE: 28.73823716106231\n",
      "Valid RMSE: 63.917508075895995\n",
      "Depth: 2\n",
      "Estimator: 250\n",
      "Train RMSE: 28.68534416968366\n",
      "Valid RMSE: 63.769994764589455\n",
      "Depth: 4\n",
      "Estimator: 50\n",
      "Train RMSE: 24.776359167703063\n",
      "Valid RMSE: 56.01609649255276\n",
      "Depth: 4\n",
      "Estimator: 100\n",
      "Train RMSE: 24.849937592468976\n",
      "Valid RMSE: 56.0540115074303\n",
      "Depth: 4\n",
      "Estimator: 150\n",
      "Train RMSE: 24.863441448695877\n",
      "Valid RMSE: 56.150041667603354\n",
      "Depth: 4\n",
      "Estimator: 200\n",
      "Train RMSE: 24.872241848526375\n",
      "Valid RMSE: 56.54290420574134\n",
      "Depth: 4\n",
      "Estimator: 250\n",
      "Train RMSE: 24.854221250733985\n",
      "Valid RMSE: 56.39453966886111\n",
      "Depth: 6\n",
      "Estimator: 50\n",
      "Train RMSE: 20.891005879953635\n",
      "Valid RMSE: 49.39956690423789\n",
      "Depth: 6\n",
      "Estimator: 100\n",
      "Train RMSE: 20.80566157138602\n",
      "Valid RMSE: 49.33665985054024\n",
      "Depth: 6\n",
      "Estimator: 150\n",
      "Train RMSE: 20.81378061869779\n",
      "Valid RMSE: 49.95421100683438\n",
      "Depth: 6\n",
      "Estimator: 200\n",
      "Train RMSE: 20.78165876959645\n",
      "Valid RMSE: 49.77274298339876\n",
      "Depth: 6\n",
      "Estimator: 250\n",
      "Train RMSE: 20.78336254358441\n",
      "Valid RMSE: 49.643860658993006\n",
      "Depth: 8\n",
      "Estimator: 50\n",
      "Train RMSE: 17.21374888212344\n",
      "Valid RMSE: 46.33797704804224\n",
      "Depth: 8\n",
      "Estimator: 100\n",
      "Train RMSE: 17.21407206435552\n",
      "Valid RMSE: 46.74951075977163\n",
      "Depth: 8\n",
      "Estimator: 150\n",
      "Train RMSE: 17.301136660289302\n",
      "Valid RMSE: 46.84824584068706\n",
      "Depth: 8\n",
      "Estimator: 200\n",
      "Train RMSE: 17.259507425717054\n",
      "Valid RMSE: 47.05549145450372\n",
      "Depth: 8\n",
      "Estimator: 250\n",
      "Train RMSE: 17.308677425262722\n",
      "Valid RMSE: 46.68380818734828\n",
      "Depth: 10\n",
      "Estimator: 50\n",
      "Train RMSE: 14.011336847550032\n",
      "Valid RMSE: 46.10591757497346\n",
      "Depth: 10\n",
      "Estimator: 100\n",
      "Train RMSE: 13.891551069517872\n",
      "Valid RMSE: 45.56780638763901\n",
      "Depth: 10\n",
      "Estimator: 150\n",
      "Train RMSE: 13.747037989385813\n",
      "Valid RMSE: 44.86240093319892\n",
      "Depth: 10\n",
      "Estimator: 200\n",
      "Train RMSE: 13.832116544411416\n",
      "Valid RMSE: 45.64370513726482\n",
      "Depth: 10\n",
      "Estimator: 250\n",
      "Train RMSE: 13.813155038064462\n",
      "Valid RMSE: 45.62514393244281\n",
      "Depth: None\n",
      "Estimator: 50\n",
      "Train RMSE: 8.06598307871943\n",
      "Valid RMSE: 45.03985410933465\n",
      "Depth: None\n",
      "Estimator: 100\n",
      "Train RMSE: 7.930581591385774\n",
      "Valid RMSE: 44.72152034937631\n",
      "Depth: None\n",
      "Estimator: 150\n",
      "Train RMSE: 7.9589710463796965\n",
      "Valid RMSE: 44.56640166781935\n",
      "Depth: None\n",
      "Estimator: 200\n",
      "Train RMSE: 7.890846666474097\n",
      "Valid RMSE: 45.018652666273766\n",
      "Depth: None\n",
      "Estimator: 250\n",
      "Train RMSE: 7.823292813815365\n",
      "Valid RMSE: 44.81771884382628\n"
     ]
    }
   ],
   "source": [
    "for i in [1, 2, 4, 6, 8, 10, None]:\n",
    "    for n in [50, 100, 150, 200, 250]:\n",
    "        model = RandomForestRegressor(max_depth=i, n_estimators=n)\n",
    "        model.fit(features_train, target_train)\n",
    "\n",
    "        pred_train = model.predict(features_train)\n",
    "        pred_valid = model.predict(features_valid)\n",
    "        print(\"Depth:\", i)\n",
    "        print(\"Estimator:\", n)\n",
    "        print(\"Train RMSE:\", rmse(target_train, pred_train))\n",
    "        print(\"Valid RMSE:\", rmse(target_valid, pred_valid))"
   ]
  },
  {
   "cell_type": "markdown",
   "metadata": {},
   "source": [
    "Didapatkan hyperparameter terbaik adalah Depth None, dengan estimator adalah 150."
   ]
  },
  {
   "cell_type": "markdown",
   "metadata": {},
   "source": [
    "## Pengujian"
   ]
  },
  {
   "cell_type": "markdown",
   "metadata": {},
   "source": [
    "Pengujian akan dilakukan dengan training dari dataset gabungan dari dataset training dan valid karena sampel tes hanya 10% dari dataset sehingga sisanya adalah training."
   ]
  },
  {
   "cell_type": "markdown",
   "metadata": {},
   "source": [
    "Informasi yang mungkin terlewat, variabel sisa adalah dataset pertama kali dipisah menjadi 9:1, sisa dan dataset tes."
   ]
  },
  {
   "cell_type": "code",
   "execution_count": 34,
   "metadata": {},
   "outputs": [],
   "source": [
    "features_sisa = sisa.drop(['num_orders'], axis=1)\n",
    "target_sisa = sisa['num_orders']"
   ]
  },
  {
   "cell_type": "markdown",
   "metadata": {},
   "source": [
    "### Model Regresi Linear"
   ]
  },
  {
   "cell_type": "code",
   "execution_count": 35,
   "metadata": {},
   "outputs": [
    {
     "name": "stdout",
     "output_type": "stream",
     "text": [
      "CPU times: user 8.69 ms, sys: 3.9 ms, total: 12.6 ms\n",
      "Wall time: 28.5 ms\n"
     ]
    },
    {
     "data": {
      "text/plain": [
       "LinearRegression()"
      ]
     },
     "execution_count": 35,
     "metadata": {},
     "output_type": "execute_result"
    }
   ],
   "source": [
    "%%time\n",
    "\n",
    "from sklearn.linear_model import LinearRegression\n",
    "\n",
    "model = LinearRegression()\n",
    "model.fit(features_sisa, target_sisa)"
   ]
  },
  {
   "cell_type": "code",
   "execution_count": 36,
   "metadata": {},
   "outputs": [
    {
     "name": "stdout",
     "output_type": "stream",
     "text": [
      "CPU times: user 5.49 ms, sys: 3.9 ms, total: 9.4 ms\n",
      "Wall time: 4.39 ms\n"
     ]
    }
   ],
   "source": [
    "%%time\n",
    "\n",
    "pred_test = model.predict(features_test)\n",
    "pred_valid = model.predict(features_valid)"
   ]
  },
  {
   "cell_type": "code",
   "execution_count": 37,
   "metadata": {
    "scrolled": false
   },
   "outputs": [
    {
     "name": "stdout",
     "output_type": "stream",
     "text": [
      "Valid RMSE: 45.62398548010929\n",
      "Test RMSE: 27.635942638669917\n"
     ]
    }
   ],
   "source": [
    "print(\"Valid RMSE:\", rmse(target_valid, pred_valid))\n",
    "print(\"Test RMSE:\", rmse(target_test, pred_test))\n"
   ]
  },
  {
   "cell_type": "markdown",
   "metadata": {},
   "source": [
    "### Model XGBoost"
   ]
  },
  {
   "cell_type": "code",
   "execution_count": 38,
   "metadata": {},
   "outputs": [
    {
     "name": "stdout",
     "output_type": "stream",
     "text": [
      "[21:10:02] WARNING: ../src/objective/regression_obj.cu:188: reg:linear is now deprecated in favor of reg:squarederror.\n",
      "CPU times: user 21 s, sys: 199 ms, total: 21.2 s\n",
      "Wall time: 21.4 s\n"
     ]
    },
    {
     "data": {
      "text/plain": [
       "XGBRegressor(base_score=0.5, booster='gbtree', colsample_bylevel=1,\n",
       "             colsample_bynode=1, colsample_bytree=1, enable_categorical=False,\n",
       "             gamma=0, gpu_id=-1, importance_type=None,\n",
       "             interaction_constraints='', learning_rate=0.01, max_delta_step=0,\n",
       "             max_depth=6, min_child_weight=1, missing=nan,\n",
       "             monotone_constraints='()', n_estimators=1000, n_jobs=4,\n",
       "             num_parallel_tree=1, objective='reg:linear', predictor='auto',\n",
       "             random_state=123, reg_alpha=0, reg_lambda=1, scale_pos_weight=1,\n",
       "             seed=123, subsample=1, tree_method='exact', validate_parameters=1,\n",
       "             verbosity=None)"
      ]
     },
     "execution_count": 38,
     "metadata": {},
     "output_type": "execute_result"
    }
   ],
   "source": [
    "%%time\n",
    "import xgboost as xg\n",
    "\n",
    "model = xg.XGBRegressor(objective ='reg:linear',n_estimators = 1000,learning_rate=0.01, seed = 123)\n",
    "model.fit(features_sisa, target_sisa)"
   ]
  },
  {
   "cell_type": "code",
   "execution_count": 39,
   "metadata": {},
   "outputs": [
    {
     "name": "stdout",
     "output_type": "stream",
     "text": [
      "CPU times: user 86.5 ms, sys: 57 µs, total: 86.6 ms\n",
      "Wall time: 46.3 ms\n"
     ]
    }
   ],
   "source": [
    "%%time\n",
    "pred_test = model.predict(features_test)\n",
    "pred_valid = model.predict(features_valid)"
   ]
  },
  {
   "cell_type": "code",
   "execution_count": 40,
   "metadata": {},
   "outputs": [
    {
     "name": "stdout",
     "output_type": "stream",
     "text": [
      "Valid RMSE: 14.978505896550828\n",
      "Test RMSE: 20.72121505722815\n"
     ]
    }
   ],
   "source": [
    "print(\"Valid RMSE:\", rmse(target_valid, pred_valid))\n",
    "print(\"Test RMSE:\", rmse(target_test, pred_test))\n"
   ]
  },
  {
   "cell_type": "markdown",
   "metadata": {},
   "source": [
    "### Random Forest Regressor"
   ]
  },
  {
   "cell_type": "code",
   "execution_count": 41,
   "metadata": {},
   "outputs": [
    {
     "name": "stdout",
     "output_type": "stream",
     "text": [
      "CPU times: user 2.2 s, sys: 707 µs, total: 2.2 s\n",
      "Wall time: 2.21 s\n"
     ]
    },
    {
     "data": {
      "text/plain": [
       "RandomForestRegressor()"
      ]
     },
     "execution_count": 41,
     "metadata": {},
     "output_type": "execute_result"
    }
   ],
   "source": [
    "%%time\n",
    "model = RandomForestRegressor(max_depth=None, n_estimators=100)\n",
    "model.fit(features_sisa, target_sisa)"
   ]
  },
  {
   "cell_type": "code",
   "execution_count": 42,
   "metadata": {},
   "outputs": [
    {
     "name": "stdout",
     "output_type": "stream",
     "text": [
      "CPU times: user 49.5 ms, sys: 7.71 ms, total: 57.2 ms\n",
      "Wall time: 54.7 ms\n"
     ]
    }
   ],
   "source": [
    "%%time\n",
    "pred_test = model.predict(features_test)\n",
    "pred_valid = model.predict(features_valid)"
   ]
  },
  {
   "cell_type": "code",
   "execution_count": 43,
   "metadata": {},
   "outputs": [
    {
     "name": "stdout",
     "output_type": "stream",
     "text": [
      "Valid RMSE: 12.98270576676318\n",
      "Test RMSE: 21.88956139246617\n"
     ]
    }
   ],
   "source": [
    "print(\"Valid RMSE:\", rmse(target_valid, pred_valid))\n",
    "print(\"Test RMSE:\", rmse(target_test, pred_test))\n"
   ]
  },
  {
   "cell_type": "markdown",
   "metadata": {},
   "source": [
    "Didapatkan hyperparameter terbaik adalah Depth None, dengan estimator adalah 100."
   ]
  },
  {
   "cell_type": "markdown",
   "metadata": {},
   "source": [
    "### LightGBM"
   ]
  },
  {
   "cell_type": "code",
   "execution_count": 44,
   "metadata": {},
   "outputs": [
    {
     "name": "stdout",
     "output_type": "stream",
     "text": [
      "CPU times: user 4.43 s, sys: 99.3 ms, total: 4.53 s\n",
      "Wall time: 4.58 s\n"
     ]
    },
    {
     "data": {
      "text/plain": [
       "LGBMRegressor(learning_rate=0.01, n_estimators=1000, objective='rmse',\n",
       "              random_state=1)"
      ]
     },
     "execution_count": 44,
     "metadata": {},
     "output_type": "execute_result"
    }
   ],
   "source": [
    "%%time\n",
    "model = lgb.LGBMRegressor(n_estimators=1000,learning_rate=0.01, random_state=1, objective='rmse')\n",
    "model.fit(features_sisa, target_sisa)"
   ]
  },
  {
   "cell_type": "code",
   "execution_count": 45,
   "metadata": {},
   "outputs": [
    {
     "name": "stdout",
     "output_type": "stream",
     "text": [
      "CPU times: user 192 ms, sys: 108 µs, total: 192 ms\n",
      "Wall time: 195 ms\n"
     ]
    }
   ],
   "source": [
    "%%time\n",
    "pred_test = model.predict(features_test)\n",
    "pred_valid = model.predict(features_valid)"
   ]
  },
  {
   "cell_type": "code",
   "execution_count": 46,
   "metadata": {},
   "outputs": [
    {
     "name": "stdout",
     "output_type": "stream",
     "text": [
      "Valid RMSE: 18.76309422273764\n",
      "Test RMSE: 20.583412643127772\n"
     ]
    }
   ],
   "source": [
    "print(\"Valid RMSE:\", rmse(target_valid, pred_valid))\n",
    "print(\"Test RMSE:\", rmse(target_test, pred_test))\n"
   ]
  },
  {
   "cell_type": "markdown",
   "metadata": {},
   "source": [
    "### CatBoost"
   ]
  },
  {
   "cell_type": "code",
   "execution_count": 47,
   "metadata": {},
   "outputs": [],
   "source": [
    "from catboost import CatBoostRegressor"
   ]
  },
  {
   "cell_type": "code",
   "execution_count": 48,
   "metadata": {},
   "outputs": [
    {
     "name": "stdout",
     "output_type": "stream",
     "text": [
      "CPU times: user 2.29 s, sys: 4.59 ms, total: 2.29 s\n",
      "Wall time: 2.41 s\n"
     ]
    },
    {
     "data": {
      "text/plain": [
       "<catboost.core.CatBoostRegressor at 0x7fa36c4e91f0>"
      ]
     },
     "execution_count": 48,
     "metadata": {},
     "output_type": "execute_result"
    }
   ],
   "source": [
    "%%time\n",
    "model = CatBoostRegressor(n_estimators=1000, learning_rate = 0.01, random_state=1, verbose=False)\n",
    "model.fit(features_sisa, target_sisa)"
   ]
  },
  {
   "cell_type": "code",
   "execution_count": 49,
   "metadata": {},
   "outputs": [
    {
     "name": "stdout",
     "output_type": "stream",
     "text": [
      "CPU times: user 7.27 ms, sys: 38 µs, total: 7.31 ms\n",
      "Wall time: 6.16 ms\n"
     ]
    }
   ],
   "source": [
    "%%time\n",
    "pred_test = model.predict(features_test)\n",
    "pred_valid = model.predict(features_valid)"
   ]
  },
  {
   "cell_type": "code",
   "execution_count": 50,
   "metadata": {},
   "outputs": [
    {
     "name": "stdout",
     "output_type": "stream",
     "text": [
      "Valid RMSE: 27.276809400507204\n",
      "Test RMSE: 20.384048847295798\n"
     ]
    }
   ],
   "source": [
    "print(\"Valid RMSE:\", rmse(target_valid, pred_valid))\n",
    "print(\"Test RMSE:\", rmse(target_test, pred_test))\n"
   ]
  },
  {
   "cell_type": "markdown",
   "metadata": {},
   "source": [
    "Dengan mempertimbangkan perbedaan RMSE yang didapatkan dari train dan valid, didapatkan hyperparameter terbaik adalah 1000 estimator dengan learning rate sebesar 0,05."
   ]
  },
  {
   "cell_type": "markdown",
   "metadata": {},
   "source": [
    "## Kesimpulan"
   ]
  },
  {
   "cell_type": "markdown",
   "metadata": {},
   "source": [
    "Dari hasil analisa yang telah dilakukan, didapatkan"
   ]
  },
  {
   "cell_type": "markdown",
   "metadata": {},
   "source": [
    "1. Nilai test RMSE selain model dari linear regression memiliki nilai yang hampir mirip yaitu sekitar 20 hingga 21.\n",
    "2. Model yang digunakan semuanya dituning dengan hyperparameter yang sama kecuali random forest. Yaitu iterasi sebanyak 1000 kali dan dengan learning rate sebesar 0.01.\n",
    "3. Jika harus memilih model yang terbaik, maka dalam Project yang dibuat kali ini, LightGBM adalah model yang akan saya pilih, hal ini dikarenakan rmse pada valid dan test tidak berbeda jauh (18 untuk validation data dan 20 untuk test data), ini didasari dengan model yang ditraining dengan sedikit data dari dataset valid memiliki nilai yang \"hampir\" sama dengan hasil prediksi yang sama sekali tidak berhubungan dengan training modelnya."
   ]
  }
 ],
 "metadata": {
  "kernelspec": {
   "display_name": "Python 3 (ipykernel)",
   "language": "python",
   "name": "python3"
  },
  "language_info": {
   "codemirror_mode": {
    "name": "ipython",
    "version": 3
   },
   "file_extension": ".py",
   "mimetype": "text/x-python",
   "name": "python",
   "nbconvert_exporter": "python",
   "pygments_lexer": "ipython3",
   "version": "3.9.13"
  },
  "toc": {
   "base_numbering": 1,
   "nav_menu": {},
   "number_sections": true,
   "sideBar": true,
   "skip_h1_title": true,
   "title_cell": "Table of Contents",
   "title_sidebar": "Contents",
   "toc_cell": false,
   "toc_position": {},
   "toc_section_display": true,
   "toc_window_display": false
  }
 },
 "nbformat": 4,
 "nbformat_minor": 2
}
