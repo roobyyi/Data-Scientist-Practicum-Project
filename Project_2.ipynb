{
  "cells": [
    {
      "cell_type": "markdown",
      "metadata": {
        "id": "view-in-github",
        "colab_type": "text"
      },
      "source": [
        "<a href=\"https://colab.research.google.com/github/roobyyi/Data-Scientist-Practicum-Project/blob/main/Project_2.ipynb\" target=\"_parent\"><img src=\"https://colab.research.google.com/assets/colab-badge.svg\" alt=\"Open In Colab\"/></a>"
      ]
    },
    {
      "cell_type": "markdown",
      "metadata": {
        "id": "7MKNbAHHt0AB"
      },
      "source": [
        "# Menganalisis risiko peminjam gagal membayar\n",
        "\n",
        "Proyek Anda ialah menyiapkan laporan untuk bank bagian kredit. Anda harus mencari tahu pengaruh status perkawinan seorang nasabah dan jumlah anak terhadap probabilitas ketepatan waktu dalam melunasi pinjaman. Bank sudah memiliki beberapa data mengenai kelayakan kredit nasabah.\n",
        "\n",
        "Laporan Anda akan dipertimbangkan pada saat membuat **penilaian kredit** untuk calon nasabah. **Penilaian kredit** digunakan untuk mengevaluasi kemampuan calon peminjam untuk melunasi pinjaman mereka.\n",
        "\n",
        "Langkah pertama yang akan dilakukan adalah mempersiapkan data untuk siap diolah dan dianalisa, dengan cara melihat data yang tersedia apakah ada data yang hilang, duplikat, atau bahkan ada anomali data yang menyebabkan nilai yang tercantum dalam data yang disediakan menjadi tidak logis.\n",
        "\n",
        "Setelah data telah selesai dipersiapkan, Selanjutnya adalah dengan menganalisa data, untuk mengevaluasi kemampuan calon peminjam dengan mencari hubungan tentang status perkawinan nasabah dan jumlah anak.\n",
        "\n",
        "Disini ada dua permasalahan yang harus dihadapi.\n",
        "\n",
        "Permasalahan pertama adalah, apakah semakin banyak jumlah anak akan menurunkan probabilitas nasabah untuk membayar pinjaman tepat waktu? Karena semakin banyak anak tentu saja semakin banyak kebutuhan yang harus dipenuhi seperti jika anak masih bayi harus ada biaya perawatan, jika anak masuk usia sekolah maka harus ada biaya edukasi (sekolah dan semacamnya)\n",
        "\n",
        "Permasalahan kedua adalah, apakah dengan memiliki status berpasangan akan menurunkan probabilitas nasabah untuk membayar pinjaman tepat waktu? Karena ketika memiliki pasangan tentu saja ada biaya yang harus dikeluarkan untuk kebaikan hidup bersama, mungkin seperti membeli rumah yang layak untuk berkeluarga dan membeli mobil untuk transportasi bersama."
      ]
    },
    {
      "cell_type": "markdown",
      "metadata": {
        "toc": true,
        "id": "5JYvNuXYt0AD"
      },
      "source": [
        "<h1>Daftar Isi<span class=\"tocSkip\"></span></h1>\n",
        "<div class=\"toc\"><ul class=\"toc-item\"><li><span><a href=\"#Buka-file-data-dan-baca-informasi-umumnya.\" data-toc-modified-id=\"Buka-file-data-dan-baca-informasi-umumnya.-1\"><span class=\"toc-item-num\">1&nbsp;&nbsp;</span>Buka <em>file</em> data dan baca informasi umumnya.</a></span></li><li><span><a href=\"#Soal-1.-Eksplorasi-Data\" data-toc-modified-id=\"Soal-1.-Eksplorasi-Data-2\"><span class=\"toc-item-num\">2&nbsp;&nbsp;</span>Soal 1. Eksplorasi Data</a></span></li><li><span><a href=\"#Transformasi-data\" data-toc-modified-id=\"Transformasi-data-3\"><span class=\"toc-item-num\">3&nbsp;&nbsp;</span>Transformasi data</a></span><ul class=\"toc-item\"><li><span><a href=\"#Memperbaiki-nilai-yang-hilang-di-total_income\" data-toc-modified-id=\"Memperbaiki-nilai-yang-hilang-di-total_income-3.1\"><span class=\"toc-item-num\">3.1&nbsp;&nbsp;</span>Memperbaiki nilai yang hilang di <code>total_income</code></a></span></li><li><span><a href=\"#Memperbaiki-nilai-di-days_employed\" data-toc-modified-id=\"Memperbaiki-nilai-di-days_employed-3.2\"><span class=\"toc-item-num\">3.2&nbsp;&nbsp;</span>Memperbaiki nilai di <code>days_employed</code></a></span></li></ul></li><li><span><a href=\"#Pengkategorian-Data\" data-toc-modified-id=\"Pengkategorian-Data-4\"><span class=\"toc-item-num\">4&nbsp;&nbsp;</span>Pengkategorian Data</a></span></li><li><span><a href=\"#Memeriksa-Hipotesis\" data-toc-modified-id=\"Memeriksa-Hipotesis-5\"><span class=\"toc-item-num\">5&nbsp;&nbsp;</span>Memeriksa Hipotesis</a></span></li></ul></div>"
      ]
    },
    {
      "cell_type": "markdown",
      "metadata": {
        "id": "_aCOzunDt0AH"
      },
      "source": [
        "## Buka *file* data dan baca informasi umumnya. "
      ]
    },
    {
      "cell_type": "code",
      "execution_count": 1,
      "metadata": {
        "scrolled": true,
        "id": "5MNSKOOOt0AH"
      },
      "outputs": [],
      "source": [
        "# Memuat semua perpustakaan\n",
        "import pandas as pd\n",
        "import seaborn as sb\n",
        "import numpy as np"
      ]
    },
    {
      "cell_type": "code",
      "execution_count": 2,
      "metadata": {
        "colab": {
          "base_uri": "https://localhost:8080/",
          "height": 206
        },
        "id": "IE8pEvHOt0AI",
        "outputId": "b3090064-03eb-4bf6-8182-bb18e81f62d3"
      },
      "outputs": [
        {
          "output_type": "execute_result",
          "data": {
            "text/plain": [
              "   children  days_employed  dob_years            education  education_id  \\\n",
              "0         1   -8437.673028         42    bachelor's degree             0   \n",
              "1         1   -4024.803754         36  secondary education             1   \n",
              "2         0   -5623.422610         33  Secondary Education             1   \n",
              "3         3   -4124.747207         32  secondary education             1   \n",
              "4         0  340266.072047         53  secondary education             1   \n",
              "\n",
              "       family_status  family_status_id gender income_type  debt  total_income  \\\n",
              "0            married                 0      F    employee     0     40620.102   \n",
              "1            married                 0      F    employee     0     17932.802   \n",
              "2            married                 0      M    employee     0     23341.752   \n",
              "3            married                 0      M    employee     0     42820.568   \n",
              "4  civil partnership                 1      F     retiree     0     25378.572   \n",
              "\n",
              "                   purpose  \n",
              "0    purchase of the house  \n",
              "1             car purchase  \n",
              "2    purchase of the house  \n",
              "3  supplementary education  \n",
              "4        to have a wedding  "
            ],
            "text/html": [
              "\n",
              "  <div id=\"df-e114f456-24e6-49c4-9b9f-96abcbea1761\">\n",
              "    <div class=\"colab-df-container\">\n",
              "      <div>\n",
              "<style scoped>\n",
              "    .dataframe tbody tr th:only-of-type {\n",
              "        vertical-align: middle;\n",
              "    }\n",
              "\n",
              "    .dataframe tbody tr th {\n",
              "        vertical-align: top;\n",
              "    }\n",
              "\n",
              "    .dataframe thead th {\n",
              "        text-align: right;\n",
              "    }\n",
              "</style>\n",
              "<table border=\"1\" class=\"dataframe\">\n",
              "  <thead>\n",
              "    <tr style=\"text-align: right;\">\n",
              "      <th></th>\n",
              "      <th>children</th>\n",
              "      <th>days_employed</th>\n",
              "      <th>dob_years</th>\n",
              "      <th>education</th>\n",
              "      <th>education_id</th>\n",
              "      <th>family_status</th>\n",
              "      <th>family_status_id</th>\n",
              "      <th>gender</th>\n",
              "      <th>income_type</th>\n",
              "      <th>debt</th>\n",
              "      <th>total_income</th>\n",
              "      <th>purpose</th>\n",
              "    </tr>\n",
              "  </thead>\n",
              "  <tbody>\n",
              "    <tr>\n",
              "      <th>0</th>\n",
              "      <td>1</td>\n",
              "      <td>-8437.673028</td>\n",
              "      <td>42</td>\n",
              "      <td>bachelor's degree</td>\n",
              "      <td>0</td>\n",
              "      <td>married</td>\n",
              "      <td>0</td>\n",
              "      <td>F</td>\n",
              "      <td>employee</td>\n",
              "      <td>0</td>\n",
              "      <td>40620.102</td>\n",
              "      <td>purchase of the house</td>\n",
              "    </tr>\n",
              "    <tr>\n",
              "      <th>1</th>\n",
              "      <td>1</td>\n",
              "      <td>-4024.803754</td>\n",
              "      <td>36</td>\n",
              "      <td>secondary education</td>\n",
              "      <td>1</td>\n",
              "      <td>married</td>\n",
              "      <td>0</td>\n",
              "      <td>F</td>\n",
              "      <td>employee</td>\n",
              "      <td>0</td>\n",
              "      <td>17932.802</td>\n",
              "      <td>car purchase</td>\n",
              "    </tr>\n",
              "    <tr>\n",
              "      <th>2</th>\n",
              "      <td>0</td>\n",
              "      <td>-5623.422610</td>\n",
              "      <td>33</td>\n",
              "      <td>Secondary Education</td>\n",
              "      <td>1</td>\n",
              "      <td>married</td>\n",
              "      <td>0</td>\n",
              "      <td>M</td>\n",
              "      <td>employee</td>\n",
              "      <td>0</td>\n",
              "      <td>23341.752</td>\n",
              "      <td>purchase of the house</td>\n",
              "    </tr>\n",
              "    <tr>\n",
              "      <th>3</th>\n",
              "      <td>3</td>\n",
              "      <td>-4124.747207</td>\n",
              "      <td>32</td>\n",
              "      <td>secondary education</td>\n",
              "      <td>1</td>\n",
              "      <td>married</td>\n",
              "      <td>0</td>\n",
              "      <td>M</td>\n",
              "      <td>employee</td>\n",
              "      <td>0</td>\n",
              "      <td>42820.568</td>\n",
              "      <td>supplementary education</td>\n",
              "    </tr>\n",
              "    <tr>\n",
              "      <th>4</th>\n",
              "      <td>0</td>\n",
              "      <td>340266.072047</td>\n",
              "      <td>53</td>\n",
              "      <td>secondary education</td>\n",
              "      <td>1</td>\n",
              "      <td>civil partnership</td>\n",
              "      <td>1</td>\n",
              "      <td>F</td>\n",
              "      <td>retiree</td>\n",
              "      <td>0</td>\n",
              "      <td>25378.572</td>\n",
              "      <td>to have a wedding</td>\n",
              "    </tr>\n",
              "  </tbody>\n",
              "</table>\n",
              "</div>\n",
              "      <button class=\"colab-df-convert\" onclick=\"convertToInteractive('df-e114f456-24e6-49c4-9b9f-96abcbea1761')\"\n",
              "              title=\"Convert this dataframe to an interactive table.\"\n",
              "              style=\"display:none;\">\n",
              "        \n",
              "  <svg xmlns=\"http://www.w3.org/2000/svg\" height=\"24px\"viewBox=\"0 0 24 24\"\n",
              "       width=\"24px\">\n",
              "    <path d=\"M0 0h24v24H0V0z\" fill=\"none\"/>\n",
              "    <path d=\"M18.56 5.44l.94 2.06.94-2.06 2.06-.94-2.06-.94-.94-2.06-.94 2.06-2.06.94zm-11 1L8.5 8.5l.94-2.06 2.06-.94-2.06-.94L8.5 2.5l-.94 2.06-2.06.94zm10 10l.94 2.06.94-2.06 2.06-.94-2.06-.94-.94-2.06-.94 2.06-2.06.94z\"/><path d=\"M17.41 7.96l-1.37-1.37c-.4-.4-.92-.59-1.43-.59-.52 0-1.04.2-1.43.59L10.3 9.45l-7.72 7.72c-.78.78-.78 2.05 0 2.83L4 21.41c.39.39.9.59 1.41.59.51 0 1.02-.2 1.41-.59l7.78-7.78 2.81-2.81c.8-.78.8-2.07 0-2.86zM5.41 20L4 18.59l7.72-7.72 1.47 1.35L5.41 20z\"/>\n",
              "  </svg>\n",
              "      </button>\n",
              "      \n",
              "  <style>\n",
              "    .colab-df-container {\n",
              "      display:flex;\n",
              "      flex-wrap:wrap;\n",
              "      gap: 12px;\n",
              "    }\n",
              "\n",
              "    .colab-df-convert {\n",
              "      background-color: #E8F0FE;\n",
              "      border: none;\n",
              "      border-radius: 50%;\n",
              "      cursor: pointer;\n",
              "      display: none;\n",
              "      fill: #1967D2;\n",
              "      height: 32px;\n",
              "      padding: 0 0 0 0;\n",
              "      width: 32px;\n",
              "    }\n",
              "\n",
              "    .colab-df-convert:hover {\n",
              "      background-color: #E2EBFA;\n",
              "      box-shadow: 0px 1px 2px rgba(60, 64, 67, 0.3), 0px 1px 3px 1px rgba(60, 64, 67, 0.15);\n",
              "      fill: #174EA6;\n",
              "    }\n",
              "\n",
              "    [theme=dark] .colab-df-convert {\n",
              "      background-color: #3B4455;\n",
              "      fill: #D2E3FC;\n",
              "    }\n",
              "\n",
              "    [theme=dark] .colab-df-convert:hover {\n",
              "      background-color: #434B5C;\n",
              "      box-shadow: 0px 1px 3px 1px rgba(0, 0, 0, 0.15);\n",
              "      filter: drop-shadow(0px 1px 2px rgba(0, 0, 0, 0.3));\n",
              "      fill: #FFFFFF;\n",
              "    }\n",
              "  </style>\n",
              "\n",
              "      <script>\n",
              "        const buttonEl =\n",
              "          document.querySelector('#df-e114f456-24e6-49c4-9b9f-96abcbea1761 button.colab-df-convert');\n",
              "        buttonEl.style.display =\n",
              "          google.colab.kernel.accessAllowed ? 'block' : 'none';\n",
              "\n",
              "        async function convertToInteractive(key) {\n",
              "          const element = document.querySelector('#df-e114f456-24e6-49c4-9b9f-96abcbea1761');\n",
              "          const dataTable =\n",
              "            await google.colab.kernel.invokeFunction('convertToInteractive',\n",
              "                                                     [key], {});\n",
              "          if (!dataTable) return;\n",
              "\n",
              "          const docLinkHtml = 'Like what you see? Visit the ' +\n",
              "            '<a target=\"_blank\" href=https://colab.research.google.com/notebooks/data_table.ipynb>data table notebook</a>'\n",
              "            + ' to learn more about interactive tables.';\n",
              "          element.innerHTML = '';\n",
              "          dataTable['output_type'] = 'display_data';\n",
              "          await google.colab.output.renderOutput(dataTable, element);\n",
              "          const docLink = document.createElement('div');\n",
              "          docLink.innerHTML = docLinkHtml;\n",
              "          element.appendChild(docLink);\n",
              "        }\n",
              "      </script>\n",
              "    </div>\n",
              "  </div>\n",
              "  "
            ]
          },
          "metadata": {},
          "execution_count": 2
        }
      ],
      "source": [
        "# muat data\n",
        "credit_score = pd.read_csv('/content/credit_scoring_eng.csv')\n",
        "credit_score.head()"
      ]
    },
    {
      "cell_type": "markdown",
      "metadata": {
        "id": "64PrOl-yt0AK"
      },
      "source": [
        "## Soal 1. Eksplorasi Data\n",
        "\n",
        "**Deskripsi Data**\n",
        "- *`children`* - jumlah anak dalam keluarga\n",
        "- *`days_employed`* - pengalaman kerja dalam hari\n",
        "- *`dob_years`* - usia klien dalam tahun\n",
        "- *`education`* - pendidikan klien\n",
        "- *`education_id`* - tanda pengenal pendidikan\n",
        "- *`family_status`* - status perkawinan\n",
        "- *`family_status_id`* - tanda pengenal status perkawinan\n",
        "- *`gender`* - jenis kelamin klien\n",
        "- *`income_type`* - jenis pekerjaan\n",
        "- *`debt`* - apakah klien memiliki hutang pembayaran pinjaman\n",
        "- *`total_income`* - pendapatan bulanan\n",
        "- *`purpose`* - tujuan mendapatkan pinjaman\n",
        "\n",
        "[Sekarang saatnya mengeksplor data kita. Anda ingin melihat berapa banyak kolom dan baris yang tersedia, lihat beberapa baris untuk memeriksa potensi masalah dengan data.]"
      ]
    },
    {
      "cell_type": "code",
      "execution_count": null,
      "metadata": {
        "scrolled": false,
        "id": "uXtlvf1xt0AK",
        "outputId": "489e58e9-e43e-432e-8e58-cc347add61eb"
      },
      "outputs": [
        {
          "name": "stdout",
          "output_type": "stream",
          "text": [
            "<class 'pandas.core.frame.DataFrame'>\n",
            "RangeIndex: 21525 entries, 0 to 21524\n",
            "Data columns (total 12 columns):\n",
            " #   Column            Non-Null Count  Dtype  \n",
            "---  ------            --------------  -----  \n",
            " 0   children          21525 non-null  int64  \n",
            " 1   days_employed     19351 non-null  float64\n",
            " 2   dob_years         21525 non-null  int64  \n",
            " 3   education         21525 non-null  object \n",
            " 4   education_id      21525 non-null  int64  \n",
            " 5   family_status     21525 non-null  object \n",
            " 6   family_status_id  21525 non-null  int64  \n",
            " 7   gender            21525 non-null  object \n",
            " 8   income_type       21525 non-null  object \n",
            " 9   debt              21525 non-null  int64  \n",
            " 10  total_income      19351 non-null  float64\n",
            " 11  purpose           21525 non-null  object \n",
            "dtypes: float64(2), int64(5), object(5)\n",
            "memory usage: 2.0+ MB\n"
          ]
        },
        {
          "data": {
            "text/html": [
              "<div>\n",
              "<style scoped>\n",
              "    .dataframe tbody tr th:only-of-type {\n",
              "        vertical-align: middle;\n",
              "    }\n",
              "\n",
              "    .dataframe tbody tr th {\n",
              "        vertical-align: top;\n",
              "    }\n",
              "\n",
              "    .dataframe thead th {\n",
              "        text-align: right;\n",
              "    }\n",
              "</style>\n",
              "<table border=\"1\" class=\"dataframe\">\n",
              "  <thead>\n",
              "    <tr style=\"text-align: right;\">\n",
              "      <th></th>\n",
              "      <th>children</th>\n",
              "      <th>days_employed</th>\n",
              "      <th>dob_years</th>\n",
              "      <th>education_id</th>\n",
              "      <th>family_status_id</th>\n",
              "      <th>debt</th>\n",
              "      <th>total_income</th>\n",
              "    </tr>\n",
              "  </thead>\n",
              "  <tbody>\n",
              "    <tr>\n",
              "      <th>count</th>\n",
              "      <td>21525.000000</td>\n",
              "      <td>19351.000000</td>\n",
              "      <td>21525.000000</td>\n",
              "      <td>21525.000000</td>\n",
              "      <td>21525.000000</td>\n",
              "      <td>21525.000000</td>\n",
              "      <td>19351.000000</td>\n",
              "    </tr>\n",
              "    <tr>\n",
              "      <th>mean</th>\n",
              "      <td>0.538908</td>\n",
              "      <td>63046.497661</td>\n",
              "      <td>43.293380</td>\n",
              "      <td>0.817236</td>\n",
              "      <td>0.972544</td>\n",
              "      <td>0.080883</td>\n",
              "      <td>26787.568355</td>\n",
              "    </tr>\n",
              "    <tr>\n",
              "      <th>std</th>\n",
              "      <td>1.381587</td>\n",
              "      <td>140827.311974</td>\n",
              "      <td>12.574584</td>\n",
              "      <td>0.548138</td>\n",
              "      <td>1.420324</td>\n",
              "      <td>0.272661</td>\n",
              "      <td>16475.450632</td>\n",
              "    </tr>\n",
              "    <tr>\n",
              "      <th>min</th>\n",
              "      <td>-1.000000</td>\n",
              "      <td>-18388.949901</td>\n",
              "      <td>0.000000</td>\n",
              "      <td>0.000000</td>\n",
              "      <td>0.000000</td>\n",
              "      <td>0.000000</td>\n",
              "      <td>3306.762000</td>\n",
              "    </tr>\n",
              "    <tr>\n",
              "      <th>25%</th>\n",
              "      <td>0.000000</td>\n",
              "      <td>-2747.423625</td>\n",
              "      <td>33.000000</td>\n",
              "      <td>1.000000</td>\n",
              "      <td>0.000000</td>\n",
              "      <td>0.000000</td>\n",
              "      <td>16488.504500</td>\n",
              "    </tr>\n",
              "    <tr>\n",
              "      <th>50%</th>\n",
              "      <td>0.000000</td>\n",
              "      <td>-1203.369529</td>\n",
              "      <td>42.000000</td>\n",
              "      <td>1.000000</td>\n",
              "      <td>0.000000</td>\n",
              "      <td>0.000000</td>\n",
              "      <td>23202.870000</td>\n",
              "    </tr>\n",
              "    <tr>\n",
              "      <th>75%</th>\n",
              "      <td>1.000000</td>\n",
              "      <td>-291.095954</td>\n",
              "      <td>53.000000</td>\n",
              "      <td>1.000000</td>\n",
              "      <td>1.000000</td>\n",
              "      <td>0.000000</td>\n",
              "      <td>32549.611000</td>\n",
              "    </tr>\n",
              "    <tr>\n",
              "      <th>max</th>\n",
              "      <td>20.000000</td>\n",
              "      <td>401755.400475</td>\n",
              "      <td>75.000000</td>\n",
              "      <td>4.000000</td>\n",
              "      <td>4.000000</td>\n",
              "      <td>1.000000</td>\n",
              "      <td>362496.645000</td>\n",
              "    </tr>\n",
              "  </tbody>\n",
              "</table>\n",
              "</div>"
            ],
            "text/plain": [
              "           children  days_employed     dob_years  education_id  \\\n",
              "count  21525.000000   19351.000000  21525.000000  21525.000000   \n",
              "mean       0.538908   63046.497661     43.293380      0.817236   \n",
              "std        1.381587  140827.311974     12.574584      0.548138   \n",
              "min       -1.000000  -18388.949901      0.000000      0.000000   \n",
              "25%        0.000000   -2747.423625     33.000000      1.000000   \n",
              "50%        0.000000   -1203.369529     42.000000      1.000000   \n",
              "75%        1.000000    -291.095954     53.000000      1.000000   \n",
              "max       20.000000  401755.400475     75.000000      4.000000   \n",
              "\n",
              "       family_status_id          debt   total_income  \n",
              "count      21525.000000  21525.000000   19351.000000  \n",
              "mean           0.972544      0.080883   26787.568355  \n",
              "std            1.420324      0.272661   16475.450632  \n",
              "min            0.000000      0.000000    3306.762000  \n",
              "25%            0.000000      0.000000   16488.504500  \n",
              "50%            0.000000      0.000000   23202.870000  \n",
              "75%            1.000000      0.000000   32549.611000  \n",
              "max            4.000000      1.000000  362496.645000  "
            ]
          },
          "execution_count": 3,
          "metadata": {},
          "output_type": "execute_result"
        }
      ],
      "source": [
        "# Mari kita lihat berapa banyak baris dan kolom yang dimiliki oleh dataset kita\n",
        "credit_score.info()\n",
        "credit_score.describe()\n"
      ]
    },
    {
      "cell_type": "code",
      "execution_count": null,
      "metadata": {
        "scrolled": false,
        "id": "scE_FXtst0AL",
        "outputId": "81775ff5-ca6a-4ea6-a941-1c70d7edf2b0"
      },
      "outputs": [
        {
          "data": {
            "text/plain": [
              "(21525, 12)"
            ]
          },
          "execution_count": 4,
          "metadata": {},
          "output_type": "execute_result"
        }
      ],
      "source": [
        "credit_score.shape"
      ]
    },
    {
      "cell_type": "markdown",
      "metadata": {
        "id": "TjGKQRk6t0AL"
      },
      "source": [
        "Didapatkan bahwa data memiliki 21525 baris dengan 12 kolom"
      ]
    },
    {
      "cell_type": "code",
      "execution_count": null,
      "metadata": {
        "scrolled": true,
        "id": "Kg0mjsebt0AM",
        "outputId": "12e3f294-e269-4a8b-e06d-bb16b262e2b2"
      },
      "outputs": [
        {
          "data": {
            "text/html": [
              "<div>\n",
              "<style scoped>\n",
              "    .dataframe tbody tr th:only-of-type {\n",
              "        vertical-align: middle;\n",
              "    }\n",
              "\n",
              "    .dataframe tbody tr th {\n",
              "        vertical-align: top;\n",
              "    }\n",
              "\n",
              "    .dataframe thead th {\n",
              "        text-align: right;\n",
              "    }\n",
              "</style>\n",
              "<table border=\"1\" class=\"dataframe\">\n",
              "  <thead>\n",
              "    <tr style=\"text-align: right;\">\n",
              "      <th></th>\n",
              "      <th>children</th>\n",
              "      <th>days_employed</th>\n",
              "      <th>dob_years</th>\n",
              "      <th>education</th>\n",
              "      <th>education_id</th>\n",
              "      <th>family_status</th>\n",
              "      <th>family_status_id</th>\n",
              "      <th>gender</th>\n",
              "      <th>income_type</th>\n",
              "      <th>debt</th>\n",
              "      <th>total_income</th>\n",
              "      <th>purpose</th>\n",
              "    </tr>\n",
              "  </thead>\n",
              "  <tbody>\n",
              "    <tr>\n",
              "      <th>0</th>\n",
              "      <td>1</td>\n",
              "      <td>-8437.673028</td>\n",
              "      <td>42</td>\n",
              "      <td>bachelor's degree</td>\n",
              "      <td>0</td>\n",
              "      <td>married</td>\n",
              "      <td>0</td>\n",
              "      <td>F</td>\n",
              "      <td>employee</td>\n",
              "      <td>0</td>\n",
              "      <td>40620.102</td>\n",
              "      <td>purchase of the house</td>\n",
              "    </tr>\n",
              "    <tr>\n",
              "      <th>1</th>\n",
              "      <td>1</td>\n",
              "      <td>-4024.803754</td>\n",
              "      <td>36</td>\n",
              "      <td>secondary education</td>\n",
              "      <td>1</td>\n",
              "      <td>married</td>\n",
              "      <td>0</td>\n",
              "      <td>F</td>\n",
              "      <td>employee</td>\n",
              "      <td>0</td>\n",
              "      <td>17932.802</td>\n",
              "      <td>car purchase</td>\n",
              "    </tr>\n",
              "    <tr>\n",
              "      <th>2</th>\n",
              "      <td>0</td>\n",
              "      <td>-5623.422610</td>\n",
              "      <td>33</td>\n",
              "      <td>Secondary Education</td>\n",
              "      <td>1</td>\n",
              "      <td>married</td>\n",
              "      <td>0</td>\n",
              "      <td>M</td>\n",
              "      <td>employee</td>\n",
              "      <td>0</td>\n",
              "      <td>23341.752</td>\n",
              "      <td>purchase of the house</td>\n",
              "    </tr>\n",
              "    <tr>\n",
              "      <th>3</th>\n",
              "      <td>3</td>\n",
              "      <td>-4124.747207</td>\n",
              "      <td>32</td>\n",
              "      <td>secondary education</td>\n",
              "      <td>1</td>\n",
              "      <td>married</td>\n",
              "      <td>0</td>\n",
              "      <td>M</td>\n",
              "      <td>employee</td>\n",
              "      <td>0</td>\n",
              "      <td>42820.568</td>\n",
              "      <td>supplementary education</td>\n",
              "    </tr>\n",
              "    <tr>\n",
              "      <th>4</th>\n",
              "      <td>0</td>\n",
              "      <td>340266.072047</td>\n",
              "      <td>53</td>\n",
              "      <td>secondary education</td>\n",
              "      <td>1</td>\n",
              "      <td>civil partnership</td>\n",
              "      <td>1</td>\n",
              "      <td>F</td>\n",
              "      <td>retiree</td>\n",
              "      <td>0</td>\n",
              "      <td>25378.572</td>\n",
              "      <td>to have a wedding</td>\n",
              "    </tr>\n",
              "    <tr>\n",
              "      <th>5</th>\n",
              "      <td>0</td>\n",
              "      <td>-926.185831</td>\n",
              "      <td>27</td>\n",
              "      <td>bachelor's degree</td>\n",
              "      <td>0</td>\n",
              "      <td>civil partnership</td>\n",
              "      <td>1</td>\n",
              "      <td>M</td>\n",
              "      <td>business</td>\n",
              "      <td>0</td>\n",
              "      <td>40922.170</td>\n",
              "      <td>purchase of the house</td>\n",
              "    </tr>\n",
              "    <tr>\n",
              "      <th>6</th>\n",
              "      <td>0</td>\n",
              "      <td>-2879.202052</td>\n",
              "      <td>43</td>\n",
              "      <td>bachelor's degree</td>\n",
              "      <td>0</td>\n",
              "      <td>married</td>\n",
              "      <td>0</td>\n",
              "      <td>F</td>\n",
              "      <td>business</td>\n",
              "      <td>0</td>\n",
              "      <td>38484.156</td>\n",
              "      <td>housing transactions</td>\n",
              "    </tr>\n",
              "    <tr>\n",
              "      <th>7</th>\n",
              "      <td>0</td>\n",
              "      <td>-152.779569</td>\n",
              "      <td>50</td>\n",
              "      <td>SECONDARY EDUCATION</td>\n",
              "      <td>1</td>\n",
              "      <td>married</td>\n",
              "      <td>0</td>\n",
              "      <td>M</td>\n",
              "      <td>employee</td>\n",
              "      <td>0</td>\n",
              "      <td>21731.829</td>\n",
              "      <td>education</td>\n",
              "    </tr>\n",
              "    <tr>\n",
              "      <th>8</th>\n",
              "      <td>2</td>\n",
              "      <td>-6929.865299</td>\n",
              "      <td>35</td>\n",
              "      <td>BACHELOR'S DEGREE</td>\n",
              "      <td>0</td>\n",
              "      <td>civil partnership</td>\n",
              "      <td>1</td>\n",
              "      <td>F</td>\n",
              "      <td>employee</td>\n",
              "      <td>0</td>\n",
              "      <td>15337.093</td>\n",
              "      <td>having a wedding</td>\n",
              "    </tr>\n",
              "    <tr>\n",
              "      <th>9</th>\n",
              "      <td>0</td>\n",
              "      <td>-2188.756445</td>\n",
              "      <td>41</td>\n",
              "      <td>secondary education</td>\n",
              "      <td>1</td>\n",
              "      <td>married</td>\n",
              "      <td>0</td>\n",
              "      <td>M</td>\n",
              "      <td>employee</td>\n",
              "      <td>0</td>\n",
              "      <td>23108.150</td>\n",
              "      <td>purchase of the house for my family</td>\n",
              "    </tr>\n",
              "    <tr>\n",
              "      <th>10</th>\n",
              "      <td>2</td>\n",
              "      <td>-4171.483647</td>\n",
              "      <td>36</td>\n",
              "      <td>bachelor's degree</td>\n",
              "      <td>0</td>\n",
              "      <td>married</td>\n",
              "      <td>0</td>\n",
              "      <td>M</td>\n",
              "      <td>business</td>\n",
              "      <td>0</td>\n",
              "      <td>18230.959</td>\n",
              "      <td>buy real estate</td>\n",
              "    </tr>\n",
              "    <tr>\n",
              "      <th>11</th>\n",
              "      <td>0</td>\n",
              "      <td>-792.701887</td>\n",
              "      <td>40</td>\n",
              "      <td>secondary education</td>\n",
              "      <td>1</td>\n",
              "      <td>married</td>\n",
              "      <td>0</td>\n",
              "      <td>F</td>\n",
              "      <td>employee</td>\n",
              "      <td>0</td>\n",
              "      <td>12331.077</td>\n",
              "      <td>buy commercial real estate</td>\n",
              "    </tr>\n",
              "    <tr>\n",
              "      <th>12</th>\n",
              "      <td>0</td>\n",
              "      <td>NaN</td>\n",
              "      <td>65</td>\n",
              "      <td>secondary education</td>\n",
              "      <td>1</td>\n",
              "      <td>civil partnership</td>\n",
              "      <td>1</td>\n",
              "      <td>M</td>\n",
              "      <td>retiree</td>\n",
              "      <td>0</td>\n",
              "      <td>NaN</td>\n",
              "      <td>to have a wedding</td>\n",
              "    </tr>\n",
              "    <tr>\n",
              "      <th>13</th>\n",
              "      <td>0</td>\n",
              "      <td>-1846.641941</td>\n",
              "      <td>54</td>\n",
              "      <td>some college</td>\n",
              "      <td>2</td>\n",
              "      <td>married</td>\n",
              "      <td>0</td>\n",
              "      <td>F</td>\n",
              "      <td>employee</td>\n",
              "      <td>0</td>\n",
              "      <td>20873.317</td>\n",
              "      <td>car purchase</td>\n",
              "    </tr>\n",
              "    <tr>\n",
              "      <th>14</th>\n",
              "      <td>0</td>\n",
              "      <td>-1844.956182</td>\n",
              "      <td>56</td>\n",
              "      <td>bachelor's degree</td>\n",
              "      <td>0</td>\n",
              "      <td>civil partnership</td>\n",
              "      <td>1</td>\n",
              "      <td>F</td>\n",
              "      <td>business</td>\n",
              "      <td>1</td>\n",
              "      <td>26420.466</td>\n",
              "      <td>buy residential real estate</td>\n",
              "    </tr>\n",
              "    <tr>\n",
              "      <th>15</th>\n",
              "      <td>1</td>\n",
              "      <td>-972.364419</td>\n",
              "      <td>26</td>\n",
              "      <td>secondary education</td>\n",
              "      <td>1</td>\n",
              "      <td>married</td>\n",
              "      <td>0</td>\n",
              "      <td>F</td>\n",
              "      <td>employee</td>\n",
              "      <td>0</td>\n",
              "      <td>18691.345</td>\n",
              "      <td>construction of own property</td>\n",
              "    </tr>\n",
              "    <tr>\n",
              "      <th>16</th>\n",
              "      <td>0</td>\n",
              "      <td>-1719.934226</td>\n",
              "      <td>35</td>\n",
              "      <td>secondary education</td>\n",
              "      <td>1</td>\n",
              "      <td>married</td>\n",
              "      <td>0</td>\n",
              "      <td>F</td>\n",
              "      <td>employee</td>\n",
              "      <td>0</td>\n",
              "      <td>46272.433</td>\n",
              "      <td>property</td>\n",
              "    </tr>\n",
              "    <tr>\n",
              "      <th>17</th>\n",
              "      <td>0</td>\n",
              "      <td>-2369.999720</td>\n",
              "      <td>33</td>\n",
              "      <td>bachelor's degree</td>\n",
              "      <td>0</td>\n",
              "      <td>civil partnership</td>\n",
              "      <td>1</td>\n",
              "      <td>M</td>\n",
              "      <td>employee</td>\n",
              "      <td>0</td>\n",
              "      <td>14465.694</td>\n",
              "      <td>building a property</td>\n",
              "    </tr>\n",
              "    <tr>\n",
              "      <th>18</th>\n",
              "      <td>0</td>\n",
              "      <td>400281.136913</td>\n",
              "      <td>53</td>\n",
              "      <td>secondary education</td>\n",
              "      <td>1</td>\n",
              "      <td>widow / widower</td>\n",
              "      <td>2</td>\n",
              "      <td>F</td>\n",
              "      <td>retiree</td>\n",
              "      <td>0</td>\n",
              "      <td>9091.804</td>\n",
              "      <td>buying a second-hand car</td>\n",
              "    </tr>\n",
              "    <tr>\n",
              "      <th>19</th>\n",
              "      <td>0</td>\n",
              "      <td>-10038.818549</td>\n",
              "      <td>48</td>\n",
              "      <td>SECONDARY EDUCATION</td>\n",
              "      <td>1</td>\n",
              "      <td>divorced</td>\n",
              "      <td>3</td>\n",
              "      <td>F</td>\n",
              "      <td>employee</td>\n",
              "      <td>0</td>\n",
              "      <td>38852.977</td>\n",
              "      <td>buying my own car</td>\n",
              "    </tr>\n",
              "  </tbody>\n",
              "</table>\n",
              "</div>"
            ],
            "text/plain": [
              "    children  days_employed  dob_years            education  education_id  \\\n",
              "0          1   -8437.673028         42    bachelor's degree             0   \n",
              "1          1   -4024.803754         36  secondary education             1   \n",
              "2          0   -5623.422610         33  Secondary Education             1   \n",
              "3          3   -4124.747207         32  secondary education             1   \n",
              "4          0  340266.072047         53  secondary education             1   \n",
              "5          0    -926.185831         27    bachelor's degree             0   \n",
              "6          0   -2879.202052         43    bachelor's degree             0   \n",
              "7          0    -152.779569         50  SECONDARY EDUCATION             1   \n",
              "8          2   -6929.865299         35    BACHELOR'S DEGREE             0   \n",
              "9          0   -2188.756445         41  secondary education             1   \n",
              "10         2   -4171.483647         36    bachelor's degree             0   \n",
              "11         0    -792.701887         40  secondary education             1   \n",
              "12         0            NaN         65  secondary education             1   \n",
              "13         0   -1846.641941         54         some college             2   \n",
              "14         0   -1844.956182         56    bachelor's degree             0   \n",
              "15         1    -972.364419         26  secondary education             1   \n",
              "16         0   -1719.934226         35  secondary education             1   \n",
              "17         0   -2369.999720         33    bachelor's degree             0   \n",
              "18         0  400281.136913         53  secondary education             1   \n",
              "19         0  -10038.818549         48  SECONDARY EDUCATION             1   \n",
              "\n",
              "        family_status  family_status_id gender income_type  debt  \\\n",
              "0             married                 0      F    employee     0   \n",
              "1             married                 0      F    employee     0   \n",
              "2             married                 0      M    employee     0   \n",
              "3             married                 0      M    employee     0   \n",
              "4   civil partnership                 1      F     retiree     0   \n",
              "5   civil partnership                 1      M    business     0   \n",
              "6             married                 0      F    business     0   \n",
              "7             married                 0      M    employee     0   \n",
              "8   civil partnership                 1      F    employee     0   \n",
              "9             married                 0      M    employee     0   \n",
              "10            married                 0      M    business     0   \n",
              "11            married                 0      F    employee     0   \n",
              "12  civil partnership                 1      M     retiree     0   \n",
              "13            married                 0      F    employee     0   \n",
              "14  civil partnership                 1      F    business     1   \n",
              "15            married                 0      F    employee     0   \n",
              "16            married                 0      F    employee     0   \n",
              "17  civil partnership                 1      M    employee     0   \n",
              "18    widow / widower                 2      F     retiree     0   \n",
              "19           divorced                 3      F    employee     0   \n",
              "\n",
              "    total_income                              purpose  \n",
              "0      40620.102                purchase of the house  \n",
              "1      17932.802                         car purchase  \n",
              "2      23341.752                purchase of the house  \n",
              "3      42820.568              supplementary education  \n",
              "4      25378.572                    to have a wedding  \n",
              "5      40922.170                purchase of the house  \n",
              "6      38484.156                 housing transactions  \n",
              "7      21731.829                            education  \n",
              "8      15337.093                     having a wedding  \n",
              "9      23108.150  purchase of the house for my family  \n",
              "10     18230.959                      buy real estate  \n",
              "11     12331.077           buy commercial real estate  \n",
              "12           NaN                    to have a wedding  \n",
              "13     20873.317                         car purchase  \n",
              "14     26420.466          buy residential real estate  \n",
              "15     18691.345         construction of own property  \n",
              "16     46272.433                             property  \n",
              "17     14465.694                  building a property  \n",
              "18      9091.804             buying a second-hand car  \n",
              "19     38852.977                    buying my own car  "
            ]
          },
          "execution_count": 5,
          "metadata": {},
          "output_type": "execute_result"
        }
      ],
      "source": [
        "# mari menampilkan N baris pertama\n",
        "credit_score.head(20)\n"
      ]
    },
    {
      "cell_type": "markdown",
      "metadata": {
        "id": "MdtqKA2_t0AM"
      },
      "source": [
        "Terdapat beberapa nilai hilang dan ketidakkonsistenan dalam penulisan data, perlu diselidiki juga tentang nilai duplikat."
      ]
    },
    {
      "cell_type": "code",
      "execution_count": null,
      "metadata": {
        "scrolled": true,
        "id": "qgzM1NYjt0AM",
        "outputId": "2065ea0c-4bbd-4e8e-c69d-3fbf2380523f"
      },
      "outputs": [
        {
          "data": {
            "text/plain": [
              "children               0\n",
              "days_employed       2174\n",
              "dob_years              0\n",
              "education              0\n",
              "education_id           0\n",
              "family_status          0\n",
              "family_status_id       0\n",
              "gender                 0\n",
              "income_type            0\n",
              "debt                   0\n",
              "total_income        2174\n",
              "purpose                0\n",
              "dtype: int64"
            ]
          },
          "execution_count": 6,
          "metadata": {},
          "output_type": "execute_result"
        }
      ],
      "source": [
        "# Mendapatkan informasi data\n",
        "credit_score.isna().sum()"
      ]
    },
    {
      "cell_type": "markdown",
      "metadata": {
        "id": "Zym94WTXt0AN"
      },
      "source": [
        "\n",
        "Terdapat nilai hilang namun hanya ada dalam 2 kolom, yaitu kolom days_employed dan total_income, Namun 2 kolom tersebut memiliki jumlah nilai hilang yang sama. \n",
        "\n",
        "Terdapat kemungkinan yaitu, nilai NaN pada days_employed dikarenakan pengguna belum bekerja sehingga tidak memiliki penghasilan, dan berpengaruh pada total_income, sehingga total_incomenya pun NaN."
      ]
    },
    {
      "cell_type": "code",
      "execution_count": null,
      "metadata": {
        "scrolled": true,
        "id": "jGn10LqDt0AN",
        "outputId": "1cbd5604-9fcd-40cb-f079-f89479d54aca"
      },
      "outputs": [
        {
          "data": {
            "text/html": [
              "<div>\n",
              "<style scoped>\n",
              "    .dataframe tbody tr th:only-of-type {\n",
              "        vertical-align: middle;\n",
              "    }\n",
              "\n",
              "    .dataframe tbody tr th {\n",
              "        vertical-align: top;\n",
              "    }\n",
              "\n",
              "    .dataframe thead th {\n",
              "        text-align: right;\n",
              "    }\n",
              "</style>\n",
              "<table border=\"1\" class=\"dataframe\">\n",
              "  <thead>\n",
              "    <tr style=\"text-align: right;\">\n",
              "      <th></th>\n",
              "      <th>children</th>\n",
              "      <th>days_employed</th>\n",
              "      <th>dob_years</th>\n",
              "      <th>education</th>\n",
              "      <th>education_id</th>\n",
              "      <th>family_status</th>\n",
              "      <th>family_status_id</th>\n",
              "      <th>gender</th>\n",
              "      <th>income_type</th>\n",
              "      <th>debt</th>\n",
              "      <th>total_income</th>\n",
              "      <th>purpose</th>\n",
              "    </tr>\n",
              "  </thead>\n",
              "  <tbody>\n",
              "    <tr>\n",
              "      <th>12</th>\n",
              "      <td>0</td>\n",
              "      <td>NaN</td>\n",
              "      <td>65</td>\n",
              "      <td>secondary education</td>\n",
              "      <td>1</td>\n",
              "      <td>civil partnership</td>\n",
              "      <td>1</td>\n",
              "      <td>M</td>\n",
              "      <td>retiree</td>\n",
              "      <td>0</td>\n",
              "      <td>NaN</td>\n",
              "      <td>to have a wedding</td>\n",
              "    </tr>\n",
              "    <tr>\n",
              "      <th>26</th>\n",
              "      <td>0</td>\n",
              "      <td>NaN</td>\n",
              "      <td>41</td>\n",
              "      <td>secondary education</td>\n",
              "      <td>1</td>\n",
              "      <td>married</td>\n",
              "      <td>0</td>\n",
              "      <td>M</td>\n",
              "      <td>civil servant</td>\n",
              "      <td>0</td>\n",
              "      <td>NaN</td>\n",
              "      <td>education</td>\n",
              "    </tr>\n",
              "    <tr>\n",
              "      <th>29</th>\n",
              "      <td>0</td>\n",
              "      <td>NaN</td>\n",
              "      <td>63</td>\n",
              "      <td>secondary education</td>\n",
              "      <td>1</td>\n",
              "      <td>unmarried</td>\n",
              "      <td>4</td>\n",
              "      <td>F</td>\n",
              "      <td>retiree</td>\n",
              "      <td>0</td>\n",
              "      <td>NaN</td>\n",
              "      <td>building a real estate</td>\n",
              "    </tr>\n",
              "    <tr>\n",
              "      <th>41</th>\n",
              "      <td>0</td>\n",
              "      <td>NaN</td>\n",
              "      <td>50</td>\n",
              "      <td>secondary education</td>\n",
              "      <td>1</td>\n",
              "      <td>married</td>\n",
              "      <td>0</td>\n",
              "      <td>F</td>\n",
              "      <td>civil servant</td>\n",
              "      <td>0</td>\n",
              "      <td>NaN</td>\n",
              "      <td>second-hand car purchase</td>\n",
              "    </tr>\n",
              "    <tr>\n",
              "      <th>55</th>\n",
              "      <td>0</td>\n",
              "      <td>NaN</td>\n",
              "      <td>54</td>\n",
              "      <td>secondary education</td>\n",
              "      <td>1</td>\n",
              "      <td>civil partnership</td>\n",
              "      <td>1</td>\n",
              "      <td>F</td>\n",
              "      <td>retiree</td>\n",
              "      <td>1</td>\n",
              "      <td>NaN</td>\n",
              "      <td>to have a wedding</td>\n",
              "    </tr>\n",
              "    <tr>\n",
              "      <th>...</th>\n",
              "      <td>...</td>\n",
              "      <td>...</td>\n",
              "      <td>...</td>\n",
              "      <td>...</td>\n",
              "      <td>...</td>\n",
              "      <td>...</td>\n",
              "      <td>...</td>\n",
              "      <td>...</td>\n",
              "      <td>...</td>\n",
              "      <td>...</td>\n",
              "      <td>...</td>\n",
              "      <td>...</td>\n",
              "    </tr>\n",
              "    <tr>\n",
              "      <th>21489</th>\n",
              "      <td>2</td>\n",
              "      <td>NaN</td>\n",
              "      <td>47</td>\n",
              "      <td>Secondary Education</td>\n",
              "      <td>1</td>\n",
              "      <td>married</td>\n",
              "      <td>0</td>\n",
              "      <td>M</td>\n",
              "      <td>business</td>\n",
              "      <td>0</td>\n",
              "      <td>NaN</td>\n",
              "      <td>purchase of a car</td>\n",
              "    </tr>\n",
              "    <tr>\n",
              "      <th>21495</th>\n",
              "      <td>1</td>\n",
              "      <td>NaN</td>\n",
              "      <td>50</td>\n",
              "      <td>secondary education</td>\n",
              "      <td>1</td>\n",
              "      <td>civil partnership</td>\n",
              "      <td>1</td>\n",
              "      <td>F</td>\n",
              "      <td>employee</td>\n",
              "      <td>0</td>\n",
              "      <td>NaN</td>\n",
              "      <td>wedding ceremony</td>\n",
              "    </tr>\n",
              "    <tr>\n",
              "      <th>21497</th>\n",
              "      <td>0</td>\n",
              "      <td>NaN</td>\n",
              "      <td>48</td>\n",
              "      <td>BACHELOR'S DEGREE</td>\n",
              "      <td>0</td>\n",
              "      <td>married</td>\n",
              "      <td>0</td>\n",
              "      <td>F</td>\n",
              "      <td>business</td>\n",
              "      <td>0</td>\n",
              "      <td>NaN</td>\n",
              "      <td>building a property</td>\n",
              "    </tr>\n",
              "    <tr>\n",
              "      <th>21502</th>\n",
              "      <td>1</td>\n",
              "      <td>NaN</td>\n",
              "      <td>42</td>\n",
              "      <td>secondary education</td>\n",
              "      <td>1</td>\n",
              "      <td>married</td>\n",
              "      <td>0</td>\n",
              "      <td>F</td>\n",
              "      <td>employee</td>\n",
              "      <td>0</td>\n",
              "      <td>NaN</td>\n",
              "      <td>building a real estate</td>\n",
              "    </tr>\n",
              "    <tr>\n",
              "      <th>21510</th>\n",
              "      <td>2</td>\n",
              "      <td>NaN</td>\n",
              "      <td>28</td>\n",
              "      <td>secondary education</td>\n",
              "      <td>1</td>\n",
              "      <td>married</td>\n",
              "      <td>0</td>\n",
              "      <td>F</td>\n",
              "      <td>employee</td>\n",
              "      <td>0</td>\n",
              "      <td>NaN</td>\n",
              "      <td>car purchase</td>\n",
              "    </tr>\n",
              "  </tbody>\n",
              "</table>\n",
              "<p>2174 rows × 12 columns</p>\n",
              "</div>"
            ],
            "text/plain": [
              "       children  days_employed  dob_years            education  education_id  \\\n",
              "12            0            NaN         65  secondary education             1   \n",
              "26            0            NaN         41  secondary education             1   \n",
              "29            0            NaN         63  secondary education             1   \n",
              "41            0            NaN         50  secondary education             1   \n",
              "55            0            NaN         54  secondary education             1   \n",
              "...         ...            ...        ...                  ...           ...   \n",
              "21489         2            NaN         47  Secondary Education             1   \n",
              "21495         1            NaN         50  secondary education             1   \n",
              "21497         0            NaN         48    BACHELOR'S DEGREE             0   \n",
              "21502         1            NaN         42  secondary education             1   \n",
              "21510         2            NaN         28  secondary education             1   \n",
              "\n",
              "           family_status  family_status_id gender    income_type  debt  \\\n",
              "12     civil partnership                 1      M        retiree     0   \n",
              "26               married                 0      M  civil servant     0   \n",
              "29             unmarried                 4      F        retiree     0   \n",
              "41               married                 0      F  civil servant     0   \n",
              "55     civil partnership                 1      F        retiree     1   \n",
              "...                  ...               ...    ...            ...   ...   \n",
              "21489            married                 0      M       business     0   \n",
              "21495  civil partnership                 1      F       employee     0   \n",
              "21497            married                 0      F       business     0   \n",
              "21502            married                 0      F       employee     0   \n",
              "21510            married                 0      F       employee     0   \n",
              "\n",
              "       total_income                   purpose  \n",
              "12              NaN         to have a wedding  \n",
              "26              NaN                 education  \n",
              "29              NaN    building a real estate  \n",
              "41              NaN  second-hand car purchase  \n",
              "55              NaN         to have a wedding  \n",
              "...             ...                       ...  \n",
              "21489           NaN         purchase of a car  \n",
              "21495           NaN          wedding ceremony  \n",
              "21497           NaN       building a property  \n",
              "21502           NaN    building a real estate  \n",
              "21510           NaN              car purchase  \n",
              "\n",
              "[2174 rows x 12 columns]"
            ]
          },
          "execution_count": 7,
          "metadata": {},
          "output_type": "execute_result"
        }
      ],
      "source": [
        "# Mari kita melihat tabel yang telah difilter dengan nilai yang hilang di kolom pertama dengan data yang hilang\n",
        "credit_score.loc[credit_score['days_employed'].isna()]   "
      ]
    },
    {
      "cell_type": "markdown",
      "metadata": {
        "id": "jNcwJsOQt0AO"
      },
      "source": [
        "Kemungkinan tentang \"nilai NaN pada days_employed dikarenakan pengguna belum bekerja sehingga tidak memiliki penghasilan, dan berpengaruh pada total_income, sehingga total_incomenya pun NaN\" semakin tinggi, karena terlihat bahwa nilai NaN pada days_employed hampir selalu diiringin dengan nilai NaN pada total_income sehingga harus diselidiki menggunakan kondisi yang mana 2 kolom tersebut adalah NaN \n"
      ]
    },
    {
      "cell_type": "code",
      "execution_count": null,
      "metadata": {
        "scrolled": false,
        "id": "IBYyik90t0AP",
        "outputId": "0efc56ae-9499-4956-f367-0ee0bcb710d4"
      },
      "outputs": [
        {
          "data": {
            "text/plain": [
              "(2174, 12)"
            ]
          },
          "execution_count": 8,
          "metadata": {},
          "output_type": "execute_result"
        }
      ],
      "source": [
        "# Mari kita menerapkan beberapa persyaratan untuk memfilter data dan melihat jumlah baris dalam tabel yang difilter.\n",
        "no_income = credit_score.loc[(credit_score['days_employed'].isna()) & ((credit_score['total_income']).isna())]\n",
        "no_income.shape"
      ]
    },
    {
      "cell_type": "code",
      "execution_count": null,
      "metadata": {
        "id": "T2d7ktt9t0AQ",
        "outputId": "3ebb643e-7a21-411e-9a71-b6fa50edb28d"
      },
      "outputs": [
        {
          "data": {
            "text/html": [
              "<div>\n",
              "<style scoped>\n",
              "    .dataframe tbody tr th:only-of-type {\n",
              "        vertical-align: middle;\n",
              "    }\n",
              "\n",
              "    .dataframe tbody tr th {\n",
              "        vertical-align: top;\n",
              "    }\n",
              "\n",
              "    .dataframe thead th {\n",
              "        text-align: right;\n",
              "    }\n",
              "</style>\n",
              "<table border=\"1\" class=\"dataframe\">\n",
              "  <thead>\n",
              "    <tr style=\"text-align: right;\">\n",
              "      <th></th>\n",
              "      <th>children</th>\n",
              "      <th>days_employed</th>\n",
              "      <th>dob_years</th>\n",
              "      <th>education</th>\n",
              "      <th>education_id</th>\n",
              "      <th>family_status</th>\n",
              "      <th>family_status_id</th>\n",
              "      <th>gender</th>\n",
              "      <th>income_type</th>\n",
              "      <th>debt</th>\n",
              "      <th>total_income</th>\n",
              "      <th>purpose</th>\n",
              "    </tr>\n",
              "  </thead>\n",
              "  <tbody>\n",
              "    <tr>\n",
              "      <th>21489</th>\n",
              "      <td>2</td>\n",
              "      <td>NaN</td>\n",
              "      <td>47</td>\n",
              "      <td>Secondary Education</td>\n",
              "      <td>1</td>\n",
              "      <td>married</td>\n",
              "      <td>0</td>\n",
              "      <td>M</td>\n",
              "      <td>business</td>\n",
              "      <td>0</td>\n",
              "      <td>NaN</td>\n",
              "      <td>purchase of a car</td>\n",
              "    </tr>\n",
              "    <tr>\n",
              "      <th>21495</th>\n",
              "      <td>1</td>\n",
              "      <td>NaN</td>\n",
              "      <td>50</td>\n",
              "      <td>secondary education</td>\n",
              "      <td>1</td>\n",
              "      <td>civil partnership</td>\n",
              "      <td>1</td>\n",
              "      <td>F</td>\n",
              "      <td>employee</td>\n",
              "      <td>0</td>\n",
              "      <td>NaN</td>\n",
              "      <td>wedding ceremony</td>\n",
              "    </tr>\n",
              "    <tr>\n",
              "      <th>21497</th>\n",
              "      <td>0</td>\n",
              "      <td>NaN</td>\n",
              "      <td>48</td>\n",
              "      <td>BACHELOR'S DEGREE</td>\n",
              "      <td>0</td>\n",
              "      <td>married</td>\n",
              "      <td>0</td>\n",
              "      <td>F</td>\n",
              "      <td>business</td>\n",
              "      <td>0</td>\n",
              "      <td>NaN</td>\n",
              "      <td>building a property</td>\n",
              "    </tr>\n",
              "    <tr>\n",
              "      <th>21502</th>\n",
              "      <td>1</td>\n",
              "      <td>NaN</td>\n",
              "      <td>42</td>\n",
              "      <td>secondary education</td>\n",
              "      <td>1</td>\n",
              "      <td>married</td>\n",
              "      <td>0</td>\n",
              "      <td>F</td>\n",
              "      <td>employee</td>\n",
              "      <td>0</td>\n",
              "      <td>NaN</td>\n",
              "      <td>building a real estate</td>\n",
              "    </tr>\n",
              "    <tr>\n",
              "      <th>21510</th>\n",
              "      <td>2</td>\n",
              "      <td>NaN</td>\n",
              "      <td>28</td>\n",
              "      <td>secondary education</td>\n",
              "      <td>1</td>\n",
              "      <td>married</td>\n",
              "      <td>0</td>\n",
              "      <td>F</td>\n",
              "      <td>employee</td>\n",
              "      <td>0</td>\n",
              "      <td>NaN</td>\n",
              "      <td>car purchase</td>\n",
              "    </tr>\n",
              "  </tbody>\n",
              "</table>\n",
              "</div>"
            ],
            "text/plain": [
              "       children  days_employed  dob_years            education  education_id  \\\n",
              "21489         2            NaN         47  Secondary Education             1   \n",
              "21495         1            NaN         50  secondary education             1   \n",
              "21497         0            NaN         48    BACHELOR'S DEGREE             0   \n",
              "21502         1            NaN         42  secondary education             1   \n",
              "21510         2            NaN         28  secondary education             1   \n",
              "\n",
              "           family_status  family_status_id gender income_type  debt  \\\n",
              "21489            married                 0      M    business     0   \n",
              "21495  civil partnership                 1      F    employee     0   \n",
              "21497            married                 0      F    business     0   \n",
              "21502            married                 0      F    employee     0   \n",
              "21510            married                 0      F    employee     0   \n",
              "\n",
              "       total_income                 purpose  \n",
              "21489           NaN       purchase of a car  \n",
              "21495           NaN        wedding ceremony  \n",
              "21497           NaN     building a property  \n",
              "21502           NaN  building a real estate  \n",
              "21510           NaN            car purchase  "
            ]
          },
          "execution_count": 9,
          "metadata": {},
          "output_type": "execute_result"
        }
      ],
      "source": [
        "no_income.tail(5)"
      ]
    },
    {
      "cell_type": "markdown",
      "metadata": {
        "id": "hxqW2Gpxt0AQ"
      },
      "source": [
        "Didapatkan ada 2174 data dengan 12 kolom dengan filter kondisi days employed yang memiliki nilai **NA** dan total_income yang memiliki nilai **NA**, sehingga disimpulkan bahwa nilai yang hilang adalah simetris (days employed **NA** membawa nilai total income yang **NA** juga)"
      ]
    },
    {
      "cell_type": "code",
      "execution_count": null,
      "metadata": {
        "id": "ZXMoUUP7t0AR",
        "outputId": "09f58489-dc37-4d04-85b9-415945d0abdf"
      },
      "outputs": [
        {
          "name": "stdout",
          "output_type": "stream",
          "text": [
            "10.10%\n"
          ]
        }
      ],
      "source": [
        "nan_ratio = (len(no_income) / len(credit_score))\n",
        "print(f'{nan_ratio:.2%}')"
      ]
    },
    {
      "cell_type": "markdown",
      "metadata": {
        "id": "NJ9pCBjAt0AS"
      },
      "source": [
        "Kesimpulan menengah\n",
        "\n",
        "\n",
        "Setelah difilter untuk kondisi total_income dan days_employed yang sama sama memiliki nilai NaN, terlihat bahwa jumlah data yang tersaji sebanyak 2174, sama dengan total NaN pada fungsi info() dan shape, sehingga disimpulkan bahwa nilai NaN pada days_employed selalu berdampingan dengan nilai NaN pada total_income yang mana mengacu pada orang yang bekerja tidak mendapat penghasilan\n",
        "\n",
        "Persentase nilai hilang terhadap keseluruhan data adalah 10%! tentu ini merupakan nilai yang tidak bisa diabaikan\n",
        "\n",
        "Untuk mengetahui total_income lebih jauh maka perlu dilihat umur dari peminjam, pendidikan, dan yang paling utama adalah pekerjaan, karena pekerjaan merupakan sumber dari income"
      ]
    },
    {
      "cell_type": "code",
      "execution_count": null,
      "metadata": {
        "id": "JMvIZZzMt0AS",
        "outputId": "25e1fded-c490-40aa-9177-9a33276c30f1"
      },
      "outputs": [
        {
          "data": {
            "text/plain": [
              "employee         0.508280\n",
              "business         0.233671\n",
              "retiree          0.189972\n",
              "civil servant    0.067617\n",
              "entrepreneur     0.000460\n",
              "Name: income_type, dtype: float64"
            ]
          },
          "execution_count": 11,
          "metadata": {},
          "output_type": "execute_result"
        }
      ],
      "source": [
        "# Mari kita memeriksa klien yang tidak memiliki data tentang karakteristik yang teridentifikasi dan kolom dengan nilai yang hilang\n",
        "\n",
        "no_income['income_type'].value_counts(normalize=True)\n",
        "\n"
      ]
    },
    {
      "cell_type": "markdown",
      "metadata": {
        "id": "MXYO5VOEt0AS"
      },
      "source": [
        "Kebanyakan yang memiliki total_income NA adalah seorang pegawai"
      ]
    },
    {
      "cell_type": "code",
      "execution_count": null,
      "metadata": {
        "scrolled": false,
        "id": "U_m_p2mdt0AS",
        "outputId": "a6330e37-7959-47eb-9f0e-bfde9634692c"
      },
      "outputs": [
        {
          "name": "stdout",
          "output_type": "stream",
          "text": [
            "employee                       0.516562\n",
            "business                       0.236237\n",
            "retiree                        0.179141\n",
            "civil servant                  0.067782\n",
            "entrepreneur                   0.000093\n",
            "unemployed                     0.000093\n",
            "paternity / maternity leave    0.000046\n",
            "student                        0.000046\n",
            "Name: income_type, dtype: float64\n",
            "employee                       11119\n",
            "business                        5085\n",
            "retiree                         3856\n",
            "civil servant                   1459\n",
            "entrepreneur                       2\n",
            "unemployed                         2\n",
            "paternity / maternity leave        1\n",
            "student                            1\n",
            "Name: income_type, dtype: int64\n"
          ]
        }
      ],
      "source": [
        "# Memeriksa distribusi\n",
        "print(credit_score['income_type'].value_counts(normalize=True))\n",
        "print(credit_score['income_type'].value_counts())"
      ]
    },
    {
      "cell_type": "markdown",
      "metadata": {
        "id": "Ow0nv8NYt0AU"
      },
      "source": [
        "Kemungkinan penyebab hilangnya nilai dalam data\n",
        "\n",
        "1. Sama seperti dalam data yang memiliki nilai NaN untuk total_income, kebanyakan dari nasabah adalah seorang pegawai\n",
        "\n",
        "2. Sepertinya, orang yang tidak memiliki pekerjaan berbohong tentang pekerjaannya, sehingga mengisi acak pekerjaan yang ada untuk mendapatkan pinjaman, karena memiliki pekerjaan lebih dipercaya dan memiliki kemungkinan untuk membayar tepat waktu lebih tinggi dibanding yang tidak memiliki pekerjaan, karena setelah dilihat pada data keseluruhan, orang yang \"unemployed\" hanya 2 orang. Tapi tidak menutup kemungkinan memang hanya 2 orang, jadi untuk saat ini kita ambil dulu data yang ada dan menyelidiki lebih lanjut di tahap berikutnya\n",
        "\n"
      ]
    },
    {
      "cell_type": "code",
      "execution_count": null,
      "metadata": {
        "scrolled": true,
        "id": "ZWJoLOmQt0AU",
        "outputId": "e0ac3f78-77c2-467e-bef6-6b7ce66d5526"
      },
      "outputs": [
        {
          "data": {
            "text/plain": [
              "secondary education    13750\n",
              "bachelor's degree       4718\n",
              "SECONDARY EDUCATION      772\n",
              "Secondary Education      711\n",
              "some college             668\n",
              "BACHELOR'S DEGREE        274\n",
              "Bachelor's Degree        268\n",
              "primary education        250\n",
              "Some College              47\n",
              "SOME COLLEGE              29\n",
              "PRIMARY EDUCATION         17\n",
              "Primary Education         15\n",
              "graduate degree            4\n",
              "GRADUATE DEGREE            1\n",
              "Graduate Degree            1\n",
              "Name: education, dtype: int64"
            ]
          },
          "execution_count": 13,
          "metadata": {},
          "output_type": "execute_result"
        }
      ],
      "source": [
        "# Memeriksa distribusi di seluruh dataset\n",
        "credit_score['education'].value_counts()\n"
      ]
    },
    {
      "cell_type": "markdown",
      "metadata": {
        "id": "MYHvBo9dt0AU"
      },
      "source": [
        "<div class=\"alert alert-block alert-info\">\n",
        "\n",
        "Siap laksanakan"
      ]
    },
    {
      "cell_type": "markdown",
      "metadata": {
        "id": "mHVDqP-ct0AU"
      },
      "source": [
        "Karena ada beberapa yang memiliki income type yang unik (memiliki jumlah dibawah 3), maka dilakukan pengecekan mengenai data tersebut"
      ]
    },
    {
      "cell_type": "code",
      "execution_count": null,
      "metadata": {
        "id": "OE4nzX9Pt0AV",
        "outputId": "ac3b786b-efd6-43da-a09e-45a663b4a2c9"
      },
      "outputs": [
        {
          "data": {
            "text/html": [
              "<div>\n",
              "<style scoped>\n",
              "    .dataframe tbody tr th:only-of-type {\n",
              "        vertical-align: middle;\n",
              "    }\n",
              "\n",
              "    .dataframe tbody tr th {\n",
              "        vertical-align: top;\n",
              "    }\n",
              "\n",
              "    .dataframe thead th {\n",
              "        text-align: right;\n",
              "    }\n",
              "</style>\n",
              "<table border=\"1\" class=\"dataframe\">\n",
              "  <thead>\n",
              "    <tr style=\"text-align: right;\">\n",
              "      <th></th>\n",
              "      <th>children</th>\n",
              "      <th>days_employed</th>\n",
              "      <th>dob_years</th>\n",
              "      <th>education</th>\n",
              "      <th>education_id</th>\n",
              "      <th>family_status</th>\n",
              "      <th>family_status_id</th>\n",
              "      <th>gender</th>\n",
              "      <th>income_type</th>\n",
              "      <th>debt</th>\n",
              "      <th>total_income</th>\n",
              "      <th>purpose</th>\n",
              "    </tr>\n",
              "  </thead>\n",
              "  <tbody>\n",
              "    <tr>\n",
              "      <th>3133</th>\n",
              "      <td>1</td>\n",
              "      <td>337524.466835</td>\n",
              "      <td>31</td>\n",
              "      <td>secondary education</td>\n",
              "      <td>1</td>\n",
              "      <td>married</td>\n",
              "      <td>0</td>\n",
              "      <td>M</td>\n",
              "      <td>unemployed</td>\n",
              "      <td>1</td>\n",
              "      <td>9593.119</td>\n",
              "      <td>buying property for renting out</td>\n",
              "    </tr>\n",
              "    <tr>\n",
              "      <th>5936</th>\n",
              "      <td>0</td>\n",
              "      <td>NaN</td>\n",
              "      <td>58</td>\n",
              "      <td>bachelor's degree</td>\n",
              "      <td>0</td>\n",
              "      <td>married</td>\n",
              "      <td>0</td>\n",
              "      <td>M</td>\n",
              "      <td>entrepreneur</td>\n",
              "      <td>0</td>\n",
              "      <td>NaN</td>\n",
              "      <td>buy residential real estate</td>\n",
              "    </tr>\n",
              "    <tr>\n",
              "      <th>9410</th>\n",
              "      <td>0</td>\n",
              "      <td>-578.751554</td>\n",
              "      <td>22</td>\n",
              "      <td>bachelor's degree</td>\n",
              "      <td>0</td>\n",
              "      <td>unmarried</td>\n",
              "      <td>4</td>\n",
              "      <td>M</td>\n",
              "      <td>student</td>\n",
              "      <td>0</td>\n",
              "      <td>15712.260</td>\n",
              "      <td>construction of own property</td>\n",
              "    </tr>\n",
              "    <tr>\n",
              "      <th>14798</th>\n",
              "      <td>0</td>\n",
              "      <td>395302.838654</td>\n",
              "      <td>45</td>\n",
              "      <td>Bachelor's Degree</td>\n",
              "      <td>0</td>\n",
              "      <td>civil partnership</td>\n",
              "      <td>1</td>\n",
              "      <td>F</td>\n",
              "      <td>unemployed</td>\n",
              "      <td>0</td>\n",
              "      <td>32435.602</td>\n",
              "      <td>housing renovation</td>\n",
              "    </tr>\n",
              "    <tr>\n",
              "      <th>18697</th>\n",
              "      <td>0</td>\n",
              "      <td>-520.848083</td>\n",
              "      <td>27</td>\n",
              "      <td>bachelor's degree</td>\n",
              "      <td>0</td>\n",
              "      <td>civil partnership</td>\n",
              "      <td>1</td>\n",
              "      <td>F</td>\n",
              "      <td>entrepreneur</td>\n",
              "      <td>0</td>\n",
              "      <td>79866.103</td>\n",
              "      <td>having a wedding</td>\n",
              "    </tr>\n",
              "    <tr>\n",
              "      <th>20845</th>\n",
              "      <td>2</td>\n",
              "      <td>-3296.759962</td>\n",
              "      <td>39</td>\n",
              "      <td>SECONDARY EDUCATION</td>\n",
              "      <td>1</td>\n",
              "      <td>married</td>\n",
              "      <td>0</td>\n",
              "      <td>F</td>\n",
              "      <td>paternity / maternity leave</td>\n",
              "      <td>1</td>\n",
              "      <td>8612.661</td>\n",
              "      <td>car</td>\n",
              "    </tr>\n",
              "  </tbody>\n",
              "</table>\n",
              "</div>"
            ],
            "text/plain": [
              "       children  days_employed  dob_years            education  education_id  \\\n",
              "3133          1  337524.466835         31  secondary education             1   \n",
              "5936          0            NaN         58    bachelor's degree             0   \n",
              "9410          0    -578.751554         22    bachelor's degree             0   \n",
              "14798         0  395302.838654         45    Bachelor's Degree             0   \n",
              "18697         0    -520.848083         27    bachelor's degree             0   \n",
              "20845         2   -3296.759962         39  SECONDARY EDUCATION             1   \n",
              "\n",
              "           family_status  family_status_id gender  \\\n",
              "3133             married                 0      M   \n",
              "5936             married                 0      M   \n",
              "9410           unmarried                 4      M   \n",
              "14798  civil partnership                 1      F   \n",
              "18697  civil partnership                 1      F   \n",
              "20845            married                 0      F   \n",
              "\n",
              "                       income_type  debt  total_income  \\\n",
              "3133                    unemployed     1      9593.119   \n",
              "5936                  entrepreneur     0           NaN   \n",
              "9410                       student     0     15712.260   \n",
              "14798                   unemployed     0     32435.602   \n",
              "18697                 entrepreneur     0     79866.103   \n",
              "20845  paternity / maternity leave     1      8612.661   \n",
              "\n",
              "                               purpose  \n",
              "3133   buying property for renting out  \n",
              "5936       buy residential real estate  \n",
              "9410      construction of own property  \n",
              "14798               housing renovation  \n",
              "18697                 having a wedding  \n",
              "20845                              car  "
            ]
          },
          "execution_count": 14,
          "metadata": {},
          "output_type": "execute_result"
        }
      ],
      "source": [
        "uncert_income = ['student','paternity / maternity leave','unemployed','entrepreneur']\n",
        "uncert_income_list = credit_score.loc[credit_score['income_type'].isin(uncert_income)]\n",
        "uncert_income_list"
      ]
    },
    {
      "cell_type": "markdown",
      "metadata": {
        "id": "TRFaixRIt0AV"
      },
      "source": [
        "Sepertinya dengan ini masih belum bisa mendapatkan pola dengan kolom yang memungkinkan mempengaruhi debt dari income type yang disebutkan diatas"
      ]
    },
    {
      "cell_type": "markdown",
      "metadata": {
        "id": "Ww6vSoHht0AV"
      },
      "source": [
        "Kesimpulan menengah\n",
        "\n",
        "Distribusi dataset asli dan yang telah difilter kurang lebih mirip, namun memang belum bisa menyimpulkan apa apa\n",
        "\n",
        "Maka dari itu proses yang selanjutnya adalah menganalisa faktor lain, Jika ada pola yang ditemui maka kita dapat memperbaiki data berdasarkan pola yang ditemui\n"
      ]
    },
    {
      "cell_type": "code",
      "execution_count": null,
      "metadata": {
        "scrolled": true,
        "id": "6nJ32eIut0AV",
        "outputId": "937bfe27-82d4-4a8c-9547-8641a3bf99cd"
      },
      "outputs": [
        {
          "data": {
            "text/plain": [
              "married              1237\n",
              "civil partnership     442\n",
              "unmarried             288\n",
              "divorced              112\n",
              "widow / widower        95\n",
              "Name: family_status, dtype: int64"
            ]
          },
          "execution_count": 15,
          "metadata": {},
          "output_type": "execute_result"
        }
      ],
      "source": [
        "# Periksa penyebab dan pola lain yang dapat mengakibatkan nilai yang hilang\n",
        "no_income['family_status'].value_counts()\n"
      ]
    },
    {
      "cell_type": "code",
      "execution_count": null,
      "metadata": {
        "scrolled": false,
        "id": "XoYAjdqSt0AW",
        "outputId": "b909add9-a882-4116-d7fd-bcb1c467bccd"
      },
      "outputs": [
        {
          "data": {
            "text/plain": [
              "count    2174.000000\n",
              "mean       43.632015\n",
              "std        12.531481\n",
              "min         0.000000\n",
              "25%        34.000000\n",
              "50%        43.000000\n",
              "75%        54.000000\n",
              "max        73.000000\n",
              "Name: dob_years, dtype: float64"
            ]
          },
          "execution_count": 16,
          "metadata": {},
          "output_type": "execute_result"
        }
      ],
      "source": [
        "no_income['dob_years'].describe()"
      ]
    },
    {
      "cell_type": "markdown",
      "metadata": {
        "id": "8lbIQ7jVt0AW"
      },
      "source": [
        "Setelah dilihat dari nilai nilai statistiknya, sepertinya nilai **NaN** adalah random, standar deviasinya pun tinggi sehingga distribusinya bisa dibilang tersebar secara luas."
      ]
    },
    {
      "cell_type": "markdown",
      "metadata": {
        "id": "Cti3FEF7t0AW"
      },
      "source": [
        "Kesimpulan menengah\n",
        "\n",
        "Setelah dilakukan penelitian tentang family status dan umur, masih belum terlihat pola yang muncul yang bisa dijadikan acuan untuk mengisi nilai NaN, tapi saya masih ragu, sehingga dilakukan penganalisaan lebih lanjut"
      ]
    },
    {
      "cell_type": "code",
      "execution_count": null,
      "metadata": {
        "scrolled": true,
        "id": "6SjLebOIt0AX",
        "outputId": "0f89e345-511e-4037-a7e9-809d53f21b4b"
      },
      "outputs": [
        {
          "data": {
            "text/html": [
              "<div>\n",
              "<style scoped>\n",
              "    .dataframe tbody tr th:only-of-type {\n",
              "        vertical-align: middle;\n",
              "    }\n",
              "\n",
              "    .dataframe tbody tr th {\n",
              "        vertical-align: top;\n",
              "    }\n",
              "\n",
              "    .dataframe thead th {\n",
              "        text-align: right;\n",
              "    }\n",
              "</style>\n",
              "<table border=\"1\" class=\"dataframe\">\n",
              "  <thead>\n",
              "    <tr style=\"text-align: right;\">\n",
              "      <th></th>\n",
              "      <th>children</th>\n",
              "      <th>days_employed</th>\n",
              "      <th>dob_years</th>\n",
              "      <th>education</th>\n",
              "      <th>education_id</th>\n",
              "      <th>family_status</th>\n",
              "      <th>family_status_id</th>\n",
              "      <th>gender</th>\n",
              "      <th>income_type</th>\n",
              "      <th>debt</th>\n",
              "      <th>total_income</th>\n",
              "      <th>purpose</th>\n",
              "    </tr>\n",
              "  </thead>\n",
              "  <tbody>\n",
              "    <tr>\n",
              "      <th>4</th>\n",
              "      <td>0</td>\n",
              "      <td>340266.072047</td>\n",
              "      <td>53</td>\n",
              "      <td>secondary education</td>\n",
              "      <td>1</td>\n",
              "      <td>civil partnership</td>\n",
              "      <td>1</td>\n",
              "      <td>F</td>\n",
              "      <td>retiree</td>\n",
              "      <td>0</td>\n",
              "      <td>25378.572</td>\n",
              "      <td>to have a wedding</td>\n",
              "    </tr>\n",
              "    <tr>\n",
              "      <th>18</th>\n",
              "      <td>0</td>\n",
              "      <td>400281.136913</td>\n",
              "      <td>53</td>\n",
              "      <td>secondary education</td>\n",
              "      <td>1</td>\n",
              "      <td>widow / widower</td>\n",
              "      <td>2</td>\n",
              "      <td>F</td>\n",
              "      <td>retiree</td>\n",
              "      <td>0</td>\n",
              "      <td>9091.804</td>\n",
              "      <td>buying a second-hand car</td>\n",
              "    </tr>\n",
              "    <tr>\n",
              "      <th>24</th>\n",
              "      <td>1</td>\n",
              "      <td>338551.952911</td>\n",
              "      <td>57</td>\n",
              "      <td>secondary education</td>\n",
              "      <td>1</td>\n",
              "      <td>unmarried</td>\n",
              "      <td>4</td>\n",
              "      <td>F</td>\n",
              "      <td>retiree</td>\n",
              "      <td>0</td>\n",
              "      <td>46487.558</td>\n",
              "      <td>transactions with commercial real estate</td>\n",
              "    </tr>\n",
              "    <tr>\n",
              "      <th>25</th>\n",
              "      <td>0</td>\n",
              "      <td>363548.489348</td>\n",
              "      <td>67</td>\n",
              "      <td>secondary education</td>\n",
              "      <td>1</td>\n",
              "      <td>married</td>\n",
              "      <td>0</td>\n",
              "      <td>M</td>\n",
              "      <td>retiree</td>\n",
              "      <td>0</td>\n",
              "      <td>8818.041</td>\n",
              "      <td>buy real estate</td>\n",
              "    </tr>\n",
              "    <tr>\n",
              "      <th>30</th>\n",
              "      <td>1</td>\n",
              "      <td>335581.668515</td>\n",
              "      <td>62</td>\n",
              "      <td>secondary education</td>\n",
              "      <td>1</td>\n",
              "      <td>married</td>\n",
              "      <td>0</td>\n",
              "      <td>F</td>\n",
              "      <td>retiree</td>\n",
              "      <td>0</td>\n",
              "      <td>27432.971</td>\n",
              "      <td>transactions with commercial real estate</td>\n",
              "    </tr>\n",
              "    <tr>\n",
              "      <th>...</th>\n",
              "      <td>...</td>\n",
              "      <td>...</td>\n",
              "      <td>...</td>\n",
              "      <td>...</td>\n",
              "      <td>...</td>\n",
              "      <td>...</td>\n",
              "      <td>...</td>\n",
              "      <td>...</td>\n",
              "      <td>...</td>\n",
              "      <td>...</td>\n",
              "      <td>...</td>\n",
              "      <td>...</td>\n",
              "    </tr>\n",
              "    <tr>\n",
              "      <th>21505</th>\n",
              "      <td>0</td>\n",
              "      <td>338904.866406</td>\n",
              "      <td>53</td>\n",
              "      <td>secondary education</td>\n",
              "      <td>1</td>\n",
              "      <td>civil partnership</td>\n",
              "      <td>1</td>\n",
              "      <td>M</td>\n",
              "      <td>retiree</td>\n",
              "      <td>0</td>\n",
              "      <td>12070.399</td>\n",
              "      <td>to have a wedding</td>\n",
              "    </tr>\n",
              "    <tr>\n",
              "      <th>21508</th>\n",
              "      <td>0</td>\n",
              "      <td>386497.714078</td>\n",
              "      <td>62</td>\n",
              "      <td>secondary education</td>\n",
              "      <td>1</td>\n",
              "      <td>married</td>\n",
              "      <td>0</td>\n",
              "      <td>M</td>\n",
              "      <td>retiree</td>\n",
              "      <td>0</td>\n",
              "      <td>11622.175</td>\n",
              "      <td>property</td>\n",
              "    </tr>\n",
              "    <tr>\n",
              "      <th>21509</th>\n",
              "      <td>0</td>\n",
              "      <td>362161.054124</td>\n",
              "      <td>59</td>\n",
              "      <td>bachelor's degree</td>\n",
              "      <td>0</td>\n",
              "      <td>married</td>\n",
              "      <td>0</td>\n",
              "      <td>M</td>\n",
              "      <td>retiree</td>\n",
              "      <td>0</td>\n",
              "      <td>11684.650</td>\n",
              "      <td>real estate transactions</td>\n",
              "    </tr>\n",
              "    <tr>\n",
              "      <th>21518</th>\n",
              "      <td>0</td>\n",
              "      <td>373995.710838</td>\n",
              "      <td>59</td>\n",
              "      <td>SECONDARY EDUCATION</td>\n",
              "      <td>1</td>\n",
              "      <td>married</td>\n",
              "      <td>0</td>\n",
              "      <td>F</td>\n",
              "      <td>retiree</td>\n",
              "      <td>0</td>\n",
              "      <td>24618.344</td>\n",
              "      <td>purchase of a car</td>\n",
              "    </tr>\n",
              "    <tr>\n",
              "      <th>21521</th>\n",
              "      <td>0</td>\n",
              "      <td>343937.404131</td>\n",
              "      <td>67</td>\n",
              "      <td>secondary education</td>\n",
              "      <td>1</td>\n",
              "      <td>married</td>\n",
              "      <td>0</td>\n",
              "      <td>F</td>\n",
              "      <td>retiree</td>\n",
              "      <td>0</td>\n",
              "      <td>24959.969</td>\n",
              "      <td>purchase of a car</td>\n",
              "    </tr>\n",
              "  </tbody>\n",
              "</table>\n",
              "<p>3445 rows × 12 columns</p>\n",
              "</div>"
            ],
            "text/plain": [
              "       children  days_employed  dob_years            education  education_id  \\\n",
              "4             0  340266.072047         53  secondary education             1   \n",
              "18            0  400281.136913         53  secondary education             1   \n",
              "24            1  338551.952911         57  secondary education             1   \n",
              "25            0  363548.489348         67  secondary education             1   \n",
              "30            1  335581.668515         62  secondary education             1   \n",
              "...         ...            ...        ...                  ...           ...   \n",
              "21505         0  338904.866406         53  secondary education             1   \n",
              "21508         0  386497.714078         62  secondary education             1   \n",
              "21509         0  362161.054124         59    bachelor's degree             0   \n",
              "21518         0  373995.710838         59  SECONDARY EDUCATION             1   \n",
              "21521         0  343937.404131         67  secondary education             1   \n",
              "\n",
              "           family_status  family_status_id gender income_type  debt  \\\n",
              "4      civil partnership                 1      F     retiree     0   \n",
              "18       widow / widower                 2      F     retiree     0   \n",
              "24             unmarried                 4      F     retiree     0   \n",
              "25               married                 0      M     retiree     0   \n",
              "30               married                 0      F     retiree     0   \n",
              "...                  ...               ...    ...         ...   ...   \n",
              "21505  civil partnership                 1      M     retiree     0   \n",
              "21508            married                 0      M     retiree     0   \n",
              "21509            married                 0      M     retiree     0   \n",
              "21518            married                 0      F     retiree     0   \n",
              "21521            married                 0      F     retiree     0   \n",
              "\n",
              "       total_income                                   purpose  \n",
              "4         25378.572                         to have a wedding  \n",
              "18         9091.804                  buying a second-hand car  \n",
              "24        46487.558  transactions with commercial real estate  \n",
              "25         8818.041                           buy real estate  \n",
              "30        27432.971  transactions with commercial real estate  \n",
              "...             ...                                       ...  \n",
              "21505     12070.399                         to have a wedding  \n",
              "21508     11622.175                                  property  \n",
              "21509     11684.650                  real estate transactions  \n",
              "21518     24618.344                         purchase of a car  \n",
              "21521     24959.969                         purchase of a car  \n",
              "\n",
              "[3445 rows x 12 columns]"
            ]
          },
          "execution_count": 17,
          "metadata": {},
          "output_type": "execute_result"
        }
      ],
      "source": [
        "# Memeriksa pola lainnya - jelaskan pola tersebut\n",
        "credit_score[credit_score['days_employed'] > 0 ]"
      ]
    },
    {
      "cell_type": "markdown",
      "metadata": {
        "id": "o1YMO7xet0AX"
      },
      "source": [
        "Kesimpulan\n",
        "\n",
        "\n",
        "Masih belum menemukan pola, namun memang ada beberapa kolom yang memiliki nilai yang aneh, seperti umur yang 0, dan hari bekerja yang negatif\n",
        "\n",
        "Langkah yang selanjutnya akan dilakukan adalah:\n",
        "\n",
        "1. Dikategorikan terlebih dahulu datanya sehingga dapat dikelompokan secara keseluruhan, seperti nilai yang memiliki maksud yang sama (purchase car, second car, dan lain lain), dan huruf kapital pada education.\n",
        "\n",
        "\n",
        "2. Menyamakan dulu ejaan yang berbeda, Lalu menghapus duplikat yang ada, setelah itu mengisi nilai yang hilang berdasarkan mean atau median (berdasarkan kesenjangan nilai). Setelah itu bisa dibuat kategori data"
      ]
    },
    {
      "cell_type": "markdown",
      "metadata": {
        "id": "BmYW7gBot0AY"
      },
      "source": [
        "## Transformasi data\n"
      ]
    },
    {
      "cell_type": "code",
      "execution_count": null,
      "metadata": {
        "scrolled": false,
        "id": "m0umD_Ppt0AY",
        "outputId": "206fb943-28e1-49e1-f06b-717ff2226e76"
      },
      "outputs": [
        {
          "data": {
            "text/plain": [
              "secondary education    13750\n",
              "bachelor's degree       4718\n",
              "SECONDARY EDUCATION      772\n",
              "Secondary Education      711\n",
              "some college             668\n",
              "BACHELOR'S DEGREE        274\n",
              "Bachelor's Degree        268\n",
              "primary education        250\n",
              "Some College              47\n",
              "SOME COLLEGE              29\n",
              "PRIMARY EDUCATION         17\n",
              "Primary Education         15\n",
              "graduate degree            4\n",
              "GRADUATE DEGREE            1\n",
              "Graduate Degree            1\n",
              "Name: education, dtype: int64"
            ]
          },
          "execution_count": 18,
          "metadata": {},
          "output_type": "execute_result"
        }
      ],
      "source": [
        "# Mari kita lihat semua nilai di kolom pendidikan untuk memeriksa ejaan apa yang perlu diperbaiki\n",
        "credit_score['education'].value_counts()"
      ]
    },
    {
      "cell_type": "code",
      "execution_count": null,
      "metadata": {
        "id": "VOrif8Cpt0AY",
        "outputId": "c60ca89c-66d1-4f2f-f62f-e628ee1afe68"
      },
      "outputs": [
        {
          "data": {
            "text/plain": [
              "21525"
            ]
          },
          "execution_count": 19,
          "metadata": {},
          "output_type": "execute_result"
        }
      ],
      "source": [
        "credit_score['education'].value_counts().sum()"
      ]
    },
    {
      "cell_type": "markdown",
      "metadata": {
        "id": "zTclLfkKt0AY"
      },
      "source": [
        "Sepertinya cuma ada perbedaan dalam penulisan kapital, tapi dilihat dulu duplikatnya siapa tau ada yang double input karena kesalahan pengetikan"
      ]
    },
    {
      "cell_type": "code",
      "execution_count": null,
      "metadata": {
        "id": "nN937Go1t0AY",
        "outputId": "8cd0af53-c8c2-4df4-e894-d31dcdb2ebed"
      },
      "outputs": [
        {
          "data": {
            "text/plain": [
              "54"
            ]
          },
          "execution_count": 20,
          "metadata": {},
          "output_type": "execute_result"
        }
      ],
      "source": [
        "credit_score.duplicated().sum()"
      ]
    },
    {
      "cell_type": "code",
      "execution_count": null,
      "metadata": {
        "scrolled": true,
        "id": "Jh7rOlnet0AZ"
      },
      "outputs": [],
      "source": [
        "# Perbaiki register jika diperlukan\n",
        "credit_score['education'] = credit_score['education'].str.lower()"
      ]
    },
    {
      "cell_type": "code",
      "execution_count": null,
      "metadata": {
        "scrolled": false,
        "id": "QIsHCUlct0AZ",
        "outputId": "7fb21539-8e84-4301-aa33-357a43b1182d"
      },
      "outputs": [
        {
          "data": {
            "text/plain": [
              "secondary education    15233\n",
              "bachelor's degree       5260\n",
              "some college             744\n",
              "primary education        282\n",
              "graduate degree            6\n",
              "Name: education, dtype: int64"
            ]
          },
          "execution_count": 22,
          "metadata": {},
          "output_type": "execute_result"
        }
      ],
      "source": [
        "# Memeriksa semua nilai di kolom untuk memastikan kita telah memperbaikinya\n",
        "credit_score['education'].value_counts()\n"
      ]
    },
    {
      "cell_type": "code",
      "execution_count": null,
      "metadata": {
        "scrolled": true,
        "id": "OYVVqC3Xt0AZ",
        "outputId": "6386e721-d0ac-45ed-9bb4-7498d6aa686a"
      },
      "outputs": [
        {
          "data": {
            "text/plain": [
              "71"
            ]
          },
          "execution_count": 23,
          "metadata": {},
          "output_type": "execute_result"
        }
      ],
      "source": [
        "credit_score.duplicated().sum()"
      ]
    },
    {
      "cell_type": "markdown",
      "metadata": {
        "id": "X5x0bsjgt0AZ"
      },
      "source": [
        "Ya, ternyata benar, data duplikat bertambah 17. Hal ini menunjukkan bahwa ada kemungkinan double input dari nasabah karena format ejaan yang dipakai belum sesuai sehingga nasabah melakukan input ulang data yang dikira salah format."
      ]
    },
    {
      "cell_type": "code",
      "execution_count": null,
      "metadata": {
        "scrolled": true,
        "id": "LRcBHdv6t0AZ",
        "outputId": "a06ce941-3fc8-4cff-d7bb-e35bf7f48a25"
      },
      "outputs": [
        {
          "data": {
            "text/plain": [
              "21525"
            ]
          },
          "execution_count": 24,
          "metadata": {},
          "output_type": "execute_result"
        }
      ],
      "source": [
        "credit_score['education'].value_counts().sum()"
      ]
    },
    {
      "cell_type": "markdown",
      "metadata": {
        "id": "P7rZGKWnt0Aa"
      },
      "source": [
        "Selanjutnya melihat anomali data pada kolom lainnya, yaitu children"
      ]
    },
    {
      "cell_type": "code",
      "execution_count": null,
      "metadata": {
        "id": "eGzGUnUSt0Aa",
        "outputId": "b8a12ee3-7739-4df1-db05-1db9da209087"
      },
      "outputs": [
        {
          "data": {
            "text/plain": [
              " 0     14149\n",
              " 1      4818\n",
              " 2      2055\n",
              " 3       330\n",
              " 20       76\n",
              "-1        47\n",
              " 4        41\n",
              " 5         9\n",
              "Name: children, dtype: int64"
            ]
          },
          "execution_count": 25,
          "metadata": {},
          "output_type": "execute_result"
        }
      ],
      "source": [
        "# Mari kita lihat distribusi nilai pada kolom `children`\n",
        "credit_score['children'].value_counts()"
      ]
    },
    {
      "cell_type": "markdown",
      "metadata": {
        "id": "gWQJizIHt0Aa"
      },
      "source": [
        "Ternyata ada anomali data pada kolom children! 20 anak sepertinya terlalu banyak, ataukah keluarganya mau membuat klub sepakbola? sepertinya tidak hehe. Ada kemungkinan salah input yang harusnya 2 menjadi 20 karena tombol numpad 2 dan 0 sejajar vertikal, lalu anak yang berjumlah -1 sepertinya kesalahan input juga yang harusnya 1."
      ]
    },
    {
      "cell_type": "code",
      "execution_count": null,
      "metadata": {
        "id": "UwkS26ypt0Ab"
      },
      "outputs": [],
      "source": [
        "# [perbaiki data berdasarkan keputusan Anda]\n",
        "credit_score.loc[credit_score['children'] == -1 , 'children'] = 1\n",
        "credit_score.loc[credit_score['children'] == 20 , 'children'] = 2\n"
      ]
    },
    {
      "cell_type": "code",
      "execution_count": null,
      "metadata": {
        "scrolled": true,
        "id": "7uQ3lQgRt0Ab",
        "outputId": "2311c748-dab0-4f0e-9ab7-28117e64789e"
      },
      "outputs": [
        {
          "data": {
            "text/plain": [
              "0    14149\n",
              "1     4865\n",
              "2     2131\n",
              "3      330\n",
              "4       41\n",
              "5        9\n",
              "Name: children, dtype: int64"
            ]
          },
          "execution_count": 27,
          "metadata": {},
          "output_type": "execute_result"
        }
      ],
      "source": [
        "# Periksa kembali kolom `children` untuk memastikan semua telah diperbaiki\n",
        "credit_score['children'].value_counts()\n"
      ]
    },
    {
      "cell_type": "markdown",
      "metadata": {
        "id": "_xei5khut0Ab"
      },
      "source": [
        "Lanjut kembali menganalisa data pada kolom lain untuk melihat apakah ada anomali lainnya.\n",
        "\n",
        "**Ada beberapa data yang memiliki nilai negatif, dan ada yang nilainya sangat tinggi**"
      ]
    },
    {
      "cell_type": "markdown",
      "metadata": {
        "id": "QNrgYouot0Ab"
      },
      "source": [
        "Pertama melihat dulu data yang memiliki nilai negatif."
      ]
    },
    {
      "cell_type": "code",
      "execution_count": null,
      "metadata": {
        "scrolled": true,
        "id": "2YmCzP7at0Ac",
        "outputId": "0ce73cef-a14a-4036-84df-b1b4fc90329b"
      },
      "outputs": [
        {
          "name": "stdout",
          "output_type": "stream",
          "text": [
            "Jumlah data yang memiliki nilai negatif adalah 15906 dengan persentase dari seluruh data sebesar 73.90%\n"
          ]
        }
      ],
      "source": [
        "# Temukan data yang bermasalah di `days_employed`, jika terdapat masalah, dan hitung persentasenya\n",
        "jml_brs_ngtf = len(credit_score.loc[credit_score['days_employed'] < 0])\n",
        "day_ratio = jml_brs_ngtf/len(credit_score['days_employed'])\n",
        "print(f'Jumlah data yang memiliki nilai negatif adalah {jml_brs_ngtf} dengan persentase dari seluruh data sebesar {day_ratio:.2%}')"
      ]
    },
    {
      "cell_type": "markdown",
      "metadata": {
        "id": "pM8dkhb7t0Ac"
      },
      "source": [
        "Data bermasalah sangat tinggi yaitu 73.44% , sepertinya memang benar ada kesalahan teknis, selanjutnya dibenarkan dengan nilai mutlak.\n",
        "\n",
        "Ada data lagi yang bermasalah yaitu, jumlah hari bekerja yang lebih dari 300 ribu, sepertinya ada kesalahan teknis, sehingga dibenarkan dengan dibagi 100."
      ]
    },
    {
      "cell_type": "code",
      "execution_count": null,
      "metadata": {
        "scrolled": true,
        "id": "9PHyM0Gbt0Ac",
        "outputId": "92e4fd58-c060-47e8-f834-5977047dce3e"
      },
      "outputs": [
        {
          "data": {
            "text/plain": [
              "<AxesSubplot:xlabel='days_employed', ylabel='Count'>"
            ]
          },
          "execution_count": 29,
          "metadata": {},
          "output_type": "execute_result"
        },
        {
          "data": {
            "image/png": "[encoded data removed]",
            "text/plain": [
              "<Figure size 432x288 with 1 Axes>"
            ]
          },
          "metadata": {
            "needs_background": "light"
          },
          "output_type": "display_data"
        }
      ],
      "source": [
        "sb.histplot(credit_score['days_employed'])"
      ]
    },
    {
      "cell_type": "code",
      "execution_count": null,
      "metadata": {
        "id": "rkrIWINIt0Ac"
      },
      "outputs": [],
      "source": [
        "# Atasi nilai yang bermasalah, jika ada\n",
        "credit_score['days_employed'] = credit_score['days_employed'].abs()\n",
        "credit_score.loc[credit_score['days_employed'] > 3e5 , 'days_employed']  = credit_score.loc[credit_score['days_employed'] > 3e5 , 'days_employed']/100"
      ]
    },
    {
      "cell_type": "code",
      "execution_count": null,
      "metadata": {
        "scrolled": true,
        "id": "lx4VI12Ct0Ad",
        "outputId": "79c95ab4-2ea1-4f51-e32d-5f17946040d8"
      },
      "outputs": [
        {
          "data": {
            "text/html": [
              "<div>\n",
              "<style scoped>\n",
              "    .dataframe tbody tr th:only-of-type {\n",
              "        vertical-align: middle;\n",
              "    }\n",
              "\n",
              "    .dataframe tbody tr th {\n",
              "        vertical-align: top;\n",
              "    }\n",
              "\n",
              "    .dataframe thead th {\n",
              "        text-align: right;\n",
              "    }\n",
              "</style>\n",
              "<table border=\"1\" class=\"dataframe\">\n",
              "  <thead>\n",
              "    <tr style=\"text-align: right;\">\n",
              "      <th></th>\n",
              "      <th>children</th>\n",
              "      <th>days_employed</th>\n",
              "      <th>dob_years</th>\n",
              "      <th>education</th>\n",
              "      <th>education_id</th>\n",
              "      <th>family_status</th>\n",
              "      <th>family_status_id</th>\n",
              "      <th>gender</th>\n",
              "      <th>income_type</th>\n",
              "      <th>debt</th>\n",
              "      <th>total_income</th>\n",
              "      <th>purpose</th>\n",
              "    </tr>\n",
              "  </thead>\n",
              "  <tbody>\n",
              "    <tr>\n",
              "      <th>1539</th>\n",
              "      <td>0</td>\n",
              "      <td>15785.678893</td>\n",
              "      <td>59</td>\n",
              "      <td>bachelor's degree</td>\n",
              "      <td>0</td>\n",
              "      <td>unmarried</td>\n",
              "      <td>4</td>\n",
              "      <td>F</td>\n",
              "      <td>employee</td>\n",
              "      <td>0</td>\n",
              "      <td>19130.216</td>\n",
              "      <td>transactions with commercial real estate</td>\n",
              "    </tr>\n",
              "    <tr>\n",
              "      <th>3974</th>\n",
              "      <td>0</td>\n",
              "      <td>15835.725775</td>\n",
              "      <td>64</td>\n",
              "      <td>secondary education</td>\n",
              "      <td>1</td>\n",
              "      <td>civil partnership</td>\n",
              "      <td>1</td>\n",
              "      <td>F</td>\n",
              "      <td>business</td>\n",
              "      <td>0</td>\n",
              "      <td>15497.365</td>\n",
              "      <td>to have a wedding</td>\n",
              "    </tr>\n",
              "    <tr>\n",
              "      <th>4299</th>\n",
              "      <td>0</td>\n",
              "      <td>17615.563266</td>\n",
              "      <td>61</td>\n",
              "      <td>secondary education</td>\n",
              "      <td>1</td>\n",
              "      <td>married</td>\n",
              "      <td>0</td>\n",
              "      <td>F</td>\n",
              "      <td>business</td>\n",
              "      <td>0</td>\n",
              "      <td>19609.719</td>\n",
              "      <td>purchase of the house</td>\n",
              "    </tr>\n",
              "    <tr>\n",
              "      <th>4321</th>\n",
              "      <td>0</td>\n",
              "      <td>15773.061335</td>\n",
              "      <td>61</td>\n",
              "      <td>secondary education</td>\n",
              "      <td>1</td>\n",
              "      <td>civil partnership</td>\n",
              "      <td>1</td>\n",
              "      <td>F</td>\n",
              "      <td>employee</td>\n",
              "      <td>0</td>\n",
              "      <td>32938.974</td>\n",
              "      <td>wedding ceremony</td>\n",
              "    </tr>\n",
              "    <tr>\n",
              "      <th>5581</th>\n",
              "      <td>0</td>\n",
              "      <td>15079.216069</td>\n",
              "      <td>55</td>\n",
              "      <td>secondary education</td>\n",
              "      <td>1</td>\n",
              "      <td>married</td>\n",
              "      <td>0</td>\n",
              "      <td>F</td>\n",
              "      <td>civil servant</td>\n",
              "      <td>0</td>\n",
              "      <td>28601.820</td>\n",
              "      <td>housing transactions</td>\n",
              "    </tr>\n",
              "    <tr>\n",
              "      <th>7329</th>\n",
              "      <td>0</td>\n",
              "      <td>16593.472817</td>\n",
              "      <td>60</td>\n",
              "      <td>bachelor's degree</td>\n",
              "      <td>0</td>\n",
              "      <td>married</td>\n",
              "      <td>0</td>\n",
              "      <td>F</td>\n",
              "      <td>employee</td>\n",
              "      <td>0</td>\n",
              "      <td>19951.655</td>\n",
              "      <td>going to university</td>\n",
              "    </tr>\n",
              "    <tr>\n",
              "      <th>7731</th>\n",
              "      <td>0</td>\n",
              "      <td>15618.063786</td>\n",
              "      <td>64</td>\n",
              "      <td>secondary education</td>\n",
              "      <td>1</td>\n",
              "      <td>married</td>\n",
              "      <td>0</td>\n",
              "      <td>F</td>\n",
              "      <td>business</td>\n",
              "      <td>0</td>\n",
              "      <td>47444.057</td>\n",
              "      <td>university education</td>\n",
              "    </tr>\n",
              "    <tr>\n",
              "      <th>15675</th>\n",
              "      <td>0</td>\n",
              "      <td>15410.040779</td>\n",
              "      <td>65</td>\n",
              "      <td>bachelor's degree</td>\n",
              "      <td>0</td>\n",
              "      <td>married</td>\n",
              "      <td>0</td>\n",
              "      <td>F</td>\n",
              "      <td>employee</td>\n",
              "      <td>0</td>\n",
              "      <td>30208.011</td>\n",
              "      <td>buy residential real estate</td>\n",
              "    </tr>\n",
              "    <tr>\n",
              "      <th>16335</th>\n",
              "      <td>1</td>\n",
              "      <td>18388.949901</td>\n",
              "      <td>61</td>\n",
              "      <td>secondary education</td>\n",
              "      <td>1</td>\n",
              "      <td>married</td>\n",
              "      <td>0</td>\n",
              "      <td>F</td>\n",
              "      <td>employee</td>\n",
              "      <td>0</td>\n",
              "      <td>29788.629</td>\n",
              "      <td>real estate transactions</td>\n",
              "    </tr>\n",
              "    <tr>\n",
              "      <th>16825</th>\n",
              "      <td>0</td>\n",
              "      <td>16119.687737</td>\n",
              "      <td>64</td>\n",
              "      <td>secondary education</td>\n",
              "      <td>1</td>\n",
              "      <td>married</td>\n",
              "      <td>0</td>\n",
              "      <td>F</td>\n",
              "      <td>employee</td>\n",
              "      <td>0</td>\n",
              "      <td>14644.430</td>\n",
              "      <td>buy residential real estate</td>\n",
              "    </tr>\n",
              "    <tr>\n",
              "      <th>16868</th>\n",
              "      <td>0</td>\n",
              "      <td>15193.032201</td>\n",
              "      <td>57</td>\n",
              "      <td>secondary education</td>\n",
              "      <td>1</td>\n",
              "      <td>married</td>\n",
              "      <td>0</td>\n",
              "      <td>F</td>\n",
              "      <td>civil servant</td>\n",
              "      <td>0</td>\n",
              "      <td>31199.021</td>\n",
              "      <td>building a property</td>\n",
              "    </tr>\n",
              "    <tr>\n",
              "      <th>17838</th>\n",
              "      <td>0</td>\n",
              "      <td>16264.699501</td>\n",
              "      <td>59</td>\n",
              "      <td>secondary education</td>\n",
              "      <td>1</td>\n",
              "      <td>married</td>\n",
              "      <td>0</td>\n",
              "      <td>F</td>\n",
              "      <td>employee</td>\n",
              "      <td>0</td>\n",
              "      <td>8198.235</td>\n",
              "      <td>to buy a car</td>\n",
              "    </tr>\n",
              "    <tr>\n",
              "      <th>19788</th>\n",
              "      <td>0</td>\n",
              "      <td>15267.541183</td>\n",
              "      <td>56</td>\n",
              "      <td>secondary education</td>\n",
              "      <td>1</td>\n",
              "      <td>married</td>\n",
              "      <td>0</td>\n",
              "      <td>M</td>\n",
              "      <td>employee</td>\n",
              "      <td>0</td>\n",
              "      <td>19676.219</td>\n",
              "      <td>car purchase</td>\n",
              "    </tr>\n",
              "  </tbody>\n",
              "</table>\n",
              "</div>"
            ],
            "text/plain": [
              "       children  days_employed  dob_years            education  education_id  \\\n",
              "1539          0   15785.678893         59    bachelor's degree             0   \n",
              "3974          0   15835.725775         64  secondary education             1   \n",
              "4299          0   17615.563266         61  secondary education             1   \n",
              "4321          0   15773.061335         61  secondary education             1   \n",
              "5581          0   15079.216069         55  secondary education             1   \n",
              "7329          0   16593.472817         60    bachelor's degree             0   \n",
              "7731          0   15618.063786         64  secondary education             1   \n",
              "15675         0   15410.040779         65    bachelor's degree             0   \n",
              "16335         1   18388.949901         61  secondary education             1   \n",
              "16825         0   16119.687737         64  secondary education             1   \n",
              "16868         0   15193.032201         57  secondary education             1   \n",
              "17838         0   16264.699501         59  secondary education             1   \n",
              "19788         0   15267.541183         56  secondary education             1   \n",
              "\n",
              "           family_status  family_status_id gender    income_type  debt  \\\n",
              "1539           unmarried                 4      F       employee     0   \n",
              "3974   civil partnership                 1      F       business     0   \n",
              "4299             married                 0      F       business     0   \n",
              "4321   civil partnership                 1      F       employee     0   \n",
              "5581             married                 0      F  civil servant     0   \n",
              "7329             married                 0      F       employee     0   \n",
              "7731             married                 0      F       business     0   \n",
              "15675            married                 0      F       employee     0   \n",
              "16335            married                 0      F       employee     0   \n",
              "16825            married                 0      F       employee     0   \n",
              "16868            married                 0      F  civil servant     0   \n",
              "17838            married                 0      F       employee     0   \n",
              "19788            married                 0      M       employee     0   \n",
              "\n",
              "       total_income                                   purpose  \n",
              "1539      19130.216  transactions with commercial real estate  \n",
              "3974      15497.365                         to have a wedding  \n",
              "4299      19609.719                     purchase of the house  \n",
              "4321      32938.974                          wedding ceremony  \n",
              "5581      28601.820                      housing transactions  \n",
              "7329      19951.655                       going to university  \n",
              "7731      47444.057                      university education  \n",
              "15675     30208.011               buy residential real estate  \n",
              "16335     29788.629                  real estate transactions  \n",
              "16825     14644.430               buy residential real estate  \n",
              "16868     31199.021                       building a property  \n",
              "17838      8198.235                              to buy a car  \n",
              "19788     19676.219                              car purchase  "
            ]
          },
          "execution_count": 31,
          "metadata": {},
          "output_type": "execute_result"
        }
      ],
      "source": [
        "# Periksa hasilnya - pastikan telah diperbaiki\n",
        "credit_score.loc[credit_score['days_employed'] < 0 ]\n",
        "credit_score.loc[credit_score['days_employed'] > 15000]"
      ]
    },
    {
      "cell_type": "code",
      "execution_count": null,
      "metadata": {
        "scrolled": true,
        "id": "Vo17NzdEt0Ad",
        "outputId": "b5acf8b6-80a8-4594-ba44-3bc4ea4475af"
      },
      "outputs": [
        {
          "data": {
            "text/plain": [
              "<AxesSubplot:xlabel='days_employed', ylabel='Count'>"
            ]
          },
          "execution_count": 32,
          "metadata": {},
          "output_type": "execute_result"
        },
        {
          "data": {
            "image/png": "[encoded data removed]",
            "text/plain": [
              "<Figure size 432x288 with 1 Axes>"
            ]
          },
          "metadata": {
            "needs_background": "light"
          },
          "output_type": "display_data"
        }
      ],
      "source": [
        "sb.histplot(credit_score['days_employed'])"
      ]
    },
    {
      "cell_type": "markdown",
      "metadata": {
        "id": "wJ2otFzHt0Ad"
      },
      "source": [
        "Data telah diperbaiki"
      ]
    },
    {
      "cell_type": "markdown",
      "metadata": {
        "id": "2eNYCAcBt0Ad"
      },
      "source": [
        "[Sekarang mari kita melihat usia klien dan apakah terdapat masalah di sana. Sekali lagi, pikirkan tentang data apakah yang dapat menjadi suatu kejanggalan pada kolom ini, yaitu berapa usia seseorang.]\n"
      ]
    },
    {
      "cell_type": "code",
      "execution_count": null,
      "metadata": {
        "scrolled": false,
        "id": "M8hjUwX3t0Ad",
        "outputId": "85f37530-4fe9-4efe-cf81-4a2c090ae170"
      },
      "outputs": [
        {
          "data": {
            "text/plain": [
              "array([ 0, 19, 20, 21, 22, 23, 24, 25, 26, 27, 28, 29, 30, 31, 32, 33, 34,\n",
              "       35, 36, 37, 38, 39, 40, 41, 42, 43, 44, 45, 46, 47, 48, 49, 50, 51,\n",
              "       52, 53, 54, 55, 56, 57, 58, 59, 60, 61, 62, 63, 64, 65, 66, 67, 68,\n",
              "       69, 70, 71, 72, 73, 74, 75])"
            ]
          },
          "execution_count": 33,
          "metadata": {},
          "output_type": "execute_result"
        }
      ],
      "source": [
        "credit_score['dob_years'].sort_values().unique()"
      ]
    },
    {
      "cell_type": "markdown",
      "metadata": {
        "id": "UgUnlqZlt0Ae"
      },
      "source": [
        "Terdapat nilai yang aneh, yaitu umurnya 0! Untung saja tidak ada yang memiliki umur yang lebih dari 1000 tahun."
      ]
    },
    {
      "cell_type": "code",
      "execution_count": null,
      "metadata": {
        "scrolled": true,
        "id": "r9lE1tuEt0Ae",
        "outputId": "b79e78a6-8a65-4553-c426-43f227524ab0"
      },
      "outputs": [
        {
          "name": "stdout",
          "output_type": "stream",
          "text": [
            "0.47%\n",
            "Dengan jumlah orang yang berumur 0 adalah 101 orang\n"
          ]
        }
      ],
      "source": [
        "# Periksa `dob_years` untuk nilai yang mencurigakan dan hitung persentasenya\n",
        "underage = credit_score.loc[credit_score['dob_years'] == 0]\n",
        "age_ratio = len(underage)/len(credit_score['dob_years'])\n",
        "print(f'{age_ratio:.2%}')\n",
        "print(f'Dengan jumlah orang yang berumur 0 adalah {len(underage)} orang')"
      ]
    },
    {
      "cell_type": "markdown",
      "metadata": {
        "id": "jdI2vUpKt0Af"
      },
      "source": [
        "Yap, terdapat nilai umur yang aneh, yaitu 0, namun hanya 0.47% yang merupakan data bermasalah.\n",
        "\n",
        "Pertama dilihat dulu persebaran datanya, jika persebaran datanya \"simetris\" maka bisa diisi dengan mean, kalau tidak \"simetris bisa menggunakan median.\n"
      ]
    },
    {
      "cell_type": "code",
      "execution_count": null,
      "metadata": {
        "id": "TO76Z9Jnt0Af",
        "outputId": "869a1ce8-4ab0-4481-9063-565c580e2a4b"
      },
      "outputs": [
        {
          "data": {
            "text/plain": [
              "count    21525.000000\n",
              "mean        43.293380\n",
              "std         12.574584\n",
              "min          0.000000\n",
              "25%         33.000000\n",
              "50%         42.000000\n",
              "75%         53.000000\n",
              "max         75.000000\n",
              "Name: dob_years, dtype: float64"
            ]
          },
          "execution_count": 35,
          "metadata": {},
          "output_type": "execute_result"
        },
        {
          "data": {
            "image/png": "[encoded data removed]",
            "text/plain": [
              "<Figure size 432x288 with 1 Axes>"
            ]
          },
          "metadata": {
            "needs_background": "light"
          },
          "output_type": "display_data"
        }
      ],
      "source": [
        "# Atasi masalah pada kolom `dob_years`, jika terdapat masalah\n",
        "\n",
        "graf_age = sb.histplot(credit_score['dob_years'])\n",
        "graf_age\n",
        "credit_score['dob_years'].describe()"
      ]
    },
    {
      "cell_type": "markdown",
      "metadata": {
        "id": "Xk0aFk16t0Af"
      },
      "source": [
        "**Karena persebaran datanya normal, maka perbaikan data menggunakan mean**"
      ]
    },
    {
      "cell_type": "code",
      "execution_count": null,
      "metadata": {
        "id": "GJsj2Gcxt0Af"
      },
      "outputs": [],
      "source": [
        "credit_score.loc[credit_score['dob_years'] == 0 , 'dob_years'] = round(credit_score['dob_years'].mean())"
      ]
    },
    {
      "cell_type": "code",
      "execution_count": null,
      "metadata": {
        "scrolled": false,
        "id": "QLX9inQGt0Ag",
        "outputId": "c22a2480-7c7d-40f2-b176-d6bae137e317"
      },
      "outputs": [
        {
          "data": {
            "text/plain": [
              "<AxesSubplot:xlabel='dob_years', ylabel='Count'>"
            ]
          },
          "execution_count": 37,
          "metadata": {},
          "output_type": "execute_result"
        },
        {
          "data": {
            "image/png": "[encoded data removed]",
            "text/plain": [
              "<Figure size 432x288 with 1 Axes>"
            ]
          },
          "metadata": {
            "needs_background": "light"
          },
          "output_type": "display_data"
        }
      ],
      "source": [
        "# Periksa hasilnya - pastikan telah diperbaiki\n",
        "sb.histplot(credit_score['dob_years'])"
      ]
    },
    {
      "cell_type": "markdown",
      "metadata": {
        "id": "lS_wkE6wt0Ag"
      },
      "source": [
        "Selanjutnya memeriksa data pada kolom lain"
      ]
    },
    {
      "cell_type": "code",
      "execution_count": null,
      "metadata": {
        "id": "hCzk4O4Ht0Ag",
        "outputId": "22b9f5c7-aa7e-49a8-9c59-06b06d4e7fa6"
      },
      "outputs": [
        {
          "data": {
            "text/plain": [
              "married              12380\n",
              "civil partnership     4177\n",
              "unmarried             2813\n",
              "divorced              1195\n",
              "widow / widower        960\n",
              "Name: family_status, dtype: int64"
            ]
          },
          "execution_count": 38,
          "metadata": {},
          "output_type": "execute_result"
        }
      ],
      "source": [
        "# Mari kita lihat nilai untuk kolom\n",
        "credit_score['family_status'].value_counts()"
      ]
    },
    {
      "cell_type": "markdown",
      "metadata": {
        "id": "XL6zWTT3t0Ag"
      },
      "source": [
        "**Tidak ada nilai yang bermasalah di kolom ini**"
      ]
    },
    {
      "cell_type": "markdown",
      "metadata": {
        "id": "YoSaIJ2Et0Ah"
      },
      "source": [
        "Selanjutnya memeriksa kolom lain yaitu gender!"
      ]
    },
    {
      "cell_type": "code",
      "execution_count": null,
      "metadata": {
        "id": "xN8fOtIet0Ah",
        "outputId": "9399577e-9562-4277-b375-b3fc51df2a87"
      },
      "outputs": [
        {
          "data": {
            "text/plain": [
              "F      14236\n",
              "M       7288\n",
              "XNA        1\n",
              "Name: gender, dtype: int64"
            ]
          },
          "execution_count": 39,
          "metadata": {},
          "output_type": "execute_result"
        }
      ],
      "source": [
        "credit_score['gender'].value_counts()# Mari kita melihat nilainya di kolom"
      ]
    },
    {
      "cell_type": "code",
      "execution_count": null,
      "metadata": {
        "scrolled": false,
        "id": "XQQJ9QX-t0Ah"
      },
      "outputs": [],
      "source": [
        "credit_score.loc[credit_score['gender'] == 'XNA']# Atasi nilai-nilai yang bermasalah, jika ada\n",
        "credit_score.drop(index = 10701 , inplace=True)"
      ]
    },
    {
      "cell_type": "markdown",
      "metadata": {
        "id": "SGqTjL2Rt0Ah"
      },
      "source": [
        "Hanya ada satu data yang bermasalah, data ini memiliki gender XNA. Data ini akan di drop. Jika ada komplain maka bisa diinput ulang dengan benar. "
      ]
    },
    {
      "cell_type": "code",
      "execution_count": null,
      "metadata": {
        "id": "zlbHoEs4t0Ah"
      },
      "outputs": [],
      "source": [
        "no_income = credit_score.loc[(credit_score['days_employed'].isna()) & ((credit_score['total_income']).isna())]"
      ]
    },
    {
      "cell_type": "code",
      "execution_count": null,
      "metadata": {
        "scrolled": true,
        "id": "1fKqfMlyt0Ai",
        "outputId": "18f0fa3c-c58b-4302-fa3c-91558e284a23"
      },
      "outputs": [
        {
          "data": {
            "text/plain": [
              "F    14236\n",
              "M     7288\n",
              "Name: gender, dtype: int64"
            ]
          },
          "execution_count": 42,
          "metadata": {},
          "output_type": "execute_result"
        }
      ],
      "source": [
        "# Periksa hasilnya - pastikan telah diperbaiki\n",
        "credit_score['gender'].value_counts()\n"
      ]
    },
    {
      "cell_type": "markdown",
      "metadata": {
        "id": "bJcacCtLt0Ai"
      },
      "source": [
        "Selanjutnya adalah income type, yang mana memiliki banyak missing values"
      ]
    },
    {
      "cell_type": "code",
      "execution_count": null,
      "metadata": {
        "scrolled": false,
        "id": "bPCLIzCUt0Ai",
        "outputId": "912f5f81-6e54-49ec-d3cd-6d3c33d859e4"
      },
      "outputs": [
        {
          "data": {
            "text/plain": [
              "employee                       11119\n",
              "business                        5084\n",
              "retiree                         3856\n",
              "civil servant                   1459\n",
              "entrepreneur                       2\n",
              "unemployed                         2\n",
              "paternity / maternity leave        1\n",
              "student                            1\n",
              "Name: income_type, dtype: int64"
            ]
          },
          "execution_count": 43,
          "metadata": {},
          "output_type": "execute_result"
        }
      ],
      "source": [
        "credit_score['income_type'].value_counts()# Mari kita lihat nilai dalam kolom\n"
      ]
    },
    {
      "cell_type": "markdown",
      "metadata": {
        "id": "KRBMokvLt0Ai"
      },
      "source": [
        "Kita lihat dulu detail informasi tentang 4 income_type yang memiliki jumlah sedikit"
      ]
    },
    {
      "cell_type": "code",
      "execution_count": null,
      "metadata": {
        "scrolled": true,
        "id": "lpQKoJCDt0Ai",
        "outputId": "e13c58d2-50b4-4d80-ee4d-899cf0bf47d8"
      },
      "outputs": [
        {
          "data": {
            "text/html": [
              "<div>\n",
              "<style scoped>\n",
              "    .dataframe tbody tr th:only-of-type {\n",
              "        vertical-align: middle;\n",
              "    }\n",
              "\n",
              "    .dataframe tbody tr th {\n",
              "        vertical-align: top;\n",
              "    }\n",
              "\n",
              "    .dataframe thead th {\n",
              "        text-align: right;\n",
              "    }\n",
              "</style>\n",
              "<table border=\"1\" class=\"dataframe\">\n",
              "  <thead>\n",
              "    <tr style=\"text-align: right;\">\n",
              "      <th></th>\n",
              "      <th>children</th>\n",
              "      <th>days_employed</th>\n",
              "      <th>dob_years</th>\n",
              "      <th>education</th>\n",
              "      <th>education_id</th>\n",
              "      <th>family_status</th>\n",
              "      <th>family_status_id</th>\n",
              "      <th>gender</th>\n",
              "      <th>income_type</th>\n",
              "      <th>debt</th>\n",
              "      <th>total_income</th>\n",
              "      <th>purpose</th>\n",
              "    </tr>\n",
              "  </thead>\n",
              "  <tbody>\n",
              "    <tr>\n",
              "      <th>3133</th>\n",
              "      <td>1</td>\n",
              "      <td>3375.244668</td>\n",
              "      <td>31</td>\n",
              "      <td>secondary education</td>\n",
              "      <td>1</td>\n",
              "      <td>married</td>\n",
              "      <td>0</td>\n",
              "      <td>M</td>\n",
              "      <td>unemployed</td>\n",
              "      <td>1</td>\n",
              "      <td>9593.119</td>\n",
              "      <td>buying property for renting out</td>\n",
              "    </tr>\n",
              "    <tr>\n",
              "      <th>5936</th>\n",
              "      <td>0</td>\n",
              "      <td>NaN</td>\n",
              "      <td>58</td>\n",
              "      <td>bachelor's degree</td>\n",
              "      <td>0</td>\n",
              "      <td>married</td>\n",
              "      <td>0</td>\n",
              "      <td>M</td>\n",
              "      <td>entrepreneur</td>\n",
              "      <td>0</td>\n",
              "      <td>NaN</td>\n",
              "      <td>buy residential real estate</td>\n",
              "    </tr>\n",
              "    <tr>\n",
              "      <th>9410</th>\n",
              "      <td>0</td>\n",
              "      <td>578.751554</td>\n",
              "      <td>22</td>\n",
              "      <td>bachelor's degree</td>\n",
              "      <td>0</td>\n",
              "      <td>unmarried</td>\n",
              "      <td>4</td>\n",
              "      <td>M</td>\n",
              "      <td>student</td>\n",
              "      <td>0</td>\n",
              "      <td>15712.260</td>\n",
              "      <td>construction of own property</td>\n",
              "    </tr>\n",
              "    <tr>\n",
              "      <th>14798</th>\n",
              "      <td>0</td>\n",
              "      <td>3953.028387</td>\n",
              "      <td>45</td>\n",
              "      <td>bachelor's degree</td>\n",
              "      <td>0</td>\n",
              "      <td>civil partnership</td>\n",
              "      <td>1</td>\n",
              "      <td>F</td>\n",
              "      <td>unemployed</td>\n",
              "      <td>0</td>\n",
              "      <td>32435.602</td>\n",
              "      <td>housing renovation</td>\n",
              "    </tr>\n",
              "    <tr>\n",
              "      <th>18697</th>\n",
              "      <td>0</td>\n",
              "      <td>520.848083</td>\n",
              "      <td>27</td>\n",
              "      <td>bachelor's degree</td>\n",
              "      <td>0</td>\n",
              "      <td>civil partnership</td>\n",
              "      <td>1</td>\n",
              "      <td>F</td>\n",
              "      <td>entrepreneur</td>\n",
              "      <td>0</td>\n",
              "      <td>79866.103</td>\n",
              "      <td>having a wedding</td>\n",
              "    </tr>\n",
              "    <tr>\n",
              "      <th>20845</th>\n",
              "      <td>2</td>\n",
              "      <td>3296.759962</td>\n",
              "      <td>39</td>\n",
              "      <td>secondary education</td>\n",
              "      <td>1</td>\n",
              "      <td>married</td>\n",
              "      <td>0</td>\n",
              "      <td>F</td>\n",
              "      <td>paternity / maternity leave</td>\n",
              "      <td>1</td>\n",
              "      <td>8612.661</td>\n",
              "      <td>car</td>\n",
              "    </tr>\n",
              "  </tbody>\n",
              "</table>\n",
              "</div>"
            ],
            "text/plain": [
              "       children  days_employed  dob_years            education  education_id  \\\n",
              "3133          1    3375.244668         31  secondary education             1   \n",
              "5936          0            NaN         58    bachelor's degree             0   \n",
              "9410          0     578.751554         22    bachelor's degree             0   \n",
              "14798         0    3953.028387         45    bachelor's degree             0   \n",
              "18697         0     520.848083         27    bachelor's degree             0   \n",
              "20845         2    3296.759962         39  secondary education             1   \n",
              "\n",
              "           family_status  family_status_id gender  \\\n",
              "3133             married                 0      M   \n",
              "5936             married                 0      M   \n",
              "9410           unmarried                 4      M   \n",
              "14798  civil partnership                 1      F   \n",
              "18697  civil partnership                 1      F   \n",
              "20845            married                 0      F   \n",
              "\n",
              "                       income_type  debt  total_income  \\\n",
              "3133                    unemployed     1      9593.119   \n",
              "5936                  entrepreneur     0           NaN   \n",
              "9410                       student     0     15712.260   \n",
              "14798                   unemployed     0     32435.602   \n",
              "18697                 entrepreneur     0     79866.103   \n",
              "20845  paternity / maternity leave     1      8612.661   \n",
              "\n",
              "                               purpose  \n",
              "3133   buying property for renting out  \n",
              "5936       buy residential real estate  \n",
              "9410      construction of own property  \n",
              "14798               housing renovation  \n",
              "18697                 having a wedding  \n",
              "20845                              car  "
            ]
          },
          "execution_count": 44,
          "metadata": {},
          "output_type": "execute_result"
        }
      ],
      "source": [
        "credit_score.loc[(credit_score['income_type'] == 'unemployed')| \n",
        "                 (credit_score['income_type'] == 'entrepreneur')|\n",
        "                 (credit_score['income_type'] == 'paternity / maternity leave')|\n",
        "                 (credit_score['income_type'] == 'student')]"
      ]
    },
    {
      "cell_type": "markdown",
      "metadata": {
        "id": "jVVP6B3kt0Ai"
      },
      "source": [
        "Untuk entrepreneur sebenarnya bisa disatu kategorikan dengan business, student bisa saja memiliki kerja sampingan karena memiliki umur yang cukup untuk part-time, tapi juga bisa berpenghasilan dengan menjalankan bisnis, jadi karena kategori yang masih membingungkan kita masukkan dulu kedalam unemployed, jika nanti ada ada komplain bisa di input ulang secara jelas karena student bukanlah termasuk income_type, kecuali mendapatkan beasiswa, sedangkan paternity leave masuk ke employee karena sebenarnya mereka bekerja tapi sedang cuti."
      ]
    },
    {
      "cell_type": "code",
      "execution_count": null,
      "metadata": {
        "id": "PDzHWsxDt0Ak"
      },
      "outputs": [],
      "source": [
        "# Atasi nilai yang bermasalah, jika ada\n",
        "credit_score.loc[credit_score['income_type'] == 'student' , 'income_type'] = 'unemployed'\n",
        "credit_score.loc[credit_score['income_type'] == 'entrepreneur' , 'income_type'] = 'business'\n",
        "credit_score.loc[credit_score['income_type'] == 'paternity / maternity leave' , 'income_type'] = 'employee'"
      ]
    },
    {
      "cell_type": "code",
      "execution_count": null,
      "metadata": {
        "id": "Ta9iwMzgt0Ak",
        "outputId": "2b3e4858-4245-420c-957d-ca2f85c8191f"
      },
      "outputs": [
        {
          "data": {
            "text/plain": [
              "employee         11120\n",
              "business          5086\n",
              "retiree           3856\n",
              "civil servant     1459\n",
              "unemployed           3\n",
              "Name: income_type, dtype: int64"
            ]
          },
          "execution_count": 46,
          "metadata": {},
          "output_type": "execute_result"
        }
      ],
      "source": [
        "# Periksa hasilnya - pastikan telah diperbaiki\n",
        "credit_score['income_type'].value_counts()\n"
      ]
    },
    {
      "cell_type": "markdown",
      "metadata": {
        "id": "Fx1aBgpct0Al"
      },
      "source": [
        "Selanjutnya memeriksa data duplikat yang ada"
      ]
    },
    {
      "cell_type": "code",
      "execution_count": null,
      "metadata": {
        "id": "RUM21aWdt0Al",
        "outputId": "7f64727e-1406-457a-be65-d3b70641b694"
      },
      "outputs": [
        {
          "name": "stdout",
          "output_type": "stream",
          "text": [
            "Data duplikat = 71\n"
          ]
        }
      ],
      "source": [
        "print(f'Data duplikat = {credit_score.duplicated().sum()}')"
      ]
    },
    {
      "cell_type": "code",
      "execution_count": null,
      "metadata": {
        "scrolled": true,
        "id": "4ooeJOMlt0Al",
        "outputId": "c97862dd-90dd-43c2-ceb0-f68d639d89c8"
      },
      "outputs": [
        {
          "data": {
            "text/html": [
              "<div>\n",
              "<style scoped>\n",
              "    .dataframe tbody tr th:only-of-type {\n",
              "        vertical-align: middle;\n",
              "    }\n",
              "\n",
              "    .dataframe tbody tr th {\n",
              "        vertical-align: top;\n",
              "    }\n",
              "\n",
              "    .dataframe thead th {\n",
              "        text-align: right;\n",
              "    }\n",
              "</style>\n",
              "<table border=\"1\" class=\"dataframe\">\n",
              "  <thead>\n",
              "    <tr style=\"text-align: right;\">\n",
              "      <th></th>\n",
              "      <th>children</th>\n",
              "      <th>days_employed</th>\n",
              "      <th>dob_years</th>\n",
              "      <th>education</th>\n",
              "      <th>education_id</th>\n",
              "      <th>family_status</th>\n",
              "      <th>family_status_id</th>\n",
              "      <th>gender</th>\n",
              "      <th>income_type</th>\n",
              "      <th>debt</th>\n",
              "      <th>total_income</th>\n",
              "      <th>purpose</th>\n",
              "    </tr>\n",
              "  </thead>\n",
              "  <tbody>\n",
              "    <tr>\n",
              "      <th>2849</th>\n",
              "      <td>0</td>\n",
              "      <td>NaN</td>\n",
              "      <td>41</td>\n",
              "      <td>secondary education</td>\n",
              "      <td>1</td>\n",
              "      <td>married</td>\n",
              "      <td>0</td>\n",
              "      <td>F</td>\n",
              "      <td>employee</td>\n",
              "      <td>0</td>\n",
              "      <td>NaN</td>\n",
              "      <td>purchase of the house for my family</td>\n",
              "    </tr>\n",
              "    <tr>\n",
              "      <th>3290</th>\n",
              "      <td>0</td>\n",
              "      <td>NaN</td>\n",
              "      <td>58</td>\n",
              "      <td>secondary education</td>\n",
              "      <td>1</td>\n",
              "      <td>civil partnership</td>\n",
              "      <td>1</td>\n",
              "      <td>F</td>\n",
              "      <td>retiree</td>\n",
              "      <td>0</td>\n",
              "      <td>NaN</td>\n",
              "      <td>to have a wedding</td>\n",
              "    </tr>\n",
              "    <tr>\n",
              "      <th>4182</th>\n",
              "      <td>1</td>\n",
              "      <td>NaN</td>\n",
              "      <td>34</td>\n",
              "      <td>bachelor's degree</td>\n",
              "      <td>0</td>\n",
              "      <td>civil partnership</td>\n",
              "      <td>1</td>\n",
              "      <td>F</td>\n",
              "      <td>employee</td>\n",
              "      <td>0</td>\n",
              "      <td>NaN</td>\n",
              "      <td>wedding ceremony</td>\n",
              "    </tr>\n",
              "    <tr>\n",
              "      <th>4851</th>\n",
              "      <td>0</td>\n",
              "      <td>NaN</td>\n",
              "      <td>60</td>\n",
              "      <td>secondary education</td>\n",
              "      <td>1</td>\n",
              "      <td>civil partnership</td>\n",
              "      <td>1</td>\n",
              "      <td>F</td>\n",
              "      <td>retiree</td>\n",
              "      <td>0</td>\n",
              "      <td>NaN</td>\n",
              "      <td>wedding ceremony</td>\n",
              "    </tr>\n",
              "    <tr>\n",
              "      <th>5557</th>\n",
              "      <td>0</td>\n",
              "      <td>NaN</td>\n",
              "      <td>58</td>\n",
              "      <td>secondary education</td>\n",
              "      <td>1</td>\n",
              "      <td>civil partnership</td>\n",
              "      <td>1</td>\n",
              "      <td>F</td>\n",
              "      <td>retiree</td>\n",
              "      <td>0</td>\n",
              "      <td>NaN</td>\n",
              "      <td>to have a wedding</td>\n",
              "    </tr>\n",
              "    <tr>\n",
              "      <th>...</th>\n",
              "      <td>...</td>\n",
              "      <td>...</td>\n",
              "      <td>...</td>\n",
              "      <td>...</td>\n",
              "      <td>...</td>\n",
              "      <td>...</td>\n",
              "      <td>...</td>\n",
              "      <td>...</td>\n",
              "      <td>...</td>\n",
              "      <td>...</td>\n",
              "      <td>...</td>\n",
              "      <td>...</td>\n",
              "    </tr>\n",
              "    <tr>\n",
              "      <th>20702</th>\n",
              "      <td>0</td>\n",
              "      <td>NaN</td>\n",
              "      <td>64</td>\n",
              "      <td>secondary education</td>\n",
              "      <td>1</td>\n",
              "      <td>married</td>\n",
              "      <td>0</td>\n",
              "      <td>F</td>\n",
              "      <td>retiree</td>\n",
              "      <td>0</td>\n",
              "      <td>NaN</td>\n",
              "      <td>supplementary education</td>\n",
              "    </tr>\n",
              "    <tr>\n",
              "      <th>21032</th>\n",
              "      <td>0</td>\n",
              "      <td>NaN</td>\n",
              "      <td>60</td>\n",
              "      <td>secondary education</td>\n",
              "      <td>1</td>\n",
              "      <td>married</td>\n",
              "      <td>0</td>\n",
              "      <td>F</td>\n",
              "      <td>retiree</td>\n",
              "      <td>0</td>\n",
              "      <td>NaN</td>\n",
              "      <td>to become educated</td>\n",
              "    </tr>\n",
              "    <tr>\n",
              "      <th>21132</th>\n",
              "      <td>0</td>\n",
              "      <td>NaN</td>\n",
              "      <td>47</td>\n",
              "      <td>secondary education</td>\n",
              "      <td>1</td>\n",
              "      <td>married</td>\n",
              "      <td>0</td>\n",
              "      <td>F</td>\n",
              "      <td>employee</td>\n",
              "      <td>0</td>\n",
              "      <td>NaN</td>\n",
              "      <td>housing renovation</td>\n",
              "    </tr>\n",
              "    <tr>\n",
              "      <th>21281</th>\n",
              "      <td>1</td>\n",
              "      <td>NaN</td>\n",
              "      <td>30</td>\n",
              "      <td>bachelor's degree</td>\n",
              "      <td>0</td>\n",
              "      <td>married</td>\n",
              "      <td>0</td>\n",
              "      <td>F</td>\n",
              "      <td>employee</td>\n",
              "      <td>0</td>\n",
              "      <td>NaN</td>\n",
              "      <td>buy commercial real estate</td>\n",
              "    </tr>\n",
              "    <tr>\n",
              "      <th>21415</th>\n",
              "      <td>0</td>\n",
              "      <td>NaN</td>\n",
              "      <td>54</td>\n",
              "      <td>secondary education</td>\n",
              "      <td>1</td>\n",
              "      <td>married</td>\n",
              "      <td>0</td>\n",
              "      <td>F</td>\n",
              "      <td>retiree</td>\n",
              "      <td>0</td>\n",
              "      <td>NaN</td>\n",
              "      <td>housing transactions</td>\n",
              "    </tr>\n",
              "  </tbody>\n",
              "</table>\n",
              "<p>71 rows × 12 columns</p>\n",
              "</div>"
            ],
            "text/plain": [
              "       children  days_employed  dob_years            education  education_id  \\\n",
              "2849          0            NaN         41  secondary education             1   \n",
              "3290          0            NaN         58  secondary education             1   \n",
              "4182          1            NaN         34    bachelor's degree             0   \n",
              "4851          0            NaN         60  secondary education             1   \n",
              "5557          0            NaN         58  secondary education             1   \n",
              "...         ...            ...        ...                  ...           ...   \n",
              "20702         0            NaN         64  secondary education             1   \n",
              "21032         0            NaN         60  secondary education             1   \n",
              "21132         0            NaN         47  secondary education             1   \n",
              "21281         1            NaN         30    bachelor's degree             0   \n",
              "21415         0            NaN         54  secondary education             1   \n",
              "\n",
              "           family_status  family_status_id gender income_type  debt  \\\n",
              "2849             married                 0      F    employee     0   \n",
              "3290   civil partnership                 1      F     retiree     0   \n",
              "4182   civil partnership                 1      F    employee     0   \n",
              "4851   civil partnership                 1      F     retiree     0   \n",
              "5557   civil partnership                 1      F     retiree     0   \n",
              "...                  ...               ...    ...         ...   ...   \n",
              "20702            married                 0      F     retiree     0   \n",
              "21032            married                 0      F     retiree     0   \n",
              "21132            married                 0      F    employee     0   \n",
              "21281            married                 0      F    employee     0   \n",
              "21415            married                 0      F     retiree     0   \n",
              "\n",
              "       total_income                              purpose  \n",
              "2849            NaN  purchase of the house for my family  \n",
              "3290            NaN                    to have a wedding  \n",
              "4182            NaN                     wedding ceremony  \n",
              "4851            NaN                     wedding ceremony  \n",
              "5557            NaN                    to have a wedding  \n",
              "...             ...                                  ...  \n",
              "20702           NaN              supplementary education  \n",
              "21032           NaN                   to become educated  \n",
              "21132           NaN                   housing renovation  \n",
              "21281           NaN           buy commercial real estate  \n",
              "21415           NaN                 housing transactions  \n",
              "\n",
              "[71 rows x 12 columns]"
            ]
          },
          "execution_count": 48,
          "metadata": {},
          "output_type": "execute_result"
        }
      ],
      "source": [
        "credit_score.loc[credit_score.duplicated()]\n"
      ]
    },
    {
      "cell_type": "code",
      "execution_count": null,
      "metadata": {
        "id": "JNTn9hgdt0Al"
      },
      "outputs": [],
      "source": [
        "# Atasi duplikat, jika ada\n",
        "credit_score = credit_score.drop_duplicates().reset_index(drop=True)"
      ]
    },
    {
      "cell_type": "code",
      "execution_count": null,
      "metadata": {
        "id": "N5Av0eJUt0Am",
        "outputId": "baea8084-a268-4ef8-e9d3-ab1c812e808e"
      },
      "outputs": [
        {
          "data": {
            "text/plain": [
              "0"
            ]
          },
          "execution_count": 50,
          "metadata": {},
          "output_type": "execute_result"
        }
      ],
      "source": [
        "# Terakhir periksa apakah kita memiliki duplikat\n",
        "credit_score.duplicated().sum()"
      ]
    },
    {
      "cell_type": "markdown",
      "metadata": {
        "id": "KmYKWd6gt0Am"
      },
      "source": [
        "Sudah tidak ada duplikat lagi."
      ]
    },
    {
      "cell_type": "code",
      "execution_count": null,
      "metadata": {
        "id": "YHjaQEKst0Am",
        "outputId": "bc14d0ea-f834-491f-fcbb-9ba2ec685b40"
      },
      "outputs": [
        {
          "data": {
            "text/plain": [
              "(21453, 12)"
            ]
          },
          "execution_count": 51,
          "metadata": {},
          "output_type": "execute_result"
        }
      ],
      "source": [
        "# Periksa ukuran dataset yang sekarang Anda miliki setelah manipulasi pertama yang Anda lakukan\n",
        "credit_score.shape"
      ]
    },
    {
      "cell_type": "markdown",
      "metadata": {
        "id": "XhtozQpnt0Am"
      },
      "source": [
        "Sekarang total data menjadi 21453."
      ]
    },
    {
      "cell_type": "markdown",
      "metadata": {
        "id": "2BvRC1BHt0Am"
      },
      "source": [
        "\n",
        "Perubahan yang telah dilakukan adalah, menghilangkan gender XNA, merubah umur menggunakan mean, merubah waktu kerja dengan nilai mutlak dan membagi dengan 100 jika lebih dari 300ribu, menghilangkan duplikat, dan sedikit merubah income_type untuk disesuaikan dengan yang sudah ada\n",
        "\n",
        "Persentasenya adalah :"
      ]
    },
    {
      "cell_type": "code",
      "execution_count": null,
      "metadata": {
        "id": "SHcRFCEKt0An",
        "outputId": "6097fd40-95a9-4a01-e0b1-d59cbde8d9f4"
      },
      "outputs": [
        {
          "name": "stdout",
          "output_type": "stream",
          "text": [
            "0.33%\n"
          ]
        }
      ],
      "source": [
        "unmodified_credit_score = pd.read_csv('/datasets/credit_scoring_eng.csv')\n",
        "set_ratio = len(credit_score['purpose'])/len(unmodified_credit_score['purpose'])\n",
        "print(f'{1-set_ratio:.2%}')"
      ]
    },
    {
      "cell_type": "markdown",
      "metadata": {
        "id": "j7czoMUUt0An"
      },
      "source": [
        "0.33%, sebanyak 0.33% data telah dihapus. Dari sini dilihat bahwa data yang dihapus hanya mempengaruhi sedikit ke dataset awal, dan untuk persentase data data lain seperti income_type, days_employed bisa dilihat diatas."
      ]
    },
    {
      "cell_type": "markdown",
      "metadata": {
        "id": "gbmPJK-Vt0An"
      },
      "source": [
        "# Bekerja dengan nilai yang hilang"
      ]
    },
    {
      "cell_type": "code",
      "execution_count": null,
      "metadata": {
        "id": "fqvWvhFJt0An"
      },
      "outputs": [],
      "source": [
        "# Temukan dictionary\n",
        "education_dict = dict(zip(credit_score['education_id'], credit_score['education']))\n",
        "family_dict = dict(zip(credit_score['family_status_id'], credit_score['family_status']))"
      ]
    },
    {
      "cell_type": "markdown",
      "metadata": {
        "id": "Lb4yMPpGt0An"
      },
      "source": [
        "Dictionary yang digunakan adalah education_id dan family_status, karena merupakan tipe data kategorik nominal, sebenarnya gender bisa masuk juga tapi karena cuma 2, lebih baik tidak usah menggunakan dictionary.\n",
        "\n",
        "Ada juga debt yang mana bisa digunakan dictionary, karena nilainya 0 dan 1 mungkin untuk beberapa orang lebih baik menggunakan kata kata secara langsung dibanding true false."
      ]
    },
    {
      "cell_type": "markdown",
      "metadata": {
        "id": "qUEmBYaUt0An"
      },
      "source": [
        "### Memperbaiki nilai yang hilang di `total_income`"
      ]
    },
    {
      "cell_type": "markdown",
      "source": [
        "Langkah yang akan dilakukan sekarang adalah mengelompokkan usia, pengelompokkan ini saya ambil berdasarkan referensi dari BAPPENAS."
      ],
      "metadata": {
        "id": "DmEnis-aw2VC"
      }
    },
    {
      "cell_type": "code",
      "execution_count": null,
      "metadata": {
        "id": "-zJ-Qu2nt0Ao"
      },
      "outputs": [],
      "source": [
        "# Mari menulis fungsi untuk menghitung kategori usia\n",
        "def age_group(age):\n",
        "    if 15 <= age <= 24:\n",
        "        return '15 sampai 24 tahun'\n",
        "    elif 25 <= age <= 34:\n",
        "        return '25 sampai 34 tahun'\n",
        "    elif 35 <= age <= 44:\n",
        "        return '35 sampai 44 tahun'\n",
        "    elif 45 <= age <= 54:\n",
        "        return '45 sampai 54 tahun'\n",
        "    elif 55 <= age <= 64:\n",
        "        return '55 sampai 64 tahun'\n",
        "    elif age > 64:\n",
        "        return 'diatas 64 tahun'\n",
        "    return 'dibawah 15 tahun'"
      ]
    },
    {
      "cell_type": "code",
      "execution_count": null,
      "metadata": {
        "id": "3mTJzNIvt0Ao"
      },
      "outputs": [],
      "source": [
        "# Membuat kolom baru berdasarkan fungsi\n",
        "credit_score['age_group'] = credit_score['dob_years'].agg(func = age_group)\n"
      ]
    },
    {
      "cell_type": "code",
      "execution_count": null,
      "metadata": {
        "id": "4KE0Wbtmt0Ap",
        "outputId": "ebd19c76-784c-4e50-b92d-1a85b8acb0b4"
      },
      "outputs": [
        {
          "data": {
            "text/html": [
              "<div>\n",
              "<style scoped>\n",
              "    .dataframe tbody tr th:only-of-type {\n",
              "        vertical-align: middle;\n",
              "    }\n",
              "\n",
              "    .dataframe tbody tr th {\n",
              "        vertical-align: top;\n",
              "    }\n",
              "\n",
              "    .dataframe thead th {\n",
              "        text-align: right;\n",
              "    }\n",
              "</style>\n",
              "<table border=\"1\" class=\"dataframe\">\n",
              "  <thead>\n",
              "    <tr style=\"text-align: right;\">\n",
              "      <th></th>\n",
              "      <th>children</th>\n",
              "      <th>days_employed</th>\n",
              "      <th>dob_years</th>\n",
              "      <th>education</th>\n",
              "      <th>education_id</th>\n",
              "      <th>family_status</th>\n",
              "      <th>family_status_id</th>\n",
              "      <th>gender</th>\n",
              "      <th>income_type</th>\n",
              "      <th>debt</th>\n",
              "      <th>total_income</th>\n",
              "      <th>purpose</th>\n",
              "      <th>age_group</th>\n",
              "    </tr>\n",
              "  </thead>\n",
              "  <tbody>\n",
              "    <tr>\n",
              "      <th>0</th>\n",
              "      <td>1</td>\n",
              "      <td>8437.673028</td>\n",
              "      <td>42</td>\n",
              "      <td>bachelor's degree</td>\n",
              "      <td>0</td>\n",
              "      <td>married</td>\n",
              "      <td>0</td>\n",
              "      <td>F</td>\n",
              "      <td>employee</td>\n",
              "      <td>0</td>\n",
              "      <td>40620.102</td>\n",
              "      <td>purchase of the house</td>\n",
              "      <td>35 sampai 44 tahun</td>\n",
              "    </tr>\n",
              "    <tr>\n",
              "      <th>1</th>\n",
              "      <td>1</td>\n",
              "      <td>4024.803754</td>\n",
              "      <td>36</td>\n",
              "      <td>secondary education</td>\n",
              "      <td>1</td>\n",
              "      <td>married</td>\n",
              "      <td>0</td>\n",
              "      <td>F</td>\n",
              "      <td>employee</td>\n",
              "      <td>0</td>\n",
              "      <td>17932.802</td>\n",
              "      <td>car purchase</td>\n",
              "      <td>35 sampai 44 tahun</td>\n",
              "    </tr>\n",
              "    <tr>\n",
              "      <th>2</th>\n",
              "      <td>0</td>\n",
              "      <td>5623.422610</td>\n",
              "      <td>33</td>\n",
              "      <td>secondary education</td>\n",
              "      <td>1</td>\n",
              "      <td>married</td>\n",
              "      <td>0</td>\n",
              "      <td>M</td>\n",
              "      <td>employee</td>\n",
              "      <td>0</td>\n",
              "      <td>23341.752</td>\n",
              "      <td>purchase of the house</td>\n",
              "      <td>25 sampai 34 tahun</td>\n",
              "    </tr>\n",
              "    <tr>\n",
              "      <th>3</th>\n",
              "      <td>3</td>\n",
              "      <td>4124.747207</td>\n",
              "      <td>32</td>\n",
              "      <td>secondary education</td>\n",
              "      <td>1</td>\n",
              "      <td>married</td>\n",
              "      <td>0</td>\n",
              "      <td>M</td>\n",
              "      <td>employee</td>\n",
              "      <td>0</td>\n",
              "      <td>42820.568</td>\n",
              "      <td>supplementary education</td>\n",
              "      <td>25 sampai 34 tahun</td>\n",
              "    </tr>\n",
              "    <tr>\n",
              "      <th>4</th>\n",
              "      <td>0</td>\n",
              "      <td>3402.660720</td>\n",
              "      <td>53</td>\n",
              "      <td>secondary education</td>\n",
              "      <td>1</td>\n",
              "      <td>civil partnership</td>\n",
              "      <td>1</td>\n",
              "      <td>F</td>\n",
              "      <td>retiree</td>\n",
              "      <td>0</td>\n",
              "      <td>25378.572</td>\n",
              "      <td>to have a wedding</td>\n",
              "      <td>45 sampai 54 tahun</td>\n",
              "    </tr>\n",
              "    <tr>\n",
              "      <th>5</th>\n",
              "      <td>0</td>\n",
              "      <td>926.185831</td>\n",
              "      <td>27</td>\n",
              "      <td>bachelor's degree</td>\n",
              "      <td>0</td>\n",
              "      <td>civil partnership</td>\n",
              "      <td>1</td>\n",
              "      <td>M</td>\n",
              "      <td>business</td>\n",
              "      <td>0</td>\n",
              "      <td>40922.170</td>\n",
              "      <td>purchase of the house</td>\n",
              "      <td>25 sampai 34 tahun</td>\n",
              "    </tr>\n",
              "    <tr>\n",
              "      <th>6</th>\n",
              "      <td>0</td>\n",
              "      <td>2879.202052</td>\n",
              "      <td>43</td>\n",
              "      <td>bachelor's degree</td>\n",
              "      <td>0</td>\n",
              "      <td>married</td>\n",
              "      <td>0</td>\n",
              "      <td>F</td>\n",
              "      <td>business</td>\n",
              "      <td>0</td>\n",
              "      <td>38484.156</td>\n",
              "      <td>housing transactions</td>\n",
              "      <td>35 sampai 44 tahun</td>\n",
              "    </tr>\n",
              "    <tr>\n",
              "      <th>7</th>\n",
              "      <td>0</td>\n",
              "      <td>152.779569</td>\n",
              "      <td>50</td>\n",
              "      <td>secondary education</td>\n",
              "      <td>1</td>\n",
              "      <td>married</td>\n",
              "      <td>0</td>\n",
              "      <td>M</td>\n",
              "      <td>employee</td>\n",
              "      <td>0</td>\n",
              "      <td>21731.829</td>\n",
              "      <td>education</td>\n",
              "      <td>45 sampai 54 tahun</td>\n",
              "    </tr>\n",
              "    <tr>\n",
              "      <th>8</th>\n",
              "      <td>2</td>\n",
              "      <td>6929.865299</td>\n",
              "      <td>35</td>\n",
              "      <td>bachelor's degree</td>\n",
              "      <td>0</td>\n",
              "      <td>civil partnership</td>\n",
              "      <td>1</td>\n",
              "      <td>F</td>\n",
              "      <td>employee</td>\n",
              "      <td>0</td>\n",
              "      <td>15337.093</td>\n",
              "      <td>having a wedding</td>\n",
              "      <td>35 sampai 44 tahun</td>\n",
              "    </tr>\n",
              "    <tr>\n",
              "      <th>9</th>\n",
              "      <td>0</td>\n",
              "      <td>2188.756445</td>\n",
              "      <td>41</td>\n",
              "      <td>secondary education</td>\n",
              "      <td>1</td>\n",
              "      <td>married</td>\n",
              "      <td>0</td>\n",
              "      <td>M</td>\n",
              "      <td>employee</td>\n",
              "      <td>0</td>\n",
              "      <td>23108.150</td>\n",
              "      <td>purchase of the house for my family</td>\n",
              "      <td>35 sampai 44 tahun</td>\n",
              "    </tr>\n",
              "  </tbody>\n",
              "</table>\n",
              "</div>"
            ],
            "text/plain": [
              "   children  days_employed  dob_years            education  education_id  \\\n",
              "0         1    8437.673028         42    bachelor's degree             0   \n",
              "1         1    4024.803754         36  secondary education             1   \n",
              "2         0    5623.422610         33  secondary education             1   \n",
              "3         3    4124.747207         32  secondary education             1   \n",
              "4         0    3402.660720         53  secondary education             1   \n",
              "5         0     926.185831         27    bachelor's degree             0   \n",
              "6         0    2879.202052         43    bachelor's degree             0   \n",
              "7         0     152.779569         50  secondary education             1   \n",
              "8         2    6929.865299         35    bachelor's degree             0   \n",
              "9         0    2188.756445         41  secondary education             1   \n",
              "\n",
              "       family_status  family_status_id gender income_type  debt  total_income  \\\n",
              "0            married                 0      F    employee     0     40620.102   \n",
              "1            married                 0      F    employee     0     17932.802   \n",
              "2            married                 0      M    employee     0     23341.752   \n",
              "3            married                 0      M    employee     0     42820.568   \n",
              "4  civil partnership                 1      F     retiree     0     25378.572   \n",
              "5  civil partnership                 1      M    business     0     40922.170   \n",
              "6            married                 0      F    business     0     38484.156   \n",
              "7            married                 0      M    employee     0     21731.829   \n",
              "8  civil partnership                 1      F    employee     0     15337.093   \n",
              "9            married                 0      M    employee     0     23108.150   \n",
              "\n",
              "                               purpose           age_group  \n",
              "0                purchase of the house  35 sampai 44 tahun  \n",
              "1                         car purchase  35 sampai 44 tahun  \n",
              "2                purchase of the house  25 sampai 34 tahun  \n",
              "3              supplementary education  25 sampai 34 tahun  \n",
              "4                    to have a wedding  45 sampai 54 tahun  \n",
              "5                purchase of the house  25 sampai 34 tahun  \n",
              "6                 housing transactions  35 sampai 44 tahun  \n",
              "7                            education  45 sampai 54 tahun  \n",
              "8                     having a wedding  35 sampai 44 tahun  \n",
              "9  purchase of the house for my family  35 sampai 44 tahun  "
            ]
          },
          "execution_count": 56,
          "metadata": {},
          "output_type": "execute_result"
        }
      ],
      "source": [
        "# Memeriksa bagaimana nilai di dalam kolom baru\n",
        "credit_score.head(10)\n"
      ]
    },
    {
      "cell_type": "markdown",
      "metadata": {
        "id": "0RkTJEpPt0Ap"
      },
      "source": [
        "Ya, faktor yang memungkinkan berpengaruh pada income adalah usia, dan bisa jadi education juga. Karena semakin tua bisa saja semakin memiliki pengalaman dan gaji nya pun akan lebih besar dibanding yang lebih muda."
      ]
    },
    {
      "cell_type": "code",
      "execution_count": null,
      "metadata": {
        "id": "DYlD7Q4lt0Aq",
        "outputId": "33945fc2-7b4f-4dc3-db9e-ec788dc2ce0d"
      },
      "outputs": [
        {
          "data": {
            "text/html": [
              "<div>\n",
              "<style scoped>\n",
              "    .dataframe tbody tr th:only-of-type {\n",
              "        vertical-align: middle;\n",
              "    }\n",
              "\n",
              "    .dataframe tbody tr th {\n",
              "        vertical-align: top;\n",
              "    }\n",
              "\n",
              "    .dataframe thead th {\n",
              "        text-align: right;\n",
              "    }\n",
              "</style>\n",
              "<table border=\"1\" class=\"dataframe\">\n",
              "  <thead>\n",
              "    <tr style=\"text-align: right;\">\n",
              "      <th></th>\n",
              "      <th>children</th>\n",
              "      <th>days_employed</th>\n",
              "      <th>dob_years</th>\n",
              "      <th>education</th>\n",
              "      <th>education_id</th>\n",
              "      <th>family_status</th>\n",
              "      <th>family_status_id</th>\n",
              "      <th>gender</th>\n",
              "      <th>income_type</th>\n",
              "      <th>debt</th>\n",
              "      <th>total_income</th>\n",
              "      <th>purpose</th>\n",
              "      <th>age_group</th>\n",
              "    </tr>\n",
              "  </thead>\n",
              "  <tbody>\n",
              "    <tr>\n",
              "      <th>0</th>\n",
              "      <td>1</td>\n",
              "      <td>8437.673028</td>\n",
              "      <td>42</td>\n",
              "      <td>bachelor's degree</td>\n",
              "      <td>0</td>\n",
              "      <td>married</td>\n",
              "      <td>0</td>\n",
              "      <td>F</td>\n",
              "      <td>employee</td>\n",
              "      <td>0</td>\n",
              "      <td>40620.102</td>\n",
              "      <td>purchase of the house</td>\n",
              "      <td>35 sampai 44 tahun</td>\n",
              "    </tr>\n",
              "    <tr>\n",
              "      <th>1</th>\n",
              "      <td>1</td>\n",
              "      <td>4024.803754</td>\n",
              "      <td>36</td>\n",
              "      <td>secondary education</td>\n",
              "      <td>1</td>\n",
              "      <td>married</td>\n",
              "      <td>0</td>\n",
              "      <td>F</td>\n",
              "      <td>employee</td>\n",
              "      <td>0</td>\n",
              "      <td>17932.802</td>\n",
              "      <td>car purchase</td>\n",
              "      <td>35 sampai 44 tahun</td>\n",
              "    </tr>\n",
              "    <tr>\n",
              "      <th>2</th>\n",
              "      <td>0</td>\n",
              "      <td>5623.422610</td>\n",
              "      <td>33</td>\n",
              "      <td>secondary education</td>\n",
              "      <td>1</td>\n",
              "      <td>married</td>\n",
              "      <td>0</td>\n",
              "      <td>M</td>\n",
              "      <td>employee</td>\n",
              "      <td>0</td>\n",
              "      <td>23341.752</td>\n",
              "      <td>purchase of the house</td>\n",
              "      <td>25 sampai 34 tahun</td>\n",
              "    </tr>\n",
              "    <tr>\n",
              "      <th>3</th>\n",
              "      <td>3</td>\n",
              "      <td>4124.747207</td>\n",
              "      <td>32</td>\n",
              "      <td>secondary education</td>\n",
              "      <td>1</td>\n",
              "      <td>married</td>\n",
              "      <td>0</td>\n",
              "      <td>M</td>\n",
              "      <td>employee</td>\n",
              "      <td>0</td>\n",
              "      <td>42820.568</td>\n",
              "      <td>supplementary education</td>\n",
              "      <td>25 sampai 34 tahun</td>\n",
              "    </tr>\n",
              "    <tr>\n",
              "      <th>4</th>\n",
              "      <td>0</td>\n",
              "      <td>3402.660720</td>\n",
              "      <td>53</td>\n",
              "      <td>secondary education</td>\n",
              "      <td>1</td>\n",
              "      <td>civil partnership</td>\n",
              "      <td>1</td>\n",
              "      <td>F</td>\n",
              "      <td>retiree</td>\n",
              "      <td>0</td>\n",
              "      <td>25378.572</td>\n",
              "      <td>to have a wedding</td>\n",
              "      <td>45 sampai 54 tahun</td>\n",
              "    </tr>\n",
              "  </tbody>\n",
              "</table>\n",
              "</div>"
            ],
            "text/plain": [
              "   children  days_employed  dob_years            education  education_id  \\\n",
              "0         1    8437.673028         42    bachelor's degree             0   \n",
              "1         1    4024.803754         36  secondary education             1   \n",
              "2         0    5623.422610         33  secondary education             1   \n",
              "3         3    4124.747207         32  secondary education             1   \n",
              "4         0    3402.660720         53  secondary education             1   \n",
              "\n",
              "       family_status  family_status_id gender income_type  debt  total_income  \\\n",
              "0            married                 0      F    employee     0     40620.102   \n",
              "1            married                 0      F    employee     0     17932.802   \n",
              "2            married                 0      M    employee     0     23341.752   \n",
              "3            married                 0      M    employee     0     42820.568   \n",
              "4  civil partnership                 1      F     retiree     0     25378.572   \n",
              "\n",
              "                   purpose           age_group  \n",
              "0    purchase of the house  35 sampai 44 tahun  \n",
              "1             car purchase  35 sampai 44 tahun  \n",
              "2    purchase of the house  25 sampai 34 tahun  \n",
              "3  supplementary education  25 sampai 34 tahun  \n",
              "4        to have a wedding  45 sampai 54 tahun  "
            ]
          },
          "execution_count": 57,
          "metadata": {},
          "output_type": "execute_result"
        }
      ],
      "source": [
        "# Membuat tabel tanpa nilai yang hilang dan menampilkan beberapa barisnya untuk memastikan semuanya berjalan dengan baik\n",
        "nonan = credit_score.dropna()\n",
        "nonan.head()"
      ]
    },
    {
      "cell_type": "code",
      "execution_count": null,
      "metadata": {
        "id": "7SJPUmcet0Aq",
        "outputId": "bd76ab77-0f87-4fbe-ee87-1bd5d6f637be"
      },
      "outputs": [
        {
          "data": {
            "text/html": [
              "<div>\n",
              "<style scoped>\n",
              "    .dataframe tbody tr th:only-of-type {\n",
              "        vertical-align: middle;\n",
              "    }\n",
              "\n",
              "    .dataframe tbody tr th {\n",
              "        vertical-align: top;\n",
              "    }\n",
              "\n",
              "    .dataframe thead tr th {\n",
              "        text-align: left;\n",
              "    }\n",
              "\n",
              "    .dataframe thead tr:last-of-type th {\n",
              "        text-align: right;\n",
              "    }\n",
              "</style>\n",
              "<table border=\"1\" class=\"dataframe\">\n",
              "  <thead>\n",
              "    <tr>\n",
              "      <th></th>\n",
              "      <th></th>\n",
              "      <th>mean</th>\n",
              "      <th>median</th>\n",
              "    </tr>\n",
              "    <tr>\n",
              "      <th></th>\n",
              "      <th></th>\n",
              "      <th>total_income</th>\n",
              "      <th>total_income</th>\n",
              "    </tr>\n",
              "    <tr>\n",
              "      <th>age_group</th>\n",
              "      <th>income_type</th>\n",
              "      <th></th>\n",
              "      <th></th>\n",
              "    </tr>\n",
              "  </thead>\n",
              "  <tbody>\n",
              "    <tr>\n",
              "      <th rowspan=\"5\" valign=\"top\">15 sampai 24 tahun</th>\n",
              "      <th>business</th>\n",
              "      <td>25446.057616</td>\n",
              "      <td>22189.0780</td>\n",
              "    </tr>\n",
              "    <tr>\n",
              "      <th>civil servant</th>\n",
              "      <td>23548.822930</td>\n",
              "      <td>21361.7300</td>\n",
              "    </tr>\n",
              "    <tr>\n",
              "      <th>employee</th>\n",
              "      <td>21288.654010</td>\n",
              "      <td>19670.1040</td>\n",
              "    </tr>\n",
              "    <tr>\n",
              "      <th>retiree</th>\n",
              "      <td>14298.976000</td>\n",
              "      <td>14298.9760</td>\n",
              "    </tr>\n",
              "    <tr>\n",
              "      <th>unemployed</th>\n",
              "      <td>15712.260000</td>\n",
              "      <td>15712.2600</td>\n",
              "    </tr>\n",
              "    <tr>\n",
              "      <th rowspan=\"5\" valign=\"top\">25 sampai 34 tahun</th>\n",
              "      <th>business</th>\n",
              "      <td>31270.520395</td>\n",
              "      <td>27221.1265</td>\n",
              "    </tr>\n",
              "    <tr>\n",
              "      <th>civil servant</th>\n",
              "      <td>27026.159686</td>\n",
              "      <td>24436.2400</td>\n",
              "    </tr>\n",
              "    <tr>\n",
              "      <th>employee</th>\n",
              "      <td>25621.575071</td>\n",
              "      <td>22722.2705</td>\n",
              "    </tr>\n",
              "    <tr>\n",
              "      <th>retiree</th>\n",
              "      <td>19271.650143</td>\n",
              "      <td>15378.5635</td>\n",
              "    </tr>\n",
              "    <tr>\n",
              "      <th>unemployed</th>\n",
              "      <td>9593.119000</td>\n",
              "      <td>9593.1190</td>\n",
              "    </tr>\n",
              "    <tr>\n",
              "      <th rowspan=\"4\" valign=\"top\">35 sampai 44 tahun</th>\n",
              "      <th>business</th>\n",
              "      <td>33941.958892</td>\n",
              "      <td>28500.6780</td>\n",
              "    </tr>\n",
              "    <tr>\n",
              "      <th>civil servant</th>\n",
              "      <td>27775.137929</td>\n",
              "      <td>23683.4620</td>\n",
              "    </tr>\n",
              "    <tr>\n",
              "      <th>employee</th>\n",
              "      <td>26470.476944</td>\n",
              "      <td>23226.3360</td>\n",
              "    </tr>\n",
              "    <tr>\n",
              "      <th>retiree</th>\n",
              "      <td>23089.127633</td>\n",
              "      <td>19831.6330</td>\n",
              "    </tr>\n",
              "    <tr>\n",
              "      <th rowspan=\"5\" valign=\"top\">45 sampai 54 tahun</th>\n",
              "      <th>business</th>\n",
              "      <td>33433.368529</td>\n",
              "      <td>28648.3635</td>\n",
              "    </tr>\n",
              "    <tr>\n",
              "      <th>civil servant</th>\n",
              "      <td>27896.865931</td>\n",
              "      <td>23857.9620</td>\n",
              "    </tr>\n",
              "    <tr>\n",
              "      <th>employee</th>\n",
              "      <td>25610.932268</td>\n",
              "      <td>22573.3530</td>\n",
              "    </tr>\n",
              "    <tr>\n",
              "      <th>retiree</th>\n",
              "      <td>23115.773065</td>\n",
              "      <td>19904.2120</td>\n",
              "    </tr>\n",
              "    <tr>\n",
              "      <th>unemployed</th>\n",
              "      <td>32435.602000</td>\n",
              "      <td>32435.6020</td>\n",
              "    </tr>\n",
              "    <tr>\n",
              "      <th rowspan=\"4\" valign=\"top\">55 sampai 64 tahun</th>\n",
              "      <th>business</th>\n",
              "      <td>31748.808276</td>\n",
              "      <td>27706.7690</td>\n",
              "    </tr>\n",
              "    <tr>\n",
              "      <th>civil servant</th>\n",
              "      <td>26707.725664</td>\n",
              "      <td>23333.3000</td>\n",
              "    </tr>\n",
              "    <tr>\n",
              "      <th>employee</th>\n",
              "      <td>27104.667636</td>\n",
              "      <td>23361.5090</td>\n",
              "    </tr>\n",
              "    <tr>\n",
              "      <th>retiree</th>\n",
              "      <td>22101.568683</td>\n",
              "      <td>19411.7010</td>\n",
              "    </tr>\n",
              "    <tr>\n",
              "      <th rowspan=\"4\" valign=\"top\">diatas 64 tahun</th>\n",
              "      <th>business</th>\n",
              "      <td>31668.009026</td>\n",
              "      <td>26948.7450</td>\n",
              "    </tr>\n",
              "    <tr>\n",
              "      <th>civil servant</th>\n",
              "      <td>26921.808294</td>\n",
              "      <td>26089.6870</td>\n",
              "    </tr>\n",
              "    <tr>\n",
              "      <th>employee</th>\n",
              "      <td>26139.495246</td>\n",
              "      <td>24660.9010</td>\n",
              "    </tr>\n",
              "    <tr>\n",
              "      <th>retiree</th>\n",
              "      <td>20448.866997</td>\n",
              "      <td>17645.5060</td>\n",
              "    </tr>\n",
              "  </tbody>\n",
              "</table>\n",
              "</div>"
            ],
            "text/plain": [
              "                                          mean       median\n",
              "                                  total_income total_income\n",
              "age_group          income_type                             \n",
              "15 sampai 24 tahun business       25446.057616   22189.0780\n",
              "                   civil servant  23548.822930   21361.7300\n",
              "                   employee       21288.654010   19670.1040\n",
              "                   retiree        14298.976000   14298.9760\n",
              "                   unemployed     15712.260000   15712.2600\n",
              "25 sampai 34 tahun business       31270.520395   27221.1265\n",
              "                   civil servant  27026.159686   24436.2400\n",
              "                   employee       25621.575071   22722.2705\n",
              "                   retiree        19271.650143   15378.5635\n",
              "                   unemployed      9593.119000    9593.1190\n",
              "35 sampai 44 tahun business       33941.958892   28500.6780\n",
              "                   civil servant  27775.137929   23683.4620\n",
              "                   employee       26470.476944   23226.3360\n",
              "                   retiree        23089.127633   19831.6330\n",
              "45 sampai 54 tahun business       33433.368529   28648.3635\n",
              "                   civil servant  27896.865931   23857.9620\n",
              "                   employee       25610.932268   22573.3530\n",
              "                   retiree        23115.773065   19904.2120\n",
              "                   unemployed     32435.602000   32435.6020\n",
              "55 sampai 64 tahun business       31748.808276   27706.7690\n",
              "                   civil servant  26707.725664   23333.3000\n",
              "                   employee       27104.667636   23361.5090\n",
              "                   retiree        22101.568683   19411.7010\n",
              "diatas 64 tahun    business       31668.009026   26948.7450\n",
              "                   civil servant  26921.808294   26089.6870\n",
              "                   employee       26139.495246   24660.9010\n",
              "                   retiree        20448.866997   17645.5060"
            ]
          },
          "execution_count": 60,
          "metadata": {},
          "output_type": "execute_result"
        }
      ],
      "source": [
        "pd.pivot_table(data = nonan, index=['age_group','income_type'], values=['total_income'], aggfunc=['mean','median'])"
      ]
    },
    {
      "cell_type": "markdown",
      "metadata": {
        "id": "0iG46t0Ft0Ar"
      },
      "source": [
        "Lalu kita lihat, apakah ada faktor dari pendidikan yang berpengaruh?"
      ]
    },
    {
      "cell_type": "code",
      "execution_count": null,
      "metadata": {
        "id": "c5pvNfkBt0Ar",
        "outputId": "56dee117-1055-4968-8583-0094c89cf742"
      },
      "outputs": [
        {
          "data": {
            "text/plain": [
              "{0: \"bachelor's degree\",\n",
              " 1: 'secondary education',\n",
              " 2: 'some college',\n",
              " 3: 'primary education',\n",
              " 4: 'graduate degree'}"
            ]
          },
          "execution_count": 61,
          "metadata": {},
          "output_type": "execute_result"
        }
      ],
      "source": [
        "education_dict"
      ]
    },
    {
      "cell_type": "code",
      "execution_count": null,
      "metadata": {
        "scrolled": true,
        "id": "fgPqDIQIt0As",
        "outputId": "859eca29-2831-4580-d9a8-0d4cecf850b2"
      },
      "outputs": [
        {
          "data": {
            "text/html": [
              "<div>\n",
              "<style scoped>\n",
              "    .dataframe tbody tr th:only-of-type {\n",
              "        vertical-align: middle;\n",
              "    }\n",
              "\n",
              "    .dataframe tbody tr th {\n",
              "        vertical-align: top;\n",
              "    }\n",
              "\n",
              "    .dataframe thead tr th {\n",
              "        text-align: left;\n",
              "    }\n",
              "\n",
              "    .dataframe thead tr:last-of-type th {\n",
              "        text-align: right;\n",
              "    }\n",
              "</style>\n",
              "<table border=\"1\" class=\"dataframe\">\n",
              "  <thead>\n",
              "    <tr>\n",
              "      <th></th>\n",
              "      <th></th>\n",
              "      <th>mean</th>\n",
              "      <th>median</th>\n",
              "    </tr>\n",
              "    <tr>\n",
              "      <th></th>\n",
              "      <th></th>\n",
              "      <th>total_income</th>\n",
              "      <th>total_income</th>\n",
              "    </tr>\n",
              "    <tr>\n",
              "      <th>age_group</th>\n",
              "      <th>education</th>\n",
              "      <th></th>\n",
              "      <th></th>\n",
              "    </tr>\n",
              "  </thead>\n",
              "  <tbody>\n",
              "    <tr>\n",
              "      <th rowspan=\"4\" valign=\"top\">15 sampai 24 tahun</th>\n",
              "      <th>bachelor's degree</th>\n",
              "      <td>25445.309825</td>\n",
              "      <td>22725.1860</td>\n",
              "    </tr>\n",
              "    <tr>\n",
              "      <th>primary education</th>\n",
              "      <td>24467.972400</td>\n",
              "      <td>25488.9160</td>\n",
              "    </tr>\n",
              "    <tr>\n",
              "      <th>secondary education</th>\n",
              "      <td>21570.635600</td>\n",
              "      <td>19386.2600</td>\n",
              "    </tr>\n",
              "    <tr>\n",
              "      <th>some college</th>\n",
              "      <td>23076.644984</td>\n",
              "      <td>21228.0410</td>\n",
              "    </tr>\n",
              "    <tr>\n",
              "      <th rowspan=\"4\" valign=\"top\">25 sampai 34 tahun</th>\n",
              "      <th>bachelor's degree</th>\n",
              "      <td>31796.863444</td>\n",
              "      <td>27721.4470</td>\n",
              "    </tr>\n",
              "    <tr>\n",
              "      <th>primary education</th>\n",
              "      <td>23916.283933</td>\n",
              "      <td>20159.1860</td>\n",
              "    </tr>\n",
              "    <tr>\n",
              "      <th>secondary education</th>\n",
              "      <td>24769.236448</td>\n",
              "      <td>22257.4440</td>\n",
              "    </tr>\n",
              "    <tr>\n",
              "      <th>some college</th>\n",
              "      <td>28877.778124</td>\n",
              "      <td>25618.4640</td>\n",
              "    </tr>\n",
              "    <tr>\n",
              "      <th rowspan=\"5\" valign=\"top\">35 sampai 44 tahun</th>\n",
              "      <th>bachelor's degree</th>\n",
              "      <td>35490.599044</td>\n",
              "      <td>29238.3795</td>\n",
              "    </tr>\n",
              "    <tr>\n",
              "      <th>graduate degree</th>\n",
              "      <td>18187.301500</td>\n",
              "      <td>18187.3015</td>\n",
              "    </tr>\n",
              "    <tr>\n",
              "      <th>primary education</th>\n",
              "      <td>21853.473122</td>\n",
              "      <td>19903.5950</td>\n",
              "    </tr>\n",
              "    <tr>\n",
              "      <th>secondary education</th>\n",
              "      <td>26127.494817</td>\n",
              "      <td>23032.1150</td>\n",
              "    </tr>\n",
              "    <tr>\n",
              "      <th>some college</th>\n",
              "      <td>34236.099793</td>\n",
              "      <td>30646.5500</td>\n",
              "    </tr>\n",
              "    <tr>\n",
              "      <th rowspan=\"5\" valign=\"top\">45 sampai 54 tahun</th>\n",
              "      <th>bachelor's degree</th>\n",
              "      <td>35603.417458</td>\n",
              "      <td>29991.7310</td>\n",
              "    </tr>\n",
              "    <tr>\n",
              "      <th>graduate degree</th>\n",
              "      <td>31771.321000</td>\n",
              "      <td>31771.3210</td>\n",
              "    </tr>\n",
              "    <tr>\n",
              "      <th>primary education</th>\n",
              "      <td>23929.409054</td>\n",
              "      <td>21215.4590</td>\n",
              "    </tr>\n",
              "    <tr>\n",
              "      <th>secondary education</th>\n",
              "      <td>25110.211417</td>\n",
              "      <td>22210.6180</td>\n",
              "    </tr>\n",
              "    <tr>\n",
              "      <th>some college</th>\n",
              "      <td>29197.518200</td>\n",
              "      <td>27164.9405</td>\n",
              "    </tr>\n",
              "    <tr>\n",
              "      <th rowspan=\"5\" valign=\"top\">55 sampai 64 tahun</th>\n",
              "      <th>bachelor's degree</th>\n",
              "      <td>30911.144494</td>\n",
              "      <td>26185.4890</td>\n",
              "    </tr>\n",
              "    <tr>\n",
              "      <th>graduate degree</th>\n",
              "      <td>41906.912500</td>\n",
              "      <td>41906.9125</td>\n",
              "    </tr>\n",
              "    <tr>\n",
              "      <th>primary education</th>\n",
              "      <td>18574.168824</td>\n",
              "      <td>17657.4995</td>\n",
              "    </tr>\n",
              "    <tr>\n",
              "      <th>secondary education</th>\n",
              "      <td>23251.566743</td>\n",
              "      <td>20376.3440</td>\n",
              "    </tr>\n",
              "    <tr>\n",
              "      <th>some college</th>\n",
              "      <td>30659.234730</td>\n",
              "      <td>25469.2650</td>\n",
              "    </tr>\n",
              "    <tr>\n",
              "      <th rowspan=\"5\" valign=\"top\">diatas 64 tahun</th>\n",
              "      <th>bachelor's degree</th>\n",
              "      <td>28177.463470</td>\n",
              "      <td>23353.5110</td>\n",
              "    </tr>\n",
              "    <tr>\n",
              "      <th>graduate degree</th>\n",
              "      <td>15800.399000</td>\n",
              "      <td>15800.3990</td>\n",
              "    </tr>\n",
              "    <tr>\n",
              "      <th>primary education</th>\n",
              "      <td>17332.906000</td>\n",
              "      <td>15354.3830</td>\n",
              "    </tr>\n",
              "    <tr>\n",
              "      <th>secondary education</th>\n",
              "      <td>20273.532997</td>\n",
              "      <td>17943.5555</td>\n",
              "    </tr>\n",
              "    <tr>\n",
              "      <th>some college</th>\n",
              "      <td>26241.578462</td>\n",
              "      <td>27938.4350</td>\n",
              "    </tr>\n",
              "  </tbody>\n",
              "</table>\n",
              "</div>"
            ],
            "text/plain": [
              "                                                mean       median\n",
              "                                        total_income total_income\n",
              "age_group          education                                     \n",
              "15 sampai 24 tahun bachelor's degree    25445.309825   22725.1860\n",
              "                   primary education    24467.972400   25488.9160\n",
              "                   secondary education  21570.635600   19386.2600\n",
              "                   some college         23076.644984   21228.0410\n",
              "25 sampai 34 tahun bachelor's degree    31796.863444   27721.4470\n",
              "                   primary education    23916.283933   20159.1860\n",
              "                   secondary education  24769.236448   22257.4440\n",
              "                   some college         28877.778124   25618.4640\n",
              "35 sampai 44 tahun bachelor's degree    35490.599044   29238.3795\n",
              "                   graduate degree      18187.301500   18187.3015\n",
              "                   primary education    21853.473122   19903.5950\n",
              "                   secondary education  26127.494817   23032.1150\n",
              "                   some college         34236.099793   30646.5500\n",
              "45 sampai 54 tahun bachelor's degree    35603.417458   29991.7310\n",
              "                   graduate degree      31771.321000   31771.3210\n",
              "                   primary education    23929.409054   21215.4590\n",
              "                   secondary education  25110.211417   22210.6180\n",
              "                   some college         29197.518200   27164.9405\n",
              "55 sampai 64 tahun bachelor's degree    30911.144494   26185.4890\n",
              "                   graduate degree      41906.912500   41906.9125\n",
              "                   primary education    18574.168824   17657.4995\n",
              "                   secondary education  23251.566743   20376.3440\n",
              "                   some college         30659.234730   25469.2650\n",
              "diatas 64 tahun    bachelor's degree    28177.463470   23353.5110\n",
              "                   graduate degree      15800.399000   15800.3990\n",
              "                   primary education    17332.906000   15354.3830\n",
              "                   secondary education  20273.532997   17943.5555\n",
              "                   some college         26241.578462   27938.4350"
            ]
          },
          "execution_count": 64,
          "metadata": {},
          "output_type": "execute_result"
        }
      ],
      "source": [
        "pd.pivot_table(data = nonan, index=('age_group','education'), values = 'total_income', aggfunc=['mean','median'])"
      ]
    },
    {
      "cell_type": "markdown",
      "metadata": {
        "id": "jPNamBlht0As"
      },
      "source": [
        "**Selanjutnya coba lihat pengaruh days_employed pada total_income**"
      ]
    },
    {
      "cell_type": "code",
      "execution_count": null,
      "metadata": {
        "id": "cnJNouyqt0As",
        "outputId": "67dd95ce-6baa-4016-d0d1-fb820ba454a4"
      },
      "outputs": [
        {
          "data": {
            "text/plain": [
              "<AxesSubplot:xlabel='days_employed', ylabel='total_income'>"
            ]
          },
          "execution_count": 65,
          "metadata": {},
          "output_type": "execute_result"
        },
        {
          "data": {
            "image/png": "[encoded data removed]",
            "text/plain": [
              "<Figure size 432x288 with 1 Axes>"
            ]
          },
          "metadata": {
            "needs_background": "light"
          },
          "output_type": "display_data"
        }
      ],
      "source": [
        "sb.histplot(data = nonan, x = 'days_employed', y = 'total_income')"
      ]
    },
    {
      "cell_type": "markdown",
      "metadata": {
        "id": "oo73bu4rt0As"
      },
      "source": [
        "Ternyata lama bekerja tidak terlalu berpengaruh, karena ada yang semakin lama bekerja tapi tetap memiliki pendapatan yang kurang dibanding yang baru bekerja."
      ]
    },
    {
      "cell_type": "markdown",
      "metadata": {
        "id": "_FCsiqM_t0As"
      },
      "source": [
        "\n",
        "\n",
        "Setelah menganalisa, total_income yang hilang akan diisi dengan nilai kategori pendidikan berdasarkan mediannya, karena ada nilai total_income yang sangat jauh yang membuat distribusi persebarannya tidak simetris, contohnya untuk nilai dengan kateogori bachelor seperti dibawah ini.\n",
        "\n",
        "Pendidikan dipilih karena jika dilihat dari mean dan median, semakin tinggi pendidikan, nilai mean dan mediannya selalu naik"
      ]
    },
    {
      "cell_type": "code",
      "execution_count": null,
      "metadata": {
        "scrolled": true,
        "id": "CpF9mFWnt0At",
        "outputId": "611699d9-df02-4839-d0b3-60944742aaa2"
      },
      "outputs": [
        {
          "data": {
            "text/plain": [
              "[Text(0.5, 1.0, \"Bachelor's Income\")]"
            ]
          },
          "execution_count": 66,
          "metadata": {},
          "output_type": "execute_result"
        },
        {
          "data": {
            "image/png": "[encoded data removed]",
            "text/plain": [
              "<Figure size 432x288 with 1 Axes>"
            ]
          },
          "metadata": {
            "needs_background": "light"
          },
          "output_type": "display_data"
        }
      ],
      "source": [
        "z = nonan.loc[nonan['education_id'] == 0]\n",
        "sb.histplot(z['total_income']).set(title=\"Bachelor's Income\")"
      ]
    },
    {
      "cell_type": "code",
      "execution_count": null,
      "metadata": {
        "scrolled": true,
        "id": "D_UQVt_3t0At",
        "outputId": "72a523ee-fb00-49d8-d230-fb8f579e5d71"
      },
      "outputs": [
        {
          "data": {
            "text/html": [
              "<div>\n",
              "<style scoped>\n",
              "    .dataframe tbody tr th:only-of-type {\n",
              "        vertical-align: middle;\n",
              "    }\n",
              "\n",
              "    .dataframe tbody tr th {\n",
              "        vertical-align: top;\n",
              "    }\n",
              "\n",
              "    .dataframe thead tr th {\n",
              "        text-align: left;\n",
              "    }\n",
              "\n",
              "    .dataframe thead tr:last-of-type th {\n",
              "        text-align: right;\n",
              "    }\n",
              "</style>\n",
              "<table border=\"1\" class=\"dataframe\">\n",
              "  <thead>\n",
              "    <tr>\n",
              "      <th></th>\n",
              "      <th></th>\n",
              "      <th></th>\n",
              "      <th>mean</th>\n",
              "      <th>median</th>\n",
              "    </tr>\n",
              "    <tr>\n",
              "      <th></th>\n",
              "      <th></th>\n",
              "      <th></th>\n",
              "      <th>total_income</th>\n",
              "      <th>total_income</th>\n",
              "    </tr>\n",
              "    <tr>\n",
              "      <th>age_group</th>\n",
              "      <th>education</th>\n",
              "      <th>income_type</th>\n",
              "      <th></th>\n",
              "      <th></th>\n",
              "    </tr>\n",
              "  </thead>\n",
              "  <tbody>\n",
              "    <tr>\n",
              "      <th rowspan=\"5\" valign=\"top\">15 sampai 24 tahun</th>\n",
              "      <th rowspan=\"4\" valign=\"top\">bachelor's degree</th>\n",
              "      <th>business</th>\n",
              "      <td>28125.568908</td>\n",
              "      <td>24214.3790</td>\n",
              "    </tr>\n",
              "    <tr>\n",
              "      <th>civil servant</th>\n",
              "      <td>29873.948667</td>\n",
              "      <td>24617.5440</td>\n",
              "    </tr>\n",
              "    <tr>\n",
              "      <th>employee</th>\n",
              "      <td>23316.752115</td>\n",
              "      <td>21535.1395</td>\n",
              "    </tr>\n",
              "    <tr>\n",
              "      <th>unemployed</th>\n",
              "      <td>15712.260000</td>\n",
              "      <td>15712.2600</td>\n",
              "    </tr>\n",
              "    <tr>\n",
              "      <th>primary education</th>\n",
              "      <th>business</th>\n",
              "      <td>27119.024000</td>\n",
              "      <td>27119.0240</td>\n",
              "    </tr>\n",
              "    <tr>\n",
              "      <th>...</th>\n",
              "      <th>...</th>\n",
              "      <th>...</th>\n",
              "      <td>...</td>\n",
              "      <td>...</td>\n",
              "    </tr>\n",
              "    <tr>\n",
              "      <th rowspan=\"5\" valign=\"top\">diatas 64 tahun</th>\n",
              "      <th rowspan=\"2\" valign=\"top\">secondary education</th>\n",
              "      <th>employee</th>\n",
              "      <td>24322.353605</td>\n",
              "      <td>23550.5120</td>\n",
              "    </tr>\n",
              "    <tr>\n",
              "      <th>retiree</th>\n",
              "      <td>19402.919609</td>\n",
              "      <td>17342.4705</td>\n",
              "    </tr>\n",
              "    <tr>\n",
              "      <th rowspan=\"3\" valign=\"top\">some college</th>\n",
              "      <th>business</th>\n",
              "      <td>20094.359000</td>\n",
              "      <td>20094.3590</td>\n",
              "    </tr>\n",
              "    <tr>\n",
              "      <th>employee</th>\n",
              "      <td>33054.754750</td>\n",
              "      <td>32844.1030</td>\n",
              "    </tr>\n",
              "    <tr>\n",
              "      <th>retiree</th>\n",
              "      <td>23603.392750</td>\n",
              "      <td>19789.9350</td>\n",
              "    </tr>\n",
              "  </tbody>\n",
              "</table>\n",
              "<p>94 rows × 2 columns</p>\n",
              "</div>"
            ],
            "text/plain": [
              "                                                              mean  \\\n",
              "                                                      total_income   \n",
              "age_group          education           income_type                   \n",
              "15 sampai 24 tahun bachelor's degree   business       28125.568908   \n",
              "                                       civil servant  29873.948667   \n",
              "                                       employee       23316.752115   \n",
              "                                       unemployed     15712.260000   \n",
              "                   primary education   business       27119.024000   \n",
              "...                                                            ...   \n",
              "diatas 64 tahun    secondary education employee       24322.353605   \n",
              "                                       retiree        19402.919609   \n",
              "                   some college        business       20094.359000   \n",
              "                                       employee       33054.754750   \n",
              "                                       retiree        23603.392750   \n",
              "\n",
              "                                                           median  \n",
              "                                                     total_income  \n",
              "age_group          education           income_type                 \n",
              "15 sampai 24 tahun bachelor's degree   business        24214.3790  \n",
              "                                       civil servant   24617.5440  \n",
              "                                       employee        21535.1395  \n",
              "                                       unemployed      15712.2600  \n",
              "                   primary education   business        27119.0240  \n",
              "...                                                           ...  \n",
              "diatas 64 tahun    secondary education employee        23550.5120  \n",
              "                                       retiree         17342.4705  \n",
              "                   some college        business        20094.3590  \n",
              "                                       employee        32844.1030  \n",
              "                                       retiree         19789.9350  \n",
              "\n",
              "[94 rows x 2 columns]"
            ]
          },
          "execution_count": 67,
          "metadata": {},
          "output_type": "execute_result"
        }
      ],
      "source": [
        "pd.pivot_table(data=nonan, index=('age_group','education','income_type'), values='total_income', aggfunc=['mean','median'])"
      ]
    },
    {
      "cell_type": "code",
      "execution_count": null,
      "metadata": {
        "scrolled": true,
        "id": "t24SRJ4Tt0At",
        "outputId": "80bc546c-6f66-4c63-d6fc-240ae82a2fdf"
      },
      "outputs": [
        {
          "data": {
            "text/html": [
              "<div>\n",
              "<style scoped>\n",
              "    .dataframe tbody tr th:only-of-type {\n",
              "        vertical-align: middle;\n",
              "    }\n",
              "\n",
              "    .dataframe tbody tr th {\n",
              "        vertical-align: top;\n",
              "    }\n",
              "\n",
              "    .dataframe thead th {\n",
              "        text-align: right;\n",
              "    }\n",
              "</style>\n",
              "<table border=\"1\" class=\"dataframe\">\n",
              "  <thead>\n",
              "    <tr style=\"text-align: right;\">\n",
              "      <th></th>\n",
              "      <th>children</th>\n",
              "      <th>days_employed</th>\n",
              "      <th>dob_years</th>\n",
              "      <th>education</th>\n",
              "      <th>education_id</th>\n",
              "      <th>family_status</th>\n",
              "      <th>family_status_id</th>\n",
              "      <th>gender</th>\n",
              "      <th>income_type</th>\n",
              "      <th>debt</th>\n",
              "      <th>total_income</th>\n",
              "      <th>purpose</th>\n",
              "    </tr>\n",
              "  </thead>\n",
              "  <tbody>\n",
              "    <tr>\n",
              "      <th>21415</th>\n",
              "      <td>0</td>\n",
              "      <td>NaN</td>\n",
              "      <td>54</td>\n",
              "      <td>secondary education</td>\n",
              "      <td>1</td>\n",
              "      <td>married</td>\n",
              "      <td>0</td>\n",
              "      <td>F</td>\n",
              "      <td>retiree</td>\n",
              "      <td>0</td>\n",
              "      <td>NaN</td>\n",
              "      <td>housing transactions</td>\n",
              "    </tr>\n",
              "    <tr>\n",
              "      <th>21423</th>\n",
              "      <td>0</td>\n",
              "      <td>NaN</td>\n",
              "      <td>63</td>\n",
              "      <td>secondary education</td>\n",
              "      <td>1</td>\n",
              "      <td>married</td>\n",
              "      <td>0</td>\n",
              "      <td>M</td>\n",
              "      <td>retiree</td>\n",
              "      <td>0</td>\n",
              "      <td>NaN</td>\n",
              "      <td>purchase of a car</td>\n",
              "    </tr>\n",
              "    <tr>\n",
              "      <th>21426</th>\n",
              "      <td>0</td>\n",
              "      <td>NaN</td>\n",
              "      <td>49</td>\n",
              "      <td>secondary education</td>\n",
              "      <td>1</td>\n",
              "      <td>married</td>\n",
              "      <td>0</td>\n",
              "      <td>F</td>\n",
              "      <td>employee</td>\n",
              "      <td>1</td>\n",
              "      <td>NaN</td>\n",
              "      <td>property</td>\n",
              "    </tr>\n",
              "    <tr>\n",
              "      <th>21432</th>\n",
              "      <td>1</td>\n",
              "      <td>NaN</td>\n",
              "      <td>38</td>\n",
              "      <td>some college</td>\n",
              "      <td>2</td>\n",
              "      <td>unmarried</td>\n",
              "      <td>4</td>\n",
              "      <td>F</td>\n",
              "      <td>employee</td>\n",
              "      <td>0</td>\n",
              "      <td>NaN</td>\n",
              "      <td>housing transactions</td>\n",
              "    </tr>\n",
              "    <tr>\n",
              "      <th>21463</th>\n",
              "      <td>1</td>\n",
              "      <td>NaN</td>\n",
              "      <td>35</td>\n",
              "      <td>bachelor's degree</td>\n",
              "      <td>0</td>\n",
              "      <td>civil partnership</td>\n",
              "      <td>1</td>\n",
              "      <td>M</td>\n",
              "      <td>employee</td>\n",
              "      <td>0</td>\n",
              "      <td>NaN</td>\n",
              "      <td>having a wedding</td>\n",
              "    </tr>\n",
              "    <tr>\n",
              "      <th>21489</th>\n",
              "      <td>2</td>\n",
              "      <td>NaN</td>\n",
              "      <td>47</td>\n",
              "      <td>secondary education</td>\n",
              "      <td>1</td>\n",
              "      <td>married</td>\n",
              "      <td>0</td>\n",
              "      <td>M</td>\n",
              "      <td>business</td>\n",
              "      <td>0</td>\n",
              "      <td>NaN</td>\n",
              "      <td>purchase of a car</td>\n",
              "    </tr>\n",
              "    <tr>\n",
              "      <th>21495</th>\n",
              "      <td>1</td>\n",
              "      <td>NaN</td>\n",
              "      <td>50</td>\n",
              "      <td>secondary education</td>\n",
              "      <td>1</td>\n",
              "      <td>civil partnership</td>\n",
              "      <td>1</td>\n",
              "      <td>F</td>\n",
              "      <td>employee</td>\n",
              "      <td>0</td>\n",
              "      <td>NaN</td>\n",
              "      <td>wedding ceremony</td>\n",
              "    </tr>\n",
              "    <tr>\n",
              "      <th>21497</th>\n",
              "      <td>0</td>\n",
              "      <td>NaN</td>\n",
              "      <td>48</td>\n",
              "      <td>bachelor's degree</td>\n",
              "      <td>0</td>\n",
              "      <td>married</td>\n",
              "      <td>0</td>\n",
              "      <td>F</td>\n",
              "      <td>business</td>\n",
              "      <td>0</td>\n",
              "      <td>NaN</td>\n",
              "      <td>building a property</td>\n",
              "    </tr>\n",
              "    <tr>\n",
              "      <th>21502</th>\n",
              "      <td>1</td>\n",
              "      <td>NaN</td>\n",
              "      <td>42</td>\n",
              "      <td>secondary education</td>\n",
              "      <td>1</td>\n",
              "      <td>married</td>\n",
              "      <td>0</td>\n",
              "      <td>F</td>\n",
              "      <td>employee</td>\n",
              "      <td>0</td>\n",
              "      <td>NaN</td>\n",
              "      <td>building a real estate</td>\n",
              "    </tr>\n",
              "    <tr>\n",
              "      <th>21510</th>\n",
              "      <td>2</td>\n",
              "      <td>NaN</td>\n",
              "      <td>28</td>\n",
              "      <td>secondary education</td>\n",
              "      <td>1</td>\n",
              "      <td>married</td>\n",
              "      <td>0</td>\n",
              "      <td>F</td>\n",
              "      <td>employee</td>\n",
              "      <td>0</td>\n",
              "      <td>NaN</td>\n",
              "      <td>car purchase</td>\n",
              "    </tr>\n",
              "  </tbody>\n",
              "</table>\n",
              "</div>"
            ],
            "text/plain": [
              "       children  days_employed  dob_years            education  education_id  \\\n",
              "21415         0            NaN         54  secondary education             1   \n",
              "21423         0            NaN         63  secondary education             1   \n",
              "21426         0            NaN         49  secondary education             1   \n",
              "21432         1            NaN         38         some college             2   \n",
              "21463         1            NaN         35    bachelor's degree             0   \n",
              "21489         2            NaN         47  secondary education             1   \n",
              "21495         1            NaN         50  secondary education             1   \n",
              "21497         0            NaN         48    bachelor's degree             0   \n",
              "21502         1            NaN         42  secondary education             1   \n",
              "21510         2            NaN         28  secondary education             1   \n",
              "\n",
              "           family_status  family_status_id gender income_type  debt  \\\n",
              "21415            married                 0      F     retiree     0   \n",
              "21423            married                 0      M     retiree     0   \n",
              "21426            married                 0      F    employee     1   \n",
              "21432          unmarried                 4      F    employee     0   \n",
              "21463  civil partnership                 1      M    employee     0   \n",
              "21489            married                 0      M    business     0   \n",
              "21495  civil partnership                 1      F    employee     0   \n",
              "21497            married                 0      F    business     0   \n",
              "21502            married                 0      F    employee     0   \n",
              "21510            married                 0      F    employee     0   \n",
              "\n",
              "       total_income                 purpose  \n",
              "21415           NaN    housing transactions  \n",
              "21423           NaN       purchase of a car  \n",
              "21426           NaN                property  \n",
              "21432           NaN    housing transactions  \n",
              "21463           NaN        having a wedding  \n",
              "21489           NaN       purchase of a car  \n",
              "21495           NaN        wedding ceremony  \n",
              "21497           NaN     building a property  \n",
              "21502           NaN  building a real estate  \n",
              "21510           NaN            car purchase  "
            ]
          },
          "execution_count": 68,
          "metadata": {},
          "output_type": "execute_result"
        }
      ],
      "source": [
        "no_income.tail(10)"
      ]
    },
    {
      "cell_type": "markdown",
      "metadata": {
        "id": "FGql5YU2t0Av"
      },
      "source": [
        "Dari data persebaran yang telah dilihat, terlihat bahwa kesenjangan nilai total income sangat jauh, ada yang sangat tinggi sehingga akan membuat nilai mean pun meningkat, yang mana mengakibatkan nilai mean dan median memiliki selisih yang jauh dan itu berarti data tidak simetris sehingga untuk mengisi nilai yang kosong akan lebih baik jika menggunakan median."
      ]
    },
    {
      "cell_type": "code",
      "execution_count": null,
      "metadata": {
        "id": "t7z7V2PCt0Av"
      },
      "outputs": [],
      "source": [
        "median_income = pd.pivot_table(data=nonan, index=('age_group','education','income_type'), values='total_income', aggfunc='median')"
      ]
    },
    {
      "cell_type": "markdown",
      "source": [
        "Sel diatas adalah fungsi untuk mendapatkan data median dari masing masing kelompok yang akan dijadikan referensi dalam penggantian data di langkah selanjutnya."
      ],
      "metadata": {
        "id": "Ejca0_9Ix1qL"
      }
    },
    {
      "cell_type": "code",
      "execution_count": null,
      "metadata": {
        "id": "OK-RqWjZt0Az"
      },
      "outputs": [],
      "source": [
        "def medi_inc(f1,f2,f3):\n",
        "    masoook = median_income['total_income'].loc[(f1,f2,f3)]\n",
        "    return masoook"
      ]
    },
    {
      "cell_type": "code",
      "execution_count": null,
      "metadata": {
        "id": "nE17t8Wjt0Az"
      },
      "outputs": [],
      "source": [
        "credit_score['total_income'].fillna(value='', inplace = True)\n",
        "credit_score.loc[credit_score['total_income']=='', 'total_income'] = credit_score.apply(lambda x: medi_inc(x.age_group,\n",
        "                                                                                            x.education,\n",
        "                                                                                            x.income_type),\n",
        "                                                                         axis = 1)"
      ]
    },
    {
      "cell_type": "code",
      "execution_count": null,
      "metadata": {
        "scrolled": true,
        "id": "wtGyy20it0Az",
        "outputId": "3bccfee4-5e35-47e6-933f-724a33db8283"
      },
      "outputs": [
        {
          "data": {
            "text/plain": [
              "<AxesSubplot:xlabel='total_income', ylabel='Count'>"
            ]
          },
          "execution_count": 72,
          "metadata": {},
          "output_type": "execute_result"
        },
        {
          "data": {
            "image/png": "[encoded data removed]",
            "text/plain": [
              "<Figure size 432x288 with 1 Axes>"
            ]
          },
          "metadata": {
            "needs_background": "light"
          },
          "output_type": "display_data"
        }
      ],
      "source": [
        "lll = credit_score.loc[credit_score['days_employed'].isna()]\n",
        "sb.histplot(lll['total_income'])"
      ]
    },
    {
      "cell_type": "markdown",
      "metadata": {
        "id": "t6XH3Vywt0Az"
      },
      "source": [
        "**Pengecekan pengisian nilai yang hilang dengan 3 factor dengan acuan days_employed(karena nilainya masih NA)\n",
        "Terlihat sudah terisi sesuai dengan education, umur, dan pekerjaannya**"
      ]
    },
    {
      "cell_type": "code",
      "execution_count": null,
      "metadata": {
        "scrolled": true,
        "id": "V7cx-Dmet0Az",
        "outputId": "7f1c6535-152a-4f4b-9d63-26e94c6e0031"
      },
      "outputs": [
        {
          "data": {
            "text/plain": [
              "children               0\n",
              "days_employed       2103\n",
              "dob_years              0\n",
              "education              0\n",
              "education_id           0\n",
              "family_status          0\n",
              "family_status_id       0\n",
              "gender                 0\n",
              "income_type            0\n",
              "debt                   0\n",
              "total_income           0\n",
              "purpose                0\n",
              "age_group              0\n",
              "dtype: int64"
            ]
          },
          "execution_count": 73,
          "metadata": {},
          "output_type": "execute_result"
        }
      ],
      "source": [
        "credit_score.isna().sum()"
      ]
    },
    {
      "cell_type": "code",
      "execution_count": null,
      "metadata": {
        "scrolled": true,
        "id": "5qRHhBqTt0A0",
        "outputId": "910da25d-633f-4330-e33c-5f54f1a3be59"
      },
      "outputs": [
        {
          "data": {
            "text/plain": [
              "<AxesSubplot:xlabel='total_income', ylabel='Count'>"
            ]
          },
          "execution_count": 75,
          "metadata": {},
          "output_type": "execute_result"
        },
        {
          "data": {
            "image/png": "[encoded data removed]",
            "text/plain": [
              "<Figure size 432x288 with 1 Axes>"
            ]
          },
          "metadata": {
            "needs_background": "light"
          },
          "output_type": "display_data"
        }
      ],
      "source": [
        "# Terapkan fungsi ke setiap baris\n",
        "sb.histplot(credit_score['total_income'])"
      ]
    },
    {
      "cell_type": "code",
      "execution_count": null,
      "metadata": {
        "id": "uMvuvHmet0A0",
        "outputId": "6799caef-9855-4046-aaa0-668df52b9028"
      },
      "outputs": [
        {
          "data": {
            "text/html": [
              "<div>\n",
              "<style scoped>\n",
              "    .dataframe tbody tr th:only-of-type {\n",
              "        vertical-align: middle;\n",
              "    }\n",
              "\n",
              "    .dataframe tbody tr th {\n",
              "        vertical-align: top;\n",
              "    }\n",
              "\n",
              "    .dataframe thead th {\n",
              "        text-align: right;\n",
              "    }\n",
              "</style>\n",
              "<table border=\"1\" class=\"dataframe\">\n",
              "  <thead>\n",
              "    <tr style=\"text-align: right;\">\n",
              "      <th></th>\n",
              "      <th>children</th>\n",
              "      <th>days_employed</th>\n",
              "      <th>dob_years</th>\n",
              "      <th>education</th>\n",
              "      <th>education_id</th>\n",
              "      <th>family_status</th>\n",
              "      <th>family_status_id</th>\n",
              "      <th>gender</th>\n",
              "      <th>income_type</th>\n",
              "      <th>debt</th>\n",
              "      <th>total_income</th>\n",
              "      <th>purpose</th>\n",
              "      <th>age_group</th>\n",
              "    </tr>\n",
              "  </thead>\n",
              "  <tbody>\n",
              "  </tbody>\n",
              "</table>\n",
              "</div>"
            ],
            "text/plain": [
              "Empty DataFrame\n",
              "Columns: [children, days_employed, dob_years, education, education_id, family_status, family_status_id, gender, income_type, debt, total_income, purpose, age_group]\n",
              "Index: []"
            ]
          },
          "execution_count": 76,
          "metadata": {},
          "output_type": "execute_result"
        }
      ],
      "source": [
        "# Mengganti nilai yang hilang jika terdapat kesalahan\n",
        "credit_score.loc[credit_score['total_income'].isna()]"
      ]
    },
    {
      "cell_type": "markdown",
      "metadata": {
        "id": "Qyw0yYQXt0A0"
      },
      "source": [
        "Periksa kembali kolom lain."
      ]
    },
    {
      "cell_type": "code",
      "execution_count": null,
      "metadata": {
        "scrolled": true,
        "id": "8EzdcVlQt0A0",
        "outputId": "91228fed-655d-4642-d6f8-043126f7a6d4"
      },
      "outputs": [
        {
          "name": "stdout",
          "output_type": "stream",
          "text": [
            "<class 'pandas.core.frame.DataFrame'>\n",
            "RangeIndex: 21453 entries, 0 to 21452\n",
            "Data columns (total 13 columns):\n",
            " #   Column            Non-Null Count  Dtype  \n",
            "---  ------            --------------  -----  \n",
            " 0   children          21453 non-null  int64  \n",
            " 1   days_employed     19350 non-null  float64\n",
            " 2   dob_years         21453 non-null  int64  \n",
            " 3   education         21453 non-null  object \n",
            " 4   education_id      21453 non-null  int64  \n",
            " 5   family_status     21453 non-null  object \n",
            " 6   family_status_id  21453 non-null  int64  \n",
            " 7   gender            21453 non-null  object \n",
            " 8   income_type       21453 non-null  object \n",
            " 9   debt              21453 non-null  int64  \n",
            " 10  total_income      21453 non-null  object \n",
            " 11  purpose           21453 non-null  object \n",
            " 12  age_group         21453 non-null  object \n",
            "dtypes: float64(1), int64(5), object(7)\n",
            "memory usage: 2.1+ MB\n"
          ]
        }
      ],
      "source": [
        "# Memeriksa jumlah entri di kolom\n",
        "credit_score.info()\n"
      ]
    },
    {
      "cell_type": "markdown",
      "metadata": {
        "id": "zy6A54Nft0A1"
      },
      "source": [
        "Total income sudah diperbaiki sesuai dengan median dari total_income berdasarkan pendidikan,umur, dan pekerjaan."
      ]
    },
    {
      "cell_type": "markdown",
      "metadata": {
        "id": "G3v_YiFGt0A1"
      },
      "source": [
        "###  Memperbaiki nilai di `days_employed`"
      ]
    },
    {
      "cell_type": "code",
      "execution_count": null,
      "metadata": {
        "id": "dzd82vOht0A1",
        "outputId": "2f713c6d-f6b7-45a3-8ca5-992d055faf12"
      },
      "outputs": [
        {
          "data": {
            "text/html": [
              "<div>\n",
              "<style scoped>\n",
              "    .dataframe tbody tr th:only-of-type {\n",
              "        vertical-align: middle;\n",
              "    }\n",
              "\n",
              "    .dataframe tbody tr th {\n",
              "        vertical-align: top;\n",
              "    }\n",
              "\n",
              "    .dataframe thead tr th {\n",
              "        text-align: left;\n",
              "    }\n",
              "\n",
              "    .dataframe thead tr:last-of-type th {\n",
              "        text-align: right;\n",
              "    }\n",
              "</style>\n",
              "<table border=\"1\" class=\"dataframe\">\n",
              "  <thead>\n",
              "    <tr>\n",
              "      <th></th>\n",
              "      <th>mean</th>\n",
              "      <th>median</th>\n",
              "    </tr>\n",
              "    <tr>\n",
              "      <th></th>\n",
              "      <th>days_employed</th>\n",
              "      <th>days_employed</th>\n",
              "    </tr>\n",
              "    <tr>\n",
              "      <th>age_group</th>\n",
              "      <th></th>\n",
              "      <th></th>\n",
              "    </tr>\n",
              "  </thead>\n",
              "  <tbody>\n",
              "    <tr>\n",
              "      <th>15 sampai 24 tahun</th>\n",
              "      <td>855.282082</td>\n",
              "      <td>744.279198</td>\n",
              "    </tr>\n",
              "    <tr>\n",
              "      <th>25 sampai 34 tahun</th>\n",
              "      <td>1593.560024</td>\n",
              "      <td>1292.221018</td>\n",
              "    </tr>\n",
              "    <tr>\n",
              "      <th>35 sampai 44 tahun</th>\n",
              "      <td>2428.189511</td>\n",
              "      <td>1856.018903</td>\n",
              "    </tr>\n",
              "    <tr>\n",
              "      <th>45 sampai 54 tahun</th>\n",
              "      <td>3095.868649</td>\n",
              "      <td>2637.784944</td>\n",
              "    </tr>\n",
              "    <tr>\n",
              "      <th>55 sampai 64 tahun</th>\n",
              "      <td>3611.686214</td>\n",
              "      <td>3580.804816</td>\n",
              "    </tr>\n",
              "    <tr>\n",
              "      <th>diatas 64 tahun</th>\n",
              "      <td>3708.694906</td>\n",
              "      <td>3646.615594</td>\n",
              "    </tr>\n",
              "  </tbody>\n",
              "</table>\n",
              "</div>"
            ],
            "text/plain": [
              "                            mean        median\n",
              "                   days_employed days_employed\n",
              "age_group                                     \n",
              "15 sampai 24 tahun    855.282082    744.279198\n",
              "25 sampai 34 tahun   1593.560024   1292.221018\n",
              "35 sampai 44 tahun   2428.189511   1856.018903\n",
              "45 sampai 54 tahun   3095.868649   2637.784944\n",
              "55 sampai 64 tahun   3611.686214   3580.804816\n",
              "diatas 64 tahun      3708.694906   3646.615594"
            ]
          },
          "execution_count": 78,
          "metadata": {},
          "output_type": "execute_result"
        }
      ],
      "source": [
        "pd.pivot_table(data = nonan, index=('age_group'), values = 'days_employed', aggfunc=['mean','median'])"
      ]
    },
    {
      "cell_type": "code",
      "execution_count": null,
      "metadata": {
        "id": "omadg7EOt0A2",
        "outputId": "5b04cdb1-742b-44d9-f145-97d7cfcddc76"
      },
      "outputs": [
        {
          "data": {
            "text/html": [
              "<div>\n",
              "<style scoped>\n",
              "    .dataframe tbody tr th:only-of-type {\n",
              "        vertical-align: middle;\n",
              "    }\n",
              "\n",
              "    .dataframe tbody tr th {\n",
              "        vertical-align: top;\n",
              "    }\n",
              "\n",
              "    .dataframe thead tr th {\n",
              "        text-align: left;\n",
              "    }\n",
              "\n",
              "    .dataframe thead tr:last-of-type th {\n",
              "        text-align: right;\n",
              "    }\n",
              "</style>\n",
              "<table border=\"1\" class=\"dataframe\">\n",
              "  <thead>\n",
              "    <tr>\n",
              "      <th></th>\n",
              "      <th>mean</th>\n",
              "      <th>median</th>\n",
              "    </tr>\n",
              "    <tr>\n",
              "      <th></th>\n",
              "      <th>days_employed</th>\n",
              "      <th>days_employed</th>\n",
              "    </tr>\n",
              "    <tr>\n",
              "      <th>income_type</th>\n",
              "      <th></th>\n",
              "      <th></th>\n",
              "    </tr>\n",
              "  </thead>\n",
              "  <tbody>\n",
              "    <tr>\n",
              "      <th>business</th>\n",
              "      <td>2111.122879</td>\n",
              "      <td>1545.284206</td>\n",
              "    </tr>\n",
              "    <tr>\n",
              "      <th>civil servant</th>\n",
              "      <td>3399.896902</td>\n",
              "      <td>2689.368353</td>\n",
              "    </tr>\n",
              "    <tr>\n",
              "      <th>employee</th>\n",
              "      <td>2326.596097</td>\n",
              "      <td>1574.429209</td>\n",
              "    </tr>\n",
              "    <tr>\n",
              "      <th>retiree</th>\n",
              "      <td>3650.034912</td>\n",
              "      <td>3652.133063</td>\n",
              "    </tr>\n",
              "    <tr>\n",
              "      <th>unemployed</th>\n",
              "      <td>2635.674869</td>\n",
              "      <td>3375.244668</td>\n",
              "    </tr>\n",
              "  </tbody>\n",
              "</table>\n",
              "</div>"
            ],
            "text/plain": [
              "                       mean        median\n",
              "              days_employed days_employed\n",
              "income_type                              \n",
              "business        2111.122879   1545.284206\n",
              "civil servant   3399.896902   2689.368353\n",
              "employee        2326.596097   1574.429209\n",
              "retiree         3650.034912   3652.133063\n",
              "unemployed      2635.674869   3375.244668"
            ]
          },
          "execution_count": 79,
          "metadata": {},
          "output_type": "execute_result"
        }
      ],
      "source": [
        "pd.pivot_table(data = nonan, index=('income_type'), values = 'days_employed', aggfunc=['mean','median'])"
      ]
    },
    {
      "cell_type": "code",
      "execution_count": null,
      "metadata": {
        "id": "1dWgjs9Ct0A2",
        "outputId": "fb9d82c3-6381-45ef-a76c-192e48038c3d"
      },
      "outputs": [
        {
          "data": {
            "text/plain": [
              "employee         11085\n",
              "business          5079\n",
              "retiree           3829\n",
              "civil servant     1457\n",
              "unemployed           3\n",
              "Name: income_type, dtype: int64"
            ]
          },
          "execution_count": 80,
          "metadata": {},
          "output_type": "execute_result"
        }
      ],
      "source": [
        "credit_score['income_type'].value_counts() #cek semua jenis pekerjaan"
      ]
    },
    {
      "cell_type": "code",
      "execution_count": null,
      "metadata": {
        "scrolled": true,
        "id": "Agj9hj2mt0A2",
        "outputId": "c2982b75-ecb5-4de4-a06f-3b9f130c4e3f"
      },
      "outputs": [
        {
          "data": {
            "text/plain": [
              "<AxesSubplot:xlabel='days_employed', ylabel='Count'>"
            ]
          },
          "execution_count": 81,
          "metadata": {},
          "output_type": "execute_result"
        },
        {
          "data": {
            "image/png": "[encoded data removed]",
            "text/plain": [
              "<Figure size 432x288 with 1 Axes>"
            ]
          },
          "metadata": {
            "needs_background": "light"
          },
          "output_type": "display_data"
        }
      ],
      "source": [
        "z = nonan.loc[nonan['income_type'] == 'retiree'] ##Cek semua plot berdasar income type\n",
        "sb.histplot(data = z, x='days_employed')"
      ]
    },
    {
      "cell_type": "code",
      "execution_count": null,
      "metadata": {
        "id": "8_nqRUxlt0A2",
        "outputId": "5c574797-7b76-45d7-d162-534df69b49d4"
      },
      "outputs": [
        {
          "data": {
            "text/plain": [
              "35 sampai 44 tahun    5841\n",
              "25 sampai 34 tahun    5092\n",
              "45 sampai 54 tahun    4867\n",
              "55 sampai 64 tahun    3884\n",
              "diatas 64 tahun        895\n",
              "15 sampai 24 tahun     874\n",
              "Name: age_group, dtype: int64"
            ]
          },
          "execution_count": 82,
          "metadata": {},
          "output_type": "execute_result"
        }
      ],
      "source": [
        "credit_score['age_group'].value_counts()"
      ]
    },
    {
      "cell_type": "code",
      "execution_count": null,
      "metadata": {
        "scrolled": true,
        "id": "7UFEZrQtt0A2",
        "outputId": "e8976056-ddb4-4e79-88e0-bf0dd2e1cd6d"
      },
      "outputs": [
        {
          "data": {
            "text/plain": [
              "<AxesSubplot:xlabel='days_employed', ylabel='Count'>"
            ]
          },
          "execution_count": 83,
          "metadata": {},
          "output_type": "execute_result"
        },
        {
          "data": {
            "image/png": "[encoded data removed]",
            "text/plain": [
              "<Figure size 432x288 with 1 Axes>"
            ]
          },
          "metadata": {
            "needs_background": "light"
          },
          "output_type": "display_data"
        }
      ],
      "source": [
        "z = nonan.loc[nonan['age_group'] == '35 sampai 44 tahun'] ##Cek distribusi berdasar kategori umur\n",
        "sb.histplot(data = z, x='days_employed')"
      ]
    },
    {
      "cell_type": "markdown",
      "metadata": {
        "id": "2LUP7Ymlt0A2"
      },
      "source": [
        "Hampir semua data days_employed memiliki distribusi data yang tidak simetreis (skewed) sehingga lebih baik menggunakan median untuk mengisi nilai yang hilangnya.\n",
        "\n",
        "Parameter yang dijadikan acuan adalah income_type, karena dari jenis pekerjaan, bisa dilihat lama bekerjanya, sebenarnya gender memiliki sedikit pengaruh, tapi karena tidak ingin melakukan gender stereotyping, maka umur yang dijadikan acuan, umur juga sebenarnya ada sedikit pengaruh, namun yang terlihat berpola adalah dari income type, dimana income type retiree sangat jelas terlihat berpola."
      ]
    },
    {
      "cell_type": "code",
      "execution_count": null,
      "metadata": {
        "scrolled": true,
        "id": "_6W2zQLCt0A3",
        "outputId": "1bb99c6d-32dd-4856-a434-24c0aa63f05c"
      },
      "outputs": [
        {
          "data": {
            "text/html": [
              "<div>\n",
              "<style scoped>\n",
              "    .dataframe tbody tr th:only-of-type {\n",
              "        vertical-align: middle;\n",
              "    }\n",
              "\n",
              "    .dataframe tbody tr th {\n",
              "        vertical-align: top;\n",
              "    }\n",
              "\n",
              "    .dataframe thead tr th {\n",
              "        text-align: left;\n",
              "    }\n",
              "\n",
              "    .dataframe thead tr:last-of-type th {\n",
              "        text-align: right;\n",
              "    }\n",
              "</style>\n",
              "<table border=\"1\" class=\"dataframe\">\n",
              "  <thead>\n",
              "    <tr>\n",
              "      <th></th>\n",
              "      <th></th>\n",
              "      <th>mean</th>\n",
              "      <th>median</th>\n",
              "    </tr>\n",
              "    <tr>\n",
              "      <th></th>\n",
              "      <th></th>\n",
              "      <th>days_employed</th>\n",
              "      <th>days_employed</th>\n",
              "    </tr>\n",
              "    <tr>\n",
              "      <th>age_group</th>\n",
              "      <th>income_type</th>\n",
              "      <th></th>\n",
              "      <th></th>\n",
              "    </tr>\n",
              "  </thead>\n",
              "  <tbody>\n",
              "    <tr>\n",
              "      <th rowspan=\"5\" valign=\"top\">15 sampai 24 tahun</th>\n",
              "      <th>business</th>\n",
              "      <td>787.090016</td>\n",
              "      <td>691.676752</td>\n",
              "    </tr>\n",
              "    <tr>\n",
              "      <th>civil servant</th>\n",
              "      <td>975.347977</td>\n",
              "      <td>922.372533</td>\n",
              "    </tr>\n",
              "    <tr>\n",
              "      <th>employee</th>\n",
              "      <td>873.864193</td>\n",
              "      <td>769.758975</td>\n",
              "    </tr>\n",
              "    <tr>\n",
              "      <th>retiree</th>\n",
              "      <td>3347.642598</td>\n",
              "      <td>3347.642598</td>\n",
              "    </tr>\n",
              "    <tr>\n",
              "      <th>unemployed</th>\n",
              "      <td>578.751554</td>\n",
              "      <td>578.751554</td>\n",
              "    </tr>\n",
              "    <tr>\n",
              "      <th rowspan=\"5\" valign=\"top\">25 sampai 34 tahun</th>\n",
              "      <th>business</th>\n",
              "      <td>1480.207464</td>\n",
              "      <td>1168.374165</td>\n",
              "    </tr>\n",
              "    <tr>\n",
              "      <th>civil servant</th>\n",
              "      <td>2003.871330</td>\n",
              "      <td>1864.901726</td>\n",
              "    </tr>\n",
              "    <tr>\n",
              "      <th>employee</th>\n",
              "      <td>1582.711337</td>\n",
              "      <td>1274.074208</td>\n",
              "    </tr>\n",
              "    <tr>\n",
              "      <th>retiree</th>\n",
              "      <td>3641.175967</td>\n",
              "      <td>3664.521039</td>\n",
              "    </tr>\n",
              "    <tr>\n",
              "      <th>unemployed</th>\n",
              "      <td>3375.244668</td>\n",
              "      <td>3375.244668</td>\n",
              "    </tr>\n",
              "    <tr>\n",
              "      <th rowspan=\"4\" valign=\"top\">35 sampai 44 tahun</th>\n",
              "      <th>business</th>\n",
              "      <td>2136.981888</td>\n",
              "      <td>1693.069607</td>\n",
              "    </tr>\n",
              "    <tr>\n",
              "      <th>civil servant</th>\n",
              "      <td>3603.394996</td>\n",
              "      <td>3227.147653</td>\n",
              "    </tr>\n",
              "    <tr>\n",
              "      <th>employee</th>\n",
              "      <td>2382.055884</td>\n",
              "      <td>1738.546227</td>\n",
              "    </tr>\n",
              "    <tr>\n",
              "      <th>retiree</th>\n",
              "      <td>3638.218932</td>\n",
              "      <td>3605.877431</td>\n",
              "    </tr>\n",
              "    <tr>\n",
              "      <th rowspan=\"5\" valign=\"top\">45 sampai 54 tahun</th>\n",
              "      <th>business</th>\n",
              "      <td>2755.077797</td>\n",
              "      <td>2045.456606</td>\n",
              "    </tr>\n",
              "    <tr>\n",
              "      <th>civil servant</th>\n",
              "      <td>4355.234069</td>\n",
              "      <td>3527.162375</td>\n",
              "    </tr>\n",
              "    <tr>\n",
              "      <th>employee</th>\n",
              "      <td>2944.355689</td>\n",
              "      <td>2063.223473</td>\n",
              "    </tr>\n",
              "    <tr>\n",
              "      <th>retiree</th>\n",
              "      <td>3639.315406</td>\n",
              "      <td>3627.239331</td>\n",
              "    </tr>\n",
              "    <tr>\n",
              "      <th>unemployed</th>\n",
              "      <td>3953.028387</td>\n",
              "      <td>3953.028387</td>\n",
              "    </tr>\n",
              "    <tr>\n",
              "      <th rowspan=\"4\" valign=\"top\">55 sampai 64 tahun</th>\n",
              "      <th>business</th>\n",
              "      <td>3126.150196</td>\n",
              "      <td>2147.212460</td>\n",
              "    </tr>\n",
              "    <tr>\n",
              "      <th>civil servant</th>\n",
              "      <td>4985.852452</td>\n",
              "      <td>3998.694317</td>\n",
              "    </tr>\n",
              "    <tr>\n",
              "      <th>employee</th>\n",
              "      <td>3533.590053</td>\n",
              "      <td>2382.496567</td>\n",
              "    </tr>\n",
              "    <tr>\n",
              "      <th>retiree</th>\n",
              "      <td>3650.805152</td>\n",
              "      <td>3655.824417</td>\n",
              "    </tr>\n",
              "    <tr>\n",
              "      <th rowspan=\"4\" valign=\"top\">diatas 64 tahun</th>\n",
              "      <th>business</th>\n",
              "      <td>3292.768472</td>\n",
              "      <td>1928.123732</td>\n",
              "    </tr>\n",
              "    <tr>\n",
              "      <th>civil servant</th>\n",
              "      <td>4377.924812</td>\n",
              "      <td>3339.663548</td>\n",
              "    </tr>\n",
              "    <tr>\n",
              "      <th>employee</th>\n",
              "      <td>4366.938943</td>\n",
              "      <td>3240.640456</td>\n",
              "    </tr>\n",
              "    <tr>\n",
              "      <th>retiree</th>\n",
              "      <td>3658.325913</td>\n",
              "      <td>3659.344327</td>\n",
              "    </tr>\n",
              "  </tbody>\n",
              "</table>\n",
              "</div>"
            ],
            "text/plain": [
              "                                          mean        median\n",
              "                                 days_employed days_employed\n",
              "age_group          income_type                              \n",
              "15 sampai 24 tahun business         787.090016    691.676752\n",
              "                   civil servant    975.347977    922.372533\n",
              "                   employee         873.864193    769.758975\n",
              "                   retiree         3347.642598   3347.642598\n",
              "                   unemployed       578.751554    578.751554\n",
              "25 sampai 34 tahun business        1480.207464   1168.374165\n",
              "                   civil servant   2003.871330   1864.901726\n",
              "                   employee        1582.711337   1274.074208\n",
              "                   retiree         3641.175967   3664.521039\n",
              "                   unemployed      3375.244668   3375.244668\n",
              "35 sampai 44 tahun business        2136.981888   1693.069607\n",
              "                   civil servant   3603.394996   3227.147653\n",
              "                   employee        2382.055884   1738.546227\n",
              "                   retiree         3638.218932   3605.877431\n",
              "45 sampai 54 tahun business        2755.077797   2045.456606\n",
              "                   civil servant   4355.234069   3527.162375\n",
              "                   employee        2944.355689   2063.223473\n",
              "                   retiree         3639.315406   3627.239331\n",
              "                   unemployed      3953.028387   3953.028387\n",
              "55 sampai 64 tahun business        3126.150196   2147.212460\n",
              "                   civil servant   4985.852452   3998.694317\n",
              "                   employee        3533.590053   2382.496567\n",
              "                   retiree         3650.805152   3655.824417\n",
              "diatas 64 tahun    business        3292.768472   1928.123732\n",
              "                   civil servant   4377.924812   3339.663548\n",
              "                   employee        4366.938943   3240.640456\n",
              "                   retiree         3658.325913   3659.344327"
            ]
          },
          "execution_count": 84,
          "metadata": {},
          "output_type": "execute_result"
        }
      ],
      "source": [
        "pd.pivot_table(data = nonan, index=('age_group','income_type'), values = 'days_employed', aggfunc=['mean','median'])"
      ]
    },
    {
      "cell_type": "markdown",
      "metadata": {
        "id": "85TWGXT9t0A3"
      },
      "source": [
        "Dari data diatas, terlihat bahwa mean dan mediannya memiliki kesenjangan nilai yang lumayan besar untuk beberapa kategori, sehingga yang dipakai untuk mengisi nilai NaN adalah median lagi."
      ]
    },
    {
      "cell_type": "code",
      "execution_count": null,
      "metadata": {
        "id": "yo7SPlDMt0A3"
      },
      "outputs": [],
      "source": [
        "days_median = pd.pivot_table(data = nonan, index=('age_group','income_type'), values = 'days_employed', aggfunc='median')"
      ]
    },
    {
      "cell_type": "code",
      "execution_count": null,
      "metadata": {
        "scrolled": true,
        "id": "Xsu1Z09ot0A4",
        "outputId": "cb46bb5d-9c31-4548-d0e2-45c8907eb179"
      },
      "outputs": [
        {
          "data": {
            "text/html": [
              "<div>\n",
              "<style scoped>\n",
              "    .dataframe tbody tr th:only-of-type {\n",
              "        vertical-align: middle;\n",
              "    }\n",
              "\n",
              "    .dataframe tbody tr th {\n",
              "        vertical-align: top;\n",
              "    }\n",
              "\n",
              "    .dataframe thead th {\n",
              "        text-align: right;\n",
              "    }\n",
              "</style>\n",
              "<table border=\"1\" class=\"dataframe\">\n",
              "  <thead>\n",
              "    <tr style=\"text-align: right;\">\n",
              "      <th></th>\n",
              "      <th></th>\n",
              "      <th>days_employed</th>\n",
              "    </tr>\n",
              "    <tr>\n",
              "      <th>age_group</th>\n",
              "      <th>income_type</th>\n",
              "      <th></th>\n",
              "    </tr>\n",
              "  </thead>\n",
              "  <tbody>\n",
              "    <tr>\n",
              "      <th rowspan=\"5\" valign=\"top\">15 sampai 24 tahun</th>\n",
              "      <th>business</th>\n",
              "      <td>691.676752</td>\n",
              "    </tr>\n",
              "    <tr>\n",
              "      <th>civil servant</th>\n",
              "      <td>922.372533</td>\n",
              "    </tr>\n",
              "    <tr>\n",
              "      <th>employee</th>\n",
              "      <td>769.758975</td>\n",
              "    </tr>\n",
              "    <tr>\n",
              "      <th>retiree</th>\n",
              "      <td>3347.642598</td>\n",
              "    </tr>\n",
              "    <tr>\n",
              "      <th>unemployed</th>\n",
              "      <td>578.751554</td>\n",
              "    </tr>\n",
              "    <tr>\n",
              "      <th rowspan=\"5\" valign=\"top\">25 sampai 34 tahun</th>\n",
              "      <th>business</th>\n",
              "      <td>1168.374165</td>\n",
              "    </tr>\n",
              "    <tr>\n",
              "      <th>civil servant</th>\n",
              "      <td>1864.901726</td>\n",
              "    </tr>\n",
              "    <tr>\n",
              "      <th>employee</th>\n",
              "      <td>1274.074208</td>\n",
              "    </tr>\n",
              "    <tr>\n",
              "      <th>retiree</th>\n",
              "      <td>3664.521039</td>\n",
              "    </tr>\n",
              "    <tr>\n",
              "      <th>unemployed</th>\n",
              "      <td>3375.244668</td>\n",
              "    </tr>\n",
              "    <tr>\n",
              "      <th rowspan=\"4\" valign=\"top\">35 sampai 44 tahun</th>\n",
              "      <th>business</th>\n",
              "      <td>1693.069607</td>\n",
              "    </tr>\n",
              "    <tr>\n",
              "      <th>civil servant</th>\n",
              "      <td>3227.147653</td>\n",
              "    </tr>\n",
              "    <tr>\n",
              "      <th>employee</th>\n",
              "      <td>1738.546227</td>\n",
              "    </tr>\n",
              "    <tr>\n",
              "      <th>retiree</th>\n",
              "      <td>3605.877431</td>\n",
              "    </tr>\n",
              "    <tr>\n",
              "      <th rowspan=\"5\" valign=\"top\">45 sampai 54 tahun</th>\n",
              "      <th>business</th>\n",
              "      <td>2045.456606</td>\n",
              "    </tr>\n",
              "    <tr>\n",
              "      <th>civil servant</th>\n",
              "      <td>3527.162375</td>\n",
              "    </tr>\n",
              "    <tr>\n",
              "      <th>employee</th>\n",
              "      <td>2063.223473</td>\n",
              "    </tr>\n",
              "    <tr>\n",
              "      <th>retiree</th>\n",
              "      <td>3627.239331</td>\n",
              "    </tr>\n",
              "    <tr>\n",
              "      <th>unemployed</th>\n",
              "      <td>3953.028387</td>\n",
              "    </tr>\n",
              "    <tr>\n",
              "      <th rowspan=\"4\" valign=\"top\">55 sampai 64 tahun</th>\n",
              "      <th>business</th>\n",
              "      <td>2147.212460</td>\n",
              "    </tr>\n",
              "    <tr>\n",
              "      <th>civil servant</th>\n",
              "      <td>3998.694317</td>\n",
              "    </tr>\n",
              "    <tr>\n",
              "      <th>employee</th>\n",
              "      <td>2382.496567</td>\n",
              "    </tr>\n",
              "    <tr>\n",
              "      <th>retiree</th>\n",
              "      <td>3655.824417</td>\n",
              "    </tr>\n",
              "    <tr>\n",
              "      <th rowspan=\"4\" valign=\"top\">diatas 64 tahun</th>\n",
              "      <th>business</th>\n",
              "      <td>1928.123732</td>\n",
              "    </tr>\n",
              "    <tr>\n",
              "      <th>civil servant</th>\n",
              "      <td>3339.663548</td>\n",
              "    </tr>\n",
              "    <tr>\n",
              "      <th>employee</th>\n",
              "      <td>3240.640456</td>\n",
              "    </tr>\n",
              "    <tr>\n",
              "      <th>retiree</th>\n",
              "      <td>3659.344327</td>\n",
              "    </tr>\n",
              "  </tbody>\n",
              "</table>\n",
              "</div>"
            ],
            "text/plain": [
              "                                  days_employed\n",
              "age_group          income_type                 \n",
              "15 sampai 24 tahun business          691.676752\n",
              "                   civil servant     922.372533\n",
              "                   employee          769.758975\n",
              "                   retiree          3347.642598\n",
              "                   unemployed        578.751554\n",
              "25 sampai 34 tahun business         1168.374165\n",
              "                   civil servant    1864.901726\n",
              "                   employee         1274.074208\n",
              "                   retiree          3664.521039\n",
              "                   unemployed       3375.244668\n",
              "35 sampai 44 tahun business         1693.069607\n",
              "                   civil servant    3227.147653\n",
              "                   employee         1738.546227\n",
              "                   retiree          3605.877431\n",
              "45 sampai 54 tahun business         2045.456606\n",
              "                   civil servant    3527.162375\n",
              "                   employee         2063.223473\n",
              "                   retiree          3627.239331\n",
              "                   unemployed       3953.028387\n",
              "55 sampai 64 tahun business         2147.212460\n",
              "                   civil servant    3998.694317\n",
              "                   employee         2382.496567\n",
              "                   retiree          3655.824417\n",
              "diatas 64 tahun    business         1928.123732\n",
              "                   civil servant    3339.663548\n",
              "                   employee         3240.640456\n",
              "                   retiree          3659.344327"
            ]
          },
          "execution_count": 86,
          "metadata": {},
          "output_type": "execute_result"
        }
      ],
      "source": [
        "days_median"
      ]
    },
    {
      "cell_type": "markdown",
      "metadata": {
        "id": "wU25DZJVt0A4"
      },
      "source": [
        "**Membuat fungsi untuk mengisi nilai NaN**"
      ]
    },
    {
      "cell_type": "code",
      "execution_count": null,
      "metadata": {
        "id": "9B6eNOJrt0A4"
      },
      "outputs": [],
      "source": [
        "def medi_days(f1,f2):\n",
        "    masoook = days_median['days_employed'].loc[(f1,f2)]\n",
        "    return masoook"
      ]
    },
    {
      "cell_type": "code",
      "execution_count": null,
      "metadata": {
        "scrolled": true,
        "id": "KFGB9Ky9t0A4",
        "outputId": "ac37ec68-0e3c-431b-8607-1dc8b268511b"
      },
      "outputs": [
        {
          "data": {
            "text/plain": [
              "3659.344326956698"
            ]
          },
          "execution_count": 110,
          "metadata": {},
          "output_type": "execute_result"
        }
      ],
      "source": [
        "medi_days('diatas 64 tahun','retiree')"
      ]
    },
    {
      "cell_type": "code",
      "execution_count": null,
      "metadata": {
        "id": "s23gJj9Ut0A5"
      },
      "outputs": [],
      "source": [
        "credit_score['days_employed'].fillna(value='', inplace = True)\n",
        "credit_score.loc[credit_score['days_employed']=='', 'days_employed'] = credit_score.apply(lambda x: medi_days(x.age_group,\n",
        "                                                                                            x.income_type),\n",
        "                                                                         axis = 1)"
      ]
    },
    {
      "cell_type": "code",
      "execution_count": null,
      "metadata": {
        "scrolled": false,
        "id": "WTH-qn9Ft0A5",
        "outputId": "20ca0652-55b3-4a33-946e-e1a7613c7099"
      },
      "outputs": [
        {
          "data": {
            "text/plain": [
              "<AxesSubplot:xlabel='days_employed', ylabel='Count'>"
            ]
          },
          "execution_count": 90,
          "metadata": {},
          "output_type": "execute_result"
        },
        {
          "data": {
            "image/png": "[encoded data removed]",
            "text/plain": [
              "<Figure size 432x288 with 1 Axes>"
            ]
          },
          "metadata": {
            "needs_background": "light"
          },
          "output_type": "display_data"
        }
      ],
      "source": [
        "# Periksa bahwa fungsi bekerja\n",
        "sb.histplot(credit_score['days_employed'])\n"
      ]
    },
    {
      "cell_type": "code",
      "execution_count": null,
      "metadata": {
        "scrolled": true,
        "id": "vsyrhldYt0A5",
        "outputId": "06e13b32-ae1b-4268-8414-2b3fc272f204"
      },
      "outputs": [
        {
          "data": {
            "text/html": [
              "<div>\n",
              "<style scoped>\n",
              "    .dataframe tbody tr th:only-of-type {\n",
              "        vertical-align: middle;\n",
              "    }\n",
              "\n",
              "    .dataframe tbody tr th {\n",
              "        vertical-align: top;\n",
              "    }\n",
              "\n",
              "    .dataframe thead th {\n",
              "        text-align: right;\n",
              "    }\n",
              "</style>\n",
              "<table border=\"1\" class=\"dataframe\">\n",
              "  <thead>\n",
              "    <tr style=\"text-align: right;\">\n",
              "      <th></th>\n",
              "      <th>children</th>\n",
              "      <th>days_employed</th>\n",
              "      <th>dob_years</th>\n",
              "      <th>education</th>\n",
              "      <th>education_id</th>\n",
              "      <th>family_status</th>\n",
              "      <th>family_status_id</th>\n",
              "      <th>gender</th>\n",
              "      <th>income_type</th>\n",
              "      <th>debt</th>\n",
              "      <th>total_income</th>\n",
              "      <th>purpose</th>\n",
              "      <th>age_group</th>\n",
              "    </tr>\n",
              "  </thead>\n",
              "  <tbody>\n",
              "  </tbody>\n",
              "</table>\n",
              "</div>"
            ],
            "text/plain": [
              "Empty DataFrame\n",
              "Columns: [children, days_employed, dob_years, education, education_id, family_status, family_status_id, gender, income_type, debt, total_income, purpose, age_group]\n",
              "Index: []"
            ]
          },
          "execution_count": 91,
          "metadata": {},
          "output_type": "execute_result"
        }
      ],
      "source": [
        "# Mengganti nilai yang hilang\n",
        "credit_score.loc[credit_score['days_employed'].isna()]\n"
      ]
    },
    {
      "cell_type": "code",
      "execution_count": null,
      "metadata": {
        "scrolled": true,
        "id": "LHuEP-hzt0A5",
        "outputId": "ae28f936-1931-4eda-879c-e870d88f1583"
      },
      "outputs": [
        {
          "name": "stdout",
          "output_type": "stream",
          "text": [
            "<class 'pandas.core.frame.DataFrame'>\n",
            "RangeIndex: 21453 entries, 0 to 21452\n",
            "Data columns (total 13 columns):\n",
            " #   Column            Non-Null Count  Dtype \n",
            "---  ------            --------------  ----- \n",
            " 0   children          21453 non-null  int64 \n",
            " 1   days_employed     21453 non-null  object\n",
            " 2   dob_years         21453 non-null  int64 \n",
            " 3   education         21453 non-null  object\n",
            " 4   education_id      21453 non-null  int64 \n",
            " 5   family_status     21453 non-null  object\n",
            " 6   family_status_id  21453 non-null  int64 \n",
            " 7   gender            21453 non-null  object\n",
            " 8   income_type       21453 non-null  object\n",
            " 9   debt              21453 non-null  int64 \n",
            " 10  total_income      21453 non-null  object\n",
            " 11  purpose           21453 non-null  object\n",
            " 12  age_group         21453 non-null  object\n",
            "dtypes: int64(5), object(8)\n",
            "memory usage: 2.1+ MB\n"
          ]
        }
      ],
      "source": [
        "# Periksa entri di semua kolom - pastikan kita memperbaiki semua nilai yang hilang\n",
        "credit_score.info()"
      ]
    },
    {
      "cell_type": "code",
      "execution_count": null,
      "metadata": {
        "scrolled": true,
        "id": "orQgPQKOt0A5",
        "outputId": "ce66526e-4a1a-4b90-a9b5-1c8c44f21743"
      },
      "outputs": [
        {
          "data": {
            "text/html": [
              "<div>\n",
              "<style scoped>\n",
              "    .dataframe tbody tr th:only-of-type {\n",
              "        vertical-align: middle;\n",
              "    }\n",
              "\n",
              "    .dataframe tbody tr th {\n",
              "        vertical-align: top;\n",
              "    }\n",
              "\n",
              "    .dataframe thead th {\n",
              "        text-align: right;\n",
              "    }\n",
              "</style>\n",
              "<table border=\"1\" class=\"dataframe\">\n",
              "  <thead>\n",
              "    <tr style=\"text-align: right;\">\n",
              "      <th></th>\n",
              "      <th>children</th>\n",
              "      <th>days_employed</th>\n",
              "      <th>dob_years</th>\n",
              "      <th>education</th>\n",
              "      <th>education_id</th>\n",
              "      <th>family_status</th>\n",
              "      <th>family_status_id</th>\n",
              "      <th>gender</th>\n",
              "      <th>income_type</th>\n",
              "      <th>debt</th>\n",
              "      <th>total_income</th>\n",
              "      <th>purpose</th>\n",
              "      <th>age_group</th>\n",
              "    </tr>\n",
              "  </thead>\n",
              "  <tbody>\n",
              "    <tr>\n",
              "      <th>16296</th>\n",
              "      <td>1</td>\n",
              "      <td>18388.949901</td>\n",
              "      <td>61</td>\n",
              "      <td>secondary education</td>\n",
              "      <td>1</td>\n",
              "      <td>married</td>\n",
              "      <td>0</td>\n",
              "      <td>F</td>\n",
              "      <td>employee</td>\n",
              "      <td>0</td>\n",
              "      <td>29788.629</td>\n",
              "      <td>real estate transactions</td>\n",
              "      <td>55 sampai 64 tahun</td>\n",
              "    </tr>\n",
              "  </tbody>\n",
              "</table>\n",
              "</div>"
            ],
            "text/plain": [
              "       children days_employed  dob_years            education  education_id  \\\n",
              "16296         1  18388.949901         61  secondary education             1   \n",
              "\n",
              "      family_status  family_status_id gender income_type  debt total_income  \\\n",
              "16296       married                 0      F    employee     0    29788.629   \n",
              "\n",
              "                        purpose           age_group  \n",
              "16296  real estate transactions  55 sampai 64 tahun  "
            ]
          },
          "execution_count": 93,
          "metadata": {},
          "output_type": "execute_result"
        }
      ],
      "source": [
        "credit_score.loc[credit_score['days_employed'] ==credit_score['days_employed'].max()]"
      ]
    },
    {
      "cell_type": "markdown",
      "metadata": {
        "id": "i-hedogdt0A6"
      },
      "source": [
        "Terlihat sedikit aneh, usia 61 tahun bekerja selama 50 tahun lebih, tapi masih masuk akal sih, hanya saja umur saat awal bekerja adalah 11 tahun agak kasihan, tapi siapa tau memiliki bisnis sampingan."
      ]
    },
    {
      "cell_type": "markdown",
      "metadata": {
        "id": "SME5uv3yt0A6"
      },
      "source": [
        "Terlihat tidak ada data yang null lagi sekarang."
      ]
    },
    {
      "cell_type": "markdown",
      "metadata": {
        "id": "dEE57F9mt0A6"
      },
      "source": [
        "## Pengkategorian Data\n",
        "\n",
        "Selanjutnya adalah pengkategorian data tentang tujuan yang dilakukan dalam peminjaman."
      ]
    },
    {
      "cell_type": "code",
      "execution_count": null,
      "metadata": {
        "scrolled": true,
        "id": "YFz7mMuXt0A6",
        "outputId": "d9230d8a-0f22-43b7-ef94-0328e1ef97c4"
      },
      "outputs": [
        {
          "data": {
            "text/plain": [
              "count                21453\n",
              "unique                  38\n",
              "top       wedding ceremony\n",
              "freq                   791\n",
              "Name: purpose, dtype: object"
            ]
          },
          "execution_count": 94,
          "metadata": {},
          "output_type": "execute_result"
        }
      ],
      "source": [
        "# Tampilkan nilai data yang Anda pilih untuk pengkategorian\n",
        "credit_score['purpose'].describe()"
      ]
    },
    {
      "cell_type": "markdown",
      "metadata": {
        "id": "xO9w0FVlt0A6"
      },
      "source": [
        "[Let's check unique values]"
      ]
    },
    {
      "cell_type": "code",
      "execution_count": null,
      "metadata": {
        "id": "5_hGnOIXt0A6",
        "outputId": "0be51a09-5e7d-438d-885d-92947ecd193a"
      },
      "outputs": [
        {
          "data": {
            "text/plain": [
              "wedding ceremony                            791\n",
              "having a wedding                            768\n",
              "to have a wedding                           765\n",
              "real estate transactions                    675\n",
              "buy commercial real estate                  661\n",
              "housing transactions                        652\n",
              "buying property for renting out             651\n",
              "transactions with commercial real estate    650\n",
              "purchase of the house                       646\n",
              "housing                                     646\n",
              "purchase of the house for my family         638\n",
              "construction of own property                635\n",
              "property                                    633\n",
              "transactions with my real estate            627\n",
              "building a real estate                      624\n",
              "buy real estate                             620\n",
              "purchase of my own house                    620\n",
              "building a property                         619\n",
              "housing renovation                          607\n",
              "buy residential real estate                 606\n",
              "buying my own car                           505\n",
              "going to university                         496\n",
              "car                                         494\n",
              "second-hand car purchase                    486\n",
              "cars                                        478\n",
              "buying a second-hand car                    478\n",
              "to own a car                                478\n",
              "to buy a car                                471\n",
              "car purchase                                461\n",
              "supplementary education                     460\n",
              "purchase of a car                           455\n",
              "university education                        452\n",
              "education                                   447\n",
              "to get a supplementary education            446\n",
              "getting an education                        442\n",
              "profile education                           436\n",
              "getting higher education                    426\n",
              "to become educated                          408\n",
              "Name: purpose, dtype: int64"
            ]
          },
          "execution_count": 95,
          "metadata": {},
          "output_type": "execute_result"
        }
      ],
      "source": [
        "# Periksa nilai unik\n",
        "credit_score['purpose'].value_counts()"
      ]
    },
    {
      "cell_type": "markdown",
      "metadata": {
        "id": "GgDp_W5Ht0A6"
      },
      "source": [
        "\n",
        "**Dilihat dari tujuan meminjam, terlihat secara umum hanya ada 4 kategori, yaitu membeli mobil, membeli rumah, menikah, dan biaya edukasi**\n",
        "\n"
      ]
    },
    {
      "cell_type": "code",
      "execution_count": null,
      "metadata": {
        "id": "iM171GxGt0A7"
      },
      "outputs": [],
      "source": [
        "# Mari kita menulis fungsi untuk mengkategorikan data berdasarkan topik umum\n",
        "#purpose_category = ['kendaraan','rumah','pernikahan','edukasi']\n",
        "\n",
        "def kategori(tuju):\n",
        "    if 'car' in tuju:\n",
        "        return 'kendaraan'\n",
        "    elif 'wedd' in tuju:\n",
        "        return 'menikah'\n",
        "    elif ('edu') in tuju:\n",
        "        return 'edukasi'\n",
        "    elif ('univ') in tuju:\n",
        "        return 'edukasi'\n",
        "    elif ('hous') in tuju:\n",
        "        return 'rumah'\n",
        "    elif ('estat') in tuju:\n",
        "        return 'rumah'\n",
        "    elif ('property') in tuju:\n",
        "        return 'rumah'"
      ]
    },
    {
      "cell_type": "code",
      "execution_count": null,
      "metadata": {
        "scrolled": true,
        "id": "FLnXplC9t0A7",
        "outputId": "915f57f3-02e1-49dc-ba2f-2ef194389138"
      },
      "outputs": [
        {
          "data": {
            "text/plain": [
              "21453"
            ]
          },
          "execution_count": 97,
          "metadata": {},
          "output_type": "execute_result"
        }
      ],
      "source": [
        "# Buat kolom dengan kategori dan hitung nilainya\n",
        "credit_score['purpose_category'] = credit_score['purpose'].agg(kategori)\n",
        "credit_score['purpose_category'].value_counts().sum()"
      ]
    },
    {
      "cell_type": "code",
      "execution_count": null,
      "metadata": {
        "id": "yK2DVmxht0A7",
        "outputId": "2f917f73-c762-40a8-ff66-7d05b52e723e"
      },
      "outputs": [
        {
          "data": {
            "text/plain": [
              "rumah        10810\n",
              "kendaraan     4306\n",
              "edukasi       4013\n",
              "menikah       2324\n",
              "Name: purpose_category, dtype: int64"
            ]
          },
          "execution_count": 98,
          "metadata": {},
          "output_type": "execute_result"
        }
      ],
      "source": [
        "credit_score['purpose_category'].value_counts()"
      ]
    },
    {
      "cell_type": "code",
      "execution_count": null,
      "metadata": {
        "scrolled": true,
        "id": "Chum0cZ_t0A8",
        "outputId": "4a843e15-3f43-45ff-d08e-a25f66d6b239"
      },
      "outputs": [
        {
          "data": {
            "text/html": [
              "<div>\n",
              "<style scoped>\n",
              "    .dataframe tbody tr th:only-of-type {\n",
              "        vertical-align: middle;\n",
              "    }\n",
              "\n",
              "    .dataframe tbody tr th {\n",
              "        vertical-align: top;\n",
              "    }\n",
              "\n",
              "    .dataframe thead th {\n",
              "        text-align: right;\n",
              "    }\n",
              "</style>\n",
              "<table border=\"1\" class=\"dataframe\">\n",
              "  <thead>\n",
              "    <tr style=\"text-align: right;\">\n",
              "      <th></th>\n",
              "      <th></th>\n",
              "      <th>debt</th>\n",
              "    </tr>\n",
              "    <tr>\n",
              "      <th>purpose_category</th>\n",
              "      <th>age_group</th>\n",
              "      <th></th>\n",
              "    </tr>\n",
              "  </thead>\n",
              "  <tbody>\n",
              "    <tr>\n",
              "      <th rowspan=\"6\" valign=\"top\">edukasi</th>\n",
              "      <th>15 sampai 24 tahun</th>\n",
              "      <td>15</td>\n",
              "    </tr>\n",
              "    <tr>\n",
              "      <th>25 sampai 34 tahun</th>\n",
              "      <td>130</td>\n",
              "    </tr>\n",
              "    <tr>\n",
              "      <th>35 sampai 44 tahun</th>\n",
              "      <td>91</td>\n",
              "    </tr>\n",
              "    <tr>\n",
              "      <th>45 sampai 54 tahun</th>\n",
              "      <td>75</td>\n",
              "    </tr>\n",
              "    <tr>\n",
              "      <th>55 sampai 64 tahun</th>\n",
              "      <td>50</td>\n",
              "    </tr>\n",
              "    <tr>\n",
              "      <th>diatas 64 tahun</th>\n",
              "      <td>9</td>\n",
              "    </tr>\n",
              "    <tr>\n",
              "      <th rowspan=\"6\" valign=\"top\">kendaraan</th>\n",
              "      <th>15 sampai 24 tahun</th>\n",
              "      <td>20</td>\n",
              "    </tr>\n",
              "    <tr>\n",
              "      <th>25 sampai 34 tahun</th>\n",
              "      <td>130</td>\n",
              "    </tr>\n",
              "    <tr>\n",
              "      <th>35 sampai 44 tahun</th>\n",
              "      <td>123</td>\n",
              "    </tr>\n",
              "    <tr>\n",
              "      <th>45 sampai 54 tahun</th>\n",
              "      <td>69</td>\n",
              "    </tr>\n",
              "    <tr>\n",
              "      <th>55 sampai 64 tahun</th>\n",
              "      <td>51</td>\n",
              "    </tr>\n",
              "    <tr>\n",
              "      <th>diatas 64 tahun</th>\n",
              "      <td>10</td>\n",
              "    </tr>\n",
              "    <tr>\n",
              "      <th rowspan=\"6\" valign=\"top\">menikah</th>\n",
              "      <th>15 sampai 24 tahun</th>\n",
              "      <td>13</td>\n",
              "    </tr>\n",
              "    <tr>\n",
              "      <th>25 sampai 34 tahun</th>\n",
              "      <td>50</td>\n",
              "    </tr>\n",
              "    <tr>\n",
              "      <th>35 sampai 44 tahun</th>\n",
              "      <td>54</td>\n",
              "    </tr>\n",
              "    <tr>\n",
              "      <th>45 sampai 54 tahun</th>\n",
              "      <td>38</td>\n",
              "    </tr>\n",
              "    <tr>\n",
              "      <th>55 sampai 64 tahun</th>\n",
              "      <td>25</td>\n",
              "    </tr>\n",
              "    <tr>\n",
              "      <th>diatas 64 tahun</th>\n",
              "      <td>6</td>\n",
              "    </tr>\n",
              "    <tr>\n",
              "      <th rowspan=\"6\" valign=\"top\">rumah</th>\n",
              "      <th>15 sampai 24 tahun</th>\n",
              "      <td>40</td>\n",
              "    </tr>\n",
              "    <tr>\n",
              "      <th>25 sampai 34 tahun</th>\n",
              "      <td>253</td>\n",
              "    </tr>\n",
              "    <tr>\n",
              "      <th>35 sampai 44 tahun</th>\n",
              "      <td>214</td>\n",
              "    </tr>\n",
              "    <tr>\n",
              "      <th>45 sampai 54 tahun</th>\n",
              "      <td>163</td>\n",
              "    </tr>\n",
              "    <tr>\n",
              "      <th>55 sampai 64 tahun</th>\n",
              "      <td>88</td>\n",
              "    </tr>\n",
              "    <tr>\n",
              "      <th>diatas 64 tahun</th>\n",
              "      <td>24</td>\n",
              "    </tr>\n",
              "  </tbody>\n",
              "</table>\n",
              "</div>"
            ],
            "text/plain": [
              "                                     debt\n",
              "purpose_category age_group               \n",
              "edukasi          15 sampai 24 tahun    15\n",
              "                 25 sampai 34 tahun   130\n",
              "                 35 sampai 44 tahun    91\n",
              "                 45 sampai 54 tahun    75\n",
              "                 55 sampai 64 tahun    50\n",
              "                 diatas 64 tahun        9\n",
              "kendaraan        15 sampai 24 tahun    20\n",
              "                 25 sampai 34 tahun   130\n",
              "                 35 sampai 44 tahun   123\n",
              "                 45 sampai 54 tahun    69\n",
              "                 55 sampai 64 tahun    51\n",
              "                 diatas 64 tahun       10\n",
              "menikah          15 sampai 24 tahun    13\n",
              "                 25 sampai 34 tahun    50\n",
              "                 35 sampai 44 tahun    54\n",
              "                 45 sampai 54 tahun    38\n",
              "                 55 sampai 64 tahun    25\n",
              "                 diatas 64 tahun        6\n",
              "rumah            15 sampai 24 tahun    40\n",
              "                 25 sampai 34 tahun   253\n",
              "                 35 sampai 44 tahun   214\n",
              "                 45 sampai 54 tahun   163\n",
              "                 55 sampai 64 tahun    88\n",
              "                 diatas 64 tahun       24"
            ]
          },
          "execution_count": 99,
          "metadata": {},
          "output_type": "execute_result"
        }
      ],
      "source": [
        "# Lihat melalui semua data numerik di kolom yang Anda pilih untuk pengkategorian\n",
        "pd.pivot_table(credit_score, index = ['purpose_category','age_group'],values = 'debt', aggfunc = sum) #"
      ]
    },
    {
      "cell_type": "code",
      "execution_count": null,
      "metadata": {
        "scrolled": true,
        "id": "Vhuh4kJDt0A9",
        "outputId": "d4059ba7-9000-40c1-a58f-c74b83f961bc"
      },
      "outputs": [
        {
          "data": {
            "text/plain": [
              "35 sampai 44 tahun    5841\n",
              "25 sampai 34 tahun    5092\n",
              "45 sampai 54 tahun    4867\n",
              "55 sampai 64 tahun    3884\n",
              "diatas 64 tahun        895\n",
              "15 sampai 24 tahun     874\n",
              "Name: age_group, dtype: int64"
            ]
          },
          "execution_count": 100,
          "metadata": {},
          "output_type": "execute_result"
        }
      ],
      "source": [
        "credit_score['age_group'].value_counts()"
      ]
    },
    {
      "cell_type": "markdown",
      "metadata": {
        "id": "xeCqPs7kt0A9"
      },
      "source": [
        "Terlihat bahwa yang paling banyak meminjam adalah golongan yang berusia 35 sampai 44 tahun\n",
        "Untuk kategori peminjaman, kebanyakan yaitu untuk rumah. Rumah memang adalah kebutuhan primer, jadi alasan masuk akal ketika yang paling banyak meminjam adalah untuk membeli/menyewa bangunan/rumah\n",
        "\n"
      ]
    },
    {
      "cell_type": "markdown",
      "metadata": {
        "id": "G3oPsDbot0A9"
      },
      "source": [
        "\n",
        "Rentang jumlah income akan digunakan untuk pengelompokan selanjutnya, dilihat distribusi kebutuhan peminjam untuk apa berdasar incomenya, misalnya untuk yang incomenya lebih rendah apakah akan lebih memilih meminjam untuk edukasi atau rumah."
      ]
    },
    {
      "cell_type": "code",
      "execution_count": null,
      "metadata": {
        "id": "IVVDJ6Lst0A9"
      },
      "outputs": [],
      "source": [
        "# Membuat fungsi untuk pengkategorian menjadi kelompok numerik yang berbeda berdasarkan rentang\n",
        "q = credit_score['total_income'].mean()\n",
        "def gaji(income):\n",
        "    if income < q:\n",
        "        return 'dibawah rata rata'\n",
        "    elif income >= q:\n",
        "        return 'diatas rata rata'"
      ]
    },
    {
      "cell_type": "code",
      "execution_count": null,
      "metadata": {
        "id": "tacFBh6Mt0A9"
      },
      "outputs": [],
      "source": [
        "# Membuat kolom dengan kategori\n",
        "credit_score['kategori_income'] = credit_score['total_income'].agg(gaji)"
      ]
    },
    {
      "cell_type": "code",
      "execution_count": null,
      "metadata": {
        "scrolled": false,
        "id": "4x-CypWKt0A9",
        "outputId": "d2f78782-c2ee-4f59-bc4e-f2165c44bbfc"
      },
      "outputs": [
        {
          "data": {
            "text/plain": [
              "dibawah rata rata    13420\n",
              "diatas rata rata      8033\n",
              "Name: kategori_income, dtype: int64"
            ]
          },
          "execution_count": 103,
          "metadata": {},
          "output_type": "execute_result"
        }
      ],
      "source": [
        "# Menghitung setiap nilai kategori untuk melihat pendistribusian\n",
        "credit_score['kategori_income'].value_counts()"
      ]
    },
    {
      "cell_type": "markdown",
      "metadata": {
        "id": "KWofcb_Gt0A-"
      },
      "source": [
        "Banyak sekali peminjam yang memiliki gaji dibawah rata rata.\n"
      ]
    },
    {
      "cell_type": "markdown",
      "metadata": {
        "id": "D5gvj525t0A-"
      },
      "source": [
        "## Memeriksa Hipotesis\n"
      ]
    },
    {
      "cell_type": "markdown",
      "metadata": {
        "id": "wQcM-NHBt0A-"
      },
      "source": [
        "**Apakah terdapat korelasi antara memiliki anak dengan membayar kembali tepat waktu?**"
      ]
    },
    {
      "cell_type": "code",
      "execution_count": null,
      "metadata": {
        "scrolled": true,
        "id": "qmJjHjD9t0A-",
        "outputId": "4663c444-1922-4844-9a1b-edb9216d3f33"
      },
      "outputs": [
        {
          "name": "stdout",
          "output_type": "stream",
          "text": [
            "<class 'pandas.core.frame.DataFrame'>\n",
            "RangeIndex: 21453 entries, 0 to 21452\n",
            "Data columns (total 15 columns):\n",
            " #   Column            Non-Null Count  Dtype \n",
            "---  ------            --------------  ----- \n",
            " 0   children          21453 non-null  int64 \n",
            " 1   days_employed     21453 non-null  object\n",
            " 2   dob_years         21453 non-null  int64 \n",
            " 3   education         21453 non-null  object\n",
            " 4   education_id      21453 non-null  int64 \n",
            " 5   family_status     21453 non-null  object\n",
            " 6   family_status_id  21453 non-null  int64 \n",
            " 7   gender            21453 non-null  object\n",
            " 8   income_type       21453 non-null  object\n",
            " 9   debt              21453 non-null  int64 \n",
            " 10  total_income      21453 non-null  object\n",
            " 11  purpose           21453 non-null  object\n",
            " 12  age_group         21453 non-null  object\n",
            " 13  purpose_category  21453 non-null  object\n",
            " 14  kategori_income   21453 non-null  object\n",
            "dtypes: int64(5), object(10)\n",
            "memory usage: 2.5+ MB\n"
          ]
        }
      ],
      "source": [
        "credit_score.info()"
      ]
    },
    {
      "cell_type": "code",
      "execution_count": null,
      "metadata": {
        "scrolled": false,
        "id": "FtsLK-cCt0A-",
        "outputId": "bfacb625-748b-4c8d-cfcb-3aa3c8e4de87"
      },
      "outputs": [
        {
          "data": {
            "text/html": [
              "<div>\n",
              "<style scoped>\n",
              "    .dataframe tbody tr th:only-of-type {\n",
              "        vertical-align: middle;\n",
              "    }\n",
              "\n",
              "    .dataframe tbody tr th {\n",
              "        vertical-align: top;\n",
              "    }\n",
              "\n",
              "    .dataframe thead th {\n",
              "        text-align: right;\n",
              "    }\n",
              "</style>\n",
              "<table border=\"1\" class=\"dataframe\">\n",
              "  <thead>\n",
              "    <tr style=\"text-align: right;\">\n",
              "      <th>debt</th>\n",
              "      <th>0</th>\n",
              "      <th>1</th>\n",
              "    </tr>\n",
              "    <tr>\n",
              "      <th>children</th>\n",
              "      <th></th>\n",
              "      <th></th>\n",
              "    </tr>\n",
              "  </thead>\n",
              "  <tbody>\n",
              "    <tr>\n",
              "      <th>0</th>\n",
              "      <td>13027.0</td>\n",
              "      <td>1063.0</td>\n",
              "    </tr>\n",
              "    <tr>\n",
              "      <th>1</th>\n",
              "      <td>4410.0</td>\n",
              "      <td>445.0</td>\n",
              "    </tr>\n",
              "    <tr>\n",
              "      <th>2</th>\n",
              "      <td>1926.0</td>\n",
              "      <td>202.0</td>\n",
              "    </tr>\n",
              "    <tr>\n",
              "      <th>3</th>\n",
              "      <td>303.0</td>\n",
              "      <td>27.0</td>\n",
              "    </tr>\n",
              "    <tr>\n",
              "      <th>4</th>\n",
              "      <td>37.0</td>\n",
              "      <td>4.0</td>\n",
              "    </tr>\n",
              "    <tr>\n",
              "      <th>5</th>\n",
              "      <td>9.0</td>\n",
              "      <td>NaN</td>\n",
              "    </tr>\n",
              "  </tbody>\n",
              "</table>\n",
              "</div>"
            ],
            "text/plain": [
              "debt            0       1\n",
              "children                 \n",
              "0         13027.0  1063.0\n",
              "1          4410.0   445.0\n",
              "2          1926.0   202.0\n",
              "3           303.0    27.0\n",
              "4            37.0     4.0\n",
              "5             9.0     NaN"
            ]
          },
          "execution_count": 105,
          "metadata": {},
          "output_type": "execute_result"
        }
      ],
      "source": [
        "# Periksa data anak dan membayar kembali dengan tepat waktu\n",
        "child_debt = pd.pivot_table(credit_score, index ='children',columns = 'debt', values = 'kategori_income', aggfunc=('count'))\n",
        "# Menghitung tarif otomatis berdasarkan jumlah anak\n",
        "child_debt"
      ]
    },
    {
      "cell_type": "code",
      "execution_count": null,
      "metadata": {
        "id": "UxwqTLUjt0A-",
        "outputId": "d087107b-ae91-47e9-f189-a1c31a0d4576"
      },
      "outputs": [
        {
          "data": {
            "text/html": [
              "<div>\n",
              "<style scoped>\n",
              "    .dataframe tbody tr th:only-of-type {\n",
              "        vertical-align: middle;\n",
              "    }\n",
              "\n",
              "    .dataframe tbody tr th {\n",
              "        vertical-align: top;\n",
              "    }\n",
              "\n",
              "    .dataframe thead th {\n",
              "        text-align: right;\n",
              "    }\n",
              "</style>\n",
              "<table border=\"1\" class=\"dataframe\">\n",
              "  <thead>\n",
              "    <tr style=\"text-align: right;\">\n",
              "      <th>debt</th>\n",
              "      <th>0</th>\n",
              "      <th>1</th>\n",
              "      <th>percentage %</th>\n",
              "    </tr>\n",
              "    <tr>\n",
              "      <th>children</th>\n",
              "      <th></th>\n",
              "      <th></th>\n",
              "      <th></th>\n",
              "    </tr>\n",
              "  </thead>\n",
              "  <tbody>\n",
              "    <tr>\n",
              "      <th>0</th>\n",
              "      <td>13027.0</td>\n",
              "      <td>1063.0</td>\n",
              "      <td>7.544358</td>\n",
              "    </tr>\n",
              "    <tr>\n",
              "      <th>1</th>\n",
              "      <td>4410.0</td>\n",
              "      <td>445.0</td>\n",
              "      <td>9.165808</td>\n",
              "    </tr>\n",
              "    <tr>\n",
              "      <th>2</th>\n",
              "      <td>1926.0</td>\n",
              "      <td>202.0</td>\n",
              "      <td>9.492481</td>\n",
              "    </tr>\n",
              "    <tr>\n",
              "      <th>3</th>\n",
              "      <td>303.0</td>\n",
              "      <td>27.0</td>\n",
              "      <td>8.181818</td>\n",
              "    </tr>\n",
              "    <tr>\n",
              "      <th>4</th>\n",
              "      <td>37.0</td>\n",
              "      <td>4.0</td>\n",
              "      <td>9.756098</td>\n",
              "    </tr>\n",
              "    <tr>\n",
              "      <th>5</th>\n",
              "      <td>9.0</td>\n",
              "      <td>0.0</td>\n",
              "      <td>0.000000</td>\n",
              "    </tr>\n",
              "  </tbody>\n",
              "</table>\n",
              "</div>"
            ],
            "text/plain": [
              "debt            0       1  percentage %\n",
              "children                               \n",
              "0         13027.0  1063.0      7.544358\n",
              "1          4410.0   445.0      9.165808\n",
              "2          1926.0   202.0      9.492481\n",
              "3           303.0    27.0      8.181818\n",
              "4            37.0     4.0      9.756098\n",
              "5             9.0     0.0      0.000000"
            ]
          },
          "execution_count": 106,
          "metadata": {},
          "output_type": "execute_result"
        }
      ],
      "source": [
        "child_debt.fillna(0,inplace=True)\n",
        "##Fungsi Menghitung persentase gagal bayar\n",
        "child_debt['percentage %'] = child_debt.apply(lambda x: (x[1]/(x[0]+x[1]))*100, axis=1)\n",
        "child_debt"
      ]
    },
    {
      "cell_type": "markdown",
      "metadata": {
        "id": "bFFZ5ueGt0A_"
      },
      "source": [
        "Kesimpulan\n",
        "\n",
        "Dari pengaruh jumlah anak dengan hutang, sepertinya tidak pengaruh, dari data yang diperoleh, semakin sedikit anak malah semakin banyak yang tidak membayar."
      ]
    },
    {
      "cell_type": "markdown",
      "metadata": {
        "id": "nW4pTy1St0A_"
      },
      "source": [
        "**Apakah terdapat korelasi antara status keluarga dengan membayar kembali tepat waktu?**"
      ]
    },
    {
      "cell_type": "code",
      "execution_count": null,
      "metadata": {
        "scrolled": true,
        "id": "i7ccb1aUt0A_",
        "outputId": "e82453be-4c1a-4ac0-82ab-3193151a8fef"
      },
      "outputs": [
        {
          "data": {
            "text/html": [
              "<div>\n",
              "<style scoped>\n",
              "    .dataframe tbody tr th:only-of-type {\n",
              "        vertical-align: middle;\n",
              "    }\n",
              "\n",
              "    .dataframe tbody tr th {\n",
              "        vertical-align: top;\n",
              "    }\n",
              "\n",
              "    .dataframe thead th {\n",
              "        text-align: right;\n",
              "    }\n",
              "</style>\n",
              "<table border=\"1\" class=\"dataframe\">\n",
              "  <thead>\n",
              "    <tr style=\"text-align: right;\">\n",
              "      <th>debt</th>\n",
              "      <th>0</th>\n",
              "      <th>1</th>\n",
              "      <th>percentage %</th>\n",
              "    </tr>\n",
              "    <tr>\n",
              "      <th>family_status</th>\n",
              "      <th></th>\n",
              "      <th></th>\n",
              "      <th></th>\n",
              "    </tr>\n",
              "  </thead>\n",
              "  <tbody>\n",
              "    <tr>\n",
              "      <th>civil partnership</th>\n",
              "      <td>3762</td>\n",
              "      <td>388</td>\n",
              "      <td>9.349398</td>\n",
              "    </tr>\n",
              "    <tr>\n",
              "      <th>divorced</th>\n",
              "      <td>1110</td>\n",
              "      <td>85</td>\n",
              "      <td>7.112971</td>\n",
              "    </tr>\n",
              "    <tr>\n",
              "      <th>married</th>\n",
              "      <td>11408</td>\n",
              "      <td>931</td>\n",
              "      <td>7.545182</td>\n",
              "    </tr>\n",
              "    <tr>\n",
              "      <th>unmarried</th>\n",
              "      <td>2536</td>\n",
              "      <td>274</td>\n",
              "      <td>9.750890</td>\n",
              "    </tr>\n",
              "    <tr>\n",
              "      <th>widow / widower</th>\n",
              "      <td>896</td>\n",
              "      <td>63</td>\n",
              "      <td>6.569343</td>\n",
              "    </tr>\n",
              "  </tbody>\n",
              "</table>\n",
              "</div>"
            ],
            "text/plain": [
              "debt                   0    1  percentage %\n",
              "family_status                              \n",
              "civil partnership   3762  388      9.349398\n",
              "divorced            1110   85      7.112971\n",
              "married            11408  931      7.545182\n",
              "unmarried           2536  274      9.750890\n",
              "widow / widower      896   63      6.569343"
            ]
          },
          "execution_count": 107,
          "metadata": {},
          "output_type": "execute_result"
        }
      ],
      "source": [
        "# Periksa data status keluarga dan membayar kembali dengan tepat waktu\n",
        "family_debt = pd.pivot_table(credit_score, index ='family_status',columns = 'debt', values = 'kategori_income', aggfunc=('count'))\n",
        "family_debt['percentage %'] = family_debt.apply(lambda x: (x[1]/(x[0]+x[1]))*100, axis=1)\n",
        "family_debt\n",
        "\n",
        "# Menghitung tarif otomatis berdasarkan status keluarga\n",
        "\n"
      ]
    },
    {
      "cell_type": "markdown",
      "metadata": {
        "id": "9arvJqkTt0A_"
      },
      "source": [
        "**Kesimpulan**\n",
        "\n",
        "Yang sudah berpasangan malah lebih banyak yang tidak membayar tepat waktu, ini bisa saja terjadi karena manejemen uang yang buruk karena ketika bersama pasangan maka pasti ada biaya yang diperuntukkan untuk kebahagiaan pasangan sehingga lupa bahwa membayar pinjaman adalah tanggung jawab yang besar."
      ]
    },
    {
      "cell_type": "markdown",
      "metadata": {
        "id": "YO8A33WDt0BA"
      },
      "source": [
        "**Apakah terdapat korelasi antara tingkat pendapatan dengan membayar kembali tepat waktu?**"
      ]
    },
    {
      "cell_type": "code",
      "execution_count": null,
      "metadata": {
        "scrolled": true,
        "id": "F_94zg2zt0BA",
        "outputId": "9fc7a4ef-7173-42df-b1fe-704a4c4221b6"
      },
      "outputs": [
        {
          "data": {
            "text/html": [
              "<div>\n",
              "<style scoped>\n",
              "    .dataframe tbody tr th:only-of-type {\n",
              "        vertical-align: middle;\n",
              "    }\n",
              "\n",
              "    .dataframe tbody tr th {\n",
              "        vertical-align: top;\n",
              "    }\n",
              "\n",
              "    .dataframe thead th {\n",
              "        text-align: right;\n",
              "    }\n",
              "</style>\n",
              "<table border=\"1\" class=\"dataframe\">\n",
              "  <thead>\n",
              "    <tr style=\"text-align: right;\">\n",
              "      <th>debt</th>\n",
              "      <th>0</th>\n",
              "      <th>1</th>\n",
              "      <th>percentage %</th>\n",
              "    </tr>\n",
              "    <tr>\n",
              "      <th>kategori_income</th>\n",
              "      <th></th>\n",
              "      <th></th>\n",
              "      <th></th>\n",
              "    </tr>\n",
              "  </thead>\n",
              "  <tbody>\n",
              "    <tr>\n",
              "      <th>diatas rata rata</th>\n",
              "      <td>7428</td>\n",
              "      <td>605</td>\n",
              "      <td>7.531433</td>\n",
              "    </tr>\n",
              "    <tr>\n",
              "      <th>dibawah rata rata</th>\n",
              "      <td>12284</td>\n",
              "      <td>1136</td>\n",
              "      <td>8.464978</td>\n",
              "    </tr>\n",
              "  </tbody>\n",
              "</table>\n",
              "</div>"
            ],
            "text/plain": [
              "debt                   0     1  percentage %\n",
              "kategori_income                             \n",
              "diatas rata rata    7428   605      7.531433\n",
              "dibawah rata rata  12284  1136      8.464978"
            ]
          },
          "execution_count": 108,
          "metadata": {},
          "output_type": "execute_result"
        }
      ],
      "source": [
        "# Periksa data tingkat pendapatan dan membayar kembali dengan tepat waktu\n",
        "income_debt = pd.pivot_table(credit_score, index ='kategori_income',columns = 'debt', values = 'days_employed', aggfunc=('count'))\n",
        "income_debt['percentage %'] = income_debt.apply(lambda x: (x[1]/(x[0]+x[1]))*100, axis=1)\n",
        "income_debt\n",
        "\n",
        "\n",
        "# Menghitung tarif otomatis berdasarkan tingkat pendapatan\n",
        "\n"
      ]
    },
    {
      "cell_type": "markdown",
      "metadata": {
        "id": "kUhhKOL7t0BA"
      },
      "source": [
        "**Kesimpulan**\n",
        "\n",
        "Dilihat dari kategori pendapatan, yang memiliki pendapatan diatas rata rata lebih sedikit yang tidak membayar tepat waktu dibanding yang memilki pendapatan dibawah rata rata, ini mungkin terjadi karena yang memiliki pendapatan dibawah rata rata bisa saja kurang bisa mengatur keuangan dan menjadikan kebutuhan primer sebagai alasan untuk tidak membayar pinjaman."
      ]
    },
    {
      "cell_type": "markdown",
      "metadata": {
        "id": "0_ZxAWs0t0BA"
      },
      "source": [
        "**Bagaimana tujuan kredit memengaruhi tarif otomatis?**"
      ]
    },
    {
      "cell_type": "code",
      "execution_count": null,
      "metadata": {
        "scrolled": true,
        "id": "-ezO4i9qt0BA",
        "outputId": "a6cdcaa7-e9cb-4e3a-eabb-b2d4fba718ef"
      },
      "outputs": [
        {
          "data": {
            "text/html": [
              "<div>\n",
              "<style scoped>\n",
              "    .dataframe tbody tr th:only-of-type {\n",
              "        vertical-align: middle;\n",
              "    }\n",
              "\n",
              "    .dataframe tbody tr th {\n",
              "        vertical-align: top;\n",
              "    }\n",
              "\n",
              "    .dataframe thead th {\n",
              "        text-align: right;\n",
              "    }\n",
              "</style>\n",
              "<table border=\"1\" class=\"dataframe\">\n",
              "  <thead>\n",
              "    <tr style=\"text-align: right;\">\n",
              "      <th>debt</th>\n",
              "      <th>0</th>\n",
              "      <th>1</th>\n",
              "      <th>percentage %</th>\n",
              "    </tr>\n",
              "    <tr>\n",
              "      <th>purpose_category</th>\n",
              "      <th></th>\n",
              "      <th></th>\n",
              "      <th></th>\n",
              "    </tr>\n",
              "  </thead>\n",
              "  <tbody>\n",
              "    <tr>\n",
              "      <th>edukasi</th>\n",
              "      <td>3643</td>\n",
              "      <td>370</td>\n",
              "      <td>9.220035</td>\n",
              "    </tr>\n",
              "    <tr>\n",
              "      <th>kendaraan</th>\n",
              "      <td>3903</td>\n",
              "      <td>403</td>\n",
              "      <td>9.359034</td>\n",
              "    </tr>\n",
              "    <tr>\n",
              "      <th>menikah</th>\n",
              "      <td>2138</td>\n",
              "      <td>186</td>\n",
              "      <td>8.003442</td>\n",
              "    </tr>\n",
              "    <tr>\n",
              "      <th>rumah</th>\n",
              "      <td>10028</td>\n",
              "      <td>782</td>\n",
              "      <td>7.234043</td>\n",
              "    </tr>\n",
              "  </tbody>\n",
              "</table>\n",
              "</div>"
            ],
            "text/plain": [
              "debt                  0    1  percentage %\n",
              "purpose_category                          \n",
              "edukasi            3643  370      9.220035\n",
              "kendaraan          3903  403      9.359034\n",
              "menikah            2138  186      8.003442\n",
              "rumah             10028  782      7.234043"
            ]
          },
          "execution_count": 109,
          "metadata": {},
          "output_type": "execute_result"
        }
      ],
      "source": [
        "# Periksa persentase tarif otomatis untuk setiap tujuan kredit dan lakukan penganalisisan\n",
        "purpose_debt = pd.pivot_table(credit_score, index ='purpose_category',columns = 'debt', values = 'days_employed', aggfunc=('count'))\n",
        "purpose_debt['percentage %'] = purpose_debt.apply(lambda x: (x[1]/(x[0]+x[1]))*100, axis=1)\n",
        "purpose_debt\n"
      ]
    },
    {
      "cell_type": "markdown",
      "metadata": {
        "id": "OPGEW_zot0BA"
      },
      "source": [
        "**Kesimpulan**\n",
        "\n",
        "Yang meminjam kebanyakan untuk membeli/menyewa rumah, lalu dilanjut kendaraan dan edukasi, disini kebanyakan mereka yang tidak membayar tepat waktu adalah yang meminjam dengan tujuan edukasi dan kendaraan, yang meminjam kebanyakan malah rumah tapi mereka yang meminjam untuk kebutuhan rumah kebanyakan membayar tepat waktu, sepertinya memang yang meminjam untuk rumah kebanyakan sudah mapan dan butuh bantuan dana sehingga meminjam, sedangkan edukasi dan kendaraan bisa dibilang orang orang yang meminjam \"kepepet\" meskipun hanya beda 2% dengan yang meminjam untuk rumah."
      ]
    },
    {
      "cell_type": "markdown",
      "metadata": {
        "id": "mn-aCtBQt0BB"
      },
      "source": [
        "# Kesimpulan Umum \n",
        "\n",
        "1. Untuk mempersiapkan data pertama harus membenarkan dulu nilai yang bermasalah seperti nilai yang hilang, duplikat,dll, untuk mempermudah, bisa juga dibuatkan kategori datanya sehingga lebih mudah dalam menganalisa lebih lanjut.\n",
        "\n",
        "2. Untuk mengisi nilai yang hilang ada beberapa cara namun untuk kali ini hampir semua menggunakan median, hal ini dilakukan karena persebaran datanya uang kurang simetris sehingga jika menggunakan mean \"bisa saja\" melenceng lebih jauh.\n",
        "\n",
        "3. Untuk analisa lebih lanjut dibutuhkan pemikiran yang logis juga untuk menganalisa data, yang mana pemikiran ini bisa dilatih seiring dengan berjalannya waktu dan mengolah data nanti.\n",
        "\n",
        "\n",
        "4. Hal yang ingin ditanyakan sepertinya bingung untuk menentukan kategori nilai yang hilang, misal yang days_employed apakah harus menggunakan pekerjaan atau dari umur atau yanglain  tapi yang saya gunakan adalah sesuai dengan feeling jadi masih belum tahu kepastiannya.\n",
        "\n",
        "5. Mungkin untuk solusi sementara yang bisa saya pikirkan adalah memperlama durasi pembayaran untuk yang memiliki tujuan membeli/menyewa rumah, dan juga yang lainnya yang sekiranya bisa dicicil, memang jahat jika dipikir pikir bila tujuan memperlama durasi berujung pada bunga yang lebih besar. Tapi begitulah peminjaman uang. Ya mungkin bisa diadakan pengurangan khusus untuk yang berkeluarga juga, memang pengurangan khusus akan berakibat ke turunnya pendapatan dari pengembalian pinjaman, tapi ya... membayar tepat waktu dengan pengurangan khusus lebih untung daripada membayar telat, atau bahkan tidak membayar sama sekali, dan untuk yang memiliki anak tidak ada potongan khusus! Karena tidak berpengaruh apapun."
      ]
    },
    {
      "cell_type": "code",
      "source": [],
      "metadata": {
        "id": "xngbzaqAzQYK"
      },
      "execution_count": null,
      "outputs": []
    }
  ],
  "metadata": {
    "ExecuteTimeLog": [
      {
        "duration": 2741,
        "start_time": "2021-10-21T01:08:49.480Z"
      },
      {
        "duration": 52,
        "start_time": "2021-10-21T01:08:53.315Z"
      },
      {
        "duration": 49,
        "start_time": "2021-10-21T01:08:57.432Z"
      },
      {
        "duration": 70,
        "start_time": "2021-10-21T01:09:07.706Z"
      },
      {
        "duration": 449,
        "start_time": "2022-08-30T11:24:30.589Z"
      },
      {
        "duration": 232,
        "start_time": "2022-08-30T11:24:42.353Z"
      },
      {
        "duration": 65,
        "start_time": "2022-08-30T11:25:03.704Z"
      },
      {
        "duration": 14,
        "start_time": "2022-08-30T11:25:51.360Z"
      },
      {
        "duration": 39,
        "start_time": "2022-08-30T11:26:19.396Z"
      },
      {
        "duration": 15,
        "start_time": "2022-08-30T11:27:00.771Z"
      },
      {
        "duration": 8,
        "start_time": "2022-08-30T11:32:49.879Z"
      },
      {
        "duration": 6,
        "start_time": "2022-08-30T11:34:30.716Z"
      },
      {
        "duration": 19,
        "start_time": "2022-08-30T11:34:51.829Z"
      },
      {
        "duration": 22,
        "start_time": "2022-08-30T11:39:18.495Z"
      },
      {
        "duration": 18,
        "start_time": "2022-08-30T11:45:48.950Z"
      },
      {
        "duration": 19,
        "start_time": "2022-08-30T11:46:01.712Z"
      },
      {
        "duration": 3,
        "start_time": "2022-08-30T11:50:03.015Z"
      },
      {
        "duration": 3,
        "start_time": "2022-08-30T11:50:09.066Z"
      },
      {
        "duration": 7,
        "start_time": "2022-08-30T11:54:18.475Z"
      },
      {
        "duration": 9,
        "start_time": "2022-08-30T11:55:14.671Z"
      },
      {
        "duration": 8,
        "start_time": "2022-08-30T11:56:06.441Z"
      },
      {
        "duration": 8,
        "start_time": "2022-08-30T11:56:21.694Z"
      },
      {
        "duration": 0,
        "start_time": "2022-08-30T11:57:04.042Z"
      },
      {
        "duration": 7,
        "start_time": "2022-08-30T11:57:11.670Z"
      },
      {
        "duration": 25,
        "start_time": "2022-08-30T12:02:45.409Z"
      },
      {
        "duration": 26,
        "start_time": "2022-08-30T12:58:53.240Z"
      },
      {
        "duration": 11,
        "start_time": "2022-08-30T13:03:24.578Z"
      },
      {
        "duration": 8,
        "start_time": "2022-08-30T13:04:10.412Z"
      },
      {
        "duration": 166,
        "start_time": "2022-08-30T13:04:40.122Z"
      },
      {
        "duration": 31,
        "start_time": "2022-08-30T13:04:43.651Z"
      },
      {
        "duration": 5,
        "start_time": "2022-08-30T13:38:55.990Z"
      },
      {
        "duration": 7,
        "start_time": "2022-08-30T13:39:31.578Z"
      },
      {
        "duration": 6,
        "start_time": "2022-08-30T13:40:35.506Z"
      },
      {
        "duration": 7,
        "start_time": "2022-08-30T13:44:59.980Z"
      },
      {
        "duration": 6,
        "start_time": "2022-08-30T13:46:44.106Z"
      },
      {
        "duration": 6,
        "start_time": "2022-08-30T13:46:52.384Z"
      },
      {
        "duration": 7,
        "start_time": "2022-08-30T13:47:54.541Z"
      },
      {
        "duration": 5,
        "start_time": "2022-08-30T13:51:46.265Z"
      },
      {
        "duration": 20,
        "start_time": "2022-08-30T13:52:11.610Z"
      },
      {
        "duration": 3,
        "start_time": "2022-08-30T13:52:39.636Z"
      },
      {
        "duration": 74,
        "start_time": "2022-08-30T13:52:55.938Z"
      },
      {
        "duration": 67,
        "start_time": "2022-08-30T13:53:00.844Z"
      },
      {
        "duration": 83,
        "start_time": "2022-08-30T13:53:04.888Z"
      },
      {
        "duration": 4,
        "start_time": "2022-08-30T13:53:07.590Z"
      },
      {
        "duration": 5,
        "start_time": "2022-08-30T13:54:48.577Z"
      },
      {
        "duration": 5,
        "start_time": "2022-08-30T13:56:46.272Z"
      },
      {
        "duration": 6,
        "start_time": "2022-08-30T14:03:19.283Z"
      },
      {
        "duration": 7,
        "start_time": "2022-08-30T14:03:47.505Z"
      },
      {
        "duration": 12,
        "start_time": "2022-08-30T14:04:25.701Z"
      },
      {
        "duration": 21,
        "start_time": "2022-08-30T14:05:31.407Z"
      },
      {
        "duration": 21,
        "start_time": "2022-08-30T14:06:06.743Z"
      },
      {
        "duration": 20,
        "start_time": "2022-08-30T14:07:37.076Z"
      },
      {
        "duration": 20,
        "start_time": "2022-08-30T14:07:43.431Z"
      },
      {
        "duration": 22,
        "start_time": "2022-08-30T14:07:58.186Z"
      },
      {
        "duration": 20,
        "start_time": "2022-08-30T14:09:44.636Z"
      },
      {
        "duration": 19,
        "start_time": "2022-08-30T14:09:54.494Z"
      },
      {
        "duration": 6,
        "start_time": "2022-08-30T15:39:23.996Z"
      },
      {
        "duration": 8,
        "start_time": "2022-08-30T15:41:26.989Z"
      },
      {
        "duration": 7,
        "start_time": "2022-08-30T15:41:41.605Z"
      },
      {
        "duration": 5,
        "start_time": "2022-08-30T15:42:01.561Z"
      },
      {
        "duration": 21,
        "start_time": "2022-08-30T15:47:26.001Z"
      },
      {
        "duration": 4,
        "start_time": "2022-08-30T15:49:30.080Z"
      },
      {
        "duration": 7,
        "start_time": "2022-08-30T15:50:58.998Z"
      },
      {
        "duration": 11,
        "start_time": "2022-08-30T15:51:28.662Z"
      },
      {
        "duration": 5,
        "start_time": "2022-08-30T15:51:43.888Z"
      },
      {
        "duration": 5,
        "start_time": "2022-08-30T15:52:30.638Z"
      },
      {
        "duration": 19,
        "start_time": "2022-08-30T15:53:36.795Z"
      },
      {
        "duration": 1187,
        "start_time": "2022-08-30T15:56:21.845Z"
      },
      {
        "duration": 7,
        "start_time": "2022-08-30T15:56:28.813Z"
      },
      {
        "duration": 24,
        "start_time": "2022-08-30T16:00:12.964Z"
      },
      {
        "duration": 4,
        "start_time": "2022-08-30T16:00:19.200Z"
      },
      {
        "duration": 3,
        "start_time": "2022-08-30T16:01:41.326Z"
      },
      {
        "duration": 7,
        "start_time": "2022-08-30T16:02:07.904Z"
      },
      {
        "duration": 8,
        "start_time": "2022-08-30T16:02:35.539Z"
      },
      {
        "duration": 8,
        "start_time": "2022-08-30T16:02:56.807Z"
      },
      {
        "duration": 7,
        "start_time": "2022-08-30T16:03:02.027Z"
      },
      {
        "duration": 5,
        "start_time": "2022-08-30T16:03:24.167Z"
      },
      {
        "duration": 7,
        "start_time": "2022-08-30T16:03:35.776Z"
      },
      {
        "duration": 8,
        "start_time": "2022-08-30T16:04:42.341Z"
      },
      {
        "duration": 8,
        "start_time": "2022-08-30T16:04:48.945Z"
      },
      {
        "duration": 22,
        "start_time": "2022-08-30T16:05:13.187Z"
      },
      {
        "duration": 9,
        "start_time": "2022-08-30T16:05:34.008Z"
      },
      {
        "duration": 7,
        "start_time": "2022-08-30T16:05:50.273Z"
      },
      {
        "duration": 5,
        "start_time": "2022-08-30T16:05:56.170Z"
      },
      {
        "duration": 9,
        "start_time": "2022-08-30T16:07:03.542Z"
      },
      {
        "duration": 5,
        "start_time": "2022-08-30T16:07:10.912Z"
      },
      {
        "duration": 5,
        "start_time": "2022-08-30T16:07:17.490Z"
      },
      {
        "duration": 6,
        "start_time": "2022-08-30T16:08:28.863Z"
      },
      {
        "duration": 6,
        "start_time": "2022-08-30T16:08:55.204Z"
      },
      {
        "duration": 4,
        "start_time": "2022-08-30T16:09:03.704Z"
      },
      {
        "duration": 6,
        "start_time": "2022-08-30T16:09:09.461Z"
      },
      {
        "duration": 6,
        "start_time": "2022-08-30T16:09:14.296Z"
      },
      {
        "duration": 8,
        "start_time": "2022-08-30T16:10:54.017Z"
      },
      {
        "duration": 7,
        "start_time": "2022-08-30T16:11:27.073Z"
      },
      {
        "duration": 7,
        "start_time": "2022-08-30T16:12:32.548Z"
      },
      {
        "duration": 6,
        "start_time": "2022-08-30T16:16:16.459Z"
      },
      {
        "duration": 6,
        "start_time": "2022-08-30T16:16:21.280Z"
      },
      {
        "duration": 7,
        "start_time": "2022-08-30T16:16:45.446Z"
      },
      {
        "duration": 7,
        "start_time": "2022-08-30T16:16:52.306Z"
      },
      {
        "duration": 5,
        "start_time": "2022-08-30T16:16:57.537Z"
      },
      {
        "duration": 6,
        "start_time": "2022-08-30T16:17:05.550Z"
      },
      {
        "duration": 6,
        "start_time": "2022-08-30T16:17:45.038Z"
      },
      {
        "duration": 5,
        "start_time": "2022-08-30T16:18:06.911Z"
      },
      {
        "duration": 8,
        "start_time": "2022-08-30T16:18:10.330Z"
      },
      {
        "duration": 9,
        "start_time": "2022-08-30T16:19:03.714Z"
      },
      {
        "duration": 7,
        "start_time": "2022-08-30T16:19:19.036Z"
      },
      {
        "duration": 8,
        "start_time": "2022-08-30T16:19:35.187Z"
      },
      {
        "duration": 5,
        "start_time": "2022-08-30T16:19:50.362Z"
      },
      {
        "duration": 8,
        "start_time": "2022-08-30T16:19:56.358Z"
      },
      {
        "duration": 7,
        "start_time": "2022-08-30T16:20:00.032Z"
      },
      {
        "duration": 8,
        "start_time": "2022-08-30T16:20:07.740Z"
      },
      {
        "duration": 7,
        "start_time": "2022-08-30T16:20:43.205Z"
      },
      {
        "duration": 6,
        "start_time": "2022-08-30T16:20:54.577Z"
      },
      {
        "duration": 7,
        "start_time": "2022-08-30T16:21:35.825Z"
      },
      {
        "duration": 9,
        "start_time": "2022-08-30T16:25:53.600Z"
      },
      {
        "duration": 1306,
        "start_time": "2022-08-30T16:26:16.520Z"
      },
      {
        "duration": 9,
        "start_time": "2022-08-30T16:27:08.316Z"
      },
      {
        "duration": 40,
        "start_time": "2022-08-30T16:27:38.086Z"
      },
      {
        "duration": 177,
        "start_time": "2022-08-30T16:27:43.923Z"
      },
      {
        "duration": 181,
        "start_time": "2022-08-30T16:28:57.835Z"
      },
      {
        "duration": 192,
        "start_time": "2022-08-30T16:29:06.538Z"
      },
      {
        "duration": 245,
        "start_time": "2022-08-30T16:29:37.895Z"
      },
      {
        "duration": 10,
        "start_time": "2022-08-30T16:31:58.710Z"
      },
      {
        "duration": 4,
        "start_time": "2022-08-30T16:32:08.675Z"
      },
      {
        "duration": 4,
        "start_time": "2022-08-30T16:32:18.498Z"
      },
      {
        "duration": 8,
        "start_time": "2022-08-30T16:34:12.676Z"
      },
      {
        "duration": 7,
        "start_time": "2022-08-30T16:34:27.356Z"
      },
      {
        "duration": 1587,
        "start_time": "2022-08-30T16:37:16.757Z"
      },
      {
        "duration": 1545,
        "start_time": "2022-08-30T16:38:34.155Z"
      },
      {
        "duration": 1606,
        "start_time": "2022-08-30T16:39:36.360Z"
      },
      {
        "duration": 1542,
        "start_time": "2022-08-30T16:42:01.886Z"
      },
      {
        "duration": 14,
        "start_time": "2022-08-30T16:42:50.329Z"
      },
      {
        "duration": 11,
        "start_time": "2022-08-30T16:43:23.625Z"
      },
      {
        "duration": 10,
        "start_time": "2022-08-30T16:43:33.068Z"
      },
      {
        "duration": 10,
        "start_time": "2022-08-30T16:43:39.149Z"
      },
      {
        "duration": 4,
        "start_time": "2022-08-30T16:44:06.916Z"
      },
      {
        "duration": 9,
        "start_time": "2022-08-30T16:44:11.594Z"
      },
      {
        "duration": 13,
        "start_time": "2022-08-30T16:44:58.232Z"
      },
      {
        "duration": 13,
        "start_time": "2022-08-30T16:45:11.442Z"
      },
      {
        "duration": 20,
        "start_time": "2022-08-30T16:45:25.069Z"
      },
      {
        "duration": 8,
        "start_time": "2022-08-30T16:45:54.201Z"
      },
      {
        "duration": 6,
        "start_time": "2022-08-30T16:46:10.992Z"
      },
      {
        "duration": 8,
        "start_time": "2022-08-30T16:46:27.071Z"
      },
      {
        "duration": 9,
        "start_time": "2022-08-30T16:47:34.443Z"
      },
      {
        "duration": 13,
        "start_time": "2022-08-30T16:48:57.366Z"
      },
      {
        "duration": 376,
        "start_time": "2022-08-30T16:50:32.807Z"
      },
      {
        "duration": 5,
        "start_time": "2022-08-30T16:51:48.300Z"
      },
      {
        "duration": 6,
        "start_time": "2022-08-30T16:52:49.342Z"
      },
      {
        "duration": 4,
        "start_time": "2022-08-30T16:54:01.447Z"
      },
      {
        "duration": 1172,
        "start_time": "2022-08-30T16:54:18.724Z"
      },
      {
        "duration": 39,
        "start_time": "2022-08-30T16:54:19.898Z"
      },
      {
        "duration": 13,
        "start_time": "2022-08-30T16:54:19.938Z"
      },
      {
        "duration": 17,
        "start_time": "2022-08-30T16:54:19.953Z"
      },
      {
        "duration": 19,
        "start_time": "2022-08-30T16:54:19.971Z"
      },
      {
        "duration": 18,
        "start_time": "2022-08-30T16:54:19.992Z"
      },
      {
        "duration": 4,
        "start_time": "2022-08-30T16:54:20.011Z"
      },
      {
        "duration": 5,
        "start_time": "2022-08-30T16:54:20.031Z"
      },
      {
        "duration": 14,
        "start_time": "2022-08-30T16:54:20.037Z"
      },
      {
        "duration": 7,
        "start_time": "2022-08-30T16:54:20.053Z"
      },
      {
        "duration": 8,
        "start_time": "2022-08-30T16:54:20.061Z"
      },
      {
        "duration": 31,
        "start_time": "2022-08-30T16:54:20.070Z"
      },
      {
        "duration": 6,
        "start_time": "2022-08-30T16:54:20.102Z"
      },
      {
        "duration": 16,
        "start_time": "2022-08-30T16:54:20.109Z"
      },
      {
        "duration": 6,
        "start_time": "2022-08-30T16:54:20.130Z"
      },
      {
        "duration": 5,
        "start_time": "2022-08-30T16:54:20.138Z"
      },
      {
        "duration": 11,
        "start_time": "2022-08-30T16:54:20.145Z"
      },
      {
        "duration": 4,
        "start_time": "2022-08-30T16:54:20.157Z"
      },
      {
        "duration": 6,
        "start_time": "2022-08-30T16:54:20.162Z"
      },
      {
        "duration": 6,
        "start_time": "2022-08-30T16:54:20.169Z"
      },
      {
        "duration": 16,
        "start_time": "2022-08-30T16:54:20.176Z"
      },
      {
        "duration": 6,
        "start_time": "2022-08-30T16:54:20.193Z"
      },
      {
        "duration": 218,
        "start_time": "2022-08-30T16:54:20.201Z"
      },
      {
        "duration": 10,
        "start_time": "2022-08-30T16:54:20.421Z"
      },
      {
        "duration": 163,
        "start_time": "2022-08-30T16:54:20.432Z"
      },
      {
        "duration": 6,
        "start_time": "2022-08-30T16:54:20.596Z"
      },
      {
        "duration": 4,
        "start_time": "2022-08-30T16:54:20.603Z"
      },
      {
        "duration": 2,
        "start_time": "2022-08-30T16:54:20.610Z"
      },
      {
        "duration": 9,
        "start_time": "2022-08-30T16:54:20.613Z"
      },
      {
        "duration": 2,
        "start_time": "2022-08-30T16:54:20.631Z"
      },
      {
        "duration": 4,
        "start_time": "2022-08-30T16:54:20.634Z"
      },
      {
        "duration": 4,
        "start_time": "2022-08-30T16:54:20.639Z"
      },
      {
        "duration": 4,
        "start_time": "2022-08-30T16:54:20.645Z"
      },
      {
        "duration": 4,
        "start_time": "2022-08-30T16:54:20.650Z"
      },
      {
        "duration": 4,
        "start_time": "2022-08-30T16:54:20.656Z"
      },
      {
        "duration": 4,
        "start_time": "2022-08-30T16:54:20.661Z"
      },
      {
        "duration": 3,
        "start_time": "2022-08-30T16:54:20.667Z"
      },
      {
        "duration": 4,
        "start_time": "2022-08-30T16:54:20.671Z"
      },
      {
        "duration": 5,
        "start_time": "2022-08-30T16:54:20.677Z"
      },
      {
        "duration": 4,
        "start_time": "2022-08-30T16:54:20.684Z"
      },
      {
        "duration": 4,
        "start_time": "2022-08-30T16:54:20.690Z"
      },
      {
        "duration": 5,
        "start_time": "2022-08-30T16:54:20.695Z"
      },
      {
        "duration": 4,
        "start_time": "2022-08-30T16:54:20.701Z"
      },
      {
        "duration": 25,
        "start_time": "2022-08-30T16:54:20.706Z"
      },
      {
        "duration": 2,
        "start_time": "2022-08-30T16:54:20.733Z"
      },
      {
        "duration": 3,
        "start_time": "2022-08-30T16:54:20.737Z"
      },
      {
        "duration": 5,
        "start_time": "2022-08-30T16:54:20.742Z"
      },
      {
        "duration": 5,
        "start_time": "2022-08-30T16:54:20.748Z"
      },
      {
        "duration": 4,
        "start_time": "2022-08-30T16:54:20.755Z"
      },
      {
        "duration": 4,
        "start_time": "2022-08-30T16:54:20.760Z"
      },
      {
        "duration": 4,
        "start_time": "2022-08-30T16:54:20.765Z"
      },
      {
        "duration": 4,
        "start_time": "2022-08-30T16:54:20.771Z"
      },
      {
        "duration": 4,
        "start_time": "2022-08-30T16:54:20.776Z"
      },
      {
        "duration": 5,
        "start_time": "2022-08-30T16:54:20.782Z"
      },
      {
        "duration": 7,
        "start_time": "2022-08-30T16:54:20.789Z"
      },
      {
        "duration": 4,
        "start_time": "2022-08-30T16:54:20.797Z"
      },
      {
        "duration": 4,
        "start_time": "2022-08-30T16:54:20.803Z"
      },
      {
        "duration": 24,
        "start_time": "2022-08-30T16:54:20.808Z"
      },
      {
        "duration": 7,
        "start_time": "2022-08-30T16:54:20.840Z"
      },
      {
        "duration": 7,
        "start_time": "2022-08-30T16:54:20.848Z"
      },
      {
        "duration": 7,
        "start_time": "2022-08-30T16:54:20.856Z"
      },
      {
        "duration": 6,
        "start_time": "2022-08-30T16:54:20.865Z"
      },
      {
        "duration": 4,
        "start_time": "2022-08-30T16:54:20.872Z"
      },
      {
        "duration": 5,
        "start_time": "2022-08-30T16:54:20.877Z"
      },
      {
        "duration": 5,
        "start_time": "2022-08-30T16:54:20.884Z"
      },
      {
        "duration": 9,
        "start_time": "2022-08-30T16:54:20.890Z"
      },
      {
        "duration": 4,
        "start_time": "2022-08-30T16:54:20.900Z"
      },
      {
        "duration": 4,
        "start_time": "2022-08-30T16:54:20.905Z"
      },
      {
        "duration": 6,
        "start_time": "2022-08-30T16:54:20.911Z"
      },
      {
        "duration": 5,
        "start_time": "2022-08-30T16:54:20.918Z"
      },
      {
        "duration": 4,
        "start_time": "2022-08-30T16:54:20.924Z"
      },
      {
        "duration": 5,
        "start_time": "2022-08-30T16:54:20.929Z"
      },
      {
        "duration": 6,
        "start_time": "2022-08-30T16:54:20.935Z"
      },
      {
        "duration": 1093,
        "start_time": "2022-08-30T16:55:33.393Z"
      },
      {
        "duration": 41,
        "start_time": "2022-08-30T16:55:34.488Z"
      },
      {
        "duration": 12,
        "start_time": "2022-08-30T16:55:34.531Z"
      },
      {
        "duration": 14,
        "start_time": "2022-08-30T16:55:34.545Z"
      },
      {
        "duration": 19,
        "start_time": "2022-08-30T16:55:34.560Z"
      },
      {
        "duration": 19,
        "start_time": "2022-08-30T16:55:34.580Z"
      },
      {
        "duration": 4,
        "start_time": "2022-08-30T16:55:34.600Z"
      },
      {
        "duration": 30,
        "start_time": "2022-08-30T16:55:34.605Z"
      },
      {
        "duration": 8,
        "start_time": "2022-08-30T16:55:34.636Z"
      },
      {
        "duration": 6,
        "start_time": "2022-08-30T16:55:34.646Z"
      },
      {
        "duration": 6,
        "start_time": "2022-08-30T16:55:34.653Z"
      },
      {
        "duration": 20,
        "start_time": "2022-08-30T16:55:34.661Z"
      },
      {
        "duration": 6,
        "start_time": "2022-08-30T16:55:34.682Z"
      },
      {
        "duration": 11,
        "start_time": "2022-08-30T16:55:34.689Z"
      },
      {
        "duration": 31,
        "start_time": "2022-08-30T16:55:34.701Z"
      },
      {
        "duration": 6,
        "start_time": "2022-08-30T16:55:34.733Z"
      },
      {
        "duration": 5,
        "start_time": "2022-08-30T16:55:34.740Z"
      },
      {
        "duration": 4,
        "start_time": "2022-08-30T16:55:34.747Z"
      },
      {
        "duration": 7,
        "start_time": "2022-08-30T16:55:34.752Z"
      },
      {
        "duration": 5,
        "start_time": "2022-08-30T16:55:34.761Z"
      },
      {
        "duration": 16,
        "start_time": "2022-08-30T16:55:34.767Z"
      },
      {
        "duration": 6,
        "start_time": "2022-08-30T16:55:34.784Z"
      },
      {
        "duration": 236,
        "start_time": "2022-08-30T16:55:34.792Z"
      },
      {
        "duration": 5,
        "start_time": "2022-08-30T16:55:35.030Z"
      },
      {
        "duration": 180,
        "start_time": "2022-08-30T16:55:35.037Z"
      },
      {
        "duration": 13,
        "start_time": "2022-08-30T16:55:35.218Z"
      },
      {
        "duration": 2,
        "start_time": "2022-08-30T16:55:35.233Z"
      },
      {
        "duration": 3,
        "start_time": "2022-08-30T16:55:35.238Z"
      },
      {
        "duration": 5,
        "start_time": "2022-08-30T16:55:35.242Z"
      },
      {
        "duration": 11,
        "start_time": "2022-08-30T16:55:35.248Z"
      },
      {
        "duration": 8,
        "start_time": "2022-08-30T16:55:35.260Z"
      },
      {
        "duration": 4,
        "start_time": "2022-08-30T16:55:35.270Z"
      },
      {
        "duration": 5,
        "start_time": "2022-08-30T16:55:35.275Z"
      },
      {
        "duration": 7,
        "start_time": "2022-08-30T16:55:35.281Z"
      },
      {
        "duration": 4,
        "start_time": "2022-08-30T16:55:35.290Z"
      },
      {
        "duration": 4,
        "start_time": "2022-08-30T16:55:35.295Z"
      },
      {
        "duration": 12,
        "start_time": "2022-08-30T16:55:35.301Z"
      },
      {
        "duration": 4,
        "start_time": "2022-08-30T16:55:35.315Z"
      },
      {
        "duration": 6,
        "start_time": "2022-08-30T16:55:35.321Z"
      },
      {
        "duration": 5,
        "start_time": "2022-08-30T16:55:35.328Z"
      },
      {
        "duration": 5,
        "start_time": "2022-08-30T16:55:35.334Z"
      },
      {
        "duration": 11,
        "start_time": "2022-08-30T16:55:35.341Z"
      },
      {
        "duration": 4,
        "start_time": "2022-08-30T16:55:35.353Z"
      },
      {
        "duration": 5,
        "start_time": "2022-08-30T16:55:35.359Z"
      },
      {
        "duration": 4,
        "start_time": "2022-08-30T16:55:35.365Z"
      },
      {
        "duration": 4,
        "start_time": "2022-08-30T16:55:35.371Z"
      },
      {
        "duration": 4,
        "start_time": "2022-08-30T16:55:35.377Z"
      },
      {
        "duration": 6,
        "start_time": "2022-08-30T16:55:35.382Z"
      },
      {
        "duration": 6,
        "start_time": "2022-08-30T16:55:35.389Z"
      },
      {
        "duration": 5,
        "start_time": "2022-08-30T16:55:35.396Z"
      },
      {
        "duration": 4,
        "start_time": "2022-08-30T16:55:35.402Z"
      },
      {
        "duration": 5,
        "start_time": "2022-08-30T16:55:35.407Z"
      },
      {
        "duration": 4,
        "start_time": "2022-08-30T16:55:35.414Z"
      },
      {
        "duration": 12,
        "start_time": "2022-08-30T16:55:35.419Z"
      },
      {
        "duration": 5,
        "start_time": "2022-08-30T16:55:35.432Z"
      },
      {
        "duration": 4,
        "start_time": "2022-08-30T16:55:35.438Z"
      },
      {
        "duration": 4,
        "start_time": "2022-08-30T16:55:35.443Z"
      },
      {
        "duration": 4,
        "start_time": "2022-08-30T16:55:35.448Z"
      },
      {
        "duration": 7,
        "start_time": "2022-08-30T16:55:35.453Z"
      },
      {
        "duration": 5,
        "start_time": "2022-08-30T16:55:35.461Z"
      },
      {
        "duration": 3,
        "start_time": "2022-08-30T16:55:35.467Z"
      },
      {
        "duration": 6,
        "start_time": "2022-08-30T16:55:35.471Z"
      },
      {
        "duration": 5,
        "start_time": "2022-08-30T16:55:35.478Z"
      },
      {
        "duration": 4,
        "start_time": "2022-08-30T16:55:35.485Z"
      },
      {
        "duration": 5,
        "start_time": "2022-08-30T16:55:35.490Z"
      },
      {
        "duration": 5,
        "start_time": "2022-08-30T16:55:35.496Z"
      },
      {
        "duration": 4,
        "start_time": "2022-08-30T16:55:35.502Z"
      },
      {
        "duration": 4,
        "start_time": "2022-08-30T16:55:35.507Z"
      },
      {
        "duration": 18,
        "start_time": "2022-08-30T16:55:35.513Z"
      },
      {
        "duration": 2,
        "start_time": "2022-08-30T16:55:35.532Z"
      },
      {
        "duration": 13,
        "start_time": "2022-08-30T16:55:35.536Z"
      },
      {
        "duration": 7,
        "start_time": "2022-08-30T16:55:35.550Z"
      },
      {
        "duration": 6,
        "start_time": "2022-08-30T16:55:35.558Z"
      },
      {
        "duration": 219,
        "start_time": "2022-08-30T16:56:26.670Z"
      },
      {
        "duration": 1163,
        "start_time": "2022-08-30T16:57:47.911Z"
      },
      {
        "duration": 38,
        "start_time": "2022-08-30T16:57:49.075Z"
      },
      {
        "duration": 20,
        "start_time": "2022-08-30T16:57:49.115Z"
      },
      {
        "duration": 19,
        "start_time": "2022-08-30T16:57:49.136Z"
      },
      {
        "duration": 15,
        "start_time": "2022-08-30T16:57:49.157Z"
      },
      {
        "duration": 17,
        "start_time": "2022-08-30T16:57:49.174Z"
      },
      {
        "duration": 3,
        "start_time": "2022-08-30T16:57:49.192Z"
      },
      {
        "duration": 6,
        "start_time": "2022-08-30T16:57:49.196Z"
      },
      {
        "duration": 7,
        "start_time": "2022-08-30T16:57:49.203Z"
      },
      {
        "duration": 5,
        "start_time": "2022-08-30T16:57:49.230Z"
      },
      {
        "duration": 7,
        "start_time": "2022-08-30T16:57:49.237Z"
      },
      {
        "duration": 19,
        "start_time": "2022-08-30T16:57:49.245Z"
      },
      {
        "duration": 5,
        "start_time": "2022-08-30T16:57:49.265Z"
      },
      {
        "duration": 8,
        "start_time": "2022-08-30T16:57:49.272Z"
      },
      {
        "duration": 6,
        "start_time": "2022-08-30T16:57:49.281Z"
      },
      {
        "duration": 7,
        "start_time": "2022-08-30T16:57:49.289Z"
      },
      {
        "duration": 6,
        "start_time": "2022-08-30T16:57:49.297Z"
      },
      {
        "duration": 28,
        "start_time": "2022-08-30T16:57:49.304Z"
      },
      {
        "duration": 7,
        "start_time": "2022-08-30T16:57:49.334Z"
      },
      {
        "duration": 2760,
        "start_time": "2022-08-30T16:57:49.342Z"
      },
      {
        "duration": 5,
        "start_time": "2022-08-30T16:57:52.104Z"
      },
      {
        "duration": 24,
        "start_time": "2022-08-30T16:57:52.111Z"
      },
      {
        "duration": 225,
        "start_time": "2022-08-30T16:57:52.136Z"
      },
      {
        "duration": 7,
        "start_time": "2022-08-30T16:57:52.363Z"
      },
      {
        "duration": 190,
        "start_time": "2022-08-30T16:57:52.371Z"
      },
      {
        "duration": 4,
        "start_time": "2022-08-30T16:57:52.562Z"
      },
      {
        "duration": 174,
        "start_time": "2022-08-30T16:57:52.568Z"
      },
      {
        "duration": 6,
        "start_time": "2022-08-30T16:57:52.745Z"
      },
      {
        "duration": 6,
        "start_time": "2022-08-30T16:57:52.752Z"
      },
      {
        "duration": 5,
        "start_time": "2022-08-30T16:57:52.759Z"
      },
      {
        "duration": 4,
        "start_time": "2022-08-30T16:57:52.765Z"
      },
      {
        "duration": 4,
        "start_time": "2022-08-30T16:57:52.771Z"
      },
      {
        "duration": 4,
        "start_time": "2022-08-30T16:57:52.776Z"
      },
      {
        "duration": 5,
        "start_time": "2022-08-30T16:57:52.782Z"
      },
      {
        "duration": 5,
        "start_time": "2022-08-30T16:57:52.788Z"
      },
      {
        "duration": 4,
        "start_time": "2022-08-30T16:57:52.794Z"
      },
      {
        "duration": 6,
        "start_time": "2022-08-30T16:57:52.799Z"
      },
      {
        "duration": 4,
        "start_time": "2022-08-30T16:57:52.806Z"
      },
      {
        "duration": 4,
        "start_time": "2022-08-30T16:57:52.811Z"
      },
      {
        "duration": 4,
        "start_time": "2022-08-30T16:57:52.830Z"
      },
      {
        "duration": 6,
        "start_time": "2022-08-30T16:57:52.835Z"
      },
      {
        "duration": 5,
        "start_time": "2022-08-30T16:57:52.842Z"
      },
      {
        "duration": 4,
        "start_time": "2022-08-30T16:57:52.849Z"
      },
      {
        "duration": 11,
        "start_time": "2022-08-30T16:57:52.854Z"
      },
      {
        "duration": 5,
        "start_time": "2022-08-30T16:57:52.866Z"
      },
      {
        "duration": 4,
        "start_time": "2022-08-30T16:57:52.873Z"
      },
      {
        "duration": 4,
        "start_time": "2022-08-30T16:57:52.878Z"
      },
      {
        "duration": 5,
        "start_time": "2022-08-30T16:57:52.884Z"
      },
      {
        "duration": 5,
        "start_time": "2022-08-30T16:57:52.890Z"
      },
      {
        "duration": 4,
        "start_time": "2022-08-30T16:57:52.896Z"
      },
      {
        "duration": 4,
        "start_time": "2022-08-30T16:57:52.901Z"
      },
      {
        "duration": 3,
        "start_time": "2022-08-30T16:57:52.907Z"
      },
      {
        "duration": 4,
        "start_time": "2022-08-30T16:57:52.912Z"
      },
      {
        "duration": 5,
        "start_time": "2022-08-30T16:57:52.918Z"
      },
      {
        "duration": 7,
        "start_time": "2022-08-30T16:57:52.924Z"
      },
      {
        "duration": 6,
        "start_time": "2022-08-30T16:57:52.932Z"
      },
      {
        "duration": 5,
        "start_time": "2022-08-30T16:57:52.939Z"
      },
      {
        "duration": 4,
        "start_time": "2022-08-30T16:57:52.945Z"
      },
      {
        "duration": 4,
        "start_time": "2022-08-30T16:57:52.951Z"
      },
      {
        "duration": 4,
        "start_time": "2022-08-30T16:57:52.956Z"
      },
      {
        "duration": 4,
        "start_time": "2022-08-30T16:57:52.961Z"
      },
      {
        "duration": 4,
        "start_time": "2022-08-30T16:57:52.966Z"
      },
      {
        "duration": 4,
        "start_time": "2022-08-30T16:57:52.972Z"
      },
      {
        "duration": 5,
        "start_time": "2022-08-30T16:57:52.977Z"
      },
      {
        "duration": 3,
        "start_time": "2022-08-30T16:57:52.983Z"
      },
      {
        "duration": 5,
        "start_time": "2022-08-30T16:57:52.988Z"
      },
      {
        "duration": 4,
        "start_time": "2022-08-30T16:57:52.994Z"
      },
      {
        "duration": 5,
        "start_time": "2022-08-30T16:57:52.999Z"
      },
      {
        "duration": 4,
        "start_time": "2022-08-30T16:57:53.005Z"
      },
      {
        "duration": 21,
        "start_time": "2022-08-30T16:57:53.010Z"
      },
      {
        "duration": 2,
        "start_time": "2022-08-30T16:57:53.033Z"
      },
      {
        "duration": 5,
        "start_time": "2022-08-30T16:57:53.036Z"
      },
      {
        "duration": 4,
        "start_time": "2022-08-30T16:57:53.042Z"
      },
      {
        "duration": 5,
        "start_time": "2022-08-30T16:57:53.048Z"
      },
      {
        "duration": 5,
        "start_time": "2022-08-30T16:57:53.054Z"
      },
      {
        "duration": 127,
        "start_time": "2022-08-30T16:59:41.762Z"
      },
      {
        "duration": 10,
        "start_time": "2022-08-30T17:00:09.801Z"
      },
      {
        "duration": 3,
        "start_time": "2022-08-30T17:00:55.974Z"
      },
      {
        "duration": 6,
        "start_time": "2022-08-30T17:01:15.266Z"
      },
      {
        "duration": 6,
        "start_time": "2022-08-30T17:01:21.847Z"
      },
      {
        "duration": 85,
        "start_time": "2022-08-30T17:01:58.719Z"
      },
      {
        "duration": 13,
        "start_time": "2022-08-30T17:02:04.917Z"
      },
      {
        "duration": 15,
        "start_time": "2022-08-30T17:10:43.800Z"
      },
      {
        "duration": 12,
        "start_time": "2022-08-30T17:10:55.926Z"
      },
      {
        "duration": 22,
        "start_time": "2022-08-30T17:12:12.784Z"
      },
      {
        "duration": 7,
        "start_time": "2022-08-30T17:12:36.738Z"
      },
      {
        "duration": 8,
        "start_time": "2022-08-30T17:16:43.148Z"
      },
      {
        "duration": 7,
        "start_time": "2022-08-30T17:16:46.202Z"
      },
      {
        "duration": 6,
        "start_time": "2022-08-30T17:17:08.939Z"
      },
      {
        "duration": 19,
        "start_time": "2022-08-30T17:20:01.948Z"
      },
      {
        "duration": 17,
        "start_time": "2022-08-30T17:27:15.375Z"
      },
      {
        "duration": 8,
        "start_time": "2022-08-30T17:27:17.804Z"
      },
      {
        "duration": 8,
        "start_time": "2022-08-30T17:43:02.963Z"
      },
      {
        "duration": 6,
        "start_time": "2022-08-30T17:43:05.061Z"
      },
      {
        "duration": 165,
        "start_time": "2022-08-30T17:43:31.882Z"
      },
      {
        "duration": 15,
        "start_time": "2022-08-30T17:43:36.798Z"
      },
      {
        "duration": 14,
        "start_time": "2022-08-30T17:43:41.720Z"
      },
      {
        "duration": 39,
        "start_time": "2022-08-30T17:44:05.602Z"
      },
      {
        "duration": 19,
        "start_time": "2022-08-30T17:45:44.624Z"
      },
      {
        "duration": 41,
        "start_time": "2022-08-30T17:46:12.554Z"
      },
      {
        "duration": 25,
        "start_time": "2022-08-30T17:46:29.099Z"
      },
      {
        "duration": 26,
        "start_time": "2022-08-30T17:46:36.707Z"
      },
      {
        "duration": 25,
        "start_time": "2022-08-30T17:46:40.875Z"
      },
      {
        "duration": 36,
        "start_time": "2022-08-30T17:46:44.563Z"
      },
      {
        "duration": 26,
        "start_time": "2022-08-30T17:46:56.208Z"
      },
      {
        "duration": 26,
        "start_time": "2022-08-30T17:47:02.492Z"
      },
      {
        "duration": 38,
        "start_time": "2022-08-30T17:47:05.724Z"
      },
      {
        "duration": 15,
        "start_time": "2022-08-30T17:48:32.903Z"
      },
      {
        "duration": 15,
        "start_time": "2022-08-30T17:48:43.121Z"
      },
      {
        "duration": 13,
        "start_time": "2022-08-30T17:48:52.943Z"
      },
      {
        "duration": 54,
        "start_time": "2022-08-30T17:55:22.816Z"
      },
      {
        "duration": 56,
        "start_time": "2022-08-30T17:55:34.762Z"
      },
      {
        "duration": 71,
        "start_time": "2022-08-30T17:56:02.943Z"
      },
      {
        "duration": 5,
        "start_time": "2022-08-30T17:59:49.458Z"
      },
      {
        "duration": 22,
        "start_time": "2022-08-30T18:02:07.213Z"
      },
      {
        "duration": 22,
        "start_time": "2022-08-30T18:02:12.178Z"
      },
      {
        "duration": 4,
        "start_time": "2022-08-30T18:05:53.314Z"
      },
      {
        "duration": 14,
        "start_time": "2022-08-30T18:06:03.095Z"
      },
      {
        "duration": 8,
        "start_time": "2022-08-30T18:06:25.078Z"
      },
      {
        "duration": 5,
        "start_time": "2022-08-30T18:06:34.054Z"
      },
      {
        "duration": 1425,
        "start_time": "2022-08-30T18:06:49.929Z"
      },
      {
        "duration": 1177,
        "start_time": "2022-08-30T18:07:11.348Z"
      },
      {
        "duration": 4,
        "start_time": "2022-08-30T18:07:17.018Z"
      },
      {
        "duration": 4,
        "start_time": "2022-08-30T18:07:23.769Z"
      },
      {
        "duration": 5,
        "start_time": "2022-08-30T18:10:31.447Z"
      },
      {
        "duration": 7,
        "start_time": "2022-08-30T18:10:38.174Z"
      },
      {
        "duration": 1058,
        "start_time": "2022-08-30T18:11:41.327Z"
      },
      {
        "duration": 20,
        "start_time": "2022-08-30T18:11:45.805Z"
      },
      {
        "duration": 18,
        "start_time": "2022-08-30T18:11:52.247Z"
      },
      {
        "duration": 12,
        "start_time": "2022-08-30T18:11:57.376Z"
      },
      {
        "duration": 9,
        "start_time": "2022-08-30T18:14:13.425Z"
      },
      {
        "duration": 4,
        "start_time": "2022-08-30T18:14:31.996Z"
      },
      {
        "duration": 1708,
        "start_time": "2022-08-31T02:51:01.401Z"
      },
      {
        "duration": 47,
        "start_time": "2022-08-31T02:51:03.112Z"
      },
      {
        "duration": 16,
        "start_time": "2022-08-31T02:51:03.161Z"
      },
      {
        "duration": 14,
        "start_time": "2022-08-31T02:51:03.184Z"
      },
      {
        "duration": 23,
        "start_time": "2022-08-31T02:51:03.199Z"
      },
      {
        "duration": 21,
        "start_time": "2022-08-31T02:51:03.223Z"
      },
      {
        "duration": 3,
        "start_time": "2022-08-31T02:51:03.245Z"
      },
      {
        "duration": 7,
        "start_time": "2022-08-31T02:51:03.250Z"
      },
      {
        "duration": 7,
        "start_time": "2022-08-31T02:51:03.285Z"
      },
      {
        "duration": 8,
        "start_time": "2022-08-31T02:51:03.294Z"
      },
      {
        "duration": 9,
        "start_time": "2022-08-31T02:51:03.304Z"
      },
      {
        "duration": 26,
        "start_time": "2022-08-31T02:51:03.315Z"
      },
      {
        "duration": 7,
        "start_time": "2022-08-31T02:51:03.342Z"
      },
      {
        "duration": 43,
        "start_time": "2022-08-31T02:51:03.351Z"
      },
      {
        "duration": 17,
        "start_time": "2022-08-31T02:51:03.396Z"
      },
      {
        "duration": 13,
        "start_time": "2022-08-31T02:51:03.415Z"
      },
      {
        "duration": 5,
        "start_time": "2022-08-31T02:51:03.429Z"
      },
      {
        "duration": 7,
        "start_time": "2022-08-31T02:51:03.436Z"
      },
      {
        "duration": 9,
        "start_time": "2022-08-31T02:51:03.444Z"
      },
      {
        "duration": 3143,
        "start_time": "2022-08-31T02:51:03.454Z"
      },
      {
        "duration": 6,
        "start_time": "2022-08-31T02:51:06.599Z"
      },
      {
        "duration": 24,
        "start_time": "2022-08-31T02:51:06.606Z"
      },
      {
        "duration": 258,
        "start_time": "2022-08-31T02:51:06.631Z"
      },
      {
        "duration": 8,
        "start_time": "2022-08-31T02:51:06.891Z"
      },
      {
        "duration": 239,
        "start_time": "2022-08-31T02:51:06.901Z"
      },
      {
        "duration": 5,
        "start_time": "2022-08-31T02:51:07.142Z"
      },
      {
        "duration": 214,
        "start_time": "2022-08-31T02:51:07.148Z"
      },
      {
        "duration": 7,
        "start_time": "2022-08-31T02:51:07.366Z"
      },
      {
        "duration": 26,
        "start_time": "2022-08-31T02:51:07.375Z"
      },
      {
        "duration": 21,
        "start_time": "2022-08-31T02:51:07.403Z"
      },
      {
        "duration": 25,
        "start_time": "2022-08-31T02:51:07.426Z"
      },
      {
        "duration": 29,
        "start_time": "2022-08-31T02:51:07.453Z"
      },
      {
        "duration": 15,
        "start_time": "2022-08-31T02:51:07.484Z"
      },
      {
        "duration": 37,
        "start_time": "2022-08-31T02:51:07.502Z"
      },
      {
        "duration": 23,
        "start_time": "2022-08-31T02:51:07.540Z"
      },
      {
        "duration": 33,
        "start_time": "2022-08-31T02:51:07.565Z"
      },
      {
        "duration": 26,
        "start_time": "2022-08-31T02:51:07.600Z"
      },
      {
        "duration": 62,
        "start_time": "2022-08-31T02:51:07.628Z"
      },
      {
        "duration": 16,
        "start_time": "2022-08-31T02:51:07.691Z"
      },
      {
        "duration": 17,
        "start_time": "2022-08-31T02:51:07.708Z"
      },
      {
        "duration": 15,
        "start_time": "2022-08-31T02:51:07.726Z"
      },
      {
        "duration": 71,
        "start_time": "2022-08-31T02:51:07.742Z"
      },
      {
        "duration": 8,
        "start_time": "2022-08-31T02:51:07.815Z"
      },
      {
        "duration": 52,
        "start_time": "2022-08-31T02:51:07.825Z"
      },
      {
        "duration": 6,
        "start_time": "2022-08-31T02:51:07.878Z"
      },
      {
        "duration": 8,
        "start_time": "2022-08-31T02:51:07.885Z"
      },
      {
        "duration": 5,
        "start_time": "2022-08-31T02:51:07.895Z"
      },
      {
        "duration": 5,
        "start_time": "2022-08-31T02:51:07.901Z"
      },
      {
        "duration": 10,
        "start_time": "2022-08-31T02:51:07.907Z"
      },
      {
        "duration": 6,
        "start_time": "2022-08-31T02:51:07.918Z"
      },
      {
        "duration": 7,
        "start_time": "2022-08-31T02:51:07.926Z"
      },
      {
        "duration": 5,
        "start_time": "2022-08-31T02:51:07.935Z"
      },
      {
        "duration": 5,
        "start_time": "2022-08-31T02:51:07.942Z"
      },
      {
        "duration": 5,
        "start_time": "2022-08-31T02:51:07.948Z"
      },
      {
        "duration": 6,
        "start_time": "2022-08-31T02:51:07.955Z"
      },
      {
        "duration": 5,
        "start_time": "2022-08-31T02:51:07.962Z"
      },
      {
        "duration": 3,
        "start_time": "2022-08-31T02:51:07.986Z"
      },
      {
        "duration": 6,
        "start_time": "2022-08-31T02:51:07.991Z"
      },
      {
        "duration": 5,
        "start_time": "2022-08-31T02:51:07.998Z"
      },
      {
        "duration": 10,
        "start_time": "2022-08-31T02:51:08.004Z"
      },
      {
        "duration": 5,
        "start_time": "2022-08-31T02:51:08.015Z"
      },
      {
        "duration": 5,
        "start_time": "2022-08-31T02:51:08.022Z"
      },
      {
        "duration": 5,
        "start_time": "2022-08-31T02:51:08.028Z"
      },
      {
        "duration": 5,
        "start_time": "2022-08-31T02:51:08.034Z"
      },
      {
        "duration": 5,
        "start_time": "2022-08-31T02:51:08.041Z"
      },
      {
        "duration": 5,
        "start_time": "2022-08-31T02:51:08.047Z"
      },
      {
        "duration": 5,
        "start_time": "2022-08-31T02:51:08.053Z"
      },
      {
        "duration": 27,
        "start_time": "2022-08-31T02:51:08.059Z"
      },
      {
        "duration": 6,
        "start_time": "2022-08-31T02:51:08.087Z"
      },
      {
        "duration": 6,
        "start_time": "2022-08-31T02:51:08.094Z"
      },
      {
        "duration": 9,
        "start_time": "2022-08-31T02:51:08.101Z"
      },
      {
        "duration": 14,
        "start_time": "2022-08-31T02:51:08.111Z"
      },
      {
        "duration": 4,
        "start_time": "2022-08-31T02:51:08.127Z"
      },
      {
        "duration": 7,
        "start_time": "2022-08-31T02:51:08.133Z"
      },
      {
        "duration": 5,
        "start_time": "2022-08-31T02:51:08.142Z"
      },
      {
        "duration": 11,
        "start_time": "2022-08-31T02:51:08.148Z"
      },
      {
        "duration": 7,
        "start_time": "2022-08-31T02:51:08.161Z"
      },
      {
        "duration": 78,
        "start_time": "2022-08-31T03:02:57.684Z"
      },
      {
        "duration": 4,
        "start_time": "2022-08-31T03:03:03.725Z"
      },
      {
        "duration": 4,
        "start_time": "2022-08-31T03:03:05.928Z"
      },
      {
        "duration": 4,
        "start_time": "2022-08-31T03:03:10.741Z"
      },
      {
        "duration": 3,
        "start_time": "2022-08-31T03:03:15.276Z"
      },
      {
        "duration": 93,
        "start_time": "2022-08-31T03:07:30.910Z"
      },
      {
        "duration": 14,
        "start_time": "2022-08-31T03:07:44.654Z"
      },
      {
        "duration": 14,
        "start_time": "2022-08-31T03:07:56.108Z"
      },
      {
        "duration": 11,
        "start_time": "2022-08-31T03:08:24.418Z"
      },
      {
        "duration": 17,
        "start_time": "2022-08-31T03:08:32.838Z"
      },
      {
        "duration": 13,
        "start_time": "2022-08-31T03:12:43.770Z"
      },
      {
        "duration": 32,
        "start_time": "2022-08-31T03:12:56.624Z"
      },
      {
        "duration": 4,
        "start_time": "2022-08-31T03:14:44.319Z"
      },
      {
        "duration": 10,
        "start_time": "2022-08-31T03:14:50.413Z"
      },
      {
        "duration": 17,
        "start_time": "2022-08-31T03:14:52.809Z"
      },
      {
        "duration": 59,
        "start_time": "2022-08-31T03:19:30.224Z"
      },
      {
        "duration": 17,
        "start_time": "2022-08-31T03:19:36.013Z"
      },
      {
        "duration": 10,
        "start_time": "2022-08-31T03:21:19.235Z"
      },
      {
        "duration": 13,
        "start_time": "2022-08-31T03:21:26.269Z"
      },
      {
        "duration": 22,
        "start_time": "2022-08-31T03:21:34.821Z"
      },
      {
        "duration": 9,
        "start_time": "2022-08-31T03:21:52.763Z"
      },
      {
        "duration": 11,
        "start_time": "2022-08-31T03:26:29.672Z"
      },
      {
        "duration": 47,
        "start_time": "2022-08-31T03:27:14.445Z"
      },
      {
        "duration": 97,
        "start_time": "2022-08-31T03:27:31.288Z"
      },
      {
        "duration": 20,
        "start_time": "2022-08-31T03:27:34.222Z"
      },
      {
        "duration": 61,
        "start_time": "2022-08-31T03:29:08.007Z"
      },
      {
        "duration": 18,
        "start_time": "2022-08-31T03:30:07.106Z"
      },
      {
        "duration": 68,
        "start_time": "2022-08-31T03:30:20.770Z"
      },
      {
        "duration": 26,
        "start_time": "2022-08-31T03:30:56.622Z"
      },
      {
        "duration": 25,
        "start_time": "2022-08-31T03:31:05.521Z"
      },
      {
        "duration": 29,
        "start_time": "2022-08-31T03:31:10.373Z"
      },
      {
        "duration": 21,
        "start_time": "2022-08-31T03:31:24.109Z"
      },
      {
        "duration": 21,
        "start_time": "2022-08-31T03:32:03.506Z"
      },
      {
        "duration": 178,
        "start_time": "2022-08-31T03:36:10.558Z"
      },
      {
        "duration": 8,
        "start_time": "2022-08-31T03:39:08.546Z"
      },
      {
        "duration": 3,
        "start_time": "2022-08-31T03:39:57.212Z"
      },
      {
        "duration": 13,
        "start_time": "2022-08-31T03:40:29.178Z"
      },
      {
        "duration": 13,
        "start_time": "2022-08-31T03:40:54.794Z"
      },
      {
        "duration": 13,
        "start_time": "2022-08-31T03:41:10.698Z"
      },
      {
        "duration": 16,
        "start_time": "2022-08-31T03:41:42.876Z"
      },
      {
        "duration": 14,
        "start_time": "2022-08-31T03:42:23.715Z"
      },
      {
        "duration": 324,
        "start_time": "2022-08-31T03:45:46.841Z"
      },
      {
        "duration": 203,
        "start_time": "2022-08-31T03:51:12.765Z"
      },
      {
        "duration": 1002,
        "start_time": "2022-08-31T03:56:52.638Z"
      },
      {
        "duration": 188,
        "start_time": "2022-08-31T03:57:15.097Z"
      },
      {
        "duration": 19,
        "start_time": "2022-08-31T04:05:14.732Z"
      },
      {
        "duration": 1090,
        "start_time": "2022-08-31T04:05:17.198Z"
      },
      {
        "duration": 102,
        "start_time": "2022-08-31T04:07:44.627Z"
      },
      {
        "duration": 108,
        "start_time": "2022-08-31T04:07:54.687Z"
      },
      {
        "duration": 323,
        "start_time": "2022-08-31T04:08:08.724Z"
      },
      {
        "duration": 16,
        "start_time": "2022-08-31T04:14:45.223Z"
      },
      {
        "duration": 29,
        "start_time": "2022-08-31T04:14:51.008Z"
      },
      {
        "duration": 28,
        "start_time": "2022-08-31T04:15:06.056Z"
      },
      {
        "duration": 28,
        "start_time": "2022-08-31T04:15:15.380Z"
      },
      {
        "duration": 26,
        "start_time": "2022-08-31T04:15:22.846Z"
      },
      {
        "duration": 22,
        "start_time": "2022-08-31T04:15:53.407Z"
      },
      {
        "duration": 15,
        "start_time": "2022-08-31T04:29:58.423Z"
      },
      {
        "duration": 1251,
        "start_time": "2022-08-31T04:36:31.751Z"
      },
      {
        "duration": 694,
        "start_time": "2022-08-31T04:36:40.229Z"
      },
      {
        "duration": 9,
        "start_time": "2022-08-31T04:36:51.287Z"
      },
      {
        "duration": 1213,
        "start_time": "2022-08-31T04:36:54.432Z"
      },
      {
        "duration": 943,
        "start_time": "2022-08-31T04:37:14.452Z"
      },
      {
        "duration": 823,
        "start_time": "2022-08-31T04:37:28.785Z"
      },
      {
        "duration": 925,
        "start_time": "2022-08-31T04:37:53.956Z"
      },
      {
        "duration": 5,
        "start_time": "2022-08-31T04:37:57.316Z"
      },
      {
        "duration": 4,
        "start_time": "2022-08-31T04:38:04.048Z"
      },
      {
        "duration": 4,
        "start_time": "2022-08-31T04:38:07.209Z"
      },
      {
        "duration": 4,
        "start_time": "2022-08-31T04:38:09.746Z"
      },
      {
        "duration": 27,
        "start_time": "2022-08-31T04:39:29.295Z"
      },
      {
        "duration": 19,
        "start_time": "2022-08-31T04:39:41.888Z"
      },
      {
        "duration": 22,
        "start_time": "2022-08-31T04:40:00.293Z"
      },
      {
        "duration": 52,
        "start_time": "2022-08-31T04:40:26.229Z"
      },
      {
        "duration": 875,
        "start_time": "2022-08-31T04:40:35.018Z"
      },
      {
        "duration": 5,
        "start_time": "2022-08-31T04:42:27.866Z"
      },
      {
        "duration": 7,
        "start_time": "2022-08-31T04:42:39.980Z"
      },
      {
        "duration": 19,
        "start_time": "2022-08-31T04:43:38.484Z"
      },
      {
        "duration": 26,
        "start_time": "2022-08-31T04:43:55.585Z"
      },
      {
        "duration": 25,
        "start_time": "2022-08-31T04:44:20.094Z"
      },
      {
        "duration": 32,
        "start_time": "2022-08-31T04:44:52.036Z"
      },
      {
        "duration": 26,
        "start_time": "2022-08-31T04:45:06.300Z"
      },
      {
        "duration": 19,
        "start_time": "2022-08-31T04:46:08.383Z"
      },
      {
        "duration": 1044,
        "start_time": "2022-08-31T04:46:51.771Z"
      },
      {
        "duration": 21,
        "start_time": "2022-08-31T04:47:07.363Z"
      },
      {
        "duration": 969,
        "start_time": "2022-08-31T04:47:28.894Z"
      },
      {
        "duration": 30,
        "start_time": "2022-08-31T04:53:29.503Z"
      },
      {
        "duration": 23,
        "start_time": "2022-08-31T04:55:37.813Z"
      },
      {
        "duration": 52,
        "start_time": "2022-08-31T04:59:07.442Z"
      },
      {
        "duration": 968,
        "start_time": "2022-08-31T04:59:13.919Z"
      },
      {
        "duration": 844,
        "start_time": "2022-08-31T04:59:34.558Z"
      },
      {
        "duration": 711,
        "start_time": "2022-08-31T04:59:55.354Z"
      },
      {
        "duration": 14,
        "start_time": "2022-08-31T05:00:25.634Z"
      },
      {
        "duration": 19,
        "start_time": "2022-08-31T05:00:32.749Z"
      },
      {
        "duration": 15,
        "start_time": "2022-08-31T05:00:36.051Z"
      },
      {
        "duration": 22,
        "start_time": "2022-08-31T05:01:12.526Z"
      },
      {
        "duration": 9554,
        "start_time": "2022-08-31T05:01:18.776Z"
      },
      {
        "duration": 62,
        "start_time": "2022-08-31T05:02:26.138Z"
      },
      {
        "duration": 21,
        "start_time": "2022-08-31T05:02:34.426Z"
      },
      {
        "duration": 7904,
        "start_time": "2022-08-31T05:03:07.557Z"
      },
      {
        "duration": 13,
        "start_time": "2022-08-31T05:06:20.043Z"
      },
      {
        "duration": 9,
        "start_time": "2022-08-31T05:13:19.370Z"
      },
      {
        "duration": 1295,
        "start_time": "2022-08-31T05:13:30.216Z"
      },
      {
        "duration": 47,
        "start_time": "2022-08-31T05:13:31.514Z"
      },
      {
        "duration": 23,
        "start_time": "2022-08-31T05:13:31.563Z"
      },
      {
        "duration": 13,
        "start_time": "2022-08-31T05:13:31.588Z"
      },
      {
        "duration": 22,
        "start_time": "2022-08-31T05:13:31.603Z"
      },
      {
        "duration": 26,
        "start_time": "2022-08-31T05:13:31.626Z"
      },
      {
        "duration": 31,
        "start_time": "2022-08-31T05:13:31.654Z"
      },
      {
        "duration": 12,
        "start_time": "2022-08-31T05:13:31.687Z"
      },
      {
        "duration": 11,
        "start_time": "2022-08-31T05:13:31.701Z"
      },
      {
        "duration": 12,
        "start_time": "2022-08-31T05:13:31.714Z"
      },
      {
        "duration": 16,
        "start_time": "2022-08-31T05:13:31.728Z"
      },
      {
        "duration": 39,
        "start_time": "2022-08-31T05:13:31.746Z"
      },
      {
        "duration": 7,
        "start_time": "2022-08-31T05:13:31.787Z"
      },
      {
        "duration": 21,
        "start_time": "2022-08-31T05:13:31.795Z"
      },
      {
        "duration": 15,
        "start_time": "2022-08-31T05:13:31.818Z"
      },
      {
        "duration": 12,
        "start_time": "2022-08-31T05:13:31.834Z"
      },
      {
        "duration": 6,
        "start_time": "2022-08-31T05:13:31.848Z"
      },
      {
        "duration": 11,
        "start_time": "2022-08-31T05:13:31.856Z"
      },
      {
        "duration": 18,
        "start_time": "2022-08-31T05:13:31.869Z"
      },
      {
        "duration": 3344,
        "start_time": "2022-08-31T05:13:31.889Z"
      },
      {
        "duration": 7,
        "start_time": "2022-08-31T05:13:35.235Z"
      },
      {
        "duration": 21,
        "start_time": "2022-08-31T05:13:35.244Z"
      },
      {
        "duration": 275,
        "start_time": "2022-08-31T05:13:35.267Z"
      },
      {
        "duration": 9,
        "start_time": "2022-08-31T05:13:35.544Z"
      },
      {
        "duration": 222,
        "start_time": "2022-08-31T05:13:35.555Z"
      },
      {
        "duration": 8,
        "start_time": "2022-08-31T05:13:35.779Z"
      },
      {
        "duration": 187,
        "start_time": "2022-08-31T05:13:35.789Z"
      },
      {
        "duration": 7,
        "start_time": "2022-08-31T05:13:35.980Z"
      },
      {
        "duration": 8,
        "start_time": "2022-08-31T05:13:35.989Z"
      },
      {
        "duration": 6,
        "start_time": "2022-08-31T05:13:35.998Z"
      },
      {
        "duration": 9,
        "start_time": "2022-08-31T05:13:36.006Z"
      },
      {
        "duration": 9,
        "start_time": "2022-08-31T05:13:36.017Z"
      },
      {
        "duration": 6,
        "start_time": "2022-08-31T05:13:36.027Z"
      },
      {
        "duration": 8,
        "start_time": "2022-08-31T05:13:36.035Z"
      },
      {
        "duration": 41,
        "start_time": "2022-08-31T05:13:36.045Z"
      },
      {
        "duration": 9,
        "start_time": "2022-08-31T05:13:36.087Z"
      },
      {
        "duration": 15,
        "start_time": "2022-08-31T05:13:36.098Z"
      },
      {
        "duration": 43,
        "start_time": "2022-08-31T05:13:36.115Z"
      },
      {
        "duration": 35,
        "start_time": "2022-08-31T05:13:36.159Z"
      },
      {
        "duration": 16,
        "start_time": "2022-08-31T05:13:36.196Z"
      },
      {
        "duration": 14,
        "start_time": "2022-08-31T05:13:36.213Z"
      },
      {
        "duration": 59,
        "start_time": "2022-08-31T05:13:36.228Z"
      },
      {
        "duration": 9,
        "start_time": "2022-08-31T05:13:36.288Z"
      },
      {
        "duration": 6,
        "start_time": "2022-08-31T05:13:36.299Z"
      },
      {
        "duration": 9,
        "start_time": "2022-08-31T05:13:36.307Z"
      },
      {
        "duration": 20,
        "start_time": "2022-08-31T05:13:36.317Z"
      },
      {
        "duration": 14,
        "start_time": "2022-08-31T05:13:36.338Z"
      },
      {
        "duration": 19,
        "start_time": "2022-08-31T05:13:36.354Z"
      },
      {
        "duration": 27,
        "start_time": "2022-08-31T05:13:36.375Z"
      },
      {
        "duration": 177,
        "start_time": "2022-08-31T05:13:36.403Z"
      },
      {
        "duration": 4,
        "start_time": "2022-08-31T05:13:36.584Z"
      },
      {
        "duration": 15,
        "start_time": "2022-08-31T05:13:36.589Z"
      },
      {
        "duration": 180,
        "start_time": "2022-08-31T05:13:36.605Z"
      },
      {
        "duration": 342,
        "start_time": "2022-08-31T05:13:36.787Z"
      },
      {
        "duration": 356,
        "start_time": "2022-08-31T05:13:37.131Z"
      },
      {
        "duration": 23,
        "start_time": "2022-08-31T05:13:37.489Z"
      },
      {
        "duration": 133,
        "start_time": "2022-08-31T05:13:37.513Z"
      },
      {
        "duration": 0,
        "start_time": "2022-08-31T05:13:37.647Z"
      },
      {
        "duration": 0,
        "start_time": "2022-08-31T05:13:37.649Z"
      },
      {
        "duration": 0,
        "start_time": "2022-08-31T05:13:37.650Z"
      },
      {
        "duration": 0,
        "start_time": "2022-08-31T05:13:37.651Z"
      },
      {
        "duration": 0,
        "start_time": "2022-08-31T05:13:37.652Z"
      },
      {
        "duration": 0,
        "start_time": "2022-08-31T05:13:37.653Z"
      },
      {
        "duration": 0,
        "start_time": "2022-08-31T05:13:37.655Z"
      },
      {
        "duration": 0,
        "start_time": "2022-08-31T05:13:37.656Z"
      },
      {
        "duration": 0,
        "start_time": "2022-08-31T05:13:37.657Z"
      },
      {
        "duration": 0,
        "start_time": "2022-08-31T05:13:37.658Z"
      },
      {
        "duration": 0,
        "start_time": "2022-08-31T05:13:37.659Z"
      },
      {
        "duration": 0,
        "start_time": "2022-08-31T05:13:37.660Z"
      },
      {
        "duration": 0,
        "start_time": "2022-08-31T05:13:37.661Z"
      },
      {
        "duration": 0,
        "start_time": "2022-08-31T05:13:37.663Z"
      },
      {
        "duration": 0,
        "start_time": "2022-08-31T05:13:37.664Z"
      },
      {
        "duration": 0,
        "start_time": "2022-08-31T05:13:37.665Z"
      },
      {
        "duration": 0,
        "start_time": "2022-08-31T05:13:37.666Z"
      },
      {
        "duration": 0,
        "start_time": "2022-08-31T05:13:37.667Z"
      },
      {
        "duration": 0,
        "start_time": "2022-08-31T05:13:37.668Z"
      },
      {
        "duration": 0,
        "start_time": "2022-08-31T05:13:37.669Z"
      },
      {
        "duration": 0,
        "start_time": "2022-08-31T05:13:37.670Z"
      },
      {
        "duration": 0,
        "start_time": "2022-08-31T05:13:37.671Z"
      },
      {
        "duration": 0,
        "start_time": "2022-08-31T05:13:37.672Z"
      },
      {
        "duration": 0,
        "start_time": "2022-08-31T05:13:37.673Z"
      },
      {
        "duration": 0,
        "start_time": "2022-08-31T05:13:37.675Z"
      },
      {
        "duration": 0,
        "start_time": "2022-08-31T05:13:37.676Z"
      },
      {
        "duration": 17,
        "start_time": "2022-08-31T05:13:48.887Z"
      },
      {
        "duration": 112,
        "start_time": "2022-08-31T05:13:51.624Z"
      },
      {
        "duration": 5,
        "start_time": "2022-08-31T05:16:55.114Z"
      },
      {
        "duration": 35808,
        "start_time": "2022-08-31T05:16:58.878Z"
      },
      {
        "duration": 23,
        "start_time": "2022-08-31T05:18:15.638Z"
      },
      {
        "duration": 9,
        "start_time": "2022-08-31T05:18:31.237Z"
      },
      {
        "duration": 8,
        "start_time": "2022-08-31T05:20:15.883Z"
      },
      {
        "duration": 13150,
        "start_time": "2022-08-31T05:20:33.960Z"
      },
      {
        "duration": 6,
        "start_time": "2022-08-31T05:20:56.881Z"
      },
      {
        "duration": 17,
        "start_time": "2022-08-31T05:21:43.240Z"
      },
      {
        "duration": 30,
        "start_time": "2022-08-31T05:22:03.520Z"
      },
      {
        "duration": 17,
        "start_time": "2022-08-31T05:22:27.527Z"
      },
      {
        "duration": 12,
        "start_time": "2022-08-31T05:22:45.351Z"
      },
      {
        "duration": 599,
        "start_time": "2022-08-31T05:23:18.976Z"
      },
      {
        "duration": 21,
        "start_time": "2022-08-31T05:24:37.417Z"
      },
      {
        "duration": 1293,
        "start_time": "2022-08-31T05:26:00.936Z"
      },
      {
        "duration": 44,
        "start_time": "2022-08-31T05:26:02.231Z"
      },
      {
        "duration": 18,
        "start_time": "2022-08-31T05:26:02.286Z"
      },
      {
        "duration": 34,
        "start_time": "2022-08-31T05:26:02.306Z"
      },
      {
        "duration": 41,
        "start_time": "2022-08-31T05:26:02.342Z"
      },
      {
        "duration": 27,
        "start_time": "2022-08-31T05:26:02.385Z"
      },
      {
        "duration": 14,
        "start_time": "2022-08-31T05:26:02.415Z"
      },
      {
        "duration": 33,
        "start_time": "2022-08-31T05:26:02.431Z"
      },
      {
        "duration": 27,
        "start_time": "2022-08-31T05:26:02.466Z"
      },
      {
        "duration": 32,
        "start_time": "2022-08-31T05:26:02.495Z"
      },
      {
        "duration": 31,
        "start_time": "2022-08-31T05:26:02.529Z"
      },
      {
        "duration": 37,
        "start_time": "2022-08-31T05:26:02.562Z"
      },
      {
        "duration": 10,
        "start_time": "2022-08-31T05:26:02.601Z"
      },
      {
        "duration": 21,
        "start_time": "2022-08-31T05:26:02.613Z"
      },
      {
        "duration": 30,
        "start_time": "2022-08-31T05:26:02.636Z"
      },
      {
        "duration": 50,
        "start_time": "2022-08-31T05:26:02.668Z"
      },
      {
        "duration": 47,
        "start_time": "2022-08-31T05:26:02.719Z"
      },
      {
        "duration": 62,
        "start_time": "2022-08-31T05:26:02.768Z"
      },
      {
        "duration": 23,
        "start_time": "2022-08-31T05:26:02.831Z"
      },
      {
        "duration": 3314,
        "start_time": "2022-08-31T05:26:02.856Z"
      },
      {
        "duration": 6,
        "start_time": "2022-08-31T05:26:06.172Z"
      },
      {
        "duration": 17,
        "start_time": "2022-08-31T05:26:06.184Z"
      },
      {
        "duration": 268,
        "start_time": "2022-08-31T05:26:06.203Z"
      },
      {
        "duration": 14,
        "start_time": "2022-08-31T05:26:06.473Z"
      },
      {
        "duration": 217,
        "start_time": "2022-08-31T05:26:06.489Z"
      },
      {
        "duration": 4,
        "start_time": "2022-08-31T05:26:06.707Z"
      },
      {
        "duration": 197,
        "start_time": "2022-08-31T05:26:06.713Z"
      },
      {
        "duration": 9,
        "start_time": "2022-08-31T05:26:06.916Z"
      },
      {
        "duration": 5,
        "start_time": "2022-08-31T05:26:06.927Z"
      },
      {
        "duration": 8,
        "start_time": "2022-08-31T05:26:06.934Z"
      },
      {
        "duration": 13,
        "start_time": "2022-08-31T05:26:06.944Z"
      },
      {
        "duration": 31,
        "start_time": "2022-08-31T05:26:06.959Z"
      },
      {
        "duration": 7,
        "start_time": "2022-08-31T05:26:06.992Z"
      },
      {
        "duration": 13,
        "start_time": "2022-08-31T05:26:07.000Z"
      },
      {
        "duration": 20,
        "start_time": "2022-08-31T05:26:07.015Z"
      },
      {
        "duration": 14,
        "start_time": "2022-08-31T05:26:07.037Z"
      },
      {
        "duration": 12,
        "start_time": "2022-08-31T05:26:07.053Z"
      },
      {
        "duration": 45,
        "start_time": "2022-08-31T05:26:07.084Z"
      },
      {
        "duration": 18,
        "start_time": "2022-08-31T05:26:07.131Z"
      },
      {
        "duration": 46,
        "start_time": "2022-08-31T05:26:07.150Z"
      },
      {
        "duration": 21,
        "start_time": "2022-08-31T05:26:07.198Z"
      },
      {
        "duration": 56,
        "start_time": "2022-08-31T05:26:07.221Z"
      },
      {
        "duration": 9,
        "start_time": "2022-08-31T05:26:07.279Z"
      },
      {
        "duration": 7,
        "start_time": "2022-08-31T05:26:07.290Z"
      },
      {
        "duration": 12,
        "start_time": "2022-08-31T05:26:07.298Z"
      },
      {
        "duration": 11,
        "start_time": "2022-08-31T05:26:07.313Z"
      },
      {
        "duration": 18,
        "start_time": "2022-08-31T05:26:07.325Z"
      },
      {
        "duration": 22,
        "start_time": "2022-08-31T05:26:07.345Z"
      },
      {
        "duration": 38,
        "start_time": "2022-08-31T05:26:07.369Z"
      },
      {
        "duration": 188,
        "start_time": "2022-08-31T05:26:07.408Z"
      },
      {
        "duration": 4,
        "start_time": "2022-08-31T05:26:07.598Z"
      },
      {
        "duration": 16,
        "start_time": "2022-08-31T05:26:07.604Z"
      },
      {
        "duration": 339,
        "start_time": "2022-08-31T05:26:07.622Z"
      },
      {
        "duration": 191,
        "start_time": "2022-08-31T05:26:07.963Z"
      },
      {
        "duration": 332,
        "start_time": "2022-08-31T05:26:08.156Z"
      },
      {
        "duration": 20,
        "start_time": "2022-08-31T05:26:08.489Z"
      },
      {
        "duration": 4,
        "start_time": "2022-08-31T05:26:08.511Z"
      },
      {
        "duration": 12675,
        "start_time": "2022-08-31T05:26:08.517Z"
      },
      {
        "duration": 627,
        "start_time": "2022-08-31T05:26:21.194Z"
      },
      {
        "duration": 3,
        "start_time": "2022-08-31T05:26:21.823Z"
      },
      {
        "duration": 8,
        "start_time": "2022-08-31T05:26:21.827Z"
      },
      {
        "duration": 6,
        "start_time": "2022-08-31T05:26:21.836Z"
      },
      {
        "duration": 5,
        "start_time": "2022-08-31T05:26:21.844Z"
      },
      {
        "duration": 7,
        "start_time": "2022-08-31T05:26:21.850Z"
      },
      {
        "duration": 6,
        "start_time": "2022-08-31T05:26:21.859Z"
      },
      {
        "duration": 8,
        "start_time": "2022-08-31T05:26:21.866Z"
      },
      {
        "duration": 2,
        "start_time": "2022-08-31T05:26:21.886Z"
      },
      {
        "duration": 7,
        "start_time": "2022-08-31T05:26:21.890Z"
      },
      {
        "duration": 5,
        "start_time": "2022-08-31T05:26:21.899Z"
      },
      {
        "duration": 8,
        "start_time": "2022-08-31T05:26:21.906Z"
      },
      {
        "duration": 6,
        "start_time": "2022-08-31T05:26:21.916Z"
      },
      {
        "duration": 7,
        "start_time": "2022-08-31T05:26:21.924Z"
      },
      {
        "duration": 9,
        "start_time": "2022-08-31T05:26:21.932Z"
      },
      {
        "duration": 15,
        "start_time": "2022-08-31T05:26:21.943Z"
      },
      {
        "duration": 6,
        "start_time": "2022-08-31T05:26:21.959Z"
      },
      {
        "duration": 9,
        "start_time": "2022-08-31T05:26:21.967Z"
      },
      {
        "duration": 9,
        "start_time": "2022-08-31T05:26:21.977Z"
      },
      {
        "duration": 8,
        "start_time": "2022-08-31T05:26:21.987Z"
      },
      {
        "duration": 6,
        "start_time": "2022-08-31T05:26:21.997Z"
      },
      {
        "duration": 6,
        "start_time": "2022-08-31T05:26:22.004Z"
      },
      {
        "duration": 10,
        "start_time": "2022-08-31T05:26:22.012Z"
      },
      {
        "duration": 10,
        "start_time": "2022-08-31T05:26:22.027Z"
      },
      {
        "duration": 8,
        "start_time": "2022-08-31T05:26:22.038Z"
      },
      {
        "duration": 16,
        "start_time": "2022-08-31T05:27:01.823Z"
      },
      {
        "duration": 21,
        "start_time": "2022-08-31T06:23:46.755Z"
      },
      {
        "duration": 22,
        "start_time": "2022-08-31T06:24:35.130Z"
      },
      {
        "duration": 22,
        "start_time": "2022-08-31T06:25:17.900Z"
      },
      {
        "duration": 147,
        "start_time": "2022-08-31T06:26:46.511Z"
      },
      {
        "duration": 240,
        "start_time": "2022-08-31T06:28:20.820Z"
      },
      {
        "duration": 101,
        "start_time": "2022-08-31T06:28:51.425Z"
      },
      {
        "duration": 125,
        "start_time": "2022-08-31T06:31:27.085Z"
      },
      {
        "duration": 646,
        "start_time": "2022-08-31T06:31:51.684Z"
      },
      {
        "duration": 401,
        "start_time": "2022-08-31T06:31:56.207Z"
      },
      {
        "duration": 158,
        "start_time": "2022-08-31T06:32:13.174Z"
      },
      {
        "duration": 194,
        "start_time": "2022-08-31T06:32:26.329Z"
      },
      {
        "duration": 118,
        "start_time": "2022-08-31T06:32:43.786Z"
      },
      {
        "duration": 192,
        "start_time": "2022-08-31T06:32:48.910Z"
      },
      {
        "duration": 4,
        "start_time": "2022-08-31T06:41:39.933Z"
      },
      {
        "duration": 8,
        "start_time": "2022-08-31T06:43:59.348Z"
      },
      {
        "duration": 10,
        "start_time": "2022-08-31T06:45:41.183Z"
      },
      {
        "duration": 4,
        "start_time": "2022-08-31T06:45:45.965Z"
      },
      {
        "duration": 17,
        "start_time": "2022-08-31T06:45:47.399Z"
      },
      {
        "duration": 3,
        "start_time": "2022-08-31T06:45:54.876Z"
      },
      {
        "duration": 16,
        "start_time": "2022-08-31T06:45:56.428Z"
      },
      {
        "duration": 19,
        "start_time": "2022-08-31T06:46:14.586Z"
      },
      {
        "duration": 250,
        "start_time": "2022-08-31T06:47:13.555Z"
      },
      {
        "duration": 186,
        "start_time": "2022-08-31T06:47:35.088Z"
      },
      {
        "duration": 145,
        "start_time": "2022-08-31T06:47:50.870Z"
      },
      {
        "duration": 230,
        "start_time": "2022-08-31T06:48:59.897Z"
      },
      {
        "duration": 177,
        "start_time": "2022-08-31T06:49:26.024Z"
      },
      {
        "duration": 157,
        "start_time": "2022-08-31T06:49:37.235Z"
      },
      {
        "duration": 3,
        "start_time": "2022-08-31T06:56:04.372Z"
      },
      {
        "duration": 18,
        "start_time": "2022-08-31T06:57:33.923Z"
      },
      {
        "duration": 19,
        "start_time": "2022-08-31T06:58:11.837Z"
      },
      {
        "duration": 20,
        "start_time": "2022-08-31T06:58:18.921Z"
      },
      {
        "duration": 26,
        "start_time": "2022-08-31T06:58:31.196Z"
      },
      {
        "duration": 24,
        "start_time": "2022-08-31T06:59:07.456Z"
      },
      {
        "duration": 23,
        "start_time": "2022-08-31T06:59:14.544Z"
      },
      {
        "duration": 241,
        "start_time": "2022-08-31T07:00:24.302Z"
      },
      {
        "duration": 4,
        "start_time": "2022-08-31T07:06:02.243Z"
      },
      {
        "duration": 285,
        "start_time": "2022-08-31T07:06:05.553Z"
      },
      {
        "duration": 95,
        "start_time": "2022-08-31T07:06:15.391Z"
      },
      {
        "duration": 76,
        "start_time": "2022-08-31T07:07:01.740Z"
      },
      {
        "duration": 82,
        "start_time": "2022-08-31T07:07:08.584Z"
      },
      {
        "duration": 4,
        "start_time": "2022-08-31T07:07:59.271Z"
      },
      {
        "duration": 2821,
        "start_time": "2022-08-31T07:08:01.678Z"
      },
      {
        "duration": 3,
        "start_time": "2022-08-31T07:08:38.251Z"
      },
      {
        "duration": 1488,
        "start_time": "2022-08-31T07:08:40.786Z"
      },
      {
        "duration": 4,
        "start_time": "2022-08-31T07:09:40.378Z"
      },
      {
        "duration": 156,
        "start_time": "2022-08-31T07:09:42.803Z"
      },
      {
        "duration": 100,
        "start_time": "2022-08-31T07:11:13.908Z"
      },
      {
        "duration": 14,
        "start_time": "2022-08-31T07:11:32.590Z"
      },
      {
        "duration": 10,
        "start_time": "2022-08-31T07:11:40.646Z"
      },
      {
        "duration": 9,
        "start_time": "2022-08-31T07:11:45.943Z"
      },
      {
        "duration": 19,
        "start_time": "2022-08-31T07:11:50.836Z"
      },
      {
        "duration": 4,
        "start_time": "2022-08-31T07:12:30.724Z"
      },
      {
        "duration": 140,
        "start_time": "2022-08-31T07:12:32.872Z"
      },
      {
        "duration": 4,
        "start_time": "2022-08-31T07:14:06.801Z"
      },
      {
        "duration": 137,
        "start_time": "2022-08-31T07:14:09.978Z"
      },
      {
        "duration": 37273,
        "start_time": "2022-08-31T07:17:16.010Z"
      },
      {
        "duration": 23058,
        "start_time": "2022-08-31T07:19:02.855Z"
      },
      {
        "duration": 293,
        "start_time": "2022-08-31T07:20:03.777Z"
      },
      {
        "duration": 17,
        "start_time": "2022-08-31T07:20:29.930Z"
      },
      {
        "duration": 1308,
        "start_time": "2022-08-31T07:24:33.501Z"
      },
      {
        "duration": 42,
        "start_time": "2022-08-31T07:24:34.811Z"
      },
      {
        "duration": 16,
        "start_time": "2022-08-31T07:24:34.854Z"
      },
      {
        "duration": 10,
        "start_time": "2022-08-31T07:24:34.886Z"
      },
      {
        "duration": 24,
        "start_time": "2022-08-31T07:24:34.898Z"
      },
      {
        "duration": 21,
        "start_time": "2022-08-31T07:24:34.924Z"
      },
      {
        "duration": 4,
        "start_time": "2022-08-31T07:24:34.946Z"
      },
      {
        "duration": 33,
        "start_time": "2022-08-31T07:24:34.952Z"
      },
      {
        "duration": 6,
        "start_time": "2022-08-31T07:24:34.987Z"
      },
      {
        "duration": 11,
        "start_time": "2022-08-31T07:24:34.996Z"
      },
      {
        "duration": 11,
        "start_time": "2022-08-31T07:24:35.008Z"
      },
      {
        "duration": 32,
        "start_time": "2022-08-31T07:24:35.021Z"
      },
      {
        "duration": 7,
        "start_time": "2022-08-31T07:24:35.056Z"
      },
      {
        "duration": 26,
        "start_time": "2022-08-31T07:24:35.065Z"
      },
      {
        "duration": 16,
        "start_time": "2022-08-31T07:24:35.092Z"
      },
      {
        "duration": 10,
        "start_time": "2022-08-31T07:24:35.110Z"
      },
      {
        "duration": 9,
        "start_time": "2022-08-31T07:24:35.122Z"
      },
      {
        "duration": 11,
        "start_time": "2022-08-31T07:24:35.132Z"
      },
      {
        "duration": 8,
        "start_time": "2022-08-31T07:24:35.145Z"
      },
      {
        "duration": 3120,
        "start_time": "2022-08-31T07:24:35.156Z"
      },
      {
        "duration": 11,
        "start_time": "2022-08-31T07:24:38.278Z"
      },
      {
        "duration": 22,
        "start_time": "2022-08-31T07:24:38.290Z"
      },
      {
        "duration": 280,
        "start_time": "2022-08-31T07:24:38.314Z"
      },
      {
        "duration": 8,
        "start_time": "2022-08-31T07:24:38.596Z"
      },
      {
        "duration": 217,
        "start_time": "2022-08-31T07:24:38.605Z"
      },
      {
        "duration": 4,
        "start_time": "2022-08-31T07:24:38.824Z"
      },
      {
        "duration": 191,
        "start_time": "2022-08-31T07:24:38.830Z"
      },
      {
        "duration": 7,
        "start_time": "2022-08-31T07:24:39.025Z"
      },
      {
        "duration": 9,
        "start_time": "2022-08-31T07:24:39.033Z"
      },
      {
        "duration": 8,
        "start_time": "2022-08-31T07:24:39.044Z"
      },
      {
        "duration": 10,
        "start_time": "2022-08-31T07:24:39.053Z"
      },
      {
        "duration": 24,
        "start_time": "2022-08-31T07:24:39.064Z"
      },
      {
        "duration": 9,
        "start_time": "2022-08-31T07:24:39.090Z"
      },
      {
        "duration": 12,
        "start_time": "2022-08-31T07:24:39.101Z"
      },
      {
        "duration": 22,
        "start_time": "2022-08-31T07:24:39.114Z"
      },
      {
        "duration": 9,
        "start_time": "2022-08-31T07:24:39.138Z"
      },
      {
        "duration": 11,
        "start_time": "2022-08-31T07:24:39.149Z"
      },
      {
        "duration": 60,
        "start_time": "2022-08-31T07:24:39.162Z"
      },
      {
        "duration": 17,
        "start_time": "2022-08-31T07:24:39.224Z"
      },
      {
        "duration": 17,
        "start_time": "2022-08-31T07:24:39.242Z"
      },
      {
        "duration": 32,
        "start_time": "2022-08-31T07:24:39.260Z"
      },
      {
        "duration": 55,
        "start_time": "2022-08-31T07:24:39.294Z"
      },
      {
        "duration": 9,
        "start_time": "2022-08-31T07:24:39.351Z"
      },
      {
        "duration": 8,
        "start_time": "2022-08-31T07:24:39.362Z"
      },
      {
        "duration": 9,
        "start_time": "2022-08-31T07:24:39.372Z"
      },
      {
        "duration": 10,
        "start_time": "2022-08-31T07:24:39.383Z"
      },
      {
        "duration": 17,
        "start_time": "2022-08-31T07:24:39.395Z"
      },
      {
        "duration": 18,
        "start_time": "2022-08-31T07:24:39.413Z"
      },
      {
        "duration": 18,
        "start_time": "2022-08-31T07:24:39.433Z"
      },
      {
        "duration": 205,
        "start_time": "2022-08-31T07:24:39.453Z"
      },
      {
        "duration": 4,
        "start_time": "2022-08-31T07:24:39.660Z"
      },
      {
        "duration": 27,
        "start_time": "2022-08-31T07:24:39.665Z"
      },
      {
        "duration": 342,
        "start_time": "2022-08-31T07:24:39.694Z"
      },
      {
        "duration": 198,
        "start_time": "2022-08-31T07:24:40.038Z"
      },
      {
        "duration": 370,
        "start_time": "2022-08-31T07:24:40.238Z"
      },
      {
        "duration": 19,
        "start_time": "2022-08-31T07:24:40.610Z"
      },
      {
        "duration": 3,
        "start_time": "2022-08-31T07:24:40.631Z"
      },
      {
        "duration": 12647,
        "start_time": "2022-08-31T07:24:40.636Z"
      },
      {
        "duration": 620,
        "start_time": "2022-08-31T07:24:53.285Z"
      },
      {
        "duration": 3,
        "start_time": "2022-08-31T07:24:53.906Z"
      },
      {
        "duration": 15,
        "start_time": "2022-08-31T07:24:53.910Z"
      },
      {
        "duration": 26,
        "start_time": "2022-08-31T07:24:53.926Z"
      },
      {
        "duration": 21,
        "start_time": "2022-08-31T07:24:53.955Z"
      },
      {
        "duration": 25,
        "start_time": "2022-08-31T07:24:53.985Z"
      },
      {
        "duration": 181,
        "start_time": "2022-08-31T07:24:54.012Z"
      },
      {
        "duration": 161,
        "start_time": "2022-08-31T07:24:54.195Z"
      },
      {
        "duration": 8,
        "start_time": "2022-08-31T07:24:54.358Z"
      },
      {
        "duration": 18,
        "start_time": "2022-08-31T07:24:54.367Z"
      },
      {
        "duration": 31,
        "start_time": "2022-08-31T07:24:54.387Z"
      },
      {
        "duration": 26,
        "start_time": "2022-08-31T07:24:54.420Z"
      },
      {
        "duration": 212,
        "start_time": "2022-08-31T07:24:54.448Z"
      },
      {
        "duration": 212,
        "start_time": "2022-08-31T07:24:54.661Z"
      },
      {
        "duration": 11,
        "start_time": "2022-08-31T07:24:54.874Z"
      },
      {
        "duration": 8,
        "start_time": "2022-08-31T07:24:54.887Z"
      },
      {
        "duration": 9,
        "start_time": "2022-08-31T07:24:54.896Z"
      },
      {
        "duration": 23090,
        "start_time": "2022-08-31T07:24:54.906Z"
      },
      {
        "duration": 564,
        "start_time": "2022-08-31T07:25:17.998Z"
      },
      {
        "duration": 2,
        "start_time": "2022-08-31T07:25:18.564Z"
      },
      {
        "duration": 29,
        "start_time": "2022-08-31T07:25:18.568Z"
      },
      {
        "duration": 5,
        "start_time": "2022-08-31T07:25:18.599Z"
      },
      {
        "duration": 11,
        "start_time": "2022-08-31T07:25:18.606Z"
      },
      {
        "duration": 6,
        "start_time": "2022-08-31T07:25:18.624Z"
      },
      {
        "duration": 15,
        "start_time": "2022-08-31T07:25:18.632Z"
      },
      {
        "duration": 11,
        "start_time": "2022-08-31T07:25:18.650Z"
      },
      {
        "duration": 8,
        "start_time": "2022-08-31T07:25:18.662Z"
      },
      {
        "duration": 5,
        "start_time": "2022-08-31T07:25:18.672Z"
      },
      {
        "duration": 13,
        "start_time": "2022-08-31T07:25:18.678Z"
      },
      {
        "duration": 5,
        "start_time": "2022-08-31T07:25:18.693Z"
      },
      {
        "duration": 5,
        "start_time": "2022-08-31T07:25:18.700Z"
      },
      {
        "duration": 6,
        "start_time": "2022-08-31T07:25:18.706Z"
      },
      {
        "duration": 6,
        "start_time": "2022-08-31T07:25:18.713Z"
      },
      {
        "duration": 8,
        "start_time": "2022-08-31T07:25:18.720Z"
      },
      {
        "duration": 16,
        "start_time": "2022-08-31T07:26:00.182Z"
      },
      {
        "duration": 9,
        "start_time": "2022-08-31T07:26:18.980Z"
      },
      {
        "duration": 7,
        "start_time": "2022-08-31T07:28:52.709Z"
      },
      {
        "duration": 6,
        "start_time": "2022-08-31T07:29:41.200Z"
      },
      {
        "duration": 5,
        "start_time": "2022-08-31T07:29:49.802Z"
      },
      {
        "duration": 8,
        "start_time": "2022-08-31T07:29:57.059Z"
      },
      {
        "duration": 8,
        "start_time": "2022-08-31T07:30:09.719Z"
      },
      {
        "duration": 3,
        "start_time": "2022-08-31T07:34:54.546Z"
      },
      {
        "duration": 3,
        "start_time": "2022-08-31T07:49:17.535Z"
      },
      {
        "duration": 489,
        "start_time": "2022-08-31T07:49:24.893Z"
      },
      {
        "duration": 5,
        "start_time": "2022-08-31T07:49:48.524Z"
      },
      {
        "duration": 876,
        "start_time": "2022-08-31T07:49:50.579Z"
      },
      {
        "duration": 4,
        "start_time": "2022-08-31T07:51:05.607Z"
      },
      {
        "duration": 30,
        "start_time": "2022-08-31T07:51:07.223Z"
      },
      {
        "duration": 13,
        "start_time": "2022-08-31T07:51:46.443Z"
      },
      {
        "duration": 44,
        "start_time": "2022-08-31T07:55:32.652Z"
      },
      {
        "duration": 8,
        "start_time": "2022-08-31T07:57:33.767Z"
      },
      {
        "duration": 15,
        "start_time": "2022-08-31T07:57:46.502Z"
      },
      {
        "duration": 16,
        "start_time": "2022-08-31T07:58:06.914Z"
      },
      {
        "duration": 15,
        "start_time": "2022-08-31T07:58:13.517Z"
      },
      {
        "duration": 23,
        "start_time": "2022-08-31T07:58:16.965Z"
      },
      {
        "duration": 103,
        "start_time": "2022-08-31T07:59:04.853Z"
      },
      {
        "duration": 9,
        "start_time": "2022-08-31T07:59:23.230Z"
      },
      {
        "duration": 99,
        "start_time": "2022-08-31T07:59:47.855Z"
      },
      {
        "duration": 101,
        "start_time": "2022-08-31T07:59:54.033Z"
      },
      {
        "duration": 256,
        "start_time": "2022-08-31T08:00:32.617Z"
      },
      {
        "duration": 18,
        "start_time": "2022-08-31T08:00:39.388Z"
      },
      {
        "duration": 14,
        "start_time": "2022-08-31T08:01:16.303Z"
      },
      {
        "duration": 24,
        "start_time": "2022-08-31T08:01:19.959Z"
      },
      {
        "duration": 30,
        "start_time": "2022-08-31T08:01:56.107Z"
      },
      {
        "duration": 75,
        "start_time": "2022-08-31T08:03:33.629Z"
      },
      {
        "duration": 73,
        "start_time": "2022-08-31T08:03:45.140Z"
      },
      {
        "duration": 10,
        "start_time": "2022-08-31T08:05:17.772Z"
      },
      {
        "duration": 35,
        "start_time": "2022-08-31T08:05:29.497Z"
      },
      {
        "duration": 30,
        "start_time": "2022-08-31T08:06:32.159Z"
      },
      {
        "duration": 18,
        "start_time": "2022-08-31T08:07:08.634Z"
      },
      {
        "duration": 10,
        "start_time": "2022-08-31T08:07:21.093Z"
      },
      {
        "duration": 11,
        "start_time": "2022-08-31T08:07:35.777Z"
      },
      {
        "duration": 16,
        "start_time": "2022-08-31T08:07:56.801Z"
      },
      {
        "duration": 20,
        "start_time": "2022-08-31T08:08:07.035Z"
      },
      {
        "duration": 31,
        "start_time": "2022-08-31T08:08:21.483Z"
      },
      {
        "duration": 94,
        "start_time": "2022-08-31T08:08:54.865Z"
      },
      {
        "duration": 26,
        "start_time": "2022-08-31T08:08:58.786Z"
      },
      {
        "duration": 31,
        "start_time": "2022-08-31T08:09:29.517Z"
      },
      {
        "duration": 41,
        "start_time": "2022-08-31T08:11:05.851Z"
      },
      {
        "duration": 9,
        "start_time": "2022-08-31T08:12:09.315Z"
      },
      {
        "duration": 18,
        "start_time": "2022-08-31T08:12:13.902Z"
      },
      {
        "duration": 6,
        "start_time": "2022-08-31T08:13:59.682Z"
      },
      {
        "duration": 5,
        "start_time": "2022-08-31T08:23:57.194Z"
      },
      {
        "duration": 15,
        "start_time": "2022-08-31T08:24:03.515Z"
      },
      {
        "duration": 15,
        "start_time": "2022-08-31T08:24:43.928Z"
      },
      {
        "duration": 12,
        "start_time": "2022-08-31T08:24:49.188Z"
      },
      {
        "duration": 24,
        "start_time": "2022-08-31T08:25:00.954Z"
      },
      {
        "duration": 6,
        "start_time": "2022-08-31T08:25:44.101Z"
      },
      {
        "duration": 6,
        "start_time": "2022-08-31T08:25:47.346Z"
      },
      {
        "duration": 598,
        "start_time": "2022-08-31T08:26:06.737Z"
      },
      {
        "duration": 584,
        "start_time": "2022-08-31T08:26:44.816Z"
      },
      {
        "duration": 12,
        "start_time": "2022-08-31T08:27:28.954Z"
      },
      {
        "duration": 11,
        "start_time": "2022-08-31T08:28:03.964Z"
      },
      {
        "duration": 26,
        "start_time": "2022-08-31T08:28:12.879Z"
      },
      {
        "duration": 26,
        "start_time": "2022-08-31T08:28:23.444Z"
      },
      {
        "duration": 23,
        "start_time": "2022-08-31T08:28:37.533Z"
      },
      {
        "duration": 14,
        "start_time": "2022-08-31T08:30:32.874Z"
      },
      {
        "duration": 23,
        "start_time": "2022-08-31T08:30:53.556Z"
      },
      {
        "duration": 22,
        "start_time": "2022-08-31T08:32:15.384Z"
      },
      {
        "duration": 27,
        "start_time": "2022-08-31T08:32:24.496Z"
      },
      {
        "duration": 29,
        "start_time": "2022-08-31T08:34:31.629Z"
      },
      {
        "duration": 15,
        "start_time": "2022-08-31T08:34:44.206Z"
      },
      {
        "duration": 821,
        "start_time": "2022-08-31T10:06:46.297Z"
      },
      {
        "duration": 6,
        "start_time": "2022-08-31T10:07:06.720Z"
      },
      {
        "duration": 6,
        "start_time": "2022-08-31T10:07:12.021Z"
      },
      {
        "duration": 15,
        "start_time": "2022-08-31T10:11:32.307Z"
      },
      {
        "duration": 4,
        "start_time": "2022-08-31T10:14:04.437Z"
      },
      {
        "duration": 45913,
        "start_time": "2022-08-31T10:15:36.546Z"
      },
      {
        "duration": 3,
        "start_time": "2022-08-31T10:16:45.042Z"
      },
      {
        "duration": 5107,
        "start_time": "2022-08-31T10:16:49.660Z"
      },
      {
        "duration": 20,
        "start_time": "2022-08-31T10:17:09.378Z"
      },
      {
        "duration": 16,
        "start_time": "2022-08-31T10:17:13.263Z"
      },
      {
        "duration": 41,
        "start_time": "2022-08-31T10:17:46.889Z"
      },
      {
        "duration": 32,
        "start_time": "2022-08-31T10:18:09.141Z"
      },
      {
        "duration": 43,
        "start_time": "2022-08-31T10:18:17.182Z"
      },
      {
        "duration": 29,
        "start_time": "2022-08-31T10:18:20.614Z"
      },
      {
        "duration": 23,
        "start_time": "2022-08-31T10:18:38.212Z"
      },
      {
        "duration": 1149,
        "start_time": "2022-08-31T10:18:49.499Z"
      },
      {
        "duration": 6,
        "start_time": "2022-08-31T10:18:53.111Z"
      },
      {
        "duration": 23934,
        "start_time": "2022-08-31T10:19:07.999Z"
      },
      {
        "duration": 4,
        "start_time": "2022-08-31T10:20:08.976Z"
      },
      {
        "duration": 35,
        "start_time": "2022-08-31T10:20:14.381Z"
      },
      {
        "duration": 31,
        "start_time": "2022-08-31T10:20:16.870Z"
      },
      {
        "duration": 22,
        "start_time": "2022-08-31T10:20:21.847Z"
      },
      {
        "duration": 22,
        "start_time": "2022-08-31T10:20:26.638Z"
      },
      {
        "duration": 1248,
        "start_time": "2022-08-31T10:22:27.661Z"
      },
      {
        "duration": 42,
        "start_time": "2022-08-31T10:22:28.910Z"
      },
      {
        "duration": 15,
        "start_time": "2022-08-31T10:22:28.953Z"
      },
      {
        "duration": 30,
        "start_time": "2022-08-31T10:22:28.970Z"
      },
      {
        "duration": 21,
        "start_time": "2022-08-31T10:22:29.002Z"
      },
      {
        "duration": 21,
        "start_time": "2022-08-31T10:22:29.024Z"
      },
      {
        "duration": 4,
        "start_time": "2022-08-31T10:22:29.047Z"
      },
      {
        "duration": 42,
        "start_time": "2022-08-31T10:22:29.053Z"
      },
      {
        "duration": 11,
        "start_time": "2022-08-31T10:22:29.097Z"
      },
      {
        "duration": 16,
        "start_time": "2022-08-31T10:22:29.111Z"
      },
      {
        "duration": 9,
        "start_time": "2022-08-31T10:22:29.129Z"
      },
      {
        "duration": 32,
        "start_time": "2022-08-31T10:22:29.139Z"
      },
      {
        "duration": 6,
        "start_time": "2022-08-31T10:22:29.172Z"
      },
      {
        "duration": 17,
        "start_time": "2022-08-31T10:22:29.179Z"
      },
      {
        "duration": 12,
        "start_time": "2022-08-31T10:22:29.198Z"
      },
      {
        "duration": 7,
        "start_time": "2022-08-31T10:22:29.212Z"
      },
      {
        "duration": 7,
        "start_time": "2022-08-31T10:22:29.221Z"
      },
      {
        "duration": 9,
        "start_time": "2022-08-31T10:22:29.230Z"
      },
      {
        "duration": 13,
        "start_time": "2022-08-31T10:22:29.241Z"
      },
      {
        "duration": 3234,
        "start_time": "2022-08-31T10:22:29.255Z"
      },
      {
        "duration": 7,
        "start_time": "2022-08-31T10:22:32.491Z"
      },
      {
        "duration": 20,
        "start_time": "2022-08-31T10:22:32.500Z"
      },
      {
        "duration": 293,
        "start_time": "2022-08-31T10:22:32.522Z"
      },
      {
        "duration": 10,
        "start_time": "2022-08-31T10:22:32.817Z"
      },
      {
        "duration": 244,
        "start_time": "2022-08-31T10:22:32.828Z"
      },
      {
        "duration": 22,
        "start_time": "2022-08-31T10:22:33.074Z"
      },
      {
        "duration": 205,
        "start_time": "2022-08-31T10:22:33.099Z"
      },
      {
        "duration": 7,
        "start_time": "2022-08-31T10:22:33.310Z"
      },
      {
        "duration": 16,
        "start_time": "2022-08-31T10:22:33.318Z"
      },
      {
        "duration": 14,
        "start_time": "2022-08-31T10:22:33.336Z"
      },
      {
        "duration": 15,
        "start_time": "2022-08-31T10:22:33.352Z"
      },
      {
        "duration": 15,
        "start_time": "2022-08-31T10:22:33.368Z"
      },
      {
        "duration": 36,
        "start_time": "2022-08-31T10:22:33.387Z"
      },
      {
        "duration": 12,
        "start_time": "2022-08-31T10:22:33.425Z"
      },
      {
        "duration": 25,
        "start_time": "2022-08-31T10:22:33.438Z"
      },
      {
        "duration": 15,
        "start_time": "2022-08-31T10:22:33.464Z"
      },
      {
        "duration": 21,
        "start_time": "2022-08-31T10:22:33.480Z"
      },
      {
        "duration": 69,
        "start_time": "2022-08-31T10:22:33.503Z"
      },
      {
        "duration": 23,
        "start_time": "2022-08-31T10:22:33.574Z"
      },
      {
        "duration": 31,
        "start_time": "2022-08-31T10:22:33.599Z"
      },
      {
        "duration": 15,
        "start_time": "2022-08-31T10:22:33.631Z"
      },
      {
        "duration": 60,
        "start_time": "2022-08-31T10:22:33.648Z"
      },
      {
        "duration": 9,
        "start_time": "2022-08-31T10:22:33.710Z"
      },
      {
        "duration": 7,
        "start_time": "2022-08-31T10:22:33.721Z"
      },
      {
        "duration": 11,
        "start_time": "2022-08-31T10:22:33.729Z"
      },
      {
        "duration": 11,
        "start_time": "2022-08-31T10:22:33.741Z"
      },
      {
        "duration": 17,
        "start_time": "2022-08-31T10:22:33.753Z"
      },
      {
        "duration": 29,
        "start_time": "2022-08-31T10:22:33.771Z"
      },
      {
        "duration": 19,
        "start_time": "2022-08-31T10:22:33.802Z"
      },
      {
        "duration": 200,
        "start_time": "2022-08-31T10:22:33.823Z"
      },
      {
        "duration": 4,
        "start_time": "2022-08-31T10:22:34.025Z"
      },
      {
        "duration": 22,
        "start_time": "2022-08-31T10:22:34.031Z"
      },
      {
        "duration": 367,
        "start_time": "2022-08-31T10:22:34.056Z"
      },
      {
        "duration": 257,
        "start_time": "2022-08-31T10:22:34.425Z"
      },
      {
        "duration": 359,
        "start_time": "2022-08-31T10:22:34.684Z"
      },
      {
        "duration": 20,
        "start_time": "2022-08-31T10:22:35.045Z"
      },
      {
        "duration": 39,
        "start_time": "2022-08-31T10:22:35.067Z"
      },
      {
        "duration": 13193,
        "start_time": "2022-08-31T10:22:35.108Z"
      },
      {
        "duration": 638,
        "start_time": "2022-08-31T10:22:48.303Z"
      },
      {
        "duration": 3,
        "start_time": "2022-08-31T10:22:48.942Z"
      },
      {
        "duration": 20,
        "start_time": "2022-08-31T10:22:48.946Z"
      },
      {
        "duration": 30,
        "start_time": "2022-08-31T10:22:48.968Z"
      },
      {
        "duration": 22,
        "start_time": "2022-08-31T10:22:49.000Z"
      },
      {
        "duration": 19,
        "start_time": "2022-08-31T10:22:49.023Z"
      },
      {
        "duration": 185,
        "start_time": "2022-08-31T10:22:49.043Z"
      },
      {
        "duration": 149,
        "start_time": "2022-08-31T10:22:49.230Z"
      },
      {
        "duration": 14,
        "start_time": "2022-08-31T10:22:49.385Z"
      },
      {
        "duration": 6,
        "start_time": "2022-08-31T10:22:49.401Z"
      },
      {
        "duration": 18,
        "start_time": "2022-08-31T10:22:49.409Z"
      },
      {
        "duration": 19,
        "start_time": "2022-08-31T10:22:49.429Z"
      },
      {
        "duration": 191,
        "start_time": "2022-08-31T10:22:49.450Z"
      },
      {
        "duration": 217,
        "start_time": "2022-08-31T10:22:49.643Z"
      },
      {
        "duration": 5,
        "start_time": "2022-08-31T10:22:49.862Z"
      },
      {
        "duration": 8,
        "start_time": "2022-08-31T10:22:49.869Z"
      },
      {
        "duration": 24,
        "start_time": "2022-08-31T10:22:49.879Z"
      },
      {
        "duration": 24591,
        "start_time": "2022-08-31T10:22:49.905Z"
      },
      {
        "duration": 520,
        "start_time": "2022-08-31T10:23:14.500Z"
      },
      {
        "duration": 17,
        "start_time": "2022-08-31T10:23:15.022Z"
      },
      {
        "duration": 20,
        "start_time": "2022-08-31T10:23:15.041Z"
      },
      {
        "duration": 35,
        "start_time": "2022-08-31T10:23:15.063Z"
      },
      {
        "duration": 11,
        "start_time": "2022-08-31T10:23:15.101Z"
      },
      {
        "duration": 3,
        "start_time": "2022-08-31T10:23:15.117Z"
      },
      {
        "duration": 15,
        "start_time": "2022-08-31T10:23:15.122Z"
      },
      {
        "duration": 28,
        "start_time": "2022-08-31T10:23:15.138Z"
      },
      {
        "duration": 32,
        "start_time": "2022-08-31T10:23:15.167Z"
      },
      {
        "duration": 4,
        "start_time": "2022-08-31T10:23:15.200Z"
      },
      {
        "duration": 1229,
        "start_time": "2022-08-31T10:25:32.686Z"
      },
      {
        "duration": 42,
        "start_time": "2022-08-31T10:25:33.917Z"
      },
      {
        "duration": 15,
        "start_time": "2022-08-31T10:25:33.960Z"
      },
      {
        "duration": 35,
        "start_time": "2022-08-31T10:25:33.977Z"
      },
      {
        "duration": 23,
        "start_time": "2022-08-31T10:25:34.016Z"
      },
      {
        "duration": 20,
        "start_time": "2022-08-31T10:25:34.041Z"
      },
      {
        "duration": 3,
        "start_time": "2022-08-31T10:25:34.063Z"
      },
      {
        "duration": 26,
        "start_time": "2022-08-31T10:25:34.068Z"
      },
      {
        "duration": 34,
        "start_time": "2022-08-31T10:25:34.095Z"
      },
      {
        "duration": 13,
        "start_time": "2022-08-31T10:25:34.132Z"
      },
      {
        "duration": 15,
        "start_time": "2022-08-31T10:25:34.147Z"
      },
      {
        "duration": 39,
        "start_time": "2022-08-31T10:25:34.164Z"
      },
      {
        "duration": 7,
        "start_time": "2022-08-31T10:25:34.204Z"
      },
      {
        "duration": 14,
        "start_time": "2022-08-31T10:25:34.213Z"
      },
      {
        "duration": 14,
        "start_time": "2022-08-31T10:25:34.229Z"
      },
      {
        "duration": 9,
        "start_time": "2022-08-31T10:25:34.246Z"
      },
      {
        "duration": 8,
        "start_time": "2022-08-31T10:25:34.257Z"
      },
      {
        "duration": 38,
        "start_time": "2022-08-31T10:25:34.267Z"
      },
      {
        "duration": 9,
        "start_time": "2022-08-31T10:25:34.307Z"
      },
      {
        "duration": 3345,
        "start_time": "2022-08-31T10:25:34.318Z"
      },
      {
        "duration": 6,
        "start_time": "2022-08-31T10:25:37.665Z"
      },
      {
        "duration": 30,
        "start_time": "2022-08-31T10:25:37.672Z"
      },
      {
        "duration": 286,
        "start_time": "2022-08-31T10:25:37.704Z"
      },
      {
        "duration": 9,
        "start_time": "2022-08-31T10:25:37.991Z"
      },
      {
        "duration": 238,
        "start_time": "2022-08-31T10:25:38.002Z"
      },
      {
        "duration": 5,
        "start_time": "2022-08-31T10:25:38.242Z"
      },
      {
        "duration": 205,
        "start_time": "2022-08-31T10:25:38.249Z"
      },
      {
        "duration": 6,
        "start_time": "2022-08-31T10:25:38.458Z"
      },
      {
        "duration": 6,
        "start_time": "2022-08-31T10:25:38.466Z"
      },
      {
        "duration": 23,
        "start_time": "2022-08-31T10:25:38.473Z"
      },
      {
        "duration": 11,
        "start_time": "2022-08-31T10:25:38.499Z"
      },
      {
        "duration": 27,
        "start_time": "2022-08-31T10:25:38.512Z"
      },
      {
        "duration": 8,
        "start_time": "2022-08-31T10:25:38.541Z"
      },
      {
        "duration": 9,
        "start_time": "2022-08-31T10:25:38.551Z"
      },
      {
        "duration": 21,
        "start_time": "2022-08-31T10:25:38.562Z"
      },
      {
        "duration": 26,
        "start_time": "2022-08-31T10:25:38.584Z"
      },
      {
        "duration": 10,
        "start_time": "2022-08-31T10:25:38.612Z"
      },
      {
        "duration": 47,
        "start_time": "2022-08-31T10:25:38.624Z"
      },
      {
        "duration": 22,
        "start_time": "2022-08-31T10:25:38.673Z"
      },
      {
        "duration": 23,
        "start_time": "2022-08-31T10:25:38.696Z"
      },
      {
        "duration": 15,
        "start_time": "2022-08-31T10:25:38.721Z"
      },
      {
        "duration": 64,
        "start_time": "2022-08-31T10:25:38.737Z"
      },
      {
        "duration": 9,
        "start_time": "2022-08-31T10:25:38.803Z"
      },
      {
        "duration": 8,
        "start_time": "2022-08-31T10:25:38.813Z"
      },
      {
        "duration": 16,
        "start_time": "2022-08-31T10:25:38.823Z"
      },
      {
        "duration": 12,
        "start_time": "2022-08-31T10:25:38.841Z"
      },
      {
        "duration": 21,
        "start_time": "2022-08-31T10:25:38.854Z"
      },
      {
        "duration": 22,
        "start_time": "2022-08-31T10:25:38.877Z"
      },
      {
        "duration": 28,
        "start_time": "2022-08-31T10:25:38.901Z"
      },
      {
        "duration": 189,
        "start_time": "2022-08-31T10:25:38.931Z"
      },
      {
        "duration": 4,
        "start_time": "2022-08-31T10:25:39.122Z"
      },
      {
        "duration": 14,
        "start_time": "2022-08-31T10:25:39.128Z"
      },
      {
        "duration": 374,
        "start_time": "2022-08-31T10:25:39.144Z"
      },
      {
        "duration": 189,
        "start_time": "2022-08-31T10:25:39.519Z"
      },
      {
        "duration": 342,
        "start_time": "2022-08-31T10:25:39.711Z"
      },
      {
        "duration": 38,
        "start_time": "2022-08-31T10:25:40.056Z"
      },
      {
        "duration": 4,
        "start_time": "2022-08-31T10:25:40.099Z"
      },
      {
        "duration": 12961,
        "start_time": "2022-08-31T10:25:40.105Z"
      },
      {
        "duration": 610,
        "start_time": "2022-08-31T10:25:53.067Z"
      },
      {
        "duration": 11,
        "start_time": "2022-08-31T10:25:53.679Z"
      },
      {
        "duration": 22,
        "start_time": "2022-08-31T10:25:53.693Z"
      },
      {
        "duration": 15,
        "start_time": "2022-08-31T10:25:53.717Z"
      },
      {
        "duration": 22,
        "start_time": "2022-08-31T10:25:53.733Z"
      },
      {
        "duration": 41,
        "start_time": "2022-08-31T10:25:53.756Z"
      },
      {
        "duration": 162,
        "start_time": "2022-08-31T10:25:53.799Z"
      },
      {
        "duration": 168,
        "start_time": "2022-08-31T10:25:53.962Z"
      },
      {
        "duration": 7,
        "start_time": "2022-08-31T10:25:54.132Z"
      },
      {
        "duration": 13,
        "start_time": "2022-08-31T10:25:54.141Z"
      },
      {
        "duration": 25,
        "start_time": "2022-08-31T10:25:54.156Z"
      },
      {
        "duration": 29,
        "start_time": "2022-08-31T10:25:54.183Z"
      },
      {
        "duration": 163,
        "start_time": "2022-08-31T10:25:54.214Z"
      },
      {
        "duration": 240,
        "start_time": "2022-08-31T10:25:54.379Z"
      },
      {
        "duration": 5,
        "start_time": "2022-08-31T10:25:54.621Z"
      },
      {
        "duration": 13,
        "start_time": "2022-08-31T10:25:54.628Z"
      },
      {
        "duration": 9,
        "start_time": "2022-08-31T10:25:54.644Z"
      },
      {
        "duration": 24207,
        "start_time": "2022-08-31T10:25:54.655Z"
      },
      {
        "duration": 501,
        "start_time": "2022-08-31T10:26:18.863Z"
      },
      {
        "duration": 31,
        "start_time": "2022-08-31T10:26:19.366Z"
      },
      {
        "duration": 26,
        "start_time": "2022-08-31T10:26:19.400Z"
      },
      {
        "duration": 12,
        "start_time": "2022-08-31T10:26:19.428Z"
      },
      {
        "duration": 13,
        "start_time": "2022-08-31T10:26:19.441Z"
      },
      {
        "duration": 16,
        "start_time": "2022-08-31T10:26:19.459Z"
      },
      {
        "duration": 26,
        "start_time": "2022-08-31T10:26:19.477Z"
      },
      {
        "duration": 35,
        "start_time": "2022-08-31T10:26:19.505Z"
      },
      {
        "duration": 7,
        "start_time": "2022-08-31T10:26:19.542Z"
      },
      {
        "duration": 5,
        "start_time": "2022-08-31T10:26:19.551Z"
      },
      {
        "duration": 137968,
        "start_time": "2022-08-31T10:26:19.558Z"
      },
      {
        "duration": 0,
        "start_time": "2022-08-31T10:28:37.527Z"
      },
      {
        "duration": 0,
        "start_time": "2022-08-31T10:28:37.528Z"
      },
      {
        "duration": 0,
        "start_time": "2022-08-31T10:28:37.529Z"
      },
      {
        "duration": 0,
        "start_time": "2022-08-31T10:28:37.530Z"
      },
      {
        "duration": 0,
        "start_time": "2022-08-31T10:28:37.531Z"
      },
      {
        "duration": 21,
        "start_time": "2022-08-31T10:29:29.607Z"
      },
      {
        "duration": 26,
        "start_time": "2022-08-31T10:29:41.396Z"
      },
      {
        "duration": 29,
        "start_time": "2022-08-31T10:30:06.574Z"
      },
      {
        "duration": 7,
        "start_time": "2022-08-31T10:30:09.816Z"
      },
      {
        "duration": 15,
        "start_time": "2022-08-31T10:30:20.032Z"
      },
      {
        "duration": 7,
        "start_time": "2022-08-31T10:31:02.123Z"
      },
      {
        "duration": 24,
        "start_time": "2022-08-31T10:31:53.525Z"
      },
      {
        "duration": 7,
        "start_time": "2022-08-31T10:31:55.234Z"
      },
      {
        "duration": 7,
        "start_time": "2022-08-31T10:31:56.908Z"
      },
      {
        "duration": 5,
        "start_time": "2022-08-31T10:34:53.810Z"
      },
      {
        "duration": 9,
        "start_time": "2022-08-31T10:34:55.129Z"
      },
      {
        "duration": 6,
        "start_time": "2022-08-31T10:34:57.055Z"
      },
      {
        "duration": 19,
        "start_time": "2022-08-31T10:37:09.245Z"
      },
      {
        "duration": 11,
        "start_time": "2022-08-31T10:38:47.104Z"
      },
      {
        "duration": 18,
        "start_time": "2022-08-31T10:38:50.419Z"
      },
      {
        "duration": 11,
        "start_time": "2022-08-31T10:39:02.427Z"
      },
      {
        "duration": 51,
        "start_time": "2022-08-31T10:39:24.326Z"
      },
      {
        "duration": 16,
        "start_time": "2022-08-31T10:39:29.784Z"
      },
      {
        "duration": 13,
        "start_time": "2022-08-31T10:43:10.289Z"
      },
      {
        "duration": 14,
        "start_time": "2022-08-31T10:43:25.338Z"
      },
      {
        "duration": 17,
        "start_time": "2022-08-31T10:44:00.457Z"
      },
      {
        "duration": 14,
        "start_time": "2022-08-31T10:44:35.639Z"
      },
      {
        "duration": 26,
        "start_time": "2022-08-31T10:52:02.159Z"
      },
      {
        "duration": 7,
        "start_time": "2022-08-31T10:52:03.072Z"
      },
      {
        "duration": 7,
        "start_time": "2022-08-31T10:52:03.865Z"
      },
      {
        "duration": 15,
        "start_time": "2022-08-31T10:55:28.694Z"
      },
      {
        "duration": 1192,
        "start_time": "2022-08-31T11:06:54.978Z"
      },
      {
        "duration": 46,
        "start_time": "2022-08-31T11:06:56.172Z"
      },
      {
        "duration": 15,
        "start_time": "2022-08-31T11:06:56.220Z"
      },
      {
        "duration": 11,
        "start_time": "2022-08-31T11:06:56.238Z"
      },
      {
        "duration": 43,
        "start_time": "2022-08-31T11:06:56.251Z"
      },
      {
        "duration": 21,
        "start_time": "2022-08-31T11:06:56.295Z"
      },
      {
        "duration": 3,
        "start_time": "2022-08-31T11:06:56.318Z"
      },
      {
        "duration": 21,
        "start_time": "2022-08-31T11:06:56.323Z"
      },
      {
        "duration": 17,
        "start_time": "2022-08-31T11:06:56.345Z"
      },
      {
        "duration": 17,
        "start_time": "2022-08-31T11:06:56.364Z"
      },
      {
        "duration": 38,
        "start_time": "2022-08-31T11:06:56.382Z"
      },
      {
        "duration": 36,
        "start_time": "2022-08-31T11:06:56.421Z"
      },
      {
        "duration": 7,
        "start_time": "2022-08-31T11:06:56.458Z"
      },
      {
        "duration": 32,
        "start_time": "2022-08-31T11:06:56.466Z"
      },
      {
        "duration": 11,
        "start_time": "2022-08-31T11:06:56.500Z"
      },
      {
        "duration": 17,
        "start_time": "2022-08-31T11:06:56.512Z"
      },
      {
        "duration": 24,
        "start_time": "2022-08-31T11:06:56.530Z"
      },
      {
        "duration": 10,
        "start_time": "2022-08-31T11:06:56.555Z"
      },
      {
        "duration": 12,
        "start_time": "2022-08-31T11:06:56.567Z"
      },
      {
        "duration": 3098,
        "start_time": "2022-08-31T11:06:56.580Z"
      },
      {
        "duration": 8,
        "start_time": "2022-08-31T11:06:59.680Z"
      },
      {
        "duration": 19,
        "start_time": "2022-08-31T11:06:59.689Z"
      },
      {
        "duration": 278,
        "start_time": "2022-08-31T11:06:59.709Z"
      },
      {
        "duration": 8,
        "start_time": "2022-08-31T11:06:59.988Z"
      },
      {
        "duration": 235,
        "start_time": "2022-08-31T11:06:59.998Z"
      },
      {
        "duration": 5,
        "start_time": "2022-08-31T11:07:00.235Z"
      },
      {
        "duration": 200,
        "start_time": "2022-08-31T11:07:00.241Z"
      },
      {
        "duration": 7,
        "start_time": "2022-08-31T11:07:00.445Z"
      },
      {
        "duration": 29,
        "start_time": "2022-08-31T11:07:00.453Z"
      },
      {
        "duration": 27,
        "start_time": "2022-08-31T11:07:00.484Z"
      },
      {
        "duration": 22,
        "start_time": "2022-08-31T11:07:00.513Z"
      },
      {
        "duration": 21,
        "start_time": "2022-08-31T11:07:00.536Z"
      },
      {
        "duration": 23,
        "start_time": "2022-08-31T11:07:00.559Z"
      },
      {
        "duration": 20,
        "start_time": "2022-08-31T11:07:00.584Z"
      },
      {
        "duration": 41,
        "start_time": "2022-08-31T11:07:00.606Z"
      },
      {
        "duration": 21,
        "start_time": "2022-08-31T11:07:00.649Z"
      },
      {
        "duration": 24,
        "start_time": "2022-08-31T11:07:00.672Z"
      },
      {
        "duration": 68,
        "start_time": "2022-08-31T11:07:00.697Z"
      },
      {
        "duration": 24,
        "start_time": "2022-08-31T11:07:00.767Z"
      },
      {
        "duration": 24,
        "start_time": "2022-08-31T11:07:00.793Z"
      },
      {
        "duration": 33,
        "start_time": "2022-08-31T11:07:00.819Z"
      },
      {
        "duration": 67,
        "start_time": "2022-08-31T11:07:00.854Z"
      },
      {
        "duration": 9,
        "start_time": "2022-08-31T11:07:00.923Z"
      },
      {
        "duration": 23,
        "start_time": "2022-08-31T11:07:00.934Z"
      },
      {
        "duration": 19,
        "start_time": "2022-08-31T11:07:00.959Z"
      },
      {
        "duration": 46,
        "start_time": "2022-08-31T11:07:00.980Z"
      },
      {
        "duration": 61,
        "start_time": "2022-08-31T11:07:01.028Z"
      },
      {
        "duration": 42,
        "start_time": "2022-08-31T11:07:01.090Z"
      },
      {
        "duration": 25,
        "start_time": "2022-08-31T11:07:01.134Z"
      },
      {
        "duration": 176,
        "start_time": "2022-08-31T11:07:01.161Z"
      },
      {
        "duration": 4,
        "start_time": "2022-08-31T11:07:01.338Z"
      },
      {
        "duration": 18,
        "start_time": "2022-08-31T11:07:01.344Z"
      },
      {
        "duration": 352,
        "start_time": "2022-08-31T11:07:01.364Z"
      },
      {
        "duration": 192,
        "start_time": "2022-08-31T11:07:01.717Z"
      },
      {
        "duration": 353,
        "start_time": "2022-08-31T11:07:01.910Z"
      },
      {
        "duration": 28,
        "start_time": "2022-08-31T11:07:02.265Z"
      },
      {
        "duration": 5,
        "start_time": "2022-08-31T11:07:02.295Z"
      },
      {
        "duration": 12643,
        "start_time": "2022-08-31T11:07:02.302Z"
      },
      {
        "duration": 579,
        "start_time": "2022-08-31T11:07:14.947Z"
      },
      {
        "duration": 3,
        "start_time": "2022-08-31T11:07:15.527Z"
      },
      {
        "duration": 17,
        "start_time": "2022-08-31T11:07:15.531Z"
      },
      {
        "duration": 15,
        "start_time": "2022-08-31T11:07:15.549Z"
      },
      {
        "duration": 21,
        "start_time": "2022-08-31T11:07:15.584Z"
      },
      {
        "duration": 25,
        "start_time": "2022-08-31T11:07:15.606Z"
      },
      {
        "duration": 162,
        "start_time": "2022-08-31T11:07:15.633Z"
      },
      {
        "duration": 159,
        "start_time": "2022-08-31T11:07:15.797Z"
      },
      {
        "duration": 7,
        "start_time": "2022-08-31T11:07:15.957Z"
      },
      {
        "duration": 26,
        "start_time": "2022-08-31T11:07:15.966Z"
      },
      {
        "duration": 32,
        "start_time": "2022-08-31T11:07:15.994Z"
      },
      {
        "duration": 30,
        "start_time": "2022-08-31T11:07:16.028Z"
      },
      {
        "duration": 180,
        "start_time": "2022-08-31T11:07:16.060Z"
      },
      {
        "duration": 183,
        "start_time": "2022-08-31T11:07:16.242Z"
      },
      {
        "duration": 3,
        "start_time": "2022-08-31T11:07:16.427Z"
      },
      {
        "duration": 10,
        "start_time": "2022-08-31T11:07:16.432Z"
      },
      {
        "duration": 5,
        "start_time": "2022-08-31T11:07:16.444Z"
      },
      {
        "duration": 23429,
        "start_time": "2022-08-31T11:07:16.451Z"
      },
      {
        "duration": 506,
        "start_time": "2022-08-31T11:07:39.882Z"
      },
      {
        "duration": 17,
        "start_time": "2022-08-31T11:07:40.390Z"
      },
      {
        "duration": 18,
        "start_time": "2022-08-31T11:07:40.409Z"
      },
      {
        "duration": 13,
        "start_time": "2022-08-31T11:07:40.428Z"
      },
      {
        "duration": 8,
        "start_time": "2022-08-31T11:07:40.442Z"
      },
      {
        "duration": 29,
        "start_time": "2022-08-31T11:07:40.456Z"
      },
      {
        "duration": 17,
        "start_time": "2022-08-31T11:07:40.487Z"
      },
      {
        "duration": 27,
        "start_time": "2022-08-31T11:07:40.506Z"
      },
      {
        "duration": 7,
        "start_time": "2022-08-31T11:07:40.535Z"
      },
      {
        "duration": 46,
        "start_time": "2022-08-31T11:07:40.544Z"
      },
      {
        "duration": 12,
        "start_time": "2022-08-31T11:07:40.592Z"
      },
      {
        "duration": 29,
        "start_time": "2022-08-31T11:07:40.605Z"
      },
      {
        "duration": 27,
        "start_time": "2022-08-31T11:07:40.636Z"
      },
      {
        "duration": 14,
        "start_time": "2022-08-31T11:07:40.665Z"
      },
      {
        "duration": 15,
        "start_time": "2022-08-31T11:07:40.680Z"
      },
      {
        "duration": 23,
        "start_time": "2022-08-31T11:07:40.696Z"
      },
      {
        "duration": 95,
        "start_time": "2022-09-01T07:22:55.148Z"
      },
      {
        "duration": 1525,
        "start_time": "2022-09-05T19:54:27.140Z"
      },
      {
        "duration": 41,
        "start_time": "2022-09-05T19:54:28.667Z"
      },
      {
        "duration": 14,
        "start_time": "2022-09-05T19:54:28.710Z"
      },
      {
        "duration": 11,
        "start_time": "2022-09-05T19:54:28.726Z"
      },
      {
        "duration": 17,
        "start_time": "2022-09-05T19:54:28.739Z"
      },
      {
        "duration": 21,
        "start_time": "2022-09-05T19:54:28.758Z"
      },
      {
        "duration": 30,
        "start_time": "2022-09-05T19:54:28.780Z"
      },
      {
        "duration": 11,
        "start_time": "2022-09-05T19:54:28.812Z"
      },
      {
        "duration": 9,
        "start_time": "2022-09-05T19:54:28.824Z"
      },
      {
        "duration": 7,
        "start_time": "2022-09-05T19:54:28.836Z"
      },
      {
        "duration": 7,
        "start_time": "2022-09-05T19:54:28.845Z"
      },
      {
        "duration": 21,
        "start_time": "2022-09-05T19:54:28.853Z"
      },
      {
        "duration": 7,
        "start_time": "2022-09-05T19:54:28.908Z"
      },
      {
        "duration": 13,
        "start_time": "2022-09-05T19:54:28.917Z"
      },
      {
        "duration": 7,
        "start_time": "2022-09-05T19:54:28.932Z"
      },
      {
        "duration": 9,
        "start_time": "2022-09-05T19:54:28.941Z"
      },
      {
        "duration": 5,
        "start_time": "2022-09-05T19:54:28.952Z"
      },
      {
        "duration": 9,
        "start_time": "2022-09-05T19:54:28.959Z"
      },
      {
        "duration": 9,
        "start_time": "2022-09-05T19:54:28.970Z"
      },
      {
        "duration": 2904,
        "start_time": "2022-09-05T19:54:28.980Z"
      },
      {
        "duration": 5,
        "start_time": "2022-09-05T19:54:31.886Z"
      },
      {
        "duration": 35,
        "start_time": "2022-09-05T19:54:31.893Z"
      },
      {
        "duration": 238,
        "start_time": "2022-09-05T19:54:31.930Z"
      },
      {
        "duration": 7,
        "start_time": "2022-09-05T19:54:32.170Z"
      },
      {
        "duration": 209,
        "start_time": "2022-09-05T19:54:32.178Z"
      },
      {
        "duration": 6,
        "start_time": "2022-09-05T19:54:32.389Z"
      },
      {
        "duration": 189,
        "start_time": "2022-09-05T19:54:32.396Z"
      },
      {
        "duration": 7,
        "start_time": "2022-09-05T19:54:32.589Z"
      },
      {
        "duration": 3,
        "start_time": "2022-09-05T19:54:32.610Z"
      },
      {
        "duration": 16,
        "start_time": "2022-09-05T19:54:32.615Z"
      },
      {
        "duration": 26,
        "start_time": "2022-09-05T19:54:32.633Z"
      },
      {
        "duration": 21,
        "start_time": "2022-09-05T19:54:32.660Z"
      },
      {
        "duration": 19,
        "start_time": "2022-09-05T19:54:32.683Z"
      },
      {
        "duration": 15,
        "start_time": "2022-09-05T19:54:32.704Z"
      },
      {
        "duration": 35,
        "start_time": "2022-09-05T19:54:32.721Z"
      },
      {
        "duration": 11,
        "start_time": "2022-09-05T19:54:32.758Z"
      },
      {
        "duration": 24,
        "start_time": "2022-09-05T19:54:32.771Z"
      },
      {
        "duration": 65,
        "start_time": "2022-09-05T19:54:32.797Z"
      },
      {
        "duration": 21,
        "start_time": "2022-09-05T19:54:32.863Z"
      },
      {
        "duration": 30,
        "start_time": "2022-09-05T19:54:32.887Z"
      },
      {
        "duration": 15,
        "start_time": "2022-09-05T19:54:32.919Z"
      },
      {
        "duration": 69,
        "start_time": "2022-09-05T19:54:32.936Z"
      },
      {
        "duration": 10,
        "start_time": "2022-09-05T19:54:33.006Z"
      },
      {
        "duration": 29,
        "start_time": "2022-09-05T19:54:33.017Z"
      },
      {
        "duration": 25,
        "start_time": "2022-09-05T19:54:33.048Z"
      },
      {
        "duration": 32,
        "start_time": "2022-09-05T19:54:33.074Z"
      },
      {
        "duration": 34,
        "start_time": "2022-09-05T19:54:33.108Z"
      },
      {
        "duration": 39,
        "start_time": "2022-09-05T19:54:33.143Z"
      },
      {
        "duration": 22,
        "start_time": "2022-09-05T19:54:33.184Z"
      },
      {
        "duration": 172,
        "start_time": "2022-09-05T19:54:33.207Z"
      },
      {
        "duration": 4,
        "start_time": "2022-09-05T19:54:33.381Z"
      },
      {
        "duration": 28,
        "start_time": "2022-09-05T19:54:33.386Z"
      },
      {
        "duration": 324,
        "start_time": "2022-09-05T19:54:33.416Z"
      },
      {
        "duration": 215,
        "start_time": "2022-09-05T19:54:33.741Z"
      },
      {
        "duration": 309,
        "start_time": "2022-09-05T19:54:33.959Z"
      },
      {
        "duration": 20,
        "start_time": "2022-09-05T19:54:34.270Z"
      },
      {
        "duration": 31,
        "start_time": "2022-09-05T19:54:34.292Z"
      },
      {
        "duration": 14123,
        "start_time": "2022-09-05T19:54:34.325Z"
      },
      {
        "duration": 525,
        "start_time": "2022-09-05T19:54:48.449Z"
      },
      {
        "duration": 3,
        "start_time": "2022-09-05T19:54:48.975Z"
      },
      {
        "duration": 22,
        "start_time": "2022-09-05T19:54:48.979Z"
      },
      {
        "duration": 18,
        "start_time": "2022-09-05T19:54:49.003Z"
      },
      {
        "duration": 21,
        "start_time": "2022-09-05T19:54:49.022Z"
      },
      {
        "duration": 26,
        "start_time": "2022-09-05T19:54:49.045Z"
      },
      {
        "duration": 160,
        "start_time": "2022-09-05T19:54:49.072Z"
      },
      {
        "duration": 149,
        "start_time": "2022-09-05T19:54:49.235Z"
      },
      {
        "duration": 8,
        "start_time": "2022-09-05T19:54:49.386Z"
      },
      {
        "duration": 27,
        "start_time": "2022-09-05T19:54:49.395Z"
      },
      {
        "duration": 31,
        "start_time": "2022-09-05T19:54:49.424Z"
      },
      {
        "duration": 23,
        "start_time": "2022-09-05T19:54:49.457Z"
      },
      {
        "duration": 146,
        "start_time": "2022-09-05T19:54:49.482Z"
      },
      {
        "duration": 189,
        "start_time": "2022-09-05T19:54:49.630Z"
      },
      {
        "duration": 3,
        "start_time": "2022-09-05T19:54:49.821Z"
      },
      {
        "duration": 30,
        "start_time": "2022-09-05T19:54:49.826Z"
      },
      {
        "duration": 34,
        "start_time": "2022-09-05T19:54:49.858Z"
      },
      {
        "duration": 22494,
        "start_time": "2022-09-05T19:54:49.893Z"
      },
      {
        "duration": 522,
        "start_time": "2022-09-05T19:55:12.389Z"
      },
      {
        "duration": 22,
        "start_time": "2022-09-05T19:55:12.913Z"
      },
      {
        "duration": 18,
        "start_time": "2022-09-05T19:55:12.938Z"
      },
      {
        "duration": 9,
        "start_time": "2022-09-05T19:55:12.958Z"
      },
      {
        "duration": 10,
        "start_time": "2022-09-05T19:55:12.968Z"
      },
      {
        "duration": 4,
        "start_time": "2022-09-05T19:55:13.013Z"
      },
      {
        "duration": 28,
        "start_time": "2022-09-05T19:55:13.018Z"
      },
      {
        "duration": 35,
        "start_time": "2022-09-05T19:55:13.047Z"
      },
      {
        "duration": 7,
        "start_time": "2022-09-05T19:55:13.084Z"
      },
      {
        "duration": 47,
        "start_time": "2022-09-05T19:55:13.093Z"
      },
      {
        "duration": 12,
        "start_time": "2022-09-05T19:55:13.141Z"
      },
      {
        "duration": 8,
        "start_time": "2022-09-05T19:55:13.155Z"
      },
      {
        "duration": 21,
        "start_time": "2022-09-05T19:55:13.164Z"
      },
      {
        "duration": 43,
        "start_time": "2022-09-05T19:55:13.186Z"
      },
      {
        "duration": 17,
        "start_time": "2022-09-05T19:55:13.231Z"
      },
      {
        "duration": 12,
        "start_time": "2022-09-05T19:55:13.250Z"
      },
      {
        "duration": 8,
        "start_time": "2022-09-05T19:55:13.263Z"
      },
      {
        "duration": 4,
        "start_time": "2022-09-05T19:55:49.767Z"
      },
      {
        "duration": 57,
        "start_time": "2022-09-06T12:04:44.419Z"
      },
      {
        "duration": 1315,
        "start_time": "2022-09-06T12:05:43.091Z"
      },
      {
        "duration": 3,
        "start_time": "2022-09-06T12:05:48.454Z"
      },
      {
        "duration": 183,
        "start_time": "2022-09-06T12:05:54.268Z"
      },
      {
        "duration": 104,
        "start_time": "2022-09-06T12:06:57.469Z"
      },
      {
        "duration": 39,
        "start_time": "2022-09-06T12:07:10.865Z"
      },
      {
        "duration": 6,
        "start_time": "2022-09-06T12:07:18.633Z"
      },
      {
        "duration": 3,
        "start_time": "2022-09-06T12:07:50.636Z"
      },
      {
        "duration": 6,
        "start_time": "2022-09-06T12:10:44.685Z"
      },
      {
        "duration": 107,
        "start_time": "2022-09-06T12:15:16.724Z"
      },
      {
        "duration": 7,
        "start_time": "2022-09-06T12:15:24.281Z"
      },
      {
        "duration": 3,
        "start_time": "2022-09-06T12:15:32.851Z"
      },
      {
        "duration": 50,
        "start_time": "2022-09-06T12:15:51.852Z"
      },
      {
        "duration": 3,
        "start_time": "2022-09-06T12:15:55.584Z"
      },
      {
        "duration": 4,
        "start_time": "2022-09-06T12:15:59.323Z"
      },
      {
        "duration": 3,
        "start_time": "2022-09-06T12:16:51.477Z"
      },
      {
        "duration": 3,
        "start_time": "2022-09-06T12:17:28.824Z"
      },
      {
        "duration": 4,
        "start_time": "2022-09-06T12:17:34.823Z"
      },
      {
        "duration": 3,
        "start_time": "2022-09-06T12:17:38.939Z"
      },
      {
        "duration": 4,
        "start_time": "2022-09-06T12:17:42.581Z"
      },
      {
        "duration": 7,
        "start_time": "2022-09-06T12:18:10.324Z"
      },
      {
        "duration": 7,
        "start_time": "2022-09-06T12:20:54.323Z"
      },
      {
        "duration": 8,
        "start_time": "2022-09-06T12:21:48.740Z"
      },
      {
        "duration": 8,
        "start_time": "2022-09-06T12:36:25.224Z"
      },
      {
        "duration": 25,
        "start_time": "2022-09-06T12:36:33.428Z"
      },
      {
        "duration": 32,
        "start_time": "2022-09-06T12:37:26.198Z"
      },
      {
        "duration": 22,
        "start_time": "2022-09-06T12:38:51.849Z"
      },
      {
        "duration": 21,
        "start_time": "2022-09-06T12:39:02.359Z"
      },
      {
        "duration": 20,
        "start_time": "2022-09-06T12:40:59.635Z"
      },
      {
        "duration": 17,
        "start_time": "2022-09-06T12:41:36.087Z"
      },
      {
        "duration": 26,
        "start_time": "2022-09-06T12:41:57.082Z"
      },
      {
        "duration": 19,
        "start_time": "2022-09-06T12:42:44.090Z"
      },
      {
        "duration": 20,
        "start_time": "2022-09-06T12:43:57.649Z"
      },
      {
        "duration": 5,
        "start_time": "2022-09-06T13:15:10.795Z"
      },
      {
        "duration": 9,
        "start_time": "2022-09-06T13:15:20.425Z"
      },
      {
        "duration": 9,
        "start_time": "2022-09-06T13:15:22.792Z"
      },
      {
        "duration": 1175,
        "start_time": "2022-09-06T13:15:38.860Z"
      },
      {
        "duration": 4,
        "start_time": "2022-09-06T13:16:07.351Z"
      },
      {
        "duration": 5,
        "start_time": "2022-09-06T13:16:28.554Z"
      },
      {
        "duration": 4,
        "start_time": "2022-09-06T13:18:01.097Z"
      },
      {
        "duration": 4,
        "start_time": "2022-09-06T13:18:04.827Z"
      },
      {
        "duration": 5,
        "start_time": "2022-09-06T13:18:11.712Z"
      },
      {
        "duration": 6,
        "start_time": "2022-09-06T13:18:36.154Z"
      },
      {
        "duration": 5,
        "start_time": "2022-09-06T13:19:09.889Z"
      },
      {
        "duration": 24,
        "start_time": "2022-09-06T13:19:49.087Z"
      },
      {
        "duration": 13,
        "start_time": "2022-09-06T13:20:03.120Z"
      },
      {
        "duration": 993,
        "start_time": "2022-09-06T13:20:07.182Z"
      },
      {
        "duration": 7,
        "start_time": "2022-09-06T13:20:16.808Z"
      },
      {
        "duration": 7,
        "start_time": "2022-09-06T13:20:24.257Z"
      },
      {
        "duration": 8,
        "start_time": "2022-09-06T13:20:38.547Z"
      },
      {
        "duration": 19,
        "start_time": "2022-09-06T13:28:27.621Z"
      },
      {
        "duration": 6,
        "start_time": "2022-09-06T13:31:48.597Z"
      },
      {
        "duration": 9,
        "start_time": "2022-09-06T13:35:25.591Z"
      },
      {
        "duration": 7,
        "start_time": "2022-09-06T13:35:27.927Z"
      },
      {
        "duration": 6,
        "start_time": "2022-09-06T13:35:46.713Z"
      },
      {
        "duration": 16,
        "start_time": "2022-09-06T13:39:37.394Z"
      },
      {
        "duration": 1046,
        "start_time": "2022-09-06T13:51:57.256Z"
      },
      {
        "duration": 75,
        "start_time": "2022-09-06T13:51:59.119Z"
      },
      {
        "duration": 38,
        "start_time": "2022-09-06T13:52:03.654Z"
      },
      {
        "duration": 3,
        "start_time": "2022-09-06T13:52:09.690Z"
      },
      {
        "duration": 14,
        "start_time": "2022-09-06T13:52:15.586Z"
      },
      {
        "duration": 9,
        "start_time": "2022-09-06T13:52:20.337Z"
      },
      {
        "duration": 17,
        "start_time": "2022-09-06T13:52:23.225Z"
      },
      {
        "duration": 6,
        "start_time": "2022-09-06T13:52:25.435Z"
      },
      {
        "duration": 3,
        "start_time": "2022-09-06T13:52:27.771Z"
      },
      {
        "duration": 7,
        "start_time": "2022-09-06T13:52:30.112Z"
      },
      {
        "duration": 10,
        "start_time": "2022-09-06T13:52:32.580Z"
      },
      {
        "duration": 6,
        "start_time": "2022-09-06T13:52:36.959Z"
      },
      {
        "duration": 19,
        "start_time": "2022-09-06T13:52:40.606Z"
      },
      {
        "duration": 5,
        "start_time": "2022-09-06T13:52:44.871Z"
      },
      {
        "duration": 103,
        "start_time": "2022-09-06T13:52:49.973Z"
      },
      {
        "duration": 5,
        "start_time": "2022-09-06T13:52:53.374Z"
      },
      {
        "duration": 7,
        "start_time": "2022-09-06T13:53:01.694Z"
      },
      {
        "duration": 21,
        "start_time": "2022-09-06T13:53:09.065Z"
      },
      {
        "duration": 6,
        "start_time": "2022-09-06T13:53:30.139Z"
      },
      {
        "duration": 6,
        "start_time": "2022-09-06T13:53:33.334Z"
      },
      {
        "duration": 16,
        "start_time": "2022-09-06T13:53:35.525Z"
      },
      {
        "duration": 8,
        "start_time": "2022-09-06T13:53:41.252Z"
      },
      {
        "duration": 7,
        "start_time": "2022-09-06T13:53:43.537Z"
      },
      {
        "duration": 6,
        "start_time": "2022-09-06T13:53:47.913Z"
      },
      {
        "duration": 16,
        "start_time": "2022-09-06T13:54:11.884Z"
      },
      {
        "duration": 5,
        "start_time": "2022-09-06T13:56:09.376Z"
      },
      {
        "duration": 5,
        "start_time": "2022-09-06T13:57:50.983Z"
      },
      {
        "duration": 5,
        "start_time": "2022-09-06T13:57:54.516Z"
      },
      {
        "duration": 48,
        "start_time": "2022-09-06T14:00:07.527Z"
      },
      {
        "duration": 6,
        "start_time": "2022-09-06T14:00:11.436Z"
      },
      {
        "duration": 197,
        "start_time": "2022-09-06T14:02:31.507Z"
      },
      {
        "duration": 83,
        "start_time": "2022-09-06T14:03:12.512Z"
      },
      {
        "duration": 5,
        "start_time": "2022-09-06T14:04:13.941Z"
      },
      {
        "duration": 7,
        "start_time": "2022-09-06T14:04:31.458Z"
      },
      {
        "duration": 2432,
        "start_time": "2022-09-06T14:05:14.135Z"
      },
      {
        "duration": 6,
        "start_time": "2022-09-06T14:06:22.141Z"
      },
      {
        "duration": 5,
        "start_time": "2022-09-06T14:06:26.252Z"
      },
      {
        "duration": 4,
        "start_time": "2022-09-06T14:06:57.948Z"
      },
      {
        "duration": 102,
        "start_time": "2022-09-06T14:07:18.405Z"
      },
      {
        "duration": 5,
        "start_time": "2022-09-06T14:07:21.812Z"
      },
      {
        "duration": 5,
        "start_time": "2022-09-06T14:09:34.522Z"
      },
      {
        "duration": 13,
        "start_time": "2022-09-06T14:10:33.613Z"
      },
      {
        "duration": 6,
        "start_time": "2022-09-06T14:10:43.553Z"
      },
      {
        "duration": 5,
        "start_time": "2022-09-06T14:10:56.951Z"
      },
      {
        "duration": 4,
        "start_time": "2022-09-06T14:11:13.526Z"
      },
      {
        "duration": 177,
        "start_time": "2022-09-06T14:11:32.736Z"
      },
      {
        "duration": 178,
        "start_time": "2022-09-06T14:12:12.688Z"
      },
      {
        "duration": 3,
        "start_time": "2022-09-06T14:12:16.577Z"
      },
      {
        "duration": 176,
        "start_time": "2022-09-06T14:12:19.928Z"
      },
      {
        "duration": 4,
        "start_time": "2022-09-06T14:12:28.795Z"
      },
      {
        "duration": 159,
        "start_time": "2022-09-06T14:12:31.057Z"
      },
      {
        "duration": 7,
        "start_time": "2022-09-06T14:12:56.957Z"
      },
      {
        "duration": 7,
        "start_time": "2022-09-06T14:15:27.251Z"
      },
      {
        "duration": 7,
        "start_time": "2022-09-06T14:15:35.239Z"
      },
      {
        "duration": 7,
        "start_time": "2022-09-06T14:15:38.854Z"
      },
      {
        "duration": 7,
        "start_time": "2022-09-06T14:17:14.353Z"
      },
      {
        "duration": 8,
        "start_time": "2022-09-06T14:31:17.387Z"
      },
      {
        "duration": 8,
        "start_time": "2022-09-06T14:31:19.543Z"
      },
      {
        "duration": 41,
        "start_time": "2022-09-06T14:31:52.640Z"
      },
      {
        "duration": 39,
        "start_time": "2022-09-06T14:32:11.492Z"
      },
      {
        "duration": 16,
        "start_time": "2022-09-06T14:32:30.397Z"
      },
      {
        "duration": 30,
        "start_time": "2022-09-06T14:32:33.207Z"
      },
      {
        "duration": 14,
        "start_time": "2022-09-06T14:34:56.312Z"
      },
      {
        "duration": 15,
        "start_time": "2022-09-06T14:34:58.883Z"
      },
      {
        "duration": 3,
        "start_time": "2022-09-06T14:35:32.013Z"
      },
      {
        "duration": 3,
        "start_time": "2022-09-06T14:37:02.311Z"
      },
      {
        "duration": 55,
        "start_time": "2022-09-06T14:37:13.667Z"
      },
      {
        "duration": 56,
        "start_time": "2022-09-06T14:37:30.942Z"
      },
      {
        "duration": 8,
        "start_time": "2022-09-06T14:51:47.040Z"
      },
      {
        "duration": 4,
        "start_time": "2022-09-06T14:51:57.258Z"
      },
      {
        "duration": 3,
        "start_time": "2022-09-06T14:52:06.994Z"
      },
      {
        "duration": 9,
        "start_time": "2022-09-06T14:52:09.566Z"
      },
      {
        "duration": 12,
        "start_time": "2022-09-06T14:52:12.959Z"
      },
      {
        "duration": 12,
        "start_time": "2022-09-06T14:56:25.764Z"
      },
      {
        "duration": 17,
        "start_time": "2022-09-06T14:56:36.427Z"
      },
      {
        "duration": 10,
        "start_time": "2022-09-06T14:56:46.828Z"
      },
      {
        "duration": 7,
        "start_time": "2022-09-06T14:56:48.955Z"
      },
      {
        "duration": 17,
        "start_time": "2022-09-06T14:56:53.324Z"
      },
      {
        "duration": 21,
        "start_time": "2022-09-06T14:56:54.313Z"
      },
      {
        "duration": 6,
        "start_time": "2022-09-06T14:57:14.624Z"
      },
      {
        "duration": 16,
        "start_time": "2022-09-06T14:57:15.915Z"
      },
      {
        "duration": 328,
        "start_time": "2022-09-06T14:57:19.813Z"
      },
      {
        "duration": 157,
        "start_time": "2022-09-06T14:57:24.795Z"
      },
      {
        "duration": 478,
        "start_time": "2022-09-06T14:57:32.392Z"
      },
      {
        "duration": 11,
        "start_time": "2022-09-06T14:58:04.192Z"
      },
      {
        "duration": 21,
        "start_time": "2022-09-06T14:58:10.428Z"
      },
      {
        "duration": 19,
        "start_time": "2022-09-06T14:58:25.636Z"
      },
      {
        "duration": 157,
        "start_time": "2022-09-06T14:58:31.038Z"
      },
      {
        "duration": 20,
        "start_time": "2022-09-06T14:58:48.887Z"
      },
      {
        "duration": 29,
        "start_time": "2022-09-06T15:23:19.886Z"
      },
      {
        "duration": 29,
        "start_time": "2022-09-06T15:24:26.629Z"
      },
      {
        "duration": 2,
        "start_time": "2022-09-06T15:38:16.661Z"
      },
      {
        "duration": 2,
        "start_time": "2022-09-06T15:38:17.440Z"
      },
      {
        "duration": 8,
        "start_time": "2022-09-06T15:38:42.014Z"
      },
      {
        "duration": 2,
        "start_time": "2022-09-06T15:38:44.305Z"
      },
      {
        "duration": 27,
        "start_time": "2022-09-06T15:40:04.950Z"
      },
      {
        "duration": 279,
        "start_time": "2022-09-06T15:42:45.329Z"
      },
      {
        "duration": 59,
        "start_time": "2022-09-06T15:52:11.190Z"
      },
      {
        "duration": 46,
        "start_time": "2022-09-06T15:52:23.953Z"
      },
      {
        "duration": 34,
        "start_time": "2022-09-06T15:52:31.060Z"
      },
      {
        "duration": 29,
        "start_time": "2022-09-06T16:00:19.344Z"
      },
      {
        "duration": 35,
        "start_time": "2022-09-06T16:00:25.687Z"
      },
      {
        "duration": 34,
        "start_time": "2022-09-06T16:00:35.536Z"
      },
      {
        "duration": 7,
        "start_time": "2022-09-06T16:21:59.386Z"
      },
      {
        "duration": 7,
        "start_time": "2022-09-06T16:22:03.672Z"
      },
      {
        "duration": 4,
        "start_time": "2022-09-06T16:22:32.890Z"
      },
      {
        "duration": 11,
        "start_time": "2022-09-06T16:22:39.759Z"
      },
      {
        "duration": 1071,
        "start_time": "2022-09-06T16:23:59.564Z"
      },
      {
        "duration": 70,
        "start_time": "2022-09-06T16:24:00.637Z"
      },
      {
        "duration": 9,
        "start_time": "2022-09-06T16:24:32.859Z"
      },
      {
        "duration": 5,
        "start_time": "2022-09-06T16:24:41.124Z"
      },
      {
        "duration": 5,
        "start_time": "2022-09-06T16:24:45.167Z"
      },
      {
        "duration": 5,
        "start_time": "2022-09-06T16:24:53.327Z"
      },
      {
        "duration": 14,
        "start_time": "2022-09-06T16:24:56.240Z"
      },
      {
        "duration": 5,
        "start_time": "2022-09-06T16:25:01.437Z"
      },
      {
        "duration": 15,
        "start_time": "2022-09-06T16:25:02.880Z"
      },
      {
        "duration": 242,
        "start_time": "2022-09-06T16:25:26.451Z"
      },
      {
        "duration": 256,
        "start_time": "2022-09-06T16:25:32.633Z"
      },
      {
        "duration": 4,
        "start_time": "2022-09-06T16:25:42.086Z"
      },
      {
        "duration": 159,
        "start_time": "2022-09-06T16:25:43.474Z"
      },
      {
        "duration": 17,
        "start_time": "2022-09-06T16:25:47.705Z"
      },
      {
        "duration": 18,
        "start_time": "2022-09-06T16:25:52.562Z"
      },
      {
        "duration": 8,
        "start_time": "2022-09-06T16:25:55.772Z"
      },
      {
        "duration": 17,
        "start_time": "2022-09-06T16:26:01.524Z"
      },
      {
        "duration": 18,
        "start_time": "2022-09-06T16:26:02.624Z"
      },
      {
        "duration": 3,
        "start_time": "2022-09-06T16:26:05.124Z"
      },
      {
        "duration": 7,
        "start_time": "2022-09-06T16:27:08.480Z"
      },
      {
        "duration": 7,
        "start_time": "2022-09-06T16:27:09.824Z"
      },
      {
        "duration": 4,
        "start_time": "2022-09-06T16:27:14.879Z"
      },
      {
        "duration": 11,
        "start_time": "2022-09-06T16:27:34.424Z"
      },
      {
        "duration": 3,
        "start_time": "2022-09-06T16:27:49.187Z"
      },
      {
        "duration": 1076,
        "start_time": "2022-09-06T16:28:35.974Z"
      },
      {
        "duration": 28,
        "start_time": "2022-09-06T16:28:49.147Z"
      },
      {
        "duration": 5,
        "start_time": "2022-09-06T16:29:01.640Z"
      },
      {
        "duration": 19,
        "start_time": "2022-09-06T16:29:23.247Z"
      },
      {
        "duration": 3,
        "start_time": "2022-09-06T16:30:21.106Z"
      },
      {
        "duration": 11,
        "start_time": "2022-09-06T16:30:23.279Z"
      },
      {
        "duration": 23,
        "start_time": "2022-09-06T16:31:12.423Z"
      },
      {
        "duration": 23,
        "start_time": "2022-09-06T16:31:57.807Z"
      },
      {
        "duration": 20,
        "start_time": "2022-09-06T16:32:36.075Z"
      },
      {
        "duration": 22,
        "start_time": "2022-09-06T16:33:10.282Z"
      },
      {
        "duration": 3,
        "start_time": "2022-09-06T16:34:48.924Z"
      },
      {
        "duration": 11,
        "start_time": "2022-09-06T16:34:52.824Z"
      },
      {
        "duration": 20,
        "start_time": "2022-09-06T16:35:02.184Z"
      },
      {
        "duration": 7,
        "start_time": "2022-09-06T16:35:22.443Z"
      },
      {
        "duration": 25,
        "start_time": "2022-09-06T16:35:53.853Z"
      },
      {
        "duration": 11,
        "start_time": "2022-09-06T16:36:10.424Z"
      },
      {
        "duration": 3,
        "start_time": "2022-09-06T16:39:36.672Z"
      },
      {
        "duration": 265,
        "start_time": "2022-09-06T16:39:38.140Z"
      },
      {
        "duration": 3,
        "start_time": "2022-09-06T16:39:50.064Z"
      },
      {
        "duration": 12,
        "start_time": "2022-09-06T16:39:50.771Z"
      },
      {
        "duration": 13,
        "start_time": "2022-09-06T16:40:13.487Z"
      },
      {
        "duration": 940,
        "start_time": "2022-09-06T16:40:36.370Z"
      },
      {
        "duration": 4,
        "start_time": "2022-09-06T16:41:50.502Z"
      },
      {
        "duration": 11,
        "start_time": "2022-09-06T16:41:52.370Z"
      },
      {
        "duration": 7,
        "start_time": "2022-09-06T16:41:53.623Z"
      },
      {
        "duration": 1078,
        "start_time": "2022-09-06T16:42:46.532Z"
      },
      {
        "duration": 68,
        "start_time": "2022-09-06T16:42:47.621Z"
      },
      {
        "duration": 42,
        "start_time": "2022-09-06T16:42:47.691Z"
      },
      {
        "duration": 2,
        "start_time": "2022-09-06T16:42:47.735Z"
      },
      {
        "duration": 42,
        "start_time": "2022-09-06T16:42:47.739Z"
      },
      {
        "duration": 40,
        "start_time": "2022-09-06T16:42:47.783Z"
      },
      {
        "duration": 30,
        "start_time": "2022-09-06T16:42:47.824Z"
      },
      {
        "duration": 10,
        "start_time": "2022-09-06T16:42:47.855Z"
      },
      {
        "duration": 6,
        "start_time": "2022-09-06T16:42:47.866Z"
      },
      {
        "duration": 27,
        "start_time": "2022-09-06T16:42:47.873Z"
      },
      {
        "duration": 34,
        "start_time": "2022-09-06T16:42:47.901Z"
      },
      {
        "duration": 24,
        "start_time": "2022-09-06T16:42:47.936Z"
      },
      {
        "duration": 38,
        "start_time": "2022-09-06T16:42:47.961Z"
      },
      {
        "duration": 5,
        "start_time": "2022-09-06T16:42:48.002Z"
      },
      {
        "duration": 29,
        "start_time": "2022-09-06T16:42:48.008Z"
      },
      {
        "duration": 33,
        "start_time": "2022-09-06T16:42:48.039Z"
      },
      {
        "duration": 5,
        "start_time": "2022-09-06T16:42:48.074Z"
      },
      {
        "duration": 17,
        "start_time": "2022-09-06T16:42:48.080Z"
      },
      {
        "duration": 38,
        "start_time": "2022-09-06T16:42:48.098Z"
      },
      {
        "duration": 15,
        "start_time": "2022-09-06T16:42:48.138Z"
      },
      {
        "duration": 42,
        "start_time": "2022-09-06T16:42:48.154Z"
      },
      {
        "duration": 32,
        "start_time": "2022-09-06T16:42:48.197Z"
      },
      {
        "duration": 18,
        "start_time": "2022-09-06T16:42:48.230Z"
      },
      {
        "duration": 25,
        "start_time": "2022-09-06T16:42:48.249Z"
      },
      {
        "duration": 15,
        "start_time": "2022-09-06T16:42:48.275Z"
      },
      {
        "duration": 40,
        "start_time": "2022-09-06T16:42:48.291Z"
      },
      {
        "duration": 37,
        "start_time": "2022-09-06T16:42:48.332Z"
      },
      {
        "duration": 2550,
        "start_time": "2022-09-06T16:42:48.370Z"
      },
      {
        "duration": 6,
        "start_time": "2022-09-06T16:42:50.922Z"
      },
      {
        "duration": 35,
        "start_time": "2022-09-06T16:42:50.930Z"
      },
      {
        "duration": 258,
        "start_time": "2022-09-06T16:42:50.966Z"
      },
      {
        "duration": 7,
        "start_time": "2022-09-06T16:42:51.226Z"
      },
      {
        "duration": 28,
        "start_time": "2022-09-06T16:42:51.235Z"
      },
      {
        "duration": 214,
        "start_time": "2022-09-06T16:42:51.264Z"
      },
      {
        "duration": 6,
        "start_time": "2022-09-06T16:42:51.480Z"
      },
      {
        "duration": 182,
        "start_time": "2022-09-06T16:42:51.487Z"
      },
      {
        "duration": 6,
        "start_time": "2022-09-06T16:42:51.670Z"
      },
      {
        "duration": 8,
        "start_time": "2022-09-06T16:42:51.677Z"
      },
      {
        "duration": 36,
        "start_time": "2022-09-06T16:42:51.686Z"
      },
      {
        "duration": 21,
        "start_time": "2022-09-06T16:42:51.724Z"
      },
      {
        "duration": 7,
        "start_time": "2022-09-06T16:42:51.863Z"
      },
      {
        "duration": 25,
        "start_time": "2022-09-06T16:42:51.872Z"
      },
      {
        "duration": 8,
        "start_time": "2022-09-06T16:42:51.899Z"
      },
      {
        "duration": 46,
        "start_time": "2022-09-06T16:42:51.908Z"
      },
      {
        "duration": 67,
        "start_time": "2022-09-06T16:42:51.955Z"
      },
      {
        "duration": 36,
        "start_time": "2022-09-06T16:42:52.024Z"
      },
      {
        "duration": 32,
        "start_time": "2022-09-06T16:42:52.062Z"
      },
      {
        "duration": 30,
        "start_time": "2022-09-06T16:42:52.096Z"
      },
      {
        "duration": 14,
        "start_time": "2022-09-06T16:42:52.127Z"
      },
      {
        "duration": 86,
        "start_time": "2022-09-06T16:42:52.142Z"
      },
      {
        "duration": 7,
        "start_time": "2022-09-06T16:42:52.230Z"
      },
      {
        "duration": 34,
        "start_time": "2022-09-06T16:42:52.239Z"
      },
      {
        "duration": 24,
        "start_time": "2022-09-06T16:42:52.275Z"
      },
      {
        "duration": 39,
        "start_time": "2022-09-06T16:42:52.300Z"
      },
      {
        "duration": 23,
        "start_time": "2022-09-06T16:42:52.341Z"
      },
      {
        "duration": 58,
        "start_time": "2022-09-06T16:42:52.365Z"
      },
      {
        "duration": 16,
        "start_time": "2022-09-06T16:42:52.425Z"
      },
      {
        "duration": 7,
        "start_time": "2022-09-06T16:42:52.443Z"
      },
      {
        "duration": 58,
        "start_time": "2022-09-06T16:42:52.451Z"
      },
      {
        "duration": 16,
        "start_time": "2022-09-06T16:42:52.510Z"
      },
      {
        "duration": 21,
        "start_time": "2022-09-06T16:42:52.527Z"
      },
      {
        "duration": 34,
        "start_time": "2022-09-06T16:42:52.550Z"
      },
      {
        "duration": 73,
        "start_time": "2022-09-06T16:42:52.586Z"
      },
      {
        "duration": 199,
        "start_time": "2022-09-06T16:42:52.661Z"
      },
      {
        "duration": 293,
        "start_time": "2022-09-06T16:42:52.862Z"
      },
      {
        "duration": 35,
        "start_time": "2022-09-06T16:42:53.157Z"
      },
      {
        "duration": 32,
        "start_time": "2022-09-06T16:42:53.193Z"
      },
      {
        "duration": 8,
        "start_time": "2022-09-06T16:42:53.226Z"
      },
      {
        "duration": 14045,
        "start_time": "2022-09-06T16:42:53.236Z"
      },
      {
        "duration": 520,
        "start_time": "2022-09-06T16:43:07.282Z"
      },
      {
        "duration": 2,
        "start_time": "2022-09-06T16:43:07.804Z"
      },
      {
        "duration": 33,
        "start_time": "2022-09-06T16:43:07.811Z"
      },
      {
        "duration": 14,
        "start_time": "2022-09-06T16:43:07.846Z"
      },
      {
        "duration": 13,
        "start_time": "2022-09-06T16:43:07.861Z"
      },
      {
        "duration": 19,
        "start_time": "2022-09-06T16:43:07.875Z"
      },
      {
        "duration": 149,
        "start_time": "2022-09-06T16:43:07.895Z"
      },
      {
        "duration": 141,
        "start_time": "2022-09-06T16:43:08.046Z"
      },
      {
        "duration": 6,
        "start_time": "2022-09-06T16:43:08.189Z"
      },
      {
        "duration": 6,
        "start_time": "2022-09-06T16:43:08.197Z"
      },
      {
        "duration": 19,
        "start_time": "2022-09-06T16:43:08.210Z"
      },
      {
        "duration": 16,
        "start_time": "2022-09-06T16:43:08.230Z"
      },
      {
        "duration": 149,
        "start_time": "2022-09-06T16:43:08.248Z"
      },
      {
        "duration": 101,
        "start_time": "2022-09-06T16:43:08.399Z"
      },
      {
        "duration": 23,
        "start_time": "2022-09-06T16:43:08.502Z"
      },
      {
        "duration": 9,
        "start_time": "2022-09-06T16:43:08.527Z"
      },
      {
        "duration": 6,
        "start_time": "2022-09-06T16:43:08.538Z"
      },
      {
        "duration": 20739,
        "start_time": "2022-09-06T16:43:08.545Z"
      },
      {
        "duration": 254,
        "start_time": "2022-09-06T16:43:29.285Z"
      },
      {
        "duration": 13,
        "start_time": "2022-09-06T16:43:29.541Z"
      },
      {
        "duration": 15,
        "start_time": "2022-09-06T16:43:29.556Z"
      },
      {
        "duration": 7,
        "start_time": "2022-09-06T16:43:29.573Z"
      },
      {
        "duration": 8,
        "start_time": "2022-09-06T16:43:29.582Z"
      },
      {
        "duration": 26,
        "start_time": "2022-09-06T16:43:29.591Z"
      },
      {
        "duration": 25,
        "start_time": "2022-09-06T16:43:29.618Z"
      },
      {
        "duration": 5,
        "start_time": "2022-09-06T16:43:29.644Z"
      },
      {
        "duration": 26,
        "start_time": "2022-09-06T16:43:29.651Z"
      },
      {
        "duration": 5,
        "start_time": "2022-09-06T16:43:29.679Z"
      },
      {
        "duration": 7,
        "start_time": "2022-09-06T16:43:29.686Z"
      },
      {
        "duration": 13,
        "start_time": "2022-09-06T16:43:29.694Z"
      },
      {
        "duration": 19,
        "start_time": "2022-09-06T16:43:29.714Z"
      },
      {
        "duration": 157,
        "start_time": "2022-09-06T16:43:29.734Z"
      },
      {
        "duration": 11,
        "start_time": "2022-09-06T16:43:29.893Z"
      },
      {
        "duration": 18,
        "start_time": "2022-09-06T16:43:29.905Z"
      },
      {
        "duration": 19,
        "start_time": "2022-09-06T16:43:29.924Z"
      },
      {
        "duration": 1121,
        "start_time": "2022-09-06T16:44:53.109Z"
      },
      {
        "duration": 68,
        "start_time": "2022-09-06T16:44:54.232Z"
      },
      {
        "duration": 40,
        "start_time": "2022-09-06T16:44:54.302Z"
      },
      {
        "duration": 4,
        "start_time": "2022-09-06T16:44:54.344Z"
      },
      {
        "duration": 18,
        "start_time": "2022-09-06T16:44:54.349Z"
      },
      {
        "duration": 28,
        "start_time": "2022-09-06T16:44:54.368Z"
      },
      {
        "duration": 32,
        "start_time": "2022-09-06T16:44:54.398Z"
      },
      {
        "duration": 7,
        "start_time": "2022-09-06T16:44:54.432Z"
      },
      {
        "duration": 8,
        "start_time": "2022-09-06T16:44:54.440Z"
      },
      {
        "duration": 17,
        "start_time": "2022-09-06T16:44:54.450Z"
      },
      {
        "duration": 24,
        "start_time": "2022-09-06T16:44:54.468Z"
      },
      {
        "duration": 13,
        "start_time": "2022-09-06T16:44:54.494Z"
      },
      {
        "duration": 35,
        "start_time": "2022-09-06T16:44:54.508Z"
      },
      {
        "duration": 16,
        "start_time": "2022-09-06T16:44:54.545Z"
      },
      {
        "duration": 11,
        "start_time": "2022-09-06T16:44:54.562Z"
      },
      {
        "duration": 19,
        "start_time": "2022-09-06T16:44:54.574Z"
      },
      {
        "duration": 6,
        "start_time": "2022-09-06T16:44:54.594Z"
      },
      {
        "duration": 7,
        "start_time": "2022-09-06T16:44:54.601Z"
      },
      {
        "duration": 29,
        "start_time": "2022-09-06T16:44:54.609Z"
      },
      {
        "duration": 9,
        "start_time": "2022-09-06T16:44:54.639Z"
      },
      {
        "duration": 12,
        "start_time": "2022-09-06T16:44:54.649Z"
      },
      {
        "duration": 19,
        "start_time": "2022-09-06T16:44:54.662Z"
      },
      {
        "duration": 5,
        "start_time": "2022-09-06T16:44:54.683Z"
      },
      {
        "duration": 15,
        "start_time": "2022-09-06T16:44:54.689Z"
      },
      {
        "duration": 20,
        "start_time": "2022-09-06T16:44:54.705Z"
      },
      {
        "duration": 6,
        "start_time": "2022-09-06T16:44:54.727Z"
      },
      {
        "duration": 9,
        "start_time": "2022-09-06T16:44:54.735Z"
      },
      {
        "duration": 2518,
        "start_time": "2022-09-06T16:44:54.749Z"
      },
      {
        "duration": 5,
        "start_time": "2022-09-06T16:44:57.268Z"
      },
      {
        "duration": 17,
        "start_time": "2022-09-06T16:44:57.274Z"
      },
      {
        "duration": 238,
        "start_time": "2022-09-06T16:44:57.292Z"
      },
      {
        "duration": 7,
        "start_time": "2022-09-06T16:44:57.531Z"
      },
      {
        "duration": 5,
        "start_time": "2022-09-06T16:44:57.540Z"
      },
      {
        "duration": 200,
        "start_time": "2022-09-06T16:44:57.546Z"
      },
      {
        "duration": 3,
        "start_time": "2022-09-06T16:44:57.747Z"
      },
      {
        "duration": 172,
        "start_time": "2022-09-06T16:44:57.752Z"
      },
      {
        "duration": 6,
        "start_time": "2022-09-06T16:44:57.926Z"
      },
      {
        "duration": 10,
        "start_time": "2022-09-06T16:44:57.934Z"
      },
      {
        "duration": 8,
        "start_time": "2022-09-06T16:44:57.946Z"
      },
      {
        "duration": 14,
        "start_time": "2022-09-06T16:44:57.955Z"
      },
      {
        "duration": 20,
        "start_time": "2022-09-06T16:44:57.971Z"
      },
      {
        "duration": 19,
        "start_time": "2022-09-06T16:44:57.992Z"
      },
      {
        "duration": 26,
        "start_time": "2022-09-06T16:44:58.012Z"
      },
      {
        "duration": 17,
        "start_time": "2022-09-06T16:44:58.040Z"
      },
      {
        "duration": 25,
        "start_time": "2022-09-06T16:44:58.058Z"
      },
      {
        "duration": 149,
        "start_time": "2022-09-06T16:44:58.084Z"
      },
      {
        "duration": 15,
        "start_time": "2022-09-06T16:44:58.234Z"
      },
      {
        "duration": 15,
        "start_time": "2022-09-06T16:44:58.251Z"
      },
      {
        "duration": 3,
        "start_time": "2022-09-06T16:44:58.267Z"
      },
      {
        "duration": 74,
        "start_time": "2022-09-06T16:44:58.271Z"
      },
      {
        "duration": 8,
        "start_time": "2022-09-06T16:44:58.347Z"
      },
      {
        "duration": 9,
        "start_time": "2022-09-06T16:44:58.357Z"
      },
      {
        "duration": 7,
        "start_time": "2022-09-06T16:44:58.367Z"
      },
      {
        "duration": 12,
        "start_time": "2022-09-06T16:44:58.375Z"
      },
      {
        "duration": 58,
        "start_time": "2022-09-06T16:44:58.388Z"
      },
      {
        "duration": 41,
        "start_time": "2022-09-06T16:44:58.447Z"
      },
      {
        "duration": 4,
        "start_time": "2022-09-06T16:44:58.489Z"
      },
      {
        "duration": 6,
        "start_time": "2022-09-06T16:44:58.495Z"
      },
      {
        "duration": 38,
        "start_time": "2022-09-06T16:44:58.502Z"
      },
      {
        "duration": 4,
        "start_time": "2022-09-06T16:44:58.541Z"
      },
      {
        "duration": 43,
        "start_time": "2022-09-06T16:44:58.547Z"
      },
      {
        "duration": 16,
        "start_time": "2022-09-06T16:44:58.592Z"
      },
      {
        "duration": 42,
        "start_time": "2022-09-06T16:44:58.609Z"
      },
      {
        "duration": 152,
        "start_time": "2022-09-06T16:44:58.652Z"
      },
      {
        "duration": 291,
        "start_time": "2022-09-06T16:44:58.810Z"
      },
      {
        "duration": 11,
        "start_time": "2022-09-06T16:45:47.976Z"
      },
      {
        "duration": 12,
        "start_time": "2022-09-06T16:45:58.468Z"
      },
      {
        "duration": 3,
        "start_time": "2022-09-06T17:00:08.424Z"
      },
      {
        "duration": 4,
        "start_time": "2022-09-06T17:07:18.673Z"
      },
      {
        "duration": 105,
        "start_time": "2022-09-06T17:08:16.225Z"
      },
      {
        "duration": 9,
        "start_time": "2022-09-06T17:08:25.527Z"
      },
      {
        "duration": 2,
        "start_time": "2022-09-06T17:09:11.479Z"
      },
      {
        "duration": 767,
        "start_time": "2022-09-06T17:11:38.590Z"
      },
      {
        "duration": 4,
        "start_time": "2022-09-06T17:14:16.724Z"
      },
      {
        "duration": 3,
        "start_time": "2022-09-06T17:14:26.132Z"
      },
      {
        "duration": 4,
        "start_time": "2022-09-06T17:14:35.799Z"
      },
      {
        "duration": 826,
        "start_time": "2022-09-06T17:14:55.097Z"
      },
      {
        "duration": 3,
        "start_time": "2022-09-06T17:15:07.480Z"
      },
      {
        "duration": 4,
        "start_time": "2022-09-06T17:15:10.680Z"
      },
      {
        "duration": 4,
        "start_time": "2022-09-06T17:15:14.095Z"
      },
      {
        "duration": 1176,
        "start_time": "2022-09-06T17:17:04.457Z"
      },
      {
        "duration": 4,
        "start_time": "2022-09-06T17:17:16.604Z"
      },
      {
        "duration": 676,
        "start_time": "2022-09-06T17:18:26.584Z"
      },
      {
        "duration": 68,
        "start_time": "2022-09-06T17:18:44.210Z"
      },
      {
        "duration": 22,
        "start_time": "2022-09-06T17:18:48.523Z"
      },
      {
        "duration": 604,
        "start_time": "2022-09-06T17:19:13.432Z"
      },
      {
        "duration": 4,
        "start_time": "2022-09-06T17:19:47.281Z"
      },
      {
        "duration": 4,
        "start_time": "2022-09-06T17:20:03.071Z"
      },
      {
        "duration": 6,
        "start_time": "2022-09-06T17:20:40.700Z"
      },
      {
        "duration": 5,
        "start_time": "2022-09-06T17:21:08.329Z"
      },
      {
        "duration": 325,
        "start_time": "2022-09-06T17:25:32.237Z"
      },
      {
        "duration": 13,
        "start_time": "2022-09-06T17:25:43.649Z"
      },
      {
        "duration": 247,
        "start_time": "2022-09-06T17:26:03.859Z"
      },
      {
        "duration": 11,
        "start_time": "2022-09-06T17:26:24.654Z"
      },
      {
        "duration": 13,
        "start_time": "2022-09-06T17:26:56.079Z"
      },
      {
        "duration": 27,
        "start_time": "2022-09-06T17:27:41.011Z"
      },
      {
        "duration": 25,
        "start_time": "2022-09-06T17:28:16.843Z"
      },
      {
        "duration": 13,
        "start_time": "2022-09-06T17:29:03.263Z"
      },
      {
        "duration": 5,
        "start_time": "2022-09-06T17:31:36.528Z"
      },
      {
        "duration": 775,
        "start_time": "2022-09-06T17:33:14.324Z"
      },
      {
        "duration": 42,
        "start_time": "2022-09-06T17:33:27.724Z"
      },
      {
        "duration": 4,
        "start_time": "2022-09-06T17:35:10.083Z"
      },
      {
        "duration": 10,
        "start_time": "2022-09-06T17:35:13.224Z"
      },
      {
        "duration": 4,
        "start_time": "2022-09-06T17:35:16.383Z"
      },
      {
        "duration": 10,
        "start_time": "2022-09-06T17:36:31.561Z"
      },
      {
        "duration": 5,
        "start_time": "2022-09-06T17:36:35.391Z"
      },
      {
        "duration": 6,
        "start_time": "2022-09-06T17:38:29.691Z"
      },
      {
        "duration": 6,
        "start_time": "2022-09-06T17:38:32.726Z"
      },
      {
        "duration": 13,
        "start_time": "2022-09-06T17:39:02.829Z"
      },
      {
        "duration": 654,
        "start_time": "2022-09-06T17:40:12.630Z"
      },
      {
        "duration": 9,
        "start_time": "2022-09-06T17:42:17.461Z"
      },
      {
        "duration": 66,
        "start_time": "2022-09-06T17:43:25.200Z"
      },
      {
        "duration": 2065,
        "start_time": "2022-09-06T17:43:44.378Z"
      },
      {
        "duration": 15,
        "start_time": "2022-09-06T17:43:59.531Z"
      },
      {
        "duration": 10,
        "start_time": "2022-09-06T17:44:18.577Z"
      },
      {
        "duration": 10,
        "start_time": "2022-09-06T17:44:30.383Z"
      },
      {
        "duration": 5,
        "start_time": "2022-09-06T17:44:32.140Z"
      },
      {
        "duration": 1108,
        "start_time": "2022-09-06T17:45:05.929Z"
      },
      {
        "duration": 68,
        "start_time": "2022-09-06T17:45:07.039Z"
      },
      {
        "duration": 51,
        "start_time": "2022-09-06T17:45:07.109Z"
      },
      {
        "duration": 4,
        "start_time": "2022-09-06T17:45:07.161Z"
      },
      {
        "duration": 42,
        "start_time": "2022-09-06T17:45:07.167Z"
      },
      {
        "duration": 35,
        "start_time": "2022-09-06T17:45:07.210Z"
      },
      {
        "duration": 26,
        "start_time": "2022-09-06T17:45:07.247Z"
      },
      {
        "duration": 7,
        "start_time": "2022-09-06T17:45:07.275Z"
      },
      {
        "duration": 6,
        "start_time": "2022-09-06T17:45:07.283Z"
      },
      {
        "duration": 8,
        "start_time": "2022-09-06T17:45:07.291Z"
      },
      {
        "duration": 20,
        "start_time": "2022-09-06T17:45:07.300Z"
      },
      {
        "duration": 7,
        "start_time": "2022-09-06T17:45:07.326Z"
      },
      {
        "duration": 21,
        "start_time": "2022-09-06T17:45:07.335Z"
      },
      {
        "duration": 9,
        "start_time": "2022-09-06T17:45:07.359Z"
      },
      {
        "duration": 16,
        "start_time": "2022-09-06T17:45:07.369Z"
      },
      {
        "duration": 26,
        "start_time": "2022-09-06T17:45:07.387Z"
      },
      {
        "duration": 16,
        "start_time": "2022-09-06T17:45:07.415Z"
      },
      {
        "duration": 11,
        "start_time": "2022-09-06T17:45:07.433Z"
      },
      {
        "duration": 18,
        "start_time": "2022-09-06T17:45:07.445Z"
      },
      {
        "duration": 8,
        "start_time": "2022-09-06T17:45:07.465Z"
      },
      {
        "duration": 14,
        "start_time": "2022-09-06T17:45:07.475Z"
      },
      {
        "duration": 31,
        "start_time": "2022-09-06T17:45:07.490Z"
      },
      {
        "duration": 10,
        "start_time": "2022-09-06T17:45:07.522Z"
      },
      {
        "duration": 11,
        "start_time": "2022-09-06T17:45:07.533Z"
      },
      {
        "duration": 9,
        "start_time": "2022-09-06T17:45:07.545Z"
      },
      {
        "duration": 12,
        "start_time": "2022-09-06T17:45:07.556Z"
      },
      {
        "duration": 9,
        "start_time": "2022-09-06T17:45:07.569Z"
      },
      {
        "duration": 2576,
        "start_time": "2022-09-06T17:45:07.579Z"
      },
      {
        "duration": 6,
        "start_time": "2022-09-06T17:45:10.157Z"
      },
      {
        "duration": 17,
        "start_time": "2022-09-06T17:45:10.164Z"
      },
      {
        "duration": 244,
        "start_time": "2022-09-06T17:45:10.183Z"
      },
      {
        "duration": 6,
        "start_time": "2022-09-06T17:45:10.429Z"
      },
      {
        "duration": 6,
        "start_time": "2022-09-06T17:45:10.437Z"
      },
      {
        "duration": 231,
        "start_time": "2022-09-06T17:45:10.444Z"
      },
      {
        "duration": 5,
        "start_time": "2022-09-06T17:45:10.677Z"
      },
      {
        "duration": 211,
        "start_time": "2022-09-06T17:45:10.684Z"
      },
      {
        "duration": 7,
        "start_time": "2022-09-06T17:45:10.897Z"
      },
      {
        "duration": 29,
        "start_time": "2022-09-06T17:45:10.905Z"
      },
      {
        "duration": 23,
        "start_time": "2022-09-06T17:45:10.935Z"
      },
      {
        "duration": 18,
        "start_time": "2022-09-06T17:45:10.959Z"
      },
      {
        "duration": 20,
        "start_time": "2022-09-06T17:45:10.981Z"
      },
      {
        "duration": 39,
        "start_time": "2022-09-06T17:45:11.003Z"
      },
      {
        "duration": 27,
        "start_time": "2022-09-06T17:45:11.043Z"
      },
      {
        "duration": 25,
        "start_time": "2022-09-06T17:45:11.072Z"
      },
      {
        "duration": 53,
        "start_time": "2022-09-06T17:45:11.098Z"
      },
      {
        "duration": 44,
        "start_time": "2022-09-06T17:45:11.153Z"
      },
      {
        "duration": 24,
        "start_time": "2022-09-06T17:45:11.198Z"
      },
      {
        "duration": 31,
        "start_time": "2022-09-06T17:45:11.224Z"
      },
      {
        "duration": 5,
        "start_time": "2022-09-06T17:45:11.257Z"
      },
      {
        "duration": 191,
        "start_time": "2022-09-06T17:45:11.264Z"
      },
      {
        "duration": 9,
        "start_time": "2022-09-06T17:45:11.457Z"
      },
      {
        "duration": 9,
        "start_time": "2022-09-06T17:45:11.468Z"
      },
      {
        "duration": 6,
        "start_time": "2022-09-06T17:45:11.479Z"
      },
      {
        "duration": 35,
        "start_time": "2022-09-06T17:45:11.487Z"
      },
      {
        "duration": 18,
        "start_time": "2022-09-06T17:45:11.524Z"
      },
      {
        "duration": 22,
        "start_time": "2022-09-06T17:45:11.544Z"
      },
      {
        "duration": 2,
        "start_time": "2022-09-06T17:45:11.567Z"
      },
      {
        "duration": 6,
        "start_time": "2022-09-06T17:45:11.571Z"
      },
      {
        "duration": 45,
        "start_time": "2022-09-06T17:45:11.578Z"
      },
      {
        "duration": 4,
        "start_time": "2022-09-06T17:45:11.625Z"
      },
      {
        "duration": 5,
        "start_time": "2022-09-06T17:45:11.631Z"
      },
      {
        "duration": 8,
        "start_time": "2022-09-06T17:45:11.637Z"
      },
      {
        "duration": 31,
        "start_time": "2022-09-06T17:45:11.647Z"
      },
      {
        "duration": 168,
        "start_time": "2022-09-06T17:45:11.679Z"
      },
      {
        "duration": 306,
        "start_time": "2022-09-06T17:45:11.848Z"
      },
      {
        "duration": 37,
        "start_time": "2022-09-06T17:45:12.155Z"
      },
      {
        "duration": 17,
        "start_time": "2022-09-06T17:45:12.194Z"
      },
      {
        "duration": 7,
        "start_time": "2022-09-06T17:45:12.212Z"
      },
      {
        "duration": 10,
        "start_time": "2022-09-06T17:45:12.220Z"
      },
      {
        "duration": 5,
        "start_time": "2022-09-06T17:46:09.347Z"
      },
      {
        "duration": 16,
        "start_time": "2022-09-06T17:46:16.381Z"
      },
      {
        "duration": 19,
        "start_time": "2022-09-06T17:46:19.179Z"
      },
      {
        "duration": 4,
        "start_time": "2022-09-06T17:46:31.534Z"
      },
      {
        "duration": 8,
        "start_time": "2022-09-06T17:47:02.965Z"
      },
      {
        "duration": 5,
        "start_time": "2022-09-06T17:47:05.500Z"
      },
      {
        "duration": 5,
        "start_time": "2022-09-06T17:47:12.943Z"
      },
      {
        "duration": 4,
        "start_time": "2022-09-06T17:47:31.331Z"
      },
      {
        "duration": 5,
        "start_time": "2022-09-06T17:47:48.633Z"
      },
      {
        "duration": 4,
        "start_time": "2022-09-06T17:48:00.776Z"
      },
      {
        "duration": 23,
        "start_time": "2022-09-06T17:48:07.556Z"
      },
      {
        "duration": 23,
        "start_time": "2022-09-06T17:48:49.809Z"
      },
      {
        "duration": 11,
        "start_time": "2022-09-06T17:49:03.379Z"
      },
      {
        "duration": 5,
        "start_time": "2022-09-06T17:49:23.900Z"
      },
      {
        "duration": 21,
        "start_time": "2022-09-06T17:50:10.078Z"
      },
      {
        "duration": 14,
        "start_time": "2022-09-06T17:51:31.498Z"
      },
      {
        "duration": 4,
        "start_time": "2022-09-06T17:51:41.825Z"
      },
      {
        "duration": 125,
        "start_time": "2022-09-06T17:51:55.659Z"
      },
      {
        "duration": 13,
        "start_time": "2022-09-06T17:52:02.292Z"
      },
      {
        "duration": 6,
        "start_time": "2022-09-06T17:52:11.150Z"
      },
      {
        "duration": 4,
        "start_time": "2022-09-06T17:52:15.580Z"
      },
      {
        "duration": 10,
        "start_time": "2022-09-06T17:54:14.636Z"
      },
      {
        "duration": 6,
        "start_time": "2022-09-06T17:54:17.058Z"
      },
      {
        "duration": 798,
        "start_time": "2022-09-06T17:54:41.132Z"
      },
      {
        "duration": 849,
        "start_time": "2022-09-06T17:54:54.476Z"
      },
      {
        "duration": 5,
        "start_time": "2022-09-06T17:54:57.629Z"
      },
      {
        "duration": 11,
        "start_time": "2022-09-06T17:57:10.580Z"
      },
      {
        "duration": 22,
        "start_time": "2022-09-06T17:57:17.554Z"
      },
      {
        "duration": 9,
        "start_time": "2022-09-06T17:57:40.630Z"
      },
      {
        "duration": 20,
        "start_time": "2022-09-06T17:58:03.646Z"
      },
      {
        "duration": 3,
        "start_time": "2022-09-06T17:58:39.892Z"
      },
      {
        "duration": 109,
        "start_time": "2022-09-06T17:58:39.897Z"
      },
      {
        "duration": 58,
        "start_time": "2022-09-06T17:58:40.007Z"
      },
      {
        "duration": 3,
        "start_time": "2022-09-06T17:58:40.067Z"
      },
      {
        "duration": 22,
        "start_time": "2022-09-06T17:58:40.072Z"
      },
      {
        "duration": 56,
        "start_time": "2022-09-06T17:58:40.096Z"
      },
      {
        "duration": 21,
        "start_time": "2022-09-06T17:58:40.153Z"
      },
      {
        "duration": 16,
        "start_time": "2022-09-06T17:58:40.176Z"
      },
      {
        "duration": 6,
        "start_time": "2022-09-06T17:58:40.193Z"
      },
      {
        "duration": 14,
        "start_time": "2022-09-06T17:58:40.200Z"
      },
      {
        "duration": 42,
        "start_time": "2022-09-06T17:58:40.216Z"
      },
      {
        "duration": 10,
        "start_time": "2022-09-06T17:58:40.260Z"
      },
      {
        "duration": 26,
        "start_time": "2022-09-06T17:58:40.272Z"
      },
      {
        "duration": 6,
        "start_time": "2022-09-06T17:58:40.299Z"
      },
      {
        "duration": 25,
        "start_time": "2022-09-06T17:58:40.307Z"
      },
      {
        "duration": 36,
        "start_time": "2022-09-06T17:58:40.333Z"
      },
      {
        "duration": 7,
        "start_time": "2022-09-06T17:58:40.371Z"
      },
      {
        "duration": 14,
        "start_time": "2022-09-06T17:58:40.380Z"
      },
      {
        "duration": 32,
        "start_time": "2022-09-06T17:58:40.395Z"
      },
      {
        "duration": 31,
        "start_time": "2022-09-06T17:58:40.428Z"
      },
      {
        "duration": 15,
        "start_time": "2022-09-06T17:58:40.460Z"
      },
      {
        "duration": 42,
        "start_time": "2022-09-06T17:58:40.477Z"
      },
      {
        "duration": 8,
        "start_time": "2022-09-06T17:58:40.521Z"
      },
      {
        "duration": 26,
        "start_time": "2022-09-06T17:58:40.531Z"
      },
      {
        "duration": 6,
        "start_time": "2022-09-06T17:58:40.559Z"
      },
      {
        "duration": 8,
        "start_time": "2022-09-06T17:58:40.567Z"
      },
      {
        "duration": 9,
        "start_time": "2022-09-06T17:58:40.577Z"
      },
      {
        "duration": 3103,
        "start_time": "2022-09-06T17:58:40.587Z"
      },
      {
        "duration": 7,
        "start_time": "2022-09-06T17:58:43.693Z"
      },
      {
        "duration": 24,
        "start_time": "2022-09-06T17:58:43.701Z"
      },
      {
        "duration": 412,
        "start_time": "2022-09-06T17:58:43.727Z"
      },
      {
        "duration": 6,
        "start_time": "2022-09-06T17:58:44.140Z"
      },
      {
        "duration": 22,
        "start_time": "2022-09-06T17:58:44.147Z"
      },
      {
        "duration": 195,
        "start_time": "2022-09-06T17:58:44.170Z"
      },
      {
        "duration": 3,
        "start_time": "2022-09-06T17:58:44.367Z"
      },
      {
        "duration": 186,
        "start_time": "2022-09-06T17:58:44.372Z"
      },
      {
        "duration": 6,
        "start_time": "2022-09-06T17:58:44.560Z"
      },
      {
        "duration": 10,
        "start_time": "2022-09-06T17:58:44.567Z"
      },
      {
        "duration": 16,
        "start_time": "2022-09-06T17:58:44.578Z"
      },
      {
        "duration": 24,
        "start_time": "2022-09-06T17:58:44.595Z"
      },
      {
        "duration": 32,
        "start_time": "2022-09-06T17:58:44.620Z"
      },
      {
        "duration": 20,
        "start_time": "2022-09-06T17:58:44.653Z"
      },
      {
        "duration": 18,
        "start_time": "2022-09-06T17:58:44.674Z"
      },
      {
        "duration": 29,
        "start_time": "2022-09-06T17:58:44.694Z"
      },
      {
        "duration": 22,
        "start_time": "2022-09-06T17:58:44.725Z"
      },
      {
        "duration": 40,
        "start_time": "2022-09-06T17:58:44.748Z"
      },
      {
        "duration": 15,
        "start_time": "2022-09-06T17:58:44.789Z"
      },
      {
        "duration": 24,
        "start_time": "2022-09-06T17:58:44.806Z"
      },
      {
        "duration": 23,
        "start_time": "2022-09-06T17:58:44.831Z"
      },
      {
        "duration": 91,
        "start_time": "2022-09-06T17:58:44.855Z"
      },
      {
        "duration": 8,
        "start_time": "2022-09-06T17:58:44.948Z"
      },
      {
        "duration": 22,
        "start_time": "2022-09-06T17:58:44.957Z"
      },
      {
        "duration": 13,
        "start_time": "2022-09-06T17:58:44.980Z"
      },
      {
        "duration": 11,
        "start_time": "2022-09-06T17:58:44.994Z"
      },
      {
        "duration": 39,
        "start_time": "2022-09-06T17:58:45.007Z"
      },
      {
        "duration": 21,
        "start_time": "2022-09-06T17:58:45.048Z"
      },
      {
        "duration": 29,
        "start_time": "2022-09-06T17:58:45.070Z"
      },
      {
        "duration": 8,
        "start_time": "2022-09-06T17:58:45.101Z"
      },
      {
        "duration": 42,
        "start_time": "2022-09-06T17:58:45.111Z"
      },
      {
        "duration": 4,
        "start_time": "2022-09-06T17:58:45.155Z"
      },
      {
        "duration": 5,
        "start_time": "2022-09-06T17:58:45.161Z"
      },
      {
        "duration": 11,
        "start_time": "2022-09-06T17:58:45.168Z"
      },
      {
        "duration": 41,
        "start_time": "2022-09-06T17:58:45.180Z"
      },
      {
        "duration": 164,
        "start_time": "2022-09-06T17:58:45.223Z"
      },
      {
        "duration": 291,
        "start_time": "2022-09-06T17:58:45.389Z"
      },
      {
        "duration": 48,
        "start_time": "2022-09-06T17:58:45.682Z"
      },
      {
        "duration": 6,
        "start_time": "2022-09-06T17:58:45.732Z"
      },
      {
        "duration": 1037,
        "start_time": "2022-09-06T18:01:43.684Z"
      },
      {
        "duration": 68,
        "start_time": "2022-09-06T18:01:44.723Z"
      },
      {
        "duration": 40,
        "start_time": "2022-09-06T18:01:44.793Z"
      },
      {
        "duration": 4,
        "start_time": "2022-09-06T18:01:44.835Z"
      },
      {
        "duration": 17,
        "start_time": "2022-09-06T18:01:44.840Z"
      },
      {
        "duration": 13,
        "start_time": "2022-09-06T18:01:44.858Z"
      },
      {
        "duration": 27,
        "start_time": "2022-09-06T18:01:44.872Z"
      },
      {
        "duration": 24,
        "start_time": "2022-09-06T18:01:44.901Z"
      },
      {
        "duration": 8,
        "start_time": "2022-09-06T18:01:44.926Z"
      },
      {
        "duration": 8,
        "start_time": "2022-09-06T18:01:44.937Z"
      },
      {
        "duration": 9,
        "start_time": "2022-09-06T18:01:44.947Z"
      },
      {
        "duration": 11,
        "start_time": "2022-09-06T18:01:44.957Z"
      },
      {
        "duration": 35,
        "start_time": "2022-09-06T18:01:44.969Z"
      },
      {
        "duration": 33,
        "start_time": "2022-09-06T18:01:45.005Z"
      },
      {
        "duration": 29,
        "start_time": "2022-09-06T18:01:45.040Z"
      },
      {
        "duration": 53,
        "start_time": "2022-09-06T18:01:45.070Z"
      },
      {
        "duration": 55,
        "start_time": "2022-09-06T18:01:45.124Z"
      },
      {
        "duration": 7,
        "start_time": "2022-09-06T18:01:45.181Z"
      },
      {
        "duration": 18,
        "start_time": "2022-09-06T18:01:45.189Z"
      },
      {
        "duration": 18,
        "start_time": "2022-09-06T18:01:45.208Z"
      },
      {
        "duration": 11,
        "start_time": "2022-09-06T18:01:45.227Z"
      },
      {
        "duration": 18,
        "start_time": "2022-09-06T18:01:45.240Z"
      },
      {
        "duration": 5,
        "start_time": "2022-09-06T18:01:45.260Z"
      },
      {
        "duration": 23,
        "start_time": "2022-09-06T18:01:45.266Z"
      },
      {
        "duration": 15,
        "start_time": "2022-09-06T18:01:45.291Z"
      },
      {
        "duration": 19,
        "start_time": "2022-09-06T18:01:45.307Z"
      },
      {
        "duration": 9,
        "start_time": "2022-09-06T18:01:45.327Z"
      },
      {
        "duration": 2596,
        "start_time": "2022-09-06T18:01:45.339Z"
      },
      {
        "duration": 6,
        "start_time": "2022-09-06T18:01:47.936Z"
      },
      {
        "duration": 41,
        "start_time": "2022-09-06T18:01:47.943Z"
      },
      {
        "duration": 247,
        "start_time": "2022-09-06T18:01:47.985Z"
      },
      {
        "duration": 6,
        "start_time": "2022-09-06T18:01:48.233Z"
      },
      {
        "duration": 19,
        "start_time": "2022-09-06T18:01:48.240Z"
      },
      {
        "duration": 191,
        "start_time": "2022-09-06T18:01:48.261Z"
      },
      {
        "duration": 5,
        "start_time": "2022-09-06T18:01:48.454Z"
      },
      {
        "duration": 190,
        "start_time": "2022-09-06T18:01:48.460Z"
      },
      {
        "duration": 7,
        "start_time": "2022-09-06T18:01:48.652Z"
      },
      {
        "duration": 62,
        "start_time": "2022-09-06T18:01:48.661Z"
      },
      {
        "duration": 15,
        "start_time": "2022-09-06T18:01:48.724Z"
      },
      {
        "duration": 15,
        "start_time": "2022-09-06T18:01:48.740Z"
      },
      {
        "duration": 17,
        "start_time": "2022-09-06T18:01:48.757Z"
      },
      {
        "duration": 53,
        "start_time": "2022-09-06T18:01:48.775Z"
      },
      {
        "duration": 15,
        "start_time": "2022-09-06T18:01:48.830Z"
      },
      {
        "duration": 26,
        "start_time": "2022-09-06T18:01:48.847Z"
      },
      {
        "duration": 33,
        "start_time": "2022-09-06T18:01:48.875Z"
      },
      {
        "duration": 141,
        "start_time": "2022-09-06T18:01:48.910Z"
      },
      {
        "duration": 15,
        "start_time": "2022-09-06T18:01:49.053Z"
      },
      {
        "duration": 14,
        "start_time": "2022-09-06T18:01:49.069Z"
      },
      {
        "duration": 10,
        "start_time": "2022-09-06T18:01:49.084Z"
      },
      {
        "duration": 80,
        "start_time": "2022-09-06T18:01:49.095Z"
      },
      {
        "duration": 9,
        "start_time": "2022-09-06T18:01:49.176Z"
      },
      {
        "duration": 6,
        "start_time": "2022-09-06T18:01:49.187Z"
      },
      {
        "duration": 36,
        "start_time": "2022-09-06T18:01:49.195Z"
      },
      {
        "duration": 31,
        "start_time": "2022-09-06T18:01:49.233Z"
      },
      {
        "duration": 21,
        "start_time": "2022-09-06T18:01:49.266Z"
      },
      {
        "duration": 44,
        "start_time": "2022-09-06T18:01:49.289Z"
      },
      {
        "duration": 12,
        "start_time": "2022-09-06T18:01:49.335Z"
      },
      {
        "duration": 26,
        "start_time": "2022-09-06T18:01:49.348Z"
      },
      {
        "duration": 45,
        "start_time": "2022-09-06T18:01:49.376Z"
      },
      {
        "duration": 5,
        "start_time": "2022-09-06T18:01:49.423Z"
      },
      {
        "duration": 17,
        "start_time": "2022-09-06T18:01:49.430Z"
      },
      {
        "duration": 7,
        "start_time": "2022-09-06T18:01:49.449Z"
      },
      {
        "duration": 70,
        "start_time": "2022-09-06T18:01:49.457Z"
      },
      {
        "duration": 173,
        "start_time": "2022-09-06T18:01:49.530Z"
      },
      {
        "duration": 292,
        "start_time": "2022-09-06T18:01:49.705Z"
      },
      {
        "duration": 54,
        "start_time": "2022-09-06T18:01:49.998Z"
      },
      {
        "duration": 11,
        "start_time": "2022-09-06T18:13:09.682Z"
      },
      {
        "duration": 112,
        "start_time": "2022-09-06T18:13:21.451Z"
      },
      {
        "duration": 28,
        "start_time": "2022-09-06T18:13:29.044Z"
      },
      {
        "duration": 9,
        "start_time": "2022-09-06T18:13:41.554Z"
      },
      {
        "duration": 9,
        "start_time": "2022-09-06T18:15:13.552Z"
      },
      {
        "duration": 4,
        "start_time": "2022-09-06T18:15:23.396Z"
      },
      {
        "duration": 3262,
        "start_time": "2022-09-06T18:15:26.081Z"
      },
      {
        "duration": 2736,
        "start_time": "2022-09-06T18:16:53.800Z"
      },
      {
        "duration": 13,
        "start_time": "2022-09-06T18:17:48.804Z"
      },
      {
        "duration": 4,
        "start_time": "2022-09-06T18:18:42.402Z"
      },
      {
        "duration": 21,
        "start_time": "2022-09-06T18:18:44.313Z"
      },
      {
        "duration": 18,
        "start_time": "2022-09-06T18:18:48.544Z"
      },
      {
        "duration": 4,
        "start_time": "2022-09-06T18:21:59.036Z"
      },
      {
        "duration": 30,
        "start_time": "2022-09-06T18:22:36.163Z"
      },
      {
        "duration": 9,
        "start_time": "2022-09-06T18:22:53.836Z"
      },
      {
        "duration": 28,
        "start_time": "2022-09-06T18:23:23.136Z"
      },
      {
        "duration": 5,
        "start_time": "2022-09-06T18:23:47.034Z"
      },
      {
        "duration": 2,
        "start_time": "2022-09-06T18:23:54.477Z"
      },
      {
        "duration": 5,
        "start_time": "2022-09-06T18:30:08.739Z"
      },
      {
        "duration": 955,
        "start_time": "2022-09-06T18:43:35.602Z"
      },
      {
        "duration": 1044,
        "start_time": "2022-09-06T18:43:50.036Z"
      },
      {
        "duration": 11,
        "start_time": "2022-09-06T18:44:20.888Z"
      },
      {
        "duration": 31,
        "start_time": "2022-09-06T18:44:32.702Z"
      },
      {
        "duration": 18,
        "start_time": "2022-09-06T18:44:43.140Z"
      },
      {
        "duration": 471,
        "start_time": "2022-09-06T18:45:18.830Z"
      },
      {
        "duration": 71,
        "start_time": "2022-09-06T18:45:32.136Z"
      },
      {
        "duration": 53,
        "start_time": "2022-09-06T18:45:36.142Z"
      },
      {
        "duration": 1092,
        "start_time": "2022-09-06T18:45:59.584Z"
      },
      {
        "duration": 1112,
        "start_time": "2022-09-06T18:47:07.283Z"
      },
      {
        "duration": 987,
        "start_time": "2022-09-06T18:47:42.761Z"
      },
      {
        "duration": 5,
        "start_time": "2022-09-06T18:47:56.499Z"
      },
      {
        "duration": 7,
        "start_time": "2022-09-06T18:48:17.872Z"
      },
      {
        "duration": 968,
        "start_time": "2022-09-06T18:48:25.238Z"
      },
      {
        "duration": 1009,
        "start_time": "2022-09-06T18:48:36.597Z"
      },
      {
        "duration": 900,
        "start_time": "2022-09-06T18:48:40.250Z"
      },
      {
        "duration": 15,
        "start_time": "2022-09-06T18:48:46.333Z"
      },
      {
        "duration": 36,
        "start_time": "2022-09-06T18:50:05.285Z"
      },
      {
        "duration": 9,
        "start_time": "2022-09-06T18:51:45.439Z"
      },
      {
        "duration": 4,
        "start_time": "2022-09-06T18:53:04.968Z"
      },
      {
        "duration": 24,
        "start_time": "2022-09-06T18:53:11.042Z"
      },
      {
        "duration": 29,
        "start_time": "2022-09-06T18:53:27.743Z"
      },
      {
        "duration": 19,
        "start_time": "2022-09-06T18:53:31.601Z"
      },
      {
        "duration": 1156,
        "start_time": "2022-09-06T18:54:29.230Z"
      },
      {
        "duration": 99,
        "start_time": "2022-09-06T18:54:30.389Z"
      },
      {
        "duration": 52,
        "start_time": "2022-09-06T18:54:30.489Z"
      },
      {
        "duration": 6,
        "start_time": "2022-09-06T18:54:30.543Z"
      },
      {
        "duration": 28,
        "start_time": "2022-09-06T18:54:30.550Z"
      },
      {
        "duration": 28,
        "start_time": "2022-09-06T18:54:30.579Z"
      },
      {
        "duration": 62,
        "start_time": "2022-09-06T18:54:30.608Z"
      },
      {
        "duration": 77,
        "start_time": "2022-09-06T18:54:30.672Z"
      },
      {
        "duration": 48,
        "start_time": "2022-09-06T18:54:30.754Z"
      },
      {
        "duration": 48,
        "start_time": "2022-09-06T18:54:30.805Z"
      },
      {
        "duration": 45,
        "start_time": "2022-09-06T18:54:30.854Z"
      },
      {
        "duration": 48,
        "start_time": "2022-09-06T18:54:30.900Z"
      },
      {
        "duration": 34,
        "start_time": "2022-09-06T18:54:30.949Z"
      },
      {
        "duration": 16,
        "start_time": "2022-09-06T18:54:30.985Z"
      },
      {
        "duration": 55,
        "start_time": "2022-09-06T18:54:31.002Z"
      },
      {
        "duration": 26,
        "start_time": "2022-09-06T18:54:31.059Z"
      },
      {
        "duration": 21,
        "start_time": "2022-09-06T18:54:31.087Z"
      },
      {
        "duration": 79,
        "start_time": "2022-09-06T18:54:31.109Z"
      },
      {
        "duration": 64,
        "start_time": "2022-09-06T18:54:31.190Z"
      },
      {
        "duration": 29,
        "start_time": "2022-09-06T18:54:31.256Z"
      },
      {
        "duration": 60,
        "start_time": "2022-09-06T18:54:31.287Z"
      },
      {
        "duration": 33,
        "start_time": "2022-09-06T18:54:31.349Z"
      },
      {
        "duration": 13,
        "start_time": "2022-09-06T18:54:31.384Z"
      },
      {
        "duration": 66,
        "start_time": "2022-09-06T18:54:31.399Z"
      },
      {
        "duration": 21,
        "start_time": "2022-09-06T18:54:31.467Z"
      },
      {
        "duration": 61,
        "start_time": "2022-09-06T18:54:31.490Z"
      },
      {
        "duration": 11,
        "start_time": "2022-09-06T18:54:31.553Z"
      },
      {
        "duration": 3122,
        "start_time": "2022-09-06T18:54:31.569Z"
      },
      {
        "duration": 6,
        "start_time": "2022-09-06T18:54:34.692Z"
      },
      {
        "duration": 38,
        "start_time": "2022-09-06T18:54:34.699Z"
      },
      {
        "duration": 301,
        "start_time": "2022-09-06T18:54:34.739Z"
      },
      {
        "duration": 8,
        "start_time": "2022-09-06T18:54:35.054Z"
      },
      {
        "duration": 11,
        "start_time": "2022-09-06T18:54:35.063Z"
      },
      {
        "duration": 212,
        "start_time": "2022-09-06T18:54:35.075Z"
      },
      {
        "duration": 4,
        "start_time": "2022-09-06T18:54:35.288Z"
      },
      {
        "duration": 282,
        "start_time": "2022-09-06T18:54:35.294Z"
      },
      {
        "duration": 7,
        "start_time": "2022-09-06T18:54:35.578Z"
      },
      {
        "duration": 8,
        "start_time": "2022-09-06T18:54:35.587Z"
      },
      {
        "duration": 43,
        "start_time": "2022-09-06T18:54:35.597Z"
      },
      {
        "duration": 11,
        "start_time": "2022-09-06T18:54:35.646Z"
      },
      {
        "duration": 10,
        "start_time": "2022-09-06T18:54:35.659Z"
      },
      {
        "duration": 32,
        "start_time": "2022-09-06T18:54:35.671Z"
      },
      {
        "duration": 45,
        "start_time": "2022-09-06T18:54:35.705Z"
      },
      {
        "duration": 23,
        "start_time": "2022-09-06T18:54:35.751Z"
      },
      {
        "duration": 27,
        "start_time": "2022-09-06T18:54:35.776Z"
      },
      {
        "duration": 184,
        "start_time": "2022-09-06T18:54:35.805Z"
      },
      {
        "duration": 17,
        "start_time": "2022-09-06T18:54:35.990Z"
      },
      {
        "duration": 29,
        "start_time": "2022-09-06T18:54:36.012Z"
      },
      {
        "duration": 22,
        "start_time": "2022-09-06T18:54:36.043Z"
      },
      {
        "duration": 74,
        "start_time": "2022-09-06T18:54:36.067Z"
      },
      {
        "duration": 11,
        "start_time": "2022-09-06T18:54:36.150Z"
      },
      {
        "duration": 12,
        "start_time": "2022-09-06T18:54:36.164Z"
      },
      {
        "duration": 9,
        "start_time": "2022-09-06T18:54:36.177Z"
      },
      {
        "duration": 16,
        "start_time": "2022-09-06T18:54:36.187Z"
      },
      {
        "duration": 45,
        "start_time": "2022-09-06T18:54:36.205Z"
      },
      {
        "duration": 26,
        "start_time": "2022-09-06T18:54:36.252Z"
      },
      {
        "duration": 3,
        "start_time": "2022-09-06T18:54:36.279Z"
      },
      {
        "duration": 9,
        "start_time": "2022-09-06T18:54:36.283Z"
      },
      {
        "duration": 48,
        "start_time": "2022-09-06T18:54:36.293Z"
      },
      {
        "duration": 11,
        "start_time": "2022-09-06T18:54:36.342Z"
      },
      {
        "duration": 16,
        "start_time": "2022-09-06T18:54:36.354Z"
      },
      {
        "duration": 16,
        "start_time": "2022-09-06T18:54:36.372Z"
      },
      {
        "duration": 45,
        "start_time": "2022-09-06T18:54:36.390Z"
      },
      {
        "duration": 172,
        "start_time": "2022-09-06T18:54:36.437Z"
      },
      {
        "duration": 327,
        "start_time": "2022-09-06T18:54:36.610Z"
      },
      {
        "duration": 39,
        "start_time": "2022-09-06T18:54:36.942Z"
      },
      {
        "duration": 4,
        "start_time": "2022-09-06T18:54:45.546Z"
      },
      {
        "duration": 3049,
        "start_time": "2022-09-06T18:54:48.139Z"
      },
      {
        "duration": 5,
        "start_time": "2022-09-06T18:55:43.591Z"
      },
      {
        "duration": 13,
        "start_time": "2022-09-06T18:56:47.745Z"
      },
      {
        "duration": 11,
        "start_time": "2022-09-06T18:57:19.381Z"
      },
      {
        "duration": 5,
        "start_time": "2022-09-06T18:57:34.250Z"
      },
      {
        "duration": 8,
        "start_time": "2022-09-06T18:57:41.876Z"
      },
      {
        "duration": 4,
        "start_time": "2022-09-06T18:58:03.937Z"
      },
      {
        "duration": 907,
        "start_time": "2022-09-06T18:59:28.839Z"
      },
      {
        "duration": 11,
        "start_time": "2022-09-06T18:59:48.140Z"
      },
      {
        "duration": 1197,
        "start_time": "2022-09-06T18:59:51.804Z"
      },
      {
        "duration": 8,
        "start_time": "2022-09-06T18:59:56.739Z"
      },
      {
        "duration": 20,
        "start_time": "2022-09-06T19:02:40.646Z"
      },
      {
        "duration": 3,
        "start_time": "2022-09-06T19:02:44.747Z"
      },
      {
        "duration": 11610,
        "start_time": "2022-09-06T19:03:19.449Z"
      },
      {
        "duration": 10,
        "start_time": "2022-09-06T19:04:17.736Z"
      },
      {
        "duration": 1308,
        "start_time": "2022-09-06T19:04:43.637Z"
      },
      {
        "duration": 86,
        "start_time": "2022-09-06T19:04:44.947Z"
      },
      {
        "duration": 40,
        "start_time": "2022-09-06T19:04:45.035Z"
      },
      {
        "duration": 3,
        "start_time": "2022-09-06T19:04:45.077Z"
      },
      {
        "duration": 53,
        "start_time": "2022-09-06T19:04:45.081Z"
      },
      {
        "duration": 14,
        "start_time": "2022-09-06T19:04:45.135Z"
      },
      {
        "duration": 18,
        "start_time": "2022-09-06T19:04:45.151Z"
      },
      {
        "duration": 5,
        "start_time": "2022-09-06T19:04:45.171Z"
      },
      {
        "duration": 7,
        "start_time": "2022-09-06T19:04:45.177Z"
      },
      {
        "duration": 8,
        "start_time": "2022-09-06T19:04:45.186Z"
      },
      {
        "duration": 7,
        "start_time": "2022-09-06T19:04:45.196Z"
      },
      {
        "duration": 29,
        "start_time": "2022-09-06T19:04:45.205Z"
      },
      {
        "duration": 22,
        "start_time": "2022-09-06T19:04:45.236Z"
      },
      {
        "duration": 5,
        "start_time": "2022-09-06T19:04:45.259Z"
      },
      {
        "duration": 16,
        "start_time": "2022-09-06T19:04:45.265Z"
      },
      {
        "duration": 22,
        "start_time": "2022-09-06T19:04:45.282Z"
      },
      {
        "duration": 25,
        "start_time": "2022-09-06T19:04:45.305Z"
      },
      {
        "duration": 18,
        "start_time": "2022-09-06T19:04:45.332Z"
      },
      {
        "duration": 19,
        "start_time": "2022-09-06T19:04:45.351Z"
      },
      {
        "duration": 8,
        "start_time": "2022-09-06T19:04:45.371Z"
      },
      {
        "duration": 12,
        "start_time": "2022-09-06T19:04:45.380Z"
      },
      {
        "duration": 24,
        "start_time": "2022-09-06T19:04:45.393Z"
      },
      {
        "duration": 11,
        "start_time": "2022-09-06T19:04:45.418Z"
      },
      {
        "duration": 8,
        "start_time": "2022-09-06T19:04:45.430Z"
      },
      {
        "duration": 7,
        "start_time": "2022-09-06T19:04:45.440Z"
      },
      {
        "duration": 6,
        "start_time": "2022-09-06T19:04:45.448Z"
      },
      {
        "duration": 8,
        "start_time": "2022-09-06T19:04:45.456Z"
      },
      {
        "duration": 2576,
        "start_time": "2022-09-06T19:04:45.468Z"
      },
      {
        "duration": 5,
        "start_time": "2022-09-06T19:04:48.046Z"
      },
      {
        "duration": 20,
        "start_time": "2022-09-06T19:04:48.052Z"
      },
      {
        "duration": 257,
        "start_time": "2022-09-06T19:04:48.074Z"
      },
      {
        "duration": 6,
        "start_time": "2022-09-06T19:04:48.333Z"
      },
      {
        "duration": 5,
        "start_time": "2022-09-06T19:04:48.340Z"
      },
      {
        "duration": 207,
        "start_time": "2022-09-06T19:04:48.347Z"
      },
      {
        "duration": 4,
        "start_time": "2022-09-06T19:04:48.556Z"
      },
      {
        "duration": 173,
        "start_time": "2022-09-06T19:04:48.561Z"
      },
      {
        "duration": 9,
        "start_time": "2022-09-06T19:04:48.735Z"
      },
      {
        "duration": 24,
        "start_time": "2022-09-06T19:04:48.746Z"
      },
      {
        "duration": 12,
        "start_time": "2022-09-06T19:04:48.772Z"
      },
      {
        "duration": 6,
        "start_time": "2022-09-06T19:04:48.786Z"
      },
      {
        "duration": 67,
        "start_time": "2022-09-06T19:04:48.793Z"
      },
      {
        "duration": 78,
        "start_time": "2022-09-06T19:04:48.861Z"
      },
      {
        "duration": 46,
        "start_time": "2022-09-06T19:04:48.940Z"
      },
      {
        "duration": 43,
        "start_time": "2022-09-06T19:04:48.987Z"
      },
      {
        "duration": 34,
        "start_time": "2022-09-06T19:04:49.031Z"
      },
      {
        "duration": 174,
        "start_time": "2022-09-06T19:04:49.066Z"
      },
      {
        "duration": 15,
        "start_time": "2022-09-06T19:04:49.241Z"
      },
      {
        "duration": 14,
        "start_time": "2022-09-06T19:04:49.258Z"
      },
      {
        "duration": 3,
        "start_time": "2022-09-06T19:04:49.274Z"
      },
      {
        "duration": 70,
        "start_time": "2022-09-06T19:04:49.278Z"
      },
      {
        "duration": 8,
        "start_time": "2022-09-06T19:04:49.350Z"
      },
      {
        "duration": 7,
        "start_time": "2022-09-06T19:04:49.359Z"
      },
      {
        "duration": 9,
        "start_time": "2022-09-06T19:04:49.367Z"
      },
      {
        "duration": 10,
        "start_time": "2022-09-06T19:04:49.377Z"
      },
      {
        "duration": 12,
        "start_time": "2022-09-06T19:04:49.389Z"
      },
      {
        "duration": 59,
        "start_time": "2022-09-06T19:04:49.403Z"
      },
      {
        "duration": 2,
        "start_time": "2022-09-06T19:04:49.463Z"
      },
      {
        "duration": 29,
        "start_time": "2022-09-06T19:04:49.467Z"
      },
      {
        "duration": 47,
        "start_time": "2022-09-06T19:04:49.498Z"
      },
      {
        "duration": 4,
        "start_time": "2022-09-06T19:04:49.546Z"
      },
      {
        "duration": 11,
        "start_time": "2022-09-06T19:04:49.551Z"
      },
      {
        "duration": 5,
        "start_time": "2022-09-06T19:04:49.563Z"
      },
      {
        "duration": 33,
        "start_time": "2022-09-06T19:04:49.569Z"
      },
      {
        "duration": 172,
        "start_time": "2022-09-06T19:04:49.603Z"
      },
      {
        "duration": 302,
        "start_time": "2022-09-06T19:04:49.776Z"
      },
      {
        "duration": 53,
        "start_time": "2022-09-06T19:04:50.080Z"
      },
      {
        "duration": 4,
        "start_time": "2022-09-06T19:04:58.441Z"
      },
      {
        "duration": 3,
        "start_time": "2022-09-06T19:05:05.045Z"
      },
      {
        "duration": 14,
        "start_time": "2022-09-06T19:05:25.386Z"
      },
      {
        "duration": 4,
        "start_time": "2022-09-06T19:05:37.763Z"
      },
      {
        "duration": 10040,
        "start_time": "2022-09-06T19:05:40.836Z"
      },
      {
        "duration": 11,
        "start_time": "2022-09-06T19:06:14.038Z"
      },
      {
        "duration": 30,
        "start_time": "2022-09-06T19:06:21.897Z"
      },
      {
        "duration": 10,
        "start_time": "2022-09-06T19:06:24.946Z"
      },
      {
        "duration": 11,
        "start_time": "2022-09-06T19:06:27.279Z"
      },
      {
        "duration": 4,
        "start_time": "2022-09-06T19:06:43.044Z"
      },
      {
        "duration": 33,
        "start_time": "2022-09-06T19:06:59.800Z"
      },
      {
        "duration": 7,
        "start_time": "2022-09-06T19:07:14.341Z"
      },
      {
        "duration": 3,
        "start_time": "2022-09-06T19:07:21.772Z"
      },
      {
        "duration": 11,
        "start_time": "2022-09-06T19:07:27.038Z"
      },
      {
        "duration": 7,
        "start_time": "2022-09-06T19:07:31.731Z"
      },
      {
        "duration": 6,
        "start_time": "2022-09-06T19:07:35.446Z"
      },
      {
        "duration": 1061,
        "start_time": "2022-09-06T19:10:23.968Z"
      },
      {
        "duration": 68,
        "start_time": "2022-09-06T19:10:25.031Z"
      },
      {
        "duration": 40,
        "start_time": "2022-09-06T19:10:25.101Z"
      },
      {
        "duration": 7,
        "start_time": "2022-09-06T19:10:25.143Z"
      },
      {
        "duration": 27,
        "start_time": "2022-09-06T19:10:25.152Z"
      },
      {
        "duration": 28,
        "start_time": "2022-09-06T19:10:25.181Z"
      },
      {
        "duration": 42,
        "start_time": "2022-09-06T19:10:25.226Z"
      },
      {
        "duration": 63,
        "start_time": "2022-09-06T19:10:25.270Z"
      },
      {
        "duration": 24,
        "start_time": "2022-09-06T19:10:25.335Z"
      },
      {
        "duration": 57,
        "start_time": "2022-09-06T19:10:25.362Z"
      },
      {
        "duration": 43,
        "start_time": "2022-09-06T19:10:25.420Z"
      },
      {
        "duration": 31,
        "start_time": "2022-09-06T19:10:25.465Z"
      },
      {
        "duration": 67,
        "start_time": "2022-09-06T19:10:25.498Z"
      },
      {
        "duration": 25,
        "start_time": "2022-09-06T19:10:25.567Z"
      },
      {
        "duration": 47,
        "start_time": "2022-09-06T19:10:25.593Z"
      },
      {
        "duration": 33,
        "start_time": "2022-09-06T19:10:25.641Z"
      },
      {
        "duration": 17,
        "start_time": "2022-09-06T19:10:25.676Z"
      },
      {
        "duration": 51,
        "start_time": "2022-09-06T19:10:25.694Z"
      },
      {
        "duration": 31,
        "start_time": "2022-09-06T19:10:25.747Z"
      },
      {
        "duration": 10,
        "start_time": "2022-09-06T19:10:25.780Z"
      },
      {
        "duration": 16,
        "start_time": "2022-09-06T19:10:25.791Z"
      },
      {
        "duration": 49,
        "start_time": "2022-09-06T19:10:25.809Z"
      },
      {
        "duration": 9,
        "start_time": "2022-09-06T19:10:25.859Z"
      },
      {
        "duration": 15,
        "start_time": "2022-09-06T19:10:25.869Z"
      },
      {
        "duration": 16,
        "start_time": "2022-09-06T19:10:25.885Z"
      },
      {
        "duration": 48,
        "start_time": "2022-09-06T19:10:25.902Z"
      },
      {
        "duration": 17,
        "start_time": "2022-09-06T19:10:25.952Z"
      },
      {
        "duration": 2694,
        "start_time": "2022-09-06T19:10:25.973Z"
      },
      {
        "duration": 5,
        "start_time": "2022-09-06T19:10:28.668Z"
      },
      {
        "duration": 34,
        "start_time": "2022-09-06T19:10:28.674Z"
      },
      {
        "duration": 253,
        "start_time": "2022-09-06T19:10:28.709Z"
      },
      {
        "duration": 6,
        "start_time": "2022-09-06T19:10:28.963Z"
      },
      {
        "duration": 9,
        "start_time": "2022-09-06T19:10:28.970Z"
      },
      {
        "duration": 208,
        "start_time": "2022-09-06T19:10:28.980Z"
      },
      {
        "duration": 4,
        "start_time": "2022-09-06T19:10:29.189Z"
      },
      {
        "duration": 181,
        "start_time": "2022-09-06T19:10:29.194Z"
      },
      {
        "duration": 6,
        "start_time": "2022-09-06T19:10:29.377Z"
      },
      {
        "duration": 40,
        "start_time": "2022-09-06T19:10:29.385Z"
      },
      {
        "duration": 31,
        "start_time": "2022-09-06T19:10:29.426Z"
      },
      {
        "duration": 8,
        "start_time": "2022-09-06T19:10:29.459Z"
      },
      {
        "duration": 25,
        "start_time": "2022-09-06T19:10:29.469Z"
      },
      {
        "duration": 37,
        "start_time": "2022-09-06T19:10:29.496Z"
      },
      {
        "duration": 17,
        "start_time": "2022-09-06T19:10:29.539Z"
      },
      {
        "duration": 11,
        "start_time": "2022-09-06T19:10:29.557Z"
      },
      {
        "duration": 8,
        "start_time": "2022-09-06T19:10:29.569Z"
      },
      {
        "duration": 24,
        "start_time": "2022-09-06T19:10:29.578Z"
      },
      {
        "duration": 140,
        "start_time": "2022-09-06T19:10:29.604Z"
      },
      {
        "duration": 15,
        "start_time": "2022-09-06T19:10:29.746Z"
      },
      {
        "duration": 41,
        "start_time": "2022-09-06T19:10:29.762Z"
      },
      {
        "duration": 30,
        "start_time": "2022-09-06T19:10:29.805Z"
      },
      {
        "duration": 151,
        "start_time": "2022-09-06T19:10:29.836Z"
      },
      {
        "duration": 7,
        "start_time": "2022-09-06T19:10:29.989Z"
      },
      {
        "duration": 39,
        "start_time": "2022-09-06T19:10:29.998Z"
      },
      {
        "duration": 16,
        "start_time": "2022-09-06T19:10:30.039Z"
      },
      {
        "duration": 38,
        "start_time": "2022-09-06T19:10:30.056Z"
      },
      {
        "duration": 24,
        "start_time": "2022-09-06T19:10:30.096Z"
      },
      {
        "duration": 47,
        "start_time": "2022-09-06T19:10:30.122Z"
      },
      {
        "duration": 20,
        "start_time": "2022-09-06T19:10:30.171Z"
      },
      {
        "duration": 52,
        "start_time": "2022-09-06T19:10:30.192Z"
      },
      {
        "duration": 39,
        "start_time": "2022-09-06T19:10:30.245Z"
      },
      {
        "duration": 77,
        "start_time": "2022-09-06T19:10:30.285Z"
      },
      {
        "duration": 42,
        "start_time": "2022-09-06T19:10:30.363Z"
      },
      {
        "duration": 53,
        "start_time": "2022-09-06T19:10:30.407Z"
      },
      {
        "duration": 63,
        "start_time": "2022-09-06T19:10:30.462Z"
      },
      {
        "duration": 172,
        "start_time": "2022-09-06T19:10:30.527Z"
      },
      {
        "duration": 297,
        "start_time": "2022-09-06T19:10:30.700Z"
      },
      {
        "duration": 53,
        "start_time": "2022-09-06T19:10:30.998Z"
      },
      {
        "duration": 4,
        "start_time": "2022-09-06T19:10:44.954Z"
      },
      {
        "duration": 5,
        "start_time": "2022-09-06T19:10:47.462Z"
      },
      {
        "duration": 4,
        "start_time": "2022-09-06T19:10:50.038Z"
      },
      {
        "duration": 111,
        "start_time": "2022-09-06T19:11:26.437Z"
      },
      {
        "duration": 15,
        "start_time": "2022-09-06T19:11:53.446Z"
      },
      {
        "duration": 12,
        "start_time": "2022-09-06T19:12:37.034Z"
      },
      {
        "duration": 11,
        "start_time": "2022-09-06T19:12:41.992Z"
      },
      {
        "duration": 4,
        "start_time": "2022-09-06T19:14:18.088Z"
      },
      {
        "duration": 4,
        "start_time": "2022-09-06T19:14:25.064Z"
      },
      {
        "duration": 1154,
        "start_time": "2022-09-06T19:16:21.734Z"
      },
      {
        "duration": 87,
        "start_time": "2022-09-06T19:16:22.891Z"
      },
      {
        "duration": 44,
        "start_time": "2022-09-06T19:16:22.979Z"
      },
      {
        "duration": 4,
        "start_time": "2022-09-06T19:16:23.024Z"
      },
      {
        "duration": 27,
        "start_time": "2022-09-06T19:16:23.030Z"
      },
      {
        "duration": 10,
        "start_time": "2022-09-06T19:16:23.058Z"
      },
      {
        "duration": 19,
        "start_time": "2022-09-06T19:16:23.069Z"
      },
      {
        "duration": 6,
        "start_time": "2022-09-06T19:16:23.089Z"
      },
      {
        "duration": 39,
        "start_time": "2022-09-06T19:16:23.096Z"
      },
      {
        "duration": 5,
        "start_time": "2022-09-06T19:16:23.137Z"
      },
      {
        "duration": 13,
        "start_time": "2022-09-06T19:16:23.143Z"
      },
      {
        "duration": 9,
        "start_time": "2022-09-06T19:16:23.157Z"
      },
      {
        "duration": 8,
        "start_time": "2022-09-06T19:16:23.167Z"
      },
      {
        "duration": 22,
        "start_time": "2022-09-06T19:16:23.177Z"
      },
      {
        "duration": 6,
        "start_time": "2022-09-06T19:16:23.200Z"
      },
      {
        "duration": 32,
        "start_time": "2022-09-06T19:16:23.207Z"
      },
      {
        "duration": 18,
        "start_time": "2022-09-06T19:16:23.240Z"
      },
      {
        "duration": 6,
        "start_time": "2022-09-06T19:16:23.260Z"
      },
      {
        "duration": 7,
        "start_time": "2022-09-06T19:16:23.267Z"
      },
      {
        "duration": 17,
        "start_time": "2022-09-06T19:16:23.275Z"
      },
      {
        "duration": 8,
        "start_time": "2022-09-06T19:16:23.294Z"
      },
      {
        "duration": 32,
        "start_time": "2022-09-06T19:16:23.303Z"
      },
      {
        "duration": 15,
        "start_time": "2022-09-06T19:16:23.337Z"
      },
      {
        "duration": 5,
        "start_time": "2022-09-06T19:16:23.354Z"
      },
      {
        "duration": 9,
        "start_time": "2022-09-06T19:16:23.360Z"
      },
      {
        "duration": 8,
        "start_time": "2022-09-06T19:16:23.370Z"
      },
      {
        "duration": 11,
        "start_time": "2022-09-06T19:16:23.380Z"
      },
      {
        "duration": 8,
        "start_time": "2022-09-06T19:16:23.393Z"
      },
      {
        "duration": 2639,
        "start_time": "2022-09-06T19:16:23.402Z"
      },
      {
        "duration": 5,
        "start_time": "2022-09-06T19:16:26.043Z"
      },
      {
        "duration": 15,
        "start_time": "2022-09-06T19:16:26.049Z"
      },
      {
        "duration": 242,
        "start_time": "2022-09-06T19:16:26.065Z"
      },
      {
        "duration": 18,
        "start_time": "2022-09-06T19:16:26.310Z"
      },
      {
        "duration": 10,
        "start_time": "2022-09-06T19:16:26.334Z"
      },
      {
        "duration": 200,
        "start_time": "2022-09-06T19:16:26.345Z"
      },
      {
        "duration": 5,
        "start_time": "2022-09-06T19:16:26.546Z"
      },
      {
        "duration": 188,
        "start_time": "2022-09-06T19:16:26.552Z"
      },
      {
        "duration": 10,
        "start_time": "2022-09-06T19:16:26.742Z"
      },
      {
        "duration": 8,
        "start_time": "2022-09-06T19:16:26.754Z"
      },
      {
        "duration": 11,
        "start_time": "2022-09-06T19:16:26.763Z"
      },
      {
        "duration": 1070,
        "start_time": "2022-09-06T19:16:26.778Z"
      },
      {
        "duration": 0,
        "start_time": "2022-09-06T19:16:27.850Z"
      },
      {
        "duration": 0,
        "start_time": "2022-09-06T19:16:27.851Z"
      },
      {
        "duration": 0,
        "start_time": "2022-09-06T19:16:27.852Z"
      },
      {
        "duration": 0,
        "start_time": "2022-09-06T19:16:27.852Z"
      },
      {
        "duration": 0,
        "start_time": "2022-09-06T19:16:27.853Z"
      },
      {
        "duration": 0,
        "start_time": "2022-09-06T19:16:27.854Z"
      },
      {
        "duration": 0,
        "start_time": "2022-09-06T19:16:27.855Z"
      },
      {
        "duration": 0,
        "start_time": "2022-09-06T19:16:27.856Z"
      },
      {
        "duration": 0,
        "start_time": "2022-09-06T19:16:27.856Z"
      },
      {
        "duration": 0,
        "start_time": "2022-09-06T19:16:27.858Z"
      },
      {
        "duration": 0,
        "start_time": "2022-09-06T19:16:27.858Z"
      },
      {
        "duration": 0,
        "start_time": "2022-09-06T19:16:27.859Z"
      },
      {
        "duration": 0,
        "start_time": "2022-09-06T19:16:27.860Z"
      },
      {
        "duration": 0,
        "start_time": "2022-09-06T19:16:27.861Z"
      },
      {
        "duration": 0,
        "start_time": "2022-09-06T19:16:27.862Z"
      },
      {
        "duration": 0,
        "start_time": "2022-09-06T19:16:27.863Z"
      },
      {
        "duration": 0,
        "start_time": "2022-09-06T19:16:27.864Z"
      },
      {
        "duration": 0,
        "start_time": "2022-09-06T19:16:27.865Z"
      },
      {
        "duration": 0,
        "start_time": "2022-09-06T19:16:27.866Z"
      },
      {
        "duration": 0,
        "start_time": "2022-09-06T19:16:27.867Z"
      },
      {
        "duration": 0,
        "start_time": "2022-09-06T19:16:27.868Z"
      },
      {
        "duration": 0,
        "start_time": "2022-09-06T19:16:27.868Z"
      },
      {
        "duration": 0,
        "start_time": "2022-09-06T19:16:27.869Z"
      },
      {
        "duration": 0,
        "start_time": "2022-09-06T19:16:27.870Z"
      },
      {
        "duration": 0,
        "start_time": "2022-09-06T19:16:27.871Z"
      },
      {
        "duration": 0,
        "start_time": "2022-09-06T19:16:28.000Z"
      },
      {
        "duration": 0,
        "start_time": "2022-09-06T19:16:28.001Z"
      },
      {
        "duration": 0,
        "start_time": "2022-09-06T19:16:28.002Z"
      },
      {
        "duration": 12,
        "start_time": "2022-09-06T19:17:07.640Z"
      },
      {
        "duration": 8,
        "start_time": "2022-09-06T19:17:09.434Z"
      },
      {
        "duration": 6,
        "start_time": "2022-09-06T19:17:12.166Z"
      },
      {
        "duration": 17,
        "start_time": "2022-09-06T19:17:12.986Z"
      },
      {
        "duration": 9,
        "start_time": "2022-09-06T19:17:14.736Z"
      },
      {
        "duration": 6,
        "start_time": "2022-09-06T19:17:14.899Z"
      },
      {
        "duration": 16,
        "start_time": "2022-09-06T19:17:15.265Z"
      },
      {
        "duration": 49,
        "start_time": "2022-09-06T19:17:15.476Z"
      },
      {
        "duration": 16,
        "start_time": "2022-09-06T19:17:16.048Z"
      },
      {
        "duration": 17,
        "start_time": "2022-09-06T19:17:16.243Z"
      },
      {
        "duration": 3,
        "start_time": "2022-09-06T19:17:16.669Z"
      },
      {
        "duration": 66,
        "start_time": "2022-09-06T19:17:17.451Z"
      },
      {
        "duration": 9,
        "start_time": "2022-09-06T19:17:18.751Z"
      },
      {
        "duration": 4,
        "start_time": "2022-09-06T19:17:20.381Z"
      },
      {
        "duration": 4,
        "start_time": "2022-09-06T19:17:22.136Z"
      },
      {
        "duration": 10,
        "start_time": "2022-09-06T19:17:22.869Z"
      },
      {
        "duration": 13,
        "start_time": "2022-09-06T19:17:24.095Z"
      },
      {
        "duration": 21,
        "start_time": "2022-09-06T19:17:26.236Z"
      },
      {
        "duration": 2,
        "start_time": "2022-09-06T19:17:27.236Z"
      },
      {
        "duration": 4,
        "start_time": "2022-09-06T19:17:27.834Z"
      },
      {
        "duration": 28,
        "start_time": "2022-09-06T19:17:29.336Z"
      },
      {
        "duration": 5,
        "start_time": "2022-09-06T19:17:39.435Z"
      },
      {
        "duration": 2,
        "start_time": "2022-09-06T19:17:39.775Z"
      },
      {
        "duration": 3,
        "start_time": "2022-09-06T19:17:40.536Z"
      },
      {
        "duration": 28,
        "start_time": "2022-09-06T19:17:54.236Z"
      },
      {
        "duration": 162,
        "start_time": "2022-09-06T19:17:55.539Z"
      },
      {
        "duration": 309,
        "start_time": "2022-09-06T19:18:09.131Z"
      },
      {
        "duration": 34,
        "start_time": "2022-09-06T19:18:15.139Z"
      },
      {
        "duration": 11,
        "start_time": "2022-09-06T19:18:18.336Z"
      },
      {
        "duration": 4,
        "start_time": "2022-09-06T19:18:29.558Z"
      },
      {
        "duration": 7,
        "start_time": "2022-09-06T19:18:33.296Z"
      },
      {
        "duration": 4,
        "start_time": "2022-09-06T19:19:11.459Z"
      },
      {
        "duration": 3,
        "start_time": "2022-09-06T19:20:59.983Z"
      },
      {
        "duration": 6,
        "start_time": "2022-09-06T19:21:03.439Z"
      },
      {
        "duration": 14,
        "start_time": "2022-09-06T19:21:08.374Z"
      },
      {
        "duration": 4,
        "start_time": "2022-09-06T19:21:17.151Z"
      },
      {
        "duration": 3,
        "start_time": "2022-09-06T19:21:34.364Z"
      },
      {
        "duration": 3,
        "start_time": "2022-09-06T19:21:43.065Z"
      },
      {
        "duration": 2455,
        "start_time": "2022-09-06T19:22:19.636Z"
      },
      {
        "duration": 1177,
        "start_time": "2022-09-06T19:22:56.074Z"
      },
      {
        "duration": 5,
        "start_time": "2022-09-06T19:25:09.567Z"
      },
      {
        "duration": 3,
        "start_time": "2022-09-06T19:25:11.474Z"
      },
      {
        "duration": 1409,
        "start_time": "2022-09-06T19:25:15.188Z"
      },
      {
        "duration": 4,
        "start_time": "2022-09-06T19:25:24.336Z"
      },
      {
        "duration": 4,
        "start_time": "2022-09-06T19:25:29.292Z"
      },
      {
        "duration": 4,
        "start_time": "2022-09-06T19:25:34.876Z"
      },
      {
        "duration": 5,
        "start_time": "2022-09-06T19:25:42.431Z"
      },
      {
        "duration": 3,
        "start_time": "2022-09-06T19:25:46.985Z"
      },
      {
        "duration": 6,
        "start_time": "2022-09-06T19:25:50.936Z"
      },
      {
        "duration": 8603,
        "start_time": "2022-09-06T19:25:53.560Z"
      },
      {
        "duration": 26,
        "start_time": "2022-09-06T19:26:07.241Z"
      },
      {
        "duration": 23,
        "start_time": "2022-09-06T19:27:31.835Z"
      },
      {
        "duration": 11,
        "start_time": "2022-09-06T19:27:44.443Z"
      },
      {
        "duration": 157,
        "start_time": "2022-09-06T19:31:28.039Z"
      },
      {
        "duration": 305,
        "start_time": "2022-09-06T19:38:33.182Z"
      },
      {
        "duration": 38,
        "start_time": "2022-09-06T19:38:38.468Z"
      },
      {
        "duration": 13,
        "start_time": "2022-09-06T19:38:44.650Z"
      },
      {
        "duration": 5,
        "start_time": "2022-09-06T19:38:49.552Z"
      },
      {
        "duration": 10,
        "start_time": "2022-09-06T19:38:50.931Z"
      },
      {
        "duration": 5,
        "start_time": "2022-09-06T19:38:58.131Z"
      },
      {
        "duration": 165,
        "start_time": "2022-09-06T19:39:07.739Z"
      },
      {
        "duration": 14,
        "start_time": "2022-09-06T19:39:13.232Z"
      },
      {
        "duration": 648,
        "start_time": "2022-09-06T19:40:23.099Z"
      },
      {
        "duration": 8,
        "start_time": "2022-09-06T19:44:41.880Z"
      },
      {
        "duration": 20,
        "start_time": "2022-09-06T19:51:21.166Z"
      },
      {
        "duration": 20,
        "start_time": "2022-09-06T19:51:30.267Z"
      },
      {
        "duration": 36,
        "start_time": "2022-09-06T19:51:59.699Z"
      },
      {
        "duration": 21,
        "start_time": "2022-09-06T19:52:33.682Z"
      },
      {
        "duration": 6,
        "start_time": "2022-09-06T19:53:17.042Z"
      },
      {
        "duration": 916,
        "start_time": "2022-09-06T19:56:22.333Z"
      },
      {
        "duration": 6,
        "start_time": "2022-09-06T19:56:31.380Z"
      },
      {
        "duration": 110,
        "start_time": "2022-09-06T19:56:40.890Z"
      },
      {
        "duration": 157,
        "start_time": "2022-09-06T19:56:50.102Z"
      },
      {
        "duration": 9,
        "start_time": "2022-09-06T19:58:36.167Z"
      },
      {
        "duration": 67,
        "start_time": "2022-09-06T19:58:41.296Z"
      },
      {
        "duration": 16,
        "start_time": "2022-09-06T19:58:48.435Z"
      },
      {
        "duration": 32,
        "start_time": "2022-09-06T19:58:57.100Z"
      },
      {
        "duration": 4,
        "start_time": "2022-09-06T19:59:03.636Z"
      },
      {
        "duration": 131,
        "start_time": "2022-09-06T19:59:06.940Z"
      },
      {
        "duration": 21571,
        "start_time": "2022-09-06T19:59:22.897Z"
      },
      {
        "duration": 272,
        "start_time": "2022-09-06T19:59:50.370Z"
      },
      {
        "duration": 8,
        "start_time": "2022-09-06T19:59:57.940Z"
      },
      {
        "duration": 32,
        "start_time": "2022-09-06T20:00:00.902Z"
      },
      {
        "duration": 7,
        "start_time": "2022-09-06T20:00:15.742Z"
      },
      {
        "duration": 52,
        "start_time": "2022-09-06T20:00:26.136Z"
      },
      {
        "duration": 22,
        "start_time": "2022-09-06T20:00:59.041Z"
      },
      {
        "duration": 26,
        "start_time": "2022-09-06T20:01:08.369Z"
      },
      {
        "duration": 7,
        "start_time": "2022-09-06T20:05:35.179Z"
      },
      {
        "duration": 1104,
        "start_time": "2022-09-06T20:08:45.871Z"
      },
      {
        "duration": 84,
        "start_time": "2022-09-06T20:08:46.977Z"
      },
      {
        "duration": 63,
        "start_time": "2022-09-06T20:08:47.062Z"
      },
      {
        "duration": 13,
        "start_time": "2022-09-06T20:08:47.127Z"
      },
      {
        "duration": 23,
        "start_time": "2022-09-06T20:08:47.142Z"
      },
      {
        "duration": 32,
        "start_time": "2022-09-06T20:08:47.167Z"
      },
      {
        "duration": 52,
        "start_time": "2022-09-06T20:08:47.200Z"
      },
      {
        "duration": 4,
        "start_time": "2022-09-06T20:08:47.254Z"
      },
      {
        "duration": 13,
        "start_time": "2022-09-06T20:08:47.259Z"
      },
      {
        "duration": 10,
        "start_time": "2022-09-06T20:08:47.275Z"
      },
      {
        "duration": 12,
        "start_time": "2022-09-06T20:08:47.287Z"
      },
      {
        "duration": 24,
        "start_time": "2022-09-06T20:08:47.301Z"
      },
      {
        "duration": 22,
        "start_time": "2022-09-06T20:08:47.326Z"
      },
      {
        "duration": 22,
        "start_time": "2022-09-06T20:08:47.349Z"
      },
      {
        "duration": 26,
        "start_time": "2022-09-06T20:08:47.372Z"
      },
      {
        "duration": 35,
        "start_time": "2022-09-06T20:08:47.400Z"
      },
      {
        "duration": 30,
        "start_time": "2022-09-06T20:08:47.436Z"
      },
      {
        "duration": 6,
        "start_time": "2022-09-06T20:08:47.468Z"
      },
      {
        "duration": 14,
        "start_time": "2022-09-06T20:08:47.475Z"
      },
      {
        "duration": 18,
        "start_time": "2022-09-06T20:08:47.490Z"
      },
      {
        "duration": 27,
        "start_time": "2022-09-06T20:08:47.509Z"
      },
      {
        "duration": 17,
        "start_time": "2022-09-06T20:08:47.539Z"
      },
      {
        "duration": 32,
        "start_time": "2022-09-06T20:08:47.557Z"
      },
      {
        "duration": 6,
        "start_time": "2022-09-06T20:08:47.591Z"
      },
      {
        "duration": 11,
        "start_time": "2022-09-06T20:08:47.598Z"
      },
      {
        "duration": 32,
        "start_time": "2022-09-06T20:08:47.610Z"
      },
      {
        "duration": 7,
        "start_time": "2022-09-06T20:08:47.643Z"
      },
      {
        "duration": 5,
        "start_time": "2022-09-06T20:08:47.654Z"
      },
      {
        "duration": 2634,
        "start_time": "2022-09-06T20:08:47.661Z"
      },
      {
        "duration": 6,
        "start_time": "2022-09-06T20:08:50.296Z"
      },
      {
        "duration": 34,
        "start_time": "2022-09-06T20:08:50.303Z"
      },
      {
        "duration": 261,
        "start_time": "2022-09-06T20:08:50.339Z"
      },
      {
        "duration": 27,
        "start_time": "2022-09-06T20:08:50.602Z"
      },
      {
        "duration": 6,
        "start_time": "2022-09-06T20:08:50.639Z"
      },
      {
        "duration": 220,
        "start_time": "2022-09-06T20:08:50.646Z"
      },
      {
        "duration": 5,
        "start_time": "2022-09-06T20:08:50.868Z"
      },
      {
        "duration": 187,
        "start_time": "2022-09-06T20:08:50.874Z"
      },
      {
        "duration": 6,
        "start_time": "2022-09-06T20:08:51.062Z"
      },
      {
        "duration": 10,
        "start_time": "2022-09-06T20:08:51.070Z"
      },
      {
        "duration": 9,
        "start_time": "2022-09-06T20:08:51.081Z"
      },
      {
        "duration": 4,
        "start_time": "2022-09-06T20:08:51.091Z"
      },
      {
        "duration": 38,
        "start_time": "2022-09-06T20:08:51.096Z"
      },
      {
        "duration": 12,
        "start_time": "2022-09-06T20:08:51.136Z"
      },
      {
        "duration": 21,
        "start_time": "2022-09-06T20:08:51.150Z"
      },
      {
        "duration": 10,
        "start_time": "2022-09-06T20:08:51.172Z"
      },
      {
        "duration": 5,
        "start_time": "2022-09-06T20:08:51.184Z"
      },
      {
        "duration": 29,
        "start_time": "2022-09-06T20:08:51.191Z"
      },
      {
        "duration": 157,
        "start_time": "2022-09-06T20:08:51.221Z"
      },
      {
        "duration": 15,
        "start_time": "2022-09-06T20:08:51.379Z"
      },
      {
        "duration": 43,
        "start_time": "2022-09-06T20:08:51.396Z"
      },
      {
        "duration": 7,
        "start_time": "2022-09-06T20:08:51.441Z"
      },
      {
        "duration": 85,
        "start_time": "2022-09-06T20:08:51.449Z"
      },
      {
        "duration": 9,
        "start_time": "2022-09-06T20:08:51.536Z"
      },
      {
        "duration": 8,
        "start_time": "2022-09-06T20:08:51.547Z"
      },
      {
        "duration": 14,
        "start_time": "2022-09-06T20:08:51.556Z"
      },
      {
        "duration": 12,
        "start_time": "2022-09-06T20:08:51.572Z"
      },
      {
        "duration": 13,
        "start_time": "2022-09-06T20:08:51.586Z"
      },
      {
        "duration": 53,
        "start_time": "2022-09-06T20:08:51.601Z"
      },
      {
        "duration": 2,
        "start_time": "2022-09-06T20:08:51.655Z"
      },
      {
        "duration": 6,
        "start_time": "2022-09-06T20:08:51.659Z"
      },
      {
        "duration": 31,
        "start_time": "2022-09-06T20:08:51.667Z"
      },
      {
        "duration": 3,
        "start_time": "2022-09-06T20:08:51.700Z"
      },
      {
        "duration": 31,
        "start_time": "2022-09-06T20:08:51.705Z"
      },
      {
        "duration": 6,
        "start_time": "2022-09-06T20:08:51.738Z"
      },
      {
        "duration": 32,
        "start_time": "2022-09-06T20:08:51.745Z"
      },
      {
        "duration": 171,
        "start_time": "2022-09-06T20:08:51.779Z"
      },
      {
        "duration": 299,
        "start_time": "2022-09-06T20:08:51.952Z"
      },
      {
        "duration": 35,
        "start_time": "2022-09-06T20:08:52.253Z"
      },
      {
        "duration": 27,
        "start_time": "2022-09-06T20:08:52.290Z"
      },
      {
        "duration": 18,
        "start_time": "2022-09-06T20:08:52.318Z"
      },
      {
        "duration": 20,
        "start_time": "2022-09-06T20:08:52.337Z"
      },
      {
        "duration": 14,
        "start_time": "2022-09-06T20:08:52.358Z"
      },
      {
        "duration": 9769,
        "start_time": "2022-09-06T20:08:52.374Z"
      },
      {
        "duration": 158,
        "start_time": "2022-09-06T20:09:02.144Z"
      },
      {
        "duration": 32,
        "start_time": "2022-09-06T20:09:02.304Z"
      },
      {
        "duration": 15,
        "start_time": "2022-09-06T20:09:02.337Z"
      },
      {
        "duration": 7,
        "start_time": "2022-09-06T20:09:02.353Z"
      },
      {
        "duration": 596,
        "start_time": "2022-09-06T20:09:02.362Z"
      },
      {
        "duration": 2,
        "start_time": "2022-09-06T20:09:02.960Z"
      },
      {
        "duration": 25,
        "start_time": "2022-09-06T20:09:02.963Z"
      },
      {
        "duration": 38,
        "start_time": "2022-09-06T20:09:02.990Z"
      },
      {
        "duration": 4,
        "start_time": "2022-09-06T20:09:03.039Z"
      },
      {
        "duration": 12,
        "start_time": "2022-09-06T20:09:03.044Z"
      },
      {
        "duration": 34,
        "start_time": "2022-09-06T20:09:03.057Z"
      },
      {
        "duration": 20,
        "start_time": "2022-09-06T20:09:03.092Z"
      },
      {
        "duration": 11,
        "start_time": "2022-09-06T20:09:03.113Z"
      },
      {
        "duration": 168,
        "start_time": "2022-09-06T20:09:03.127Z"
      },
      {
        "duration": 7,
        "start_time": "2022-09-06T20:09:03.296Z"
      },
      {
        "duration": 194,
        "start_time": "2022-09-06T20:09:03.304Z"
      },
      {
        "duration": 7504,
        "start_time": "2022-09-06T20:09:03.500Z"
      },
      {
        "duration": 286,
        "start_time": "2022-09-06T20:09:11.005Z"
      },
      {
        "duration": 8,
        "start_time": "2022-09-06T20:09:11.293Z"
      },
      {
        "duration": 37,
        "start_time": "2022-09-06T20:09:11.302Z"
      },
      {
        "duration": 22,
        "start_time": "2022-09-06T20:10:09.560Z"
      },
      {
        "duration": 48,
        "start_time": "2022-09-06T20:11:27.306Z"
      },
      {
        "duration": 1070,
        "start_time": "2022-09-06T20:12:45.771Z"
      },
      {
        "duration": 87,
        "start_time": "2022-09-06T20:12:46.843Z"
      },
      {
        "duration": 38,
        "start_time": "2022-09-06T20:12:46.934Z"
      },
      {
        "duration": 4,
        "start_time": "2022-09-06T20:12:46.974Z"
      },
      {
        "duration": 25,
        "start_time": "2022-09-06T20:12:46.979Z"
      },
      {
        "duration": 42,
        "start_time": "2022-09-06T20:12:47.006Z"
      },
      {
        "duration": 17,
        "start_time": "2022-09-06T20:12:47.050Z"
      },
      {
        "duration": 5,
        "start_time": "2022-09-06T20:12:47.068Z"
      },
      {
        "duration": 25,
        "start_time": "2022-09-06T20:12:47.074Z"
      },
      {
        "duration": 4,
        "start_time": "2022-09-06T20:12:47.101Z"
      },
      {
        "duration": 35,
        "start_time": "2022-09-06T20:12:47.107Z"
      },
      {
        "duration": 12,
        "start_time": "2022-09-06T20:12:47.144Z"
      },
      {
        "duration": 10,
        "start_time": "2022-09-06T20:12:47.158Z"
      },
      {
        "duration": 25,
        "start_time": "2022-09-06T20:12:47.170Z"
      },
      {
        "duration": 12,
        "start_time": "2022-09-06T20:12:47.197Z"
      },
      {
        "duration": 30,
        "start_time": "2022-09-06T20:12:47.214Z"
      },
      {
        "duration": 19,
        "start_time": "2022-09-06T20:12:47.245Z"
      },
      {
        "duration": 6,
        "start_time": "2022-09-06T20:12:47.265Z"
      },
      {
        "duration": 14,
        "start_time": "2022-09-06T20:12:47.272Z"
      },
      {
        "duration": 19,
        "start_time": "2022-09-06T20:12:47.287Z"
      },
      {
        "duration": 26,
        "start_time": "2022-09-06T20:12:47.307Z"
      },
      {
        "duration": 16,
        "start_time": "2022-09-06T20:12:47.335Z"
      },
      {
        "duration": 29,
        "start_time": "2022-09-06T20:12:47.352Z"
      },
      {
        "duration": 5,
        "start_time": "2022-09-06T20:12:47.382Z"
      },
      {
        "duration": 17,
        "start_time": "2022-09-06T20:12:47.389Z"
      },
      {
        "duration": 43,
        "start_time": "2022-09-06T20:12:47.407Z"
      },
      {
        "duration": 22,
        "start_time": "2022-09-06T20:12:47.452Z"
      },
      {
        "duration": 6,
        "start_time": "2022-09-06T20:12:47.479Z"
      },
      {
        "duration": 2622,
        "start_time": "2022-09-06T20:12:47.486Z"
      },
      {
        "duration": 20,
        "start_time": "2022-09-06T20:12:50.110Z"
      },
      {
        "duration": 30,
        "start_time": "2022-09-06T20:12:50.131Z"
      },
      {
        "duration": 222,
        "start_time": "2022-09-06T20:12:50.162Z"
      },
      {
        "duration": 5,
        "start_time": "2022-09-06T20:12:50.386Z"
      },
      {
        "duration": 5,
        "start_time": "2022-09-06T20:12:50.392Z"
      },
      {
        "duration": 236,
        "start_time": "2022-09-06T20:12:50.399Z"
      },
      {
        "duration": 4,
        "start_time": "2022-09-06T20:12:50.638Z"
      },
      {
        "duration": 195,
        "start_time": "2022-09-06T20:12:50.643Z"
      },
      {
        "duration": 7,
        "start_time": "2022-09-06T20:12:50.840Z"
      },
      {
        "duration": 13,
        "start_time": "2022-09-06T20:12:50.848Z"
      },
      {
        "duration": 13,
        "start_time": "2022-09-06T20:12:50.863Z"
      },
      {
        "duration": 5,
        "start_time": "2022-09-06T20:12:50.877Z"
      },
      {
        "duration": 7,
        "start_time": "2022-09-06T20:12:50.883Z"
      },
      {
        "duration": 7,
        "start_time": "2022-09-06T20:12:50.891Z"
      },
      {
        "duration": 18,
        "start_time": "2022-09-06T20:12:50.899Z"
      },
      {
        "duration": 29,
        "start_time": "2022-09-06T20:12:50.918Z"
      },
      {
        "duration": 10,
        "start_time": "2022-09-06T20:12:50.949Z"
      },
      {
        "duration": 19,
        "start_time": "2022-09-06T20:12:50.960Z"
      },
      {
        "duration": 159,
        "start_time": "2022-09-06T20:12:50.980Z"
      },
      {
        "duration": 15,
        "start_time": "2022-09-06T20:12:51.141Z"
      },
      {
        "duration": 15,
        "start_time": "2022-09-06T20:12:51.158Z"
      },
      {
        "duration": 3,
        "start_time": "2022-09-06T20:12:51.174Z"
      },
      {
        "duration": 84,
        "start_time": "2022-09-06T20:12:51.178Z"
      },
      {
        "duration": 8,
        "start_time": "2022-09-06T20:12:51.264Z"
      },
      {
        "duration": 7,
        "start_time": "2022-09-06T20:12:51.273Z"
      },
      {
        "duration": 13,
        "start_time": "2022-09-06T20:12:51.281Z"
      },
      {
        "duration": 11,
        "start_time": "2022-09-06T20:12:51.295Z"
      },
      {
        "duration": 25,
        "start_time": "2022-09-06T20:12:51.307Z"
      },
      {
        "duration": 25,
        "start_time": "2022-09-06T20:12:51.335Z"
      },
      {
        "duration": 2,
        "start_time": "2022-09-06T20:12:51.361Z"
      },
      {
        "duration": 4,
        "start_time": "2022-09-06T20:12:51.365Z"
      },
      {
        "duration": 31,
        "start_time": "2022-09-06T20:12:51.370Z"
      },
      {
        "duration": 4,
        "start_time": "2022-09-06T20:12:51.402Z"
      },
      {
        "duration": 8,
        "start_time": "2022-09-06T20:12:51.422Z"
      },
      {
        "duration": 16,
        "start_time": "2022-09-06T20:12:51.433Z"
      },
      {
        "duration": 85,
        "start_time": "2022-09-06T20:12:51.450Z"
      },
      {
        "duration": 159,
        "start_time": "2022-09-06T20:12:51.536Z"
      },
      {
        "duration": 297,
        "start_time": "2022-09-06T20:12:51.696Z"
      },
      {
        "duration": 58,
        "start_time": "2022-09-06T20:12:51.994Z"
      },
      {
        "duration": 11,
        "start_time": "2022-09-06T20:12:52.054Z"
      },
      {
        "duration": 32,
        "start_time": "2022-09-06T20:12:52.067Z"
      },
      {
        "duration": 7,
        "start_time": "2022-09-06T20:12:52.100Z"
      },
      {
        "duration": 33,
        "start_time": "2022-09-06T20:12:52.109Z"
      },
      {
        "duration": 10029,
        "start_time": "2022-09-06T20:12:52.144Z"
      },
      {
        "duration": 175,
        "start_time": "2022-09-06T20:13:02.175Z"
      },
      {
        "duration": 9,
        "start_time": "2022-09-06T20:13:02.351Z"
      },
      {
        "duration": 4,
        "start_time": "2022-09-06T20:13:02.362Z"
      },
      {
        "duration": 8,
        "start_time": "2022-09-06T20:13:02.367Z"
      },
      {
        "duration": 577,
        "start_time": "2022-09-06T20:13:02.376Z"
      },
      {
        "duration": 3,
        "start_time": "2022-09-06T20:13:02.955Z"
      },
      {
        "duration": 11,
        "start_time": "2022-09-06T20:13:02.959Z"
      },
      {
        "duration": 27,
        "start_time": "2022-09-06T20:13:02.971Z"
      },
      {
        "duration": 2,
        "start_time": "2022-09-06T20:13:03.003Z"
      },
      {
        "duration": 36,
        "start_time": "2022-09-06T20:13:03.006Z"
      },
      {
        "duration": 25,
        "start_time": "2022-09-06T20:13:03.043Z"
      },
      {
        "duration": 17,
        "start_time": "2022-09-06T20:13:03.070Z"
      },
      {
        "duration": 6,
        "start_time": "2022-09-06T20:13:03.089Z"
      },
      {
        "duration": 171,
        "start_time": "2022-09-06T20:13:03.096Z"
      },
      {
        "duration": 7,
        "start_time": "2022-09-06T20:13:03.268Z"
      },
      {
        "duration": 174,
        "start_time": "2022-09-06T20:13:03.277Z"
      },
      {
        "duration": 29,
        "start_time": "2022-09-06T20:13:03.452Z"
      },
      {
        "duration": 7704,
        "start_time": "2022-09-06T20:13:03.482Z"
      },
      {
        "duration": 256,
        "start_time": "2022-09-06T20:13:11.187Z"
      },
      {
        "duration": 24,
        "start_time": "2022-09-06T20:13:11.445Z"
      },
      {
        "duration": 7,
        "start_time": "2022-09-06T20:13:11.470Z"
      },
      {
        "duration": 50,
        "start_time": "2022-09-06T20:13:11.479Z"
      },
      {
        "duration": 4,
        "start_time": "2022-09-06T20:13:58.837Z"
      },
      {
        "duration": 809,
        "start_time": "2022-09-06T20:14:48.161Z"
      },
      {
        "duration": 13,
        "start_time": "2022-09-06T20:15:18.562Z"
      },
      {
        "duration": 9,
        "start_time": "2022-09-06T20:17:37.734Z"
      },
      {
        "duration": 26,
        "start_time": "2022-09-06T20:17:41.306Z"
      },
      {
        "duration": 3,
        "start_time": "2022-09-06T20:17:47.103Z"
      },
      {
        "duration": 11,
        "start_time": "2022-09-06T20:17:48.964Z"
      },
      {
        "duration": 6,
        "start_time": "2022-09-06T20:17:51.396Z"
      },
      {
        "duration": 20,
        "start_time": "2022-09-06T20:18:02.336Z"
      },
      {
        "duration": 4,
        "start_time": "2022-09-06T20:21:06.999Z"
      },
      {
        "duration": 9,
        "start_time": "2022-09-06T20:21:10.053Z"
      },
      {
        "duration": 7,
        "start_time": "2022-09-06T20:21:11.846Z"
      },
      {
        "duration": 15,
        "start_time": "2022-09-06T20:24:58.958Z"
      },
      {
        "duration": 17,
        "start_time": "2022-09-06T20:25:15.039Z"
      },
      {
        "duration": 16,
        "start_time": "2022-09-06T20:25:36.563Z"
      },
      {
        "duration": 17,
        "start_time": "2022-09-06T20:26:22.372Z"
      },
      {
        "duration": 18,
        "start_time": "2022-09-06T20:26:46.745Z"
      },
      {
        "duration": 16,
        "start_time": "2022-09-06T20:27:41.836Z"
      },
      {
        "duration": 7,
        "start_time": "2022-09-06T20:28:26.780Z"
      },
      {
        "duration": 17,
        "start_time": "2022-09-06T20:28:31.132Z"
      },
      {
        "duration": 11,
        "start_time": "2022-09-06T20:28:44.360Z"
      },
      {
        "duration": 18,
        "start_time": "2022-09-06T20:28:48.158Z"
      },
      {
        "duration": 28,
        "start_time": "2022-09-06T20:29:48.109Z"
      },
      {
        "duration": 16,
        "start_time": "2022-09-06T20:29:53.534Z"
      },
      {
        "duration": 28,
        "start_time": "2022-09-06T20:30:13.416Z"
      },
      {
        "duration": 16,
        "start_time": "2022-09-06T20:30:44.364Z"
      },
      {
        "duration": 46,
        "start_time": "2022-09-07T04:03:39.154Z"
      },
      {
        "duration": 1319,
        "start_time": "2022-09-07T04:04:06.270Z"
      },
      {
        "duration": 335,
        "start_time": "2022-09-07T04:04:07.591Z"
      },
      {
        "duration": 41,
        "start_time": "2022-09-07T04:04:07.927Z"
      },
      {
        "duration": 3,
        "start_time": "2022-09-07T04:04:07.970Z"
      },
      {
        "duration": 17,
        "start_time": "2022-09-07T04:04:07.975Z"
      },
      {
        "duration": 10,
        "start_time": "2022-09-07T04:04:07.994Z"
      },
      {
        "duration": 20,
        "start_time": "2022-09-07T04:04:08.006Z"
      },
      {
        "duration": 31,
        "start_time": "2022-09-07T04:04:08.027Z"
      },
      {
        "duration": 12,
        "start_time": "2022-09-07T04:04:08.059Z"
      },
      {
        "duration": 5,
        "start_time": "2022-09-07T04:04:08.074Z"
      },
      {
        "duration": 8,
        "start_time": "2022-09-07T04:04:08.081Z"
      },
      {
        "duration": 7,
        "start_time": "2022-09-07T04:04:08.091Z"
      },
      {
        "duration": 9,
        "start_time": "2022-09-07T04:04:08.099Z"
      },
      {
        "duration": 53,
        "start_time": "2022-09-07T04:04:08.110Z"
      },
      {
        "duration": 16,
        "start_time": "2022-09-07T04:04:08.165Z"
      },
      {
        "duration": 22,
        "start_time": "2022-09-07T04:04:08.182Z"
      },
      {
        "duration": 42,
        "start_time": "2022-09-07T04:04:08.206Z"
      },
      {
        "duration": 16,
        "start_time": "2022-09-07T04:04:08.250Z"
      },
      {
        "duration": 13,
        "start_time": "2022-09-07T04:04:08.268Z"
      },
      {
        "duration": 43,
        "start_time": "2022-09-07T04:04:08.282Z"
      },
      {
        "duration": 8,
        "start_time": "2022-09-07T04:04:08.328Z"
      },
      {
        "duration": 15,
        "start_time": "2022-09-07T04:04:08.338Z"
      },
      {
        "duration": 17,
        "start_time": "2022-09-07T04:04:08.355Z"
      },
      {
        "duration": 7,
        "start_time": "2022-09-07T04:04:08.374Z"
      },
      {
        "duration": 12,
        "start_time": "2022-09-07T04:04:08.383Z"
      },
      {
        "duration": 10,
        "start_time": "2022-09-07T04:04:08.397Z"
      },
      {
        "duration": 16,
        "start_time": "2022-09-07T04:04:08.409Z"
      },
      {
        "duration": 13,
        "start_time": "2022-09-07T04:04:08.431Z"
      },
      {
        "duration": 3050,
        "start_time": "2022-09-07T04:04:08.445Z"
      },
      {
        "duration": 7,
        "start_time": "2022-09-07T04:04:11.497Z"
      },
      {
        "duration": 25,
        "start_time": "2022-09-07T04:04:11.505Z"
      },
      {
        "duration": 265,
        "start_time": "2022-09-07T04:04:11.532Z"
      },
      {
        "duration": 6,
        "start_time": "2022-09-07T04:04:11.799Z"
      },
      {
        "duration": 5,
        "start_time": "2022-09-07T04:04:11.806Z"
      },
      {
        "duration": 222,
        "start_time": "2022-09-07T04:04:11.812Z"
      },
      {
        "duration": 5,
        "start_time": "2022-09-07T04:04:12.035Z"
      },
      {
        "duration": 189,
        "start_time": "2022-09-07T04:04:12.041Z"
      },
      {
        "duration": 6,
        "start_time": "2022-09-07T04:04:12.231Z"
      },
      {
        "duration": 21,
        "start_time": "2022-09-07T04:04:12.239Z"
      },
      {
        "duration": 12,
        "start_time": "2022-09-07T04:04:12.261Z"
      },
      {
        "duration": 5,
        "start_time": "2022-09-07T04:04:12.274Z"
      },
      {
        "duration": 7,
        "start_time": "2022-09-07T04:04:12.281Z"
      },
      {
        "duration": 19,
        "start_time": "2022-09-07T04:04:12.289Z"
      },
      {
        "duration": 21,
        "start_time": "2022-09-07T04:04:12.309Z"
      },
      {
        "duration": 8,
        "start_time": "2022-09-07T04:04:12.332Z"
      },
      {
        "duration": 17,
        "start_time": "2022-09-07T04:04:12.341Z"
      },
      {
        "duration": 18,
        "start_time": "2022-09-07T04:04:12.360Z"
      },
      {
        "duration": 178,
        "start_time": "2022-09-07T04:04:12.380Z"
      },
      {
        "duration": 15,
        "start_time": "2022-09-07T04:04:12.560Z"
      },
      {
        "duration": 15,
        "start_time": "2022-09-07T04:04:12.576Z"
      },
      {
        "duration": 4,
        "start_time": "2022-09-07T04:04:12.592Z"
      },
      {
        "duration": 56,
        "start_time": "2022-09-07T04:04:12.597Z"
      },
      {
        "duration": 8,
        "start_time": "2022-09-07T04:04:12.658Z"
      },
      {
        "duration": 6,
        "start_time": "2022-09-07T04:04:12.668Z"
      },
      {
        "duration": 7,
        "start_time": "2022-09-07T04:04:12.675Z"
      },
      {
        "duration": 10,
        "start_time": "2022-09-07T04:04:12.684Z"
      },
      {
        "duration": 14,
        "start_time": "2022-09-07T04:04:12.695Z"
      },
      {
        "duration": 48,
        "start_time": "2022-09-07T04:04:12.710Z"
      },
      {
        "duration": 3,
        "start_time": "2022-09-07T04:04:12.760Z"
      },
      {
        "duration": 7,
        "start_time": "2022-09-07T04:04:12.765Z"
      },
      {
        "duration": 32,
        "start_time": "2022-09-07T04:04:12.774Z"
      },
      {
        "duration": 5,
        "start_time": "2022-09-07T04:04:12.807Z"
      },
      {
        "duration": 4,
        "start_time": "2022-09-07T04:04:12.814Z"
      },
      {
        "duration": 6,
        "start_time": "2022-09-07T04:04:12.819Z"
      },
      {
        "duration": 53,
        "start_time": "2022-09-07T04:04:12.827Z"
      },
      {
        "duration": 177,
        "start_time": "2022-09-07T04:04:12.882Z"
      },
      {
        "duration": 329,
        "start_time": "2022-09-07T04:04:13.061Z"
      },
      {
        "duration": 40,
        "start_time": "2022-09-07T04:04:13.392Z"
      },
      {
        "duration": 24,
        "start_time": "2022-09-07T04:04:13.433Z"
      },
      {
        "duration": 20,
        "start_time": "2022-09-07T04:04:13.459Z"
      },
      {
        "duration": 21,
        "start_time": "2022-09-07T04:04:13.481Z"
      },
      {
        "duration": 11,
        "start_time": "2022-09-07T04:04:13.504Z"
      },
      {
        "duration": 8708,
        "start_time": "2022-09-07T04:04:13.517Z"
      },
      {
        "duration": 162,
        "start_time": "2022-09-07T04:04:22.227Z"
      },
      {
        "duration": 9,
        "start_time": "2022-09-07T04:04:22.390Z"
      },
      {
        "duration": 4,
        "start_time": "2022-09-07T04:04:22.401Z"
      },
      {
        "duration": 4,
        "start_time": "2022-09-07T04:04:22.407Z"
      },
      {
        "duration": 535,
        "start_time": "2022-09-07T04:04:22.412Z"
      },
      {
        "duration": 3,
        "start_time": "2022-09-07T04:04:22.948Z"
      },
      {
        "duration": 13,
        "start_time": "2022-09-07T04:04:22.952Z"
      },
      {
        "duration": 15,
        "start_time": "2022-09-07T04:04:22.966Z"
      },
      {
        "duration": 2,
        "start_time": "2022-09-07T04:04:22.986Z"
      },
      {
        "duration": 7,
        "start_time": "2022-09-07T04:04:22.989Z"
      },
      {
        "duration": 22,
        "start_time": "2022-09-07T04:04:22.997Z"
      },
      {
        "duration": 44,
        "start_time": "2022-09-07T04:04:23.020Z"
      },
      {
        "duration": 5,
        "start_time": "2022-09-07T04:04:23.066Z"
      },
      {
        "duration": 149,
        "start_time": "2022-09-07T04:04:23.073Z"
      },
      {
        "duration": 7,
        "start_time": "2022-09-07T04:04:23.223Z"
      },
      {
        "duration": 176,
        "start_time": "2022-09-07T04:04:23.232Z"
      },
      {
        "duration": 26,
        "start_time": "2022-09-07T04:04:23.410Z"
      },
      {
        "duration": 6828,
        "start_time": "2022-09-07T04:04:23.437Z"
      },
      {
        "duration": 260,
        "start_time": "2022-09-07T04:04:30.266Z"
      },
      {
        "duration": 22,
        "start_time": "2022-09-07T04:04:30.528Z"
      },
      {
        "duration": 12,
        "start_time": "2022-09-07T04:04:30.551Z"
      },
      {
        "duration": 24,
        "start_time": "2022-09-07T04:04:30.565Z"
      },
      {
        "duration": 18,
        "start_time": "2022-09-07T04:04:30.590Z"
      },
      {
        "duration": 13,
        "start_time": "2022-09-07T04:04:30.609Z"
      },
      {
        "duration": 8,
        "start_time": "2022-09-07T04:04:30.624Z"
      },
      {
        "duration": 19,
        "start_time": "2022-09-07T04:04:30.634Z"
      },
      {
        "duration": 21,
        "start_time": "2022-09-07T04:04:30.657Z"
      },
      {
        "duration": 13,
        "start_time": "2022-09-07T04:04:30.680Z"
      },
      {
        "duration": 28,
        "start_time": "2022-09-07T04:04:30.695Z"
      },
      {
        "duration": 6,
        "start_time": "2022-09-07T04:04:30.725Z"
      },
      {
        "duration": 14,
        "start_time": "2022-09-07T04:04:30.733Z"
      },
      {
        "duration": 12,
        "start_time": "2022-09-07T04:04:30.749Z"
      },
      {
        "duration": 9,
        "start_time": "2022-09-07T04:04:30.763Z"
      },
      {
        "duration": 24,
        "start_time": "2022-09-07T04:04:30.774Z"
      },
      {
        "duration": 17,
        "start_time": "2022-09-07T04:06:17.429Z"
      },
      {
        "duration": 59,
        "start_time": "2022-09-07T04:06:47.030Z"
      },
      {
        "duration": 10,
        "start_time": "2022-09-07T04:07:12.944Z"
      },
      {
        "duration": 15,
        "start_time": "2022-09-07T04:07:17.351Z"
      },
      {
        "duration": 49,
        "start_time": "2022-09-07T04:08:29.644Z"
      },
      {
        "duration": 16,
        "start_time": "2022-09-07T04:08:42.472Z"
      },
      {
        "duration": 18,
        "start_time": "2022-09-07T04:12:32.024Z"
      },
      {
        "duration": 14,
        "start_time": "2022-09-07T04:15:11.095Z"
      },
      {
        "duration": 78,
        "start_time": "2022-09-07T04:16:54.879Z"
      },
      {
        "duration": 5,
        "start_time": "2022-09-07T04:16:59.845Z"
      },
      {
        "duration": 9,
        "start_time": "2022-09-07T04:17:03.818Z"
      },
      {
        "duration": 8,
        "start_time": "2022-09-07T04:17:05.728Z"
      },
      {
        "duration": 12,
        "start_time": "2022-09-07T04:20:01.997Z"
      },
      {
        "duration": 1119,
        "start_time": "2022-09-07T04:35:35.842Z"
      },
      {
        "duration": 66,
        "start_time": "2022-09-07T04:35:36.963Z"
      },
      {
        "duration": 39,
        "start_time": "2022-09-07T04:35:37.030Z"
      },
      {
        "duration": 3,
        "start_time": "2022-09-07T04:35:37.071Z"
      },
      {
        "duration": 18,
        "start_time": "2022-09-07T04:35:37.076Z"
      },
      {
        "duration": 16,
        "start_time": "2022-09-07T04:35:37.095Z"
      },
      {
        "duration": 28,
        "start_time": "2022-09-07T04:35:37.112Z"
      },
      {
        "duration": 24,
        "start_time": "2022-09-07T04:35:37.141Z"
      },
      {
        "duration": 26,
        "start_time": "2022-09-07T04:35:37.166Z"
      },
      {
        "duration": 18,
        "start_time": "2022-09-07T04:35:37.194Z"
      },
      {
        "duration": 32,
        "start_time": "2022-09-07T04:35:37.214Z"
      },
      {
        "duration": 23,
        "start_time": "2022-09-07T04:35:37.248Z"
      },
      {
        "duration": 13,
        "start_time": "2022-09-07T04:35:37.273Z"
      },
      {
        "duration": 43,
        "start_time": "2022-09-07T04:35:37.288Z"
      },
      {
        "duration": 33,
        "start_time": "2022-09-07T04:35:37.333Z"
      },
      {
        "duration": 23,
        "start_time": "2022-09-07T04:35:37.368Z"
      },
      {
        "duration": 56,
        "start_time": "2022-09-07T04:35:37.393Z"
      },
      {
        "duration": 6,
        "start_time": "2022-09-07T04:35:37.450Z"
      },
      {
        "duration": 33,
        "start_time": "2022-09-07T04:35:37.458Z"
      },
      {
        "duration": 47,
        "start_time": "2022-09-07T04:35:37.493Z"
      },
      {
        "duration": 24,
        "start_time": "2022-09-07T04:35:37.541Z"
      },
      {
        "duration": 36,
        "start_time": "2022-09-07T04:35:37.566Z"
      },
      {
        "duration": 27,
        "start_time": "2022-09-07T04:35:37.604Z"
      },
      {
        "duration": 15,
        "start_time": "2022-09-07T04:35:37.633Z"
      },
      {
        "duration": 23,
        "start_time": "2022-09-07T04:35:37.650Z"
      },
      {
        "duration": 37,
        "start_time": "2022-09-07T04:35:37.675Z"
      },
      {
        "duration": 24,
        "start_time": "2022-09-07T04:35:37.714Z"
      },
      {
        "duration": 21,
        "start_time": "2022-09-07T04:35:37.742Z"
      },
      {
        "duration": 2874,
        "start_time": "2022-09-07T04:35:37.765Z"
      },
      {
        "duration": 6,
        "start_time": "2022-09-07T04:35:40.641Z"
      },
      {
        "duration": 22,
        "start_time": "2022-09-07T04:35:40.656Z"
      },
      {
        "duration": 251,
        "start_time": "2022-09-07T04:35:40.679Z"
      },
      {
        "duration": 6,
        "start_time": "2022-09-07T04:35:40.931Z"
      },
      {
        "duration": 22,
        "start_time": "2022-09-07T04:35:40.938Z"
      },
      {
        "duration": 200,
        "start_time": "2022-09-07T04:35:40.961Z"
      },
      {
        "duration": 6,
        "start_time": "2022-09-07T04:35:41.164Z"
      },
      {
        "duration": 188,
        "start_time": "2022-09-07T04:35:41.172Z"
      },
      {
        "duration": 7,
        "start_time": "2022-09-07T04:35:41.362Z"
      },
      {
        "duration": 15,
        "start_time": "2022-09-07T04:35:41.371Z"
      },
      {
        "duration": 14,
        "start_time": "2022-09-07T04:35:41.388Z"
      },
      {
        "duration": 9,
        "start_time": "2022-09-07T04:35:41.404Z"
      },
      {
        "duration": 14,
        "start_time": "2022-09-07T04:35:41.415Z"
      },
      {
        "duration": 10,
        "start_time": "2022-09-07T04:35:41.431Z"
      },
      {
        "duration": 30,
        "start_time": "2022-09-07T04:35:41.442Z"
      },
      {
        "duration": 13,
        "start_time": "2022-09-07T04:35:41.474Z"
      },
      {
        "duration": 8,
        "start_time": "2022-09-07T04:35:41.489Z"
      },
      {
        "duration": 20,
        "start_time": "2022-09-07T04:35:41.499Z"
      },
      {
        "duration": 171,
        "start_time": "2022-09-07T04:35:41.521Z"
      },
      {
        "duration": 14,
        "start_time": "2022-09-07T04:35:41.693Z"
      },
      {
        "duration": 15,
        "start_time": "2022-09-07T04:35:41.709Z"
      },
      {
        "duration": 3,
        "start_time": "2022-09-07T04:35:41.726Z"
      },
      {
        "duration": 61,
        "start_time": "2022-09-07T04:35:41.731Z"
      },
      {
        "duration": 10,
        "start_time": "2022-09-07T04:35:41.794Z"
      },
      {
        "duration": 7,
        "start_time": "2022-09-07T04:35:41.806Z"
      },
      {
        "duration": 12,
        "start_time": "2022-09-07T04:35:41.814Z"
      },
      {
        "duration": 11,
        "start_time": "2022-09-07T04:35:41.827Z"
      },
      {
        "duration": 19,
        "start_time": "2022-09-07T04:35:41.839Z"
      },
      {
        "duration": 21,
        "start_time": "2022-09-07T04:35:41.860Z"
      },
      {
        "duration": 3,
        "start_time": "2022-09-07T04:35:41.882Z"
      },
      {
        "duration": 44,
        "start_time": "2022-09-07T04:35:41.886Z"
      },
      {
        "duration": 32,
        "start_time": "2022-09-07T04:35:41.932Z"
      },
      {
        "duration": 4,
        "start_time": "2022-09-07T04:35:41.966Z"
      },
      {
        "duration": 11,
        "start_time": "2022-09-07T04:35:41.972Z"
      },
      {
        "duration": 12,
        "start_time": "2022-09-07T04:35:41.984Z"
      },
      {
        "duration": 50,
        "start_time": "2022-09-07T04:35:41.998Z"
      },
      {
        "duration": 163,
        "start_time": "2022-09-07T04:35:42.049Z"
      },
      {
        "duration": 307,
        "start_time": "2022-09-07T04:35:42.213Z"
      },
      {
        "duration": 44,
        "start_time": "2022-09-07T04:35:42.521Z"
      },
      {
        "duration": 15,
        "start_time": "2022-09-07T04:35:42.567Z"
      },
      {
        "duration": 13,
        "start_time": "2022-09-07T04:35:42.583Z"
      },
      {
        "duration": 7,
        "start_time": "2022-09-07T04:35:42.598Z"
      },
      {
        "duration": 10,
        "start_time": "2022-09-07T04:35:42.606Z"
      },
      {
        "duration": 8908,
        "start_time": "2022-09-07T04:35:42.618Z"
      },
      {
        "duration": 173,
        "start_time": "2022-09-07T04:35:51.528Z"
      },
      {
        "duration": 10,
        "start_time": "2022-09-07T04:35:51.702Z"
      },
      {
        "duration": 15,
        "start_time": "2022-09-07T04:35:51.714Z"
      },
      {
        "duration": 19,
        "start_time": "2022-09-07T04:35:51.730Z"
      },
      {
        "duration": 586,
        "start_time": "2022-09-07T04:35:51.751Z"
      },
      {
        "duration": 3,
        "start_time": "2022-09-07T04:35:52.339Z"
      },
      {
        "duration": 16,
        "start_time": "2022-09-07T04:35:52.344Z"
      },
      {
        "duration": 27,
        "start_time": "2022-09-07T04:35:52.362Z"
      },
      {
        "duration": 5,
        "start_time": "2022-09-07T04:35:52.394Z"
      },
      {
        "duration": 10,
        "start_time": "2022-09-07T04:35:52.400Z"
      },
      {
        "duration": 29,
        "start_time": "2022-09-07T04:35:52.411Z"
      },
      {
        "duration": 21,
        "start_time": "2022-09-07T04:35:52.442Z"
      },
      {
        "duration": 6,
        "start_time": "2022-09-07T04:35:52.465Z"
      },
      {
        "duration": 171,
        "start_time": "2022-09-07T04:35:52.473Z"
      },
      {
        "duration": 12,
        "start_time": "2022-09-07T04:35:52.646Z"
      },
      {
        "duration": 173,
        "start_time": "2022-09-07T04:35:52.660Z"
      },
      {
        "duration": 39,
        "start_time": "2022-09-07T04:35:52.835Z"
      },
      {
        "duration": 7050,
        "start_time": "2022-09-07T04:35:52.876Z"
      },
      {
        "duration": 255,
        "start_time": "2022-09-07T04:35:59.927Z"
      },
      {
        "duration": 20,
        "start_time": "2022-09-07T04:36:00.184Z"
      },
      {
        "duration": 8,
        "start_time": "2022-09-07T04:36:00.206Z"
      },
      {
        "duration": 20,
        "start_time": "2022-09-07T04:36:00.216Z"
      },
      {
        "duration": 29,
        "start_time": "2022-09-07T04:36:00.238Z"
      },
      {
        "duration": 8,
        "start_time": "2022-09-07T04:36:00.269Z"
      },
      {
        "duration": 19,
        "start_time": "2022-09-07T04:36:00.278Z"
      },
      {
        "duration": 9,
        "start_time": "2022-09-07T04:36:00.299Z"
      },
      {
        "duration": 27,
        "start_time": "2022-09-07T04:36:00.310Z"
      },
      {
        "duration": 12,
        "start_time": "2022-09-07T04:36:00.339Z"
      },
      {
        "duration": 33,
        "start_time": "2022-09-07T04:36:00.357Z"
      },
      {
        "duration": 6,
        "start_time": "2022-09-07T04:36:00.392Z"
      },
      {
        "duration": 11,
        "start_time": "2022-09-07T04:36:00.399Z"
      },
      {
        "duration": 13,
        "start_time": "2022-09-07T04:36:00.412Z"
      },
      {
        "duration": 13,
        "start_time": "2022-09-07T04:36:00.426Z"
      },
      {
        "duration": 36,
        "start_time": "2022-09-07T04:36:00.441Z"
      },
      {
        "duration": 27,
        "start_time": "2022-09-07T04:36:00.479Z"
      },
      {
        "duration": 24,
        "start_time": "2022-09-07T04:36:00.508Z"
      },
      {
        "duration": 35,
        "start_time": "2022-09-07T04:36:00.534Z"
      },
      {
        "duration": 25,
        "start_time": "2022-09-07T04:36:00.571Z"
      },
      {
        "duration": 1188,
        "start_time": "2022-09-07T18:24:43.216Z"
      },
      {
        "duration": 210,
        "start_time": "2022-09-07T18:24:44.406Z"
      },
      {
        "duration": 36,
        "start_time": "2022-09-07T18:24:44.618Z"
      },
      {
        "duration": 4,
        "start_time": "2022-09-07T18:24:44.655Z"
      },
      {
        "duration": 14,
        "start_time": "2022-09-07T18:24:44.661Z"
      },
      {
        "duration": 12,
        "start_time": "2022-09-07T18:24:44.676Z"
      },
      {
        "duration": 17,
        "start_time": "2022-09-07T18:24:44.689Z"
      },
      {
        "duration": 5,
        "start_time": "2022-09-07T18:24:44.707Z"
      },
      {
        "duration": 10,
        "start_time": "2022-09-07T18:24:44.713Z"
      },
      {
        "duration": 30,
        "start_time": "2022-09-07T18:24:44.725Z"
      },
      {
        "duration": 9,
        "start_time": "2022-09-07T18:24:44.756Z"
      },
      {
        "duration": 7,
        "start_time": "2022-09-07T18:24:44.766Z"
      },
      {
        "duration": 6,
        "start_time": "2022-09-07T18:24:44.774Z"
      },
      {
        "duration": 19,
        "start_time": "2022-09-07T18:24:44.782Z"
      },
      {
        "duration": 4,
        "start_time": "2022-09-07T18:24:44.803Z"
      },
      {
        "duration": 7,
        "start_time": "2022-09-07T18:24:44.808Z"
      },
      {
        "duration": 51,
        "start_time": "2022-09-07T18:24:44.816Z"
      },
      {
        "duration": 6,
        "start_time": "2022-09-07T18:24:44.869Z"
      },
      {
        "duration": 8,
        "start_time": "2022-09-07T18:24:44.876Z"
      },
      {
        "duration": 15,
        "start_time": "2022-09-07T18:24:44.885Z"
      },
      {
        "duration": 7,
        "start_time": "2022-09-07T18:24:44.901Z"
      },
      {
        "duration": 9,
        "start_time": "2022-09-07T18:24:44.910Z"
      },
      {
        "duration": 36,
        "start_time": "2022-09-07T18:24:44.920Z"
      },
      {
        "duration": 5,
        "start_time": "2022-09-07T18:24:44.957Z"
      },
      {
        "duration": 6,
        "start_time": "2022-09-07T18:24:44.963Z"
      },
      {
        "duration": 6,
        "start_time": "2022-09-07T18:24:44.970Z"
      },
      {
        "duration": 4,
        "start_time": "2022-09-07T18:24:44.979Z"
      },
      {
        "duration": 6,
        "start_time": "2022-09-07T18:24:44.984Z"
      },
      {
        "duration": 2780,
        "start_time": "2022-09-07T18:24:44.991Z"
      },
      {
        "duration": 5,
        "start_time": "2022-09-07T18:24:47.772Z"
      },
      {
        "duration": 19,
        "start_time": "2022-09-07T18:24:47.778Z"
      },
      {
        "duration": 230,
        "start_time": "2022-09-07T18:24:47.798Z"
      },
      {
        "duration": 5,
        "start_time": "2022-09-07T18:24:48.030Z"
      },
      {
        "duration": 18,
        "start_time": "2022-09-07T18:24:48.037Z"
      },
      {
        "duration": 194,
        "start_time": "2022-09-07T18:24:48.057Z"
      },
      {
        "duration": 4,
        "start_time": "2022-09-07T18:24:48.255Z"
      },
      {
        "duration": 168,
        "start_time": "2022-09-07T18:24:48.261Z"
      },
      {
        "duration": 6,
        "start_time": "2022-09-07T18:24:48.430Z"
      },
      {
        "duration": 17,
        "start_time": "2022-09-07T18:24:48.438Z"
      },
      {
        "duration": 6,
        "start_time": "2022-09-07T18:24:48.457Z"
      },
      {
        "duration": 5,
        "start_time": "2022-09-07T18:24:48.616Z"
      },
      {
        "duration": 9,
        "start_time": "2022-09-07T18:24:48.622Z"
      },
      {
        "duration": 13,
        "start_time": "2022-09-07T18:24:48.633Z"
      },
      {
        "duration": 28,
        "start_time": "2022-09-07T18:24:48.648Z"
      },
      {
        "duration": 11,
        "start_time": "2022-09-07T18:24:48.678Z"
      },
      {
        "duration": 6,
        "start_time": "2022-09-07T18:24:48.691Z"
      },
      {
        "duration": 16,
        "start_time": "2022-09-07T18:24:48.699Z"
      },
      {
        "duration": 45,
        "start_time": "2022-09-07T18:24:48.716Z"
      },
      {
        "duration": 13,
        "start_time": "2022-09-07T18:24:48.762Z"
      },
      {
        "duration": 27,
        "start_time": "2022-09-07T18:24:48.777Z"
      },
      {
        "duration": 3,
        "start_time": "2022-09-07T18:24:48.806Z"
      },
      {
        "duration": 52,
        "start_time": "2022-09-07T18:24:48.810Z"
      },
      {
        "duration": 8,
        "start_time": "2022-09-07T18:24:48.864Z"
      },
      {
        "duration": 5,
        "start_time": "2022-09-07T18:24:48.873Z"
      },
      {
        "duration": 9,
        "start_time": "2022-09-07T18:24:48.879Z"
      },
      {
        "duration": 14,
        "start_time": "2022-09-07T18:24:48.889Z"
      },
      {
        "duration": 21,
        "start_time": "2022-09-07T18:24:48.905Z"
      },
      {
        "duration": 3,
        "start_time": "2022-09-07T18:24:48.927Z"
      },
      {
        "duration": 4,
        "start_time": "2022-09-07T18:24:48.932Z"
      },
      {
        "duration": 42,
        "start_time": "2022-09-07T18:24:48.937Z"
      },
      {
        "duration": 4,
        "start_time": "2022-09-07T18:24:48.981Z"
      },
      {
        "duration": 4,
        "start_time": "2022-09-07T18:24:48.986Z"
      },
      {
        "duration": 4,
        "start_time": "2022-09-07T18:24:48.992Z"
      },
      {
        "duration": 34,
        "start_time": "2022-09-07T18:24:48.998Z"
      },
      {
        "duration": 181,
        "start_time": "2022-09-07T18:24:49.034Z"
      },
      {
        "duration": 286,
        "start_time": "2022-09-07T18:24:49.217Z"
      },
      {
        "duration": 33,
        "start_time": "2022-09-07T18:24:49.505Z"
      },
      {
        "duration": 22,
        "start_time": "2022-09-07T18:24:49.539Z"
      },
      {
        "duration": 7,
        "start_time": "2022-09-07T18:24:49.562Z"
      },
      {
        "duration": 9,
        "start_time": "2022-09-07T18:24:49.570Z"
      },
      {
        "duration": 12,
        "start_time": "2022-09-07T18:24:49.580Z"
      },
      {
        "duration": 8546,
        "start_time": "2022-09-07T18:24:49.593Z"
      },
      {
        "duration": 159,
        "start_time": "2022-09-07T18:24:58.141Z"
      },
      {
        "duration": 10,
        "start_time": "2022-09-07T18:24:58.301Z"
      },
      {
        "duration": 6,
        "start_time": "2022-09-07T18:24:58.312Z"
      },
      {
        "duration": 4,
        "start_time": "2022-09-07T18:24:58.319Z"
      },
      {
        "duration": 495,
        "start_time": "2022-09-07T18:24:58.325Z"
      },
      {
        "duration": 2,
        "start_time": "2022-09-07T18:24:58.822Z"
      },
      {
        "duration": 12,
        "start_time": "2022-09-07T18:24:58.826Z"
      },
      {
        "duration": 25,
        "start_time": "2022-09-07T18:24:58.840Z"
      },
      {
        "duration": 2,
        "start_time": "2022-09-07T18:24:58.867Z"
      },
      {
        "duration": 8,
        "start_time": "2022-09-07T18:24:58.870Z"
      },
      {
        "duration": 24,
        "start_time": "2022-09-07T18:24:58.879Z"
      },
      {
        "duration": 20,
        "start_time": "2022-09-07T18:24:58.904Z"
      },
      {
        "duration": 7,
        "start_time": "2022-09-07T18:24:58.925Z"
      },
      {
        "duration": 146,
        "start_time": "2022-09-07T18:24:58.955Z"
      },
      {
        "duration": 6,
        "start_time": "2022-09-07T18:24:59.102Z"
      },
      {
        "duration": 154,
        "start_time": "2022-09-07T18:24:59.110Z"
      },
      {
        "duration": 26,
        "start_time": "2022-09-07T18:24:59.265Z"
      },
      {
        "duration": 6451,
        "start_time": "2022-09-07T18:24:59.292Z"
      },
      {
        "duration": 229,
        "start_time": "2022-09-07T18:25:05.745Z"
      },
      {
        "duration": 20,
        "start_time": "2022-09-07T18:25:05.975Z"
      },
      {
        "duration": 8,
        "start_time": "2022-09-07T18:25:05.996Z"
      },
      {
        "duration": 17,
        "start_time": "2022-09-07T18:25:06.005Z"
      },
      {
        "duration": 31,
        "start_time": "2022-09-07T18:25:06.024Z"
      },
      {
        "duration": 8,
        "start_time": "2022-09-07T18:25:06.056Z"
      },
      {
        "duration": 7,
        "start_time": "2022-09-07T18:25:06.065Z"
      },
      {
        "duration": 5,
        "start_time": "2022-09-07T18:25:06.074Z"
      },
      {
        "duration": 12,
        "start_time": "2022-09-07T18:25:06.080Z"
      },
      {
        "duration": 5,
        "start_time": "2022-09-07T18:25:06.094Z"
      },
      {
        "duration": 20,
        "start_time": "2022-09-07T18:25:06.101Z"
      },
      {
        "duration": 36,
        "start_time": "2022-09-07T18:25:06.122Z"
      },
      {
        "duration": 5,
        "start_time": "2022-09-07T18:25:06.159Z"
      },
      {
        "duration": 12,
        "start_time": "2022-09-07T18:25:06.165Z"
      },
      {
        "duration": 7,
        "start_time": "2022-09-07T18:25:06.178Z"
      },
      {
        "duration": 19,
        "start_time": "2022-09-07T18:25:06.186Z"
      },
      {
        "duration": 19,
        "start_time": "2022-09-07T18:25:06.206Z"
      },
      {
        "duration": 32,
        "start_time": "2022-09-07T18:25:06.226Z"
      },
      {
        "duration": 11,
        "start_time": "2022-09-07T18:25:06.260Z"
      },
      {
        "duration": 12,
        "start_time": "2022-09-07T18:25:06.272Z"
      },
      {
        "duration": 16,
        "start_time": "2022-09-07T18:25:33.806Z"
      },
      {
        "duration": 5,
        "start_time": "2022-09-07T18:25:54.124Z"
      },
      {
        "duration": 115,
        "start_time": "2022-09-07T18:27:57.391Z"
      },
      {
        "duration": 28,
        "start_time": "2022-09-07T18:28:00.394Z"
      },
      {
        "duration": 9,
        "start_time": "2022-09-07T18:28:04.737Z"
      },
      {
        "duration": 31,
        "start_time": "2022-09-07T18:28:10.461Z"
      },
      {
        "duration": 15,
        "start_time": "2022-09-07T18:28:57.265Z"
      },
      {
        "duration": 1309,
        "start_time": "2022-09-08T15:33:50.751Z"
      },
      {
        "duration": 186,
        "start_time": "2022-09-08T15:33:52.062Z"
      },
      {
        "duration": 46,
        "start_time": "2022-09-08T15:33:57.200Z"
      },
      {
        "duration": 4,
        "start_time": "2022-09-08T15:34:10.093Z"
      },
      {
        "duration": 15,
        "start_time": "2022-09-08T15:34:12.813Z"
      },
      {
        "duration": 15,
        "start_time": "2022-09-08T15:34:16.229Z"
      },
      {
        "duration": 24,
        "start_time": "2022-09-08T15:34:19.397Z"
      },
      {
        "duration": 6,
        "start_time": "2022-09-08T15:34:22.298Z"
      },
      {
        "duration": 11,
        "start_time": "2022-09-08T15:34:24.253Z"
      },
      {
        "duration": 4,
        "start_time": "2022-09-08T15:34:27.909Z"
      },
      {
        "duration": 15,
        "start_time": "2022-09-08T15:34:31.950Z"
      },
      {
        "duration": 9,
        "start_time": "2022-09-08T15:34:37.002Z"
      },
      {
        "duration": 14,
        "start_time": "2022-09-08T15:34:43.035Z"
      },
      {
        "duration": 99,
        "start_time": "2022-09-08T15:35:14.383Z"
      },
      {
        "duration": 6,
        "start_time": "2022-09-08T15:35:20.461Z"
      },
      {
        "duration": 13,
        "start_time": "2022-09-08T15:35:38.749Z"
      },
      {
        "duration": 5,
        "start_time": "2022-09-08T15:35:55.733Z"
      },
      {
        "duration": 8,
        "start_time": "2022-09-08T15:36:00.750Z"
      },
      {
        "duration": 20,
        "start_time": "2022-09-08T15:36:03.915Z"
      },
      {
        "duration": 7,
        "start_time": "2022-09-08T15:36:09.621Z"
      },
      {
        "duration": 8,
        "start_time": "2022-09-08T15:36:12.246Z"
      },
      {
        "duration": 16,
        "start_time": "2022-09-08T15:36:21.698Z"
      },
      {
        "duration": 10,
        "start_time": "2022-09-08T15:36:23.782Z"
      },
      {
        "duration": 8,
        "start_time": "2022-09-08T15:36:25.284Z"
      },
      {
        "duration": 6,
        "start_time": "2022-09-08T15:36:28.251Z"
      },
      {
        "duration": 9,
        "start_time": "2022-09-08T15:36:49.939Z"
      },
      {
        "duration": 5,
        "start_time": "2022-09-08T15:36:54.191Z"
      },
      {
        "duration": 7,
        "start_time": "2022-09-08T15:36:54.912Z"
      },
      {
        "duration": 7,
        "start_time": "2022-09-08T15:37:05.759Z"
      },
      {
        "duration": 3125,
        "start_time": "2022-09-08T15:37:27.143Z"
      },
      {
        "duration": 6,
        "start_time": "2022-09-08T15:37:33.116Z"
      },
      {
        "duration": 15,
        "start_time": "2022-09-08T15:37:35.462Z"
      },
      {
        "duration": 237,
        "start_time": "2022-09-08T15:37:41.478Z"
      },
      {
        "duration": 7,
        "start_time": "2022-09-08T15:37:48.523Z"
      },
      {
        "duration": 6,
        "start_time": "2022-09-08T15:37:53.485Z"
      },
      {
        "duration": 218,
        "start_time": "2022-09-08T15:37:59.681Z"
      },
      {
        "duration": 9,
        "start_time": "2022-09-08T15:38:04.244Z"
      },
      {
        "duration": 198,
        "start_time": "2022-09-08T15:38:06.529Z"
      },
      {
        "duration": 7,
        "start_time": "2022-09-08T15:38:11.829Z"
      },
      {
        "duration": 6,
        "start_time": "2022-09-08T15:38:15.714Z"
      },
      {
        "duration": 8,
        "start_time": "2022-09-08T15:38:17.766Z"
      },
      {
        "duration": 4,
        "start_time": "2022-09-08T15:38:20.659Z"
      },
      {
        "duration": 7,
        "start_time": "2022-09-08T15:38:21.428Z"
      },
      {
        "duration": 6,
        "start_time": "2022-09-08T15:38:27.483Z"
      },
      {
        "duration": 25,
        "start_time": "2022-09-08T15:38:31.821Z"
      },
      {
        "duration": 10,
        "start_time": "2022-09-08T15:38:35.770Z"
      },
      {
        "duration": 9,
        "start_time": "2022-09-08T15:38:38.451Z"
      },
      {
        "duration": 16,
        "start_time": "2022-09-08T15:38:42.499Z"
      },
      {
        "duration": 30,
        "start_time": "2022-09-08T15:38:52.556Z"
      },
      {
        "duration": 25,
        "start_time": "2022-09-08T15:43:51.444Z"
      },
      {
        "duration": 1128,
        "start_time": "2022-09-08T15:44:05.863Z"
      },
      {
        "duration": 77,
        "start_time": "2022-09-08T15:44:06.993Z"
      },
      {
        "duration": 43,
        "start_time": "2022-09-08T15:44:07.072Z"
      },
      {
        "duration": 30,
        "start_time": "2022-09-08T15:44:07.117Z"
      },
      {
        "duration": 20,
        "start_time": "2022-09-08T15:44:07.149Z"
      },
      {
        "duration": 14,
        "start_time": "2022-09-08T15:44:07.171Z"
      },
      {
        "duration": 19,
        "start_time": "2022-09-08T15:44:07.187Z"
      },
      {
        "duration": 5,
        "start_time": "2022-09-08T15:44:07.208Z"
      },
      {
        "duration": 33,
        "start_time": "2022-09-08T15:44:07.215Z"
      },
      {
        "duration": 12,
        "start_time": "2022-09-08T15:44:07.252Z"
      },
      {
        "duration": 20,
        "start_time": "2022-09-08T15:44:07.267Z"
      },
      {
        "duration": 15,
        "start_time": "2022-09-08T15:44:07.289Z"
      },
      {
        "duration": 25,
        "start_time": "2022-09-08T15:44:07.306Z"
      },
      {
        "duration": 45,
        "start_time": "2022-09-08T15:44:07.333Z"
      },
      {
        "duration": 16,
        "start_time": "2022-09-08T15:44:07.380Z"
      },
      {
        "duration": 17,
        "start_time": "2022-09-08T15:44:07.398Z"
      },
      {
        "duration": 31,
        "start_time": "2022-09-08T15:44:07.417Z"
      },
      {
        "duration": 21,
        "start_time": "2022-09-08T15:44:07.450Z"
      },
      {
        "duration": 22,
        "start_time": "2022-09-08T15:44:07.473Z"
      },
      {
        "duration": 26,
        "start_time": "2022-09-08T15:44:07.497Z"
      },
      {
        "duration": 10,
        "start_time": "2022-09-08T15:44:07.525Z"
      },
      {
        "duration": 39,
        "start_time": "2022-09-08T15:44:07.537Z"
      },
      {
        "duration": 23,
        "start_time": "2022-09-08T15:44:07.578Z"
      },
      {
        "duration": 8,
        "start_time": "2022-09-08T15:44:07.603Z"
      },
      {
        "duration": 10,
        "start_time": "2022-09-08T15:44:07.613Z"
      },
      {
        "duration": 10,
        "start_time": "2022-09-08T15:44:07.624Z"
      },
      {
        "duration": 16,
        "start_time": "2022-09-08T15:44:07.636Z"
      },
      {
        "duration": 10,
        "start_time": "2022-09-08T15:44:07.657Z"
      },
      {
        "duration": 3082,
        "start_time": "2022-09-08T15:44:07.668Z"
      },
      {
        "duration": 7,
        "start_time": "2022-09-08T15:44:10.752Z"
      },
      {
        "duration": 27,
        "start_time": "2022-09-08T15:44:10.761Z"
      },
      {
        "duration": 241,
        "start_time": "2022-09-08T15:44:10.790Z"
      },
      {
        "duration": 16,
        "start_time": "2022-09-08T15:44:11.036Z"
      },
      {
        "duration": 7,
        "start_time": "2022-09-08T15:44:11.053Z"
      },
      {
        "duration": 208,
        "start_time": "2022-09-08T15:44:11.062Z"
      },
      {
        "duration": 4,
        "start_time": "2022-09-08T15:44:11.272Z"
      },
      {
        "duration": 190,
        "start_time": "2022-09-08T15:44:11.278Z"
      },
      {
        "duration": 7,
        "start_time": "2022-09-08T15:44:11.470Z"
      },
      {
        "duration": 12,
        "start_time": "2022-09-08T15:44:11.478Z"
      },
      {
        "duration": 11,
        "start_time": "2022-09-08T15:44:11.492Z"
      },
      {
        "duration": 4,
        "start_time": "2022-09-08T15:44:11.505Z"
      },
      {
        "duration": 27,
        "start_time": "2022-09-08T15:44:11.510Z"
      },
      {
        "duration": 7,
        "start_time": "2022-09-08T15:44:11.550Z"
      },
      {
        "duration": 21,
        "start_time": "2022-09-08T15:44:11.559Z"
      },
      {
        "duration": 14,
        "start_time": "2022-09-08T15:44:11.582Z"
      },
      {
        "duration": 12,
        "start_time": "2022-09-08T15:44:11.597Z"
      },
      {
        "duration": 21,
        "start_time": "2022-09-08T15:44:11.610Z"
      },
      {
        "duration": 36,
        "start_time": "2022-09-08T15:44:11.637Z"
      },
      {
        "duration": 135,
        "start_time": "2022-09-08T15:44:11.675Z"
      },
      {
        "duration": 19,
        "start_time": "2022-09-08T15:44:31.478Z"
      },
      {
        "duration": 20,
        "start_time": "2022-09-08T15:44:35.032Z"
      },
      {
        "duration": 4,
        "start_time": "2022-09-08T15:44:37.213Z"
      },
      {
        "duration": 64,
        "start_time": "2022-09-08T15:44:46.087Z"
      },
      {
        "duration": 11,
        "start_time": "2022-09-08T15:45:10.400Z"
      },
      {
        "duration": 3,
        "start_time": "2022-09-08T15:45:13.998Z"
      },
      {
        "duration": 10,
        "start_time": "2022-09-08T15:45:43.685Z"
      },
      {
        "duration": 14,
        "start_time": "2022-09-08T15:45:46.809Z"
      },
      {
        "duration": 25,
        "start_time": "2022-09-08T15:45:50.276Z"
      },
      {
        "duration": 29,
        "start_time": "2022-09-08T15:45:54.547Z"
      },
      {
        "duration": 4,
        "start_time": "2022-09-08T15:45:58.247Z"
      },
      {
        "duration": 30,
        "start_time": "2022-09-08T15:46:03.097Z"
      },
      {
        "duration": 169,
        "start_time": "2022-09-08T15:46:07.936Z"
      },
      {
        "duration": 467,
        "start_time": "2022-09-08T15:46:12.490Z"
      },
      {
        "duration": 44,
        "start_time": "2022-09-08T15:46:15.335Z"
      },
      {
        "duration": 14,
        "start_time": "2022-09-08T15:46:18.747Z"
      },
      {
        "duration": 9,
        "start_time": "2022-09-08T15:49:01.656Z"
      },
      {
        "duration": 16,
        "start_time": "2022-09-08T15:49:13.434Z"
      },
      {
        "duration": 3,
        "start_time": "2022-09-08T15:49:16.604Z"
      },
      {
        "duration": 13,
        "start_time": "2022-09-08T15:49:18.754Z"
      },
      {
        "duration": 4,
        "start_time": "2022-09-08T15:50:48.498Z"
      },
      {
        "duration": 873,
        "start_time": "2022-09-08T16:09:44.051Z"
      },
      {
        "duration": 47,
        "start_time": "2022-09-08T16:09:48.350Z"
      },
      {
        "duration": 10,
        "start_time": "2022-09-08T16:09:52.153Z"
      },
      {
        "duration": 15,
        "start_time": "2022-09-08T16:10:04.321Z"
      },
      {
        "duration": 22,
        "start_time": "2022-09-08T16:10:10.192Z"
      },
      {
        "duration": 968,
        "start_time": "2022-09-08T16:10:31.935Z"
      },
      {
        "duration": 903,
        "start_time": "2022-09-08T16:10:37.109Z"
      },
      {
        "duration": 919,
        "start_time": "2022-09-08T16:10:52.292Z"
      },
      {
        "duration": 877,
        "start_time": "2022-09-08T16:10:58.205Z"
      },
      {
        "duration": 5,
        "start_time": "2022-09-08T16:11:55.559Z"
      },
      {
        "duration": 208,
        "start_time": "2022-09-08T16:12:03.273Z"
      },
      {
        "duration": 11,
        "start_time": "2022-09-08T16:12:05.421Z"
      },
      {
        "duration": 10,
        "start_time": "2022-09-08T16:12:07.917Z"
      },
      {
        "duration": 4,
        "start_time": "2022-09-08T16:12:34.098Z"
      },
      {
        "duration": 15,
        "start_time": "2022-09-08T16:49:33.251Z"
      },
      {
        "duration": 8,
        "start_time": "2022-09-08T16:50:34.181Z"
      },
      {
        "duration": 1043,
        "start_time": "2022-09-08T16:52:31.635Z"
      },
      {
        "duration": 966,
        "start_time": "2022-09-08T16:53:11.251Z"
      },
      {
        "duration": 960,
        "start_time": "2022-09-08T16:53:29.488Z"
      },
      {
        "duration": 19,
        "start_time": "2022-09-08T16:53:57.655Z"
      },
      {
        "duration": 11,
        "start_time": "2022-09-08T16:54:25.196Z"
      },
      {
        "duration": 973,
        "start_time": "2022-09-08T16:55:12.286Z"
      },
      {
        "duration": 730,
        "start_time": "2022-09-08T16:55:21.558Z"
      },
      {
        "duration": 15,
        "start_time": "2022-09-08T16:55:37.147Z"
      },
      {
        "duration": 822,
        "start_time": "2022-09-08T16:55:55.976Z"
      },
      {
        "duration": 861,
        "start_time": "2022-09-08T16:56:00.410Z"
      },
      {
        "duration": 9,
        "start_time": "2022-09-08T16:56:14.783Z"
      },
      {
        "duration": 10,
        "start_time": "2022-09-08T16:56:59.464Z"
      },
      {
        "duration": 790,
        "start_time": "2022-09-08T16:58:52.610Z"
      },
      {
        "duration": 7,
        "start_time": "2022-09-08T16:59:12.315Z"
      },
      {
        "duration": 6,
        "start_time": "2022-09-08T16:59:28.311Z"
      },
      {
        "duration": 8,
        "start_time": "2022-09-08T16:59:40.951Z"
      },
      {
        "duration": 7,
        "start_time": "2022-09-08T16:59:54.754Z"
      },
      {
        "duration": 1645,
        "start_time": "2022-09-08T17:00:15.978Z"
      },
      {
        "duration": 1300,
        "start_time": "2022-09-08T17:00:23.048Z"
      },
      {
        "duration": 1234,
        "start_time": "2022-09-08T17:00:45.333Z"
      },
      {
        "duration": 9,
        "start_time": "2022-09-08T17:00:50.054Z"
      },
      {
        "duration": 7,
        "start_time": "2022-09-08T17:01:19.456Z"
      },
      {
        "duration": 6,
        "start_time": "2022-09-08T17:01:27.881Z"
      },
      {
        "duration": 6,
        "start_time": "2022-09-08T17:01:40.085Z"
      },
      {
        "duration": 9,
        "start_time": "2022-09-08T17:03:21.582Z"
      },
      {
        "duration": 9,
        "start_time": "2022-09-08T17:03:27.401Z"
      },
      {
        "duration": 8,
        "start_time": "2022-09-08T17:04:41.225Z"
      },
      {
        "duration": 11131,
        "start_time": "2022-09-08T17:05:01.396Z"
      },
      {
        "duration": 16,
        "start_time": "2022-09-08T17:05:18.333Z"
      },
      {
        "duration": 4,
        "start_time": "2022-09-08T17:05:29.825Z"
      },
      {
        "duration": 5,
        "start_time": "2022-09-08T17:23:54.807Z"
      },
      {
        "duration": 12,
        "start_time": "2022-09-08T17:27:22.732Z"
      },
      {
        "duration": 1371,
        "start_time": "2022-09-08T17:27:56.014Z"
      },
      {
        "duration": 1335,
        "start_time": "2022-09-08T17:28:04.937Z"
      },
      {
        "duration": 4,
        "start_time": "2022-09-08T17:28:18.186Z"
      },
      {
        "duration": 669,
        "start_time": "2022-09-08T17:28:35.054Z"
      },
      {
        "duration": 13,
        "start_time": "2022-09-08T17:30:49.503Z"
      },
      {
        "duration": 15,
        "start_time": "2022-09-08T17:30:51.937Z"
      },
      {
        "duration": 11,
        "start_time": "2022-09-08T17:31:18.351Z"
      },
      {
        "duration": 11,
        "start_time": "2022-09-08T17:31:21.917Z"
      },
      {
        "duration": 8,
        "start_time": "2022-09-08T17:31:34.050Z"
      },
      {
        "duration": 3,
        "start_time": "2022-09-08T17:37:08.450Z"
      },
      {
        "duration": 5,
        "start_time": "2022-09-08T17:37:11.225Z"
      },
      {
        "duration": 9,
        "start_time": "2022-09-08T17:37:32.650Z"
      },
      {
        "duration": 5,
        "start_time": "2022-09-08T17:37:36.451Z"
      },
      {
        "duration": 4,
        "start_time": "2022-09-08T17:38:02.089Z"
      },
      {
        "duration": 1060,
        "start_time": "2022-09-08T17:38:07.372Z"
      },
      {
        "duration": 17,
        "start_time": "2022-09-08T17:38:25.135Z"
      },
      {
        "duration": 7,
        "start_time": "2022-09-08T17:38:29.135Z"
      },
      {
        "duration": 8,
        "start_time": "2022-09-08T17:38:49.558Z"
      },
      {
        "duration": 13,
        "start_time": "2022-09-08T17:39:18.049Z"
      },
      {
        "duration": 18,
        "start_time": "2022-09-08T17:39:23.408Z"
      },
      {
        "duration": 4,
        "start_time": "2022-09-08T17:39:38.523Z"
      },
      {
        "duration": 5,
        "start_time": "2022-09-08T17:39:42.800Z"
      },
      {
        "duration": 11,
        "start_time": "2022-09-08T17:40:01.050Z"
      },
      {
        "duration": 435,
        "start_time": "2022-09-08T17:41:59.557Z"
      },
      {
        "duration": 4,
        "start_time": "2022-09-08T17:42:03.953Z"
      },
      {
        "duration": 81,
        "start_time": "2022-09-08T17:42:15.382Z"
      },
      {
        "duration": 7,
        "start_time": "2022-09-08T17:42:18.253Z"
      },
      {
        "duration": 6,
        "start_time": "2022-09-08T17:42:20.585Z"
      },
      {
        "duration": 5,
        "start_time": "2022-09-08T17:42:24.214Z"
      },
      {
        "duration": 898,
        "start_time": "2022-09-08T17:44:12.584Z"
      },
      {
        "duration": 807,
        "start_time": "2022-09-08T17:44:25.230Z"
      },
      {
        "duration": 844,
        "start_time": "2022-09-08T17:44:41.066Z"
      },
      {
        "duration": 7,
        "start_time": "2022-09-08T17:44:44.904Z"
      },
      {
        "duration": 8,
        "start_time": "2022-09-08T17:44:56.700Z"
      },
      {
        "duration": 1455,
        "start_time": "2022-09-09T03:31:21.358Z"
      },
      {
        "duration": 221,
        "start_time": "2022-09-09T03:31:22.815Z"
      },
      {
        "duration": 44,
        "start_time": "2022-09-09T03:31:23.038Z"
      },
      {
        "duration": 4,
        "start_time": "2022-09-09T03:31:23.084Z"
      },
      {
        "duration": 16,
        "start_time": "2022-09-09T03:31:23.091Z"
      },
      {
        "duration": 15,
        "start_time": "2022-09-09T03:31:23.109Z"
      },
      {
        "duration": 20,
        "start_time": "2022-09-09T03:31:23.125Z"
      },
      {
        "duration": 5,
        "start_time": "2022-09-09T03:31:23.147Z"
      },
      {
        "duration": 39,
        "start_time": "2022-09-09T03:31:23.154Z"
      },
      {
        "duration": 4,
        "start_time": "2022-09-09T03:31:23.195Z"
      },
      {
        "duration": 10,
        "start_time": "2022-09-09T03:31:23.200Z"
      },
      {
        "duration": 8,
        "start_time": "2022-09-09T03:31:23.212Z"
      },
      {
        "duration": 13,
        "start_time": "2022-09-09T03:31:23.222Z"
      },
      {
        "duration": 15,
        "start_time": "2022-09-09T03:31:23.237Z"
      },
      {
        "duration": 7,
        "start_time": "2022-09-09T03:31:23.254Z"
      },
      {
        "duration": 31,
        "start_time": "2022-09-09T03:31:23.263Z"
      },
      {
        "duration": 23,
        "start_time": "2022-09-09T03:31:23.296Z"
      },
      {
        "duration": 8,
        "start_time": "2022-09-09T03:31:23.320Z"
      },
      {
        "duration": 9,
        "start_time": "2022-09-09T03:31:23.329Z"
      },
      {
        "duration": 21,
        "start_time": "2022-09-09T03:31:23.339Z"
      },
      {
        "duration": 37,
        "start_time": "2022-09-09T03:31:23.362Z"
      },
      {
        "duration": 10,
        "start_time": "2022-09-09T03:31:23.401Z"
      },
      {
        "duration": 23,
        "start_time": "2022-09-09T03:31:23.412Z"
      },
      {
        "duration": 7,
        "start_time": "2022-09-09T03:31:23.436Z"
      },
      {
        "duration": 8,
        "start_time": "2022-09-09T03:31:23.444Z"
      },
      {
        "duration": 9,
        "start_time": "2022-09-09T03:31:23.454Z"
      },
      {
        "duration": 29,
        "start_time": "2022-09-09T03:31:23.464Z"
      },
      {
        "duration": 6,
        "start_time": "2022-09-09T03:31:23.498Z"
      },
      {
        "duration": 3298,
        "start_time": "2022-09-09T03:31:23.506Z"
      },
      {
        "duration": 7,
        "start_time": "2022-09-09T03:31:26.807Z"
      },
      {
        "duration": 29,
        "start_time": "2022-09-09T03:31:26.816Z"
      },
      {
        "duration": 291,
        "start_time": "2022-09-09T03:31:26.847Z"
      },
      {
        "duration": 6,
        "start_time": "2022-09-09T03:31:27.140Z"
      },
      {
        "duration": 9,
        "start_time": "2022-09-09T03:31:27.149Z"
      },
      {
        "duration": 248,
        "start_time": "2022-09-09T03:31:27.160Z"
      },
      {
        "duration": 6,
        "start_time": "2022-09-09T03:31:27.410Z"
      },
      {
        "duration": 233,
        "start_time": "2022-09-09T03:31:27.417Z"
      },
      {
        "duration": 8,
        "start_time": "2022-09-09T03:31:27.652Z"
      },
      {
        "duration": 13,
        "start_time": "2022-09-09T03:31:27.662Z"
      },
      {
        "duration": 18,
        "start_time": "2022-09-09T03:31:27.676Z"
      },
      {
        "duration": 6,
        "start_time": "2022-09-09T03:31:27.696Z"
      },
      {
        "duration": 11,
        "start_time": "2022-09-09T03:31:27.703Z"
      },
      {
        "duration": 10,
        "start_time": "2022-09-09T03:31:27.715Z"
      },
      {
        "duration": 22,
        "start_time": "2022-09-09T03:31:27.727Z"
      },
      {
        "duration": 41,
        "start_time": "2022-09-09T03:31:27.750Z"
      },
      {
        "duration": 8,
        "start_time": "2022-09-09T03:31:27.793Z"
      },
      {
        "duration": 21,
        "start_time": "2022-09-09T03:31:27.803Z"
      },
      {
        "duration": 200,
        "start_time": "2022-09-09T03:31:27.826Z"
      },
      {
        "duration": 20,
        "start_time": "2022-09-09T03:31:28.027Z"
      },
      {
        "duration": 18,
        "start_time": "2022-09-09T03:31:28.049Z"
      },
      {
        "duration": 27,
        "start_time": "2022-09-09T03:31:28.068Z"
      },
      {
        "duration": 69,
        "start_time": "2022-09-09T03:31:28.097Z"
      },
      {
        "duration": 10,
        "start_time": "2022-09-09T03:31:28.169Z"
      },
      {
        "duration": 15,
        "start_time": "2022-09-09T03:31:28.182Z"
      },
      {
        "duration": 15,
        "start_time": "2022-09-09T03:31:28.199Z"
      },
      {
        "duration": 27,
        "start_time": "2022-09-09T03:31:28.215Z"
      },
      {
        "duration": 29,
        "start_time": "2022-09-09T03:31:28.244Z"
      },
      {
        "duration": 3,
        "start_time": "2022-09-09T03:31:28.275Z"
      },
      {
        "duration": 16,
        "start_time": "2022-09-09T03:31:28.280Z"
      },
      {
        "duration": 36,
        "start_time": "2022-09-09T03:31:28.298Z"
      },
      {
        "duration": 5,
        "start_time": "2022-09-09T03:31:28.337Z"
      },
      {
        "duration": 27,
        "start_time": "2022-09-09T03:31:28.343Z"
      },
      {
        "duration": 7,
        "start_time": "2022-09-09T03:31:28.372Z"
      },
      {
        "duration": 46,
        "start_time": "2022-09-09T03:31:28.382Z"
      },
      {
        "duration": 210,
        "start_time": "2022-09-09T03:31:28.430Z"
      },
      {
        "duration": 383,
        "start_time": "2022-09-09T03:31:28.642Z"
      },
      {
        "duration": 43,
        "start_time": "2022-09-09T03:31:29.027Z"
      },
      {
        "duration": 39,
        "start_time": "2022-09-09T03:31:29.071Z"
      },
      {
        "duration": 7,
        "start_time": "2022-09-09T03:31:29.112Z"
      },
      {
        "duration": 4,
        "start_time": "2022-09-09T03:33:45.737Z"
      },
      {
        "duration": 16,
        "start_time": "2022-09-09T03:33:52.610Z"
      },
      {
        "duration": 9,
        "start_time": "2022-09-09T03:33:54.411Z"
      },
      {
        "duration": 6,
        "start_time": "2022-09-09T03:33:58.948Z"
      },
      {
        "duration": 107,
        "start_time": "2022-09-09T03:34:50.691Z"
      },
      {
        "duration": 5,
        "start_time": "2022-09-09T03:52:19.413Z"
      },
      {
        "duration": 4,
        "start_time": "2022-09-09T03:52:41.280Z"
      },
      {
        "duration": 4,
        "start_time": "2022-09-09T03:52:45.104Z"
      },
      {
        "duration": 14,
        "start_time": "2022-09-09T03:52:54.337Z"
      },
      {
        "duration": 96,
        "start_time": "2022-09-09T03:53:03.481Z"
      },
      {
        "duration": 73,
        "start_time": "2022-09-09T03:53:06.240Z"
      },
      {
        "duration": 23,
        "start_time": "2022-09-09T03:53:08.342Z"
      },
      {
        "duration": 11,
        "start_time": "2022-09-09T03:53:14.476Z"
      },
      {
        "duration": 4,
        "start_time": "2022-09-09T03:53:22.230Z"
      },
      {
        "duration": 5,
        "start_time": "2022-09-09T03:53:28.496Z"
      },
      {
        "duration": 14,
        "start_time": "2022-09-09T03:53:40.150Z"
      },
      {
        "duration": 12,
        "start_time": "2022-09-09T03:53:45.621Z"
      },
      {
        "duration": 1177,
        "start_time": "2022-09-09T03:53:57.392Z"
      },
      {
        "duration": 4,
        "start_time": "2022-09-09T03:54:02.576Z"
      },
      {
        "duration": 9,
        "start_time": "2022-09-09T03:54:05.911Z"
      },
      {
        "duration": 1254,
        "start_time": "2022-09-09T04:01:39.289Z"
      },
      {
        "duration": 1158,
        "start_time": "2022-09-09T04:01:46.108Z"
      },
      {
        "duration": 100,
        "start_time": "2022-09-09T04:01:55.943Z"
      },
      {
        "duration": 72,
        "start_time": "2022-09-09T04:01:59.309Z"
      },
      {
        "duration": 6,
        "start_time": "2022-09-09T04:02:01.263Z"
      },
      {
        "duration": 7,
        "start_time": "2022-09-09T04:04:33.384Z"
      },
      {
        "duration": 14,
        "start_time": "2022-09-09T04:04:44.018Z"
      },
      {
        "duration": 13,
        "start_time": "2022-09-09T04:04:50.606Z"
      },
      {
        "duration": 68,
        "start_time": "2022-09-09T04:05:01.296Z"
      },
      {
        "duration": 9,
        "start_time": "2022-09-09T04:05:05.889Z"
      },
      {
        "duration": 13,
        "start_time": "2022-09-09T04:05:10.510Z"
      },
      {
        "duration": 14,
        "start_time": "2022-09-09T04:05:16.920Z"
      },
      {
        "duration": 5,
        "start_time": "2022-09-09T04:06:07.313Z"
      },
      {
        "duration": 84,
        "start_time": "2022-09-09T04:08:12.868Z"
      },
      {
        "duration": 11,
        "start_time": "2022-09-09T04:08:21.162Z"
      },
      {
        "duration": 10,
        "start_time": "2022-09-09T04:09:12.888Z"
      },
      {
        "duration": 3,
        "start_time": "2022-09-09T04:09:48.245Z"
      },
      {
        "duration": 12,
        "start_time": "2022-09-09T04:09:50.140Z"
      },
      {
        "duration": 6,
        "start_time": "2022-09-09T04:09:59.738Z"
      },
      {
        "duration": 5,
        "start_time": "2022-09-09T04:14:47.873Z"
      },
      {
        "duration": 6,
        "start_time": "2022-09-09T04:15:03.140Z"
      },
      {
        "duration": 86,
        "start_time": "2022-09-09T04:15:22.631Z"
      },
      {
        "duration": 5,
        "start_time": "2022-09-09T04:15:43.286Z"
      },
      {
        "duration": 5,
        "start_time": "2022-09-09T04:16:19.930Z"
      },
      {
        "duration": 5,
        "start_time": "2022-09-09T04:16:26.960Z"
      },
      {
        "duration": 5,
        "start_time": "2022-09-09T04:20:19.877Z"
      },
      {
        "duration": 1446,
        "start_time": "2022-09-09T04:20:46.049Z"
      },
      {
        "duration": 11,
        "start_time": "2022-09-09T04:21:48.518Z"
      },
      {
        "duration": 98,
        "start_time": "2022-09-09T04:22:17.818Z"
      },
      {
        "duration": 14,
        "start_time": "2022-09-09T04:22:20.286Z"
      },
      {
        "duration": 4,
        "start_time": "2022-09-09T04:22:26.381Z"
      },
      {
        "duration": 13,
        "start_time": "2022-09-09T04:22:33.326Z"
      },
      {
        "duration": 7,
        "start_time": "2022-09-09T04:22:40.258Z"
      },
      {
        "duration": 4,
        "start_time": "2022-09-09T04:27:05.480Z"
      },
      {
        "duration": 8,
        "start_time": "2022-09-09T04:28:29.670Z"
      },
      {
        "duration": 10,
        "start_time": "2022-09-09T04:28:35.727Z"
      },
      {
        "duration": 13,
        "start_time": "2022-09-09T04:28:50.209Z"
      },
      {
        "duration": 9,
        "start_time": "2022-09-09T04:29:01.337Z"
      },
      {
        "duration": 7,
        "start_time": "2022-09-09T04:29:11.443Z"
      },
      {
        "duration": 7,
        "start_time": "2022-09-09T04:30:00.774Z"
      },
      {
        "duration": 27,
        "start_time": "2022-09-09T04:30:24.759Z"
      },
      {
        "duration": 30,
        "start_time": "2022-09-09T04:31:45.431Z"
      },
      {
        "duration": 29,
        "start_time": "2022-09-09T04:33:00.236Z"
      },
      {
        "duration": 24,
        "start_time": "2022-09-09T04:33:46.729Z"
      },
      {
        "duration": 13,
        "start_time": "2022-09-09T04:34:15.931Z"
      },
      {
        "duration": 14,
        "start_time": "2022-09-09T04:34:54.048Z"
      },
      {
        "duration": 8,
        "start_time": "2022-09-09T04:34:58.940Z"
      },
      {
        "duration": 48,
        "start_time": "2022-09-09T04:35:05.771Z"
      },
      {
        "duration": 25,
        "start_time": "2022-09-09T04:35:22.256Z"
      },
      {
        "duration": 35,
        "start_time": "2022-09-09T04:35:26.185Z"
      },
      {
        "duration": 2112,
        "start_time": "2022-09-09T12:03:10.633Z"
      },
      {
        "duration": 161,
        "start_time": "2022-09-09T12:03:12.747Z"
      },
      {
        "duration": 38,
        "start_time": "2022-09-09T12:03:12.909Z"
      },
      {
        "duration": 4,
        "start_time": "2022-09-09T12:03:12.949Z"
      },
      {
        "duration": 21,
        "start_time": "2022-09-09T12:03:12.955Z"
      },
      {
        "duration": 23,
        "start_time": "2022-09-09T12:03:12.978Z"
      },
      {
        "duration": 19,
        "start_time": "2022-09-09T12:03:13.003Z"
      },
      {
        "duration": 14,
        "start_time": "2022-09-09T12:03:13.024Z"
      },
      {
        "duration": 14,
        "start_time": "2022-09-09T12:03:13.040Z"
      },
      {
        "duration": 6,
        "start_time": "2022-09-09T12:03:13.056Z"
      },
      {
        "duration": 10,
        "start_time": "2022-09-09T12:03:13.064Z"
      },
      {
        "duration": 25,
        "start_time": "2022-09-09T12:03:13.075Z"
      },
      {
        "duration": 7,
        "start_time": "2022-09-09T12:03:13.102Z"
      },
      {
        "duration": 24,
        "start_time": "2022-09-09T12:03:13.111Z"
      },
      {
        "duration": 6,
        "start_time": "2022-09-09T12:03:13.137Z"
      },
      {
        "duration": 8,
        "start_time": "2022-09-09T12:03:13.144Z"
      },
      {
        "duration": 19,
        "start_time": "2022-09-09T12:03:13.154Z"
      },
      {
        "duration": 27,
        "start_time": "2022-09-09T12:03:13.174Z"
      },
      {
        "duration": 7,
        "start_time": "2022-09-09T12:03:13.203Z"
      },
      {
        "duration": 22,
        "start_time": "2022-09-09T12:03:13.212Z"
      },
      {
        "duration": 8,
        "start_time": "2022-09-09T12:03:13.236Z"
      },
      {
        "duration": 11,
        "start_time": "2022-09-09T12:03:13.246Z"
      },
      {
        "duration": 19,
        "start_time": "2022-09-09T12:03:13.259Z"
      },
      {
        "duration": 24,
        "start_time": "2022-09-09T12:03:13.279Z"
      },
      {
        "duration": 6,
        "start_time": "2022-09-09T12:03:13.305Z"
      },
      {
        "duration": 9,
        "start_time": "2022-09-09T12:03:13.312Z"
      },
      {
        "duration": 7,
        "start_time": "2022-09-09T12:03:13.322Z"
      },
      {
        "duration": 10,
        "start_time": "2022-09-09T12:03:13.332Z"
      },
      {
        "duration": 2900,
        "start_time": "2022-09-09T12:03:13.343Z"
      },
      {
        "duration": 7,
        "start_time": "2022-09-09T12:03:16.245Z"
      },
      {
        "duration": 19,
        "start_time": "2022-09-09T12:03:16.254Z"
      },
      {
        "duration": 250,
        "start_time": "2022-09-09T12:03:16.275Z"
      },
      {
        "duration": 5,
        "start_time": "2022-09-09T12:03:16.527Z"
      },
      {
        "duration": 5,
        "start_time": "2022-09-09T12:03:16.534Z"
      },
      {
        "duration": 210,
        "start_time": "2022-09-09T12:03:16.540Z"
      },
      {
        "duration": 4,
        "start_time": "2022-09-09T12:03:16.752Z"
      },
      {
        "duration": 181,
        "start_time": "2022-09-09T12:03:16.758Z"
      },
      {
        "duration": 6,
        "start_time": "2022-09-09T12:03:16.940Z"
      },
      {
        "duration": 8,
        "start_time": "2022-09-09T12:03:16.948Z"
      },
      {
        "duration": 20,
        "start_time": "2022-09-09T12:03:16.957Z"
      },
      {
        "duration": 5,
        "start_time": "2022-09-09T12:03:16.978Z"
      },
      {
        "duration": 19,
        "start_time": "2022-09-09T12:03:16.984Z"
      },
      {
        "duration": 9,
        "start_time": "2022-09-09T12:03:17.004Z"
      },
      {
        "duration": 21,
        "start_time": "2022-09-09T12:03:17.014Z"
      },
      {
        "duration": 13,
        "start_time": "2022-09-09T12:03:17.037Z"
      },
      {
        "duration": 12,
        "start_time": "2022-09-09T12:03:17.051Z"
      },
      {
        "duration": 20,
        "start_time": "2022-09-09T12:03:17.064Z"
      },
      {
        "duration": 169,
        "start_time": "2022-09-09T12:03:17.100Z"
      },
      {
        "duration": 18,
        "start_time": "2022-09-09T12:03:17.271Z"
      },
      {
        "duration": 15,
        "start_time": "2022-09-09T12:03:17.300Z"
      },
      {
        "duration": 3,
        "start_time": "2022-09-09T12:03:17.316Z"
      },
      {
        "duration": 59,
        "start_time": "2022-09-09T12:03:17.321Z"
      },
      {
        "duration": 9,
        "start_time": "2022-09-09T12:03:17.382Z"
      },
      {
        "duration": 4,
        "start_time": "2022-09-09T12:03:17.393Z"
      },
      {
        "duration": 15,
        "start_time": "2022-09-09T12:03:17.400Z"
      },
      {
        "duration": 19,
        "start_time": "2022-09-09T12:03:17.417Z"
      },
      {
        "duration": 36,
        "start_time": "2022-09-09T12:03:17.440Z"
      },
      {
        "duration": 3,
        "start_time": "2022-09-09T12:03:17.477Z"
      },
      {
        "duration": 2,
        "start_time": "2022-09-09T12:03:17.500Z"
      },
      {
        "duration": 32,
        "start_time": "2022-09-09T12:03:17.504Z"
      },
      {
        "duration": 3,
        "start_time": "2022-09-09T12:03:17.537Z"
      },
      {
        "duration": 7,
        "start_time": "2022-09-09T12:03:17.542Z"
      },
      {
        "duration": 5,
        "start_time": "2022-09-09T12:03:17.551Z"
      },
      {
        "duration": 43,
        "start_time": "2022-09-09T12:03:17.558Z"
      },
      {
        "duration": 159,
        "start_time": "2022-09-09T12:03:17.603Z"
      },
      {
        "duration": 319,
        "start_time": "2022-09-09T12:03:17.764Z"
      },
      {
        "duration": 37,
        "start_time": "2022-09-09T12:03:18.085Z"
      },
      {
        "duration": 11,
        "start_time": "2022-09-09T12:03:18.124Z"
      },
      {
        "duration": 6,
        "start_time": "2022-09-09T12:03:18.136Z"
      },
      {
        "duration": 13,
        "start_time": "2022-09-09T12:03:18.143Z"
      },
      {
        "duration": 1431,
        "start_time": "2022-09-09T17:23:33.835Z"
      },
      {
        "duration": 230,
        "start_time": "2022-09-09T17:23:35.268Z"
      },
      {
        "duration": 50,
        "start_time": "2022-09-09T17:23:35.500Z"
      },
      {
        "duration": 5,
        "start_time": "2022-09-09T17:23:35.552Z"
      },
      {
        "duration": 37,
        "start_time": "2022-09-09T17:23:35.558Z"
      },
      {
        "duration": 27,
        "start_time": "2022-09-09T17:23:35.597Z"
      },
      {
        "duration": 23,
        "start_time": "2022-09-09T17:23:35.626Z"
      },
      {
        "duration": 7,
        "start_time": "2022-09-09T17:23:35.651Z"
      },
      {
        "duration": 17,
        "start_time": "2022-09-09T17:23:35.660Z"
      },
      {
        "duration": 15,
        "start_time": "2022-09-09T17:23:35.679Z"
      },
      {
        "duration": 11,
        "start_time": "2022-09-09T17:23:35.695Z"
      },
      {
        "duration": 13,
        "start_time": "2022-09-09T17:23:35.708Z"
      },
      {
        "duration": 12,
        "start_time": "2022-09-09T17:23:35.723Z"
      },
      {
        "duration": 29,
        "start_time": "2022-09-09T17:23:35.737Z"
      },
      {
        "duration": 16,
        "start_time": "2022-09-09T17:23:35.767Z"
      },
      {
        "duration": 16,
        "start_time": "2022-09-09T17:23:35.791Z"
      },
      {
        "duration": 25,
        "start_time": "2022-09-09T17:23:35.809Z"
      },
      {
        "duration": 8,
        "start_time": "2022-09-09T17:23:35.836Z"
      },
      {
        "duration": 21,
        "start_time": "2022-09-09T17:23:35.846Z"
      },
      {
        "duration": 31,
        "start_time": "2022-09-09T17:23:35.869Z"
      },
      {
        "duration": 10,
        "start_time": "2022-09-09T17:23:35.902Z"
      },
      {
        "duration": 12,
        "start_time": "2022-09-09T17:23:35.914Z"
      },
      {
        "duration": 36,
        "start_time": "2022-09-09T17:23:35.928Z"
      },
      {
        "duration": 7,
        "start_time": "2022-09-09T17:23:35.966Z"
      },
      {
        "duration": 17,
        "start_time": "2022-09-09T17:23:35.975Z"
      },
      {
        "duration": 7,
        "start_time": "2022-09-09T17:23:35.994Z"
      },
      {
        "duration": 10,
        "start_time": "2022-09-09T17:23:36.003Z"
      },
      {
        "duration": 8,
        "start_time": "2022-09-09T17:23:36.019Z"
      },
      {
        "duration": 3417,
        "start_time": "2022-09-09T17:23:36.029Z"
      },
      {
        "duration": 8,
        "start_time": "2022-09-09T17:23:39.448Z"
      },
      {
        "duration": 20,
        "start_time": "2022-09-09T17:23:39.457Z"
      },
      {
        "duration": 319,
        "start_time": "2022-09-09T17:23:39.478Z"
      },
      {
        "duration": 8,
        "start_time": "2022-09-09T17:23:39.799Z"
      },
      {
        "duration": 10,
        "start_time": "2022-09-09T17:23:39.809Z"
      },
      {
        "duration": 256,
        "start_time": "2022-09-09T17:23:39.821Z"
      },
      {
        "duration": 13,
        "start_time": "2022-09-09T17:23:40.079Z"
      },
      {
        "duration": 224,
        "start_time": "2022-09-09T17:23:40.094Z"
      },
      {
        "duration": 8,
        "start_time": "2022-09-09T17:23:40.320Z"
      },
      {
        "duration": 13,
        "start_time": "2022-09-09T17:23:40.330Z"
      },
      {
        "duration": 36,
        "start_time": "2022-09-09T17:23:40.345Z"
      },
      {
        "duration": 30,
        "start_time": "2022-09-09T17:23:40.383Z"
      },
      {
        "duration": 17,
        "start_time": "2022-09-09T17:23:40.415Z"
      },
      {
        "duration": 39,
        "start_time": "2022-09-09T17:23:40.433Z"
      },
      {
        "duration": 27,
        "start_time": "2022-09-09T17:23:40.474Z"
      },
      {
        "duration": 13,
        "start_time": "2022-09-09T17:23:40.504Z"
      },
      {
        "duration": 19,
        "start_time": "2022-09-09T17:23:40.519Z"
      },
      {
        "duration": 24,
        "start_time": "2022-09-09T17:23:40.540Z"
      },
      {
        "duration": 201,
        "start_time": "2022-09-09T17:23:40.565Z"
      },
      {
        "duration": 32,
        "start_time": "2022-09-09T17:23:40.768Z"
      },
      {
        "duration": 17,
        "start_time": "2022-09-09T17:23:40.802Z"
      },
      {
        "duration": 4,
        "start_time": "2022-09-09T17:23:40.820Z"
      },
      {
        "duration": 63,
        "start_time": "2022-09-09T17:23:40.825Z"
      },
      {
        "duration": 11,
        "start_time": "2022-09-09T17:23:40.890Z"
      },
      {
        "duration": 6,
        "start_time": "2022-09-09T17:23:40.903Z"
      },
      {
        "duration": 14,
        "start_time": "2022-09-09T17:23:40.911Z"
      },
      {
        "duration": 15,
        "start_time": "2022-09-09T17:23:40.927Z"
      },
      {
        "duration": 58,
        "start_time": "2022-09-09T17:23:40.943Z"
      },
      {
        "duration": 2,
        "start_time": "2022-09-09T17:23:41.003Z"
      },
      {
        "duration": 8,
        "start_time": "2022-09-09T17:23:41.007Z"
      },
      {
        "duration": 34,
        "start_time": "2022-09-09T17:23:41.017Z"
      },
      {
        "duration": 4,
        "start_time": "2022-09-09T17:23:41.053Z"
      },
      {
        "duration": 6,
        "start_time": "2022-09-09T17:23:41.059Z"
      },
      {
        "duration": 8,
        "start_time": "2022-09-09T17:23:41.092Z"
      },
      {
        "duration": 34,
        "start_time": "2022-09-09T17:23:41.102Z"
      },
      {
        "duration": 214,
        "start_time": "2022-09-09T17:23:41.138Z"
      },
      {
        "duration": 389,
        "start_time": "2022-09-09T17:23:41.354Z"
      },
      {
        "duration": 64,
        "start_time": "2022-09-09T17:23:41.746Z"
      },
      {
        "duration": 17,
        "start_time": "2022-09-09T17:23:41.813Z"
      },
      {
        "duration": 27,
        "start_time": "2022-09-09T17:23:41.833Z"
      },
      {
        "duration": 24,
        "start_time": "2022-09-09T17:23:41.866Z"
      },
      {
        "duration": 25,
        "start_time": "2022-09-09T17:23:41.892Z"
      },
      {
        "duration": 22,
        "start_time": "2022-09-09T17:23:41.919Z"
      },
      {
        "duration": 19,
        "start_time": "2022-09-09T17:23:41.944Z"
      },
      {
        "duration": 15,
        "start_time": "2022-09-09T17:23:41.965Z"
      },
      {
        "duration": 3,
        "start_time": "2022-09-09T17:26:18.340Z"
      },
      {
        "duration": 5,
        "start_time": "2022-09-09T17:27:50.792Z"
      },
      {
        "duration": 4,
        "start_time": "2022-09-09T17:28:14.603Z"
      },
      {
        "duration": 6,
        "start_time": "2022-09-09T17:28:59.930Z"
      },
      {
        "duration": 13,
        "start_time": "2022-09-09T17:29:13.164Z"
      },
      {
        "duration": 122,
        "start_time": "2022-09-09T17:29:33.087Z"
      },
      {
        "duration": 1406,
        "start_time": "2022-09-09T17:32:00.932Z"
      },
      {
        "duration": 1548,
        "start_time": "2022-09-09T17:33:17.262Z"
      },
      {
        "duration": 1465,
        "start_time": "2022-09-09T17:33:29.810Z"
      },
      {
        "duration": 1528,
        "start_time": "2022-09-09T17:33:40.663Z"
      },
      {
        "duration": 10,
        "start_time": "2022-09-09T17:33:55.839Z"
      },
      {
        "duration": 13,
        "start_time": "2022-09-09T17:34:07.737Z"
      },
      {
        "duration": 13,
        "start_time": "2022-09-09T17:34:26.842Z"
      },
      {
        "duration": 5,
        "start_time": "2022-09-09T17:35:16.201Z"
      },
      {
        "duration": 4,
        "start_time": "2022-09-09T17:35:34.985Z"
      },
      {
        "duration": 87,
        "start_time": "2022-09-09T17:35:34.991Z"
      },
      {
        "duration": 56,
        "start_time": "2022-09-09T17:35:35.080Z"
      },
      {
        "duration": 5,
        "start_time": "2022-09-09T17:35:35.138Z"
      },
      {
        "duration": 34,
        "start_time": "2022-09-09T17:35:35.146Z"
      },
      {
        "duration": 21,
        "start_time": "2022-09-09T17:35:35.182Z"
      },
      {
        "duration": 38,
        "start_time": "2022-09-09T17:35:35.205Z"
      },
      {
        "duration": 7,
        "start_time": "2022-09-09T17:35:35.245Z"
      },
      {
        "duration": 39,
        "start_time": "2022-09-09T17:35:35.254Z"
      },
      {
        "duration": 3,
        "start_time": "2022-09-09T17:35:35.295Z"
      },
      {
        "duration": 21,
        "start_time": "2022-09-09T17:35:35.300Z"
      },
      {
        "duration": 11,
        "start_time": "2022-09-09T17:35:35.423Z"
      },
      {
        "duration": 16,
        "start_time": "2022-09-09T17:35:35.436Z"
      },
      {
        "duration": 30,
        "start_time": "2022-09-09T17:35:35.454Z"
      },
      {
        "duration": 9,
        "start_time": "2022-09-09T17:35:35.486Z"
      },
      {
        "duration": 20,
        "start_time": "2022-09-09T17:35:35.497Z"
      },
      {
        "duration": 28,
        "start_time": "2022-09-09T17:35:35.519Z"
      },
      {
        "duration": 31,
        "start_time": "2022-09-09T17:35:35.549Z"
      },
      {
        "duration": 7,
        "start_time": "2022-09-09T17:35:35.667Z"
      },
      {
        "duration": 33,
        "start_time": "2022-09-09T17:35:35.676Z"
      },
      {
        "duration": 14,
        "start_time": "2022-09-09T17:35:35.711Z"
      },
      {
        "duration": 18,
        "start_time": "2022-09-09T17:35:35.727Z"
      },
      {
        "duration": 40,
        "start_time": "2022-09-09T17:35:35.747Z"
      },
      {
        "duration": 9,
        "start_time": "2022-09-09T17:35:35.789Z"
      },
      {
        "duration": 14,
        "start_time": "2022-09-09T17:35:35.800Z"
      },
      {
        "duration": 12,
        "start_time": "2022-09-09T17:35:35.816Z"
      },
      {
        "duration": 13,
        "start_time": "2022-09-09T17:35:35.830Z"
      },
      {
        "duration": 7,
        "start_time": "2022-09-09T17:35:35.887Z"
      },
      {
        "duration": 3598,
        "start_time": "2022-09-09T17:35:35.896Z"
      },
      {
        "duration": 7,
        "start_time": "2022-09-09T17:35:39.497Z"
      },
      {
        "duration": 20,
        "start_time": "2022-09-09T17:35:39.506Z"
      },
      {
        "duration": 302,
        "start_time": "2022-09-09T17:35:39.529Z"
      },
      {
        "duration": 7,
        "start_time": "2022-09-09T17:35:39.834Z"
      },
      {
        "duration": 7,
        "start_time": "2022-09-09T17:35:39.843Z"
      },
      {
        "duration": 256,
        "start_time": "2022-09-09T17:35:39.852Z"
      },
      {
        "duration": 6,
        "start_time": "2022-09-09T17:35:40.110Z"
      },
      {
        "duration": 245,
        "start_time": "2022-09-09T17:35:40.118Z"
      },
      {
        "duration": 9,
        "start_time": "2022-09-09T17:35:40.365Z"
      },
      {
        "duration": 21,
        "start_time": "2022-09-09T17:35:40.376Z"
      },
      {
        "duration": 19,
        "start_time": "2022-09-09T17:35:40.399Z"
      },
      {
        "duration": 7,
        "start_time": "2022-09-09T17:35:40.421Z"
      },
      {
        "duration": 12,
        "start_time": "2022-09-09T17:35:40.429Z"
      },
      {
        "duration": 14,
        "start_time": "2022-09-09T17:35:40.443Z"
      },
      {
        "duration": 45,
        "start_time": "2022-09-09T17:35:40.459Z"
      },
      {
        "duration": 12,
        "start_time": "2022-09-09T17:35:40.506Z"
      },
      {
        "duration": 11,
        "start_time": "2022-09-09T17:35:40.520Z"
      },
      {
        "duration": 24,
        "start_time": "2022-09-09T17:35:40.533Z"
      },
      {
        "duration": 51,
        "start_time": "2022-09-09T17:35:40.559Z"
      },
      {
        "duration": 22,
        "start_time": "2022-09-09T17:35:40.612Z"
      },
      {
        "duration": 17,
        "start_time": "2022-09-09T17:35:40.636Z"
      },
      {
        "duration": 4,
        "start_time": "2022-09-09T17:35:40.655Z"
      },
      {
        "duration": 63,
        "start_time": "2022-09-09T17:35:40.661Z"
      },
      {
        "duration": 12,
        "start_time": "2022-09-09T17:35:40.725Z"
      },
      {
        "duration": 6,
        "start_time": "2022-09-09T17:35:40.738Z"
      },
      {
        "duration": 17,
        "start_time": "2022-09-09T17:35:40.746Z"
      },
      {
        "duration": 33,
        "start_time": "2022-09-09T17:35:40.765Z"
      },
      {
        "duration": 31,
        "start_time": "2022-09-09T17:35:40.800Z"
      },
      {
        "duration": 3,
        "start_time": "2022-09-09T17:35:40.832Z"
      },
      {
        "duration": 5,
        "start_time": "2022-09-09T17:35:40.836Z"
      },
      {
        "duration": 34,
        "start_time": "2022-09-09T17:35:40.844Z"
      },
      {
        "duration": 5,
        "start_time": "2022-09-09T17:35:40.892Z"
      },
      {
        "duration": 5,
        "start_time": "2022-09-09T17:35:40.898Z"
      },
      {
        "duration": 7,
        "start_time": "2022-09-09T17:35:40.904Z"
      },
      {
        "duration": 55,
        "start_time": "2022-09-09T17:35:40.912Z"
      },
      {
        "duration": 200,
        "start_time": "2022-09-09T17:35:40.970Z"
      },
      {
        "duration": 345,
        "start_time": "2022-09-09T17:35:41.172Z"
      },
      {
        "duration": 42,
        "start_time": "2022-09-09T17:35:41.519Z"
      },
      {
        "duration": 27,
        "start_time": "2022-09-09T17:35:41.564Z"
      },
      {
        "duration": 3,
        "start_time": "2022-09-09T17:35:41.593Z"
      },
      {
        "duration": 16,
        "start_time": "2022-09-09T17:35:41.598Z"
      },
      {
        "duration": 16,
        "start_time": "2022-09-09T17:35:41.616Z"
      },
      {
        "duration": 5,
        "start_time": "2022-09-09T17:35:41.634Z"
      },
      {
        "duration": 12,
        "start_time": "2022-09-09T17:35:41.641Z"
      },
      {
        "duration": 11,
        "start_time": "2022-09-09T17:35:41.655Z"
      },
      {
        "duration": 8,
        "start_time": "2022-09-09T17:35:41.668Z"
      },
      {
        "duration": 1313,
        "start_time": "2022-09-09T17:35:54.773Z"
      },
      {
        "duration": 74,
        "start_time": "2022-09-09T17:35:56.088Z"
      },
      {
        "duration": 44,
        "start_time": "2022-09-09T17:35:56.164Z"
      },
      {
        "duration": 4,
        "start_time": "2022-09-09T17:35:56.209Z"
      },
      {
        "duration": 21,
        "start_time": "2022-09-09T17:35:56.215Z"
      },
      {
        "duration": 15,
        "start_time": "2022-09-09T17:35:56.238Z"
      },
      {
        "duration": 20,
        "start_time": "2022-09-09T17:35:56.254Z"
      },
      {
        "duration": 20,
        "start_time": "2022-09-09T17:35:56.276Z"
      },
      {
        "duration": 22,
        "start_time": "2022-09-09T17:35:56.297Z"
      },
      {
        "duration": 8,
        "start_time": "2022-09-09T17:35:56.320Z"
      },
      {
        "duration": 11,
        "start_time": "2022-09-09T17:35:56.329Z"
      },
      {
        "duration": 10,
        "start_time": "2022-09-09T17:35:56.342Z"
      },
      {
        "duration": 10,
        "start_time": "2022-09-09T17:35:56.354Z"
      },
      {
        "duration": 35,
        "start_time": "2022-09-09T17:35:56.367Z"
      },
      {
        "duration": 13,
        "start_time": "2022-09-09T17:35:56.404Z"
      },
      {
        "duration": 11,
        "start_time": "2022-09-09T17:35:56.419Z"
      },
      {
        "duration": 23,
        "start_time": "2022-09-09T17:35:56.432Z"
      },
      {
        "duration": 7,
        "start_time": "2022-09-09T17:35:56.456Z"
      },
      {
        "duration": 28,
        "start_time": "2022-09-09T17:35:56.464Z"
      },
      {
        "duration": 21,
        "start_time": "2022-09-09T17:35:56.494Z"
      },
      {
        "duration": 9,
        "start_time": "2022-09-09T17:35:56.517Z"
      },
      {
        "duration": 13,
        "start_time": "2022-09-09T17:35:56.528Z"
      },
      {
        "duration": 24,
        "start_time": "2022-09-09T17:35:56.543Z"
      },
      {
        "duration": 6,
        "start_time": "2022-09-09T17:35:56.569Z"
      },
      {
        "duration": 22,
        "start_time": "2022-09-09T17:35:56.577Z"
      },
      {
        "duration": 15,
        "start_time": "2022-09-09T17:35:56.600Z"
      },
      {
        "duration": 13,
        "start_time": "2022-09-09T17:35:56.617Z"
      },
      {
        "duration": 12,
        "start_time": "2022-09-09T17:35:56.631Z"
      },
      {
        "duration": 3220,
        "start_time": "2022-09-09T17:35:56.645Z"
      },
      {
        "duration": 8,
        "start_time": "2022-09-09T17:35:59.867Z"
      },
      {
        "duration": 37,
        "start_time": "2022-09-09T17:35:59.876Z"
      },
      {
        "duration": 298,
        "start_time": "2022-09-09T17:35:59.915Z"
      },
      {
        "duration": 7,
        "start_time": "2022-09-09T17:36:00.216Z"
      },
      {
        "duration": 26,
        "start_time": "2022-09-09T17:36:00.225Z"
      },
      {
        "duration": 230,
        "start_time": "2022-09-09T17:36:00.253Z"
      },
      {
        "duration": 8,
        "start_time": "2022-09-09T17:36:00.485Z"
      },
      {
        "duration": 216,
        "start_time": "2022-09-09T17:36:00.495Z"
      },
      {
        "duration": 8,
        "start_time": "2022-09-09T17:36:00.713Z"
      },
      {
        "duration": 13,
        "start_time": "2022-09-09T17:36:00.722Z"
      },
      {
        "duration": 43,
        "start_time": "2022-09-09T17:36:00.737Z"
      },
      {
        "duration": 24,
        "start_time": "2022-09-09T17:36:00.785Z"
      },
      {
        "duration": 23,
        "start_time": "2022-09-09T17:36:00.811Z"
      },
      {
        "duration": 12,
        "start_time": "2022-09-09T17:36:00.836Z"
      },
      {
        "duration": 29,
        "start_time": "2022-09-09T17:36:00.850Z"
      },
      {
        "duration": 21,
        "start_time": "2022-09-09T17:36:00.881Z"
      },
      {
        "duration": 18,
        "start_time": "2022-09-09T17:36:00.905Z"
      },
      {
        "duration": 50,
        "start_time": "2022-09-09T17:36:00.925Z"
      },
      {
        "duration": 194,
        "start_time": "2022-09-09T17:36:00.977Z"
      },
      {
        "duration": 27,
        "start_time": "2022-09-09T17:36:01.173Z"
      },
      {
        "duration": 39,
        "start_time": "2022-09-09T17:36:01.202Z"
      },
      {
        "duration": 11,
        "start_time": "2022-09-09T17:36:01.243Z"
      },
      {
        "duration": 108,
        "start_time": "2022-09-09T17:36:01.255Z"
      },
      {
        "duration": 11,
        "start_time": "2022-09-09T17:36:01.365Z"
      },
      {
        "duration": 51,
        "start_time": "2022-09-09T17:36:01.378Z"
      },
      {
        "duration": 17,
        "start_time": "2022-09-09T17:36:01.431Z"
      },
      {
        "duration": 26,
        "start_time": "2022-09-09T17:36:01.450Z"
      },
      {
        "duration": 39,
        "start_time": "2022-09-09T17:36:01.478Z"
      },
      {
        "duration": 2,
        "start_time": "2022-09-09T17:36:01.519Z"
      },
      {
        "duration": 18,
        "start_time": "2022-09-09T17:36:01.523Z"
      },
      {
        "duration": 41,
        "start_time": "2022-09-09T17:36:01.543Z"
      },
      {
        "duration": 4,
        "start_time": "2022-09-09T17:36:01.585Z"
      },
      {
        "duration": 12,
        "start_time": "2022-09-09T17:36:01.592Z"
      },
      {
        "duration": 12,
        "start_time": "2022-09-09T17:36:01.606Z"
      },
      {
        "duration": 44,
        "start_time": "2022-09-09T17:36:01.619Z"
      },
      {
        "duration": 220,
        "start_time": "2022-09-09T17:36:01.665Z"
      },
      {
        "duration": 410,
        "start_time": "2022-09-09T17:36:01.887Z"
      },
      {
        "duration": 40,
        "start_time": "2022-09-09T17:36:02.299Z"
      },
      {
        "duration": 14,
        "start_time": "2022-09-09T17:36:02.340Z"
      },
      {
        "duration": 24,
        "start_time": "2022-09-09T17:36:02.355Z"
      },
      {
        "duration": 35,
        "start_time": "2022-09-09T17:36:02.382Z"
      },
      {
        "duration": 35,
        "start_time": "2022-09-09T17:36:02.419Z"
      },
      {
        "duration": 26,
        "start_time": "2022-09-09T17:36:02.456Z"
      },
      {
        "duration": 24,
        "start_time": "2022-09-09T17:36:02.483Z"
      },
      {
        "duration": 17,
        "start_time": "2022-09-09T17:36:02.508Z"
      },
      {
        "duration": 3,
        "start_time": "2022-09-09T17:36:23.043Z"
      },
      {
        "duration": 12,
        "start_time": "2022-09-09T17:36:27.391Z"
      },
      {
        "duration": 11,
        "start_time": "2022-09-09T17:36:30.510Z"
      },
      {
        "duration": 110,
        "start_time": "2022-09-09T17:39:13.781Z"
      },
      {
        "duration": 14,
        "start_time": "2022-09-09T17:39:25.206Z"
      },
      {
        "duration": 875,
        "start_time": "2022-09-09T17:39:30.047Z"
      },
      {
        "duration": 15,
        "start_time": "2022-09-09T17:39:48.265Z"
      },
      {
        "duration": 6,
        "start_time": "2022-09-09T17:39:56.260Z"
      },
      {
        "duration": 57,
        "start_time": "2022-09-09T17:40:58.378Z"
      },
      {
        "duration": 11,
        "start_time": "2022-09-09T17:41:04.658Z"
      },
      {
        "duration": 11,
        "start_time": "2022-09-09T17:41:14.509Z"
      },
      {
        "duration": 53,
        "start_time": "2022-09-09T17:41:18.651Z"
      },
      {
        "duration": 13,
        "start_time": "2022-09-09T17:41:22.507Z"
      },
      {
        "duration": 11,
        "start_time": "2022-09-09T17:41:41.159Z"
      },
      {
        "duration": 10,
        "start_time": "2022-09-09T17:42:45.379Z"
      },
      {
        "duration": 17,
        "start_time": "2022-09-09T17:42:51.814Z"
      },
      {
        "duration": 11,
        "start_time": "2022-09-09T17:42:56.574Z"
      },
      {
        "duration": 13,
        "start_time": "2022-09-09T17:42:59.535Z"
      },
      {
        "duration": 22,
        "start_time": "2022-09-09T17:43:16.208Z"
      },
      {
        "duration": 11,
        "start_time": "2022-09-09T17:43:42.642Z"
      },
      {
        "duration": 10,
        "start_time": "2022-09-09T17:44:06.704Z"
      },
      {
        "duration": 13,
        "start_time": "2022-09-09T17:44:08.785Z"
      },
      {
        "duration": 12,
        "start_time": "2022-09-09T17:44:12.046Z"
      },
      {
        "duration": 20,
        "start_time": "2022-09-09T17:44:26.281Z"
      },
      {
        "duration": 15,
        "start_time": "2022-09-09T17:44:29.104Z"
      },
      {
        "duration": 15,
        "start_time": "2022-09-09T17:44:35.010Z"
      },
      {
        "duration": 17,
        "start_time": "2022-09-09T17:44:35.897Z"
      },
      {
        "duration": 11,
        "start_time": "2022-09-09T17:44:44.268Z"
      },
      {
        "duration": 6,
        "start_time": "2022-09-09T17:44:52.192Z"
      },
      {
        "duration": 15,
        "start_time": "2022-09-09T17:45:07.121Z"
      },
      {
        "duration": 16,
        "start_time": "2022-09-09T17:45:11.611Z"
      },
      {
        "duration": 20,
        "start_time": "2022-09-09T17:45:18.192Z"
      },
      {
        "duration": 21,
        "start_time": "2022-09-09T17:45:21.722Z"
      },
      {
        "duration": 1300,
        "start_time": "2022-09-09T17:45:45.204Z"
      },
      {
        "duration": 74,
        "start_time": "2022-09-09T17:45:46.506Z"
      },
      {
        "duration": 48,
        "start_time": "2022-09-09T17:45:46.582Z"
      },
      {
        "duration": 5,
        "start_time": "2022-09-09T17:45:46.632Z"
      },
      {
        "duration": 25,
        "start_time": "2022-09-09T17:45:46.639Z"
      },
      {
        "duration": 16,
        "start_time": "2022-09-09T17:45:46.666Z"
      },
      {
        "duration": 29,
        "start_time": "2022-09-09T17:45:46.684Z"
      },
      {
        "duration": 9,
        "start_time": "2022-09-09T17:45:46.715Z"
      },
      {
        "duration": 18,
        "start_time": "2022-09-09T17:45:46.726Z"
      },
      {
        "duration": 15,
        "start_time": "2022-09-09T17:45:46.745Z"
      },
      {
        "duration": 26,
        "start_time": "2022-09-09T17:45:46.762Z"
      },
      {
        "duration": 36,
        "start_time": "2022-09-09T17:45:46.790Z"
      },
      {
        "duration": 20,
        "start_time": "2022-09-09T17:45:46.828Z"
      },
      {
        "duration": 15,
        "start_time": "2022-09-09T17:45:46.852Z"
      },
      {
        "duration": 47,
        "start_time": "2022-09-09T17:45:46.869Z"
      },
      {
        "duration": 25,
        "start_time": "2022-09-09T17:45:46.918Z"
      },
      {
        "duration": 28,
        "start_time": "2022-09-09T17:45:46.945Z"
      },
      {
        "duration": 7,
        "start_time": "2022-09-09T17:45:46.974Z"
      },
      {
        "duration": 28,
        "start_time": "2022-09-09T17:45:46.983Z"
      },
      {
        "duration": 31,
        "start_time": "2022-09-09T17:45:47.013Z"
      },
      {
        "duration": 10,
        "start_time": "2022-09-09T17:45:47.046Z"
      },
      {
        "duration": 14,
        "start_time": "2022-09-09T17:45:47.058Z"
      },
      {
        "duration": 30,
        "start_time": "2022-09-09T17:45:47.074Z"
      },
      {
        "duration": 10,
        "start_time": "2022-09-09T17:45:47.106Z"
      },
      {
        "duration": 14,
        "start_time": "2022-09-09T17:45:47.118Z"
      },
      {
        "duration": 9,
        "start_time": "2022-09-09T17:45:47.135Z"
      },
      {
        "duration": 19,
        "start_time": "2022-09-09T17:45:47.146Z"
      },
      {
        "duration": 11,
        "start_time": "2022-09-09T17:45:47.166Z"
      },
      {
        "duration": 3546,
        "start_time": "2022-09-09T17:45:47.179Z"
      },
      {
        "duration": 6,
        "start_time": "2022-09-09T17:45:50.727Z"
      },
      {
        "duration": 19,
        "start_time": "2022-09-09T17:45:50.735Z"
      },
      {
        "duration": 307,
        "start_time": "2022-09-09T17:45:50.756Z"
      },
      {
        "duration": 7,
        "start_time": "2022-09-09T17:45:51.065Z"
      },
      {
        "duration": 29,
        "start_time": "2022-09-09T17:45:51.073Z"
      },
      {
        "duration": 224,
        "start_time": "2022-09-09T17:45:51.105Z"
      },
      {
        "duration": 5,
        "start_time": "2022-09-09T17:45:51.330Z"
      },
      {
        "duration": 214,
        "start_time": "2022-09-09T17:45:51.337Z"
      },
      {
        "duration": 6,
        "start_time": "2022-09-09T17:45:51.553Z"
      },
      {
        "duration": 11,
        "start_time": "2022-09-09T17:45:51.561Z"
      },
      {
        "duration": 29,
        "start_time": "2022-09-09T17:45:51.574Z"
      },
      {
        "duration": 6,
        "start_time": "2022-09-09T17:45:51.608Z"
      },
      {
        "duration": 12,
        "start_time": "2022-09-09T17:45:51.616Z"
      },
      {
        "duration": 10,
        "start_time": "2022-09-09T17:45:51.630Z"
      },
      {
        "duration": 25,
        "start_time": "2022-09-09T17:45:51.642Z"
      },
      {
        "duration": 13,
        "start_time": "2022-09-09T17:45:51.669Z"
      },
      {
        "duration": 7,
        "start_time": "2022-09-09T17:45:51.703Z"
      },
      {
        "duration": 28,
        "start_time": "2022-09-09T17:45:51.712Z"
      },
      {
        "duration": 235,
        "start_time": "2022-09-09T17:45:51.742Z"
      },
      {
        "duration": 32,
        "start_time": "2022-09-09T17:45:51.980Z"
      },
      {
        "duration": 28,
        "start_time": "2022-09-09T17:45:52.014Z"
      },
      {
        "duration": 14,
        "start_time": "2022-09-09T17:45:52.049Z"
      },
      {
        "duration": 73,
        "start_time": "2022-09-09T17:45:52.065Z"
      },
      {
        "duration": 11,
        "start_time": "2022-09-09T17:45:52.142Z"
      },
      {
        "duration": 12,
        "start_time": "2022-09-09T17:45:52.155Z"
      },
      {
        "duration": 22,
        "start_time": "2022-09-09T17:45:52.170Z"
      },
      {
        "duration": 43,
        "start_time": "2022-09-09T17:45:52.198Z"
      },
      {
        "duration": 34,
        "start_time": "2022-09-09T17:45:52.243Z"
      },
      {
        "duration": 4,
        "start_time": "2022-09-09T17:45:52.279Z"
      },
      {
        "duration": 24,
        "start_time": "2022-09-09T17:45:52.284Z"
      },
      {
        "duration": 31,
        "start_time": "2022-09-09T17:45:52.310Z"
      },
      {
        "duration": 4,
        "start_time": "2022-09-09T17:45:52.343Z"
      },
      {
        "duration": 6,
        "start_time": "2022-09-09T17:45:52.349Z"
      },
      {
        "duration": 12,
        "start_time": "2022-09-09T17:45:52.357Z"
      },
      {
        "duration": 47,
        "start_time": "2022-09-09T17:45:52.371Z"
      },
      {
        "duration": 197,
        "start_time": "2022-09-09T17:45:52.420Z"
      },
      {
        "duration": 369,
        "start_time": "2022-09-09T17:45:52.618Z"
      },
      {
        "duration": 43,
        "start_time": "2022-09-09T17:45:52.991Z"
      },
      {
        "duration": 14,
        "start_time": "2022-09-09T17:45:53.036Z"
      },
      {
        "duration": 6,
        "start_time": "2022-09-09T17:45:53.052Z"
      },
      {
        "duration": 42,
        "start_time": "2022-09-09T17:45:53.060Z"
      },
      {
        "duration": 23,
        "start_time": "2022-09-09T17:45:53.103Z"
      },
      {
        "duration": 5,
        "start_time": "2022-09-09T17:45:53.128Z"
      },
      {
        "duration": 9,
        "start_time": "2022-09-09T17:45:53.135Z"
      },
      {
        "duration": 10,
        "start_time": "2022-09-09T17:45:53.145Z"
      },
      {
        "duration": 5,
        "start_time": "2022-09-09T17:45:53.156Z"
      },
      {
        "duration": 14,
        "start_time": "2022-09-09T17:46:06.857Z"
      },
      {
        "duration": 16,
        "start_time": "2022-09-09T17:46:17.917Z"
      },
      {
        "duration": 14,
        "start_time": "2022-09-09T17:46:23.626Z"
      },
      {
        "duration": 12,
        "start_time": "2022-09-09T17:46:28.121Z"
      },
      {
        "duration": 14,
        "start_time": "2022-09-09T17:46:32.016Z"
      },
      {
        "duration": 7,
        "start_time": "2022-09-09T17:46:36.045Z"
      },
      {
        "duration": 13,
        "start_time": "2022-09-09T17:46:40.410Z"
      },
      {
        "duration": 11,
        "start_time": "2022-09-09T17:46:43.463Z"
      },
      {
        "duration": 12,
        "start_time": "2022-09-09T17:46:46.581Z"
      },
      {
        "duration": 12,
        "start_time": "2022-09-09T17:46:50.263Z"
      },
      {
        "duration": 12,
        "start_time": "2022-09-09T17:46:53.259Z"
      },
      {
        "duration": 13,
        "start_time": "2022-09-09T17:47:06.311Z"
      },
      {
        "duration": 13,
        "start_time": "2022-09-09T17:47:09.980Z"
      },
      {
        "duration": 14,
        "start_time": "2022-09-09T17:47:16.005Z"
      },
      {
        "duration": 5,
        "start_time": "2022-09-09T17:47:31.275Z"
      },
      {
        "duration": 11,
        "start_time": "2022-09-09T17:47:32.237Z"
      },
      {
        "duration": 12,
        "start_time": "2022-09-09T17:47:35.500Z"
      },
      {
        "duration": 4,
        "start_time": "2022-09-09T17:48:31.506Z"
      },
      {
        "duration": 13,
        "start_time": "2022-09-09T17:49:30.007Z"
      },
      {
        "duration": 1318,
        "start_time": "2022-09-09T17:49:35.452Z"
      },
      {
        "duration": 12,
        "start_time": "2022-09-09T17:49:38.459Z"
      },
      {
        "duration": 14,
        "start_time": "2022-09-09T17:49:47.930Z"
      },
      {
        "duration": 16,
        "start_time": "2022-09-09T17:49:51.883Z"
      },
      {
        "duration": 1321,
        "start_time": "2022-09-09T17:49:55.766Z"
      },
      {
        "duration": 12,
        "start_time": "2022-09-09T17:49:58.728Z"
      },
      {
        "duration": 5,
        "start_time": "2022-09-09T17:51:27.257Z"
      },
      {
        "duration": 12,
        "start_time": "2022-09-09T17:51:29.296Z"
      },
      {
        "duration": 5,
        "start_time": "2022-09-09T17:51:33.140Z"
      },
      {
        "duration": 12,
        "start_time": "2022-09-09T17:51:33.948Z"
      },
      {
        "duration": 5,
        "start_time": "2022-09-09T17:52:41.708Z"
      },
      {
        "duration": 11,
        "start_time": "2022-09-09T17:52:43.415Z"
      },
      {
        "duration": 12,
        "start_time": "2022-09-09T17:52:54.851Z"
      },
      {
        "duration": 13,
        "start_time": "2022-09-09T17:53:00.393Z"
      },
      {
        "duration": 7,
        "start_time": "2022-09-09T17:53:03.410Z"
      },
      {
        "duration": 14,
        "start_time": "2022-09-09T17:53:06.897Z"
      },
      {
        "duration": 1325,
        "start_time": "2022-09-09T17:54:47.760Z"
      },
      {
        "duration": 189,
        "start_time": "2022-09-09T17:54:58.731Z"
      },
      {
        "duration": 12,
        "start_time": "2022-09-09T17:55:20.393Z"
      },
      {
        "duration": 3,
        "start_time": "2022-09-09T18:01:31.955Z"
      },
      {
        "duration": 7,
        "start_time": "2022-09-09T18:01:59.532Z"
      },
      {
        "duration": 654,
        "start_time": "2022-09-09T18:02:06.364Z"
      },
      {
        "duration": 9,
        "start_time": "2022-09-09T18:02:18.415Z"
      },
      {
        "duration": 9,
        "start_time": "2022-09-09T18:03:58.578Z"
      },
      {
        "duration": 18,
        "start_time": "2022-09-09T18:04:07.274Z"
      },
      {
        "duration": 15,
        "start_time": "2022-09-09T18:05:38.550Z"
      },
      {
        "duration": 10,
        "start_time": "2022-09-09T18:05:50.565Z"
      },
      {
        "duration": 31,
        "start_time": "2022-09-09T18:06:08.160Z"
      },
      {
        "duration": 2,
        "start_time": "2022-09-09T18:09:11.285Z"
      },
      {
        "duration": 1484,
        "start_time": "2022-09-09T18:10:22.184Z"
      },
      {
        "duration": 1350,
        "start_time": "2022-09-09T18:11:45.670Z"
      },
      {
        "duration": 10,
        "start_time": "2022-09-09T18:12:14.672Z"
      },
      {
        "duration": 1384,
        "start_time": "2022-09-09T18:13:01.839Z"
      },
      {
        "duration": 1356,
        "start_time": "2022-09-09T18:14:51.653Z"
      },
      {
        "duration": 2023,
        "start_time": "2022-09-09T18:15:00.930Z"
      },
      {
        "duration": 1209,
        "start_time": "2022-09-09T18:15:10.964Z"
      },
      {
        "duration": 7,
        "start_time": "2022-09-09T18:15:20.019Z"
      },
      {
        "duration": 14,
        "start_time": "2022-09-09T18:15:40.835Z"
      },
      {
        "duration": 7,
        "start_time": "2022-09-09T18:16:02.190Z"
      },
      {
        "duration": 1273,
        "start_time": "2022-09-09T18:16:13.349Z"
      },
      {
        "duration": 5,
        "start_time": "2022-09-09T18:16:18.351Z"
      },
      {
        "duration": 14,
        "start_time": "2022-09-09T18:16:30.287Z"
      },
      {
        "duration": 6,
        "start_time": "2022-09-09T18:16:35.438Z"
      },
      {
        "duration": 1138,
        "start_time": "2022-09-09T18:16:47.568Z"
      },
      {
        "duration": 3,
        "start_time": "2022-09-09T18:17:11.139Z"
      },
      {
        "duration": 6,
        "start_time": "2022-09-09T18:17:37.664Z"
      },
      {
        "duration": 6,
        "start_time": "2022-09-09T18:17:57.398Z"
      },
      {
        "duration": 5,
        "start_time": "2022-09-09T18:18:14.308Z"
      },
      {
        "duration": 3,
        "start_time": "2022-09-09T18:18:33.566Z"
      },
      {
        "duration": 4,
        "start_time": "2022-09-09T18:18:35.924Z"
      },
      {
        "duration": 2716,
        "start_time": "2022-09-09T18:18:46.473Z"
      },
      {
        "duration": 412,
        "start_time": "2022-09-09T18:18:51.702Z"
      },
      {
        "duration": 13,
        "start_time": "2022-09-09T18:20:18.159Z"
      },
      {
        "duration": 10,
        "start_time": "2022-09-09T18:20:19.066Z"
      },
      {
        "duration": 3,
        "start_time": "2022-09-09T18:20:29.645Z"
      },
      {
        "duration": 5,
        "start_time": "2022-09-09T18:20:30.620Z"
      },
      {
        "duration": 1277,
        "start_time": "2022-09-09T18:20:50.470Z"
      },
      {
        "duration": 79,
        "start_time": "2022-09-09T18:20:51.749Z"
      },
      {
        "duration": 70,
        "start_time": "2022-09-09T18:20:51.830Z"
      },
      {
        "duration": 4,
        "start_time": "2022-09-09T18:20:51.903Z"
      },
      {
        "duration": 26,
        "start_time": "2022-09-09T18:20:51.909Z"
      },
      {
        "duration": 24,
        "start_time": "2022-09-09T18:20:51.938Z"
      },
      {
        "duration": 41,
        "start_time": "2022-09-09T18:20:51.964Z"
      },
      {
        "duration": 8,
        "start_time": "2022-09-09T18:20:52.008Z"
      },
      {
        "duration": 27,
        "start_time": "2022-09-09T18:20:52.018Z"
      },
      {
        "duration": 10,
        "start_time": "2022-09-09T18:20:52.048Z"
      },
      {
        "duration": 24,
        "start_time": "2022-09-09T18:20:52.060Z"
      },
      {
        "duration": 16,
        "start_time": "2022-09-09T18:20:52.086Z"
      },
      {
        "duration": 19,
        "start_time": "2022-09-09T18:20:52.104Z"
      },
      {
        "duration": 17,
        "start_time": "2022-09-09T18:20:52.125Z"
      },
      {
        "duration": 9,
        "start_time": "2022-09-09T18:20:52.144Z"
      },
      {
        "duration": 11,
        "start_time": "2022-09-09T18:20:52.154Z"
      },
      {
        "duration": 36,
        "start_time": "2022-09-09T18:20:52.166Z"
      },
      {
        "duration": 7,
        "start_time": "2022-09-09T18:20:52.203Z"
      },
      {
        "duration": 12,
        "start_time": "2022-09-09T18:20:52.211Z"
      },
      {
        "duration": 19,
        "start_time": "2022-09-09T18:20:52.225Z"
      },
      {
        "duration": 10,
        "start_time": "2022-09-09T18:20:52.245Z"
      },
      {
        "duration": 34,
        "start_time": "2022-09-09T18:20:52.257Z"
      },
      {
        "duration": 18,
        "start_time": "2022-09-09T18:20:52.293Z"
      },
      {
        "duration": 7,
        "start_time": "2022-09-09T18:20:52.313Z"
      },
      {
        "duration": 13,
        "start_time": "2022-09-09T18:20:52.321Z"
      },
      {
        "duration": 6,
        "start_time": "2022-09-09T18:20:52.335Z"
      },
      {
        "duration": 6,
        "start_time": "2022-09-09T18:20:52.343Z"
      },
      {
        "duration": 11,
        "start_time": "2022-09-09T18:20:52.353Z"
      },
      {
        "duration": 3182,
        "start_time": "2022-09-09T18:20:52.366Z"
      },
      {
        "duration": 7,
        "start_time": "2022-09-09T18:20:55.550Z"
      },
      {
        "duration": 16,
        "start_time": "2022-09-09T18:20:55.559Z"
      },
      {
        "duration": 274,
        "start_time": "2022-09-09T18:20:55.593Z"
      },
      {
        "duration": 8,
        "start_time": "2022-09-09T18:20:55.869Z"
      },
      {
        "duration": 6,
        "start_time": "2022-09-09T18:20:55.891Z"
      },
      {
        "duration": 230,
        "start_time": "2022-09-09T18:20:55.899Z"
      },
      {
        "duration": 5,
        "start_time": "2022-09-09T18:20:56.131Z"
      },
      {
        "duration": 203,
        "start_time": "2022-09-09T18:20:56.137Z"
      },
      {
        "duration": 7,
        "start_time": "2022-09-09T18:20:56.342Z"
      },
      {
        "duration": 11,
        "start_time": "2022-09-09T18:20:56.351Z"
      },
      {
        "duration": 10,
        "start_time": "2022-09-09T18:20:56.364Z"
      },
      {
        "duration": 20,
        "start_time": "2022-09-09T18:20:56.376Z"
      },
      {
        "duration": 7,
        "start_time": "2022-09-09T18:20:56.398Z"
      },
      {
        "duration": 10,
        "start_time": "2022-09-09T18:20:56.407Z"
      },
      {
        "duration": 21,
        "start_time": "2022-09-09T18:20:56.418Z"
      },
      {
        "duration": 14,
        "start_time": "2022-09-09T18:20:56.440Z"
      },
      {
        "duration": 8,
        "start_time": "2022-09-09T18:20:56.456Z"
      },
      {
        "duration": 43,
        "start_time": "2022-09-09T18:20:56.465Z"
      },
      {
        "duration": 203,
        "start_time": "2022-09-09T18:20:56.510Z"
      },
      {
        "duration": 19,
        "start_time": "2022-09-09T18:20:56.715Z"
      },
      {
        "duration": 18,
        "start_time": "2022-09-09T18:20:56.735Z"
      },
      {
        "duration": 3,
        "start_time": "2022-09-09T18:20:56.756Z"
      },
      {
        "duration": 65,
        "start_time": "2022-09-09T18:20:56.761Z"
      },
      {
        "duration": 13,
        "start_time": "2022-09-09T18:20:56.828Z"
      },
      {
        "duration": 9,
        "start_time": "2022-09-09T18:20:56.843Z"
      },
      {
        "duration": 13,
        "start_time": "2022-09-09T18:20:56.853Z"
      },
      {
        "duration": 29,
        "start_time": "2022-09-09T18:20:56.867Z"
      },
      {
        "duration": 31,
        "start_time": "2022-09-09T18:20:56.898Z"
      },
      {
        "duration": 2,
        "start_time": "2022-09-09T18:20:56.931Z"
      },
      {
        "duration": 17,
        "start_time": "2022-09-09T18:20:56.936Z"
      },
      {
        "duration": 39,
        "start_time": "2022-09-09T18:20:56.956Z"
      },
      {
        "duration": 4,
        "start_time": "2022-09-09T18:20:56.997Z"
      },
      {
        "duration": 15,
        "start_time": "2022-09-09T18:20:57.003Z"
      },
      {
        "duration": 6,
        "start_time": "2022-09-09T18:20:57.019Z"
      },
      {
        "duration": 33,
        "start_time": "2022-09-09T18:20:57.027Z"
      },
      {
        "duration": 210,
        "start_time": "2022-09-09T18:20:57.062Z"
      },
      {
        "duration": 340,
        "start_time": "2022-09-09T18:20:57.273Z"
      },
      {
        "duration": 43,
        "start_time": "2022-09-09T18:20:57.615Z"
      },
      {
        "duration": 14,
        "start_time": "2022-09-09T18:20:57.660Z"
      },
      {
        "duration": 31,
        "start_time": "2022-09-09T18:20:57.675Z"
      },
      {
        "duration": 3,
        "start_time": "2022-09-09T18:20:57.707Z"
      },
      {
        "duration": 1284,
        "start_time": "2022-09-09T18:20:57.712Z"
      },
      {
        "duration": 188,
        "start_time": "2022-09-09T18:20:58.997Z"
      },
      {
        "duration": 12,
        "start_time": "2022-09-09T18:20:59.191Z"
      },
      {
        "duration": 10,
        "start_time": "2022-09-09T18:20:59.205Z"
      },
      {
        "duration": 664,
        "start_time": "2022-09-09T18:20:59.217Z"
      },
      {
        "duration": 15,
        "start_time": "2022-09-09T18:20:59.883Z"
      },
      {
        "duration": 17,
        "start_time": "2022-09-09T18:20:59.900Z"
      },
      {
        "duration": 23,
        "start_time": "2022-09-09T18:20:59.919Z"
      },
      {
        "duration": 49,
        "start_time": "2022-09-09T18:20:59.944Z"
      },
      {
        "duration": 8,
        "start_time": "2022-09-09T18:20:59.994Z"
      },
      {
        "duration": 182,
        "start_time": "2022-09-09T18:21:00.004Z"
      },
      {
        "duration": 8,
        "start_time": "2022-09-09T18:21:00.195Z"
      },
      {
        "duration": 208,
        "start_time": "2022-09-09T18:21:00.205Z"
      },
      {
        "duration": 32,
        "start_time": "2022-09-09T18:21:00.415Z"
      },
      {
        "duration": 13,
        "start_time": "2022-09-09T18:21:00.448Z"
      },
      {
        "duration": 9,
        "start_time": "2022-09-09T18:21:00.463Z"
      },
      {
        "duration": 3,
        "start_time": "2022-09-09T18:21:00.492Z"
      },
      {
        "duration": 11,
        "start_time": "2022-09-09T18:21:00.497Z"
      },
      {
        "duration": 1171,
        "start_time": "2022-09-09T18:21:00.510Z"
      },
      {
        "duration": 560,
        "start_time": "2022-09-09T18:21:01.683Z"
      },
      {
        "duration": 10,
        "start_time": "2022-09-09T18:21:14.992Z"
      },
      {
        "duration": 18,
        "start_time": "2022-09-09T18:21:22.362Z"
      },
      {
        "duration": 15,
        "start_time": "2022-09-09T18:21:25.581Z"
      },
      {
        "duration": 10,
        "start_time": "2022-09-09T18:21:54.697Z"
      },
      {
        "duration": 7,
        "start_time": "2022-09-09T18:22:00.743Z"
      },
      {
        "duration": 4,
        "start_time": "2022-09-09T18:22:04.934Z"
      },
      {
        "duration": 13,
        "start_time": "2022-09-09T18:22:08.827Z"
      },
      {
        "duration": 7,
        "start_time": "2022-09-09T18:22:09.721Z"
      },
      {
        "duration": 24,
        "start_time": "2022-09-09T18:22:14.234Z"
      },
      {
        "duration": 8,
        "start_time": "2022-09-09T18:22:42.465Z"
      },
      {
        "duration": 5,
        "start_time": "2022-09-09T18:22:53.822Z"
      },
      {
        "duration": 9,
        "start_time": "2022-09-09T18:22:56.088Z"
      },
      {
        "duration": 8,
        "start_time": "2022-09-09T18:22:56.756Z"
      },
      {
        "duration": 23,
        "start_time": "2022-09-09T18:22:59.986Z"
      },
      {
        "duration": 104,
        "start_time": "2022-09-09T18:23:43.423Z"
      },
      {
        "duration": 10,
        "start_time": "2022-09-09T18:24:13.279Z"
      },
      {
        "duration": 22,
        "start_time": "2022-09-09T18:24:23.302Z"
      },
      {
        "duration": 31,
        "start_time": "2022-09-09T18:25:11.522Z"
      },
      {
        "duration": 86,
        "start_time": "2022-09-09T18:25:35.968Z"
      },
      {
        "duration": 75,
        "start_time": "2022-09-09T18:25:49.357Z"
      },
      {
        "duration": 10,
        "start_time": "2022-09-09T18:25:54.831Z"
      },
      {
        "duration": 15,
        "start_time": "2022-09-09T18:25:57.736Z"
      },
      {
        "duration": 16,
        "start_time": "2022-09-09T18:26:15.214Z"
      },
      {
        "duration": 15,
        "start_time": "2022-09-09T18:26:22.912Z"
      },
      {
        "duration": 19,
        "start_time": "2022-09-09T18:26:44.799Z"
      },
      {
        "duration": 75,
        "start_time": "2022-09-09T18:27:22.409Z"
      },
      {
        "duration": 9,
        "start_time": "2022-09-09T18:27:29.254Z"
      },
      {
        "duration": 16,
        "start_time": "2022-09-09T18:27:33.013Z"
      },
      {
        "duration": 91,
        "start_time": "2022-09-09T18:28:29.685Z"
      },
      {
        "duration": 23,
        "start_time": "2022-09-09T18:28:35.056Z"
      },
      {
        "duration": 78,
        "start_time": "2022-09-09T18:28:43.292Z"
      },
      {
        "duration": 18,
        "start_time": "2022-09-09T18:28:48.950Z"
      },
      {
        "duration": 18,
        "start_time": "2022-09-09T18:29:48.301Z"
      },
      {
        "duration": 9,
        "start_time": "2022-09-09T18:30:02.928Z"
      },
      {
        "duration": 9,
        "start_time": "2022-09-09T18:30:09.100Z"
      },
      {
        "duration": 3,
        "start_time": "2022-09-09T18:30:17.987Z"
      },
      {
        "duration": 8,
        "start_time": "2022-09-09T18:30:24.738Z"
      },
      {
        "duration": 3,
        "start_time": "2022-09-09T18:31:03.262Z"
      },
      {
        "duration": 5,
        "start_time": "2022-09-09T18:33:28.590Z"
      },
      {
        "duration": 6,
        "start_time": "2022-09-09T18:33:43.585Z"
      },
      {
        "duration": 80,
        "start_time": "2022-09-09T18:34:13.670Z"
      },
      {
        "duration": 11,
        "start_time": "2022-09-09T18:34:44.257Z"
      },
      {
        "duration": 13,
        "start_time": "2022-09-09T18:34:58.266Z"
      },
      {
        "duration": 14,
        "start_time": "2022-09-09T18:35:10.170Z"
      },
      {
        "duration": 20,
        "start_time": "2022-09-09T18:36:47.034Z"
      },
      {
        "duration": 22,
        "start_time": "2022-09-09T18:37:12.336Z"
      },
      {
        "duration": 23,
        "start_time": "2022-09-09T18:38:28.077Z"
      },
      {
        "duration": 21,
        "start_time": "2022-09-09T18:39:10.517Z"
      },
      {
        "duration": 22,
        "start_time": "2022-09-09T18:39:32.844Z"
      },
      {
        "duration": 1259,
        "start_time": "2022-09-09T18:42:41.419Z"
      },
      {
        "duration": 74,
        "start_time": "2022-09-09T18:42:42.680Z"
      },
      {
        "duration": 47,
        "start_time": "2022-09-09T18:42:42.755Z"
      },
      {
        "duration": 4,
        "start_time": "2022-09-09T18:42:42.804Z"
      },
      {
        "duration": 18,
        "start_time": "2022-09-09T18:42:42.809Z"
      },
      {
        "duration": 14,
        "start_time": "2022-09-09T18:42:42.829Z"
      },
      {
        "duration": 20,
        "start_time": "2022-09-09T18:42:42.845Z"
      },
      {
        "duration": 6,
        "start_time": "2022-09-09T18:42:42.892Z"
      },
      {
        "duration": 14,
        "start_time": "2022-09-09T18:42:42.899Z"
      },
      {
        "duration": 7,
        "start_time": "2022-09-09T18:42:42.916Z"
      },
      {
        "duration": 9,
        "start_time": "2022-09-09T18:42:42.925Z"
      },
      {
        "duration": 9,
        "start_time": "2022-09-09T18:42:42.936Z"
      },
      {
        "duration": 10,
        "start_time": "2022-09-09T18:42:42.947Z"
      },
      {
        "duration": 40,
        "start_time": "2022-09-09T18:42:42.958Z"
      },
      {
        "duration": 6,
        "start_time": "2022-09-09T18:42:42.999Z"
      },
      {
        "duration": 13,
        "start_time": "2022-09-09T18:42:43.006Z"
      },
      {
        "duration": 21,
        "start_time": "2022-09-09T18:42:43.021Z"
      },
      {
        "duration": 7,
        "start_time": "2022-09-09T18:42:43.043Z"
      },
      {
        "duration": 9,
        "start_time": "2022-09-09T18:42:43.052Z"
      },
      {
        "duration": 45,
        "start_time": "2022-09-09T18:42:43.062Z"
      },
      {
        "duration": 10,
        "start_time": "2022-09-09T18:42:43.109Z"
      },
      {
        "duration": 10,
        "start_time": "2022-09-09T18:42:43.120Z"
      },
      {
        "duration": 17,
        "start_time": "2022-09-09T18:42:43.132Z"
      },
      {
        "duration": 7,
        "start_time": "2022-09-09T18:42:43.151Z"
      },
      {
        "duration": 6,
        "start_time": "2022-09-09T18:42:43.192Z"
      },
      {
        "duration": 6,
        "start_time": "2022-09-09T18:42:43.200Z"
      },
      {
        "duration": 9,
        "start_time": "2022-09-09T18:42:43.208Z"
      },
      {
        "duration": 12,
        "start_time": "2022-09-09T18:42:43.222Z"
      },
      {
        "duration": 3199,
        "start_time": "2022-09-09T18:42:43.236Z"
      },
      {
        "duration": 6,
        "start_time": "2022-09-09T18:42:46.437Z"
      },
      {
        "duration": 20,
        "start_time": "2022-09-09T18:42:46.445Z"
      },
      {
        "duration": 284,
        "start_time": "2022-09-09T18:42:46.467Z"
      },
      {
        "duration": 6,
        "start_time": "2022-09-09T18:42:46.753Z"
      },
      {
        "duration": 6,
        "start_time": "2022-09-09T18:42:46.761Z"
      },
      {
        "duration": 249,
        "start_time": "2022-09-09T18:42:46.769Z"
      },
      {
        "duration": 5,
        "start_time": "2022-09-09T18:42:47.019Z"
      },
      {
        "duration": 206,
        "start_time": "2022-09-09T18:42:47.026Z"
      },
      {
        "duration": 8,
        "start_time": "2022-09-09T18:42:47.233Z"
      },
      {
        "duration": 16,
        "start_time": "2022-09-09T18:42:47.243Z"
      },
      {
        "duration": 13,
        "start_time": "2022-09-09T18:42:47.261Z"
      },
      {
        "duration": 17,
        "start_time": "2022-09-09T18:42:47.275Z"
      },
      {
        "duration": 11,
        "start_time": "2022-09-09T18:42:47.294Z"
      },
      {
        "duration": 8,
        "start_time": "2022-09-09T18:42:47.306Z"
      },
      {
        "duration": 19,
        "start_time": "2022-09-09T18:42:47.316Z"
      },
      {
        "duration": 9,
        "start_time": "2022-09-09T18:42:47.336Z"
      },
      {
        "duration": 9,
        "start_time": "2022-09-09T18:42:47.347Z"
      },
      {
        "duration": 49,
        "start_time": "2022-09-09T18:42:47.358Z"
      },
      {
        "duration": 208,
        "start_time": "2022-09-09T18:42:47.409Z"
      },
      {
        "duration": 20,
        "start_time": "2022-09-09T18:42:47.619Z"
      },
      {
        "duration": 18,
        "start_time": "2022-09-09T18:42:47.641Z"
      },
      {
        "duration": 4,
        "start_time": "2022-09-09T18:42:47.660Z"
      },
      {
        "duration": 91,
        "start_time": "2022-09-09T18:42:47.666Z"
      },
      {
        "duration": 11,
        "start_time": "2022-09-09T18:42:47.759Z"
      },
      {
        "duration": 9,
        "start_time": "2022-09-09T18:42:47.771Z"
      },
      {
        "duration": 17,
        "start_time": "2022-09-09T18:42:47.782Z"
      },
      {
        "duration": 42,
        "start_time": "2022-09-09T18:42:47.801Z"
      },
      {
        "duration": 34,
        "start_time": "2022-09-09T18:42:47.845Z"
      },
      {
        "duration": 3,
        "start_time": "2022-09-09T18:42:47.881Z"
      },
      {
        "duration": 18,
        "start_time": "2022-09-09T18:42:47.886Z"
      },
      {
        "duration": 41,
        "start_time": "2022-09-09T18:42:47.906Z"
      },
      {
        "duration": 6,
        "start_time": "2022-09-09T18:42:47.949Z"
      },
      {
        "duration": 19,
        "start_time": "2022-09-09T18:42:47.957Z"
      },
      {
        "duration": 22,
        "start_time": "2022-09-09T18:42:47.978Z"
      },
      {
        "duration": 48,
        "start_time": "2022-09-09T18:42:48.003Z"
      },
      {
        "duration": 212,
        "start_time": "2022-09-09T18:42:48.053Z"
      },
      {
        "duration": 392,
        "start_time": "2022-09-09T18:42:48.267Z"
      },
      {
        "duration": 65,
        "start_time": "2022-09-09T18:42:48.674Z"
      },
      {
        "duration": 22,
        "start_time": "2022-09-09T18:42:48.742Z"
      },
      {
        "duration": 42,
        "start_time": "2022-09-09T18:42:48.766Z"
      },
      {
        "duration": 8,
        "start_time": "2022-09-09T18:42:48.810Z"
      },
      {
        "duration": 1399,
        "start_time": "2022-09-09T18:42:48.819Z"
      },
      {
        "duration": 199,
        "start_time": "2022-09-09T18:42:50.220Z"
      },
      {
        "duration": 14,
        "start_time": "2022-09-09T18:42:50.421Z"
      },
      {
        "duration": 13,
        "start_time": "2022-09-09T18:42:50.437Z"
      },
      {
        "duration": 638,
        "start_time": "2022-09-09T18:42:50.452Z"
      },
      {
        "duration": 10,
        "start_time": "2022-09-09T18:42:51.092Z"
      },
      {
        "duration": 23,
        "start_time": "2022-09-09T18:42:51.103Z"
      },
      {
        "duration": 23,
        "start_time": "2022-09-09T18:42:51.128Z"
      },
      {
        "duration": 45,
        "start_time": "2022-09-09T18:42:51.153Z"
      },
      {
        "duration": 7,
        "start_time": "2022-09-09T18:42:51.199Z"
      },
      {
        "duration": 179,
        "start_time": "2022-09-09T18:42:51.208Z"
      },
      {
        "duration": 7,
        "start_time": "2022-09-09T18:42:51.394Z"
      },
      {
        "duration": 192,
        "start_time": "2022-09-09T18:42:51.402Z"
      },
      {
        "duration": 31,
        "start_time": "2022-09-09T18:42:51.595Z"
      },
      {
        "duration": 13,
        "start_time": "2022-09-09T18:42:51.629Z"
      },
      {
        "duration": 13,
        "start_time": "2022-09-09T18:42:51.644Z"
      },
      {
        "duration": 4,
        "start_time": "2022-09-09T18:42:51.659Z"
      },
      {
        "duration": 31,
        "start_time": "2022-09-09T18:42:51.665Z"
      },
      {
        "duration": 1280,
        "start_time": "2022-09-09T18:42:51.697Z"
      },
      {
        "duration": 499,
        "start_time": "2022-09-09T18:42:52.978Z"
      },
      {
        "duration": 15,
        "start_time": "2022-09-09T18:42:53.478Z"
      },
      {
        "duration": 20,
        "start_time": "2022-09-09T18:42:53.495Z"
      },
      {
        "duration": 15,
        "start_time": "2022-09-09T18:42:53.516Z"
      },
      {
        "duration": 11,
        "start_time": "2022-09-09T18:42:53.532Z"
      },
      {
        "duration": 14,
        "start_time": "2022-09-09T18:42:53.544Z"
      },
      {
        "duration": 33,
        "start_time": "2022-09-09T18:42:53.560Z"
      },
      {
        "duration": 20,
        "start_time": "2022-09-09T18:42:53.595Z"
      },
      {
        "duration": 9,
        "start_time": "2022-09-09T18:42:53.616Z"
      },
      {
        "duration": 26,
        "start_time": "2022-09-09T18:42:53.627Z"
      },
      {
        "duration": 7,
        "start_time": "2022-09-09T18:42:53.655Z"
      },
      {
        "duration": 6,
        "start_time": "2022-09-09T18:42:53.692Z"
      },
      {
        "duration": 19,
        "start_time": "2022-09-09T18:42:53.699Z"
      },
      {
        "duration": 12,
        "start_time": "2022-09-09T18:42:53.720Z"
      },
      {
        "duration": 23,
        "start_time": "2022-09-09T18:42:53.733Z"
      },
      {
        "duration": 35,
        "start_time": "2022-09-09T18:42:53.758Z"
      },
      {
        "duration": 12,
        "start_time": "2022-09-09T18:42:53.795Z"
      },
      {
        "duration": 26,
        "start_time": "2022-09-09T18:42:53.809Z"
      },
      {
        "duration": 22,
        "start_time": "2022-09-09T18:42:53.837Z"
      },
      {
        "duration": 48,
        "start_time": "2022-09-09T18:42:53.861Z"
      },
      {
        "duration": 105,
        "start_time": "2022-09-09T18:44:04.749Z"
      },
      {
        "duration": 19,
        "start_time": "2022-09-09T18:44:09.243Z"
      },
      {
        "duration": 16,
        "start_time": "2022-09-09T18:44:24.859Z"
      },
      {
        "duration": 19,
        "start_time": "2022-09-09T18:44:29.655Z"
      },
      {
        "duration": 19,
        "start_time": "2022-09-09T18:44:43.051Z"
      },
      {
        "duration": 8,
        "start_time": "2022-09-09T18:44:49.687Z"
      }
    ],
    "kernelspec": {
      "display_name": "Python 3 (ipykernel)",
      "language": "python",
      "name": "python3"
    },
    "language_info": {
      "codemirror_mode": {
        "name": "ipython",
        "version": 3
      },
      "file_extension": ".py",
      "mimetype": "text/x-python",
      "name": "python",
      "nbconvert_exporter": "python",
      "pygments_lexer": "ipython3",
      "version": "3.9.5"
    },
    "toc": {
      "base_numbering": 1,
      "nav_menu": {},
      "number_sections": true,
      "sideBar": true,
      "skip_h1_title": true,
      "title_cell": "Daftar Isi",
      "title_sidebar": "Contents",
      "toc_cell": true,
      "toc_position": {},
      "toc_section_display": true,
      "toc_window_display": true
    },
    "colab": {
      "provenance": [],
      "include_colab_link": true
    }
  },
  "nbformat": 4,
  "nbformat_minor": 0
}