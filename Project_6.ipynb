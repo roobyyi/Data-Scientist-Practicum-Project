{
  "cells": [
    {
      "cell_type": "markdown",
      "metadata": {
        "id": "view-in-github",
        "colab_type": "text"
      },
      "source": [
        "<a href=\"https://colab.research.google.com/github/roobyyi/Data-Scientist-Practicum-Project/blob/main/Project_6.ipynb\" target=\"_parent\"><img src=\"https://colab.research.google.com/assets/colab-badge.svg\" alt=\"Open In Colab\"/></a>"
      ]
    },
    {
      "cell_type": "markdown",
      "metadata": {
        "id": "2L3RqEiNTRcC"
      },
      "source": [
        "# Bank Beta"
      ]
    },
    {
      "cell_type": "markdown",
      "metadata": {
        "id": "Y9kqepmoTRcC"
      },
      "source": [
        "Nasabah Bank Beta dinilai banyak yang pergi meninggalkan perusahaan, hal ini terlihat ketika nasabah selalu berkurang setiap bulannya.\n",
        "\n",
        "Para pegawai memberi tanggapan bahwa lebih baik mempertahankan nasabah lama dibanding mencari nasabah baru karena dianggap lebih murah (masalah biayanya).\n",
        "\n",
        "Untuk membantu pegawai di Bank Beta, maka dibuat Machine Learning untuk memprediksi apakah nasabah akan meninggalkan status masabah di Bank Beta atau tidak. Dengan hal ini, diharapkan para pegawai bisa menindaklanjuti para nasabah yang akan meninggalkan Bank dengan memberi penawaran atau semacamnya yang mana hal ini tergantung dari pihak Bank nya.\n",
        "\n",
        "Diberikan data data mengenai perilaku nasabah untuk membantu pembuatan model Machine Learning."
      ]
    },
    {
      "cell_type": "markdown",
      "metadata": {
        "toc": true,
        "id": "6llri1FCTRcC"
      },
      "source": [
        "<h1>Table of Contents<span class=\"tocSkip\"></span></h1>\n",
        "<div class=\"toc\"><ul class=\"toc-item\"><li><span><a href=\"#Data-Preparation-&amp;-Library-Import\" data-toc-modified-id=\"Data-Preparation-&amp;-Library-Import-1\"><span class=\"toc-item-num\">1&nbsp;&nbsp;</span>Data Preparation &amp; Library Import</a></span><ul class=\"toc-item\"><li><span><a href=\"#Import-Library\" data-toc-modified-id=\"Import-Library-1.1\"><span class=\"toc-item-num\">1.1&nbsp;&nbsp;</span>Import Library</a></span></li><li><span><a href=\"#Data-Preparation\" data-toc-modified-id=\"Data-Preparation-1.2\"><span class=\"toc-item-num\">1.2&nbsp;&nbsp;</span>Data Preparation</a></span></li></ul></li><li><span><a href=\"#Modelling\" data-toc-modified-id=\"Modelling-2\"><span class=\"toc-item-num\">2&nbsp;&nbsp;</span>Modelling</a></span><ul class=\"toc-item\"><li><span><a href=\"#Training,-Validation,-&amp;-Test-Dataset\" data-toc-modified-id=\"Training,-Validation,-&amp;-Test-Dataset-2.1\"><span class=\"toc-item-num\">2.1&nbsp;&nbsp;</span>Training, Validation, &amp; Test Dataset</a></span></li><li><span><a href=\"#Pemodelan-Machine-Learning-Tanpa-Balancing-Data\" data-toc-modified-id=\"Pemodelan-Machine-Learning-Tanpa-Balancing-Data-2.2\"><span class=\"toc-item-num\">2.2&nbsp;&nbsp;</span>Pemodelan Machine Learning Tanpa Balancing Data</a></span></li><li><span><a href=\"#Pemodelan-Machine-Learning-dengan-Balancing-Data\" data-toc-modified-id=\"Pemodelan-Machine-Learning-dengan-Balancing-Data-2.3\"><span class=\"toc-item-num\">2.3&nbsp;&nbsp;</span>Pemodelan Machine Learning dengan Balancing Data</a></span><ul class=\"toc-item\"><li><span><a href=\"#Upsampling\" data-toc-modified-id=\"Upsampling-2.3.1\"><span class=\"toc-item-num\">2.3.1&nbsp;&nbsp;</span>Upsampling</a></span></li><li><span><a href=\"#Downsampling\" data-toc-modified-id=\"Downsampling-2.3.2\"><span class=\"toc-item-num\">2.3.2&nbsp;&nbsp;</span>Downsampling</a></span></li><li><span><a href=\"#Hyperparameter-Tuning\" data-toc-modified-id=\"Hyperparameter-Tuning-2.3.3\"><span class=\"toc-item-num\">2.3.3&nbsp;&nbsp;</span>Hyperparameter Tuning</a></span></li><li><span><a href=\"#Penyesuaian-Threshold\" data-toc-modified-id=\"Penyesuaian-Threshold-2.3.4\"><span class=\"toc-item-num\">2.3.4&nbsp;&nbsp;</span>Penyesuaian Threshold</a></span><ul class=\"toc-item\"><li><span><a href=\"#Threshold-dengan-Upsampling\" data-toc-modified-id=\"Threshold-dengan-Upsampling-2.3.4.1\"><span class=\"toc-item-num\">2.3.4.1&nbsp;&nbsp;</span>Threshold dengan Upsampling</a></span></li><li><span><a href=\"#Threshold-dengan-Downsampling\" data-toc-modified-id=\"Threshold-dengan-Downsampling-2.3.4.2\"><span class=\"toc-item-num\">2.3.4.2&nbsp;&nbsp;</span>Threshold dengan Downsampling</a></span></li></ul></li><li><span><a href=\"#AUC-ROC\" data-toc-modified-id=\"AUC-ROC-2.3.5\"><span class=\"toc-item-num\">2.3.5&nbsp;&nbsp;</span>AUC ROC</a></span><ul class=\"toc-item\"><li><span><a href=\"#AUC-ROC-Upsampling\" data-toc-modified-id=\"AUC-ROC-Upsampling-2.3.5.1\"><span class=\"toc-item-num\">2.3.5.1&nbsp;&nbsp;</span>AUC ROC Upsampling</a></span></li><li><span><a href=\"#AUC-ROC-Downsampling\" data-toc-modified-id=\"AUC-ROC-Downsampling-2.3.5.2\"><span class=\"toc-item-num\">2.3.5.2&nbsp;&nbsp;</span>AUC ROC Downsampling</a></span></li></ul></li></ul></li></ul></li><li><span><a href=\"#Baseline-Model\" data-toc-modified-id=\"Baseline-Model-3\"><span class=\"toc-item-num\">3&nbsp;&nbsp;</span>Baseline Model</a></span></li><li><span><a href=\"#Final-Model-dengan-Uji-Dataset-Tes\" data-toc-modified-id=\"Final-Model-dengan-Uji-Dataset-Tes-4\"><span class=\"toc-item-num\">4&nbsp;&nbsp;</span>Final Model dengan Uji Dataset Tes</a></span><ul class=\"toc-item\"><li><span><a href=\"#Upsampling\" data-toc-modified-id=\"Upsampling-4.1\"><span class=\"toc-item-num\">4.1&nbsp;&nbsp;</span>Upsampling</a></span><ul class=\"toc-item\"><li><span><a href=\"#Dengan-Threshold\" data-toc-modified-id=\"Dengan-Threshold-4.1.1\"><span class=\"toc-item-num\">4.1.1&nbsp;&nbsp;</span>Dengan Threshold</a></span></li><li><span><a href=\"#Tanpa-Threshold\" data-toc-modified-id=\"Tanpa-Threshold-4.1.2\"><span class=\"toc-item-num\">4.1.2&nbsp;&nbsp;</span>Tanpa Threshold</a></span></li></ul></li><li><span><a href=\"#Downsampling\" data-toc-modified-id=\"Downsampling-4.2\"><span class=\"toc-item-num\">4.2&nbsp;&nbsp;</span>Downsampling</a></span><ul class=\"toc-item\"><li><span><a href=\"#Dengan-Threshold\" data-toc-modified-id=\"Dengan-Threshold-4.2.1\"><span class=\"toc-item-num\">4.2.1&nbsp;&nbsp;</span>Dengan Threshold</a></span></li><li><span><a href=\"#Tanpa-Threshold\" data-toc-modified-id=\"Tanpa-Threshold-4.2.2\"><span class=\"toc-item-num\">4.2.2&nbsp;&nbsp;</span>Tanpa Threshold</a></span></li></ul></li></ul></li><li><span><a href=\"#Conclusion\" data-toc-modified-id=\"Conclusion-5\"><span class=\"toc-item-num\">5&nbsp;&nbsp;</span>Conclusion</a></span></li></ul></div>"
      ]
    },
    {
      "cell_type": "markdown",
      "metadata": {
        "id": "-bJj_1fRTRcE"
      },
      "source": [
        "## Data Preparation & Library Import"
      ]
    },
    {
      "cell_type": "markdown",
      "metadata": {
        "id": "TR797d_dTRcE"
      },
      "source": [
        "Sebelum memulai pekerjaan, siapkan dulu library yang akan digunakan dan pastikan bahwa data yang disediakan sudah bisa dipakai dengan baik."
      ]
    },
    {
      "cell_type": "markdown",
      "metadata": {
        "id": "MsuZXXPtTRcE"
      },
      "source": [
        "### Import Library"
      ]
    },
    {
      "cell_type": "code",
      "execution_count": 1,
      "metadata": {
        "id": "a6aOnXYOTRcE"
      },
      "outputs": [],
      "source": [
        "import pandas as pd\n",
        "import matplotlib.pyplot as plt\n",
        "import numpy as np\n",
        "\n",
        "from sklearn.ensemble import RandomForestClassifier\n",
        "from sklearn.dummy import DummyClassifier\n",
        "from sklearn.model_selection import train_test_split\n",
        "from sklearn.metrics import f1_score, confusion_matrix, ConfusionMatrixDisplay, precision_score, accuracy_score, recall_score, precision_recall_curve, roc_curve, roc_auc_score, classification_report\n",
        "from sklearn.utils import shuffle\n",
        "\n"
      ]
    },
    {
      "cell_type": "markdown",
      "metadata": {
        "id": "_RtEMhQsTRcG"
      },
      "source": [
        "### Data Preparation"
      ]
    },
    {
      "cell_type": "code",
      "execution_count": 2,
      "metadata": {
        "id": "U6Xhd9PKTRcG"
      },
      "outputs": [],
      "source": [
        "churn = pd.read_csv('/content/Churn.csv')"
      ]
    },
    {
      "cell_type": "code",
      "execution_count": 3,
      "metadata": {
        "colab": {
          "base_uri": "https://localhost:8080/",
          "height": 206
        },
        "id": "qgexhejVTRcG",
        "outputId": "2ae2b546-1a06-47e6-da8e-eac012319c06"
      },
      "outputs": [
        {
          "output_type": "execute_result",
          "data": {
            "text/plain": [
              "   RowNumber  CustomerId   Surname  CreditScore Geography  Gender  Age  \\\n",
              "0          1    15634602  Hargrave          619    France  Female   42   \n",
              "1          2    15647311      Hill          608     Spain  Female   41   \n",
              "2          3    15619304      Onio          502    France  Female   42   \n",
              "3          4    15701354      Boni          699    France  Female   39   \n",
              "4          5    15737888  Mitchell          850     Spain  Female   43   \n",
              "\n",
              "   Tenure    Balance  NumOfProducts  HasCrCard  IsActiveMember  \\\n",
              "0     2.0       0.00              1          1               1   \n",
              "1     1.0   83807.86              1          0               1   \n",
              "2     8.0  159660.80              3          1               0   \n",
              "3     1.0       0.00              2          0               0   \n",
              "4     2.0  125510.82              1          1               1   \n",
              "\n",
              "   EstimatedSalary  Exited  \n",
              "0        101348.88       1  \n",
              "1        112542.58       0  \n",
              "2        113931.57       1  \n",
              "3         93826.63       0  \n",
              "4         79084.10       0  "
            ],
            "text/html": [
              "\n",
              "  <div id=\"df-5aa249bd-45b6-44ec-a57c-87486ba0dabc\">\n",
              "    <div class=\"colab-df-container\">\n",
              "      <div>\n",
              "<style scoped>\n",
              "    .dataframe tbody tr th:only-of-type {\n",
              "        vertical-align: middle;\n",
              "    }\n",
              "\n",
              "    .dataframe tbody tr th {\n",
              "        vertical-align: top;\n",
              "    }\n",
              "\n",
              "    .dataframe thead th {\n",
              "        text-align: right;\n",
              "    }\n",
              "</style>\n",
              "<table border=\"1\" class=\"dataframe\">\n",
              "  <thead>\n",
              "    <tr style=\"text-align: right;\">\n",
              "      <th></th>\n",
              "      <th>RowNumber</th>\n",
              "      <th>CustomerId</th>\n",
              "      <th>Surname</th>\n",
              "      <th>CreditScore</th>\n",
              "      <th>Geography</th>\n",
              "      <th>Gender</th>\n",
              "      <th>Age</th>\n",
              "      <th>Tenure</th>\n",
              "      <th>Balance</th>\n",
              "      <th>NumOfProducts</th>\n",
              "      <th>HasCrCard</th>\n",
              "      <th>IsActiveMember</th>\n",
              "      <th>EstimatedSalary</th>\n",
              "      <th>Exited</th>\n",
              "    </tr>\n",
              "  </thead>\n",
              "  <tbody>\n",
              "    <tr>\n",
              "      <th>0</th>\n",
              "      <td>1</td>\n",
              "      <td>15634602</td>\n",
              "      <td>Hargrave</td>\n",
              "      <td>619</td>\n",
              "      <td>France</td>\n",
              "      <td>Female</td>\n",
              "      <td>42</td>\n",
              "      <td>2.0</td>\n",
              "      <td>0.00</td>\n",
              "      <td>1</td>\n",
              "      <td>1</td>\n",
              "      <td>1</td>\n",
              "      <td>101348.88</td>\n",
              "      <td>1</td>\n",
              "    </tr>\n",
              "    <tr>\n",
              "      <th>1</th>\n",
              "      <td>2</td>\n",
              "      <td>15647311</td>\n",
              "      <td>Hill</td>\n",
              "      <td>608</td>\n",
              "      <td>Spain</td>\n",
              "      <td>Female</td>\n",
              "      <td>41</td>\n",
              "      <td>1.0</td>\n",
              "      <td>83807.86</td>\n",
              "      <td>1</td>\n",
              "      <td>0</td>\n",
              "      <td>1</td>\n",
              "      <td>112542.58</td>\n",
              "      <td>0</td>\n",
              "    </tr>\n",
              "    <tr>\n",
              "      <th>2</th>\n",
              "      <td>3</td>\n",
              "      <td>15619304</td>\n",
              "      <td>Onio</td>\n",
              "      <td>502</td>\n",
              "      <td>France</td>\n",
              "      <td>Female</td>\n",
              "      <td>42</td>\n",
              "      <td>8.0</td>\n",
              "      <td>159660.80</td>\n",
              "      <td>3</td>\n",
              "      <td>1</td>\n",
              "      <td>0</td>\n",
              "      <td>113931.57</td>\n",
              "      <td>1</td>\n",
              "    </tr>\n",
              "    <tr>\n",
              "      <th>3</th>\n",
              "      <td>4</td>\n",
              "      <td>15701354</td>\n",
              "      <td>Boni</td>\n",
              "      <td>699</td>\n",
              "      <td>France</td>\n",
              "      <td>Female</td>\n",
              "      <td>39</td>\n",
              "      <td>1.0</td>\n",
              "      <td>0.00</td>\n",
              "      <td>2</td>\n",
              "      <td>0</td>\n",
              "      <td>0</td>\n",
              "      <td>93826.63</td>\n",
              "      <td>0</td>\n",
              "    </tr>\n",
              "    <tr>\n",
              "      <th>4</th>\n",
              "      <td>5</td>\n",
              "      <td>15737888</td>\n",
              "      <td>Mitchell</td>\n",
              "      <td>850</td>\n",
              "      <td>Spain</td>\n",
              "      <td>Female</td>\n",
              "      <td>43</td>\n",
              "      <td>2.0</td>\n",
              "      <td>125510.82</td>\n",
              "      <td>1</td>\n",
              "      <td>1</td>\n",
              "      <td>1</td>\n",
              "      <td>79084.10</td>\n",
              "      <td>0</td>\n",
              "    </tr>\n",
              "  </tbody>\n",
              "</table>\n",
              "</div>\n",
              "      <button class=\"colab-df-convert\" onclick=\"convertToInteractive('df-5aa249bd-45b6-44ec-a57c-87486ba0dabc')\"\n",
              "              title=\"Convert this dataframe to an interactive table.\"\n",
              "              style=\"display:none;\">\n",
              "        \n",
              "  <svg xmlns=\"http://www.w3.org/2000/svg\" height=\"24px\"viewBox=\"0 0 24 24\"\n",
              "       width=\"24px\">\n",
              "    <path d=\"M0 0h24v24H0V0z\" fill=\"none\"/>\n",
              "    <path d=\"M18.56 5.44l.94 2.06.94-2.06 2.06-.94-2.06-.94-.94-2.06-.94 2.06-2.06.94zm-11 1L8.5 8.5l.94-2.06 2.06-.94-2.06-.94L8.5 2.5l-.94 2.06-2.06.94zm10 10l.94 2.06.94-2.06 2.06-.94-2.06-.94-.94-2.06-.94 2.06-2.06.94z\"/><path d=\"M17.41 7.96l-1.37-1.37c-.4-.4-.92-.59-1.43-.59-.52 0-1.04.2-1.43.59L10.3 9.45l-7.72 7.72c-.78.78-.78 2.05 0 2.83L4 21.41c.39.39.9.59 1.41.59.51 0 1.02-.2 1.41-.59l7.78-7.78 2.81-2.81c.8-.78.8-2.07 0-2.86zM5.41 20L4 18.59l7.72-7.72 1.47 1.35L5.41 20z\"/>\n",
              "  </svg>\n",
              "      </button>\n",
              "      \n",
              "  <style>\n",
              "    .colab-df-container {\n",
              "      display:flex;\n",
              "      flex-wrap:wrap;\n",
              "      gap: 12px;\n",
              "    }\n",
              "\n",
              "    .colab-df-convert {\n",
              "      background-color: #E8F0FE;\n",
              "      border: none;\n",
              "      border-radius: 50%;\n",
              "      cursor: pointer;\n",
              "      display: none;\n",
              "      fill: #1967D2;\n",
              "      height: 32px;\n",
              "      padding: 0 0 0 0;\n",
              "      width: 32px;\n",
              "    }\n",
              "\n",
              "    .colab-df-convert:hover {\n",
              "      background-color: #E2EBFA;\n",
              "      box-shadow: 0px 1px 2px rgba(60, 64, 67, 0.3), 0px 1px 3px 1px rgba(60, 64, 67, 0.15);\n",
              "      fill: #174EA6;\n",
              "    }\n",
              "\n",
              "    [theme=dark] .colab-df-convert {\n",
              "      background-color: #3B4455;\n",
              "      fill: #D2E3FC;\n",
              "    }\n",
              "\n",
              "    [theme=dark] .colab-df-convert:hover {\n",
              "      background-color: #434B5C;\n",
              "      box-shadow: 0px 1px 3px 1px rgba(0, 0, 0, 0.15);\n",
              "      filter: drop-shadow(0px 1px 2px rgba(0, 0, 0, 0.3));\n",
              "      fill: #FFFFFF;\n",
              "    }\n",
              "  </style>\n",
              "\n",
              "      <script>\n",
              "        const buttonEl =\n",
              "          document.querySelector('#df-5aa249bd-45b6-44ec-a57c-87486ba0dabc button.colab-df-convert');\n",
              "        buttonEl.style.display =\n",
              "          google.colab.kernel.accessAllowed ? 'block' : 'none';\n",
              "\n",
              "        async function convertToInteractive(key) {\n",
              "          const element = document.querySelector('#df-5aa249bd-45b6-44ec-a57c-87486ba0dabc');\n",
              "          const dataTable =\n",
              "            await google.colab.kernel.invokeFunction('convertToInteractive',\n",
              "                                                     [key], {});\n",
              "          if (!dataTable) return;\n",
              "\n",
              "          const docLinkHtml = 'Like what you see? Visit the ' +\n",
              "            '<a target=\"_blank\" href=https://colab.research.google.com/notebooks/data_table.ipynb>data table notebook</a>'\n",
              "            + ' to learn more about interactive tables.';\n",
              "          element.innerHTML = '';\n",
              "          dataTable['output_type'] = 'display_data';\n",
              "          await google.colab.output.renderOutput(dataTable, element);\n",
              "          const docLink = document.createElement('div');\n",
              "          docLink.innerHTML = docLinkHtml;\n",
              "          element.appendChild(docLink);\n",
              "        }\n",
              "      </script>\n",
              "    </div>\n",
              "  </div>\n",
              "  "
            ]
          },
          "metadata": {},
          "execution_count": 3
        }
      ],
      "source": [
        "churn.head(5)"
      ]
    },
    {
      "cell_type": "code",
      "execution_count": 4,
      "metadata": {
        "colab": {
          "base_uri": "https://localhost:8080/"
        },
        "id": "ftsQrIpMTRcH",
        "outputId": "f0cb440e-9329-420d-bd39-7c248370fbbe"
      },
      "outputs": [
        {
          "output_type": "stream",
          "name": "stdout",
          "text": [
            "<class 'pandas.core.frame.DataFrame'>\n",
            "RangeIndex: 10000 entries, 0 to 9999\n",
            "Data columns (total 14 columns):\n",
            " #   Column           Non-Null Count  Dtype  \n",
            "---  ------           --------------  -----  \n",
            " 0   RowNumber        10000 non-null  int64  \n",
            " 1   CustomerId       10000 non-null  int64  \n",
            " 2   Surname          10000 non-null  object \n",
            " 3   CreditScore      10000 non-null  int64  \n",
            " 4   Geography        10000 non-null  object \n",
            " 5   Gender           10000 non-null  object \n",
            " 6   Age              10000 non-null  int64  \n",
            " 7   Tenure           9091 non-null   float64\n",
            " 8   Balance          10000 non-null  float64\n",
            " 9   NumOfProducts    10000 non-null  int64  \n",
            " 10  HasCrCard        10000 non-null  int64  \n",
            " 11  IsActiveMember   10000 non-null  int64  \n",
            " 12  EstimatedSalary  10000 non-null  float64\n",
            " 13  Exited           10000 non-null  int64  \n",
            "dtypes: float64(3), int64(8), object(3)\n",
            "memory usage: 1.1+ MB\n"
          ]
        }
      ],
      "source": [
        "churn.info()"
      ]
    },
    {
      "cell_type": "code",
      "execution_count": 5,
      "metadata": {
        "colab": {
          "base_uri": "https://localhost:8080/",
          "height": 300
        },
        "id": "JU9ciyR7TRcH",
        "outputId": "b536ef2c-106b-470a-f13b-f53abd50237c"
      },
      "outputs": [
        {
          "output_type": "execute_result",
          "data": {
            "text/plain": [
              "         RowNumber    CustomerId   CreditScore           Age       Tenure  \\\n",
              "count  10000.00000  1.000000e+04  10000.000000  10000.000000  9091.000000   \n",
              "mean    5000.50000  1.569094e+07    650.528800     38.921800     4.997690   \n",
              "std     2886.89568  7.193619e+04     96.653299     10.487806     2.894723   \n",
              "min        1.00000  1.556570e+07    350.000000     18.000000     0.000000   \n",
              "25%     2500.75000  1.562853e+07    584.000000     32.000000     2.000000   \n",
              "50%     5000.50000  1.569074e+07    652.000000     37.000000     5.000000   \n",
              "75%     7500.25000  1.575323e+07    718.000000     44.000000     7.000000   \n",
              "max    10000.00000  1.581569e+07    850.000000     92.000000    10.000000   \n",
              "\n",
              "             Balance  NumOfProducts    HasCrCard  IsActiveMember  \\\n",
              "count   10000.000000   10000.000000  10000.00000    10000.000000   \n",
              "mean    76485.889288       1.530200      0.70550        0.515100   \n",
              "std     62397.405202       0.581654      0.45584        0.499797   \n",
              "min         0.000000       1.000000      0.00000        0.000000   \n",
              "25%         0.000000       1.000000      0.00000        0.000000   \n",
              "50%     97198.540000       1.000000      1.00000        1.000000   \n",
              "75%    127644.240000       2.000000      1.00000        1.000000   \n",
              "max    250898.090000       4.000000      1.00000        1.000000   \n",
              "\n",
              "       EstimatedSalary        Exited  \n",
              "count     10000.000000  10000.000000  \n",
              "mean     100090.239881      0.203700  \n",
              "std       57510.492818      0.402769  \n",
              "min          11.580000      0.000000  \n",
              "25%       51002.110000      0.000000  \n",
              "50%      100193.915000      0.000000  \n",
              "75%      149388.247500      0.000000  \n",
              "max      199992.480000      1.000000  "
            ],
            "text/html": [
              "\n",
              "  <div id=\"df-c7a74ce8-2314-46ef-a749-352c5e00f427\">\n",
              "    <div class=\"colab-df-container\">\n",
              "      <div>\n",
              "<style scoped>\n",
              "    .dataframe tbody tr th:only-of-type {\n",
              "        vertical-align: middle;\n",
              "    }\n",
              "\n",
              "    .dataframe tbody tr th {\n",
              "        vertical-align: top;\n",
              "    }\n",
              "\n",
              "    .dataframe thead th {\n",
              "        text-align: right;\n",
              "    }\n",
              "</style>\n",
              "<table border=\"1\" class=\"dataframe\">\n",
              "  <thead>\n",
              "    <tr style=\"text-align: right;\">\n",
              "      <th></th>\n",
              "      <th>RowNumber</th>\n",
              "      <th>CustomerId</th>\n",
              "      <th>CreditScore</th>\n",
              "      <th>Age</th>\n",
              "      <th>Tenure</th>\n",
              "      <th>Balance</th>\n",
              "      <th>NumOfProducts</th>\n",
              "      <th>HasCrCard</th>\n",
              "      <th>IsActiveMember</th>\n",
              "      <th>EstimatedSalary</th>\n",
              "      <th>Exited</th>\n",
              "    </tr>\n",
              "  </thead>\n",
              "  <tbody>\n",
              "    <tr>\n",
              "      <th>count</th>\n",
              "      <td>10000.00000</td>\n",
              "      <td>1.000000e+04</td>\n",
              "      <td>10000.000000</td>\n",
              "      <td>10000.000000</td>\n",
              "      <td>9091.000000</td>\n",
              "      <td>10000.000000</td>\n",
              "      <td>10000.000000</td>\n",
              "      <td>10000.00000</td>\n",
              "      <td>10000.000000</td>\n",
              "      <td>10000.000000</td>\n",
              "      <td>10000.000000</td>\n",
              "    </tr>\n",
              "    <tr>\n",
              "      <th>mean</th>\n",
              "      <td>5000.50000</td>\n",
              "      <td>1.569094e+07</td>\n",
              "      <td>650.528800</td>\n",
              "      <td>38.921800</td>\n",
              "      <td>4.997690</td>\n",
              "      <td>76485.889288</td>\n",
              "      <td>1.530200</td>\n",
              "      <td>0.70550</td>\n",
              "      <td>0.515100</td>\n",
              "      <td>100090.239881</td>\n",
              "      <td>0.203700</td>\n",
              "    </tr>\n",
              "    <tr>\n",
              "      <th>std</th>\n",
              "      <td>2886.89568</td>\n",
              "      <td>7.193619e+04</td>\n",
              "      <td>96.653299</td>\n",
              "      <td>10.487806</td>\n",
              "      <td>2.894723</td>\n",
              "      <td>62397.405202</td>\n",
              "      <td>0.581654</td>\n",
              "      <td>0.45584</td>\n",
              "      <td>0.499797</td>\n",
              "      <td>57510.492818</td>\n",
              "      <td>0.402769</td>\n",
              "    </tr>\n",
              "    <tr>\n",
              "      <th>min</th>\n",
              "      <td>1.00000</td>\n",
              "      <td>1.556570e+07</td>\n",
              "      <td>350.000000</td>\n",
              "      <td>18.000000</td>\n",
              "      <td>0.000000</td>\n",
              "      <td>0.000000</td>\n",
              "      <td>1.000000</td>\n",
              "      <td>0.00000</td>\n",
              "      <td>0.000000</td>\n",
              "      <td>11.580000</td>\n",
              "      <td>0.000000</td>\n",
              "    </tr>\n",
              "    <tr>\n",
              "      <th>25%</th>\n",
              "      <td>2500.75000</td>\n",
              "      <td>1.562853e+07</td>\n",
              "      <td>584.000000</td>\n",
              "      <td>32.000000</td>\n",
              "      <td>2.000000</td>\n",
              "      <td>0.000000</td>\n",
              "      <td>1.000000</td>\n",
              "      <td>0.00000</td>\n",
              "      <td>0.000000</td>\n",
              "      <td>51002.110000</td>\n",
              "      <td>0.000000</td>\n",
              "    </tr>\n",
              "    <tr>\n",
              "      <th>50%</th>\n",
              "      <td>5000.50000</td>\n",
              "      <td>1.569074e+07</td>\n",
              "      <td>652.000000</td>\n",
              "      <td>37.000000</td>\n",
              "      <td>5.000000</td>\n",
              "      <td>97198.540000</td>\n",
              "      <td>1.000000</td>\n",
              "      <td>1.00000</td>\n",
              "      <td>1.000000</td>\n",
              "      <td>100193.915000</td>\n",
              "      <td>0.000000</td>\n",
              "    </tr>\n",
              "    <tr>\n",
              "      <th>75%</th>\n",
              "      <td>7500.25000</td>\n",
              "      <td>1.575323e+07</td>\n",
              "      <td>718.000000</td>\n",
              "      <td>44.000000</td>\n",
              "      <td>7.000000</td>\n",
              "      <td>127644.240000</td>\n",
              "      <td>2.000000</td>\n",
              "      <td>1.00000</td>\n",
              "      <td>1.000000</td>\n",
              "      <td>149388.247500</td>\n",
              "      <td>0.000000</td>\n",
              "    </tr>\n",
              "    <tr>\n",
              "      <th>max</th>\n",
              "      <td>10000.00000</td>\n",
              "      <td>1.581569e+07</td>\n",
              "      <td>850.000000</td>\n",
              "      <td>92.000000</td>\n",
              "      <td>10.000000</td>\n",
              "      <td>250898.090000</td>\n",
              "      <td>4.000000</td>\n",
              "      <td>1.00000</td>\n",
              "      <td>1.000000</td>\n",
              "      <td>199992.480000</td>\n",
              "      <td>1.000000</td>\n",
              "    </tr>\n",
              "  </tbody>\n",
              "</table>\n",
              "</div>\n",
              "      <button class=\"colab-df-convert\" onclick=\"convertToInteractive('df-c7a74ce8-2314-46ef-a749-352c5e00f427')\"\n",
              "              title=\"Convert this dataframe to an interactive table.\"\n",
              "              style=\"display:none;\">\n",
              "        \n",
              "  <svg xmlns=\"http://www.w3.org/2000/svg\" height=\"24px\"viewBox=\"0 0 24 24\"\n",
              "       width=\"24px\">\n",
              "    <path d=\"M0 0h24v24H0V0z\" fill=\"none\"/>\n",
              "    <path d=\"M18.56 5.44l.94 2.06.94-2.06 2.06-.94-2.06-.94-.94-2.06-.94 2.06-2.06.94zm-11 1L8.5 8.5l.94-2.06 2.06-.94-2.06-.94L8.5 2.5l-.94 2.06-2.06.94zm10 10l.94 2.06.94-2.06 2.06-.94-2.06-.94-.94-2.06-.94 2.06-2.06.94z\"/><path d=\"M17.41 7.96l-1.37-1.37c-.4-.4-.92-.59-1.43-.59-.52 0-1.04.2-1.43.59L10.3 9.45l-7.72 7.72c-.78.78-.78 2.05 0 2.83L4 21.41c.39.39.9.59 1.41.59.51 0 1.02-.2 1.41-.59l7.78-7.78 2.81-2.81c.8-.78.8-2.07 0-2.86zM5.41 20L4 18.59l7.72-7.72 1.47 1.35L5.41 20z\"/>\n",
              "  </svg>\n",
              "      </button>\n",
              "      \n",
              "  <style>\n",
              "    .colab-df-container {\n",
              "      display:flex;\n",
              "      flex-wrap:wrap;\n",
              "      gap: 12px;\n",
              "    }\n",
              "\n",
              "    .colab-df-convert {\n",
              "      background-color: #E8F0FE;\n",
              "      border: none;\n",
              "      border-radius: 50%;\n",
              "      cursor: pointer;\n",
              "      display: none;\n",
              "      fill: #1967D2;\n",
              "      height: 32px;\n",
              "      padding: 0 0 0 0;\n",
              "      width: 32px;\n",
              "    }\n",
              "\n",
              "    .colab-df-convert:hover {\n",
              "      background-color: #E2EBFA;\n",
              "      box-shadow: 0px 1px 2px rgba(60, 64, 67, 0.3), 0px 1px 3px 1px rgba(60, 64, 67, 0.15);\n",
              "      fill: #174EA6;\n",
              "    }\n",
              "\n",
              "    [theme=dark] .colab-df-convert {\n",
              "      background-color: #3B4455;\n",
              "      fill: #D2E3FC;\n",
              "    }\n",
              "\n",
              "    [theme=dark] .colab-df-convert:hover {\n",
              "      background-color: #434B5C;\n",
              "      box-shadow: 0px 1px 3px 1px rgba(0, 0, 0, 0.15);\n",
              "      filter: drop-shadow(0px 1px 2px rgba(0, 0, 0, 0.3));\n",
              "      fill: #FFFFFF;\n",
              "    }\n",
              "  </style>\n",
              "\n",
              "      <script>\n",
              "        const buttonEl =\n",
              "          document.querySelector('#df-c7a74ce8-2314-46ef-a749-352c5e00f427 button.colab-df-convert');\n",
              "        buttonEl.style.display =\n",
              "          google.colab.kernel.accessAllowed ? 'block' : 'none';\n",
              "\n",
              "        async function convertToInteractive(key) {\n",
              "          const element = document.querySelector('#df-c7a74ce8-2314-46ef-a749-352c5e00f427');\n",
              "          const dataTable =\n",
              "            await google.colab.kernel.invokeFunction('convertToInteractive',\n",
              "                                                     [key], {});\n",
              "          if (!dataTable) return;\n",
              "\n",
              "          const docLinkHtml = 'Like what you see? Visit the ' +\n",
              "            '<a target=\"_blank\" href=https://colab.research.google.com/notebooks/data_table.ipynb>data table notebook</a>'\n",
              "            + ' to learn more about interactive tables.';\n",
              "          element.innerHTML = '';\n",
              "          dataTable['output_type'] = 'display_data';\n",
              "          await google.colab.output.renderOutput(dataTable, element);\n",
              "          const docLink = document.createElement('div');\n",
              "          docLink.innerHTML = docLinkHtml;\n",
              "          element.appendChild(docLink);\n",
              "        }\n",
              "      </script>\n",
              "    </div>\n",
              "  </div>\n",
              "  "
            ]
          },
          "metadata": {},
          "execution_count": 5
        }
      ],
      "source": [
        "churn.describe()"
      ]
    },
    {
      "cell_type": "markdown",
      "metadata": {
        "id": "QVMInI2JTRcH"
      },
      "source": [
        "Ada sekitar 900 data kosong di kolom Tenure, apakah data tersebut adalah data yang penting?"
      ]
    },
    {
      "cell_type": "code",
      "execution_count": 6,
      "metadata": {
        "colab": {
          "base_uri": "https://localhost:8080/",
          "height": 424
        },
        "id": "pug6pnjBTRcI",
        "outputId": "e15dfec2-f408-4a45-ce46-6bf88cfaf54f"
      },
      "outputs": [
        {
          "output_type": "execute_result",
          "data": {
            "text/plain": [
              "      RowNumber  CustomerId    Surname  CreditScore Geography  Gender  Age  \\\n",
              "30           31    15589475    Azikiwe          591     Spain  Female   39   \n",
              "48           49    15766205        Yin          550   Germany    Male   38   \n",
              "51           52    15768193  Trevisani          585   Germany    Male   36   \n",
              "53           54    15702298   Parkhill          655   Germany    Male   41   \n",
              "60           61    15651280     Hunter          742   Germany    Male   35   \n",
              "...         ...         ...        ...          ...       ...     ...  ...   \n",
              "9944       9945    15703923    Cameron          744   Germany    Male   41   \n",
              "9956       9957    15707861      Nucci          520    France  Female   46   \n",
              "9964       9965    15642785    Douglas          479    France    Male   34   \n",
              "9985       9986    15586914     Nepean          659    France    Male   36   \n",
              "9999      10000    15628319     Walker          792    France  Female   28   \n",
              "\n",
              "      Tenure    Balance  NumOfProducts  HasCrCard  IsActiveMember  \\\n",
              "30       NaN       0.00              3          1               0   \n",
              "48       NaN  103391.38              1          0               1   \n",
              "51       NaN  146050.97              2          0               0   \n",
              "53       NaN  125561.97              1          0               0   \n",
              "60       NaN  136857.00              1          0               0   \n",
              "...      ...        ...            ...        ...             ...   \n",
              "9944     NaN  190409.34              2          1               1   \n",
              "9956     NaN   85216.61              1          1               0   \n",
              "9964     NaN  117593.48              2          0               0   \n",
              "9985     NaN  123841.49              2          1               0   \n",
              "9999     NaN  130142.79              1          1               0   \n",
              "\n",
              "      EstimatedSalary  Exited  \n",
              "30          140469.38       1  \n",
              "48           90878.13       0  \n",
              "51           86424.57       0  \n",
              "53          164040.94       1  \n",
              "60           84509.57       0  \n",
              "...               ...     ...  \n",
              "9944        138361.48       0  \n",
              "9956        117369.52       1  \n",
              "9964        113308.29       0  \n",
              "9985         96833.00       0  \n",
              "9999         38190.78       0  \n",
              "\n",
              "[909 rows x 14 columns]"
            ],
            "text/html": [
              "\n",
              "  <div id=\"df-ee96626d-9de3-4360-85ac-524eb57baaad\">\n",
              "    <div class=\"colab-df-container\">\n",
              "      <div>\n",
              "<style scoped>\n",
              "    .dataframe tbody tr th:only-of-type {\n",
              "        vertical-align: middle;\n",
              "    }\n",
              "\n",
              "    .dataframe tbody tr th {\n",
              "        vertical-align: top;\n",
              "    }\n",
              "\n",
              "    .dataframe thead th {\n",
              "        text-align: right;\n",
              "    }\n",
              "</style>\n",
              "<table border=\"1\" class=\"dataframe\">\n",
              "  <thead>\n",
              "    <tr style=\"text-align: right;\">\n",
              "      <th></th>\n",
              "      <th>RowNumber</th>\n",
              "      <th>CustomerId</th>\n",
              "      <th>Surname</th>\n",
              "      <th>CreditScore</th>\n",
              "      <th>Geography</th>\n",
              "      <th>Gender</th>\n",
              "      <th>Age</th>\n",
              "      <th>Tenure</th>\n",
              "      <th>Balance</th>\n",
              "      <th>NumOfProducts</th>\n",
              "      <th>HasCrCard</th>\n",
              "      <th>IsActiveMember</th>\n",
              "      <th>EstimatedSalary</th>\n",
              "      <th>Exited</th>\n",
              "    </tr>\n",
              "  </thead>\n",
              "  <tbody>\n",
              "    <tr>\n",
              "      <th>30</th>\n",
              "      <td>31</td>\n",
              "      <td>15589475</td>\n",
              "      <td>Azikiwe</td>\n",
              "      <td>591</td>\n",
              "      <td>Spain</td>\n",
              "      <td>Female</td>\n",
              "      <td>39</td>\n",
              "      <td>NaN</td>\n",
              "      <td>0.00</td>\n",
              "      <td>3</td>\n",
              "      <td>1</td>\n",
              "      <td>0</td>\n",
              "      <td>140469.38</td>\n",
              "      <td>1</td>\n",
              "    </tr>\n",
              "    <tr>\n",
              "      <th>48</th>\n",
              "      <td>49</td>\n",
              "      <td>15766205</td>\n",
              "      <td>Yin</td>\n",
              "      <td>550</td>\n",
              "      <td>Germany</td>\n",
              "      <td>Male</td>\n",
              "      <td>38</td>\n",
              "      <td>NaN</td>\n",
              "      <td>103391.38</td>\n",
              "      <td>1</td>\n",
              "      <td>0</td>\n",
              "      <td>1</td>\n",
              "      <td>90878.13</td>\n",
              "      <td>0</td>\n",
              "    </tr>\n",
              "    <tr>\n",
              "      <th>51</th>\n",
              "      <td>52</td>\n",
              "      <td>15768193</td>\n",
              "      <td>Trevisani</td>\n",
              "      <td>585</td>\n",
              "      <td>Germany</td>\n",
              "      <td>Male</td>\n",
              "      <td>36</td>\n",
              "      <td>NaN</td>\n",
              "      <td>146050.97</td>\n",
              "      <td>2</td>\n",
              "      <td>0</td>\n",
              "      <td>0</td>\n",
              "      <td>86424.57</td>\n",
              "      <td>0</td>\n",
              "    </tr>\n",
              "    <tr>\n",
              "      <th>53</th>\n",
              "      <td>54</td>\n",
              "      <td>15702298</td>\n",
              "      <td>Parkhill</td>\n",
              "      <td>655</td>\n",
              "      <td>Germany</td>\n",
              "      <td>Male</td>\n",
              "      <td>41</td>\n",
              "      <td>NaN</td>\n",
              "      <td>125561.97</td>\n",
              "      <td>1</td>\n",
              "      <td>0</td>\n",
              "      <td>0</td>\n",
              "      <td>164040.94</td>\n",
              "      <td>1</td>\n",
              "    </tr>\n",
              "    <tr>\n",
              "      <th>60</th>\n",
              "      <td>61</td>\n",
              "      <td>15651280</td>\n",
              "      <td>Hunter</td>\n",
              "      <td>742</td>\n",
              "      <td>Germany</td>\n",
              "      <td>Male</td>\n",
              "      <td>35</td>\n",
              "      <td>NaN</td>\n",
              "      <td>136857.00</td>\n",
              "      <td>1</td>\n",
              "      <td>0</td>\n",
              "      <td>0</td>\n",
              "      <td>84509.57</td>\n",
              "      <td>0</td>\n",
              "    </tr>\n",
              "    <tr>\n",
              "      <th>...</th>\n",
              "      <td>...</td>\n",
              "      <td>...</td>\n",
              "      <td>...</td>\n",
              "      <td>...</td>\n",
              "      <td>...</td>\n",
              "      <td>...</td>\n",
              "      <td>...</td>\n",
              "      <td>...</td>\n",
              "      <td>...</td>\n",
              "      <td>...</td>\n",
              "      <td>...</td>\n",
              "      <td>...</td>\n",
              "      <td>...</td>\n",
              "      <td>...</td>\n",
              "    </tr>\n",
              "    <tr>\n",
              "      <th>9944</th>\n",
              "      <td>9945</td>\n",
              "      <td>15703923</td>\n",
              "      <td>Cameron</td>\n",
              "      <td>744</td>\n",
              "      <td>Germany</td>\n",
              "      <td>Male</td>\n",
              "      <td>41</td>\n",
              "      <td>NaN</td>\n",
              "      <td>190409.34</td>\n",
              "      <td>2</td>\n",
              "      <td>1</td>\n",
              "      <td>1</td>\n",
              "      <td>138361.48</td>\n",
              "      <td>0</td>\n",
              "    </tr>\n",
              "    <tr>\n",
              "      <th>9956</th>\n",
              "      <td>9957</td>\n",
              "      <td>15707861</td>\n",
              "      <td>Nucci</td>\n",
              "      <td>520</td>\n",
              "      <td>France</td>\n",
              "      <td>Female</td>\n",
              "      <td>46</td>\n",
              "      <td>NaN</td>\n",
              "      <td>85216.61</td>\n",
              "      <td>1</td>\n",
              "      <td>1</td>\n",
              "      <td>0</td>\n",
              "      <td>117369.52</td>\n",
              "      <td>1</td>\n",
              "    </tr>\n",
              "    <tr>\n",
              "      <th>9964</th>\n",
              "      <td>9965</td>\n",
              "      <td>15642785</td>\n",
              "      <td>Douglas</td>\n",
              "      <td>479</td>\n",
              "      <td>France</td>\n",
              "      <td>Male</td>\n",
              "      <td>34</td>\n",
              "      <td>NaN</td>\n",
              "      <td>117593.48</td>\n",
              "      <td>2</td>\n",
              "      <td>0</td>\n",
              "      <td>0</td>\n",
              "      <td>113308.29</td>\n",
              "      <td>0</td>\n",
              "    </tr>\n",
              "    <tr>\n",
              "      <th>9985</th>\n",
              "      <td>9986</td>\n",
              "      <td>15586914</td>\n",
              "      <td>Nepean</td>\n",
              "      <td>659</td>\n",
              "      <td>France</td>\n",
              "      <td>Male</td>\n",
              "      <td>36</td>\n",
              "      <td>NaN</td>\n",
              "      <td>123841.49</td>\n",
              "      <td>2</td>\n",
              "      <td>1</td>\n",
              "      <td>0</td>\n",
              "      <td>96833.00</td>\n",
              "      <td>0</td>\n",
              "    </tr>\n",
              "    <tr>\n",
              "      <th>9999</th>\n",
              "      <td>10000</td>\n",
              "      <td>15628319</td>\n",
              "      <td>Walker</td>\n",
              "      <td>792</td>\n",
              "      <td>France</td>\n",
              "      <td>Female</td>\n",
              "      <td>28</td>\n",
              "      <td>NaN</td>\n",
              "      <td>130142.79</td>\n",
              "      <td>1</td>\n",
              "      <td>1</td>\n",
              "      <td>0</td>\n",
              "      <td>38190.78</td>\n",
              "      <td>0</td>\n",
              "    </tr>\n",
              "  </tbody>\n",
              "</table>\n",
              "<p>909 rows × 14 columns</p>\n",
              "</div>\n",
              "      <button class=\"colab-df-convert\" onclick=\"convertToInteractive('df-ee96626d-9de3-4360-85ac-524eb57baaad')\"\n",
              "              title=\"Convert this dataframe to an interactive table.\"\n",
              "              style=\"display:none;\">\n",
              "        \n",
              "  <svg xmlns=\"http://www.w3.org/2000/svg\" height=\"24px\"viewBox=\"0 0 24 24\"\n",
              "       width=\"24px\">\n",
              "    <path d=\"M0 0h24v24H0V0z\" fill=\"none\"/>\n",
              "    <path d=\"M18.56 5.44l.94 2.06.94-2.06 2.06-.94-2.06-.94-.94-2.06-.94 2.06-2.06.94zm-11 1L8.5 8.5l.94-2.06 2.06-.94-2.06-.94L8.5 2.5l-.94 2.06-2.06.94zm10 10l.94 2.06.94-2.06 2.06-.94-2.06-.94-.94-2.06-.94 2.06-2.06.94z\"/><path d=\"M17.41 7.96l-1.37-1.37c-.4-.4-.92-.59-1.43-.59-.52 0-1.04.2-1.43.59L10.3 9.45l-7.72 7.72c-.78.78-.78 2.05 0 2.83L4 21.41c.39.39.9.59 1.41.59.51 0 1.02-.2 1.41-.59l7.78-7.78 2.81-2.81c.8-.78.8-2.07 0-2.86zM5.41 20L4 18.59l7.72-7.72 1.47 1.35L5.41 20z\"/>\n",
              "  </svg>\n",
              "      </button>\n",
              "      \n",
              "  <style>\n",
              "    .colab-df-container {\n",
              "      display:flex;\n",
              "      flex-wrap:wrap;\n",
              "      gap: 12px;\n",
              "    }\n",
              "\n",
              "    .colab-df-convert {\n",
              "      background-color: #E8F0FE;\n",
              "      border: none;\n",
              "      border-radius: 50%;\n",
              "      cursor: pointer;\n",
              "      display: none;\n",
              "      fill: #1967D2;\n",
              "      height: 32px;\n",
              "      padding: 0 0 0 0;\n",
              "      width: 32px;\n",
              "    }\n",
              "\n",
              "    .colab-df-convert:hover {\n",
              "      background-color: #E2EBFA;\n",
              "      box-shadow: 0px 1px 2px rgba(60, 64, 67, 0.3), 0px 1px 3px 1px rgba(60, 64, 67, 0.15);\n",
              "      fill: #174EA6;\n",
              "    }\n",
              "\n",
              "    [theme=dark] .colab-df-convert {\n",
              "      background-color: #3B4455;\n",
              "      fill: #D2E3FC;\n",
              "    }\n",
              "\n",
              "    [theme=dark] .colab-df-convert:hover {\n",
              "      background-color: #434B5C;\n",
              "      box-shadow: 0px 1px 3px 1px rgba(0, 0, 0, 0.15);\n",
              "      filter: drop-shadow(0px 1px 2px rgba(0, 0, 0, 0.3));\n",
              "      fill: #FFFFFF;\n",
              "    }\n",
              "  </style>\n",
              "\n",
              "      <script>\n",
              "        const buttonEl =\n",
              "          document.querySelector('#df-ee96626d-9de3-4360-85ac-524eb57baaad button.colab-df-convert');\n",
              "        buttonEl.style.display =\n",
              "          google.colab.kernel.accessAllowed ? 'block' : 'none';\n",
              "\n",
              "        async function convertToInteractive(key) {\n",
              "          const element = document.querySelector('#df-ee96626d-9de3-4360-85ac-524eb57baaad');\n",
              "          const dataTable =\n",
              "            await google.colab.kernel.invokeFunction('convertToInteractive',\n",
              "                                                     [key], {});\n",
              "          if (!dataTable) return;\n",
              "\n",
              "          const docLinkHtml = 'Like what you see? Visit the ' +\n",
              "            '<a target=\"_blank\" href=https://colab.research.google.com/notebooks/data_table.ipynb>data table notebook</a>'\n",
              "            + ' to learn more about interactive tables.';\n",
              "          element.innerHTML = '';\n",
              "          dataTable['output_type'] = 'display_data';\n",
              "          await google.colab.output.renderOutput(dataTable, element);\n",
              "          const docLink = document.createElement('div');\n",
              "          docLink.innerHTML = docLinkHtml;\n",
              "          element.appendChild(docLink);\n",
              "        }\n",
              "      </script>\n",
              "    </div>\n",
              "  </div>\n",
              "  "
            ]
          },
          "metadata": {},
          "execution_count": 6
        }
      ],
      "source": [
        "churn[churn['Tenure'].isna()]"
      ]
    },
    {
      "cell_type": "markdown",
      "metadata": {
        "id": "88UyoIjmTRcI"
      },
      "source": [
        "Ada 909 data Tenure yang kosong, untuk mengisi nilai ini, dianggap bahwa Tenure adalah 0. Sebenarnya, hal ini seharusnya ditanyakan terlebih dahulu kepada penyedia data, apakah Tenure yang kosong artinya nasabah tidak memiliki kewajiban untuk membayar deposito? Namun, untuk kali ini, kita anggap bahwa tenure yang kosong adalah nasabah yang tidak memiliki kewajiban untuk membayar deposito sehingga nilai kosong (NaN) akan diisi dengan nol."
      ]
    },
    {
      "cell_type": "code",
      "execution_count": 7,
      "metadata": {
        "id": "L2J9FCwUTRcI"
      },
      "outputs": [],
      "source": [
        "churn.loc[churn['Tenure'].isna(), 'Tenure'] = 0"
      ]
    },
    {
      "cell_type": "code",
      "execution_count": 8,
      "metadata": {
        "colab": {
          "base_uri": "https://localhost:8080/"
        },
        "id": "l8wVGzPwTRcJ",
        "outputId": "8d0e3c31-ea3b-4114-9c5c-5aedb6b52264"
      },
      "outputs": [
        {
          "output_type": "execute_result",
          "data": {
            "text/plain": [
              "0"
            ]
          },
          "metadata": {},
          "execution_count": 8
        }
      ],
      "source": [
        "churn['Tenure'].isna().sum()"
      ]
    },
    {
      "cell_type": "markdown",
      "metadata": {
        "id": "KUN6RA0jTRcJ"
      },
      "source": [
        "Data NaN pada Tenure sudah diisi dengan nol"
      ]
    },
    {
      "cell_type": "markdown",
      "metadata": {
        "id": "yfkTwFUsTRcJ"
      },
      "source": [
        "Masalah selanjutnya adalah ada data data yang bukan merupakan data numeric, yaitu Surname, Geograph, dan Gender. Juga ada data data yang tidak akan berpengaruh berkaitan dengan target yang akan dicapai yaitu RowNumber dan Customer ID (Untuk kolom ini akan dikecualikan pada features pada Machine Learning yang akan dibuat).\n",
        "\n",
        "Untuk Surname sendiri, kemungkinan besar tidak akan berpengaruh kepada Machine Learning sehingga data ini akan dikecualikan. Sedangkan untuk Geography dan Gender, mungkin agak sedikit sexist tapi untuk Gender akan diproses menggunakan One Hot Encoding, dan Geography pun demikian, karena bisa saja ada beberapa masyarakat yang ada kebijakan baru di negaranya yang mana membuat para nasabah akan menggunakan Bank lokal di negaranya masing masing. Untuk One Hot Encoding, encoding ini digunakan karena data kategorikal ini berupa kategorikal nominal sehingga tidak ada sangkut pautnya dengan peringkat."
      ]
    },
    {
      "cell_type": "code",
      "execution_count": 9,
      "metadata": {
        "colab": {
          "base_uri": "https://localhost:8080/"
        },
        "id": "40AaOyy9TRcJ",
        "outputId": "534bc8c5-70fa-49e9-fced-c59fa0d75846"
      },
      "outputs": [
        {
          "output_type": "execute_result",
          "data": {
            "text/plain": [
              "array(['France', 'Spain', 'Germany'], dtype=object)"
            ]
          },
          "metadata": {},
          "execution_count": 9
        }
      ],
      "source": [
        "churn['Geography'].unique()"
      ]
    },
    {
      "cell_type": "markdown",
      "metadata": {
        "id": "UCYb2kYSTRcJ"
      },
      "source": [
        "Mungkin untuk negaranya tidak akan terlalu berpengaruh karena ketiga negara ini adalah negara yang berdekatan. Tapi tetap dimasukan saja menjadi features dengan alasan yang sama dengan diatas."
      ]
    },
    {
      "cell_type": "code",
      "execution_count": 10,
      "metadata": {
        "id": "OKGbYuOMTRcK"
      },
      "outputs": [],
      "source": [
        "churn.drop(['Surname','RowNumber','CustomerId'], axis=1, inplace=True)"
      ]
    },
    {
      "cell_type": "code",
      "execution_count": 11,
      "metadata": {
        "id": "HMPUpQUuTRcK"
      },
      "outputs": [],
      "source": [
        "data_encoded = pd.get_dummies(churn, drop_first=True)"
      ]
    },
    {
      "cell_type": "markdown",
      "metadata": {
        "id": "9e2my1tUTRcK"
      },
      "source": [
        "Satu kolom dihilangkan pada get dummies, hal ini dikarenakan untuk kasus ini, misalkan, negara ada 3, yaitu Jerman, Spanyol, dan Perancis. Untuk kolom Perancis dihilangkan karena kita bisa mendapatkan nilai Perancis ketika Jerman dan Spanyol sama sama bernilai 0, begitu pula dengan gender, Nilai Gender Male yang 0 adalah Female."
      ]
    },
    {
      "cell_type": "code",
      "execution_count": 12,
      "metadata": {
        "colab": {
          "base_uri": "https://localhost:8080/",
          "height": 424
        },
        "id": "GwQIWx6STRcK",
        "outputId": "4db854af-5689-4048-aa30-5e3cadc64e19"
      },
      "outputs": [
        {
          "output_type": "execute_result",
          "data": {
            "text/plain": [
              "      CreditScore  Age  Tenure    Balance  NumOfProducts  HasCrCard  \\\n",
              "0             619   42     2.0       0.00              1          1   \n",
              "1             608   41     1.0   83807.86              1          0   \n",
              "2             502   42     8.0  159660.80              3          1   \n",
              "3             699   39     1.0       0.00              2          0   \n",
              "4             850   43     2.0  125510.82              1          1   \n",
              "...           ...  ...     ...        ...            ...        ...   \n",
              "9995          771   39     5.0       0.00              2          1   \n",
              "9996          516   35    10.0   57369.61              1          1   \n",
              "9997          709   36     7.0       0.00              1          0   \n",
              "9998          772   42     3.0   75075.31              2          1   \n",
              "9999          792   28     0.0  130142.79              1          1   \n",
              "\n",
              "      IsActiveMember  EstimatedSalary  Exited  Geography_Germany  \\\n",
              "0                  1        101348.88       1                  0   \n",
              "1                  1        112542.58       0                  0   \n",
              "2                  0        113931.57       1                  0   \n",
              "3                  0         93826.63       0                  0   \n",
              "4                  1         79084.10       0                  0   \n",
              "...              ...              ...     ...                ...   \n",
              "9995               0         96270.64       0                  0   \n",
              "9996               1        101699.77       0                  0   \n",
              "9997               1         42085.58       1                  0   \n",
              "9998               0         92888.52       1                  1   \n",
              "9999               0         38190.78       0                  0   \n",
              "\n",
              "      Geography_Spain  Gender_Male  \n",
              "0                   0            0  \n",
              "1                   1            0  \n",
              "2                   0            0  \n",
              "3                   0            0  \n",
              "4                   1            0  \n",
              "...               ...          ...  \n",
              "9995                0            1  \n",
              "9996                0            1  \n",
              "9997                0            0  \n",
              "9998                0            1  \n",
              "9999                0            0  \n",
              "\n",
              "[10000 rows x 12 columns]"
            ],
            "text/html": [
              "\n",
              "  <div id=\"df-38a89308-3a7a-4e78-9bd8-dacd9526cd52\">\n",
              "    <div class=\"colab-df-container\">\n",
              "      <div>\n",
              "<style scoped>\n",
              "    .dataframe tbody tr th:only-of-type {\n",
              "        vertical-align: middle;\n",
              "    }\n",
              "\n",
              "    .dataframe tbody tr th {\n",
              "        vertical-align: top;\n",
              "    }\n",
              "\n",
              "    .dataframe thead th {\n",
              "        text-align: right;\n",
              "    }\n",
              "</style>\n",
              "<table border=\"1\" class=\"dataframe\">\n",
              "  <thead>\n",
              "    <tr style=\"text-align: right;\">\n",
              "      <th></th>\n",
              "      <th>CreditScore</th>\n",
              "      <th>Age</th>\n",
              "      <th>Tenure</th>\n",
              "      <th>Balance</th>\n",
              "      <th>NumOfProducts</th>\n",
              "      <th>HasCrCard</th>\n",
              "      <th>IsActiveMember</th>\n",
              "      <th>EstimatedSalary</th>\n",
              "      <th>Exited</th>\n",
              "      <th>Geography_Germany</th>\n",
              "      <th>Geography_Spain</th>\n",
              "      <th>Gender_Male</th>\n",
              "    </tr>\n",
              "  </thead>\n",
              "  <tbody>\n",
              "    <tr>\n",
              "      <th>0</th>\n",
              "      <td>619</td>\n",
              "      <td>42</td>\n",
              "      <td>2.0</td>\n",
              "      <td>0.00</td>\n",
              "      <td>1</td>\n",
              "      <td>1</td>\n",
              "      <td>1</td>\n",
              "      <td>101348.88</td>\n",
              "      <td>1</td>\n",
              "      <td>0</td>\n",
              "      <td>0</td>\n",
              "      <td>0</td>\n",
              "    </tr>\n",
              "    <tr>\n",
              "      <th>1</th>\n",
              "      <td>608</td>\n",
              "      <td>41</td>\n",
              "      <td>1.0</td>\n",
              "      <td>83807.86</td>\n",
              "      <td>1</td>\n",
              "      <td>0</td>\n",
              "      <td>1</td>\n",
              "      <td>112542.58</td>\n",
              "      <td>0</td>\n",
              "      <td>0</td>\n",
              "      <td>1</td>\n",
              "      <td>0</td>\n",
              "    </tr>\n",
              "    <tr>\n",
              "      <th>2</th>\n",
              "      <td>502</td>\n",
              "      <td>42</td>\n",
              "      <td>8.0</td>\n",
              "      <td>159660.80</td>\n",
              "      <td>3</td>\n",
              "      <td>1</td>\n",
              "      <td>0</td>\n",
              "      <td>113931.57</td>\n",
              "      <td>1</td>\n",
              "      <td>0</td>\n",
              "      <td>0</td>\n",
              "      <td>0</td>\n",
              "    </tr>\n",
              "    <tr>\n",
              "      <th>3</th>\n",
              "      <td>699</td>\n",
              "      <td>39</td>\n",
              "      <td>1.0</td>\n",
              "      <td>0.00</td>\n",
              "      <td>2</td>\n",
              "      <td>0</td>\n",
              "      <td>0</td>\n",
              "      <td>93826.63</td>\n",
              "      <td>0</td>\n",
              "      <td>0</td>\n",
              "      <td>0</td>\n",
              "      <td>0</td>\n",
              "    </tr>\n",
              "    <tr>\n",
              "      <th>4</th>\n",
              "      <td>850</td>\n",
              "      <td>43</td>\n",
              "      <td>2.0</td>\n",
              "      <td>125510.82</td>\n",
              "      <td>1</td>\n",
              "      <td>1</td>\n",
              "      <td>1</td>\n",
              "      <td>79084.10</td>\n",
              "      <td>0</td>\n",
              "      <td>0</td>\n",
              "      <td>1</td>\n",
              "      <td>0</td>\n",
              "    </tr>\n",
              "    <tr>\n",
              "      <th>...</th>\n",
              "      <td>...</td>\n",
              "      <td>...</td>\n",
              "      <td>...</td>\n",
              "      <td>...</td>\n",
              "      <td>...</td>\n",
              "      <td>...</td>\n",
              "      <td>...</td>\n",
              "      <td>...</td>\n",
              "      <td>...</td>\n",
              "      <td>...</td>\n",
              "      <td>...</td>\n",
              "      <td>...</td>\n",
              "    </tr>\n",
              "    <tr>\n",
              "      <th>9995</th>\n",
              "      <td>771</td>\n",
              "      <td>39</td>\n",
              "      <td>5.0</td>\n",
              "      <td>0.00</td>\n",
              "      <td>2</td>\n",
              "      <td>1</td>\n",
              "      <td>0</td>\n",
              "      <td>96270.64</td>\n",
              "      <td>0</td>\n",
              "      <td>0</td>\n",
              "      <td>0</td>\n",
              "      <td>1</td>\n",
              "    </tr>\n",
              "    <tr>\n",
              "      <th>9996</th>\n",
              "      <td>516</td>\n",
              "      <td>35</td>\n",
              "      <td>10.0</td>\n",
              "      <td>57369.61</td>\n",
              "      <td>1</td>\n",
              "      <td>1</td>\n",
              "      <td>1</td>\n",
              "      <td>101699.77</td>\n",
              "      <td>0</td>\n",
              "      <td>0</td>\n",
              "      <td>0</td>\n",
              "      <td>1</td>\n",
              "    </tr>\n",
              "    <tr>\n",
              "      <th>9997</th>\n",
              "      <td>709</td>\n",
              "      <td>36</td>\n",
              "      <td>7.0</td>\n",
              "      <td>0.00</td>\n",
              "      <td>1</td>\n",
              "      <td>0</td>\n",
              "      <td>1</td>\n",
              "      <td>42085.58</td>\n",
              "      <td>1</td>\n",
              "      <td>0</td>\n",
              "      <td>0</td>\n",
              "      <td>0</td>\n",
              "    </tr>\n",
              "    <tr>\n",
              "      <th>9998</th>\n",
              "      <td>772</td>\n",
              "      <td>42</td>\n",
              "      <td>3.0</td>\n",
              "      <td>75075.31</td>\n",
              "      <td>2</td>\n",
              "      <td>1</td>\n",
              "      <td>0</td>\n",
              "      <td>92888.52</td>\n",
              "      <td>1</td>\n",
              "      <td>1</td>\n",
              "      <td>0</td>\n",
              "      <td>1</td>\n",
              "    </tr>\n",
              "    <tr>\n",
              "      <th>9999</th>\n",
              "      <td>792</td>\n",
              "      <td>28</td>\n",
              "      <td>0.0</td>\n",
              "      <td>130142.79</td>\n",
              "      <td>1</td>\n",
              "      <td>1</td>\n",
              "      <td>0</td>\n",
              "      <td>38190.78</td>\n",
              "      <td>0</td>\n",
              "      <td>0</td>\n",
              "      <td>0</td>\n",
              "      <td>0</td>\n",
              "    </tr>\n",
              "  </tbody>\n",
              "</table>\n",
              "<p>10000 rows × 12 columns</p>\n",
              "</div>\n",
              "      <button class=\"colab-df-convert\" onclick=\"convertToInteractive('df-38a89308-3a7a-4e78-9bd8-dacd9526cd52')\"\n",
              "              title=\"Convert this dataframe to an interactive table.\"\n",
              "              style=\"display:none;\">\n",
              "        \n",
              "  <svg xmlns=\"http://www.w3.org/2000/svg\" height=\"24px\"viewBox=\"0 0 24 24\"\n",
              "       width=\"24px\">\n",
              "    <path d=\"M0 0h24v24H0V0z\" fill=\"none\"/>\n",
              "    <path d=\"M18.56 5.44l.94 2.06.94-2.06 2.06-.94-2.06-.94-.94-2.06-.94 2.06-2.06.94zm-11 1L8.5 8.5l.94-2.06 2.06-.94-2.06-.94L8.5 2.5l-.94 2.06-2.06.94zm10 10l.94 2.06.94-2.06 2.06-.94-2.06-.94-.94-2.06-.94 2.06-2.06.94z\"/><path d=\"M17.41 7.96l-1.37-1.37c-.4-.4-.92-.59-1.43-.59-.52 0-1.04.2-1.43.59L10.3 9.45l-7.72 7.72c-.78.78-.78 2.05 0 2.83L4 21.41c.39.39.9.59 1.41.59.51 0 1.02-.2 1.41-.59l7.78-7.78 2.81-2.81c.8-.78.8-2.07 0-2.86zM5.41 20L4 18.59l7.72-7.72 1.47 1.35L5.41 20z\"/>\n",
              "  </svg>\n",
              "      </button>\n",
              "      \n",
              "  <style>\n",
              "    .colab-df-container {\n",
              "      display:flex;\n",
              "      flex-wrap:wrap;\n",
              "      gap: 12px;\n",
              "    }\n",
              "\n",
              "    .colab-df-convert {\n",
              "      background-color: #E8F0FE;\n",
              "      border: none;\n",
              "      border-radius: 50%;\n",
              "      cursor: pointer;\n",
              "      display: none;\n",
              "      fill: #1967D2;\n",
              "      height: 32px;\n",
              "      padding: 0 0 0 0;\n",
              "      width: 32px;\n",
              "    }\n",
              "\n",
              "    .colab-df-convert:hover {\n",
              "      background-color: #E2EBFA;\n",
              "      box-shadow: 0px 1px 2px rgba(60, 64, 67, 0.3), 0px 1px 3px 1px rgba(60, 64, 67, 0.15);\n",
              "      fill: #174EA6;\n",
              "    }\n",
              "\n",
              "    [theme=dark] .colab-df-convert {\n",
              "      background-color: #3B4455;\n",
              "      fill: #D2E3FC;\n",
              "    }\n",
              "\n",
              "    [theme=dark] .colab-df-convert:hover {\n",
              "      background-color: #434B5C;\n",
              "      box-shadow: 0px 1px 3px 1px rgba(0, 0, 0, 0.15);\n",
              "      filter: drop-shadow(0px 1px 2px rgba(0, 0, 0, 0.3));\n",
              "      fill: #FFFFFF;\n",
              "    }\n",
              "  </style>\n",
              "\n",
              "      <script>\n",
              "        const buttonEl =\n",
              "          document.querySelector('#df-38a89308-3a7a-4e78-9bd8-dacd9526cd52 button.colab-df-convert');\n",
              "        buttonEl.style.display =\n",
              "          google.colab.kernel.accessAllowed ? 'block' : 'none';\n",
              "\n",
              "        async function convertToInteractive(key) {\n",
              "          const element = document.querySelector('#df-38a89308-3a7a-4e78-9bd8-dacd9526cd52');\n",
              "          const dataTable =\n",
              "            await google.colab.kernel.invokeFunction('convertToInteractive',\n",
              "                                                     [key], {});\n",
              "          if (!dataTable) return;\n",
              "\n",
              "          const docLinkHtml = 'Like what you see? Visit the ' +\n",
              "            '<a target=\"_blank\" href=https://colab.research.google.com/notebooks/data_table.ipynb>data table notebook</a>'\n",
              "            + ' to learn more about interactive tables.';\n",
              "          element.innerHTML = '';\n",
              "          dataTable['output_type'] = 'display_data';\n",
              "          await google.colab.output.renderOutput(dataTable, element);\n",
              "          const docLink = document.createElement('div');\n",
              "          docLink.innerHTML = docLinkHtml;\n",
              "          element.appendChild(docLink);\n",
              "        }\n",
              "      </script>\n",
              "    </div>\n",
              "  </div>\n",
              "  "
            ]
          },
          "metadata": {},
          "execution_count": 12
        }
      ],
      "source": [
        "data_encoded"
      ]
    },
    {
      "cell_type": "markdown",
      "metadata": {
        "id": "MY3jqxCLTRcL"
      },
      "source": [
        "## Modelling"
      ]
    },
    {
      "cell_type": "markdown",
      "metadata": {
        "id": "HW-SOmR5TRcL"
      },
      "source": [
        "Setelah data disiapkan, selanjutnya adalah pelatihan model Machine Learning.\n",
        "\n"
      ]
    },
    {
      "cell_type": "markdown",
      "metadata": {
        "id": "HoIYm6UhTRcL"
      },
      "source": [
        "### Training, Validation, & Test Dataset"
      ]
    },
    {
      "cell_type": "markdown",
      "metadata": {
        "id": "W5E_bOd2TRcL"
      },
      "source": [
        "Yang akan dijadikan target di dataset ini adalah kolom Exited. Kolom ini merupakan kolom apakah nasabah keluar dari Bank, dan yang dijadikan features adalah semua kolom kecuali kolom Exited."
      ]
    },
    {
      "cell_type": "markdown",
      "metadata": {
        "id": "prihHLRRTRcL"
      },
      "source": [
        "Rasio pemisahan yang akan dilakukan adalah 75% untuk Train dataset, 15% untuk Validation dataset, dan 10% untuk Test dataset. Untuk melakukan pemisahan ini, digunakan train_test_split dua kali. Pertama dengan size 0.75, dan yang kedua adalah dengan size 0.6."
      ]
    },
    {
      "cell_type": "code",
      "execution_count": 13,
      "metadata": {
        "id": "83OWSdmeTRcL"
      },
      "outputs": [],
      "source": [
        "features = data_encoded.drop('Exited', axis=1)\n",
        "target = data_encoded['Exited']"
      ]
    },
    {
      "cell_type": "code",
      "execution_count": 14,
      "metadata": {
        "colab": {
          "base_uri": "https://localhost:8080/"
        },
        "id": "GHnpKyv2TRcL",
        "outputId": "0ead835a-762b-4dd1-eea8-cd637c722ad9"
      },
      "outputs": [
        {
          "output_type": "stream",
          "name": "stdout",
          "text": [
            "(10000, 11)\n",
            "(10000,)\n"
          ]
        }
      ],
      "source": [
        "print(features.shape)\n",
        "print(target.shape)"
      ]
    },
    {
      "cell_type": "code",
      "execution_count": 15,
      "metadata": {
        "id": "7HqjrKRxTRcM"
      },
      "outputs": [],
      "source": [
        "features_train, features_sisa, target_train, target_sisa = train_test_split(features, target, train_size= 0.75, random_state=1)\n",
        "features_valid, features_test, target_valid, target_test = train_test_split(features_sisa, target_sisa, train_size = 0.6, random_state=1)"
      ]
    },
    {
      "cell_type": "code",
      "execution_count": 16,
      "metadata": {
        "scrolled": true,
        "colab": {
          "base_uri": "https://localhost:8080/"
        },
        "id": "M-aTX76mTRcM",
        "outputId": "52caeef5-1945-4736-b4ae-5069c271cd14"
      },
      "outputs": [
        {
          "output_type": "stream",
          "name": "stdout",
          "text": [
            "Size train dataset adalah 75%\n",
            "Size validation dataset adalah 15%\n",
            "Size test dataset adalah 10%\n"
          ]
        }
      ],
      "source": [
        "print(f'Size train dataset adalah {round(len(features_train)/len(features)*100)}%')\n",
        "print(f'Size validation dataset adalah {round(len(features_valid)/len(features)*100)}%')\n",
        "print(f'Size test dataset adalah {round(len(features_test)/len(features)*100)}%')"
      ]
    },
    {
      "cell_type": "markdown",
      "metadata": {
        "id": "ofOBYIOgTRcM"
      },
      "source": [
        "Data sudah siap digunakan. Terkait dengan Scaling fitur, dari apa yang saya baca, scaling features tidak selalu dibutuhkan, khususnya untuk Random Forest, sehingga Features Scaling untuk proyek ini tidak digunakan.\n",
        "\n",
        "ref: https://towardsdatascience.com/how-data-normalization-affects-your-random-forest-algorithm-fbc6753b4ddf#:~:text=Stack%20Overflow%3A%20(1)%20No,does%20not%20require%20feature%20scaling."
      ]
    },
    {
      "cell_type": "markdown",
      "metadata": {
        "id": "o5xG5cxHTRcM"
      },
      "source": [
        "### Pemodelan Machine Learning Tanpa Balancing Data"
      ]
    },
    {
      "cell_type": "markdown",
      "metadata": {
        "id": "bLS9pYfcTRcM"
      },
      "source": [
        "Karena tipe data target yang akan diprediksi adalah kategorik, maka pemodelan yang digunakan adalah Classifier. Untuk model yang dipilih untuk dijadikan Machine Learning adalah Random Forest Classifier. Model ini dipakai karena dari apa yang saya baca di forum data scientist, Random Forest Classifier adalah pilihan pertama untuk dataset yang tidak terlalu banyak. Mungkin banyak disini relatif, tapi untuk data yang hanya 10000 baris, data masih bisa dibilang sedikit.\n",
        "\n",
        "ref: https://careerfoundry.com/en/blog/data-analytics/what-is-random-forest/#:~:text=3.,%2C%20patient%20history%2C%20and%20safety."
      ]
    },
    {
      "cell_type": "markdown",
      "metadata": {
        "id": "qIekZNU9TRcN"
      },
      "source": [
        "Untuk pemodelan Random Forest, ada beberapa hyperparameter yang bisa di tuning, namun sebelumnya untuk memudahkan menjawab tugas pada proyek kali ini yaitu \"Melihat perbedaan data yang sudah di balancing dan yang belum\", maka model akan dilatih ulang ketika sudah didapatkan perbedaannya"
      ]
    },
    {
      "cell_type": "code",
      "execution_count": 17,
      "metadata": {
        "id": "uvGwAYeXTRcN"
      },
      "outputs": [],
      "source": [
        "model = RandomForestClassifier(random_state=12345)"
      ]
    },
    {
      "cell_type": "code",
      "execution_count": 18,
      "metadata": {
        "id": "do1ug7QiTRcN"
      },
      "outputs": [],
      "source": [
        "model.fit(features_train, target_train)\n",
        "predicted_valid = model.predict(features_valid)"
      ]
    },
    {
      "cell_type": "code",
      "execution_count": 19,
      "metadata": {
        "colab": {
          "base_uri": "https://localhost:8080/"
        },
        "id": "bhsXCYaBTRcN",
        "outputId": "f616813f-34d2-4950-b83a-f24da444a11f"
      },
      "outputs": [
        {
          "output_type": "stream",
          "name": "stdout",
          "text": [
            "F1 Score untuk data yang belum di balancing adalah 0.5872689938398357\n"
          ]
        }
      ],
      "source": [
        "print(f'F1 Score untuk data yang belum di balancing adalah {f1_score(predicted_valid, target_valid)}')"
      ]
    },
    {
      "cell_type": "markdown",
      "metadata": {
        "id": "ChSN-t57TRcN"
      },
      "source": [
        "Ternyata data yang belum dibalancing memiliki F1 Score yang kurang sedikit dari 0.59."
      ]
    },
    {
      "cell_type": "code",
      "execution_count": 20,
      "metadata": {
        "colab": {
          "base_uri": "https://localhost:8080/",
          "height": 295
        },
        "id": "7SnLPA-YTRcN",
        "outputId": "6f4774dd-ebc9-4511-e738-7b5902973640"
      },
      "outputs": [
        {
          "output_type": "display_data",
          "data": {
            "text/plain": [
              "<Figure size 432x288 with 2 Axes>"
            ],
            "image/png": "[encoded data removed]"
          },
          "metadata": {
            "needs_background": "light"
          }
        }
      ],
      "source": [
        "cm_rf = confusion_matrix(target_valid, model.predict(features_valid))\n",
        "disp = ConfusionMatrixDisplay(confusion_matrix=cm_rf)\n",
        "disp.plot()\n",
        "plt.title('Random Forest')\n",
        "plt.xlabel('Prediksi')\n",
        "plt.ylabel('Aktual')\n",
        "plt.show()"
      ]
    },
    {
      "cell_type": "markdown",
      "metadata": {
        "id": "Cw5g9WRnTRcO"
      },
      "source": [
        "Ada 47 False Positive dan 154 False Negative"
      ]
    },
    {
      "cell_type": "markdown",
      "metadata": {
        "id": "n6bexM1JTRcO"
      },
      "source": [
        "### Pemodelan Machine Learning dengan Balancing Data"
      ]
    },
    {
      "cell_type": "markdown",
      "metadata": {
        "id": "uUadnIW6TRcO"
      },
      "source": [
        "Sebelumnya, hal yang akan dilakukan adalah melihat apakah persebaran data pada Train Set seimbang atau tidak."
      ]
    },
    {
      "cell_type": "code",
      "execution_count": 21,
      "metadata": {
        "scrolled": true,
        "colab": {
          "base_uri": "https://localhost:8080/"
        },
        "id": "bfgIr-QZTRcO",
        "outputId": "8a6dd221-7aec-4eaa-dde9-5efa6b0d0c8b"
      },
      "outputs": [
        {
          "output_type": "stream",
          "name": "stdout",
          "text": [
            "0.7977333333333333\n"
          ]
        }
      ],
      "source": [
        "features_zeros = features_train[target_train==0]\n",
        "features_ones = features_train[target_train==1]\n",
        "print(len(features_zeros)/(len(features_train)))"
      ]
    },
    {
      "cell_type": "markdown",
      "metadata": {
        "id": "tvuWHqosTRcO"
      },
      "source": [
        "Ditemukan adanya sedikit imbalanced pada dataset, sekitar 80% untuk observasi negatif dan 20% untuk observasi positif."
      ]
    },
    {
      "cell_type": "markdown",
      "metadata": {
        "id": "HmY6UMpXTRcO"
      },
      "source": [
        "#### Upsampling"
      ]
    },
    {
      "cell_type": "markdown",
      "metadata": {
        "id": "dn_iY5Y0TRcP"
      },
      "source": [
        "Pertama, balancing yang akan dilakukan adalah upsampling."
      ]
    },
    {
      "cell_type": "code",
      "execution_count": 22,
      "metadata": {
        "colab": {
          "base_uri": "https://localhost:8080/"
        },
        "id": "JBPjLLQgTRcP",
        "outputId": "e4094508-16af-4c5d-9a28-c22a26141a5f"
      },
      "outputs": [
        {
          "output_type": "stream",
          "name": "stdout",
          "text": [
            "(1517, 11)\n",
            "(5983, 11)\n"
          ]
        }
      ],
      "source": [
        "print(features_ones.shape)\n",
        "print(features_zeros.shape)"
      ]
    },
    {
      "cell_type": "code",
      "execution_count": 23,
      "metadata": {
        "id": "ptnqhrsLTRcP"
      },
      "outputs": [],
      "source": [
        "def upsample(features, target, repeat):\n",
        "    features_zeros = features[target == 0]\n",
        "    features_ones = features[target == 1]\n",
        "    target_zeros = target[target == 0]\n",
        "    target_ones = target[target == 1]\n",
        "\n",
        "    features1 = pd.concat([features_zeros] + [features_ones] * repeat)\n",
        "    target1 = pd.concat([target_zeros] + [target_ones] * repeat)\n",
        "\n",
        "    features_upsampled, target_upsampled = shuffle(\n",
        "        features1, target1, random_state=12345\n",
        "    )\n",
        "\n",
        "    return features_upsampled, target_upsampled, features1, target1\n",
        "\n",
        "features_upsampled, target_upsampled, features1, target1 = upsample(\n",
        "    features_train, target_train, 4\n",
        ")\n"
      ]
    },
    {
      "cell_type": "code",
      "execution_count": 24,
      "metadata": {
        "colab": {
          "base_uri": "https://localhost:8080/"
        },
        "id": "7-FQSojJTRcP",
        "outputId": "73037d16-7282-4d64-d669-985ccf21b906"
      },
      "outputs": [
        {
          "output_type": "stream",
          "name": "stdout",
          "text": [
            "(5983, 11)\n",
            "(6068, 11)\n"
          ]
        },
        {
          "output_type": "stream",
          "name": "stderr",
          "text": [
            "<ipython-input-24-bce238224b12>:1: UserWarning: Boolean Series key will be reindexed to match DataFrame index.\n",
            "  print(features_upsampled[target_train == 0].shape)\n",
            "<ipython-input-24-bce238224b12>:2: UserWarning: Boolean Series key will be reindexed to match DataFrame index.\n",
            "  print(features_upsampled[target_train==1].shape)\n"
          ]
        }
      ],
      "source": [
        "print(features_upsampled[target_train == 0].shape)\n",
        "print(features_upsampled[target_train==1].shape)"
      ]
    },
    {
      "cell_type": "markdown",
      "metadata": {
        "id": "Jfx5XjVNTRcP"
      },
      "source": [
        "Upsampling dilakukan sebanyak 4 kali dan didapatkan data yang sudah hampir sama jumlahnya."
      ]
    },
    {
      "cell_type": "code",
      "execution_count": 25,
      "metadata": {
        "id": "BzeilrChTRcP"
      },
      "outputs": [],
      "source": [
        "model.fit(features_upsampled, target_upsampled)\n",
        "predicted_valid = model.predict(features_valid)"
      ]
    },
    {
      "cell_type": "code",
      "execution_count": 26,
      "metadata": {
        "colab": {
          "base_uri": "https://localhost:8080/"
        },
        "id": "_bw34kS5TRcQ",
        "outputId": "f2fd2711-f348-4439-b503-0e061356961d"
      },
      "outputs": [
        {
          "output_type": "stream",
          "name": "stdout",
          "text": [
            "F1 Score untuk data yang sudah di balancing adalah 0.6165137614678898\n"
          ]
        }
      ],
      "source": [
        "print(f'F1 Score untuk data yang sudah di balancing adalah {f1_score(predicted_valid, target_valid)}')"
      ]
    },
    {
      "cell_type": "markdown",
      "metadata": {
        "id": "9baKQK8FTRcQ"
      },
      "source": [
        "F1 Score sekarang menjadi 0.61, yang mana hal ini meningkat 3% dibanding data yang belum dibalancing."
      ]
    },
    {
      "cell_type": "code",
      "execution_count": 27,
      "metadata": {
        "colab": {
          "base_uri": "https://localhost:8080/",
          "height": 295
        },
        "id": "5FjGN3FGTRcQ",
        "outputId": "c80837c1-7fa0-498b-fcfc-ca8e268cbed9"
      },
      "outputs": [
        {
          "output_type": "display_data",
          "data": {
            "text/plain": [
              "<Figure size 432x288 with 2 Axes>"
            ],
            "image/png": "[encoded data removed]"
          },
          "metadata": {
            "needs_background": "light"
          }
        }
      ],
      "source": [
        "cm_rf = confusion_matrix(target_valid, model.predict(features_valid))\n",
        "disp = ConfusionMatrixDisplay(confusion_matrix=cm_rf)\n",
        "disp.plot()\n",
        "plt.title('Random Forest')\n",
        "plt.xlabel('Prediksi')\n",
        "plt.ylabel('Aktual')\n",
        "plt.show()"
      ]
    },
    {
      "cell_type": "markdown",
      "metadata": {
        "id": "I_-9diG-TRcQ"
      },
      "source": [
        "Ada 80 False Positive, dan 129 False Negative, Jumlahnya berkurang dibandingkan dengan yang belum di balancing"
      ]
    },
    {
      "cell_type": "markdown",
      "metadata": {
        "id": "8CNbXQItTRcR"
      },
      "source": [
        "#### Downsampling"
      ]
    },
    {
      "cell_type": "markdown",
      "metadata": {
        "id": "ez0cn6qGTRcR"
      },
      "source": [
        "Selanjutnya untuk mencoba lebih dalam, apakah downsampling lebih baik dibanding upsampling, maka balancing menggunakan downsampling akan digunakan juga."
      ]
    },
    {
      "cell_type": "code",
      "execution_count": 28,
      "metadata": {
        "id": "RTe9403FTRcR"
      },
      "outputs": [],
      "source": [
        "def downsample(features, target, fraction):\n",
        "    features_zeros = features[target == 0]\n",
        "    features_ones = features[target == 1]\n",
        "    target_zeros = target[target == 0]\n",
        "    target_ones = target[target == 1]\n",
        "\n",
        "    features_downsampled = pd.concat(\n",
        "        [features_zeros.sample(frac=fraction, random_state=12345)]\n",
        "        + [features_ones]\n",
        "    )\n",
        "    target_downsampled = pd.concat(\n",
        "        [target_zeros.sample(frac=fraction, random_state=12345)]\n",
        "        + [target_ones]\n",
        "    )\n",
        "\n",
        "    features_downsampled, target_downsampled = shuffle(\n",
        "        features_downsampled, target_downsampled, random_state=12345\n",
        "    )\n",
        "\n",
        "    return features_downsampled, target_downsampled\n",
        "\n",
        "\n",
        "features_downsampled, target_downsampled = downsample(\n",
        "    features_train, target_train, 0.25\n",
        ")"
      ]
    },
    {
      "cell_type": "code",
      "execution_count": 29,
      "metadata": {
        "colab": {
          "base_uri": "https://localhost:8080/"
        },
        "id": "JsgtThihTRcR",
        "outputId": "1ac070f0-e256-4a3a-ef21-007df2bbbf6f"
      },
      "outputs": [
        {
          "output_type": "stream",
          "name": "stdout",
          "text": [
            "(1496, 11)\n",
            "(1517, 11)\n"
          ]
        },
        {
          "output_type": "stream",
          "name": "stderr",
          "text": [
            "<ipython-input-29-fb8a8002cd32>:1: UserWarning: Boolean Series key will be reindexed to match DataFrame index.\n",
            "  print(features_downsampled[target_train == 0].shape)\n",
            "<ipython-input-29-fb8a8002cd32>:2: UserWarning: Boolean Series key will be reindexed to match DataFrame index.\n",
            "  print(features_downsampled[target_train==1].shape)\n"
          ]
        }
      ],
      "source": [
        "print(features_downsampled[target_train == 0].shape)\n",
        "print(features_downsampled[target_train==1].shape)"
      ]
    },
    {
      "cell_type": "code",
      "execution_count": 30,
      "metadata": {
        "id": "1FfO2QELTRcR"
      },
      "outputs": [],
      "source": [
        "model.fit(features_downsampled, target_downsampled)\n",
        "predicted_valid = model.predict(features_valid)"
      ]
    },
    {
      "cell_type": "code",
      "execution_count": 31,
      "metadata": {
        "scrolled": true,
        "colab": {
          "base_uri": "https://localhost:8080/"
        },
        "id": "sZlRZi3nTRcS",
        "outputId": "f7a39052-9da1-4d7c-938d-21e4d28ac940"
      },
      "outputs": [
        {
          "output_type": "stream",
          "name": "stdout",
          "text": [
            "F1 Score untuk data yang sudah di balancing adalah 0.602809706257982\n"
          ]
        }
      ],
      "source": [
        "print(f'F1 Score untuk data yang sudah di balancing adalah {f1_score(predicted_valid, target_valid)}')"
      ]
    },
    {
      "cell_type": "markdown",
      "metadata": {
        "id": "jQxlzKqYTRcS"
      },
      "source": [
        "Nilai F1 Score yang dihasilkan hanya berbeda 2% dengan data yang masih imbalance, ternyata upsampling lebih baik dibanding downsampling pada data yang imbalance ini."
      ]
    },
    {
      "cell_type": "code",
      "execution_count": 32,
      "metadata": {
        "colab": {
          "base_uri": "https://localhost:8080/",
          "height": 295
        },
        "id": "poRKgsgqTRcS",
        "outputId": "558d536b-25d9-45b0-ac6c-0ef18e075481"
      },
      "outputs": [
        {
          "output_type": "display_data",
          "data": {
            "text/plain": [
              "<Figure size 432x288 with 2 Axes>"
            ],
            "image/png": "[encoded data removed]"
          },
          "metadata": {
            "needs_background": "light"
          }
        }
      ],
      "source": [
        "cm_rf = confusion_matrix(target_valid, model.predict(features_valid))\n",
        "disp = ConfusionMatrixDisplay(confusion_matrix=cm_rf)\n",
        "disp.plot()\n",
        "plt.title('Random Forest')\n",
        "plt.xlabel('Prediksi')\n",
        "plt.ylabel('Aktual')\n",
        "plt.show()"
      ]
    },
    {
      "cell_type": "markdown",
      "metadata": {
        "id": "qxxBgXeuTRcS"
      },
      "source": [
        "Ada 250 False Positive, dan 61 False Negative. False Positive meningkat sangat drastis, namun untuk True Positive juga meningkat!"
      ]
    },
    {
      "cell_type": "markdown",
      "metadata": {
        "id": "i67EC1HoTRcS"
      },
      "source": [
        "#### Hyperparameter Tuning"
      ]
    },
    {
      "cell_type": "markdown",
      "metadata": {
        "id": "CCvqZ-8HTRcS"
      },
      "source": [
        "Untuk mendorong kualitas model lebih jauh, digunakan hyperparameter tuning untuk max_depth dan n_estimators."
      ]
    },
    {
      "cell_type": "markdown",
      "metadata": {
        "id": "Xcn_fMK_TRcS"
      },
      "source": [
        "Latih ulang model dengan data yang sudah di upsample."
      ]
    },
    {
      "cell_type": "code",
      "execution_count": 33,
      "metadata": {
        "scrolled": false,
        "colab": {
          "base_uri": "https://localhost:8080/"
        },
        "id": "WXcYFw9aTRcT",
        "outputId": "a8e39452-de77-4442-e78a-dec06034c4c1"
      },
      "outputs": [
        {
          "output_type": "stream",
          "name": "stdout",
          "text": [
            "1 - 25 - 0.5302325581395348\n",
            "2 - 25 - 0.550795593635251\n",
            "3 - 25 - 0.5755395683453237\n",
            "4 - 25 - 0.5957446808510638\n",
            "5 - 25 - 0.6139657444005271\n",
            "6 - 25 - 0.6268260292164676\n",
            "7 - 25 - 0.6236263736263735\n",
            "1 - 50 - 0.5394285714285715\n",
            "2 - 50 - 0.5512195121951219\n",
            "3 - 50 - 0.583232077764277\n",
            "4 - 50 - 0.5954198473282443\n",
            "5 - 50 - 0.613157894736842\n",
            "6 - 50 - 0.6180371352785146\n",
            "7 - 50 - 0.6197564276048715\n",
            "1 - 75 - 0.5465116279069767\n",
            "2 - 75 - 0.5599051008303677\n",
            "3 - 75 - 0.5813397129186604\n",
            "4 - 75 - 0.5992414664981036\n",
            "5 - 75 - 0.6147859922178989\n",
            "6 - 75 - 0.6211512717536813\n",
            "7 - 75 - 0.6124661246612466\n",
            "1 - 100 - 0.5407319952774499\n",
            "2 - 100 - 0.5631768953068592\n",
            "3 - 100 - 0.5828295042321645\n",
            "4 - 100 - 0.5974683544303797\n",
            "5 - 100 - 0.6145833333333334\n",
            "6 - 100 - 0.6263440860215054\n",
            "7 - 100 - 0.6216216216216216\n",
            "1 - 125 - 0.542654028436019\n",
            "2 - 125 - 0.5519713261648745\n",
            "3 - 125 - 0.583941605839416\n",
            "4 - 125 - 0.6023166023166022\n",
            "5 - 125 - 0.6137566137566137\n",
            "6 - 125 - 0.6275033377837116\n",
            "7 - 125 - 0.6251691474966171\n",
            "1 - 150 - 0.5432977461447213\n",
            "2 - 150 - 0.5665024630541872\n",
            "3 - 150 - 0.583232077764277\n",
            "4 - 150 - 0.6005154639175259\n",
            "5 - 150 - 0.6105263157894737\n",
            "6 - 150 - 0.6228187919463088\n",
            "7 - 150 - 0.625\n",
            "1 - 175 - 0.5443786982248521\n",
            "2 - 175 - 0.5745721271393643\n",
            "3 - 175 - 0.5841584158415841\n",
            "4 - 175 - 0.6012903225806452\n",
            "5 - 175 - 0.618229854689564\n",
            "6 - 175 - 0.6194926568758345\n",
            "7 - 175 - 0.6239782016348775\n",
            "1 - 200 - 0.5437352245862883\n",
            "2 - 200 - 0.5731857318573186\n",
            "3 - 200 - 0.5877957658779577\n",
            "4 - 200 - 0.6062176165803109\n",
            "5 - 200 - 0.6172185430463577\n",
            "6 - 200 - 0.6246648793565683\n",
            "7 - 200 - 0.6263736263736265\n",
            "Max depth terbaik adalah 6, dengan n_estimator sebanyak 125, dengan f1 score = 0.6275033377837116.\n"
          ]
        }
      ],
      "source": [
        "best_rf_model = None\n",
        "best_rf_f1 = 0\n",
        "best_est = 0\n",
        "best_rf_depth = 0\n",
        "for est in range(25, 201, 25):\n",
        "    for depth in range (1, 8):\n",
        "        model_rf = RandomForestClassifier(max_depth = depth, n_estimators=est, random_state=12345)\n",
        "        model_rf.fit(features_upsampled, target_upsampled)\n",
        "        predictions_rf_valid = model_rf.predict(features_valid)\n",
        "        f1 = f1_score(target_valid, predictions_rf_valid)\n",
        "        print(f'{depth} - {est} - {f1}')\n",
        "        if f1 > best_rf_f1:\n",
        "            best_rf_model = model_rf\n",
        "            best_rf_f1 = f1\n",
        "            best_est = est\n",
        "            best_rf_depth = depth\n",
        "        \n",
        "print(f'Max depth terbaik adalah {best_rf_depth}, dengan n_estimator sebanyak {best_est}, dengan f1 score = {f1_score(target_valid, best_rf_model.predict(features_valid))}.')            "
      ]
    },
    {
      "cell_type": "markdown",
      "metadata": {
        "id": "DdBnFnCxTRcT"
      },
      "source": [
        "Max depth terbaik adalah 6, dengan n_estimator sebanyak 125, dengan f1 score = 0.6275033377837116. Dengan tuning hyperparameter ini, f1 score naik lagi sebesar 1%."
      ]
    },
    {
      "cell_type": "markdown",
      "metadata": {
        "id": "2FfqpMofTRcT"
      },
      "source": [
        "#### Penyesuaian Threshold"
      ]
    },
    {
      "cell_type": "markdown",
      "metadata": {
        "id": "-z7-a2SbTRcT"
      },
      "source": [
        "Sebelum penyesuaian threshold, kita latih ulang model dengan hyperparameter yang sudah ada."
      ]
    },
    {
      "cell_type": "code",
      "execution_count": 34,
      "metadata": {
        "scrolled": true,
        "id": "iesTISCzTRcT"
      },
      "outputs": [],
      "source": [
        "model_tuned = RandomForestClassifier(max_depth = 6, n_estimators = 125, random_state=12345)\n"
      ]
    },
    {
      "cell_type": "markdown",
      "metadata": {
        "id": "-iWLpMTRTRcU"
      },
      "source": [
        "##### Threshold dengan Upsampling"
      ]
    },
    {
      "cell_type": "code",
      "execution_count": 35,
      "metadata": {
        "id": "vmBewiyvTRcU"
      },
      "outputs": [],
      "source": [
        "model_tuned.fit(features_upsampled, target_upsampled)\n",
        "predicted_valid = model_tuned.predict(features_valid)"
      ]
    },
    {
      "cell_type": "code",
      "execution_count": 36,
      "metadata": {
        "scrolled": false,
        "colab": {
          "base_uri": "https://localhost:8080/"
        },
        "id": "D3IqmCsATRcU",
        "outputId": "b73243bd-e1dd-41bc-86d5-567233b978b5"
      },
      "outputs": [
        {
          "output_type": "stream",
          "name": "stdout",
          "text": [
            "Threshold = 0.0 | F1 = 0.331 | Precision = 0.20 | Accuracy = 0.20 | Recall = 1.00\n",
            "Threshold = 0.02 | F1 = 0.331 | Precision = 0.20 | Accuracy = 0.20 | Recall = 1.00\n",
            "Threshold = 0.04 | F1 = 0.331 | Precision = 0.20 | Accuracy = 0.20 | Recall = 1.00\n",
            "Threshold = 0.06 | F1 = 0.331 | Precision = 0.20 | Accuracy = 0.20 | Recall = 1.00\n",
            "Threshold = 0.08 | F1 = 0.331 | Precision = 0.20 | Accuracy = 0.20 | Recall = 1.00\n",
            "Threshold = 0.1 | F1 = 0.331 | Precision = 0.20 | Accuracy = 0.20 | Recall = 1.00\n",
            "Threshold = 0.12 | F1 = 0.331 | Precision = 0.20 | Accuracy = 0.20 | Recall = 1.00\n",
            "Threshold = 0.14 | F1 = 0.340 | Precision = 0.20 | Accuracy = 0.23 | Recall = 1.00\n",
            "Threshold = 0.16 | F1 = 0.348 | Precision = 0.21 | Accuracy = 0.26 | Recall = 1.00\n",
            "Threshold = 0.18 | F1 = 0.360 | Precision = 0.22 | Accuracy = 0.30 | Recall = 1.00\n",
            "Threshold = 0.2 | F1 = 0.374 | Precision = 0.23 | Accuracy = 0.34 | Recall = 1.00\n",
            "Threshold = 0.22 | F1 = 0.391 | Precision = 0.24 | Accuracy = 0.39 | Recall = 0.99\n",
            "Threshold = 0.24 | F1 = 0.407 | Precision = 0.26 | Accuracy = 0.43 | Recall = 0.98\n",
            "Threshold = 0.26 | F1 = 0.427 | Precision = 0.27 | Accuracy = 0.48 | Recall = 0.98\n",
            "Threshold = 0.28 | F1 = 0.438 | Precision = 0.28 | Accuracy = 0.50 | Recall = 0.97\n",
            "Threshold = 0.3 | F1 = 0.455 | Precision = 0.30 | Accuracy = 0.54 | Recall = 0.96\n",
            "Threshold = 0.32 | F1 = 0.470 | Precision = 0.31 | Accuracy = 0.57 | Recall = 0.96\n",
            "Threshold = 0.34 | F1 = 0.489 | Precision = 0.33 | Accuracy = 0.61 | Recall = 0.94\n",
            "Threshold = 0.36 | F1 = 0.513 | Precision = 0.36 | Accuracy = 0.65 | Recall = 0.92\n",
            "Threshold = 0.38 | F1 = 0.534 | Precision = 0.38 | Accuracy = 0.69 | Recall = 0.91\n",
            "Threshold = 0.4 | F1 = 0.547 | Precision = 0.40 | Accuracy = 0.71 | Recall = 0.88\n",
            "Threshold = 0.42 | F1 = 0.567 | Precision = 0.42 | Accuracy = 0.74 | Recall = 0.87\n",
            "Threshold = 0.44 | F1 = 0.583 | Precision = 0.44 | Accuracy = 0.76 | Recall = 0.85\n",
            "Threshold = 0.46 | F1 = 0.594 | Precision = 0.47 | Accuracy = 0.78 | Recall = 0.82\n",
            "Threshold = 0.48 | F1 = 0.608 | Precision = 0.49 | Accuracy = 0.80 | Recall = 0.80\n",
            "Threshold = 0.5 | F1 = 0.628 | Precision = 0.52 | Accuracy = 0.81 | Recall = 0.79\n",
            "Threshold = 0.52 | F1 = 0.627 | Precision = 0.54 | Accuracy = 0.83 | Recall = 0.74\n",
            "Threshold = 0.54 | F1 = 0.629 | Precision = 0.58 | Accuracy = 0.84 | Recall = 0.69\n",
            "Threshold = 0.56 | F1 = 0.623 | Precision = 0.59 | Accuracy = 0.84 | Recall = 0.66\n",
            "Threshold = 0.58 | F1 = 0.623 | Precision = 0.62 | Accuracy = 0.85 | Recall = 0.63\n",
            "Threshold = 0.6 | F1 = 0.632 | Precision = 0.65 | Accuracy = 0.86 | Recall = 0.62\n",
            "Threshold = 0.62 | F1 = 0.628 | Precision = 0.67 | Accuracy = 0.86 | Recall = 0.59\n",
            "Threshold = 0.64 | F1 = 0.634 | Precision = 0.70 | Accuracy = 0.87 | Recall = 0.58\n",
            "Threshold = 0.66 | F1 = 0.629 | Precision = 0.71 | Accuracy = 0.87 | Recall = 0.56\n",
            "Threshold = 0.68 | F1 = 0.611 | Precision = 0.72 | Accuracy = 0.87 | Recall = 0.53\n",
            "Threshold = 0.7000000000000001 | F1 = 0.606 | Precision = 0.74 | Accuracy = 0.87 | Recall = 0.52\n",
            "Threshold = 0.72 | F1 = 0.583 | Precision = 0.75 | Accuracy = 0.87 | Recall = 0.47\n",
            "Threshold = 0.74 | F1 = 0.579 | Precision = 0.79 | Accuracy = 0.87 | Recall = 0.46\n",
            "Threshold = 0.76 | F1 = 0.550 | Precision = 0.82 | Accuracy = 0.87 | Recall = 0.41\n",
            "Threshold = 0.78 | F1 = 0.518 | Precision = 0.86 | Accuracy = 0.86 | Recall = 0.37\n",
            "Threshold = 0.8 | F1 = 0.464 | Precision = 0.89 | Accuracy = 0.86 | Recall = 0.31\n",
            "Threshold = 0.8200000000000001 | F1 = 0.415 | Precision = 0.90 | Accuracy = 0.85 | Recall = 0.27\n",
            "Threshold = 0.84 | F1 = 0.318 | Precision = 0.92 | Accuracy = 0.84 | Recall = 0.19\n",
            "Threshold = 0.86 | F1 = 0.257 | Precision = 0.96 | Accuracy = 0.83 | Recall = 0.15\n",
            "Threshold = 0.88 | F1 = 0.171 | Precision = 0.93 | Accuracy = 0.82 | Recall = 0.09\n",
            "Threshold = 0.9 | F1 = 0.071 | Precision = 1.00 | Accuracy = 0.81 | Recall = 0.04\n",
            "Threshold = 0.92 | F1 = 0.020 | Precision = 1.00 | Accuracy = 0.80 | Recall = 0.01\n",
            "Threshold = 0.9400000000000001 | F1 = 0.000 | Precision = 0.00 | Accuracy = 0.80 | Recall = 0.00\n",
            "Threshold = 0.96 | F1 = 0.000 | Precision = 0.00 | Accuracy = 0.80 | Recall = 0.00\n",
            "Threshold = 0.98 | F1 = 0.000 | Precision = 0.00 | Accuracy = 0.80 | Recall = 0.00\n"
          ]
        },
        {
          "output_type": "stream",
          "name": "stderr",
          "text": [
            "/usr/local/lib/python3.8/dist-packages/sklearn/metrics/_classification.py:1344: UndefinedMetricWarning: Precision is ill-defined and being set to 0.0 due to no predicted samples. Use `zero_division` parameter to control this behavior.\n",
            "  _warn_prf(average, modifier, msg_start, len(result))\n",
            "/usr/local/lib/python3.8/dist-packages/sklearn/metrics/_classification.py:1344: UndefinedMetricWarning: Precision is ill-defined and being set to 0.0 due to no predicted samples. Use `zero_division` parameter to control this behavior.\n",
            "  _warn_prf(average, modifier, msg_start, len(result))\n",
            "/usr/local/lib/python3.8/dist-packages/sklearn/metrics/_classification.py:1344: UndefinedMetricWarning: Precision is ill-defined and being set to 0.0 due to no predicted samples. Use `zero_division` parameter to control this behavior.\n",
            "  _warn_prf(average, modifier, msg_start, len(result))\n"
          ]
        }
      ],
      "source": [
        "probabilities_valid = model_tuned.predict_proba(features_valid)\n",
        "probabilities_one_valid = probabilities_valid[:, 1]\n",
        "for threshold in np.arange(0, 1, 0.02):\n",
        "    predicted_valid = probabilities_one_valid > threshold\n",
        "    f1 = f1_score(target_valid, predicted_valid)\n",
        "    precision = precision_score(target_valid, predicted_valid)\n",
        "    accuracy = accuracy_score(target_valid, predicted_valid)\n",
        "    recall = recall_score(target_valid, predicted_valid)\n",
        "    print(f'Threshold = {threshold} | F1 = {f1:.3f} | Precision = {precision:.2f} | Accuracy = {accuracy:.2f} | Recall = {recall:.2f}')"
      ]
    },
    {
      "cell_type": "markdown",
      "metadata": {
        "id": "0jRZEKLGTRcU"
      },
      "source": [
        "Threshold terbaik yang didapatkan adalah 0.64, dari Threshold tersebut didapatkan nilai F1 naik lagi hingga 0.634!"
      ]
    },
    {
      "cell_type": "code",
      "execution_count": 37,
      "metadata": {
        "id": "IYlLBoEPTRcU"
      },
      "outputs": [],
      "source": [
        "upsampling_threshold = 0.64"
      ]
    },
    {
      "cell_type": "markdown",
      "metadata": {
        "id": "9HbimWAwTRcU"
      },
      "source": [
        "##### Threshold dengan Downsampling"
      ]
    },
    {
      "cell_type": "code",
      "execution_count": 38,
      "metadata": {
        "id": "MlGwOt0VTRcV"
      },
      "outputs": [],
      "source": [
        "model_tuned.fit(features_downsampled, target_downsampled)\n",
        "predicted_valid = model_tuned.predict(features_valid)"
      ]
    },
    {
      "cell_type": "code",
      "execution_count": 39,
      "metadata": {
        "scrolled": false,
        "colab": {
          "base_uri": "https://localhost:8080/"
        },
        "id": "2bKm8HSCTRcV",
        "outputId": "57c7e47d-db84-4de1-c628-0ad0bca3432e"
      },
      "outputs": [
        {
          "output_type": "stream",
          "name": "stdout",
          "text": [
            "Threshold = 0.0 | F1 = 0.331 | Precision = 0.20 | Accuracy = 0.20 | Recall = 1.00\n",
            "Threshold = 0.02 | F1 = 0.331 | Precision = 0.20 | Accuracy = 0.20 | Recall = 1.00\n",
            "Threshold = 0.04 | F1 = 0.331 | Precision = 0.20 | Accuracy = 0.20 | Recall = 1.00\n",
            "Threshold = 0.06 | F1 = 0.331 | Precision = 0.20 | Accuracy = 0.20 | Recall = 1.00\n",
            "Threshold = 0.08 | F1 = 0.331 | Precision = 0.20 | Accuracy = 0.20 | Recall = 1.00\n",
            "Threshold = 0.1 | F1 = 0.331 | Precision = 0.20 | Accuracy = 0.20 | Recall = 1.00\n",
            "Threshold = 0.12 | F1 = 0.337 | Precision = 0.20 | Accuracy = 0.22 | Recall = 1.00\n",
            "Threshold = 0.14 | F1 = 0.344 | Precision = 0.21 | Accuracy = 0.24 | Recall = 1.00\n",
            "Threshold = 0.16 | F1 = 0.356 | Precision = 0.22 | Accuracy = 0.28 | Recall = 1.00\n",
            "Threshold = 0.18 | F1 = 0.368 | Precision = 0.23 | Accuracy = 0.32 | Recall = 1.00\n",
            "Threshold = 0.2 | F1 = 0.381 | Precision = 0.24 | Accuracy = 0.36 | Recall = 1.00\n",
            "Threshold = 0.22 | F1 = 0.392 | Precision = 0.24 | Accuracy = 0.39 | Recall = 1.00\n",
            "Threshold = 0.24 | F1 = 0.401 | Precision = 0.25 | Accuracy = 0.42 | Recall = 0.99\n",
            "Threshold = 0.26 | F1 = 0.414 | Precision = 0.26 | Accuracy = 0.45 | Recall = 0.99\n",
            "Threshold = 0.28 | F1 = 0.426 | Precision = 0.27 | Accuracy = 0.47 | Recall = 0.98\n",
            "Threshold = 0.3 | F1 = 0.439 | Precision = 0.28 | Accuracy = 0.51 | Recall = 0.97\n",
            "Threshold = 0.32 | F1 = 0.452 | Precision = 0.30 | Accuracy = 0.54 | Recall = 0.95\n",
            "Threshold = 0.34 | F1 = 0.470 | Precision = 0.31 | Accuracy = 0.58 | Recall = 0.94\n",
            "Threshold = 0.36 | F1 = 0.493 | Precision = 0.34 | Accuracy = 0.62 | Recall = 0.93\n",
            "Threshold = 0.38 | F1 = 0.506 | Precision = 0.35 | Accuracy = 0.65 | Recall = 0.91\n",
            "Threshold = 0.4 | F1 = 0.525 | Precision = 0.37 | Accuracy = 0.68 | Recall = 0.90\n",
            "Threshold = 0.42 | F1 = 0.548 | Precision = 0.40 | Accuracy = 0.71 | Recall = 0.89\n",
            "Threshold = 0.44 | F1 = 0.569 | Precision = 0.42 | Accuracy = 0.74 | Recall = 0.87\n",
            "Threshold = 0.46 | F1 = 0.580 | Precision = 0.44 | Accuracy = 0.76 | Recall = 0.84\n",
            "Threshold = 0.48 | F1 = 0.593 | Precision = 0.46 | Accuracy = 0.78 | Recall = 0.82\n",
            "Threshold = 0.5 | F1 = 0.599 | Precision = 0.48 | Accuracy = 0.79 | Recall = 0.81\n",
            "Threshold = 0.52 | F1 = 0.610 | Precision = 0.50 | Accuracy = 0.80 | Recall = 0.79\n",
            "Threshold = 0.54 | F1 = 0.623 | Precision = 0.53 | Accuracy = 0.82 | Recall = 0.76\n",
            "Threshold = 0.56 | F1 = 0.648 | Precision = 0.58 | Accuracy = 0.84 | Recall = 0.74\n",
            "Threshold = 0.58 | F1 = 0.655 | Precision = 0.61 | Accuracy = 0.85 | Recall = 0.70\n",
            "Threshold = 0.6 | F1 = 0.645 | Precision = 0.62 | Accuracy = 0.85 | Recall = 0.67\n",
            "Threshold = 0.62 | F1 = 0.639 | Precision = 0.65 | Accuracy = 0.86 | Recall = 0.63\n",
            "Threshold = 0.64 | F1 = 0.637 | Precision = 0.68 | Accuracy = 0.86 | Recall = 0.60\n",
            "Threshold = 0.66 | F1 = 0.631 | Precision = 0.71 | Accuracy = 0.87 | Recall = 0.57\n",
            "Threshold = 0.68 | F1 = 0.625 | Precision = 0.72 | Accuracy = 0.87 | Recall = 0.55\n",
            "Threshold = 0.7000000000000001 | F1 = 0.597 | Precision = 0.72 | Accuracy = 0.86 | Recall = 0.51\n",
            "Threshold = 0.72 | F1 = 0.582 | Precision = 0.76 | Accuracy = 0.87 | Recall = 0.47\n",
            "Threshold = 0.74 | F1 = 0.555 | Precision = 0.80 | Accuracy = 0.87 | Recall = 0.42\n",
            "Threshold = 0.76 | F1 = 0.543 | Precision = 0.86 | Accuracy = 0.87 | Recall = 0.40\n",
            "Threshold = 0.78 | F1 = 0.504 | Precision = 0.85 | Accuracy = 0.86 | Recall = 0.36\n",
            "Threshold = 0.8 | F1 = 0.452 | Precision = 0.89 | Accuracy = 0.85 | Recall = 0.30\n",
            "Threshold = 0.8200000000000001 | F1 = 0.383 | Precision = 0.91 | Accuracy = 0.85 | Recall = 0.24\n",
            "Threshold = 0.84 | F1 = 0.309 | Precision = 0.93 | Accuracy = 0.84 | Recall = 0.19\n",
            "Threshold = 0.86 | F1 = 0.210 | Precision = 0.95 | Accuracy = 0.82 | Recall = 0.12\n",
            "Threshold = 0.88 | F1 = 0.120 | Precision = 1.00 | Accuracy = 0.81 | Recall = 0.06\n",
            "Threshold = 0.9 | F1 = 0.033 | Precision = 1.00 | Accuracy = 0.81 | Recall = 0.02\n",
            "Threshold = 0.92 | F1 = 0.013 | Precision = 1.00 | Accuracy = 0.80 | Recall = 0.01\n",
            "Threshold = 0.9400000000000001 | F1 = 0.000 | Precision = 0.00 | Accuracy = 0.80 | Recall = 0.00\n",
            "Threshold = 0.96 | F1 = 0.000 | Precision = 0.00 | Accuracy = 0.80 | Recall = 0.00\n",
            "Threshold = 0.98 | F1 = 0.000 | Precision = 0.00 | Accuracy = 0.80 | Recall = 0.00\n"
          ]
        },
        {
          "output_type": "stream",
          "name": "stderr",
          "text": [
            "/usr/local/lib/python3.8/dist-packages/sklearn/metrics/_classification.py:1344: UndefinedMetricWarning: Precision is ill-defined and being set to 0.0 due to no predicted samples. Use `zero_division` parameter to control this behavior.\n",
            "  _warn_prf(average, modifier, msg_start, len(result))\n",
            "/usr/local/lib/python3.8/dist-packages/sklearn/metrics/_classification.py:1344: UndefinedMetricWarning: Precision is ill-defined and being set to 0.0 due to no predicted samples. Use `zero_division` parameter to control this behavior.\n",
            "  _warn_prf(average, modifier, msg_start, len(result))\n",
            "/usr/local/lib/python3.8/dist-packages/sklearn/metrics/_classification.py:1344: UndefinedMetricWarning: Precision is ill-defined and being set to 0.0 due to no predicted samples. Use `zero_division` parameter to control this behavior.\n",
            "  _warn_prf(average, modifier, msg_start, len(result))\n"
          ]
        }
      ],
      "source": [
        "probabilities_valid = model_tuned.predict_proba(features_valid)\n",
        "probabilities_one_valid = probabilities_valid[:, 1]\n",
        "for threshold in np.arange(0, 1, 0.02):\n",
        "    predicted_valid = probabilities_one_valid > threshold\n",
        "    f1 = f1_score(target_valid, predicted_valid)\n",
        "    precision = precision_score(target_valid, predicted_valid)\n",
        "    accuracy = accuracy_score(target_valid, predicted_valid)\n",
        "    recall = recall_score(target_valid, predicted_valid)\n",
        "    print(f'Threshold = {threshold} | F1 = {f1:.3f} | Precision = {precision:.2f} | Accuracy = {accuracy:.2f} | Recall = {recall:.2f}')"
      ]
    },
    {
      "cell_type": "markdown",
      "metadata": {
        "id": "SKHCaDqETRcV"
      },
      "source": [
        "Anehnya dengan menggunakan Downsampling dan Threshold, F1 Score bisa didorong hingga 0.655 dengan Threshold 0.58."
      ]
    },
    {
      "cell_type": "code",
      "execution_count": 40,
      "metadata": {
        "id": "1DQvstusTRcV"
      },
      "outputs": [],
      "source": [
        "downsampling_threshold = 0.58"
      ]
    },
    {
      "cell_type": "markdown",
      "metadata": {
        "id": "8e9vS5RrTRcV"
      },
      "source": [
        "#### AUC ROC"
      ]
    },
    {
      "cell_type": "markdown",
      "metadata": {
        "id": "io6mOS89TRcV"
      },
      "source": [
        "Dengan mempertimbangkan balancing data bersama dengan pengaturan threshold, maka bagian ini dan seterusnya akan dibuat menjadi dua bagian, yaitu untuk Downsampling dan Upsampling"
      ]
    },
    {
      "cell_type": "code",
      "execution_count": 41,
      "metadata": {
        "colab": {
          "base_uri": "https://localhost:8080/",
          "height": 75
        },
        "id": "g0B-hYQmTRcV",
        "outputId": "8604e347-fec7-4afd-d3a2-26eb81cc297d"
      },
      "outputs": [
        {
          "output_type": "execute_result",
          "data": {
            "text/plain": [
              "RandomForestClassifier(max_depth=6, n_estimators=125, random_state=12345)"
            ],
            "text/html": [
              "<style>#sk-container-id-1 {color: black;background-color: white;}#sk-container-id-1 pre{padding: 0;}#sk-container-id-1 div.sk-toggleable {background-color: white;}#sk-container-id-1 label.sk-toggleable__label {cursor: pointer;display: block;width: 100%;margin-bottom: 0;padding: 0.3em;box-sizing: border-box;text-align: center;}#sk-container-id-1 label.sk-toggleable__label-arrow:before {content: \"▸\";float: left;margin-right: 0.25em;color: #696969;}#sk-container-id-1 label.sk-toggleable__label-arrow:hover:before {color: black;}#sk-container-id-1 div.sk-estimator:hover label.sk-toggleable__label-arrow:before {color: black;}#sk-container-id-1 div.sk-toggleable__content {max-height: 0;max-width: 0;overflow: hidden;text-align: left;background-color: #f0f8ff;}#sk-container-id-1 div.sk-toggleable__content pre {margin: 0.2em;color: black;border-radius: 0.25em;background-color: #f0f8ff;}#sk-container-id-1 input.sk-toggleable__control:checked~div.sk-toggleable__content {max-height: 200px;max-width: 100%;overflow: auto;}#sk-container-id-1 input.sk-toggleable__control:checked~label.sk-toggleable__label-arrow:before {content: \"▾\";}#sk-container-id-1 div.sk-estimator input.sk-toggleable__control:checked~label.sk-toggleable__label {background-color: #d4ebff;}#sk-container-id-1 div.sk-label input.sk-toggleable__control:checked~label.sk-toggleable__label {background-color: #d4ebff;}#sk-container-id-1 input.sk-hidden--visually {border: 0;clip: rect(1px 1px 1px 1px);clip: rect(1px, 1px, 1px, 1px);height: 1px;margin: -1px;overflow: hidden;padding: 0;position: absolute;width: 1px;}#sk-container-id-1 div.sk-estimator {font-family: monospace;background-color: #f0f8ff;border: 1px dotted black;border-radius: 0.25em;box-sizing: border-box;margin-bottom: 0.5em;}#sk-container-id-1 div.sk-estimator:hover {background-color: #d4ebff;}#sk-container-id-1 div.sk-parallel-item::after {content: \"\";width: 100%;border-bottom: 1px solid gray;flex-grow: 1;}#sk-container-id-1 div.sk-label:hover label.sk-toggleable__label {background-color: #d4ebff;}#sk-container-id-1 div.sk-serial::before {content: \"\";position: absolute;border-left: 1px solid gray;box-sizing: border-box;top: 0;bottom: 0;left: 50%;z-index: 0;}#sk-container-id-1 div.sk-serial {display: flex;flex-direction: column;align-items: center;background-color: white;padding-right: 0.2em;padding-left: 0.2em;position: relative;}#sk-container-id-1 div.sk-item {position: relative;z-index: 1;}#sk-container-id-1 div.sk-parallel {display: flex;align-items: stretch;justify-content: center;background-color: white;position: relative;}#sk-container-id-1 div.sk-item::before, #sk-container-id-1 div.sk-parallel-item::before {content: \"\";position: absolute;border-left: 1px solid gray;box-sizing: border-box;top: 0;bottom: 0;left: 50%;z-index: -1;}#sk-container-id-1 div.sk-parallel-item {display: flex;flex-direction: column;z-index: 1;position: relative;background-color: white;}#sk-container-id-1 div.sk-parallel-item:first-child::after {align-self: flex-end;width: 50%;}#sk-container-id-1 div.sk-parallel-item:last-child::after {align-self: flex-start;width: 50%;}#sk-container-id-1 div.sk-parallel-item:only-child::after {width: 0;}#sk-container-id-1 div.sk-dashed-wrapped {border: 1px dashed gray;margin: 0 0.4em 0.5em 0.4em;box-sizing: border-box;padding-bottom: 0.4em;background-color: white;}#sk-container-id-1 div.sk-label label {font-family: monospace;font-weight: bold;display: inline-block;line-height: 1.2em;}#sk-container-id-1 div.sk-label-container {text-align: center;}#sk-container-id-1 div.sk-container {/* jupyter's `normalize.less` sets `[hidden] { display: none; }` but bootstrap.min.css set `[hidden] { display: none !important; }` so we also need the `!important` here to be able to override the default hidden behavior on the sphinx rendered scikit-learn.org. See: https://github.com/scikit-learn/scikit-learn/issues/21755 */display: inline-block !important;position: relative;}#sk-container-id-1 div.sk-text-repr-fallback {display: none;}</style><div id=\"sk-container-id-1\" class=\"sk-top-container\"><div class=\"sk-text-repr-fallback\"><pre>RandomForestClassifier(max_depth=6, n_estimators=125, random_state=12345)</pre><b>In a Jupyter environment, please rerun this cell to show the HTML representation or trust the notebook. <br />On GitHub, the HTML representation is unable to render, please try loading this page with nbviewer.org.</b></div><div class=\"sk-container\" hidden><div class=\"sk-item\"><div class=\"sk-estimator sk-toggleable\"><input class=\"sk-toggleable__control sk-hidden--visually\" id=\"sk-estimator-id-1\" type=\"checkbox\" checked><label for=\"sk-estimator-id-1\" class=\"sk-toggleable__label sk-toggleable__label-arrow\">RandomForestClassifier</label><div class=\"sk-toggleable__content\"><pre>RandomForestClassifier(max_depth=6, n_estimators=125, random_state=12345)</pre></div></div></div></div></div>"
            ]
          },
          "metadata": {},
          "execution_count": 41
        }
      ],
      "source": [
        "up_model = RandomForestClassifier(max_depth = 6, n_estimators=125, random_state=12345)\n",
        "down_model = RandomForestClassifier(max_depth = 6, n_estimators = 125, random_state=12345)\n",
        "up_model.fit(features_upsampled, target_upsampled)\n",
        "down_model.fit(features_downsampled, target_downsampled)"
      ]
    },
    {
      "cell_type": "markdown",
      "metadata": {
        "id": "HG9kSP8hTRcW"
      },
      "source": [
        "##### AUC ROC Upsampling"
      ]
    },
    {
      "cell_type": "code",
      "execution_count": 42,
      "metadata": {
        "id": "KmIbDiuLTRcW"
      },
      "outputs": [],
      "source": [
        "probabilities_valid = up_model.predict_proba(features_valid)\n",
        "probabilities_one_valid = probabilities_valid[:, 1]"
      ]
    },
    {
      "cell_type": "code",
      "execution_count": 43,
      "metadata": {
        "scrolled": true,
        "colab": {
          "base_uri": "https://localhost:8080/",
          "height": 295
        },
        "id": "nujSZHz0TRcW",
        "outputId": "2d714cc2-069e-4bd5-c922-6b52027f4a3f"
      },
      "outputs": [
        {
          "output_type": "display_data",
          "data": {
            "text/plain": [
              "<Figure size 432x288 with 1 Axes>"
            ],
            "image/png": "[encoded data removed]"
          },
          "metadata": {
            "needs_background": "light"
          }
        }
      ],
      "source": [
        "fpr, tpr, thresholds = roc_curve(target_valid, probabilities_one_valid)\n",
        "\n",
        "plt.figure()\n",
        "plt.plot(fpr, tpr)\n",
        "plt.plot([0, 1], [0, 1], linestyle='--')\n",
        "plt.xlim([0,1])\n",
        "plt.ylim([0,1])\n",
        "plt.xlabel(\"False Positive Rate\")\n",
        "plt.ylabel('True Positive Rate')\n",
        "plt.title('Kurva ROC')\n",
        "plt.show()"
      ]
    },
    {
      "cell_type": "code",
      "execution_count": 44,
      "metadata": {
        "colab": {
          "base_uri": "https://localhost:8080/"
        },
        "id": "3NYE8gCiTRcW",
        "outputId": "528383fa-fa9c-48a6-c6b2-5d6108a7c04f"
      },
      "outputs": [
        {
          "output_type": "execute_result",
          "data": {
            "text/plain": [
              "0.8827118511241537"
            ]
          },
          "metadata": {},
          "execution_count": 44
        }
      ],
      "source": [
        "roc_auc_score(target_valid, probabilities_one_valid)"
      ]
    },
    {
      "cell_type": "markdown",
      "metadata": {
        "id": "vlfbANaSTRcW"
      },
      "source": [
        "Nilai ROC AUC sudah bisa dikatakan bagus karena hampir mendekati 0.9."
      ]
    },
    {
      "cell_type": "markdown",
      "metadata": {
        "id": "nRWXtSgUTRcX"
      },
      "source": [
        "##### AUC ROC Downsampling"
      ]
    },
    {
      "cell_type": "code",
      "execution_count": 45,
      "metadata": {
        "id": "qurjc6JkTRcX"
      },
      "outputs": [],
      "source": [
        "probabilities_valid = down_model.predict_proba(features_valid)\n",
        "probabilities_one_valid = probabilities_valid[:, 1]"
      ]
    },
    {
      "cell_type": "code",
      "execution_count": 46,
      "metadata": {
        "colab": {
          "base_uri": "https://localhost:8080/",
          "height": 295
        },
        "id": "cCNCL5BmTRcX",
        "outputId": "a0e831ec-1064-4bd5-e5c7-81478f755318"
      },
      "outputs": [
        {
          "output_type": "display_data",
          "data": {
            "text/plain": [
              "<Figure size 432x288 with 1 Axes>"
            ],
            "image/png": "[encoded data removed]"
          },
          "metadata": {
            "needs_background": "light"
          }
        }
      ],
      "source": [
        "fpr, tpr, thresholds = roc_curve(target_valid, probabilities_one_valid)\n",
        "\n",
        "plt.figure()\n",
        "plt.plot(fpr, tpr)\n",
        "plt.plot([0, 1], [0, 1], linestyle='--')\n",
        "plt.xlim([0,1])\n",
        "plt.ylim([0,1])\n",
        "plt.xlabel(\"False Positive Rate\")\n",
        "plt.ylabel('True Positive Rate')\n",
        "plt.title('Kurva ROC')\n",
        "plt.show()"
      ]
    },
    {
      "cell_type": "code",
      "execution_count": 47,
      "metadata": {
        "colab": {
          "base_uri": "https://localhost:8080/"
        },
        "id": "GDcWiGsOTRcX",
        "outputId": "6947149c-6bdc-4f34-f7c2-59d37e8e9356"
      },
      "outputs": [
        {
          "output_type": "execute_result",
          "data": {
            "text/plain": [
              "0.8816902748739821"
            ]
          },
          "metadata": {},
          "execution_count": 47
        }
      ],
      "source": [
        "roc_auc_score(target_valid, probabilities_one_valid)"
      ]
    },
    {
      "cell_type": "markdown",
      "metadata": {
        "id": "zb-P2RoeTRcX"
      },
      "source": [
        "Nilai ROC terbaik yang didapatkan dari upsampling, meskipun benar benar hanya sedikit perbedaannya dengan metode downsampling."
      ]
    },
    {
      "cell_type": "markdown",
      "metadata": {
        "id": "kG9qxzaqTRcY"
      },
      "source": [
        "## Baseline Model"
      ]
    },
    {
      "cell_type": "markdown",
      "metadata": {
        "id": "p7SvsMg_TRcY"
      },
      "source": [
        "Setelah menguji model, sekarang saatnya komparasi antara model yang dibuat dengan model yang tidak mencari pola tentang data. Model yang digunakan untuk Baseline adalah DummyClassifier"
      ]
    },
    {
      "cell_type": "code",
      "execution_count": 48,
      "metadata": {
        "colab": {
          "base_uri": "https://localhost:8080/",
          "height": 295
        },
        "id": "GfcFzgtTTRcY",
        "outputId": "fc568eba-e229-4494-d80a-0ca2c20f36f0"
      },
      "outputs": [
        {
          "output_type": "display_data",
          "data": {
            "text/plain": [
              "<Figure size 432x288 with 2 Axes>"
            ],
            "image/png": "[encoded data removed]"
          },
          "metadata": {
            "needs_background": "light"
          }
        }
      ],
      "source": [
        "baseline_dummy = DummyClassifier(random_state=12345)\n",
        "baseline_dummy.fit(features_upsampled, target_upsampled)\n",
        "target_dummy_predict = baseline_dummy.predict(features_valid)\n",
        "cm_dm = confusion_matrix(target_valid, baseline_dummy.predict(features_valid))\n",
        "disp = ConfusionMatrixDisplay(confusion_matrix=cm_dm)\n",
        "disp.plot()\n",
        "plt.title('Dummy')\n",
        "plt.xlabel('Prediksi')\n",
        "plt.ylabel('Aktual')\n",
        "plt.show()"
      ]
    },
    {
      "cell_type": "code",
      "execution_count": 49,
      "metadata": {
        "colab": {
          "base_uri": "https://localhost:8080/"
        },
        "id": "DRQd7siITRcY",
        "outputId": "36b964bb-b5fa-444b-fbf8-a7bc6576b5a2"
      },
      "outputs": [
        {
          "output_type": "stream",
          "name": "stdout",
          "text": [
            "0.330550918196995\n"
          ]
        }
      ],
      "source": [
        "print(f1_score(target_dummy_predict, target_valid))"
      ]
    },
    {
      "cell_type": "markdown",
      "metadata": {
        "id": "OTiyfm7PTRcY"
      },
      "source": [
        "Ternyata F1 Score baseline model hanya 0.33, sepertinya model yang dibuat sudah bisa membantu dalam memprediksi"
      ]
    },
    {
      "cell_type": "markdown",
      "metadata": {
        "id": "NUXbaDDrTRcZ"
      },
      "source": [
        "## Final Model dengan Uji Dataset Tes"
      ]
    },
    {
      "cell_type": "markdown",
      "metadata": {
        "id": "uK-D5K3NTRcZ"
      },
      "source": [
        "Final Model yang akan digunakan untuk kali ini sebenarnya ada dua karena tanpa threshold upsampling yang menang, dan dengan threshold model dengan downsampling yang lebih baik."
      ]
    },
    {
      "cell_type": "code",
      "execution_count": 50,
      "metadata": {
        "id": "LkU2zmu9TRcZ"
      },
      "outputs": [],
      "source": [
        "final_model = RandomForestClassifier(random_state=12345, max_depth =6, n_estimators = 125)"
      ]
    },
    {
      "cell_type": "markdown",
      "metadata": {
        "id": "Ep8hEcJyTRcZ"
      },
      "source": [
        "### Upsampling"
      ]
    },
    {
      "cell_type": "markdown",
      "metadata": {
        "id": "DOSE3ZpnTRcZ"
      },
      "source": [
        "Latih ulang model upsampling dengan hyperparameter Max depth = 6 dan n_estimators = 125"
      ]
    },
    {
      "cell_type": "markdown",
      "metadata": {
        "id": "qJJNisiTTRcZ"
      },
      "source": [
        "#### Dengan Threshold"
      ]
    },
    {
      "cell_type": "code",
      "execution_count": 51,
      "metadata": {
        "id": "gFXDrxjGTRca"
      },
      "outputs": [],
      "source": [
        "final_model.fit(features_upsampled, target_upsampled)\n",
        "probabilities_test = final_model.predict_proba(features_test)\n",
        "probabilities_one_test = probabilities_test[:, 1]\n",
        "predicted_test = probabilities_one_test > upsampling_threshold"
      ]
    },
    {
      "cell_type": "code",
      "execution_count": 52,
      "metadata": {
        "scrolled": true,
        "colab": {
          "base_uri": "https://localhost:8080/"
        },
        "id": "G78m3UY0TRca",
        "outputId": "6445caec-a4f2-4190-cb07-b8304dccdfa8"
      },
      "outputs": [
        {
          "output_type": "execute_result",
          "data": {
            "text/plain": [
              "0.5931758530183726"
            ]
          },
          "metadata": {},
          "execution_count": 52
        }
      ],
      "source": [
        "f1_score(predicted_test, target_test)"
      ]
    },
    {
      "cell_type": "markdown",
      "metadata": {
        "id": "aCacd8T_TRca"
      },
      "source": [
        "0.59 F1 Score didapatkan dengan menggunakan threshold"
      ]
    },
    {
      "cell_type": "markdown",
      "metadata": {
        "id": "9fiMZghgTRca"
      },
      "source": [
        "#### Tanpa Threshold"
      ]
    },
    {
      "cell_type": "code",
      "execution_count": 53,
      "metadata": {
        "colab": {
          "base_uri": "https://localhost:8080/"
        },
        "id": "nkZKIzgxTRca",
        "outputId": "24088df2-60fe-4366-b2e6-af84b87d54e1"
      },
      "outputs": [
        {
          "output_type": "execute_result",
          "data": {
            "text/plain": [
              "0.6187624750499001"
            ]
          },
          "metadata": {},
          "execution_count": 53
        }
      ],
      "source": [
        "predicted_test = final_model.predict(features_test)\n",
        "f1_score(predicted_test, target_test)"
      ]
    },
    {
      "cell_type": "markdown",
      "metadata": {
        "id": "q6tuKNoNTRca"
      },
      "source": [
        "0.61  F1 Score didapatkan tanpa menggunakan threshold"
      ]
    },
    {
      "cell_type": "markdown",
      "metadata": {
        "id": "nmSsmR6hTRca"
      },
      "source": [
        "### Downsampling"
      ]
    },
    {
      "cell_type": "markdown",
      "metadata": {
        "id": "nzUiK11qTRcb"
      },
      "source": [
        "Dengan model yang sama namun dengan data training yang berbeda, dilakukan juga pengetesan terhadap dataset tes."
      ]
    },
    {
      "cell_type": "markdown",
      "metadata": {
        "id": "AsCPKIs1TRcb"
      },
      "source": [
        "#### Dengan Threshold"
      ]
    },
    {
      "cell_type": "code",
      "execution_count": 54,
      "metadata": {
        "id": "SUWkev1MTRcb"
      },
      "outputs": [],
      "source": [
        "final_model.fit(features_downsampled, target_downsampled)\n",
        "probabilities_test = final_model.predict_proba(features_test)\n",
        "probabilities_one_test = probabilities_test[:, 1]\n",
        "predicted_test = probabilities_one_test > downsampling_threshold"
      ]
    },
    {
      "cell_type": "code",
      "execution_count": 55,
      "metadata": {
        "colab": {
          "base_uri": "https://localhost:8080/"
        },
        "id": "p1EKuDL4TRcb",
        "outputId": "1ee0a4e1-50ca-4769-aa77-35e011467560"
      },
      "outputs": [
        {
          "output_type": "execute_result",
          "data": {
            "text/plain": [
              "0.6515837104072397"
            ]
          },
          "metadata": {},
          "execution_count": 55
        }
      ],
      "source": [
        "f1_score(predicted_test, target_test)"
      ]
    },
    {
      "cell_type": "markdown",
      "metadata": {
        "id": "WNzwuQdBTRcb"
      },
      "source": [
        "0.65 F1 score didapatkan dengan menggunakan threshold."
      ]
    },
    {
      "cell_type": "markdown",
      "metadata": {
        "id": "ryDCo0mNTRcb"
      },
      "source": [
        "#### Tanpa Threshold"
      ]
    },
    {
      "cell_type": "code",
      "execution_count": 56,
      "metadata": {
        "colab": {
          "base_uri": "https://localhost:8080/"
        },
        "id": "wyIW5CQFTRcc",
        "outputId": "7d4e4a3b-ff9f-4e5e-b7e1-a0a711c18199"
      },
      "outputs": [
        {
          "output_type": "execute_result",
          "data": {
            "text/plain": [
              "0.5988909426987061"
            ]
          },
          "metadata": {},
          "execution_count": 56
        }
      ],
      "source": [
        "predicted_test = final_model.predict(features_test)\n",
        "f1_score(predicted_test, target_test)"
      ]
    },
    {
      "cell_type": "markdown",
      "metadata": {
        "id": "QbrfA1A5TRcc"
      },
      "source": [
        "0.598 F1 Score didapatkan tanpa menggunakan threshold."
      ]
    },
    {
      "cell_type": "markdown",
      "metadata": {
        "id": "TDuZ7ch3TRcc"
      },
      "source": [
        "## Conclusion"
      ]
    },
    {
      "cell_type": "markdown",
      "metadata": {
        "id": "cGSj_9NcTRcc"
      },
      "source": [
        "Kesimpulan yang didapatkan adalah\n",
        "- Kualitas model bisa ditingkatkan dengan metode balancing, yang saya lakukan disini adalah upsampling dengan downsampling.\n",
        "- Threshold sangat berpengaruh dengan hasil dari prediksi model.\n",
        "- Bisa dilihat bahwa model upsampling tanpa threshold bekerja lebih baik tanpa adanya threshold, namun model downsampling bekerja lebih baik dengan adanya threshold, dan overall model downsampling dengan threshold memiliki F1 Score yang lebih tinggi dibanding model lainnya.\n",
        "- Alasan Balancing data sebelum hyperparameter adalah karena dari sumber yang saya baca, lebih baik bekerja dengan data yang sudah \"balance\" dibandingkan dengan yang belum balance, karena akan berpengaruh terhadap training modelnya.\n",
        "- Alasan penyesuaian threshold dilakukan setelah tuning hyperparameter adalah jika threshold dilakukan sebelum tuning hyperparameter maka kinerja model akan selalu mengikuti threshold yang digunakan sebelum tuning. Sedangkan dalam proyek ini ingin melihat bagaimana pengaruh threshold ataupun balancing data terhadap performa model atau kualitas model.\n"
      ]
    }
  ],
  "metadata": {
    "kernelspec": {
      "display_name": "Python 3 (ipykernel)",
      "language": "python",
      "name": "python3"
    },
    "language_info": {
      "codemirror_mode": {
        "name": "ipython",
        "version": 3
      },
      "file_extension": ".py",
      "mimetype": "text/x-python",
      "name": "python",
      "nbconvert_exporter": "python",
      "pygments_lexer": "ipython3",
      "version": "3.9.5"
    },
    "toc": {
      "base_numbering": 1,
      "nav_menu": {},
      "number_sections": true,
      "sideBar": true,
      "skip_h1_title": true,
      "title_cell": "Table of Contents",
      "title_sidebar": "Contents",
      "toc_cell": true,
      "toc_position": {
        "height": "calc(100% - 180px)",
        "left": "10px",
        "top": "150px",
        "width": "366.188px"
      },
      "toc_section_display": true,
      "toc_window_display": true
    },
    "colab": {
      "provenance": [],
      "include_colab_link": true
    }
  },
  "nbformat": 4,
  "nbformat_minor": 0
}