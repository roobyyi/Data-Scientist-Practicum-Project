{
  "cells": [
    {
      "cell_type": "markdown",
      "metadata": {
        "id": "view-in-github",
        "colab_type": "text"
      },
      "source": [
        "<a href=\"https://colab.research.google.com/github/roobyyi/Data-Scientist-Practicum-Project/blob/main/Project_6.ipynb\" target=\"_parent\"><img src=\"https://colab.research.google.com/assets/colab-badge.svg\" alt=\"Open In Colab\"/></a>"
      ]
    },
    {
      "cell_type": "markdown",
      "metadata": {
        "id": "uN0526N2R4IF"
      },
      "source": [
        "# MEGALINE TELECOMMUNICATION <a id='intro'></a>"
      ]
    },
    {
      "cell_type": "markdown",
      "metadata": {
        "id": "Q8cQVL0YR4IH"
      },
      "source": [
        "Tugas ini merupakan lanjutan tugas dari projek 4, pada projek 4 telah di analisa terkait pelanggan yang menggunakan paket di perusahaan telekomunikasi Megaline.\n",
        "\n",
        "Pada tugas lanjutan ini, yang akan dikerjakan adalah pembuatan model machine learning dengan tujuan untuk merekomendasikan paket baru terhadap pelanggan. Pelanggan nantinya akan dimasukkan kedalam kualifikasi cocok dengan paket smart atau ultra. Dari pembuatan machine learning ini, langkah selanjutnya yang bisa diambil adalah merekomendasikan paket yang cocok dengan pelanggan ketika paket yang digunakan sekarang berbeda dengan paket yang diidentifikasi oleh machine learning.\n",
        "\n",
        "Namun, untuk projek kali ini, yang ditekankan adalah pemodelan machine learning untuk identifikasi paket yang digunakan oleh pelanggan."
      ]
    },
    {
      "cell_type": "markdown",
      "metadata": {
        "toc": true,
        "id": "FIxpHFRmR4IJ"
      },
      "source": [
        "<h1>Daftar Isi<span class=\"tocSkip\"></span></h1>\n",
        "<div class=\"toc\"><ul class=\"toc-item\"><li><span><a href=\"#Import-Library-dan-Pengecekan-Data-\" data-toc-modified-id=\"Import-Library-dan-Pengecekan-Data--1\"><span class=\"toc-item-num\">1&nbsp;&nbsp;</span>Import Library dan Pengecekan Data <a id=\"import\"></a></a></span><ul class=\"toc-item\"><li><span><a href=\"#Import-Library-\" data-toc-modified-id=\"Import-Library--1.1\"><span class=\"toc-item-num\">1.1&nbsp;&nbsp;</span>Import Library <a id=\"library\"></a></a></span></li><li><span><a href=\"#Pengecekan-Data-\" data-toc-modified-id=\"Pengecekan-Data--1.2\"><span class=\"toc-item-num\">1.2&nbsp;&nbsp;</span>Pengecekan Data <a id=\"check_data\"></a></a></span></li></ul></li><li><span><a href=\"#Pemisahan-Data-\" data-toc-modified-id=\"Pemisahan-Data--2\"><span class=\"toc-item-num\">2&nbsp;&nbsp;</span>Pemisahan Data <a id=\"split_data\"></a></a></span></li><li><span><a href=\"#Pemodelan-Machine-Learning-\" data-toc-modified-id=\"Pemodelan-Machine-Learning--3\"><span class=\"toc-item-num\">3&nbsp;&nbsp;</span>Pemodelan Machine Learning <a id=\"model\"></a></a></span><ul class=\"toc-item\"><li><span><a href=\"#Logistic-Regression-\" data-toc-modified-id=\"Logistic-Regression--3.1\"><span class=\"toc-item-num\">3.1&nbsp;&nbsp;</span>Logistic Regression <a id=\"lr\"></a></a></span></li><li><span><a href=\"#Decision-Tree-\" data-toc-modified-id=\"Decision-Tree--3.2\"><span class=\"toc-item-num\">3.2&nbsp;&nbsp;</span>Decision Tree <a id=\"dt\"></a></a></span></li><li><span><a href=\"#Random-Forest-\" data-toc-modified-id=\"Random-Forest--3.3\"><span class=\"toc-item-num\">3.3&nbsp;&nbsp;</span>Random Forest <a id=\"rf\"></a></a></span></li><li><span><a href=\"#Baseline\" data-toc-modified-id=\"Baseline-3.4\"><span class=\"toc-item-num\">3.4&nbsp;&nbsp;</span>Baseline</a></span></li><li><span><a href=\"#Pengujian-Test-Dataset\" data-toc-modified-id=\"Pengujian-Test-Dataset-3.5\"><span class=\"toc-item-num\">3.5&nbsp;&nbsp;</span>Pengujian Test Dataset</a></span></li></ul></li><li><span><a href=\"#Kesimpulan-\" data-toc-modified-id=\"Kesimpulan--4\"><span class=\"toc-item-num\">4&nbsp;&nbsp;</span>Kesimpulan <a id=\"kesimpulan\"></a></a></span></li></ul></div>"
      ]
    },
    {
      "cell_type": "markdown",
      "metadata": {
        "id": "GHJmzlkdR4IK"
      },
      "source": [
        "## Import Library dan Pengecekan Data <a id='import'></a>"
      ]
    },
    {
      "cell_type": "markdown",
      "metadata": {
        "id": "vkriq2QDR4IK"
      },
      "source": [
        "### Import Library <a id='library'></a>"
      ]
    },
    {
      "cell_type": "markdown",
      "metadata": {
        "id": "EhVvQHPQR4IL"
      },
      "source": [
        "Bagian ini adalah bagian import library apa saja yang dibutuhkan"
      ]
    },
    {
      "cell_type": "code",
      "execution_count": 1,
      "metadata": {
        "id": "T3RK9omER4IL"
      },
      "outputs": [],
      "source": [
        "import pandas as pd\n",
        "import matplotlib.pyplot as plt\n",
        "\n",
        "from sklearn.tree import DecisionTreeClassifier\n",
        "from sklearn.ensemble import RandomForestClassifier\n",
        "from sklearn.linear_model import LogisticRegression\n",
        "from sklearn.dummy import DummyClassifier\n",
        "\n",
        "from sklearn.model_selection import train_test_split\n",
        "from sklearn.metrics import accuracy_score, precision_score, recall_score, f1_score\n",
        "from sklearn.metrics import confusion_matrix, ConfusionMatrixDisplay"
      ]
    },
    {
      "cell_type": "code",
      "execution_count": 2,
      "metadata": {
        "id": "FwiNnfPaR4IN"
      },
      "outputs": [],
      "source": [
        "def confusion_score_valid(model):\n",
        "    print(f'Akurasi yang didapatkan adalah {accuracy_score(target_valid, model.predict(features_valid))}')\n",
        "    print(f'Presisi yang didapatkan adalah {precision_score(target_valid, model.predict(features_valid))}')\n",
        "    print(f'Recall yang didapatkan adalah {recall_score(target_valid, model.predict(features_valid))}')\n",
        "    print(f'Nilai F1 yang didapatkan adalah {f1_score(target_valid, model.predict(features_valid))}')"
      ]
    },
    {
      "cell_type": "markdown",
      "metadata": {
        "id": "L2Az5weMR4IO"
      },
      "source": [
        "### Pengecekan Data <a id='check_data'></a>"
      ]
    },
    {
      "cell_type": "markdown",
      "metadata": {
        "id": "DfVKcIcbR4IO"
      },
      "source": [
        "Karena machine learning tidak bisa memproses nilai yang hilang, maka data dicek kembali untuk memastikan tidak ada data yang hilang."
      ]
    },
    {
      "cell_type": "code",
      "execution_count": 3,
      "metadata": {
        "id": "k8P7ktyBR4IO"
      },
      "outputs": [],
      "source": [
        "user_data = pd.read_csv('/content/users_behavior.csv')"
      ]
    },
    {
      "cell_type": "code",
      "execution_count": 4,
      "metadata": {
        "scrolled": true,
        "colab": {
          "base_uri": "https://localhost:8080/",
          "height": 424
        },
        "id": "koawVuj5R4IO",
        "outputId": "70a33f08-69e9-48ef-e8fd-f44516e954e3"
      },
      "outputs": [
        {
          "output_type": "execute_result",
          "data": {
            "text/plain": [
              "      calls  minutes  messages   mb_used  is_ultra\n",
              "0      40.0   311.90      83.0  19915.42         0\n",
              "1      85.0   516.75      56.0  22696.96         0\n",
              "2      77.0   467.66      86.0  21060.45         0\n",
              "3     106.0   745.53      81.0   8437.39         1\n",
              "4      66.0   418.74       1.0  14502.75         0\n",
              "...     ...      ...       ...       ...       ...\n",
              "3209  122.0   910.98      20.0  35124.90         1\n",
              "3210   25.0   190.36       0.0   3275.61         0\n",
              "3211   97.0   634.44      70.0  13974.06         0\n",
              "3212   64.0   462.32      90.0  31239.78         0\n",
              "3213   80.0   566.09       6.0  29480.52         1\n",
              "\n",
              "[3214 rows x 5 columns]"
            ],
            "text/html": [
              "\n",
              "  <div id=\"df-4e895fcd-9888-41f1-bfa6-7a80ceeb6201\">\n",
              "    <div class=\"colab-df-container\">\n",
              "      <div>\n",
              "<style scoped>\n",
              "    .dataframe tbody tr th:only-of-type {\n",
              "        vertical-align: middle;\n",
              "    }\n",
              "\n",
              "    .dataframe tbody tr th {\n",
              "        vertical-align: top;\n",
              "    }\n",
              "\n",
              "    .dataframe thead th {\n",
              "        text-align: right;\n",
              "    }\n",
              "</style>\n",
              "<table border=\"1\" class=\"dataframe\">\n",
              "  <thead>\n",
              "    <tr style=\"text-align: right;\">\n",
              "      <th></th>\n",
              "      <th>calls</th>\n",
              "      <th>minutes</th>\n",
              "      <th>messages</th>\n",
              "      <th>mb_used</th>\n",
              "      <th>is_ultra</th>\n",
              "    </tr>\n",
              "  </thead>\n",
              "  <tbody>\n",
              "    <tr>\n",
              "      <th>0</th>\n",
              "      <td>40.0</td>\n",
              "      <td>311.90</td>\n",
              "      <td>83.0</td>\n",
              "      <td>19915.42</td>\n",
              "      <td>0</td>\n",
              "    </tr>\n",
              "    <tr>\n",
              "      <th>1</th>\n",
              "      <td>85.0</td>\n",
              "      <td>516.75</td>\n",
              "      <td>56.0</td>\n",
              "      <td>22696.96</td>\n",
              "      <td>0</td>\n",
              "    </tr>\n",
              "    <tr>\n",
              "      <th>2</th>\n",
              "      <td>77.0</td>\n",
              "      <td>467.66</td>\n",
              "      <td>86.0</td>\n",
              "      <td>21060.45</td>\n",
              "      <td>0</td>\n",
              "    </tr>\n",
              "    <tr>\n",
              "      <th>3</th>\n",
              "      <td>106.0</td>\n",
              "      <td>745.53</td>\n",
              "      <td>81.0</td>\n",
              "      <td>8437.39</td>\n",
              "      <td>1</td>\n",
              "    </tr>\n",
              "    <tr>\n",
              "      <th>4</th>\n",
              "      <td>66.0</td>\n",
              "      <td>418.74</td>\n",
              "      <td>1.0</td>\n",
              "      <td>14502.75</td>\n",
              "      <td>0</td>\n",
              "    </tr>\n",
              "    <tr>\n",
              "      <th>...</th>\n",
              "      <td>...</td>\n",
              "      <td>...</td>\n",
              "      <td>...</td>\n",
              "      <td>...</td>\n",
              "      <td>...</td>\n",
              "    </tr>\n",
              "    <tr>\n",
              "      <th>3209</th>\n",
              "      <td>122.0</td>\n",
              "      <td>910.98</td>\n",
              "      <td>20.0</td>\n",
              "      <td>35124.90</td>\n",
              "      <td>1</td>\n",
              "    </tr>\n",
              "    <tr>\n",
              "      <th>3210</th>\n",
              "      <td>25.0</td>\n",
              "      <td>190.36</td>\n",
              "      <td>0.0</td>\n",
              "      <td>3275.61</td>\n",
              "      <td>0</td>\n",
              "    </tr>\n",
              "    <tr>\n",
              "      <th>3211</th>\n",
              "      <td>97.0</td>\n",
              "      <td>634.44</td>\n",
              "      <td>70.0</td>\n",
              "      <td>13974.06</td>\n",
              "      <td>0</td>\n",
              "    </tr>\n",
              "    <tr>\n",
              "      <th>3212</th>\n",
              "      <td>64.0</td>\n",
              "      <td>462.32</td>\n",
              "      <td>90.0</td>\n",
              "      <td>31239.78</td>\n",
              "      <td>0</td>\n",
              "    </tr>\n",
              "    <tr>\n",
              "      <th>3213</th>\n",
              "      <td>80.0</td>\n",
              "      <td>566.09</td>\n",
              "      <td>6.0</td>\n",
              "      <td>29480.52</td>\n",
              "      <td>1</td>\n",
              "    </tr>\n",
              "  </tbody>\n",
              "</table>\n",
              "<p>3214 rows × 5 columns</p>\n",
              "</div>\n",
              "      <button class=\"colab-df-convert\" onclick=\"convertToInteractive('df-4e895fcd-9888-41f1-bfa6-7a80ceeb6201')\"\n",
              "              title=\"Convert this dataframe to an interactive table.\"\n",
              "              style=\"display:none;\">\n",
              "        \n",
              "  <svg xmlns=\"http://www.w3.org/2000/svg\" height=\"24px\"viewBox=\"0 0 24 24\"\n",
              "       width=\"24px\">\n",
              "    <path d=\"M0 0h24v24H0V0z\" fill=\"none\"/>\n",
              "    <path d=\"M18.56 5.44l.94 2.06.94-2.06 2.06-.94-2.06-.94-.94-2.06-.94 2.06-2.06.94zm-11 1L8.5 8.5l.94-2.06 2.06-.94-2.06-.94L8.5 2.5l-.94 2.06-2.06.94zm10 10l.94 2.06.94-2.06 2.06-.94-2.06-.94-.94-2.06-.94 2.06-2.06.94z\"/><path d=\"M17.41 7.96l-1.37-1.37c-.4-.4-.92-.59-1.43-.59-.52 0-1.04.2-1.43.59L10.3 9.45l-7.72 7.72c-.78.78-.78 2.05 0 2.83L4 21.41c.39.39.9.59 1.41.59.51 0 1.02-.2 1.41-.59l7.78-7.78 2.81-2.81c.8-.78.8-2.07 0-2.86zM5.41 20L4 18.59l7.72-7.72 1.47 1.35L5.41 20z\"/>\n",
              "  </svg>\n",
              "      </button>\n",
              "      \n",
              "  <style>\n",
              "    .colab-df-container {\n",
              "      display:flex;\n",
              "      flex-wrap:wrap;\n",
              "      gap: 12px;\n",
              "    }\n",
              "\n",
              "    .colab-df-convert {\n",
              "      background-color: #E8F0FE;\n",
              "      border: none;\n",
              "      border-radius: 50%;\n",
              "      cursor: pointer;\n",
              "      display: none;\n",
              "      fill: #1967D2;\n",
              "      height: 32px;\n",
              "      padding: 0 0 0 0;\n",
              "      width: 32px;\n",
              "    }\n",
              "\n",
              "    .colab-df-convert:hover {\n",
              "      background-color: #E2EBFA;\n",
              "      box-shadow: 0px 1px 2px rgba(60, 64, 67, 0.3), 0px 1px 3px 1px rgba(60, 64, 67, 0.15);\n",
              "      fill: #174EA6;\n",
              "    }\n",
              "\n",
              "    [theme=dark] .colab-df-convert {\n",
              "      background-color: #3B4455;\n",
              "      fill: #D2E3FC;\n",
              "    }\n",
              "\n",
              "    [theme=dark] .colab-df-convert:hover {\n",
              "      background-color: #434B5C;\n",
              "      box-shadow: 0px 1px 3px 1px rgba(0, 0, 0, 0.15);\n",
              "      filter: drop-shadow(0px 1px 2px rgba(0, 0, 0, 0.3));\n",
              "      fill: #FFFFFF;\n",
              "    }\n",
              "  </style>\n",
              "\n",
              "      <script>\n",
              "        const buttonEl =\n",
              "          document.querySelector('#df-4e895fcd-9888-41f1-bfa6-7a80ceeb6201 button.colab-df-convert');\n",
              "        buttonEl.style.display =\n",
              "          google.colab.kernel.accessAllowed ? 'block' : 'none';\n",
              "\n",
              "        async function convertToInteractive(key) {\n",
              "          const element = document.querySelector('#df-4e895fcd-9888-41f1-bfa6-7a80ceeb6201');\n",
              "          const dataTable =\n",
              "            await google.colab.kernel.invokeFunction('convertToInteractive',\n",
              "                                                     [key], {});\n",
              "          if (!dataTable) return;\n",
              "\n",
              "          const docLinkHtml = 'Like what you see? Visit the ' +\n",
              "            '<a target=\"_blank\" href=https://colab.research.google.com/notebooks/data_table.ipynb>data table notebook</a>'\n",
              "            + ' to learn more about interactive tables.';\n",
              "          element.innerHTML = '';\n",
              "          dataTable['output_type'] = 'display_data';\n",
              "          await google.colab.output.renderOutput(dataTable, element);\n",
              "          const docLink = document.createElement('div');\n",
              "          docLink.innerHTML = docLinkHtml;\n",
              "          element.appendChild(docLink);\n",
              "        }\n",
              "      </script>\n",
              "    </div>\n",
              "  </div>\n",
              "  "
            ]
          },
          "metadata": {},
          "execution_count": 4
        }
      ],
      "source": [
        "user_data"
      ]
    },
    {
      "cell_type": "code",
      "execution_count": 5,
      "metadata": {
        "colab": {
          "base_uri": "https://localhost:8080/"
        },
        "id": "0qDrVuiBR4IP",
        "outputId": "20c79180-88ce-42bd-e66c-498f9def42b1"
      },
      "outputs": [
        {
          "output_type": "execute_result",
          "data": {
            "text/plain": [
              "calls       0\n",
              "minutes     0\n",
              "messages    0\n",
              "mb_used     0\n",
              "is_ultra    0\n",
              "dtype: int64"
            ]
          },
          "metadata": {},
          "execution_count": 5
        }
      ],
      "source": [
        "user_data.isna().sum()"
      ]
    },
    {
      "cell_type": "markdown",
      "metadata": {
        "id": "axkd1oDiR4IQ"
      },
      "source": [
        "Sip, data sudah bersih"
      ]
    },
    {
      "cell_type": "markdown",
      "metadata": {
        "id": "dFtNXDG-R4IR"
      },
      "source": [
        "## Pemisahan Data <a id='split_data'></a>"
      ]
    },
    {
      "cell_type": "markdown",
      "metadata": {
        "id": "NaYnNJGOR4IR"
      },
      "source": [
        "Setelah data dicek dan tidak ada yang bermasalah, maka selanjutnya adalah pemisahan data. Hal ini dilakukan karena data set yang diberikan hanya 1 dataset. Dari 1 dataset tersebut akan dibagi menjadi 3 bagian, yaitu \n",
        "1. Train dataset yaitu untuk training model. \n",
        "2. Validation dataset yaitu untuk validasi model apakah berjalan dengan lancar, dan disini dilakukan juga yang namanya tuning untuk mendapatkan model yang final \n",
        "3. Test dataset yaitu untuk pengujian model dan mendapatkan keakuratan dari model. "
      ]
    },
    {
      "cell_type": "markdown",
      "metadata": {
        "id": "rth-hCfTR4IR"
      },
      "source": [
        "Rasio pemisahan yang akan dilakukan adalah 75% untuk Train dataset, 15% untuk Validation dataset, dan 10% untuk Test dataset. Untuk melakukan pemisahan ini, digunakan train_test_split dua kali. Pertama dengan size 0.75, dan yang kedua adalah dengan size 0.6."
      ]
    },
    {
      "cell_type": "code",
      "execution_count": 6,
      "metadata": {
        "id": "CXneFMvpR4IS"
      },
      "outputs": [],
      "source": [
        "features = user_data.drop(['is_ultra'], axis=1)\n",
        "target = user_data['is_ultra']"
      ]
    },
    {
      "cell_type": "code",
      "execution_count": 7,
      "metadata": {
        "id": "Ro07NhilR4IS"
      },
      "outputs": [],
      "source": [
        "features_train, features_sisa, target_train, target_sisa = train_test_split(features, target, train_size = 0.75, random_state = 1616)\n",
        "features_valid, features_test, target_valid, target_test = train_test_split(features_sisa, target_sisa, train_size = 0.6, random_state =1111)"
      ]
    },
    {
      "cell_type": "code",
      "execution_count": 8,
      "metadata": {
        "colab": {
          "base_uri": "https://localhost:8080/"
        },
        "id": "FQDnq_T_R4IS",
        "outputId": "92b12129-3cd1-459c-9909-9a85f6c7ede0"
      },
      "outputs": [
        {
          "output_type": "stream",
          "name": "stdout",
          "text": [
            "Size train dataset adalah 75%\n",
            "Size validation dataset adalah 15%\n",
            "Size test dataset adalah 10%\n"
          ]
        }
      ],
      "source": [
        "print(f'Size train dataset adalah {round(len(features_train)/len(features)*100)}%')\n",
        "print(f'Size validation dataset adalah {round(len(features_valid)/len(features)*100)}%')\n",
        "print(f'Size test dataset adalah {round(len(features_test)/len(features)*100)}%')"
      ]
    },
    {
      "cell_type": "markdown",
      "metadata": {
        "id": "dcjdYpCxR4IT"
      },
      "source": [
        "Data sudah dipisah."
      ]
    },
    {
      "cell_type": "markdown",
      "metadata": {
        "id": "1k4dPlDsR4IT"
      },
      "source": [
        "## Pemodelan Machine Learning <a id='model'></a>"
      ]
    },
    {
      "cell_type": "markdown",
      "metadata": {
        "id": "g5X-sSSRR4IV"
      },
      "source": [
        "Pemodelan machine learning untuk menemukan yang akan digunakan ada 3, dari ketiga pemodelan tersebut akan dicari yang paling baik accuracy scorenya dengan tambahan dilakukan tuning untuk Decision Tree dan Random Forest.\n",
        "1. Logistic Regression\n",
        "2. Decision Tree (dengan tuning max_depth)\n",
        "3. Random Forest (dengan tuning max_depth dan n_estimators)\n",
        "\n",
        "Pemodelan yang dicari adalah pemodelan dengan akurasi minimal 75%."
      ]
    },
    {
      "cell_type": "markdown",
      "metadata": {
        "id": "R7OawRz4R4IW"
      },
      "source": [
        "### Logistic Regression <a id='lr'></a>"
      ]
    },
    {
      "cell_type": "markdown",
      "metadata": {
        "id": "Ze2PgywRR4IX"
      },
      "source": [
        "Untuk pemodelan ini hyperparameter yang digunakan hanya random_state, hyperparameter ini digunakan untuk mendapatkan hasil yang konsisten. Meskipun sebenarnya ada hyperparameter yang bisa dituning yaitu solvernya. Namun untuk kali ini tidak digunakan karena pengubahan solver sangat bergantung dengan karakteristik datasetnya. Seperti misalnya untuk dataset yang kecil lebih baik digunakan liblinear, namun untuk dataset yang besar, 'sag' dan 'saga' menjadi pilihan yang lebih baik karena lebih cepat.\n",
        "\n",
        "Ref : https://scikit-learn.org/stable/modules/generated/sklearn.linear_model.LogisticRegression.html"
      ]
    },
    {
      "cell_type": "code",
      "execution_count": 9,
      "metadata": {
        "scrolled": true,
        "colab": {
          "base_uri": "https://localhost:8080/"
        },
        "id": "8_HODXQDR4IY",
        "outputId": "cf1aeb4c-c250-4713-ab77-2c5cf1ad404f"
      },
      "outputs": [
        {
          "output_type": "stream",
          "name": "stdout",
          "text": [
            "Akurasi untuk validation adalah 70.12448132780082 %\n",
            "Akurasi untuk tes adalah 72.98136645962732 %\n"
          ]
        }
      ],
      "source": [
        "model_lr = LogisticRegression(random_state = 1212)\n",
        "model_lr.fit(features_train, target_train)\n",
        "valid_lr = model_lr.predict(features_valid)\n",
        "test_lr = model_lr.predict(features_test)\n",
        "\n",
        "print(f'Akurasi untuk validation adalah {accuracy_score(target_valid, valid_lr)*100} %')\n",
        "print(f'Akurasi untuk tes adalah {accuracy_score(target_test, test_lr)*100} %')\n"
      ]
    },
    {
      "cell_type": "markdown",
      "metadata": {
        "id": "ZLCsGhfgR4IZ"
      },
      "source": [
        "Akurasi yang didapatkan masih dibawah 75% sehingga pemodelan menggunakan Logistic Regression tidak cocok digunakan."
      ]
    },
    {
      "cell_type": "markdown",
      "metadata": {
        "id": "P1Ck_ZkIR4Ia"
      },
      "source": [
        "Sebelum melanjutkan ke pemodelan yang selanjutnya, ditelaah dulu confusion matrixnya."
      ]
    },
    {
      "cell_type": "code",
      "execution_count": 10,
      "metadata": {
        "colab": {
          "base_uri": "https://localhost:8080/",
          "height": 295
        },
        "id": "mG_kmyLcR4Ib",
        "outputId": "4e9ae6a1-ba29-41df-d772-9b013c6fd1b3"
      },
      "outputs": [
        {
          "output_type": "display_data",
          "data": {
            "text/plain": [
              "<Figure size 432x288 with 2 Axes>"
            ],
            "image/png": "[encoded data removed]"
          },
          "metadata": {
            "needs_background": "light"
          }
        }
      ],
      "source": [
        "cm_lr = confusion_matrix(target_test, test_lr)\n",
        "disp = ConfusionMatrixDisplay(confusion_matrix=cm_lr)\n",
        "disp.plot()\n",
        "plt.title('Logistic Regression')\n",
        "plt.xlabel('Prediksi')\n",
        "plt.ylabel('Aktual')\n",
        "plt.show()"
      ]
    },
    {
      "cell_type": "code",
      "execution_count": 11,
      "metadata": {
        "colab": {
          "base_uri": "https://localhost:8080/"
        },
        "id": "ZDQx9eDvR4If",
        "outputId": "9d9077a4-aaf7-4dba-cd9f-1f1c0aa70c2e"
      },
      "outputs": [
        {
          "output_type": "stream",
          "name": "stdout",
          "text": [
            "Akurasi yang didapatkan adalah 0.7012448132780082\n",
            "Presisi yang didapatkan adalah 0.6470588235294118\n",
            "Recall yang didapatkan adalah 0.0738255033557047\n",
            "Nilai F1 yang didapatkan adalah 0.13253012048192772\n"
          ]
        }
      ],
      "source": [
        "confusion_score_valid(model_lr)"
      ]
    },
    {
      "cell_type": "markdown",
      "metadata": {
        "id": "C63UYPNuR4Ig"
      },
      "source": [
        "### Decision Tree <a id='dt'></a>"
      ]
    },
    {
      "cell_type": "markdown",
      "metadata": {
        "id": "w3RtL-TNR4Ig"
      },
      "source": [
        "Untuk pemodelan dengan menggunakan decision tree, hyperparameter yang digunakan selain random_state adalah max_depth. Max depth adalah seberapa dalam \"if-else\" yang digunakan dalam pemodelan. Untuk itu max_depth akan dituning dengan range 1 sampai 5 untuk didapatkan nilai terbaiknya. Karena jika terlalu banyak, bisa terjadi overfitting. Dari referensi yang saya baca, nilai max_depth yang paling ideal adalah 5.\n",
        "\n",
        "Ref : https://towardsdatascience.com/3-techniques-to-avoid-overfitting-of-decision-trees-1e7d3d985a09"
      ]
    },
    {
      "cell_type": "code",
      "execution_count": 12,
      "metadata": {
        "colab": {
          "base_uri": "https://localhost:8080/"
        },
        "id": "tSgHN3u7R4Ih",
        "outputId": "abdb4e25-e2ae-4e59-fc19-d6ab5ae8a5ce"
      },
      "outputs": [
        {
          "output_type": "stream",
          "name": "stdout",
          "text": [
            "Max_depth terbaik adalah 3 dengan akurasi dataset test adalah 79.04564315352697 %.\n"
          ]
        }
      ],
      "source": [
        "best_dt_depth = 0\n",
        "best_dt_accuracy = 0\n",
        "best_dt_model = None\n",
        "for depth in range(1,6):\n",
        "    model_dt = DecisionTreeClassifier(random_state=1212, max_depth=depth)\n",
        "    model_dt.fit(features_train,target_train)\n",
        "    prediction_dt_valid = model_dt.predict(features_valid)\n",
        "    akurasi = accuracy_score(target_valid, prediction_dt_valid)\n",
        "    if akurasi > best_dt_accuracy:\n",
        "        best_dt_depth = depth\n",
        "        best_dt_accuracy = akurasi\n",
        "        best_dt_model = model_dt\n",
        "print(f'Max_depth terbaik adalah {best_dt_depth} dengan akurasi dataset test adalah {accuracy_score(target_valid, best_dt_model.predict(features_valid))*100} %.')        \n",
        "    "
      ]
    },
    {
      "cell_type": "markdown",
      "metadata": {
        "id": "vx4u61e0R4Ih"
      },
      "source": [
        "Akurasi dari model ini sudah diatas 75% sehingga model ini (untuk sekarang) bisa digunakan dengan baik."
      ]
    },
    {
      "cell_type": "code",
      "execution_count": 13,
      "metadata": {
        "scrolled": true,
        "colab": {
          "base_uri": "https://localhost:8080/",
          "height": 295
        },
        "id": "LgutEGHeR4Ii",
        "outputId": "27e4583d-823c-4177-b26a-520fcf9a92d4"
      },
      "outputs": [
        {
          "output_type": "display_data",
          "data": {
            "text/plain": [
              "<Figure size 432x288 with 2 Axes>"
            ],
            "image/png": "[encoded data removed]"
          },
          "metadata": {
            "needs_background": "light"
          }
        }
      ],
      "source": [
        "cm_dt = confusion_matrix(target_valid, best_dt_model.predict(features_valid))\n",
        "disp = ConfusionMatrixDisplay(confusion_matrix=cm_dt)\n",
        "disp.plot()\n",
        "plt.title('Decision Tree')\n",
        "plt.xlabel('Prediksi')\n",
        "plt.ylabel('Aktual')\n",
        "plt.show()"
      ]
    },
    {
      "cell_type": "code",
      "execution_count": 14,
      "metadata": {
        "colab": {
          "base_uri": "https://localhost:8080/"
        },
        "id": "TrFcVN-kR4Ik",
        "outputId": "8e322b2b-f292-4a68-aadd-248a900437a8"
      },
      "outputs": [
        {
          "output_type": "stream",
          "name": "stdout",
          "text": [
            "Akurasi yang didapatkan adalah 0.7904564315352697\n",
            "Presisi yang didapatkan adalah 0.7608695652173914\n",
            "Recall yang didapatkan adalah 0.4697986577181208\n",
            "Nilai F1 yang didapatkan adalah 0.5809128630705395\n"
          ]
        }
      ],
      "source": [
        "confusion_score_valid(best_dt_model)"
      ]
    },
    {
      "cell_type": "markdown",
      "metadata": {
        "id": "fBDKjas_R4Il"
      },
      "source": [
        "### Random Forest <a id='rf'></a>"
      ]
    },
    {
      "cell_type": "markdown",
      "metadata": {
        "id": "oSpvhsHoR4Il"
      },
      "source": [
        "Untuk pemodelan dengan menggunakan Random Forest, hyperparameter yang digunakan selain random_state adalah max_depth dengan n_estimators, sama dengan di decision tree, max_depth pada random forest pun berarti seberapa dalam if-else yang digunakan. Untuk n_estimators sendiri, adalah ... Jika dianalogikan sebagai pohon, pada decision tree, pohon yang digunakan hanya 1 dan max_depth adalah bentuk dari cabang cabangnya. Namun dalam Random Forest, seperti pada namanya yaitu \"Forest\" kumpulan dari pohon pohon, n_estimators adalah jumlah pohon yang digunakan. \n",
        "\n",
        "n_estimator yang digunakan adalah 10 hingga 50 (per sepuluh) dan depth yang digunakan hingga 7.\n",
        "\n",
        "Ref untuk depth: https://towardsdatascience.com/mastering-random-forests-a-comprehensive-guide-51307c129cb1"
      ]
    },
    {
      "cell_type": "code",
      "execution_count": 15,
      "metadata": {
        "scrolled": true,
        "colab": {
          "base_uri": "https://localhost:8080/"
        },
        "id": "00q6keXQR4Im",
        "outputId": "5cee3073-6e0d-4dcb-805f-6db9111f0c70"
      },
      "outputs": [
        {
          "output_type": "stream",
          "name": "stdout",
          "text": [
            "Max depth terbaik adalah 6, dengan n_estimator sebanyak 75, dan akurasi dataset test adalah 81.53526970954357 %.\n"
          ]
        }
      ],
      "source": [
        "best_rf_model = None\n",
        "best_rf_accuracy = 0\n",
        "best_est = 0\n",
        "best_rf_depth = 0\n",
        "for est in range(25, 201, 25):\n",
        "    for depth in range (1, 8):\n",
        "        model_rf = RandomForestClassifier(max_depth = depth, n_estimators=est, random_state=12345)\n",
        "        model_rf.fit(features_train, target_train)\n",
        "        predictions_rf_valid = model_rf.predict(features_valid)\n",
        "        akurasi = accuracy_score(target_valid, predictions_rf_valid)\n",
        "        if akurasi > best_rf_accuracy:\n",
        "            best_rf_model = model_rf\n",
        "            best_rf_accuracy = akurasi\n",
        "            best_est = est\n",
        "            best_rf_depth = depth\n",
        "print(f'Max depth terbaik adalah {best_rf_depth}, dengan n_estimator sebanyak {best_est}, dan akurasi dataset test adalah {accuracy_score(target_valid, best_rf_model.predict(features_valid))*100} %.')            "
      ]
    },
    {
      "cell_type": "markdown",
      "metadata": {
        "id": "ANdWAcc1R4Im"
      },
      "source": [
        "Akurasi dari model ini sudah diatas 75% dan juga melebihi model dari Decision Tree."
      ]
    },
    {
      "cell_type": "code",
      "execution_count": 16,
      "metadata": {
        "scrolled": false,
        "colab": {
          "base_uri": "https://localhost:8080/",
          "height": 295
        },
        "id": "wpy5PBYfR4Im",
        "outputId": "c47eeb76-6f14-40fc-f3a4-60b38693787f"
      },
      "outputs": [
        {
          "output_type": "display_data",
          "data": {
            "text/plain": [
              "<Figure size 432x288 with 2 Axes>"
            ],
            "image/png": "[encoded data removed]"
          },
          "metadata": {
            "needs_background": "light"
          }
        }
      ],
      "source": [
        "cm_rf = confusion_matrix(target_valid, best_rf_model.predict(features_valid))\n",
        "disp = ConfusionMatrixDisplay(confusion_matrix=cm_rf)\n",
        "disp.plot()\n",
        "plt.title('Random Forest')\n",
        "plt.xlabel('Prediksi')\n",
        "plt.ylabel('Aktual')\n",
        "plt.show()"
      ]
    },
    {
      "cell_type": "code",
      "execution_count": 17,
      "metadata": {
        "colab": {
          "base_uri": "https://localhost:8080/"
        },
        "id": "SYEEtEkpR4In",
        "outputId": "0111a905-c964-4186-8d61-b3e18709044c"
      },
      "outputs": [
        {
          "output_type": "stream",
          "name": "stdout",
          "text": [
            "Akurasi yang didapatkan adalah 0.8153526970954357\n",
            "Presisi yang didapatkan adalah 0.8333333333333334\n",
            "Recall yang didapatkan adalah 0.5033557046979866\n",
            "Nilai F1 yang didapatkan adalah 0.6276150627615062\n"
          ]
        }
      ],
      "source": [
        "confusion_score_valid(best_rf_model)"
      ]
    },
    {
      "cell_type": "markdown",
      "metadata": {
        "id": "QWfE8braR4Io"
      },
      "source": [
        "### Baseline"
      ]
    },
    {
      "cell_type": "markdown",
      "metadata": {
        "id": "jIUe5yU3R4Io"
      },
      "source": [
        "Setelah menguji ketiga pemodelan machine learning, didapatkan bahwa akurasi dari Random Forest adalah yang terbaik. Untuk tujuan pengembangan lanjutan, dibutuhkan baseline model untuk mengukur seberapa pengaruh machine learning yang telah dibuat terhadap prediksi yang dibuat. Baseline model yang digunakan adalah DummyClassifier, DummyClassifier merupakan sebuah pemodelan yang benar benar tidak mencari pola tentang dataset, jadi bisa digunakan untuk membandingkan pemodelan yang mencari pola dengan yang tidak mencari pola."
      ]
    },
    {
      "cell_type": "code",
      "execution_count": 18,
      "metadata": {
        "colab": {
          "base_uri": "https://localhost:8080/",
          "height": 295
        },
        "id": "obdnFXqPR4Io",
        "outputId": "ea730816-224d-45bb-fa4b-5347b3c9d679"
      },
      "outputs": [
        {
          "output_type": "display_data",
          "data": {
            "text/plain": [
              "<Figure size 432x288 with 2 Axes>"
            ],
            "image/png": "[encoded data removed]"
          },
          "metadata": {
            "needs_background": "light"
          }
        }
      ],
      "source": [
        "baseline_dummy = DummyClassifier(random_state = 1212)\n",
        "baseline_dummy.fit(features_train, target_train)\n",
        "target_dummy_predict = baseline_dummy.predict(features_valid)\n",
        "cm_dm = confusion_matrix(target_valid, baseline_dummy.predict(features_valid))\n",
        "disp = ConfusionMatrixDisplay(confusion_matrix=cm_dm)\n",
        "disp.plot()\n",
        "plt.title('Dummy')\n",
        "plt.xlabel('Prediksi')\n",
        "plt.ylabel('Aktual')\n",
        "plt.show()"
      ]
    },
    {
      "cell_type": "code",
      "execution_count": 19,
      "metadata": {
        "colab": {
          "base_uri": "https://localhost:8080/"
        },
        "id": "mtNfKxv7R4Ip",
        "outputId": "0961a82e-c19d-4dbb-f3f4-850d1150bbdf"
      },
      "outputs": [
        {
          "output_type": "stream",
          "name": "stdout",
          "text": [
            "Akurasi yang didapatkan adalah 0.6908713692946058\n",
            "Presisi yang didapatkan adalah 0.0\n",
            "Recall yang didapatkan adalah 0.0\n",
            "Nilai F1 yang didapatkan adalah 0.0\n"
          ]
        },
        {
          "output_type": "stream",
          "name": "stderr",
          "text": [
            "/usr/local/lib/python3.8/dist-packages/sklearn/metrics/_classification.py:1344: UndefinedMetricWarning: Precision is ill-defined and being set to 0.0 due to no predicted samples. Use `zero_division` parameter to control this behavior.\n",
            "  _warn_prf(average, modifier, msg_start, len(result))\n"
          ]
        }
      ],
      "source": [
        "confusion_score_valid(baseline_dummy)"
      ]
    },
    {
      "cell_type": "markdown",
      "metadata": {
        "id": "nW5UAhOZR4Iq"
      },
      "source": [
        "Seperti yang terlihat diatas, bahwa baseline model yang dibuat selalu memprediksi 0 untuk semua data tes. Memang untuk akurasi nya bisa mencapai 69% namun untuk metric lainnya bisa mencapai 0!. Jadi untuk melihat kualitas model, jangan hanya melihat dari satu metric saja. Karena bisa saja untuk metric tersebut bagus namun untuk metric lainnya sangat jelek. Seperti pada baseline ini yang tidak bisa memprediksi paket Ultra dan hanya memprediksi paket bukan Ultra."
      ]
    },
    {
      "cell_type": "markdown",
      "metadata": {
        "id": "4dVq39omR4Iq"
      },
      "source": [
        "Jadi memang untuk pemodelan dengan Random Forest menghasilkan nilai yang lebih baik karena bukan hanya bisa memprediksi yang \"bukan\" paket Ultra (Meskipun kalah oleh model baseline yang bisa memprediksi semua paket yang bukan Ultra), namun juga bisa memprediksi yang menggunakan paket Ultra yang mana tidak bisa diprediksi oleh model baseline."
      ]
    },
    {
      "cell_type": "markdown",
      "metadata": {
        "id": "COXMX4mFR4Iq"
      },
      "source": [
        "### Pengujian Test Dataset"
      ]
    },
    {
      "cell_type": "markdown",
      "metadata": {
        "id": "-beIdmDaR4Ir"
      },
      "source": [
        "Setelah pengujian model dan juga dilakukan komparasi terhadap baseline model, Random Forest Classifier dipilih menjadi model yang akan digunakan. Dengan hyperparameter max_depth 6, dan n_estimator 75."
      ]
    },
    {
      "cell_type": "code",
      "execution_count": 20,
      "metadata": {
        "colab": {
          "base_uri": "https://localhost:8080/",
          "height": 75
        },
        "id": "doCz1ntlR4Ir",
        "outputId": "464c74a5-4dab-4f16-d375-08f5bc986ceb"
      },
      "outputs": [
        {
          "output_type": "execute_result",
          "data": {
            "text/plain": [
              "RandomForestClassifier(max_depth=6, n_estimators=75, random_state=12345)"
            ],
            "text/html": [
              "<style>#sk-container-id-1 {color: black;background-color: white;}#sk-container-id-1 pre{padding: 0;}#sk-container-id-1 div.sk-toggleable {background-color: white;}#sk-container-id-1 label.sk-toggleable__label {cursor: pointer;display: block;width: 100%;margin-bottom: 0;padding: 0.3em;box-sizing: border-box;text-align: center;}#sk-container-id-1 label.sk-toggleable__label-arrow:before {content: \"▸\";float: left;margin-right: 0.25em;color: #696969;}#sk-container-id-1 label.sk-toggleable__label-arrow:hover:before {color: black;}#sk-container-id-1 div.sk-estimator:hover label.sk-toggleable__label-arrow:before {color: black;}#sk-container-id-1 div.sk-toggleable__content {max-height: 0;max-width: 0;overflow: hidden;text-align: left;background-color: #f0f8ff;}#sk-container-id-1 div.sk-toggleable__content pre {margin: 0.2em;color: black;border-radius: 0.25em;background-color: #f0f8ff;}#sk-container-id-1 input.sk-toggleable__control:checked~div.sk-toggleable__content {max-height: 200px;max-width: 100%;overflow: auto;}#sk-container-id-1 input.sk-toggleable__control:checked~label.sk-toggleable__label-arrow:before {content: \"▾\";}#sk-container-id-1 div.sk-estimator input.sk-toggleable__control:checked~label.sk-toggleable__label {background-color: #d4ebff;}#sk-container-id-1 div.sk-label input.sk-toggleable__control:checked~label.sk-toggleable__label {background-color: #d4ebff;}#sk-container-id-1 input.sk-hidden--visually {border: 0;clip: rect(1px 1px 1px 1px);clip: rect(1px, 1px, 1px, 1px);height: 1px;margin: -1px;overflow: hidden;padding: 0;position: absolute;width: 1px;}#sk-container-id-1 div.sk-estimator {font-family: monospace;background-color: #f0f8ff;border: 1px dotted black;border-radius: 0.25em;box-sizing: border-box;margin-bottom: 0.5em;}#sk-container-id-1 div.sk-estimator:hover {background-color: #d4ebff;}#sk-container-id-1 div.sk-parallel-item::after {content: \"\";width: 100%;border-bottom: 1px solid gray;flex-grow: 1;}#sk-container-id-1 div.sk-label:hover label.sk-toggleable__label {background-color: #d4ebff;}#sk-container-id-1 div.sk-serial::before {content: \"\";position: absolute;border-left: 1px solid gray;box-sizing: border-box;top: 0;bottom: 0;left: 50%;z-index: 0;}#sk-container-id-1 div.sk-serial {display: flex;flex-direction: column;align-items: center;background-color: white;padding-right: 0.2em;padding-left: 0.2em;position: relative;}#sk-container-id-1 div.sk-item {position: relative;z-index: 1;}#sk-container-id-1 div.sk-parallel {display: flex;align-items: stretch;justify-content: center;background-color: white;position: relative;}#sk-container-id-1 div.sk-item::before, #sk-container-id-1 div.sk-parallel-item::before {content: \"\";position: absolute;border-left: 1px solid gray;box-sizing: border-box;top: 0;bottom: 0;left: 50%;z-index: -1;}#sk-container-id-1 div.sk-parallel-item {display: flex;flex-direction: column;z-index: 1;position: relative;background-color: white;}#sk-container-id-1 div.sk-parallel-item:first-child::after {align-self: flex-end;width: 50%;}#sk-container-id-1 div.sk-parallel-item:last-child::after {align-self: flex-start;width: 50%;}#sk-container-id-1 div.sk-parallel-item:only-child::after {width: 0;}#sk-container-id-1 div.sk-dashed-wrapped {border: 1px dashed gray;margin: 0 0.4em 0.5em 0.4em;box-sizing: border-box;padding-bottom: 0.4em;background-color: white;}#sk-container-id-1 div.sk-label label {font-family: monospace;font-weight: bold;display: inline-block;line-height: 1.2em;}#sk-container-id-1 div.sk-label-container {text-align: center;}#sk-container-id-1 div.sk-container {/* jupyter's `normalize.less` sets `[hidden] { display: none; }` but bootstrap.min.css set `[hidden] { display: none !important; }` so we also need the `!important` here to be able to override the default hidden behavior on the sphinx rendered scikit-learn.org. See: https://github.com/scikit-learn/scikit-learn/issues/21755 */display: inline-block !important;position: relative;}#sk-container-id-1 div.sk-text-repr-fallback {display: none;}</style><div id=\"sk-container-id-1\" class=\"sk-top-container\"><div class=\"sk-text-repr-fallback\"><pre>RandomForestClassifier(max_depth=6, n_estimators=75, random_state=12345)</pre><b>In a Jupyter environment, please rerun this cell to show the HTML representation or trust the notebook. <br />On GitHub, the HTML representation is unable to render, please try loading this page with nbviewer.org.</b></div><div class=\"sk-container\" hidden><div class=\"sk-item\"><div class=\"sk-estimator sk-toggleable\"><input class=\"sk-toggleable__control sk-hidden--visually\" id=\"sk-estimator-id-1\" type=\"checkbox\" checked><label for=\"sk-estimator-id-1\" class=\"sk-toggleable__label sk-toggleable__label-arrow\">RandomForestClassifier</label><div class=\"sk-toggleable__content\"><pre>RandomForestClassifier(max_depth=6, n_estimators=75, random_state=12345)</pre></div></div></div></div></div>"
            ]
          },
          "metadata": {},
          "execution_count": 20
        }
      ],
      "source": [
        "best_rf_model"
      ]
    },
    {
      "cell_type": "markdown",
      "metadata": {
        "id": "Cr8gt2NcR4Is"
      },
      "source": [
        "Model sudah didalam variabel."
      ]
    },
    {
      "cell_type": "code",
      "execution_count": 21,
      "metadata": {
        "id": "Ma4ya3VrR4Is"
      },
      "outputs": [],
      "source": [
        "best_rf_model.fit(features_train, target_train)\n",
        "predictions_rf_test = model_rf.predict(features_test)\n",
        "akurasi = accuracy_score(target_test, predictions_rf_test)\n",
        "presisi = precision_score(target_test, predictions_rf_test)\n",
        "recall = recall_score(target_test, predictions_rf_test)\n",
        "nilai_f1 = f1_score(target_test, predictions_rf_test)"
      ]
    },
    {
      "cell_type": "code",
      "execution_count": 22,
      "metadata": {
        "colab": {
          "base_uri": "https://localhost:8080/"
        },
        "id": "DUYW7hPuR4It",
        "outputId": "d10d45c8-b458-4183-92a6-30498021811f"
      },
      "outputs": [
        {
          "output_type": "stream",
          "name": "stdout",
          "text": [
            "Dari pemodelan yang digunakan, Random Forest yang dipilih menjadi yang terbaik, dengan detail sebagai berikut:\n",
            "Akurasi yang didapatkan adalah 0.8136645962732919\n",
            "Presisi yang didapatkan adalah 0.7692307692307693\n",
            "Recall yang didapatkan adalah 0.45454545454545453\n",
            "Nilai F1 yang didapatkan adalah 0.5714285714285714\n"
          ]
        }
      ],
      "source": [
        "print('Dari pemodelan yang digunakan, Random Forest yang dipilih menjadi yang terbaik, dengan detail sebagai berikut:')\n",
        "print(f'Akurasi yang didapatkan adalah {akurasi}')\n",
        "print(f'Presisi yang didapatkan adalah {presisi}')\n",
        "print(f'Recall yang didapatkan adalah {recall}')\n",
        "print(f'Nilai F1 yang didapatkan adalah {nilai_f1}')"
      ]
    },
    {
      "cell_type": "code",
      "execution_count": 23,
      "metadata": {
        "scrolled": false,
        "colab": {
          "base_uri": "https://localhost:8080/",
          "height": 295
        },
        "id": "0xKUYahUR4It",
        "outputId": "288adf11-4ca8-48b8-f80c-4f8d4fdcee42"
      },
      "outputs": [
        {
          "output_type": "display_data",
          "data": {
            "text/plain": [
              "<Figure size 432x288 with 2 Axes>"
            ],
            "image/png": "[encoded data removed]"
          },
          "metadata": {
            "needs_background": "light"
          }
        }
      ],
      "source": [
        "cm_best_rf = confusion_matrix(target_test, predictions_rf_test)\n",
        "disp = ConfusionMatrixDisplay(confusion_matrix=cm_best_rf)\n",
        "disp.plot()\n",
        "plt.title('Confusion Matrix untuk Random Forest dengan test dataset.')\n",
        "plt.xlabel('Prediksi')\n",
        "plt.ylabel('Aktual')\n",
        "plt.show()"
      ]
    },
    {
      "cell_type": "markdown",
      "metadata": {
        "id": "teHpFhIDR4It"
      },
      "source": [
        "Jika dibandingkan dengan ketika menggunakan dataset validation, nilai yang didapatpun tidak terlalu buruk karena hanya berbeda 2-5% saja dengan skor yang menggunakan dataset test."
      ]
    },
    {
      "cell_type": "markdown",
      "metadata": {
        "id": "JDYoNAZXR4Iu"
      },
      "source": [
        "## Kesimpulan <a id='kesimpulan'></a>"
      ]
    },
    {
      "cell_type": "markdown",
      "metadata": {
        "id": "RVRffKgmR4Iu"
      },
      "source": [
        "Kesimpulan yang bisa didapatkan dari proyek kali ini adalah"
      ]
    },
    {
      "cell_type": "markdown",
      "metadata": {
        "id": "cw8Ogrc9R4Iu"
      },
      "source": [
        "1. Logistic Regression tidak bekerja dengan baik. Akurasi yang didapatkan belum diatas 75%.\n",
        "2. Decision Tree dan Random Forest memiliki Akurasi diatas 75%, dan random forest memiliki akurasi yang terbesar dengan max_depth 6 dengan n_estimator 75.\n",
        "3. Karena sebenarnya machine learning ini akan digunakan untuk merekomendasikan paket, maka nantinya machine learning ini digunakan dibulan ke 2 atau seterusnya. Misalnya, ketika pelanggan menggunakan paket smart di Bulan Januari, dan diprediksi sama menggunakan paket smart, lalu ketika di Bulan Februari pelanggan masih menggunakan paket smart namun diprediksi sudah menggunakan paket ultra (karena features nya sudah masuk klasifikasi paket ultra), pelanggan akan diberi rekomendasi untuk berpindah paket ke paket ultra, begitu pun sebaliknya untuk paket ultra yang direkomendasikan menjadi paket smart.\n",
        "4. Untuk metric lainnya seperti presisi, recall, dan nilai F1, untuk dataset ini memang belum terlalu dibutuhkan. Hal ini karena ketiga metric ini memiliki kegunaan masing masing, seperti presisi yang tinggi digunakan untuk pemodelan yang False Negativenya  berbahaya (Misalnya sakit yang menular, ketika diprediksi negative tapi sebenarnya sakit), recall untuk pemodelan yang False positivenya yang berbahaya (Misalnya ada email yang sebenarnya penting (actual positif bukan spam) namun dianggap spam(predicted negatif), dan bisa saja email itu penting dan pengguna malah tidak membaca email tersebut). Dan untuk F1 score adalah menyeimbangkan antara presisi dan recall, ya untuk data set ini pun Random Forest yang memiliki nilai F1 terbaik. \n",
        "5. Jadi intinya adalah Random Forest Classifier adalah model terbaik yang bisa digunakan untuk kebutuhan seperti ini.\n",
        "6. Untuk Nilai yang didapatkan ketika pengujian data tes, akurasi yang didapat sudah diatas 75% juga lebih tepatnya 81-ish%. Jadi untuk pemodelan Random Forest Classifier yang dibuat, sudah masuk dalam kualifikasi bisa digunakan."
      ]
    }
  ],
  "metadata": {
    "kernelspec": {
      "display_name": "Python 3 (ipykernel)",
      "language": "python",
      "name": "python3"
    },
    "language_info": {
      "codemirror_mode": {
        "name": "ipython",
        "version": 3
      },
      "file_extension": ".py",
      "mimetype": "text/x-python",
      "name": "python",
      "nbconvert_exporter": "python",
      "pygments_lexer": "ipython3",
      "version": "3.9.5"
    },
    "toc": {
      "base_numbering": "1",
      "nav_menu": {},
      "number_sections": true,
      "sideBar": true,
      "skip_h1_title": true,
      "title_cell": "Daftar Isi",
      "title_sidebar": "Contents",
      "toc_cell": true,
      "toc_position": {
        "height": "calc(100% - 180px)",
        "left": "10px",
        "top": "150px",
        "width": "172.188px"
      },
      "toc_section_display": true,
      "toc_window_display": true
    },
    "colab": {
      "provenance": [],
      "include_colab_link": true
    }
  },
  "nbformat": 4,
  "nbformat_minor": 0
}