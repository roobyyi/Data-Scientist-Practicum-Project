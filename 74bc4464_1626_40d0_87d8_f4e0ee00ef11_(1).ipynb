{
  "cells": [
    {
      "cell_type": "markdown",
      "metadata": {
        "id": "view-in-github",
        "colab_type": "text"
      },
      "source": [
        "<a href=\"https://colab.research.google.com/github/roobyyi/Data-Scientist-Practicum-Project/blob/main/74bc4464_1626_40d0_87d8_f4e0ee00ef11_(1).ipynb\" target=\"_parent\"><img src=\"https://colab.research.google.com/assets/colab-badge.svg\" alt=\"Open In Colab\"/></a>"
      ]
    },
    {
      "cell_type": "markdown",
      "metadata": {
        "id": "E0vqbgi9ay0H"
      },
      "source": [
        "# Y.Music"
      ]
    },
    {
      "cell_type": "markdown",
      "metadata": {
        "id": "fhq_eyov_Zcs"
      },
      "source": [
        "# Konten <a id='back'></a>\n",
        "\n",
        "* [Pendahuluan](#intro)\n",
        "* [Tahap 1. Ikhtisar Data](#data_review)\n",
        "    * [Kesimpulan](#data_review_conclusions)\n",
        "* [Tahap 2. Pra-pemrosesan Data](#data_preprocessing)\n",
        "    * [2.1 Gaya penulisan judul](#header_style)\n",
        "    * [2.2 Nilai-nilai yang hilang](#missing_values)\n",
        "    * [2.3 Duplikat](#duplicates)\n",
        "    * [2.4 Kesimpulan](#data_preprocessing_conclusions)\n",
        "* [Tahap 3. Menguji Hipotesis](#hypotheses)\n",
        "    * [3.1 Hipotesis 1: aktivitas pengguna di dua kota](#activity)\n",
        "    * [3.2 Hipotesis 2: preferensi musik pada hari Senin dan Jumat](#week)\n",
        "    * [3.3 Hipotesis 3: preferensi genre di kota Springfield dan Shelbyville](#genre)\n",
        "* [Temuan](#end)"
      ]
    },
    {
      "cell_type": "markdown",
      "metadata": {
        "id": "VUC88oWjTJw2"
      },
      "source": [
        "## Pendahuluan <a id='intro'></a>\n",
        "Setiap kali kita melakukan penelitian, kita perlu merumuskan hipotesis yang kemudian dapat kita uji. Terkadang kita menerima hipotesis ini; tetapi terkadang kita juga menolaknya. Untuk membuat keputusan yang tepat, sebuah bisnis harus dapat memahami apakah asumsi yang dibuatnya benar atau tidak.\n",
        "\n",
        "Dalam proyek kali ini, Anda akan membandingkan preferensi musik kota Springfield dan Shelbyville. Anda akan mempelajari data Y.Music yang sebenarnya untuk menguji hipotesis di bawah ini dan membandingkan perilaku pengguna di kedua kota ini.\n",
        "\n",
        "### Tujuan: \n",
        "Menguji tiga hipotesis:\n",
        "1. Aktivitas pengguna berbeda-beda tergantung pada hari dan kotanya.\n",
        "2. Pada senin pagi, penduduk Springfield dan Shelbyville mendengarkan genre yang berbeda. Hal ini juga ini juga berlaku untuk Jumat malam.\n",
        "3. Pendengar di Springfield dan Shelbyville memiliki preferensi yang berbeda. Di Springfield, mereka lebih suka musik pop, sementara Shelbyville, musik rap memiliki lebih banyak penggemar.\n",
        "\n",
        "### Tahapan\n",
        "Data tentang perilaku pengguna disimpan dalam berkas `/datasets/music_project_en.csv`. Tidak ada informasi tentang kualitas data, jadi Anda perlu memeriksanya lebih dahulu sebelum menguji hipotesis.\n",
        "\n",
        "Pertama, Anda akan mengevaluasi kualitas data dan melihat apakah masalahnya signifikan. Kemudian, selama pra-pemrosesan data, Anda akan mencoba memperhitungkan masalah yang paling serius.\n",
        " \n",
        "Proyek ini akan terdiri dari tiga tahap:\n",
        " 1. Ikhtisar Data\n",
        " 2. Pra-pemrosesan Data\n",
        " 3. Menguji Hipotesis\n",
        "\n",
        " \n",
        "[Kembali ke Daftar Isi](#back)"
      ]
    },
    {
      "cell_type": "markdown",
      "metadata": {
        "id": "Ml1hmfXC_Zcs"
      },
      "source": [
        "## Tahap 1. Ikhtisar Data <a id='data_review'></a>\n",
        "\n",
        "Buka data di Y.Music lalu jelajahi data yang ada di sana."
      ]
    },
    {
      "cell_type": "code",
      "execution_count": 4,
      "metadata": {
        "id": "AXN7PHPN_Zcs"
      },
      "outputs": [],
      "source": [
        "import pandas as pd\n"
      ]
    },
    {
      "cell_type": "markdown",
      "metadata": {
        "id": "SG23P8tt_Zcs"
      },
      "source": [
        "Baca file `music_project_en.csv` dari folder `/datasets/` lalu simpan di variabel `df`:"
      ]
    },
    {
      "cell_type": "code",
      "execution_count": 5,
      "metadata": {
        "id": "fFVu7vqh_Zct"
      },
      "outputs": [],
      "source": [
        "df = pd.read_csv('/content/music_project_en.csv')"
      ]
    },
    {
      "cell_type": "markdown",
      "metadata": {
        "id": "1BuJvb7onYp1"
      },
      "source": [
        "<div class=\"alert alert-success\">\n",
        "<b>Reviewer's comment v1</b> <a class=\"tocSkip\"></a>\n",
        "\n",
        "Hebat! penulisan direktori file dengan tepat terkait folder `/datasets/`.\n",
        "\n",
        "</div>"
      ]
    },
    {
      "cell_type": "markdown",
      "metadata": {
        "id": "rDoOMd3uTqnZ"
      },
      "source": [
        "Tampilkan 10 baris tabel pertama:"
      ]
    },
    {
      "cell_type": "code",
      "execution_count": 6,
      "metadata": {
        "id": "oWTVX3gW_Zct",
        "scrolled": true,
        "colab": {
          "base_uri": "https://localhost:8080/",
          "height": 363
        },
        "outputId": "eea0fcd6-87d7-443a-cf7a-a1027ac13fe4"
      },
      "outputs": [
        {
          "output_type": "execute_result",
          "data": {
            "text/plain": [
              "     userID                        Track            artist   genre  \\\n",
              "0  FFB692EC            Kamigata To Boots  The Mass Missile    rock   \n",
              "1  55204538  Delayed Because of Accident  Andreas Rönnberg    rock   \n",
              "2    20EC38            Funiculì funiculà       Mario Lanza     pop   \n",
              "3  A3DD03C9        Dragons in the Sunset        Fire + Ice    folk   \n",
              "4  E2DC1FAE                  Soul People        Space Echo   dance   \n",
              "5  842029A1                       Chains          Obladaet  rusrap   \n",
              "6  4CB90AA5                         True      Roman Messer   dance   \n",
              "7  F03E1C1F             Feeling This Way   Polina Griffith   dance   \n",
              "8  8FA1D3BE                     L’estate       Julia Dalia  ruspop   \n",
              "9  E772D5C0                    Pessimist               NaN   dance   \n",
              "\n",
              "        City        time        Day  \n",
              "0  Shelbyville  20:28:33  Wednesday  \n",
              "1  Springfield  14:07:09     Friday  \n",
              "2  Shelbyville  20:58:07  Wednesday  \n",
              "3  Shelbyville  08:37:09     Monday  \n",
              "4  Springfield  08:34:34     Monday  \n",
              "5  Shelbyville  13:09:41     Friday  \n",
              "6  Springfield  13:00:07  Wednesday  \n",
              "7  Springfield  20:47:49  Wednesday  \n",
              "8  Springfield  09:17:40     Friday  \n",
              "9  Shelbyville  21:20:49  Wednesday  "
            ],
            "text/html": [
              "\n",
              "  <div id=\"df-47bced8d-1960-4676-94ab-879746aac65e\">\n",
              "    <div class=\"colab-df-container\">\n",
              "      <div>\n",
              "<style scoped>\n",
              "    .dataframe tbody tr th:only-of-type {\n",
              "        vertical-align: middle;\n",
              "    }\n",
              "\n",
              "    .dataframe tbody tr th {\n",
              "        vertical-align: top;\n",
              "    }\n",
              "\n",
              "    .dataframe thead th {\n",
              "        text-align: right;\n",
              "    }\n",
              "</style>\n",
              "<table border=\"1\" class=\"dataframe\">\n",
              "  <thead>\n",
              "    <tr style=\"text-align: right;\">\n",
              "      <th></th>\n",
              "      <th>userID</th>\n",
              "      <th>Track</th>\n",
              "      <th>artist</th>\n",
              "      <th>genre</th>\n",
              "      <th>City</th>\n",
              "      <th>time</th>\n",
              "      <th>Day</th>\n",
              "    </tr>\n",
              "  </thead>\n",
              "  <tbody>\n",
              "    <tr>\n",
              "      <th>0</th>\n",
              "      <td>FFB692EC</td>\n",
              "      <td>Kamigata To Boots</td>\n",
              "      <td>The Mass Missile</td>\n",
              "      <td>rock</td>\n",
              "      <td>Shelbyville</td>\n",
              "      <td>20:28:33</td>\n",
              "      <td>Wednesday</td>\n",
              "    </tr>\n",
              "    <tr>\n",
              "      <th>1</th>\n",
              "      <td>55204538</td>\n",
              "      <td>Delayed Because of Accident</td>\n",
              "      <td>Andreas Rönnberg</td>\n",
              "      <td>rock</td>\n",
              "      <td>Springfield</td>\n",
              "      <td>14:07:09</td>\n",
              "      <td>Friday</td>\n",
              "    </tr>\n",
              "    <tr>\n",
              "      <th>2</th>\n",
              "      <td>20EC38</td>\n",
              "      <td>Funiculì funiculà</td>\n",
              "      <td>Mario Lanza</td>\n",
              "      <td>pop</td>\n",
              "      <td>Shelbyville</td>\n",
              "      <td>20:58:07</td>\n",
              "      <td>Wednesday</td>\n",
              "    </tr>\n",
              "    <tr>\n",
              "      <th>3</th>\n",
              "      <td>A3DD03C9</td>\n",
              "      <td>Dragons in the Sunset</td>\n",
              "      <td>Fire + Ice</td>\n",
              "      <td>folk</td>\n",
              "      <td>Shelbyville</td>\n",
              "      <td>08:37:09</td>\n",
              "      <td>Monday</td>\n",
              "    </tr>\n",
              "    <tr>\n",
              "      <th>4</th>\n",
              "      <td>E2DC1FAE</td>\n",
              "      <td>Soul People</td>\n",
              "      <td>Space Echo</td>\n",
              "      <td>dance</td>\n",
              "      <td>Springfield</td>\n",
              "      <td>08:34:34</td>\n",
              "      <td>Monday</td>\n",
              "    </tr>\n",
              "    <tr>\n",
              "      <th>5</th>\n",
              "      <td>842029A1</td>\n",
              "      <td>Chains</td>\n",
              "      <td>Obladaet</td>\n",
              "      <td>rusrap</td>\n",
              "      <td>Shelbyville</td>\n",
              "      <td>13:09:41</td>\n",
              "      <td>Friday</td>\n",
              "    </tr>\n",
              "    <tr>\n",
              "      <th>6</th>\n",
              "      <td>4CB90AA5</td>\n",
              "      <td>True</td>\n",
              "      <td>Roman Messer</td>\n",
              "      <td>dance</td>\n",
              "      <td>Springfield</td>\n",
              "      <td>13:00:07</td>\n",
              "      <td>Wednesday</td>\n",
              "    </tr>\n",
              "    <tr>\n",
              "      <th>7</th>\n",
              "      <td>F03E1C1F</td>\n",
              "      <td>Feeling This Way</td>\n",
              "      <td>Polina Griffith</td>\n",
              "      <td>dance</td>\n",
              "      <td>Springfield</td>\n",
              "      <td>20:47:49</td>\n",
              "      <td>Wednesday</td>\n",
              "    </tr>\n",
              "    <tr>\n",
              "      <th>8</th>\n",
              "      <td>8FA1D3BE</td>\n",
              "      <td>L’estate</td>\n",
              "      <td>Julia Dalia</td>\n",
              "      <td>ruspop</td>\n",
              "      <td>Springfield</td>\n",
              "      <td>09:17:40</td>\n",
              "      <td>Friday</td>\n",
              "    </tr>\n",
              "    <tr>\n",
              "      <th>9</th>\n",
              "      <td>E772D5C0</td>\n",
              "      <td>Pessimist</td>\n",
              "      <td>NaN</td>\n",
              "      <td>dance</td>\n",
              "      <td>Shelbyville</td>\n",
              "      <td>21:20:49</td>\n",
              "      <td>Wednesday</td>\n",
              "    </tr>\n",
              "  </tbody>\n",
              "</table>\n",
              "</div>\n",
              "      <button class=\"colab-df-convert\" onclick=\"convertToInteractive('df-47bced8d-1960-4676-94ab-879746aac65e')\"\n",
              "              title=\"Convert this dataframe to an interactive table.\"\n",
              "              style=\"display:none;\">\n",
              "        \n",
              "  <svg xmlns=\"http://www.w3.org/2000/svg\" height=\"24px\"viewBox=\"0 0 24 24\"\n",
              "       width=\"24px\">\n",
              "    <path d=\"M0 0h24v24H0V0z\" fill=\"none\"/>\n",
              "    <path d=\"M18.56 5.44l.94 2.06.94-2.06 2.06-.94-2.06-.94-.94-2.06-.94 2.06-2.06.94zm-11 1L8.5 8.5l.94-2.06 2.06-.94-2.06-.94L8.5 2.5l-.94 2.06-2.06.94zm10 10l.94 2.06.94-2.06 2.06-.94-2.06-.94-.94-2.06-.94 2.06-2.06.94z\"/><path d=\"M17.41 7.96l-1.37-1.37c-.4-.4-.92-.59-1.43-.59-.52 0-1.04.2-1.43.59L10.3 9.45l-7.72 7.72c-.78.78-.78 2.05 0 2.83L4 21.41c.39.39.9.59 1.41.59.51 0 1.02-.2 1.41-.59l7.78-7.78 2.81-2.81c.8-.78.8-2.07 0-2.86zM5.41 20L4 18.59l7.72-7.72 1.47 1.35L5.41 20z\"/>\n",
              "  </svg>\n",
              "      </button>\n",
              "      \n",
              "  <style>\n",
              "    .colab-df-container {\n",
              "      display:flex;\n",
              "      flex-wrap:wrap;\n",
              "      gap: 12px;\n",
              "    }\n",
              "\n",
              "    .colab-df-convert {\n",
              "      background-color: #E8F0FE;\n",
              "      border: none;\n",
              "      border-radius: 50%;\n",
              "      cursor: pointer;\n",
              "      display: none;\n",
              "      fill: #1967D2;\n",
              "      height: 32px;\n",
              "      padding: 0 0 0 0;\n",
              "      width: 32px;\n",
              "    }\n",
              "\n",
              "    .colab-df-convert:hover {\n",
              "      background-color: #E2EBFA;\n",
              "      box-shadow: 0px 1px 2px rgba(60, 64, 67, 0.3), 0px 1px 3px 1px rgba(60, 64, 67, 0.15);\n",
              "      fill: #174EA6;\n",
              "    }\n",
              "\n",
              "    [theme=dark] .colab-df-convert {\n",
              "      background-color: #3B4455;\n",
              "      fill: #D2E3FC;\n",
              "    }\n",
              "\n",
              "    [theme=dark] .colab-df-convert:hover {\n",
              "      background-color: #434B5C;\n",
              "      box-shadow: 0px 1px 3px 1px rgba(0, 0, 0, 0.15);\n",
              "      filter: drop-shadow(0px 1px 2px rgba(0, 0, 0, 0.3));\n",
              "      fill: #FFFFFF;\n",
              "    }\n",
              "  </style>\n",
              "\n",
              "      <script>\n",
              "        const buttonEl =\n",
              "          document.querySelector('#df-47bced8d-1960-4676-94ab-879746aac65e button.colab-df-convert');\n",
              "        buttonEl.style.display =\n",
              "          google.colab.kernel.accessAllowed ? 'block' : 'none';\n",
              "\n",
              "        async function convertToInteractive(key) {\n",
              "          const element = document.querySelector('#df-47bced8d-1960-4676-94ab-879746aac65e');\n",
              "          const dataTable =\n",
              "            await google.colab.kernel.invokeFunction('convertToInteractive',\n",
              "                                                     [key], {});\n",
              "          if (!dataTable) return;\n",
              "\n",
              "          const docLinkHtml = 'Like what you see? Visit the ' +\n",
              "            '<a target=\"_blank\" href=https://colab.research.google.com/notebooks/data_table.ipynb>data table notebook</a>'\n",
              "            + ' to learn more about interactive tables.';\n",
              "          element.innerHTML = '';\n",
              "          dataTable['output_type'] = 'display_data';\n",
              "          await google.colab.output.renderOutput(dataTable, element);\n",
              "          const docLink = document.createElement('div');\n",
              "          docLink.innerHTML = docLinkHtml;\n",
              "          element.appendChild(docLink);\n",
              "        }\n",
              "      </script>\n",
              "    </div>\n",
              "  </div>\n",
              "  "
            ]
          },
          "metadata": {},
          "execution_count": 6
        }
      ],
      "source": [
        "df.head(10)"
      ]
    },
    {
      "cell_type": "markdown",
      "metadata": {
        "id": "EO73Kwic_Zct"
      },
      "source": [
        "Memperoleh informasi umum tentang tabel dengan satu perintah:"
      ]
    },
    {
      "cell_type": "code",
      "execution_count": 7,
      "metadata": {
        "id": "DSf2kIb-_Zct",
        "scrolled": true,
        "colab": {
          "base_uri": "https://localhost:8080/",
          "height": 418
        },
        "outputId": "bb5b428c-5f55-4b1e-c0c7-df994bbdb8a5"
      },
      "outputs": [
        {
          "output_type": "stream",
          "name": "stdout",
          "text": [
            "<class 'pandas.core.frame.DataFrame'>\n",
            "RangeIndex: 65079 entries, 0 to 65078\n",
            "Data columns (total 7 columns):\n",
            " #   Column    Non-Null Count  Dtype \n",
            "---  ------    --------------  ----- \n",
            " 0     userID  65079 non-null  object\n",
            " 1   Track     63736 non-null  object\n",
            " 2   artist    57512 non-null  object\n",
            " 3   genre     63881 non-null  object\n",
            " 4     City    65079 non-null  object\n",
            " 5   time      65079 non-null  object\n",
            " 6   Day       65079 non-null  object\n",
            "dtypes: object(7)\n",
            "memory usage: 3.5+ MB\n"
          ]
        },
        {
          "output_type": "execute_result",
          "data": {
            "text/plain": [
              "          userID  Track     artist  genre       City        time     Day\n",
              "count      65079  63736      57512  63881        65079     65079   65079\n",
              "unique     41748  39666      37806    268            2     20392       3\n",
              "top     A8AE9169  Brand  Kartvelli    pop  Springfield  08:14:07  Friday\n",
              "freq          76    136        136   8850        45360        14   23149"
            ],
            "text/html": [
              "\n",
              "  <div id=\"df-ffdd8e4b-aea7-4fe1-9729-65551fb02685\">\n",
              "    <div class=\"colab-df-container\">\n",
              "      <div>\n",
              "<style scoped>\n",
              "    .dataframe tbody tr th:only-of-type {\n",
              "        vertical-align: middle;\n",
              "    }\n",
              "\n",
              "    .dataframe tbody tr th {\n",
              "        vertical-align: top;\n",
              "    }\n",
              "\n",
              "    .dataframe thead th {\n",
              "        text-align: right;\n",
              "    }\n",
              "</style>\n",
              "<table border=\"1\" class=\"dataframe\">\n",
              "  <thead>\n",
              "    <tr style=\"text-align: right;\">\n",
              "      <th></th>\n",
              "      <th>userID</th>\n",
              "      <th>Track</th>\n",
              "      <th>artist</th>\n",
              "      <th>genre</th>\n",
              "      <th>City</th>\n",
              "      <th>time</th>\n",
              "      <th>Day</th>\n",
              "    </tr>\n",
              "  </thead>\n",
              "  <tbody>\n",
              "    <tr>\n",
              "      <th>count</th>\n",
              "      <td>65079</td>\n",
              "      <td>63736</td>\n",
              "      <td>57512</td>\n",
              "      <td>63881</td>\n",
              "      <td>65079</td>\n",
              "      <td>65079</td>\n",
              "      <td>65079</td>\n",
              "    </tr>\n",
              "    <tr>\n",
              "      <th>unique</th>\n",
              "      <td>41748</td>\n",
              "      <td>39666</td>\n",
              "      <td>37806</td>\n",
              "      <td>268</td>\n",
              "      <td>2</td>\n",
              "      <td>20392</td>\n",
              "      <td>3</td>\n",
              "    </tr>\n",
              "    <tr>\n",
              "      <th>top</th>\n",
              "      <td>A8AE9169</td>\n",
              "      <td>Brand</td>\n",
              "      <td>Kartvelli</td>\n",
              "      <td>pop</td>\n",
              "      <td>Springfield</td>\n",
              "      <td>08:14:07</td>\n",
              "      <td>Friday</td>\n",
              "    </tr>\n",
              "    <tr>\n",
              "      <th>freq</th>\n",
              "      <td>76</td>\n",
              "      <td>136</td>\n",
              "      <td>136</td>\n",
              "      <td>8850</td>\n",
              "      <td>45360</td>\n",
              "      <td>14</td>\n",
              "      <td>23149</td>\n",
              "    </tr>\n",
              "  </tbody>\n",
              "</table>\n",
              "</div>\n",
              "      <button class=\"colab-df-convert\" onclick=\"convertToInteractive('df-ffdd8e4b-aea7-4fe1-9729-65551fb02685')\"\n",
              "              title=\"Convert this dataframe to an interactive table.\"\n",
              "              style=\"display:none;\">\n",
              "        \n",
              "  <svg xmlns=\"http://www.w3.org/2000/svg\" height=\"24px\"viewBox=\"0 0 24 24\"\n",
              "       width=\"24px\">\n",
              "    <path d=\"M0 0h24v24H0V0z\" fill=\"none\"/>\n",
              "    <path d=\"M18.56 5.44l.94 2.06.94-2.06 2.06-.94-2.06-.94-.94-2.06-.94 2.06-2.06.94zm-11 1L8.5 8.5l.94-2.06 2.06-.94-2.06-.94L8.5 2.5l-.94 2.06-2.06.94zm10 10l.94 2.06.94-2.06 2.06-.94-2.06-.94-.94-2.06-.94 2.06-2.06.94z\"/><path d=\"M17.41 7.96l-1.37-1.37c-.4-.4-.92-.59-1.43-.59-.52 0-1.04.2-1.43.59L10.3 9.45l-7.72 7.72c-.78.78-.78 2.05 0 2.83L4 21.41c.39.39.9.59 1.41.59.51 0 1.02-.2 1.41-.59l7.78-7.78 2.81-2.81c.8-.78.8-2.07 0-2.86zM5.41 20L4 18.59l7.72-7.72 1.47 1.35L5.41 20z\"/>\n",
              "  </svg>\n",
              "      </button>\n",
              "      \n",
              "  <style>\n",
              "    .colab-df-container {\n",
              "      display:flex;\n",
              "      flex-wrap:wrap;\n",
              "      gap: 12px;\n",
              "    }\n",
              "\n",
              "    .colab-df-convert {\n",
              "      background-color: #E8F0FE;\n",
              "      border: none;\n",
              "      border-radius: 50%;\n",
              "      cursor: pointer;\n",
              "      display: none;\n",
              "      fill: #1967D2;\n",
              "      height: 32px;\n",
              "      padding: 0 0 0 0;\n",
              "      width: 32px;\n",
              "    }\n",
              "\n",
              "    .colab-df-convert:hover {\n",
              "      background-color: #E2EBFA;\n",
              "      box-shadow: 0px 1px 2px rgba(60, 64, 67, 0.3), 0px 1px 3px 1px rgba(60, 64, 67, 0.15);\n",
              "      fill: #174EA6;\n",
              "    }\n",
              "\n",
              "    [theme=dark] .colab-df-convert {\n",
              "      background-color: #3B4455;\n",
              "      fill: #D2E3FC;\n",
              "    }\n",
              "\n",
              "    [theme=dark] .colab-df-convert:hover {\n",
              "      background-color: #434B5C;\n",
              "      box-shadow: 0px 1px 3px 1px rgba(0, 0, 0, 0.15);\n",
              "      filter: drop-shadow(0px 1px 2px rgba(0, 0, 0, 0.3));\n",
              "      fill: #FFFFFF;\n",
              "    }\n",
              "  </style>\n",
              "\n",
              "      <script>\n",
              "        const buttonEl =\n",
              "          document.querySelector('#df-ffdd8e4b-aea7-4fe1-9729-65551fb02685 button.colab-df-convert');\n",
              "        buttonEl.style.display =\n",
              "          google.colab.kernel.accessAllowed ? 'block' : 'none';\n",
              "\n",
              "        async function convertToInteractive(key) {\n",
              "          const element = document.querySelector('#df-ffdd8e4b-aea7-4fe1-9729-65551fb02685');\n",
              "          const dataTable =\n",
              "            await google.colab.kernel.invokeFunction('convertToInteractive',\n",
              "                                                     [key], {});\n",
              "          if (!dataTable) return;\n",
              "\n",
              "          const docLinkHtml = 'Like what you see? Visit the ' +\n",
              "            '<a target=\"_blank\" href=https://colab.research.google.com/notebooks/data_table.ipynb>data table notebook</a>'\n",
              "            + ' to learn more about interactive tables.';\n",
              "          element.innerHTML = '';\n",
              "          dataTable['output_type'] = 'display_data';\n",
              "          await google.colab.output.renderOutput(dataTable, element);\n",
              "          const docLink = document.createElement('div');\n",
              "          docLink.innerHTML = docLinkHtml;\n",
              "          element.appendChild(docLink);\n",
              "        }\n",
              "      </script>\n",
              "    </div>\n",
              "  </div>\n",
              "  "
            ]
          },
          "metadata": {},
          "execution_count": 7
        }
      ],
      "source": [
        "df.info()\n",
        "df.describe()"
      ]
    },
    {
      "cell_type": "markdown",
      "metadata": {
        "id": "TaQ2Iwbr_Zct"
      },
      "source": [
        "Tabel ini berisi tujuh kolom. Semuanya menyimpan tipe data yang sama, yaitu: `objek`.\n",
        "\n",
        "Berdasarkan dokumentasi:\n",
        "- `'userID'` — pengenal pengguna\n",
        "- `'Track'` — judul trek\n",
        "- `'artist'` — nama artis\n",
        "- `'genre'`\n",
        "- `'City'` — kota tempat pengguna berada\n",
        "- `'time'` — lama waktu lagu tersebut dimainkan\n",
        "- `'Day'` — nama hari\n",
        "\n",
        "Kita dapat melihat tiga masalah dengan gaya penulisan nama kolom:\n",
        "1. Beberapa nama huruf besar, beberapa huruf kecil.\n",
        "2. Ada penggunaan spasi pada beberapa nama.\n",
        "3. Kolom `'time'` memiliki arti yang sedikit ambigu, bisa diartikan sebagai kapan lagu itu dimainkan atau durasi lagu. Kalau yang dimaksud durasi lagu, lebih baik diganti menjadi `'duration'` \n",
        "\n",
        "Jumlah nilai kolom berbeda. Ini berarti data mengandung nilai yang hilang.\n"
      ]
    },
    {
      "cell_type": "markdown",
      "metadata": {
        "id": "MCB6-dXG_Zct"
      },
      "source": [
        "### Kesimpulan <a id='data_review_conclusions'></a> \n",
        "\n",
        "Setiap baris dalam tabel menyimpan data pada lagu yang dimainkan. Beberapa kolom menggambarkan lagu itu sendiri: judul, artis, dan genre. Sisanya menyampaikan informasi tentang pengguna: kota asal mereka, waktu mereka memutar lagu.\n",
        "\n",
        "Jelas bahwa data tersebut cukup untuk menguji hipotesis. Namun, ada nilai-nilai yang hilang.\n",
        "\n",
        "Selanjutnya, kita perlu melakukan pra-pemrosesan data terlebih dahulu."
      ]
    },
    {
      "cell_type": "markdown",
      "metadata": {
        "id": "SjYF6Ub9_Zct"
      },
      "source": [
        "## Tahap 2. Pra-pemrosesan Data <a id='data_preprocessing'></a>\n",
        "Sebelum melangkah lebih lanjut ke pemrosesan data, langkah yang akan dilakukan sekarang adalah adjustment terhadap data sehingga dalam proses data bisa lebih konsisten dalam penulisannya."
      ]
    },
    {
      "cell_type": "markdown",
      "metadata": {
        "id": "dIaKXr29_Zct"
      },
      "source": [
        "### Gaya Penulisan Judul <a id='header_style'></a>\n",
        "\n"
      ]
    },
    {
      "cell_type": "code",
      "execution_count": 8,
      "metadata": {
        "id": "oKOTdF_Q_Zct",
        "scrolled": true,
        "colab": {
          "base_uri": "https://localhost:8080/"
        },
        "outputId": "3855b8f4-3cea-4cff-cd93-a43ad13d7d16"
      },
      "outputs": [
        {
          "output_type": "execute_result",
          "data": {
            "text/plain": [
              "Index(['  userID', 'Track', 'artist', 'genre', '  City  ', 'time', 'Day'], dtype='object')"
            ]
          },
          "metadata": {},
          "execution_count": 8
        }
      ],
      "source": [
        "df.columns"
      ]
    },
    {
      "cell_type": "markdown",
      "metadata": {
        "id": "zj5534cv_Zct"
      },
      "source": [
        "Ubah nama kolom sesuai dengan aturan gaya penulisan yang baik:\n",
        "* Jika nama memiliki beberapa kata, gunakan snake_case\n",
        "* Semua karakter harus menggunakan huruf kecil\n",
        "* Hapus spasi"
      ]
    },
    {
      "cell_type": "code",
      "execution_count": 9,
      "metadata": {
        "id": "ISlFqs5y_Zct"
      },
      "outputs": [],
      "source": [
        "df = df.rename(\n",
        "    columns={\n",
        "        '  userID':'user_id',\n",
        "        'Track':'track',\n",
        "        '  City  ':'city',\n",
        "        'Day':'day',\n",
        "    }\n",
        ")"
      ]
    },
    {
      "cell_type": "markdown",
      "metadata": {
        "id": "1dqbh00J_Zct"
      },
      "source": [
        "Periksa hasilnya. Tampilkan nama kolom sekali lagi:"
      ]
    },
    {
      "cell_type": "code",
      "execution_count": 10,
      "metadata": {
        "id": "d4NOAmTW_Zct",
        "colab": {
          "base_uri": "https://localhost:8080/"
        },
        "outputId": "7acf5a5f-6e63-48c4-b12b-54ae65a8744e"
      },
      "outputs": [
        {
          "output_type": "execute_result",
          "data": {
            "text/plain": [
              "Index(['user_id', 'track', 'artist', 'genre', 'city', 'time', 'day'], dtype='object')"
            ]
          },
          "metadata": {},
          "execution_count": 10
        }
      ],
      "source": [
        "df.columns"
      ]
    },
    {
      "cell_type": "markdown",
      "metadata": {
        "id": "5ISfbcfY_Zct"
      },
      "source": [
        "### Nilai-Nilai yang Hilang <a id='missing_values'></a>\n",
        "Pertama, temukan jumlah nilai yang hilang dalam tabel. Untuk melakukannya, gunakan dua metode `Pandas`:"
      ]
    },
    {
      "cell_type": "code",
      "execution_count": 11,
      "metadata": {
        "id": "RskX29qr_Zct",
        "scrolled": true,
        "colab": {
          "base_uri": "https://localhost:8080/"
        },
        "outputId": "47b24c52-329a-4d51-efb5-5ff29d6effdb"
      },
      "outputs": [
        {
          "output_type": "execute_result",
          "data": {
            "text/plain": [
              "user_id       0\n",
              "track      1343\n",
              "artist     7567\n",
              "genre      1198\n",
              "city          0\n",
              "time          0\n",
              "day           0\n",
              "dtype: int64"
            ]
          },
          "metadata": {},
          "execution_count": 11
        }
      ],
      "source": [
        "df.isna().sum()"
      ]
    },
    {
      "cell_type": "markdown",
      "metadata": {
        "id": "qubhgnlO_Zct"
      },
      "source": [
        "Tidak semua nilai yang hilang berpengaruh terhadap penelitian. Misalnya, nilai yang hilang dalam `track` dan `artist` tidak begitu penting. Anda cukup menggantinya dengan tanda yang jelas.\n",
        "\n",
        "Namun nilai yang hilang dalam `'genre'` dapat memengaruhi perbandingan preferensi musik di Springfield dan Shelbyville. Dalam kehidupan nyata, ini akan berguna untuk mempelajari alasan mengapa data tersebut hilang dan mencoba memperbaikinya. Tetapi kita tidak memiliki kesempatan itu dalam proyek ini. Jadi Anda harus:\n",
        "* Isi nilai yang hilang ini dengan sebuah tanda\n",
        "* Evaluasi seberapa besar nilai yang hilang dapat memengaruhi perhitungan Anda"
      ]
    },
    {
      "cell_type": "markdown",
      "metadata": {
        "id": "fSv2laPA_Zct"
      },
      "source": [
        "Ganti nilai yang hilang pada `'track'`, `'artist'`, dan `'genre'` dengan string `'unknown'`. Untuk melakukannya, buat list `columns_to_replace`, lakukan *loop* dengan `for`, dan ganti nilai yang hilang di setiap kolom:"
      ]
    },
    {
      "cell_type": "code",
      "execution_count": 12,
      "metadata": {
        "id": "KplB5qWs_Zct"
      },
      "outputs": [],
      "source": [
        "columns_to_replace = ['track','artist','genre']\n",
        "for i in columns_to_replace:\n",
        "    df[i] = df[i].fillna('unknown')"
      ]
    },
    {
      "cell_type": "markdown",
      "metadata": {
        "id": "Ilsm-MZo_Zct"
      },
      "source": [
        "Pastikan tidak ada tabel lagi yang berisi nilai yang hilang. Hitung kembali nilai yang hilang."
      ]
    },
    {
      "cell_type": "code",
      "execution_count": 13,
      "metadata": {
        "id": "Tq4nYRX4_Zct",
        "scrolled": true,
        "colab": {
          "base_uri": "https://localhost:8080/"
        },
        "outputId": "aa18cfac-3873-48c0-b638-4e8821feb636"
      },
      "outputs": [
        {
          "output_type": "execute_result",
          "data": {
            "text/plain": [
              "user_id    0\n",
              "track      0\n",
              "artist     0\n",
              "genre      0\n",
              "city       0\n",
              "time       0\n",
              "day        0\n",
              "dtype: int64"
            ]
          },
          "metadata": {},
          "execution_count": 13
        }
      ],
      "source": [
        "df.isna().sum()"
      ]
    },
    {
      "cell_type": "markdown",
      "metadata": {
        "id": "74ZIBmq9VrsK"
      },
      "source": [
        "[Kembali ke Daftar Isi](#back)"
      ]
    },
    {
      "cell_type": "markdown",
      "metadata": {
        "id": "BWKRtBJ3_Zct"
      },
      "source": [
        "### Duplikat <a id='duplicates'></a>\n",
        "Temukan jumlah duplikat yang jelas dalam tabel"
      ]
    },
    {
      "cell_type": "code",
      "execution_count": 14,
      "metadata": {
        "id": "36eES_S0_Zct",
        "colab": {
          "base_uri": "https://localhost:8080/"
        },
        "outputId": "53928955-747c-47be-dac6-ef342e34c8cb"
      },
      "outputs": [
        {
          "output_type": "execute_result",
          "data": {
            "text/plain": [
              "3826"
            ]
          },
          "metadata": {},
          "execution_count": 14
        }
      ],
      "source": [
        "df.duplicated().sum()"
      ]
    },
    {
      "cell_type": "markdown",
      "metadata": {
        "id": "Ot25h6XR_Zct"
      },
      "source": [
        "Panggil metode `Pandas` untuk menghapus duplikat yang jelas:"
      ]
    },
    {
      "cell_type": "code",
      "execution_count": 15,
      "metadata": {
        "id": "exFHq6tt_Zct"
      },
      "outputs": [],
      "source": [
        "df = df.drop_duplicates().reset_index(drop=True)"
      ]
    },
    {
      "cell_type": "markdown",
      "metadata": {
        "id": "Im2YwBEG_Zct"
      },
      "source": [
        "Hitung duplikat yang jelas sekali lagi untuk memastikan Anda telah menghapus semuanya:"
      ]
    },
    {
      "cell_type": "code",
      "execution_count": 16,
      "metadata": {
        "id": "-8PuNWQ0_Zct",
        "colab": {
          "base_uri": "https://localhost:8080/"
        },
        "outputId": "2e474492-893b-4b78-d4c1-1f115011bc67"
      },
      "outputs": [
        {
          "output_type": "execute_result",
          "data": {
            "text/plain": [
              "0"
            ]
          },
          "metadata": {},
          "execution_count": 16
        }
      ],
      "source": [
        "df.duplicated().sum()"
      ]
    },
    {
      "cell_type": "markdown",
      "metadata": {
        "id": "QlFBsxAr_Zct"
      },
      "source": [
        "Sekarang hapus duplikat implisit di kolom `genre`. Misalnya, nama genre dapat ditulis dengan cara yang berbeda. Kesalahan seperti ini juga akan memengaruhi hasil."
      ]
    },
    {
      "cell_type": "markdown",
      "metadata": {
        "id": "eSjWwsOh_Zct"
      },
      "source": [
        "Tampilkan daftar nama genre yang unik, urutkan berdasarkan abjad. Untuk melakukannya:\n",
        "* Ambil kolom DataFrame yang dimaksud\n",
        "* Terapkan metode pengurutan untuk itu\n",
        "* Untuk kolom yang diurutkan, panggil metode yang akan menghasilkan semua nilai kolom yang unik"
      ]
    },
    {
      "cell_type": "code",
      "execution_count": 17,
      "metadata": {
        "id": "JIUcqzZN_Zct",
        "scrolled": true,
        "colab": {
          "base_uri": "https://localhost:8080/"
        },
        "outputId": "e9c26c62-bd22-4f37-f303-b977d9e565b3"
      },
      "outputs": [
        {
          "output_type": "execute_result",
          "data": {
            "text/plain": [
              "['acid',\n",
              " 'acoustic',\n",
              " 'action',\n",
              " 'adult',\n",
              " 'africa',\n",
              " 'afrikaans',\n",
              " 'alternative',\n",
              " 'ambient',\n",
              " 'americana',\n",
              " 'animated',\n",
              " 'anime',\n",
              " 'arabesk',\n",
              " 'arabic',\n",
              " 'arena',\n",
              " 'argentinetango',\n",
              " 'art',\n",
              " 'audiobook',\n",
              " 'avantgarde',\n",
              " 'axé',\n",
              " 'baile',\n",
              " 'balkan',\n",
              " 'beats',\n",
              " 'bigroom',\n",
              " 'black',\n",
              " 'bluegrass',\n",
              " 'blues',\n",
              " 'bollywood',\n",
              " 'bossa',\n",
              " 'brazilian',\n",
              " 'breakbeat',\n",
              " 'breaks',\n",
              " 'broadway',\n",
              " 'cantautori',\n",
              " 'cantopop',\n",
              " 'canzone',\n",
              " 'caribbean',\n",
              " 'caucasian',\n",
              " 'celtic',\n",
              " 'chamber',\n",
              " 'children',\n",
              " 'chill',\n",
              " 'chinese',\n",
              " 'choral',\n",
              " 'christian',\n",
              " 'christmas',\n",
              " 'classical',\n",
              " 'classicmetal',\n",
              " 'club',\n",
              " 'colombian',\n",
              " 'comedy',\n",
              " 'conjazz',\n",
              " 'contemporary',\n",
              " 'country',\n",
              " 'cuban',\n",
              " 'dance',\n",
              " 'dancehall',\n",
              " 'dancepop',\n",
              " 'dark',\n",
              " 'death',\n",
              " 'deep',\n",
              " 'deutschrock',\n",
              " 'deutschspr',\n",
              " 'dirty',\n",
              " 'disco',\n",
              " 'dnb',\n",
              " 'documentary',\n",
              " 'downbeat',\n",
              " 'downtempo',\n",
              " 'drum',\n",
              " 'dub',\n",
              " 'dubstep',\n",
              " 'eastern',\n",
              " 'easy',\n",
              " 'electronic',\n",
              " 'electropop',\n",
              " 'emo',\n",
              " 'entehno',\n",
              " 'epicmetal',\n",
              " 'estrada',\n",
              " 'ethnic',\n",
              " 'eurofolk',\n",
              " 'european',\n",
              " 'experimental',\n",
              " 'extrememetal',\n",
              " 'fado',\n",
              " 'film',\n",
              " 'fitness',\n",
              " 'flamenco',\n",
              " 'folk',\n",
              " 'folklore',\n",
              " 'folkmetal',\n",
              " 'folkrock',\n",
              " 'folktronica',\n",
              " 'forró',\n",
              " 'frankreich',\n",
              " 'französisch',\n",
              " 'french',\n",
              " 'funk',\n",
              " 'future',\n",
              " 'gangsta',\n",
              " 'garage',\n",
              " 'german',\n",
              " 'ghazal',\n",
              " 'gitarre',\n",
              " 'glitch',\n",
              " 'gospel',\n",
              " 'gothic',\n",
              " 'grime',\n",
              " 'grunge',\n",
              " 'gypsy',\n",
              " 'handsup',\n",
              " \"hard'n'heavy\",\n",
              " 'hardcore',\n",
              " 'hardstyle',\n",
              " 'hardtechno',\n",
              " 'hip',\n",
              " 'hip-hop',\n",
              " 'hiphop',\n",
              " 'historisch',\n",
              " 'holiday',\n",
              " 'hop',\n",
              " 'horror',\n",
              " 'house',\n",
              " 'idm',\n",
              " 'independent',\n",
              " 'indian',\n",
              " 'indie',\n",
              " 'indipop',\n",
              " 'industrial',\n",
              " 'inspirational',\n",
              " 'instrumental',\n",
              " 'international',\n",
              " 'irish',\n",
              " 'jam',\n",
              " 'japanese',\n",
              " 'jazz',\n",
              " 'jewish',\n",
              " 'jpop',\n",
              " 'jungle',\n",
              " 'k-pop',\n",
              " 'karadeniz',\n",
              " 'karaoke',\n",
              " 'kayokyoku',\n",
              " 'korean',\n",
              " 'laiko',\n",
              " 'latin',\n",
              " 'latino',\n",
              " 'leftfield',\n",
              " 'local',\n",
              " 'lounge',\n",
              " 'loungeelectronic',\n",
              " 'lovers',\n",
              " 'malaysian',\n",
              " 'mandopop',\n",
              " 'marschmusik',\n",
              " 'meditative',\n",
              " 'mediterranean',\n",
              " 'melodic',\n",
              " 'metal',\n",
              " 'metalcore',\n",
              " 'mexican',\n",
              " 'middle',\n",
              " 'minimal',\n",
              " 'miscellaneous',\n",
              " 'modern',\n",
              " 'mood',\n",
              " 'mpb',\n",
              " 'muslim',\n",
              " 'native',\n",
              " 'neoklassik',\n",
              " 'neue',\n",
              " 'new',\n",
              " 'newage',\n",
              " 'newwave',\n",
              " 'nu',\n",
              " 'nujazz',\n",
              " 'numetal',\n",
              " 'oceania',\n",
              " 'old',\n",
              " 'opera',\n",
              " 'orchestral',\n",
              " 'other',\n",
              " 'piano',\n",
              " 'pop',\n",
              " 'popelectronic',\n",
              " 'popeurodance',\n",
              " 'post',\n",
              " 'posthardcore',\n",
              " 'postrock',\n",
              " 'power',\n",
              " 'progmetal',\n",
              " 'progressive',\n",
              " 'psychedelic',\n",
              " 'punjabi',\n",
              " 'punk',\n",
              " 'quebecois',\n",
              " 'ragga',\n",
              " 'ram',\n",
              " 'rancheras',\n",
              " 'rap',\n",
              " 'rave',\n",
              " 'reggae',\n",
              " 'reggaeton',\n",
              " 'regional',\n",
              " 'relax',\n",
              " 'religious',\n",
              " 'retro',\n",
              " 'rhythm',\n",
              " 'rnb',\n",
              " 'rnr',\n",
              " 'rock',\n",
              " 'rockabilly',\n",
              " 'romance',\n",
              " 'roots',\n",
              " 'ruspop',\n",
              " 'rusrap',\n",
              " 'rusrock',\n",
              " 'salsa',\n",
              " 'samba',\n",
              " 'schlager',\n",
              " 'self',\n",
              " 'sertanejo',\n",
              " 'shoegazing',\n",
              " 'showtunes',\n",
              " 'singer',\n",
              " 'ska',\n",
              " 'slow',\n",
              " 'smooth',\n",
              " 'soul',\n",
              " 'soulful',\n",
              " 'sound',\n",
              " 'soundtrack',\n",
              " 'southern',\n",
              " 'specialty',\n",
              " 'speech',\n",
              " 'spiritual',\n",
              " 'sport',\n",
              " 'stonerrock',\n",
              " 'surf',\n",
              " 'swing',\n",
              " 'synthpop',\n",
              " 'sängerportrait',\n",
              " 'tango',\n",
              " 'tanzorchester',\n",
              " 'taraftar',\n",
              " 'tech',\n",
              " 'techno',\n",
              " 'thrash',\n",
              " 'top',\n",
              " 'traditional',\n",
              " 'tradjazz',\n",
              " 'trance',\n",
              " 'tribal',\n",
              " 'trip',\n",
              " 'triphop',\n",
              " 'tropical',\n",
              " 'türk',\n",
              " 'türkçe',\n",
              " 'unknown',\n",
              " 'urban',\n",
              " 'uzbek',\n",
              " 'variété',\n",
              " 'vi',\n",
              " 'videogame',\n",
              " 'vocal',\n",
              " 'western',\n",
              " 'world',\n",
              " 'worldbeat',\n",
              " 'ïîï']"
            ]
          },
          "metadata": {},
          "execution_count": 17
        }
      ],
      "source": [
        "sorted(df['genre'].unique())"
      ]
    },
    {
      "cell_type": "markdown",
      "metadata": {
        "id": "qej-Qmuo_Zct"
      },
      "source": [
        "Lihat melalui *list* untuk menemukan duplikat implisit dari genre `hiphop`. Ini bisa berupa nama yang ditulis secara salah atau nama alternatif dari genre yang sama.\n",
        "\n",
        "Anda akan melihat duplikat implisit berikut:\n",
        "* `hip`\n",
        "* `hop`\n",
        "* `hip-hop`\n",
        "\n",
        "Untuk menghapusnya, gunakan fungsi `replace_wrong_genres()` dengan dua parameter:\n",
        "* `wrong_genres=` — daftar duplikat\n",
        "* `correct_genre=` — string dengan nilai yang benar\n",
        "\n",
        "Fungsi harus mengoreksi nama dalam kolom `'genre'` dari tabel `df`, yaitu mengganti setiap nilai dari daftar `wrong_genres` dengan nilai dalam `correct_genre`."
      ]
    },
    {
      "cell_type": "code",
      "execution_count": 18,
      "metadata": {
        "id": "ErNDkmns_Zct"
      },
      "outputs": [],
      "source": [
        "def replace_wrong_genres(wrong_genre, correct_genre):\n",
        "    for i in wrong_genre:\n",
        "        df['genre'] = df['genre'].replace(i,correct_genre)"
      ]
    },
    {
      "cell_type": "markdown",
      "metadata": {
        "id": "aDoBJxbA_Zct"
      },
      "source": [
        "Panggil `replace_wrong_genres()` dan berikan argumennya sehingga menghapus duplikat implisit (`hip`, `hop`, dan `hip-hop`) dan menggantinya dengan `hiphop`:"
      ]
    },
    {
      "cell_type": "code",
      "execution_count": 19,
      "metadata": {
        "id": "YN5i2hpmSo09"
      },
      "outputs": [],
      "source": [
        "hiphop_implisit = ['hip','hop','hip-hop']\n",
        "replace_wrong_genres(hiphop_implisit,'hiphop')"
      ]
    },
    {
      "cell_type": "markdown",
      "metadata": {
        "id": "zQKF16_RG15m"
      },
      "source": [
        "Pastikan nama duplikat telah dihapus. Tampilkan daftar nilai unik dari kolom `'genre'`:"
      ]
    },
    {
      "cell_type": "code",
      "execution_count": 20,
      "metadata": {
        "id": "wvixALnFG15m",
        "scrolled": true,
        "colab": {
          "base_uri": "https://localhost:8080/"
        },
        "outputId": "29a0d8a7-bf7f-4d78-a10e-e4c221ce0398"
      },
      "outputs": [
        {
          "output_type": "execute_result",
          "data": {
            "text/plain": [
              "array(['acid', 'acoustic', 'action', 'adult', 'africa', 'afrikaans',\n",
              "       'alternative', 'ambient', 'americana', 'animated', 'anime',\n",
              "       'arabesk', 'arabic', 'arena', 'argentinetango', 'art', 'audiobook',\n",
              "       'avantgarde', 'axé', 'baile', 'balkan', 'beats', 'bigroom',\n",
              "       'black', 'bluegrass', 'blues', 'bollywood', 'bossa', 'brazilian',\n",
              "       'breakbeat', 'breaks', 'broadway', 'cantautori', 'cantopop',\n",
              "       'canzone', 'caribbean', 'caucasian', 'celtic', 'chamber',\n",
              "       'children', 'chill', 'chinese', 'choral', 'christian', 'christmas',\n",
              "       'classical', 'classicmetal', 'club', 'colombian', 'comedy',\n",
              "       'conjazz', 'contemporary', 'country', 'cuban', 'dance',\n",
              "       'dancehall', 'dancepop', 'dark', 'death', 'deep', 'deutschrock',\n",
              "       'deutschspr', 'dirty', 'disco', 'dnb', 'documentary', 'downbeat',\n",
              "       'downtempo', 'drum', 'dub', 'dubstep', 'eastern', 'easy',\n",
              "       'electronic', 'electropop', 'emo', 'entehno', 'epicmetal',\n",
              "       'estrada', 'ethnic', 'eurofolk', 'european', 'experimental',\n",
              "       'extrememetal', 'fado', 'film', 'fitness', 'flamenco', 'folk',\n",
              "       'folklore', 'folkmetal', 'folkrock', 'folktronica', 'forró',\n",
              "       'frankreich', 'französisch', 'french', 'funk', 'future', 'gangsta',\n",
              "       'garage', 'german', 'ghazal', 'gitarre', 'glitch', 'gospel',\n",
              "       'gothic', 'grime', 'grunge', 'gypsy', 'handsup', \"hard'n'heavy\",\n",
              "       'hardcore', 'hardstyle', 'hardtechno', 'hiphop', 'historisch',\n",
              "       'holiday', 'horror', 'house', 'idm', 'independent', 'indian',\n",
              "       'indie', 'indipop', 'industrial', 'inspirational', 'instrumental',\n",
              "       'international', 'irish', 'jam', 'japanese', 'jazz', 'jewish',\n",
              "       'jpop', 'jungle', 'k-pop', 'karadeniz', 'karaoke', 'kayokyoku',\n",
              "       'korean', 'laiko', 'latin', 'latino', 'leftfield', 'local',\n",
              "       'lounge', 'loungeelectronic', 'lovers', 'malaysian', 'mandopop',\n",
              "       'marschmusik', 'meditative', 'mediterranean', 'melodic', 'metal',\n",
              "       'metalcore', 'mexican', 'middle', 'minimal', 'miscellaneous',\n",
              "       'modern', 'mood', 'mpb', 'muslim', 'native', 'neoklassik', 'neue',\n",
              "       'new', 'newage', 'newwave', 'nu', 'nujazz', 'numetal', 'oceania',\n",
              "       'old', 'opera', 'orchestral', 'other', 'piano', 'pop',\n",
              "       'popelectronic', 'popeurodance', 'post', 'posthardcore',\n",
              "       'postrock', 'power', 'progmetal', 'progressive', 'psychedelic',\n",
              "       'punjabi', 'punk', 'quebecois', 'ragga', 'ram', 'rancheras', 'rap',\n",
              "       'rave', 'reggae', 'reggaeton', 'regional', 'relax', 'religious',\n",
              "       'retro', 'rhythm', 'rnb', 'rnr', 'rock', 'rockabilly', 'romance',\n",
              "       'roots', 'ruspop', 'rusrap', 'rusrock', 'salsa', 'samba',\n",
              "       'schlager', 'self', 'sertanejo', 'shoegazing', 'showtunes',\n",
              "       'singer', 'ska', 'slow', 'smooth', 'soul', 'soulful', 'sound',\n",
              "       'soundtrack', 'southern', 'specialty', 'speech', 'spiritual',\n",
              "       'sport', 'stonerrock', 'surf', 'swing', 'synthpop',\n",
              "       'sängerportrait', 'tango', 'tanzorchester', 'taraftar', 'tech',\n",
              "       'techno', 'thrash', 'top', 'traditional', 'tradjazz', 'trance',\n",
              "       'tribal', 'trip', 'triphop', 'tropical', 'türk', 'türkçe',\n",
              "       'unknown', 'urban', 'uzbek', 'variété', 'vi', 'videogame', 'vocal',\n",
              "       'western', 'world', 'worldbeat', 'ïîï'], dtype=object)"
            ]
          },
          "metadata": {},
          "execution_count": 20
        }
      ],
      "source": [
        "df['genre'].sort_values().unique()"
      ]
    },
    {
      "cell_type": "markdown",
      "metadata": {
        "id": "ALgNbvF3VtPA"
      },
      "source": [
        "[Kembali ke Daftar Isi](#back)"
      ]
    },
    {
      "cell_type": "markdown",
      "metadata": {
        "id": "jz6a9-7HQUDd"
      },
      "source": [
        "### Kesimpulan <a id='data_preprocessing_conclusions'></a>\n",
        "Kita mendeteksi tiga masalah dengan data:\n",
        "\n",
        "- Gaya penulisan judul yang salah\n",
        "- Nilai-nilai yang hilang\n",
        "- Duplikat yang jelas dan implisit\n",
        "\n",
        "Judul telah dibersihkan untuk mempermudah pemrosesan tabel.\n",
        "\n",
        "Semua nilai yang hilang telah diganti dengan `'unknown'`. Tapi kita masih harus melihat apakah nilai yang hilang dalam `'genre'` akan memengaruhi perhitungan kita.\n",
        "\n",
        "Tidak adanya duplikat akan membuat hasil lebih tepat dan lebih mudah dipahami.\n",
        "\n",
        "Sekarang kita dapat melanjutkan ke pengujian hipotesis."
      ]
    },
    {
      "cell_type": "markdown",
      "metadata": {
        "id": "eK1es74rVujj"
      },
      "source": [
        "[Kembali ke Daftar Isi](#back)"
      ]
    },
    {
      "cell_type": "markdown",
      "metadata": {
        "id": "WttZHXH0SqKk"
      },
      "source": [
        "## Tahap 3. Menguji Hipotesis <a id='hypotheses'></a>"
      ]
    },
    {
      "cell_type": "markdown",
      "metadata": {
        "id": "Im936VVi_Zcu"
      },
      "source": [
        "### Hipotesis 1: Membandingkan Perilaku Pengguna di Dua Kota <a id='activity'></a>"
      ]
    },
    {
      "cell_type": "markdown",
      "metadata": {
        "id": "nwt_MuaL_Zcu"
      },
      "source": [
        "Menurut hipotesis pertama, pengguna dari Springfield dan Shelbyville memiliki perbedaan dalam mendengarkan musik. Pengujian ini menggunakan data pada hari: Senin, Rabu, dan Jumat.\n",
        "\n",
        "* Pisahkan pengguna ke dalam kelompok berdasarkan kota.\n",
        "* Bandingkan berapa banyak lagu yang dimainkan setiap kelompok pada hari Senin, Rabu, dan Jumat."
      ]
    },
    {
      "cell_type": "markdown",
      "metadata": {
        "id": "8Dw_YMmT_Zcu"
      },
      "source": [
        "Untuk latihan, lakukan setiap perhitungan secara terpisah.\n",
        "\n",
        "Evaluasi aktivitas pengguna di setiap kota. Kelompokkan data berdasarkan kota dan temukan jumlah lagu yang diputar di setiap kelompok.\n",
        "\n"
      ]
    },
    {
      "cell_type": "code",
      "execution_count": 21,
      "metadata": {
        "id": "0_Qs96oh_Zcu",
        "scrolled": false,
        "colab": {
          "base_uri": "https://localhost:8080/",
          "height": 143
        },
        "outputId": "42e1a1bf-429f-4df9-d6ea-569bc5e38bfe"
      },
      "outputs": [
        {
          "output_type": "execute_result",
          "data": {
            "text/plain": [
              "             track\n",
              "city              \n",
              "Shelbyville  18512\n",
              "Springfield  42741"
            ],
            "text/html": [
              "\n",
              "  <div id=\"df-37d9cb91-f379-4eba-8901-e83e6485c561\">\n",
              "    <div class=\"colab-df-container\">\n",
              "      <div>\n",
              "<style scoped>\n",
              "    .dataframe tbody tr th:only-of-type {\n",
              "        vertical-align: middle;\n",
              "    }\n",
              "\n",
              "    .dataframe tbody tr th {\n",
              "        vertical-align: top;\n",
              "    }\n",
              "\n",
              "    .dataframe thead th {\n",
              "        text-align: right;\n",
              "    }\n",
              "</style>\n",
              "<table border=\"1\" class=\"dataframe\">\n",
              "  <thead>\n",
              "    <tr style=\"text-align: right;\">\n",
              "      <th></th>\n",
              "      <th>track</th>\n",
              "    </tr>\n",
              "    <tr>\n",
              "      <th>city</th>\n",
              "      <th></th>\n",
              "    </tr>\n",
              "  </thead>\n",
              "  <tbody>\n",
              "    <tr>\n",
              "      <th>Shelbyville</th>\n",
              "      <td>18512</td>\n",
              "    </tr>\n",
              "    <tr>\n",
              "      <th>Springfield</th>\n",
              "      <td>42741</td>\n",
              "    </tr>\n",
              "  </tbody>\n",
              "</table>\n",
              "</div>\n",
              "      <button class=\"colab-df-convert\" onclick=\"convertToInteractive('df-37d9cb91-f379-4eba-8901-e83e6485c561')\"\n",
              "              title=\"Convert this dataframe to an interactive table.\"\n",
              "              style=\"display:none;\">\n",
              "        \n",
              "  <svg xmlns=\"http://www.w3.org/2000/svg\" height=\"24px\"viewBox=\"0 0 24 24\"\n",
              "       width=\"24px\">\n",
              "    <path d=\"M0 0h24v24H0V0z\" fill=\"none\"/>\n",
              "    <path d=\"M18.56 5.44l.94 2.06.94-2.06 2.06-.94-2.06-.94-.94-2.06-.94 2.06-2.06.94zm-11 1L8.5 8.5l.94-2.06 2.06-.94-2.06-.94L8.5 2.5l-.94 2.06-2.06.94zm10 10l.94 2.06.94-2.06 2.06-.94-2.06-.94-.94-2.06-.94 2.06-2.06.94z\"/><path d=\"M17.41 7.96l-1.37-1.37c-.4-.4-.92-.59-1.43-.59-.52 0-1.04.2-1.43.59L10.3 9.45l-7.72 7.72c-.78.78-.78 2.05 0 2.83L4 21.41c.39.39.9.59 1.41.59.51 0 1.02-.2 1.41-.59l7.78-7.78 2.81-2.81c.8-.78.8-2.07 0-2.86zM5.41 20L4 18.59l7.72-7.72 1.47 1.35L5.41 20z\"/>\n",
              "  </svg>\n",
              "      </button>\n",
              "      \n",
              "  <style>\n",
              "    .colab-df-container {\n",
              "      display:flex;\n",
              "      flex-wrap:wrap;\n",
              "      gap: 12px;\n",
              "    }\n",
              "\n",
              "    .colab-df-convert {\n",
              "      background-color: #E8F0FE;\n",
              "      border: none;\n",
              "      border-radius: 50%;\n",
              "      cursor: pointer;\n",
              "      display: none;\n",
              "      fill: #1967D2;\n",
              "      height: 32px;\n",
              "      padding: 0 0 0 0;\n",
              "      width: 32px;\n",
              "    }\n",
              "\n",
              "    .colab-df-convert:hover {\n",
              "      background-color: #E2EBFA;\n",
              "      box-shadow: 0px 1px 2px rgba(60, 64, 67, 0.3), 0px 1px 3px 1px rgba(60, 64, 67, 0.15);\n",
              "      fill: #174EA6;\n",
              "    }\n",
              "\n",
              "    [theme=dark] .colab-df-convert {\n",
              "      background-color: #3B4455;\n",
              "      fill: #D2E3FC;\n",
              "    }\n",
              "\n",
              "    [theme=dark] .colab-df-convert:hover {\n",
              "      background-color: #434B5C;\n",
              "      box-shadow: 0px 1px 3px 1px rgba(0, 0, 0, 0.15);\n",
              "      filter: drop-shadow(0px 1px 2px rgba(0, 0, 0, 0.3));\n",
              "      fill: #FFFFFF;\n",
              "    }\n",
              "  </style>\n",
              "\n",
              "      <script>\n",
              "        const buttonEl =\n",
              "          document.querySelector('#df-37d9cb91-f379-4eba-8901-e83e6485c561 button.colab-df-convert');\n",
              "        buttonEl.style.display =\n",
              "          google.colab.kernel.accessAllowed ? 'block' : 'none';\n",
              "\n",
              "        async function convertToInteractive(key) {\n",
              "          const element = document.querySelector('#df-37d9cb91-f379-4eba-8901-e83e6485c561');\n",
              "          const dataTable =\n",
              "            await google.colab.kernel.invokeFunction('convertToInteractive',\n",
              "                                                     [key], {});\n",
              "          if (!dataTable) return;\n",
              "\n",
              "          const docLinkHtml = 'Like what you see? Visit the ' +\n",
              "            '<a target=\"_blank\" href=https://colab.research.google.com/notebooks/data_table.ipynb>data table notebook</a>'\n",
              "            + ' to learn more about interactive tables.';\n",
              "          element.innerHTML = '';\n",
              "          dataTable['output_type'] = 'display_data';\n",
              "          await google.colab.output.renderOutput(dataTable, element);\n",
              "          const docLink = document.createElement('div');\n",
              "          docLink.innerHTML = docLinkHtml;\n",
              "          element.appendChild(docLink);\n",
              "        }\n",
              "      </script>\n",
              "    </div>\n",
              "  </div>\n",
              "  "
            ]
          },
          "metadata": {},
          "execution_count": 21
        }
      ],
      "source": [
        "df[['city','track']].groupby('city').count()"
      ]
    },
    {
      "cell_type": "markdown",
      "metadata": {
        "id": "dzli3w8o_Zcu"
      },
      "source": [
        "Springfield memiliki lebih banyak lagu yang dimainkan daripada Shelbyville. Namun bukan berarti warga Springfield lebih sering mendengarkan musik. Kota ini lebih besar, dan memiliki lebih banyak pengguna.\n",
        "\n",
        "Sekarang kelompokkan data menurut hari dan temukan jumlah lagu yang diputar pada hari Senin, Rabu, dan Jumat."
      ]
    },
    {
      "cell_type": "code",
      "execution_count": 22,
      "metadata": {
        "id": "uZMKjiJz_Zcu",
        "scrolled": true,
        "colab": {
          "base_uri": "https://localhost:8080/",
          "height": 175
        },
        "outputId": "ccaf15d4-557b-4e3b-d91f-314cc9f52575"
      },
      "outputs": [
        {
          "output_type": "execute_result",
          "data": {
            "text/plain": [
              "           track\n",
              "day             \n",
              "Friday     21840\n",
              "Monday     21354\n",
              "Wednesday  18059"
            ],
            "text/html": [
              "\n",
              "  <div id=\"df-b344cb4d-d09f-48b6-87d3-7fe530445ee8\">\n",
              "    <div class=\"colab-df-container\">\n",
              "      <div>\n",
              "<style scoped>\n",
              "    .dataframe tbody tr th:only-of-type {\n",
              "        vertical-align: middle;\n",
              "    }\n",
              "\n",
              "    .dataframe tbody tr th {\n",
              "        vertical-align: top;\n",
              "    }\n",
              "\n",
              "    .dataframe thead th {\n",
              "        text-align: right;\n",
              "    }\n",
              "</style>\n",
              "<table border=\"1\" class=\"dataframe\">\n",
              "  <thead>\n",
              "    <tr style=\"text-align: right;\">\n",
              "      <th></th>\n",
              "      <th>track</th>\n",
              "    </tr>\n",
              "    <tr>\n",
              "      <th>day</th>\n",
              "      <th></th>\n",
              "    </tr>\n",
              "  </thead>\n",
              "  <tbody>\n",
              "    <tr>\n",
              "      <th>Friday</th>\n",
              "      <td>21840</td>\n",
              "    </tr>\n",
              "    <tr>\n",
              "      <th>Monday</th>\n",
              "      <td>21354</td>\n",
              "    </tr>\n",
              "    <tr>\n",
              "      <th>Wednesday</th>\n",
              "      <td>18059</td>\n",
              "    </tr>\n",
              "  </tbody>\n",
              "</table>\n",
              "</div>\n",
              "      <button class=\"colab-df-convert\" onclick=\"convertToInteractive('df-b344cb4d-d09f-48b6-87d3-7fe530445ee8')\"\n",
              "              title=\"Convert this dataframe to an interactive table.\"\n",
              "              style=\"display:none;\">\n",
              "        \n",
              "  <svg xmlns=\"http://www.w3.org/2000/svg\" height=\"24px\"viewBox=\"0 0 24 24\"\n",
              "       width=\"24px\">\n",
              "    <path d=\"M0 0h24v24H0V0z\" fill=\"none\"/>\n",
              "    <path d=\"M18.56 5.44l.94 2.06.94-2.06 2.06-.94-2.06-.94-.94-2.06-.94 2.06-2.06.94zm-11 1L8.5 8.5l.94-2.06 2.06-.94-2.06-.94L8.5 2.5l-.94 2.06-2.06.94zm10 10l.94 2.06.94-2.06 2.06-.94-2.06-.94-.94-2.06-.94 2.06-2.06.94z\"/><path d=\"M17.41 7.96l-1.37-1.37c-.4-.4-.92-.59-1.43-.59-.52 0-1.04.2-1.43.59L10.3 9.45l-7.72 7.72c-.78.78-.78 2.05 0 2.83L4 21.41c.39.39.9.59 1.41.59.51 0 1.02-.2 1.41-.59l7.78-7.78 2.81-2.81c.8-.78.8-2.07 0-2.86zM5.41 20L4 18.59l7.72-7.72 1.47 1.35L5.41 20z\"/>\n",
              "  </svg>\n",
              "      </button>\n",
              "      \n",
              "  <style>\n",
              "    .colab-df-container {\n",
              "      display:flex;\n",
              "      flex-wrap:wrap;\n",
              "      gap: 12px;\n",
              "    }\n",
              "\n",
              "    .colab-df-convert {\n",
              "      background-color: #E8F0FE;\n",
              "      border: none;\n",
              "      border-radius: 50%;\n",
              "      cursor: pointer;\n",
              "      display: none;\n",
              "      fill: #1967D2;\n",
              "      height: 32px;\n",
              "      padding: 0 0 0 0;\n",
              "      width: 32px;\n",
              "    }\n",
              "\n",
              "    .colab-df-convert:hover {\n",
              "      background-color: #E2EBFA;\n",
              "      box-shadow: 0px 1px 2px rgba(60, 64, 67, 0.3), 0px 1px 3px 1px rgba(60, 64, 67, 0.15);\n",
              "      fill: #174EA6;\n",
              "    }\n",
              "\n",
              "    [theme=dark] .colab-df-convert {\n",
              "      background-color: #3B4455;\n",
              "      fill: #D2E3FC;\n",
              "    }\n",
              "\n",
              "    [theme=dark] .colab-df-convert:hover {\n",
              "      background-color: #434B5C;\n",
              "      box-shadow: 0px 1px 3px 1px rgba(0, 0, 0, 0.15);\n",
              "      filter: drop-shadow(0px 1px 2px rgba(0, 0, 0, 0.3));\n",
              "      fill: #FFFFFF;\n",
              "    }\n",
              "  </style>\n",
              "\n",
              "      <script>\n",
              "        const buttonEl =\n",
              "          document.querySelector('#df-b344cb4d-d09f-48b6-87d3-7fe530445ee8 button.colab-df-convert');\n",
              "        buttonEl.style.display =\n",
              "          google.colab.kernel.accessAllowed ? 'block' : 'none';\n",
              "\n",
              "        async function convertToInteractive(key) {\n",
              "          const element = document.querySelector('#df-b344cb4d-d09f-48b6-87d3-7fe530445ee8');\n",
              "          const dataTable =\n",
              "            await google.colab.kernel.invokeFunction('convertToInteractive',\n",
              "                                                     [key], {});\n",
              "          if (!dataTable) return;\n",
              "\n",
              "          const docLinkHtml = 'Like what you see? Visit the ' +\n",
              "            '<a target=\"_blank\" href=https://colab.research.google.com/notebooks/data_table.ipynb>data table notebook</a>'\n",
              "            + ' to learn more about interactive tables.';\n",
              "          element.innerHTML = '';\n",
              "          dataTable['output_type'] = 'display_data';\n",
              "          await google.colab.output.renderOutput(dataTable, element);\n",
              "          const docLink = document.createElement('div');\n",
              "          docLink.innerHTML = docLinkHtml;\n",
              "          element.appendChild(docLink);\n",
              "        }\n",
              "      </script>\n",
              "    </div>\n",
              "  </div>\n",
              "  "
            ]
          },
          "metadata": {},
          "execution_count": 22
        }
      ],
      "source": [
        "df[['day','track']].groupby('day').count()"
      ]
    },
    {
      "cell_type": "markdown",
      "metadata": {
        "id": "cC2tNrlL_Zcu"
      },
      "source": [
        "Rabu adalah hari paling tenang secara keseluruhan. Tetapi jika kita mempertimbangkan kedua kota secara terpisah, kita mungkin akan memiliki kesimpulan yang berbeda."
      ]
    },
    {
      "cell_type": "markdown",
      "metadata": {
        "id": "POzs8bGa_Zcu"
      },
      "source": [
        "Buat fungsi `number_tracks()` untuk menghitung jumlah lagu yang diputar untuk hari dan kota tertentu. Ini akan membutuhkan dua parameter:\n",
        "* nama hari\n",
        "* nama kota\n",
        "\n",
        "Dalam fungsi, gunakan variabel untuk menyimpan baris dari tabel asli, di mana:\n",
        "  *  Nilai kolom `'day'` sama dengan parameter `day`\n",
        "  * Nilai kolom `'city'` sama dengan parameter `city`\n",
        "\n",
        "Terapkan pemfilteran berurutan dengan pengindeksan logis.\n",
        "\n",
        "Kemudian hitung nilai kolom `'user_id'` pada tabel yang dihasilkan. Simpan hasilnya ke variabel baru. Kembalikan variabel ini dari fungsi."
      ]
    },
    {
      "cell_type": "code",
      "execution_count": 23,
      "metadata": {
        "id": "Nz3GdQB1_Zcu"
      },
      "outputs": [],
      "source": [
        "# Fungsi dibuat untuk mencari seberapa banyak lagu yang diputar di hari tertentu dan kota tertentu\n",
        "def number_tracks(day,city):\n",
        "    \n",
        "    track_list = df[(df['day']==day) & (df['city']==city)]\n",
        "    track_list_count = track_list['user_id'].count()\n",
        "    return track_list_count"
      ]
    },
    {
      "cell_type": "markdown",
      "metadata": {
        "id": "ytf7xFrFJQ2r"
      },
      "source": [
        "Panggil `number_tracks()` enam kali dan ubahlah nilai parameternya, sehingga Anda bisa mengambil data di kedua kota untuk masing-masing hari tersebut."
      ]
    },
    {
      "cell_type": "code",
      "execution_count": 24,
      "metadata": {
        "id": "rJcRATNQ_Zcu",
        "colab": {
          "base_uri": "https://localhost:8080/"
        },
        "outputId": "ac34f2ec-8892-42b3-9d2c-7f7394a26789"
      },
      "outputs": [
        {
          "output_type": "execute_result",
          "data": {
            "text/plain": [
              "15740"
            ]
          },
          "metadata": {},
          "execution_count": 24
        }
      ],
      "source": [
        "number_tracks('Monday','Springfield') #  jumlah lagu yang diputar di Springfield pada hari Senin"
      ]
    },
    {
      "cell_type": "code",
      "execution_count": 25,
      "metadata": {
        "id": "hq_ncZ5T_Zcu",
        "colab": {
          "base_uri": "https://localhost:8080/"
        },
        "outputId": "c6f34c99-d772-4ed9-eaab-82ae7fd57f8c"
      },
      "outputs": [
        {
          "output_type": "execute_result",
          "data": {
            "text/plain": [
              "5614"
            ]
          },
          "metadata": {},
          "execution_count": 25
        }
      ],
      "source": [
        "number_tracks('Monday','Shelbyville')"
      ]
    },
    {
      "cell_type": "code",
      "execution_count": 26,
      "metadata": {
        "id": "_NTy2VPU_Zcu",
        "colab": {
          "base_uri": "https://localhost:8080/"
        },
        "outputId": "91814c63-dc8f-4fc5-ec2b-c4f54cf671d9"
      },
      "outputs": [
        {
          "output_type": "execute_result",
          "data": {
            "text/plain": [
              "11056"
            ]
          },
          "metadata": {},
          "execution_count": 26
        }
      ],
      "source": [
        "number_tracks('Wednesday','Springfield')"
      ]
    },
    {
      "cell_type": "code",
      "execution_count": 27,
      "metadata": {
        "id": "j2y3TAwo_Zcu",
        "colab": {
          "base_uri": "https://localhost:8080/"
        },
        "outputId": "bb3f95cf-6c9f-4a41-903a-d2640cbb6296"
      },
      "outputs": [
        {
          "output_type": "execute_result",
          "data": {
            "text/plain": [
              "7003"
            ]
          },
          "metadata": {},
          "execution_count": 27
        }
      ],
      "source": [
        "number_tracks('Wednesday','Shelbyville')"
      ]
    },
    {
      "cell_type": "code",
      "execution_count": 28,
      "metadata": {
        "id": "vYDw5u_K_Zcu",
        "colab": {
          "base_uri": "https://localhost:8080/"
        },
        "outputId": "7529c945-c34c-49c4-de37-16d2e5089afa"
      },
      "outputs": [
        {
          "output_type": "execute_result",
          "data": {
            "text/plain": [
              "15945"
            ]
          },
          "metadata": {},
          "execution_count": 28
        }
      ],
      "source": [
        "number_tracks('Friday','Springfield')"
      ]
    },
    {
      "cell_type": "code",
      "execution_count": 29,
      "metadata": {
        "id": "8_yzFtW3_Zcu",
        "colab": {
          "base_uri": "https://localhost:8080/"
        },
        "outputId": "9bcf2253-8294-445d-ab28-306459df85e7"
      },
      "outputs": [
        {
          "output_type": "execute_result",
          "data": {
            "text/plain": [
              "5895"
            ]
          },
          "metadata": {},
          "execution_count": 29
        }
      ],
      "source": [
        "number_tracks('Friday','Shelbyville')"
      ]
    },
    {
      "cell_type": "markdown",
      "metadata": {
        "id": "7QXffbO-_Zcu"
      },
      "source": [
        "Gunakan `pd.DataFrame` untuk membuat tabel, di mana\n",
        "* Nama kolom adalah: `['city', 'monday', 'wednesday', 'friday']`\n",
        "* Data adalah hasil yang Anda dapatkan dari `number_tracks()`"
      ]
    },
    {
      "cell_type": "code",
      "execution_count": 30,
      "metadata": {
        "id": "APAcLpOr_Zcu",
        "colab": {
          "base_uri": "https://localhost:8080/",
          "height": 112
        },
        "outputId": "c94e3d3d-4669-4cb9-93f9-a08355b6bf98"
      },
      "outputs": [
        {
          "output_type": "execute_result",
          "data": {
            "text/plain": [
              "          city  monday  wednesday  friday\n",
              "0  Springfield   15740      11056   15945\n",
              "1  Shelbyville    5614       7003    5895"
            ],
            "text/html": [
              "\n",
              "  <div id=\"df-204708c9-a487-4792-80c2-56eacbccbd90\">\n",
              "    <div class=\"colab-df-container\">\n",
              "      <div>\n",
              "<style scoped>\n",
              "    .dataframe tbody tr th:only-of-type {\n",
              "        vertical-align: middle;\n",
              "    }\n",
              "\n",
              "    .dataframe tbody tr th {\n",
              "        vertical-align: top;\n",
              "    }\n",
              "\n",
              "    .dataframe thead th {\n",
              "        text-align: right;\n",
              "    }\n",
              "</style>\n",
              "<table border=\"1\" class=\"dataframe\">\n",
              "  <thead>\n",
              "    <tr style=\"text-align: right;\">\n",
              "      <th></th>\n",
              "      <th>city</th>\n",
              "      <th>monday</th>\n",
              "      <th>wednesday</th>\n",
              "      <th>friday</th>\n",
              "    </tr>\n",
              "  </thead>\n",
              "  <tbody>\n",
              "    <tr>\n",
              "      <th>0</th>\n",
              "      <td>Springfield</td>\n",
              "      <td>15740</td>\n",
              "      <td>11056</td>\n",
              "      <td>15945</td>\n",
              "    </tr>\n",
              "    <tr>\n",
              "      <th>1</th>\n",
              "      <td>Shelbyville</td>\n",
              "      <td>5614</td>\n",
              "      <td>7003</td>\n",
              "      <td>5895</td>\n",
              "    </tr>\n",
              "  </tbody>\n",
              "</table>\n",
              "</div>\n",
              "      <button class=\"colab-df-convert\" onclick=\"convertToInteractive('df-204708c9-a487-4792-80c2-56eacbccbd90')\"\n",
              "              title=\"Convert this dataframe to an interactive table.\"\n",
              "              style=\"display:none;\">\n",
              "        \n",
              "  <svg xmlns=\"http://www.w3.org/2000/svg\" height=\"24px\"viewBox=\"0 0 24 24\"\n",
              "       width=\"24px\">\n",
              "    <path d=\"M0 0h24v24H0V0z\" fill=\"none\"/>\n",
              "    <path d=\"M18.56 5.44l.94 2.06.94-2.06 2.06-.94-2.06-.94-.94-2.06-.94 2.06-2.06.94zm-11 1L8.5 8.5l.94-2.06 2.06-.94-2.06-.94L8.5 2.5l-.94 2.06-2.06.94zm10 10l.94 2.06.94-2.06 2.06-.94-2.06-.94-.94-2.06-.94 2.06-2.06.94z\"/><path d=\"M17.41 7.96l-1.37-1.37c-.4-.4-.92-.59-1.43-.59-.52 0-1.04.2-1.43.59L10.3 9.45l-7.72 7.72c-.78.78-.78 2.05 0 2.83L4 21.41c.39.39.9.59 1.41.59.51 0 1.02-.2 1.41-.59l7.78-7.78 2.81-2.81c.8-.78.8-2.07 0-2.86zM5.41 20L4 18.59l7.72-7.72 1.47 1.35L5.41 20z\"/>\n",
              "  </svg>\n",
              "      </button>\n",
              "      \n",
              "  <style>\n",
              "    .colab-df-container {\n",
              "      display:flex;\n",
              "      flex-wrap:wrap;\n",
              "      gap: 12px;\n",
              "    }\n",
              "\n",
              "    .colab-df-convert {\n",
              "      background-color: #E8F0FE;\n",
              "      border: none;\n",
              "      border-radius: 50%;\n",
              "      cursor: pointer;\n",
              "      display: none;\n",
              "      fill: #1967D2;\n",
              "      height: 32px;\n",
              "      padding: 0 0 0 0;\n",
              "      width: 32px;\n",
              "    }\n",
              "\n",
              "    .colab-df-convert:hover {\n",
              "      background-color: #E2EBFA;\n",
              "      box-shadow: 0px 1px 2px rgba(60, 64, 67, 0.3), 0px 1px 3px 1px rgba(60, 64, 67, 0.15);\n",
              "      fill: #174EA6;\n",
              "    }\n",
              "\n",
              "    [theme=dark] .colab-df-convert {\n",
              "      background-color: #3B4455;\n",
              "      fill: #D2E3FC;\n",
              "    }\n",
              "\n",
              "    [theme=dark] .colab-df-convert:hover {\n",
              "      background-color: #434B5C;\n",
              "      box-shadow: 0px 1px 3px 1px rgba(0, 0, 0, 0.15);\n",
              "      filter: drop-shadow(0px 1px 2px rgba(0, 0, 0, 0.3));\n",
              "      fill: #FFFFFF;\n",
              "    }\n",
              "  </style>\n",
              "\n",
              "      <script>\n",
              "        const buttonEl =\n",
              "          document.querySelector('#df-204708c9-a487-4792-80c2-56eacbccbd90 button.colab-df-convert');\n",
              "        buttonEl.style.display =\n",
              "          google.colab.kernel.accessAllowed ? 'block' : 'none';\n",
              "\n",
              "        async function convertToInteractive(key) {\n",
              "          const element = document.querySelector('#df-204708c9-a487-4792-80c2-56eacbccbd90');\n",
              "          const dataTable =\n",
              "            await google.colab.kernel.invokeFunction('convertToInteractive',\n",
              "                                                     [key], {});\n",
              "          if (!dataTable) return;\n",
              "\n",
              "          const docLinkHtml = 'Like what you see? Visit the ' +\n",
              "            '<a target=\"_blank\" href=https://colab.research.google.com/notebooks/data_table.ipynb>data table notebook</a>'\n",
              "            + ' to learn more about interactive tables.';\n",
              "          element.innerHTML = '';\n",
              "          dataTable['output_type'] = 'display_data';\n",
              "          await google.colab.output.renderOutput(dataTable, element);\n",
              "          const docLink = document.createElement('div');\n",
              "          docLink.innerHTML = docLinkHtml;\n",
              "          element.appendChild(docLink);\n",
              "        }\n",
              "      </script>\n",
              "    </div>\n",
              "  </div>\n",
              "  "
            ]
          },
          "metadata": {},
          "execution_count": 30
        }
      ],
      "source": [
        "kolom = ['city','monday','wednesday','friday']\n",
        "hari = ['Monday','Wednesday','Friday']\n",
        "kota = ['Springfield','Shelbyville']\n",
        "data = [[],[]]\n",
        "for i in range(len(kota)):\n",
        "    data[i].append(kota[i])\n",
        "    for j in range(len(hari)):\n",
        "        data[i].append(number_tracks(hari[j],kota[i]))\n",
        "        \n",
        "pd.DataFrame(data,columns = kolom)\n",
        "\n",
        "        \n"
      ]
    },
    {
      "cell_type": "markdown",
      "metadata": {
        "id": "-EgPIHYu_Zcu"
      },
      "source": [
        "**Kesimpulan**\n",
        "\n",
        "Data mengungkapkan perbedaan perilaku pengguna:\n",
        "\n",
        "- Pada Springfield, jumlah lagu yang diputar mencapai puncaknya pada hari Senin dan Jumat, sedangkan pada hari Rabu terjadi penurunan aktivitas.\n",
        "- Di Shelbyville, sebaliknya, pengguna lebih banyak mendengarkan musik pada hari Rabu.\n",
        "\n",
        "Aktivitas pengguna pada hari Senin dan Jumat lebih sedikit."
      ]
    },
    {
      "cell_type": "markdown",
      "metadata": {
        "id": "p7nFQajCVw5B"
      },
      "source": [
        "[Kembali ke Daftar Isi](#back)"
      ]
    },
    {
      "cell_type": "markdown",
      "metadata": {
        "id": "atZAxtq4_Zcu"
      },
      "source": [
        "### Hipotesis 2: Musik di Awal dan Akhir Minggu <a id='week'></a>"
      ]
    },
    {
      "cell_type": "markdown",
      "metadata": {
        "id": "eXrQqXFH_Zcu"
      },
      "source": [
        "Menurut hipotesis kedua, pada Senin pagi dan Jumat malam, warga Springfield mendengarkan genre yang berbeda dari yang dinikmati warga Shelbyville."
      ]
    },
    {
      "cell_type": "markdown",
      "metadata": {
        "id": "S8UcW6Hw_Zcu"
      },
      "source": [
        "Dapatkan tabel (pastikan nama tabel gabungan Anda cocok dengan DataFrame yang diberikan dalam dua blok kode di bawah):\n",
        "* Untuk Springfield — `spr_general`\n",
        "* Untuk Shelbyville — `shel_general`"
      ]
    },
    {
      "cell_type": "code",
      "execution_count": 31,
      "metadata": {
        "id": "qeaFfM_P_Zcu",
        "colab": {
          "base_uri": "https://localhost:8080/",
          "height": 206
        },
        "outputId": "cbf3b6a1-4dc2-473f-884a-d86490a34853"
      },
      "outputs": [
        {
          "output_type": "execute_result",
          "data": {
            "text/plain": [
              "    user_id                        track            artist   genre  \\\n",
              "1  55204538  Delayed Because of Accident  Andreas Rönnberg    rock   \n",
              "4  E2DC1FAE                  Soul People        Space Echo   dance   \n",
              "6  4CB90AA5                         True      Roman Messer   dance   \n",
              "7  F03E1C1F             Feeling This Way   Polina Griffith   dance   \n",
              "8  8FA1D3BE                     L’estate       Julia Dalia  ruspop   \n",
              "\n",
              "          city      time        day  \n",
              "1  Springfield  14:07:09     Friday  \n",
              "4  Springfield  08:34:34     Monday  \n",
              "6  Springfield  13:00:07  Wednesday  \n",
              "7  Springfield  20:47:49  Wednesday  \n",
              "8  Springfield  09:17:40     Friday  "
            ],
            "text/html": [
              "\n",
              "  <div id=\"df-a451099a-c38e-4c86-b629-c35c296adfdc\">\n",
              "    <div class=\"colab-df-container\">\n",
              "      <div>\n",
              "<style scoped>\n",
              "    .dataframe tbody tr th:only-of-type {\n",
              "        vertical-align: middle;\n",
              "    }\n",
              "\n",
              "    .dataframe tbody tr th {\n",
              "        vertical-align: top;\n",
              "    }\n",
              "\n",
              "    .dataframe thead th {\n",
              "        text-align: right;\n",
              "    }\n",
              "</style>\n",
              "<table border=\"1\" class=\"dataframe\">\n",
              "  <thead>\n",
              "    <tr style=\"text-align: right;\">\n",
              "      <th></th>\n",
              "      <th>user_id</th>\n",
              "      <th>track</th>\n",
              "      <th>artist</th>\n",
              "      <th>genre</th>\n",
              "      <th>city</th>\n",
              "      <th>time</th>\n",
              "      <th>day</th>\n",
              "    </tr>\n",
              "  </thead>\n",
              "  <tbody>\n",
              "    <tr>\n",
              "      <th>1</th>\n",
              "      <td>55204538</td>\n",
              "      <td>Delayed Because of Accident</td>\n",
              "      <td>Andreas Rönnberg</td>\n",
              "      <td>rock</td>\n",
              "      <td>Springfield</td>\n",
              "      <td>14:07:09</td>\n",
              "      <td>Friday</td>\n",
              "    </tr>\n",
              "    <tr>\n",
              "      <th>4</th>\n",
              "      <td>E2DC1FAE</td>\n",
              "      <td>Soul People</td>\n",
              "      <td>Space Echo</td>\n",
              "      <td>dance</td>\n",
              "      <td>Springfield</td>\n",
              "      <td>08:34:34</td>\n",
              "      <td>Monday</td>\n",
              "    </tr>\n",
              "    <tr>\n",
              "      <th>6</th>\n",
              "      <td>4CB90AA5</td>\n",
              "      <td>True</td>\n",
              "      <td>Roman Messer</td>\n",
              "      <td>dance</td>\n",
              "      <td>Springfield</td>\n",
              "      <td>13:00:07</td>\n",
              "      <td>Wednesday</td>\n",
              "    </tr>\n",
              "    <tr>\n",
              "      <th>7</th>\n",
              "      <td>F03E1C1F</td>\n",
              "      <td>Feeling This Way</td>\n",
              "      <td>Polina Griffith</td>\n",
              "      <td>dance</td>\n",
              "      <td>Springfield</td>\n",
              "      <td>20:47:49</td>\n",
              "      <td>Wednesday</td>\n",
              "    </tr>\n",
              "    <tr>\n",
              "      <th>8</th>\n",
              "      <td>8FA1D3BE</td>\n",
              "      <td>L’estate</td>\n",
              "      <td>Julia Dalia</td>\n",
              "      <td>ruspop</td>\n",
              "      <td>Springfield</td>\n",
              "      <td>09:17:40</td>\n",
              "      <td>Friday</td>\n",
              "    </tr>\n",
              "  </tbody>\n",
              "</table>\n",
              "</div>\n",
              "      <button class=\"colab-df-convert\" onclick=\"convertToInteractive('df-a451099a-c38e-4c86-b629-c35c296adfdc')\"\n",
              "              title=\"Convert this dataframe to an interactive table.\"\n",
              "              style=\"display:none;\">\n",
              "        \n",
              "  <svg xmlns=\"http://www.w3.org/2000/svg\" height=\"24px\"viewBox=\"0 0 24 24\"\n",
              "       width=\"24px\">\n",
              "    <path d=\"M0 0h24v24H0V0z\" fill=\"none\"/>\n",
              "    <path d=\"M18.56 5.44l.94 2.06.94-2.06 2.06-.94-2.06-.94-.94-2.06-.94 2.06-2.06.94zm-11 1L8.5 8.5l.94-2.06 2.06-.94-2.06-.94L8.5 2.5l-.94 2.06-2.06.94zm10 10l.94 2.06.94-2.06 2.06-.94-2.06-.94-.94-2.06-.94 2.06-2.06.94z\"/><path d=\"M17.41 7.96l-1.37-1.37c-.4-.4-.92-.59-1.43-.59-.52 0-1.04.2-1.43.59L10.3 9.45l-7.72 7.72c-.78.78-.78 2.05 0 2.83L4 21.41c.39.39.9.59 1.41.59.51 0 1.02-.2 1.41-.59l7.78-7.78 2.81-2.81c.8-.78.8-2.07 0-2.86zM5.41 20L4 18.59l7.72-7.72 1.47 1.35L5.41 20z\"/>\n",
              "  </svg>\n",
              "      </button>\n",
              "      \n",
              "  <style>\n",
              "    .colab-df-container {\n",
              "      display:flex;\n",
              "      flex-wrap:wrap;\n",
              "      gap: 12px;\n",
              "    }\n",
              "\n",
              "    .colab-df-convert {\n",
              "      background-color: #E8F0FE;\n",
              "      border: none;\n",
              "      border-radius: 50%;\n",
              "      cursor: pointer;\n",
              "      display: none;\n",
              "      fill: #1967D2;\n",
              "      height: 32px;\n",
              "      padding: 0 0 0 0;\n",
              "      width: 32px;\n",
              "    }\n",
              "\n",
              "    .colab-df-convert:hover {\n",
              "      background-color: #E2EBFA;\n",
              "      box-shadow: 0px 1px 2px rgba(60, 64, 67, 0.3), 0px 1px 3px 1px rgba(60, 64, 67, 0.15);\n",
              "      fill: #174EA6;\n",
              "    }\n",
              "\n",
              "    [theme=dark] .colab-df-convert {\n",
              "      background-color: #3B4455;\n",
              "      fill: #D2E3FC;\n",
              "    }\n",
              "\n",
              "    [theme=dark] .colab-df-convert:hover {\n",
              "      background-color: #434B5C;\n",
              "      box-shadow: 0px 1px 3px 1px rgba(0, 0, 0, 0.15);\n",
              "      filter: drop-shadow(0px 1px 2px rgba(0, 0, 0, 0.3));\n",
              "      fill: #FFFFFF;\n",
              "    }\n",
              "  </style>\n",
              "\n",
              "      <script>\n",
              "        const buttonEl =\n",
              "          document.querySelector('#df-a451099a-c38e-4c86-b629-c35c296adfdc button.colab-df-convert');\n",
              "        buttonEl.style.display =\n",
              "          google.colab.kernel.accessAllowed ? 'block' : 'none';\n",
              "\n",
              "        async function convertToInteractive(key) {\n",
              "          const element = document.querySelector('#df-a451099a-c38e-4c86-b629-c35c296adfdc');\n",
              "          const dataTable =\n",
              "            await google.colab.kernel.invokeFunction('convertToInteractive',\n",
              "                                                     [key], {});\n",
              "          if (!dataTable) return;\n",
              "\n",
              "          const docLinkHtml = 'Like what you see? Visit the ' +\n",
              "            '<a target=\"_blank\" href=https://colab.research.google.com/notebooks/data_table.ipynb>data table notebook</a>'\n",
              "            + ' to learn more about interactive tables.';\n",
              "          element.innerHTML = '';\n",
              "          dataTable['output_type'] = 'display_data';\n",
              "          await google.colab.output.renderOutput(dataTable, element);\n",
              "          const docLink = document.createElement('div');\n",
              "          docLink.innerHTML = docLinkHtml;\n",
              "          element.appendChild(docLink);\n",
              "        }\n",
              "      </script>\n",
              "    </div>\n",
              "  </div>\n",
              "  "
            ]
          },
          "metadata": {},
          "execution_count": 31
        }
      ],
      "source": [
        "spr_general = df[df['city']=='Springfield']\n",
        "spr_general.head()\n",
        "# mendapatkan tabel spr_general dari baris df,\n",
        "# dimana nilai dari kolom 'city' adalah 'Springfield'\n"
      ]
    },
    {
      "cell_type": "code",
      "execution_count": 32,
      "metadata": {
        "id": "ORaVRKto_Zcu",
        "scrolled": true,
        "colab": {
          "base_uri": "https://localhost:8080/",
          "height": 206
        },
        "outputId": "58ce269d-3cb3-4b5d-95dd-2c1fbdd0f4b3"
      },
      "outputs": [
        {
          "output_type": "execute_result",
          "data": {
            "text/plain": [
              "    user_id                  track            artist   genre         city  \\\n",
              "0  FFB692EC      Kamigata To Boots  The Mass Missile    rock  Shelbyville   \n",
              "2    20EC38      Funiculì funiculà       Mario Lanza     pop  Shelbyville   \n",
              "3  A3DD03C9  Dragons in the Sunset        Fire + Ice    folk  Shelbyville   \n",
              "5  842029A1                 Chains          Obladaet  rusrap  Shelbyville   \n",
              "9  E772D5C0              Pessimist           unknown   dance  Shelbyville   \n",
              "\n",
              "       time        day  \n",
              "0  20:28:33  Wednesday  \n",
              "2  20:58:07  Wednesday  \n",
              "3  08:37:09     Monday  \n",
              "5  13:09:41     Friday  \n",
              "9  21:20:49  Wednesday  "
            ],
            "text/html": [
              "\n",
              "  <div id=\"df-dd119b6e-fcc0-45a5-b00b-1a7dde29931d\">\n",
              "    <div class=\"colab-df-container\">\n",
              "      <div>\n",
              "<style scoped>\n",
              "    .dataframe tbody tr th:only-of-type {\n",
              "        vertical-align: middle;\n",
              "    }\n",
              "\n",
              "    .dataframe tbody tr th {\n",
              "        vertical-align: top;\n",
              "    }\n",
              "\n",
              "    .dataframe thead th {\n",
              "        text-align: right;\n",
              "    }\n",
              "</style>\n",
              "<table border=\"1\" class=\"dataframe\">\n",
              "  <thead>\n",
              "    <tr style=\"text-align: right;\">\n",
              "      <th></th>\n",
              "      <th>user_id</th>\n",
              "      <th>track</th>\n",
              "      <th>artist</th>\n",
              "      <th>genre</th>\n",
              "      <th>city</th>\n",
              "      <th>time</th>\n",
              "      <th>day</th>\n",
              "    </tr>\n",
              "  </thead>\n",
              "  <tbody>\n",
              "    <tr>\n",
              "      <th>0</th>\n",
              "      <td>FFB692EC</td>\n",
              "      <td>Kamigata To Boots</td>\n",
              "      <td>The Mass Missile</td>\n",
              "      <td>rock</td>\n",
              "      <td>Shelbyville</td>\n",
              "      <td>20:28:33</td>\n",
              "      <td>Wednesday</td>\n",
              "    </tr>\n",
              "    <tr>\n",
              "      <th>2</th>\n",
              "      <td>20EC38</td>\n",
              "      <td>Funiculì funiculà</td>\n",
              "      <td>Mario Lanza</td>\n",
              "      <td>pop</td>\n",
              "      <td>Shelbyville</td>\n",
              "      <td>20:58:07</td>\n",
              "      <td>Wednesday</td>\n",
              "    </tr>\n",
              "    <tr>\n",
              "      <th>3</th>\n",
              "      <td>A3DD03C9</td>\n",
              "      <td>Dragons in the Sunset</td>\n",
              "      <td>Fire + Ice</td>\n",
              "      <td>folk</td>\n",
              "      <td>Shelbyville</td>\n",
              "      <td>08:37:09</td>\n",
              "      <td>Monday</td>\n",
              "    </tr>\n",
              "    <tr>\n",
              "      <th>5</th>\n",
              "      <td>842029A1</td>\n",
              "      <td>Chains</td>\n",
              "      <td>Obladaet</td>\n",
              "      <td>rusrap</td>\n",
              "      <td>Shelbyville</td>\n",
              "      <td>13:09:41</td>\n",
              "      <td>Friday</td>\n",
              "    </tr>\n",
              "    <tr>\n",
              "      <th>9</th>\n",
              "      <td>E772D5C0</td>\n",
              "      <td>Pessimist</td>\n",
              "      <td>unknown</td>\n",
              "      <td>dance</td>\n",
              "      <td>Shelbyville</td>\n",
              "      <td>21:20:49</td>\n",
              "      <td>Wednesday</td>\n",
              "    </tr>\n",
              "  </tbody>\n",
              "</table>\n",
              "</div>\n",
              "      <button class=\"colab-df-convert\" onclick=\"convertToInteractive('df-dd119b6e-fcc0-45a5-b00b-1a7dde29931d')\"\n",
              "              title=\"Convert this dataframe to an interactive table.\"\n",
              "              style=\"display:none;\">\n",
              "        \n",
              "  <svg xmlns=\"http://www.w3.org/2000/svg\" height=\"24px\"viewBox=\"0 0 24 24\"\n",
              "       width=\"24px\">\n",
              "    <path d=\"M0 0h24v24H0V0z\" fill=\"none\"/>\n",
              "    <path d=\"M18.56 5.44l.94 2.06.94-2.06 2.06-.94-2.06-.94-.94-2.06-.94 2.06-2.06.94zm-11 1L8.5 8.5l.94-2.06 2.06-.94-2.06-.94L8.5 2.5l-.94 2.06-2.06.94zm10 10l.94 2.06.94-2.06 2.06-.94-2.06-.94-.94-2.06-.94 2.06-2.06.94z\"/><path d=\"M17.41 7.96l-1.37-1.37c-.4-.4-.92-.59-1.43-.59-.52 0-1.04.2-1.43.59L10.3 9.45l-7.72 7.72c-.78.78-.78 2.05 0 2.83L4 21.41c.39.39.9.59 1.41.59.51 0 1.02-.2 1.41-.59l7.78-7.78 2.81-2.81c.8-.78.8-2.07 0-2.86zM5.41 20L4 18.59l7.72-7.72 1.47 1.35L5.41 20z\"/>\n",
              "  </svg>\n",
              "      </button>\n",
              "      \n",
              "  <style>\n",
              "    .colab-df-container {\n",
              "      display:flex;\n",
              "      flex-wrap:wrap;\n",
              "      gap: 12px;\n",
              "    }\n",
              "\n",
              "    .colab-df-convert {\n",
              "      background-color: #E8F0FE;\n",
              "      border: none;\n",
              "      border-radius: 50%;\n",
              "      cursor: pointer;\n",
              "      display: none;\n",
              "      fill: #1967D2;\n",
              "      height: 32px;\n",
              "      padding: 0 0 0 0;\n",
              "      width: 32px;\n",
              "    }\n",
              "\n",
              "    .colab-df-convert:hover {\n",
              "      background-color: #E2EBFA;\n",
              "      box-shadow: 0px 1px 2px rgba(60, 64, 67, 0.3), 0px 1px 3px 1px rgba(60, 64, 67, 0.15);\n",
              "      fill: #174EA6;\n",
              "    }\n",
              "\n",
              "    [theme=dark] .colab-df-convert {\n",
              "      background-color: #3B4455;\n",
              "      fill: #D2E3FC;\n",
              "    }\n",
              "\n",
              "    [theme=dark] .colab-df-convert:hover {\n",
              "      background-color: #434B5C;\n",
              "      box-shadow: 0px 1px 3px 1px rgba(0, 0, 0, 0.15);\n",
              "      filter: drop-shadow(0px 1px 2px rgba(0, 0, 0, 0.3));\n",
              "      fill: #FFFFFF;\n",
              "    }\n",
              "  </style>\n",
              "\n",
              "      <script>\n",
              "        const buttonEl =\n",
              "          document.querySelector('#df-dd119b6e-fcc0-45a5-b00b-1a7dde29931d button.colab-df-convert');\n",
              "        buttonEl.style.display =\n",
              "          google.colab.kernel.accessAllowed ? 'block' : 'none';\n",
              "\n",
              "        async function convertToInteractive(key) {\n",
              "          const element = document.querySelector('#df-dd119b6e-fcc0-45a5-b00b-1a7dde29931d');\n",
              "          const dataTable =\n",
              "            await google.colab.kernel.invokeFunction('convertToInteractive',\n",
              "                                                     [key], {});\n",
              "          if (!dataTable) return;\n",
              "\n",
              "          const docLinkHtml = 'Like what you see? Visit the ' +\n",
              "            '<a target=\"_blank\" href=https://colab.research.google.com/notebooks/data_table.ipynb>data table notebook</a>'\n",
              "            + ' to learn more about interactive tables.';\n",
              "          element.innerHTML = '';\n",
              "          dataTable['output_type'] = 'display_data';\n",
              "          await google.colab.output.renderOutput(dataTable, element);\n",
              "          const docLink = document.createElement('div');\n",
              "          docLink.innerHTML = docLinkHtml;\n",
              "          element.appendChild(docLink);\n",
              "        }\n",
              "      </script>\n",
              "    </div>\n",
              "  </div>\n",
              "  "
            ]
          },
          "metadata": {},
          "execution_count": 32
        }
      ],
      "source": [
        "shel_general = df[df['city']=='Shelbyville']\n",
        "shel_general.head()"
      ]
    },
    {
      "cell_type": "markdown",
      "metadata": {
        "id": "MEJV-CX2_Zcu"
      },
      "source": [
        "Tulis fungsi `genre_weekday()` dengan empat parameter:\n",
        "* Sebuah tabel untuk data\n",
        "* Nama hari\n",
        "* Tanda waktu pertama, dalam format 'hh:mm'\n",
        "* Tanda waktu terakhir, dalam format 'hh: mm'\n",
        "\n",
        "Fungsi tersebut harus menghasilkan info tentang 15 genre paling populer pada hari tertentu dalam periode diantara dua tanda waktu."
      ]
    },
    {
      "cell_type": "code",
      "execution_count": 33,
      "metadata": {
        "id": "laJT9BYl_Zcu"
      },
      "outputs": [],
      "source": [
        "# Mendeklarasikan fungsi genre_weekday() dengan parameter day=, time1=, dan time2=. Itu harus\n",
        "# memberikan informasi tentang genre paling populer pada hari dan waktu tertentu:\n",
        "\n",
        "# 1) Biarkan variabel genre_df menyimpan baris yang memenuhi beberapa ketentuan:\n",
        "#    - nilai pada kolom 'day' sama dengan nilai argumen hari=\n",
        "#    - nilai pada kolom 'time' lebih besar dari nilai argumen time1=\n",
        "#    - nilai pada kolom 'time' lebih kecil dari nilai argumen time2=\n",
        "#    Gunakan pemfilteran berurutan dengan pengindeksan logis.\n",
        "\n",
        "# 2) Kelompokkan genre_df berdasarkan kolom 'genre', lalu ambil salah satu kolomnya,\n",
        "#    dan gunakan metode count() untuk menemukan jumlah entri untuk masing-masing\n",
        "#    genre yang diwakili; simpan Series yang dihasilkan ke\n",
        "#    variabel genre_df_count\n",
        "\n",
        "# 3) Urutkan genre_df_count dalam urutan menurun dan simpan hasilnya\n",
        "#    ke variabel genre_df_sorted\n",
        "\n",
        "# 4) Menghasilkan objek Series dengan nilai 15 genre_df_sorted pertama - 15 genre paling\n",
        "#    populer (pada hari tertentu, dalam jangka waktu tertentu)\n",
        "\n",
        "def genre_weekday(city,day,time1,time2):\n",
        "\n",
        "    genre_df_x = city[(city['day']==day) \n",
        "                    & (city['time']>time1)\n",
        "                    & (city['time']<time2)]\n",
        "    genre_df = genre_df_x[['genre','track']] \n",
        "    genre_df_grouped = genre_df.groupby('genre').count()\n",
        "    genre_df_sorted = genre_df_grouped.sort_values(by='track',ascending=False)\n",
        "    # kita akan menghasilkan objek Series yang menyimpan 15 genre paling populer pada hari tertentu dalam jangka waktu tertentu\n",
        "    return genre_df_sorted[:15]"
      ]
    },
    {
      "cell_type": "markdown",
      "metadata": {
        "id": "la2s2_PF_Zcu"
      },
      "source": [
        "Bandingkan hasil fungsi `genre_weekday()` untuk Springfield dan Shelbyville pada Senin pagi (dari pukul 07.00 hingga 11.00) dan pada Jumat malam (dari pukul 17:00 hingga 23:00):"
      ]
    },
    {
      "cell_type": "code",
      "execution_count": 34,
      "metadata": {
        "id": "yz7itPUQ_Zcu",
        "scrolled": true,
        "colab": {
          "base_uri": "https://localhost:8080/",
          "height": 551
        },
        "outputId": "3b8d5171-a501-4288-a709-ecc506ac6bd8"
      },
      "outputs": [
        {
          "output_type": "execute_result",
          "data": {
            "text/plain": [
              "             track\n",
              "genre             \n",
              "pop            781\n",
              "dance          549\n",
              "electronic     480\n",
              "rock           474\n",
              "hiphop         286\n",
              "ruspop         186\n",
              "world          181\n",
              "rusrap         175\n",
              "alternative    164\n",
              "unknown        161\n",
              "classical      157\n",
              "metal          120\n",
              "jazz           100\n",
              "folk            97\n",
              "soundtrack      95"
            ],
            "text/html": [
              "\n",
              "  <div id=\"df-56f0e2d9-1517-472c-9b71-856d3c46d43e\">\n",
              "    <div class=\"colab-df-container\">\n",
              "      <div>\n",
              "<style scoped>\n",
              "    .dataframe tbody tr th:only-of-type {\n",
              "        vertical-align: middle;\n",
              "    }\n",
              "\n",
              "    .dataframe tbody tr th {\n",
              "        vertical-align: top;\n",
              "    }\n",
              "\n",
              "    .dataframe thead th {\n",
              "        text-align: right;\n",
              "    }\n",
              "</style>\n",
              "<table border=\"1\" class=\"dataframe\">\n",
              "  <thead>\n",
              "    <tr style=\"text-align: right;\">\n",
              "      <th></th>\n",
              "      <th>track</th>\n",
              "    </tr>\n",
              "    <tr>\n",
              "      <th>genre</th>\n",
              "      <th></th>\n",
              "    </tr>\n",
              "  </thead>\n",
              "  <tbody>\n",
              "    <tr>\n",
              "      <th>pop</th>\n",
              "      <td>781</td>\n",
              "    </tr>\n",
              "    <tr>\n",
              "      <th>dance</th>\n",
              "      <td>549</td>\n",
              "    </tr>\n",
              "    <tr>\n",
              "      <th>electronic</th>\n",
              "      <td>480</td>\n",
              "    </tr>\n",
              "    <tr>\n",
              "      <th>rock</th>\n",
              "      <td>474</td>\n",
              "    </tr>\n",
              "    <tr>\n",
              "      <th>hiphop</th>\n",
              "      <td>286</td>\n",
              "    </tr>\n",
              "    <tr>\n",
              "      <th>ruspop</th>\n",
              "      <td>186</td>\n",
              "    </tr>\n",
              "    <tr>\n",
              "      <th>world</th>\n",
              "      <td>181</td>\n",
              "    </tr>\n",
              "    <tr>\n",
              "      <th>rusrap</th>\n",
              "      <td>175</td>\n",
              "    </tr>\n",
              "    <tr>\n",
              "      <th>alternative</th>\n",
              "      <td>164</td>\n",
              "    </tr>\n",
              "    <tr>\n",
              "      <th>unknown</th>\n",
              "      <td>161</td>\n",
              "    </tr>\n",
              "    <tr>\n",
              "      <th>classical</th>\n",
              "      <td>157</td>\n",
              "    </tr>\n",
              "    <tr>\n",
              "      <th>metal</th>\n",
              "      <td>120</td>\n",
              "    </tr>\n",
              "    <tr>\n",
              "      <th>jazz</th>\n",
              "      <td>100</td>\n",
              "    </tr>\n",
              "    <tr>\n",
              "      <th>folk</th>\n",
              "      <td>97</td>\n",
              "    </tr>\n",
              "    <tr>\n",
              "      <th>soundtrack</th>\n",
              "      <td>95</td>\n",
              "    </tr>\n",
              "  </tbody>\n",
              "</table>\n",
              "</div>\n",
              "      <button class=\"colab-df-convert\" onclick=\"convertToInteractive('df-56f0e2d9-1517-472c-9b71-856d3c46d43e')\"\n",
              "              title=\"Convert this dataframe to an interactive table.\"\n",
              "              style=\"display:none;\">\n",
              "        \n",
              "  <svg xmlns=\"http://www.w3.org/2000/svg\" height=\"24px\"viewBox=\"0 0 24 24\"\n",
              "       width=\"24px\">\n",
              "    <path d=\"M0 0h24v24H0V0z\" fill=\"none\"/>\n",
              "    <path d=\"M18.56 5.44l.94 2.06.94-2.06 2.06-.94-2.06-.94-.94-2.06-.94 2.06-2.06.94zm-11 1L8.5 8.5l.94-2.06 2.06-.94-2.06-.94L8.5 2.5l-.94 2.06-2.06.94zm10 10l.94 2.06.94-2.06 2.06-.94-2.06-.94-.94-2.06-.94 2.06-2.06.94z\"/><path d=\"M17.41 7.96l-1.37-1.37c-.4-.4-.92-.59-1.43-.59-.52 0-1.04.2-1.43.59L10.3 9.45l-7.72 7.72c-.78.78-.78 2.05 0 2.83L4 21.41c.39.39.9.59 1.41.59.51 0 1.02-.2 1.41-.59l7.78-7.78 2.81-2.81c.8-.78.8-2.07 0-2.86zM5.41 20L4 18.59l7.72-7.72 1.47 1.35L5.41 20z\"/>\n",
              "  </svg>\n",
              "      </button>\n",
              "      \n",
              "  <style>\n",
              "    .colab-df-container {\n",
              "      display:flex;\n",
              "      flex-wrap:wrap;\n",
              "      gap: 12px;\n",
              "    }\n",
              "\n",
              "    .colab-df-convert {\n",
              "      background-color: #E8F0FE;\n",
              "      border: none;\n",
              "      border-radius: 50%;\n",
              "      cursor: pointer;\n",
              "      display: none;\n",
              "      fill: #1967D2;\n",
              "      height: 32px;\n",
              "      padding: 0 0 0 0;\n",
              "      width: 32px;\n",
              "    }\n",
              "\n",
              "    .colab-df-convert:hover {\n",
              "      background-color: #E2EBFA;\n",
              "      box-shadow: 0px 1px 2px rgba(60, 64, 67, 0.3), 0px 1px 3px 1px rgba(60, 64, 67, 0.15);\n",
              "      fill: #174EA6;\n",
              "    }\n",
              "\n",
              "    [theme=dark] .colab-df-convert {\n",
              "      background-color: #3B4455;\n",
              "      fill: #D2E3FC;\n",
              "    }\n",
              "\n",
              "    [theme=dark] .colab-df-convert:hover {\n",
              "      background-color: #434B5C;\n",
              "      box-shadow: 0px 1px 3px 1px rgba(0, 0, 0, 0.15);\n",
              "      filter: drop-shadow(0px 1px 2px rgba(0, 0, 0, 0.3));\n",
              "      fill: #FFFFFF;\n",
              "    }\n",
              "  </style>\n",
              "\n",
              "      <script>\n",
              "        const buttonEl =\n",
              "          document.querySelector('#df-56f0e2d9-1517-472c-9b71-856d3c46d43e button.colab-df-convert');\n",
              "        buttonEl.style.display =\n",
              "          google.colab.kernel.accessAllowed ? 'block' : 'none';\n",
              "\n",
              "        async function convertToInteractive(key) {\n",
              "          const element = document.querySelector('#df-56f0e2d9-1517-472c-9b71-856d3c46d43e');\n",
              "          const dataTable =\n",
              "            await google.colab.kernel.invokeFunction('convertToInteractive',\n",
              "                                                     [key], {});\n",
              "          if (!dataTable) return;\n",
              "\n",
              "          const docLinkHtml = 'Like what you see? Visit the ' +\n",
              "            '<a target=\"_blank\" href=https://colab.research.google.com/notebooks/data_table.ipynb>data table notebook</a>'\n",
              "            + ' to learn more about interactive tables.';\n",
              "          element.innerHTML = '';\n",
              "          dataTable['output_type'] = 'display_data';\n",
              "          await google.colab.output.renderOutput(dataTable, element);\n",
              "          const docLink = document.createElement('div');\n",
              "          docLink.innerHTML = docLinkHtml;\n",
              "          element.appendChild(docLink);\n",
              "        }\n",
              "      </script>\n",
              "    </div>\n",
              "  </div>\n",
              "  "
            ]
          },
          "metadata": {},
          "execution_count": 34
        }
      ],
      "source": [
        "genre_weekday(spr_general,'Monday','07:00','11:00')"
      ]
    },
    {
      "cell_type": "code",
      "execution_count": 35,
      "metadata": {
        "id": "kwUcHPdy_Zcu",
        "colab": {
          "base_uri": "https://localhost:8080/",
          "height": 551
        },
        "outputId": "b4cd3224-3dad-4157-e05d-24de50792330"
      },
      "outputs": [
        {
          "output_type": "execute_result",
          "data": {
            "text/plain": [
              "             track\n",
              "genre             \n",
              "pop            218\n",
              "dance          182\n",
              "rock           162\n",
              "electronic     147\n",
              "hiphop          80\n",
              "ruspop          64\n",
              "alternative     58\n",
              "rusrap          55\n",
              "jazz            44\n",
              "classical       40\n",
              "world           36\n",
              "rap             32\n",
              "soundtrack      31\n",
              "rnb             27\n",
              "metal           27"
            ],
            "text/html": [
              "\n",
              "  <div id=\"df-c0267f47-9cc4-4d0d-905a-b7981b3613ba\">\n",
              "    <div class=\"colab-df-container\">\n",
              "      <div>\n",
              "<style scoped>\n",
              "    .dataframe tbody tr th:only-of-type {\n",
              "        vertical-align: middle;\n",
              "    }\n",
              "\n",
              "    .dataframe tbody tr th {\n",
              "        vertical-align: top;\n",
              "    }\n",
              "\n",
              "    .dataframe thead th {\n",
              "        text-align: right;\n",
              "    }\n",
              "</style>\n",
              "<table border=\"1\" class=\"dataframe\">\n",
              "  <thead>\n",
              "    <tr style=\"text-align: right;\">\n",
              "      <th></th>\n",
              "      <th>track</th>\n",
              "    </tr>\n",
              "    <tr>\n",
              "      <th>genre</th>\n",
              "      <th></th>\n",
              "    </tr>\n",
              "  </thead>\n",
              "  <tbody>\n",
              "    <tr>\n",
              "      <th>pop</th>\n",
              "      <td>218</td>\n",
              "    </tr>\n",
              "    <tr>\n",
              "      <th>dance</th>\n",
              "      <td>182</td>\n",
              "    </tr>\n",
              "    <tr>\n",
              "      <th>rock</th>\n",
              "      <td>162</td>\n",
              "    </tr>\n",
              "    <tr>\n",
              "      <th>electronic</th>\n",
              "      <td>147</td>\n",
              "    </tr>\n",
              "    <tr>\n",
              "      <th>hiphop</th>\n",
              "      <td>80</td>\n",
              "    </tr>\n",
              "    <tr>\n",
              "      <th>ruspop</th>\n",
              "      <td>64</td>\n",
              "    </tr>\n",
              "    <tr>\n",
              "      <th>alternative</th>\n",
              "      <td>58</td>\n",
              "    </tr>\n",
              "    <tr>\n",
              "      <th>rusrap</th>\n",
              "      <td>55</td>\n",
              "    </tr>\n",
              "    <tr>\n",
              "      <th>jazz</th>\n",
              "      <td>44</td>\n",
              "    </tr>\n",
              "    <tr>\n",
              "      <th>classical</th>\n",
              "      <td>40</td>\n",
              "    </tr>\n",
              "    <tr>\n",
              "      <th>world</th>\n",
              "      <td>36</td>\n",
              "    </tr>\n",
              "    <tr>\n",
              "      <th>rap</th>\n",
              "      <td>32</td>\n",
              "    </tr>\n",
              "    <tr>\n",
              "      <th>soundtrack</th>\n",
              "      <td>31</td>\n",
              "    </tr>\n",
              "    <tr>\n",
              "      <th>rnb</th>\n",
              "      <td>27</td>\n",
              "    </tr>\n",
              "    <tr>\n",
              "      <th>metal</th>\n",
              "      <td>27</td>\n",
              "    </tr>\n",
              "  </tbody>\n",
              "</table>\n",
              "</div>\n",
              "      <button class=\"colab-df-convert\" onclick=\"convertToInteractive('df-c0267f47-9cc4-4d0d-905a-b7981b3613ba')\"\n",
              "              title=\"Convert this dataframe to an interactive table.\"\n",
              "              style=\"display:none;\">\n",
              "        \n",
              "  <svg xmlns=\"http://www.w3.org/2000/svg\" height=\"24px\"viewBox=\"0 0 24 24\"\n",
              "       width=\"24px\">\n",
              "    <path d=\"M0 0h24v24H0V0z\" fill=\"none\"/>\n",
              "    <path d=\"M18.56 5.44l.94 2.06.94-2.06 2.06-.94-2.06-.94-.94-2.06-.94 2.06-2.06.94zm-11 1L8.5 8.5l.94-2.06 2.06-.94-2.06-.94L8.5 2.5l-.94 2.06-2.06.94zm10 10l.94 2.06.94-2.06 2.06-.94-2.06-.94-.94-2.06-.94 2.06-2.06.94z\"/><path d=\"M17.41 7.96l-1.37-1.37c-.4-.4-.92-.59-1.43-.59-.52 0-1.04.2-1.43.59L10.3 9.45l-7.72 7.72c-.78.78-.78 2.05 0 2.83L4 21.41c.39.39.9.59 1.41.59.51 0 1.02-.2 1.41-.59l7.78-7.78 2.81-2.81c.8-.78.8-2.07 0-2.86zM5.41 20L4 18.59l7.72-7.72 1.47 1.35L5.41 20z\"/>\n",
              "  </svg>\n",
              "      </button>\n",
              "      \n",
              "  <style>\n",
              "    .colab-df-container {\n",
              "      display:flex;\n",
              "      flex-wrap:wrap;\n",
              "      gap: 12px;\n",
              "    }\n",
              "\n",
              "    .colab-df-convert {\n",
              "      background-color: #E8F0FE;\n",
              "      border: none;\n",
              "      border-radius: 50%;\n",
              "      cursor: pointer;\n",
              "      display: none;\n",
              "      fill: #1967D2;\n",
              "      height: 32px;\n",
              "      padding: 0 0 0 0;\n",
              "      width: 32px;\n",
              "    }\n",
              "\n",
              "    .colab-df-convert:hover {\n",
              "      background-color: #E2EBFA;\n",
              "      box-shadow: 0px 1px 2px rgba(60, 64, 67, 0.3), 0px 1px 3px 1px rgba(60, 64, 67, 0.15);\n",
              "      fill: #174EA6;\n",
              "    }\n",
              "\n",
              "    [theme=dark] .colab-df-convert {\n",
              "      background-color: #3B4455;\n",
              "      fill: #D2E3FC;\n",
              "    }\n",
              "\n",
              "    [theme=dark] .colab-df-convert:hover {\n",
              "      background-color: #434B5C;\n",
              "      box-shadow: 0px 1px 3px 1px rgba(0, 0, 0, 0.15);\n",
              "      filter: drop-shadow(0px 1px 2px rgba(0, 0, 0, 0.3));\n",
              "      fill: #FFFFFF;\n",
              "    }\n",
              "  </style>\n",
              "\n",
              "      <script>\n",
              "        const buttonEl =\n",
              "          document.querySelector('#df-c0267f47-9cc4-4d0d-905a-b7981b3613ba button.colab-df-convert');\n",
              "        buttonEl.style.display =\n",
              "          google.colab.kernel.accessAllowed ? 'block' : 'none';\n",
              "\n",
              "        async function convertToInteractive(key) {\n",
              "          const element = document.querySelector('#df-c0267f47-9cc4-4d0d-905a-b7981b3613ba');\n",
              "          const dataTable =\n",
              "            await google.colab.kernel.invokeFunction('convertToInteractive',\n",
              "                                                     [key], {});\n",
              "          if (!dataTable) return;\n",
              "\n",
              "          const docLinkHtml = 'Like what you see? Visit the ' +\n",
              "            '<a target=\"_blank\" href=https://colab.research.google.com/notebooks/data_table.ipynb>data table notebook</a>'\n",
              "            + ' to learn more about interactive tables.';\n",
              "          element.innerHTML = '';\n",
              "          dataTable['output_type'] = 'display_data';\n",
              "          await google.colab.output.renderOutput(dataTable, element);\n",
              "          const docLink = document.createElement('div');\n",
              "          docLink.innerHTML = docLinkHtml;\n",
              "          element.appendChild(docLink);\n",
              "        }\n",
              "      </script>\n",
              "    </div>\n",
              "  </div>\n",
              "  "
            ]
          },
          "metadata": {},
          "execution_count": 35
        }
      ],
      "source": [
        "genre_weekday(shel_general,'Monday','07:00','11:00')\n"
      ]
    },
    {
      "cell_type": "code",
      "execution_count": 36,
      "metadata": {
        "id": "EzXVRE1o_Zcu",
        "colab": {
          "base_uri": "https://localhost:8080/",
          "height": 551
        },
        "outputId": "d0628638-8cd9-4321-b8c6-6d7cd69a6afc"
      },
      "outputs": [
        {
          "output_type": "execute_result",
          "data": {
            "text/plain": [
              "             track\n",
              "genre             \n",
              "pop            713\n",
              "rock           517\n",
              "dance          495\n",
              "electronic     482\n",
              "hiphop         273\n",
              "world          208\n",
              "ruspop         170\n",
              "classical      163\n",
              "alternative    163\n",
              "rusrap         142\n",
              "jazz           111\n",
              "unknown        110\n",
              "soundtrack     105\n",
              "rnb             90\n",
              "metal           88"
            ],
            "text/html": [
              "\n",
              "  <div id=\"df-40b22a59-f6fd-40db-91c7-b85ef5457f8e\">\n",
              "    <div class=\"colab-df-container\">\n",
              "      <div>\n",
              "<style scoped>\n",
              "    .dataframe tbody tr th:only-of-type {\n",
              "        vertical-align: middle;\n",
              "    }\n",
              "\n",
              "    .dataframe tbody tr th {\n",
              "        vertical-align: top;\n",
              "    }\n",
              "\n",
              "    .dataframe thead th {\n",
              "        text-align: right;\n",
              "    }\n",
              "</style>\n",
              "<table border=\"1\" class=\"dataframe\">\n",
              "  <thead>\n",
              "    <tr style=\"text-align: right;\">\n",
              "      <th></th>\n",
              "      <th>track</th>\n",
              "    </tr>\n",
              "    <tr>\n",
              "      <th>genre</th>\n",
              "      <th></th>\n",
              "    </tr>\n",
              "  </thead>\n",
              "  <tbody>\n",
              "    <tr>\n",
              "      <th>pop</th>\n",
              "      <td>713</td>\n",
              "    </tr>\n",
              "    <tr>\n",
              "      <th>rock</th>\n",
              "      <td>517</td>\n",
              "    </tr>\n",
              "    <tr>\n",
              "      <th>dance</th>\n",
              "      <td>495</td>\n",
              "    </tr>\n",
              "    <tr>\n",
              "      <th>electronic</th>\n",
              "      <td>482</td>\n",
              "    </tr>\n",
              "    <tr>\n",
              "      <th>hiphop</th>\n",
              "      <td>273</td>\n",
              "    </tr>\n",
              "    <tr>\n",
              "      <th>world</th>\n",
              "      <td>208</td>\n",
              "    </tr>\n",
              "    <tr>\n",
              "      <th>ruspop</th>\n",
              "      <td>170</td>\n",
              "    </tr>\n",
              "    <tr>\n",
              "      <th>classical</th>\n",
              "      <td>163</td>\n",
              "    </tr>\n",
              "    <tr>\n",
              "      <th>alternative</th>\n",
              "      <td>163</td>\n",
              "    </tr>\n",
              "    <tr>\n",
              "      <th>rusrap</th>\n",
              "      <td>142</td>\n",
              "    </tr>\n",
              "    <tr>\n",
              "      <th>jazz</th>\n",
              "      <td>111</td>\n",
              "    </tr>\n",
              "    <tr>\n",
              "      <th>unknown</th>\n",
              "      <td>110</td>\n",
              "    </tr>\n",
              "    <tr>\n",
              "      <th>soundtrack</th>\n",
              "      <td>105</td>\n",
              "    </tr>\n",
              "    <tr>\n",
              "      <th>rnb</th>\n",
              "      <td>90</td>\n",
              "    </tr>\n",
              "    <tr>\n",
              "      <th>metal</th>\n",
              "      <td>88</td>\n",
              "    </tr>\n",
              "  </tbody>\n",
              "</table>\n",
              "</div>\n",
              "      <button class=\"colab-df-convert\" onclick=\"convertToInteractive('df-40b22a59-f6fd-40db-91c7-b85ef5457f8e')\"\n",
              "              title=\"Convert this dataframe to an interactive table.\"\n",
              "              style=\"display:none;\">\n",
              "        \n",
              "  <svg xmlns=\"http://www.w3.org/2000/svg\" height=\"24px\"viewBox=\"0 0 24 24\"\n",
              "       width=\"24px\">\n",
              "    <path d=\"M0 0h24v24H0V0z\" fill=\"none\"/>\n",
              "    <path d=\"M18.56 5.44l.94 2.06.94-2.06 2.06-.94-2.06-.94-.94-2.06-.94 2.06-2.06.94zm-11 1L8.5 8.5l.94-2.06 2.06-.94-2.06-.94L8.5 2.5l-.94 2.06-2.06.94zm10 10l.94 2.06.94-2.06 2.06-.94-2.06-.94-.94-2.06-.94 2.06-2.06.94z\"/><path d=\"M17.41 7.96l-1.37-1.37c-.4-.4-.92-.59-1.43-.59-.52 0-1.04.2-1.43.59L10.3 9.45l-7.72 7.72c-.78.78-.78 2.05 0 2.83L4 21.41c.39.39.9.59 1.41.59.51 0 1.02-.2 1.41-.59l7.78-7.78 2.81-2.81c.8-.78.8-2.07 0-2.86zM5.41 20L4 18.59l7.72-7.72 1.47 1.35L5.41 20z\"/>\n",
              "  </svg>\n",
              "      </button>\n",
              "      \n",
              "  <style>\n",
              "    .colab-df-container {\n",
              "      display:flex;\n",
              "      flex-wrap:wrap;\n",
              "      gap: 12px;\n",
              "    }\n",
              "\n",
              "    .colab-df-convert {\n",
              "      background-color: #E8F0FE;\n",
              "      border: none;\n",
              "      border-radius: 50%;\n",
              "      cursor: pointer;\n",
              "      display: none;\n",
              "      fill: #1967D2;\n",
              "      height: 32px;\n",
              "      padding: 0 0 0 0;\n",
              "      width: 32px;\n",
              "    }\n",
              "\n",
              "    .colab-df-convert:hover {\n",
              "      background-color: #E2EBFA;\n",
              "      box-shadow: 0px 1px 2px rgba(60, 64, 67, 0.3), 0px 1px 3px 1px rgba(60, 64, 67, 0.15);\n",
              "      fill: #174EA6;\n",
              "    }\n",
              "\n",
              "    [theme=dark] .colab-df-convert {\n",
              "      background-color: #3B4455;\n",
              "      fill: #D2E3FC;\n",
              "    }\n",
              "\n",
              "    [theme=dark] .colab-df-convert:hover {\n",
              "      background-color: #434B5C;\n",
              "      box-shadow: 0px 1px 3px 1px rgba(0, 0, 0, 0.15);\n",
              "      filter: drop-shadow(0px 1px 2px rgba(0, 0, 0, 0.3));\n",
              "      fill: #FFFFFF;\n",
              "    }\n",
              "  </style>\n",
              "\n",
              "      <script>\n",
              "        const buttonEl =\n",
              "          document.querySelector('#df-40b22a59-f6fd-40db-91c7-b85ef5457f8e button.colab-df-convert');\n",
              "        buttonEl.style.display =\n",
              "          google.colab.kernel.accessAllowed ? 'block' : 'none';\n",
              "\n",
              "        async function convertToInteractive(key) {\n",
              "          const element = document.querySelector('#df-40b22a59-f6fd-40db-91c7-b85ef5457f8e');\n",
              "          const dataTable =\n",
              "            await google.colab.kernel.invokeFunction('convertToInteractive',\n",
              "                                                     [key], {});\n",
              "          if (!dataTable) return;\n",
              "\n",
              "          const docLinkHtml = 'Like what you see? Visit the ' +\n",
              "            '<a target=\"_blank\" href=https://colab.research.google.com/notebooks/data_table.ipynb>data table notebook</a>'\n",
              "            + ' to learn more about interactive tables.';\n",
              "          element.innerHTML = '';\n",
              "          dataTable['output_type'] = 'display_data';\n",
              "          await google.colab.output.renderOutput(dataTable, element);\n",
              "          const docLink = document.createElement('div');\n",
              "          docLink.innerHTML = docLinkHtml;\n",
              "          element.appendChild(docLink);\n",
              "        }\n",
              "      </script>\n",
              "    </div>\n",
              "  </div>\n",
              "  "
            ]
          },
          "metadata": {},
          "execution_count": 36
        }
      ],
      "source": [
        "genre_weekday(spr_general,'Friday','17:00','23:00')\n"
      ]
    },
    {
      "cell_type": "code",
      "execution_count": 37,
      "metadata": {
        "id": "JZaEKu5v_Zcu",
        "scrolled": false,
        "colab": {
          "base_uri": "https://localhost:8080/",
          "height": 551
        },
        "outputId": "f99b5561-762e-425e-d284-2c91a1225ee2"
      },
      "outputs": [
        {
          "output_type": "execute_result",
          "data": {
            "text/plain": [
              "             track\n",
              "genre             \n",
              "pop            256\n",
              "rock           216\n",
              "electronic     216\n",
              "dance          210\n",
              "hiphop          97\n",
              "alternative     63\n",
              "jazz            61\n",
              "classical       60\n",
              "rusrap          59\n",
              "world           54\n",
              "unknown         47\n",
              "ruspop          47\n",
              "soundtrack      40\n",
              "metal           39\n",
              "rap             36"
            ],
            "text/html": [
              "\n",
              "  <div id=\"df-f6bd096f-3d62-45cf-945d-e6457ccd1ec6\">\n",
              "    <div class=\"colab-df-container\">\n",
              "      <div>\n",
              "<style scoped>\n",
              "    .dataframe tbody tr th:only-of-type {\n",
              "        vertical-align: middle;\n",
              "    }\n",
              "\n",
              "    .dataframe tbody tr th {\n",
              "        vertical-align: top;\n",
              "    }\n",
              "\n",
              "    .dataframe thead th {\n",
              "        text-align: right;\n",
              "    }\n",
              "</style>\n",
              "<table border=\"1\" class=\"dataframe\">\n",
              "  <thead>\n",
              "    <tr style=\"text-align: right;\">\n",
              "      <th></th>\n",
              "      <th>track</th>\n",
              "    </tr>\n",
              "    <tr>\n",
              "      <th>genre</th>\n",
              "      <th></th>\n",
              "    </tr>\n",
              "  </thead>\n",
              "  <tbody>\n",
              "    <tr>\n",
              "      <th>pop</th>\n",
              "      <td>256</td>\n",
              "    </tr>\n",
              "    <tr>\n",
              "      <th>rock</th>\n",
              "      <td>216</td>\n",
              "    </tr>\n",
              "    <tr>\n",
              "      <th>electronic</th>\n",
              "      <td>216</td>\n",
              "    </tr>\n",
              "    <tr>\n",
              "      <th>dance</th>\n",
              "      <td>210</td>\n",
              "    </tr>\n",
              "    <tr>\n",
              "      <th>hiphop</th>\n",
              "      <td>97</td>\n",
              "    </tr>\n",
              "    <tr>\n",
              "      <th>alternative</th>\n",
              "      <td>63</td>\n",
              "    </tr>\n",
              "    <tr>\n",
              "      <th>jazz</th>\n",
              "      <td>61</td>\n",
              "    </tr>\n",
              "    <tr>\n",
              "      <th>classical</th>\n",
              "      <td>60</td>\n",
              "    </tr>\n",
              "    <tr>\n",
              "      <th>rusrap</th>\n",
              "      <td>59</td>\n",
              "    </tr>\n",
              "    <tr>\n",
              "      <th>world</th>\n",
              "      <td>54</td>\n",
              "    </tr>\n",
              "    <tr>\n",
              "      <th>unknown</th>\n",
              "      <td>47</td>\n",
              "    </tr>\n",
              "    <tr>\n",
              "      <th>ruspop</th>\n",
              "      <td>47</td>\n",
              "    </tr>\n",
              "    <tr>\n",
              "      <th>soundtrack</th>\n",
              "      <td>40</td>\n",
              "    </tr>\n",
              "    <tr>\n",
              "      <th>metal</th>\n",
              "      <td>39</td>\n",
              "    </tr>\n",
              "    <tr>\n",
              "      <th>rap</th>\n",
              "      <td>36</td>\n",
              "    </tr>\n",
              "  </tbody>\n",
              "</table>\n",
              "</div>\n",
              "      <button class=\"colab-df-convert\" onclick=\"convertToInteractive('df-f6bd096f-3d62-45cf-945d-e6457ccd1ec6')\"\n",
              "              title=\"Convert this dataframe to an interactive table.\"\n",
              "              style=\"display:none;\">\n",
              "        \n",
              "  <svg xmlns=\"http://www.w3.org/2000/svg\" height=\"24px\"viewBox=\"0 0 24 24\"\n",
              "       width=\"24px\">\n",
              "    <path d=\"M0 0h24v24H0V0z\" fill=\"none\"/>\n",
              "    <path d=\"M18.56 5.44l.94 2.06.94-2.06 2.06-.94-2.06-.94-.94-2.06-.94 2.06-2.06.94zm-11 1L8.5 8.5l.94-2.06 2.06-.94-2.06-.94L8.5 2.5l-.94 2.06-2.06.94zm10 10l.94 2.06.94-2.06 2.06-.94-2.06-.94-.94-2.06-.94 2.06-2.06.94z\"/><path d=\"M17.41 7.96l-1.37-1.37c-.4-.4-.92-.59-1.43-.59-.52 0-1.04.2-1.43.59L10.3 9.45l-7.72 7.72c-.78.78-.78 2.05 0 2.83L4 21.41c.39.39.9.59 1.41.59.51 0 1.02-.2 1.41-.59l7.78-7.78 2.81-2.81c.8-.78.8-2.07 0-2.86zM5.41 20L4 18.59l7.72-7.72 1.47 1.35L5.41 20z\"/>\n",
              "  </svg>\n",
              "      </button>\n",
              "      \n",
              "  <style>\n",
              "    .colab-df-container {\n",
              "      display:flex;\n",
              "      flex-wrap:wrap;\n",
              "      gap: 12px;\n",
              "    }\n",
              "\n",
              "    .colab-df-convert {\n",
              "      background-color: #E8F0FE;\n",
              "      border: none;\n",
              "      border-radius: 50%;\n",
              "      cursor: pointer;\n",
              "      display: none;\n",
              "      fill: #1967D2;\n",
              "      height: 32px;\n",
              "      padding: 0 0 0 0;\n",
              "      width: 32px;\n",
              "    }\n",
              "\n",
              "    .colab-df-convert:hover {\n",
              "      background-color: #E2EBFA;\n",
              "      box-shadow: 0px 1px 2px rgba(60, 64, 67, 0.3), 0px 1px 3px 1px rgba(60, 64, 67, 0.15);\n",
              "      fill: #174EA6;\n",
              "    }\n",
              "\n",
              "    [theme=dark] .colab-df-convert {\n",
              "      background-color: #3B4455;\n",
              "      fill: #D2E3FC;\n",
              "    }\n",
              "\n",
              "    [theme=dark] .colab-df-convert:hover {\n",
              "      background-color: #434B5C;\n",
              "      box-shadow: 0px 1px 3px 1px rgba(0, 0, 0, 0.15);\n",
              "      filter: drop-shadow(0px 1px 2px rgba(0, 0, 0, 0.3));\n",
              "      fill: #FFFFFF;\n",
              "    }\n",
              "  </style>\n",
              "\n",
              "      <script>\n",
              "        const buttonEl =\n",
              "          document.querySelector('#df-f6bd096f-3d62-45cf-945d-e6457ccd1ec6 button.colab-df-convert');\n",
              "        buttonEl.style.display =\n",
              "          google.colab.kernel.accessAllowed ? 'block' : 'none';\n",
              "\n",
              "        async function convertToInteractive(key) {\n",
              "          const element = document.querySelector('#df-f6bd096f-3d62-45cf-945d-e6457ccd1ec6');\n",
              "          const dataTable =\n",
              "            await google.colab.kernel.invokeFunction('convertToInteractive',\n",
              "                                                     [key], {});\n",
              "          if (!dataTable) return;\n",
              "\n",
              "          const docLinkHtml = 'Like what you see? Visit the ' +\n",
              "            '<a target=\"_blank\" href=https://colab.research.google.com/notebooks/data_table.ipynb>data table notebook</a>'\n",
              "            + ' to learn more about interactive tables.';\n",
              "          element.innerHTML = '';\n",
              "          dataTable['output_type'] = 'display_data';\n",
              "          await google.colab.output.renderOutput(dataTable, element);\n",
              "          const docLink = document.createElement('div');\n",
              "          docLink.innerHTML = docLinkHtml;\n",
              "          element.appendChild(docLink);\n",
              "        }\n",
              "      </script>\n",
              "    </div>\n",
              "  </div>\n",
              "  "
            ]
          },
          "metadata": {},
          "execution_count": 37
        }
      ],
      "source": [
        "genre_weekday(shel_general,'Friday','17:00','23:00')\n"
      ]
    },
    {
      "cell_type": "markdown",
      "metadata": {
        "id": "wrCe4MNX_Zcu"
      },
      "source": [
        "**Kesimpulan**\n",
        "\n",
        "Setelah membandingkan 15 genre teratas pada Senin pagi, kita dapat menarik kesimpulan berikut:\n",
        "\n",
        "1. Pengguna dari Springfield dan Shelbyville mendengarkan musik dengan genre yang sama. Lima genre teratas sama, hanya rock dan elektronik yang bertukar tempat.\n",
        "\n",
        "2. Di Springfield, jumlah nilai yang hilang ternyata sangat besar sehingga nilai `'unknown'` berada di urutan ke-10. Ini berarti bahwa nilai-nilai yang hilang memiliki jumlah data yang cukup besar, yang mungkin menjadi dasar untuk mempertanyakan ketepatan kesimpulan kita.\n",
        "\n",
        "Untuk Jumat malam, situasinya serupa. Genre individu agak bervariasi, tetapi secara keseluruhan, 15 besar genre untuk kedua kota sama.\n",
        "\n",
        "Dengan demikian, hipotesis kedua sebagian terbukti benar:\n",
        "* Pengguna mendengarkan musik yang sama di awal dan akhir minggu.\n",
        "* Tidak ada perbedaan yang mencolok antara Springfield dan Shelbyville. Pada kedua kota tersebut, pop adalah genre yang paling populer.\n",
        "\n",
        "Namun, jumlah nilai yang hilang membuat hasil ini dipertanyakan. Di Springfield, ada begitu banyak yang memengaruhi 15 teratas kita. Jika kita tidak mengabaikan nilai-nilai ini, hasilnya mungkin akan berbeda."
      ]
    },
    {
      "cell_type": "markdown",
      "metadata": {
        "id": "jLmXgdanVyhP"
      },
      "source": [
        "[Kembali ke Daftar Isi](#back)"
      ]
    },
    {
      "cell_type": "markdown",
      "metadata": {
        "id": "JolODAqr_Zcu"
      },
      "source": [
        "### Hipotesis 3: Preferensi Genre di Springfield dan Shelbyville <a id='genre'></a>\n",
        "\n",
        "Hipotesis: Shelbyville menyukai musik rap. Warga Springfield lebih menyukai pop."
      ]
    },
    {
      "cell_type": "markdown",
      "metadata": {
        "id": "DlegSvaT_Zcu"
      },
      "source": [
        "Kelompokkan tabel `spr_general` berdasarkan genre dan temukan jumlah lagu yang dimainkan untuk setiap genre dengan metode `count()`. Kemudian urutkan hasilnya dalam urutan menurun dan simpan ke `spr_genres`."
      ]
    },
    {
      "cell_type": "code",
      "execution_count": 38,
      "metadata": {
        "id": "r19lIPke_Zcu"
      },
      "outputs": [],
      "source": [
        "spr_grouped_g = spr_general[['genre','track']]\n",
        "spr_grouped = spr_grouped_g.groupby('genre').count()# pada satu baris: kelompokkan tabel spr_general berdasarkan kolom 'genre',\n",
        "# hitung nilai 'genre' dengan count() dalam pengelompokan,s\n",
        "spr_genres = spr_grouped.sort_values(by='track',ascending=False)"
      ]
    },
    {
      "cell_type": "markdown",
      "metadata": {
        "id": "meiJLPC9nYqe"
      },
      "source": [
        "<div class=\"alert alert-danger\">\n",
        "<b>Reviewer's comment v1</b> <a class=\"tocSkip\"></a>\n",
        "    \n",
        "Kolom `genre` tidak dipilih setelah pengelompokan sehingga terdapat perulangan informasi seperti di sel selanjutnya\n",
        "\n",
        "</div>"
      ]
    },
    {
      "cell_type": "markdown",
      "metadata": {
        "id": "yHFogx9nnYqe"
      },
      "source": [
        "<div class=\"alert alert-warning\">\n",
        "<b>Reviewer's comment v2</b> <a class=\"tocSkip\"></a>\n",
        "\n",
        "Perulangan dari sebelumnya, ini akan lebih baik jika pemilihan kolom dilakukan setelah pengelompokan seperti ini dengan tujuan agar kolom city tidak berperan sebagai index seperti hasil diatas.\n",
        "    \n",
        "    spr_general.groupby('genre')['track'].count()\n",
        "\n",
        "</div>"
      ]
    },
    {
      "cell_type": "markdown",
      "metadata": {
        "id": "6kMuomxTiIr8"
      },
      "source": [
        "Tampilkan 10 baris pertama dari `spr_genres`:"
      ]
    },
    {
      "cell_type": "code",
      "execution_count": 39,
      "metadata": {
        "id": "WhCSooF8_Zcv",
        "scrolled": true,
        "colab": {
          "base_uri": "https://localhost:8080/",
          "height": 394
        },
        "outputId": "f2aa6e2e-54d2-483c-f884-99c9d8be9950"
      },
      "outputs": [
        {
          "output_type": "execute_result",
          "data": {
            "text/plain": [
              "             track\n",
              "genre             \n",
              "pop           5892\n",
              "dance         4435\n",
              "rock          3965\n",
              "electronic    3786\n",
              "hiphop        2096\n",
              "classical     1616\n",
              "world         1432\n",
              "alternative   1379\n",
              "ruspop        1372\n",
              "rusrap        1161"
            ],
            "text/html": [
              "\n",
              "  <div id=\"df-a539ccfc-676b-4f4c-befd-aa8312edc4e2\">\n",
              "    <div class=\"colab-df-container\">\n",
              "      <div>\n",
              "<style scoped>\n",
              "    .dataframe tbody tr th:only-of-type {\n",
              "        vertical-align: middle;\n",
              "    }\n",
              "\n",
              "    .dataframe tbody tr th {\n",
              "        vertical-align: top;\n",
              "    }\n",
              "\n",
              "    .dataframe thead th {\n",
              "        text-align: right;\n",
              "    }\n",
              "</style>\n",
              "<table border=\"1\" class=\"dataframe\">\n",
              "  <thead>\n",
              "    <tr style=\"text-align: right;\">\n",
              "      <th></th>\n",
              "      <th>track</th>\n",
              "    </tr>\n",
              "    <tr>\n",
              "      <th>genre</th>\n",
              "      <th></th>\n",
              "    </tr>\n",
              "  </thead>\n",
              "  <tbody>\n",
              "    <tr>\n",
              "      <th>pop</th>\n",
              "      <td>5892</td>\n",
              "    </tr>\n",
              "    <tr>\n",
              "      <th>dance</th>\n",
              "      <td>4435</td>\n",
              "    </tr>\n",
              "    <tr>\n",
              "      <th>rock</th>\n",
              "      <td>3965</td>\n",
              "    </tr>\n",
              "    <tr>\n",
              "      <th>electronic</th>\n",
              "      <td>3786</td>\n",
              "    </tr>\n",
              "    <tr>\n",
              "      <th>hiphop</th>\n",
              "      <td>2096</td>\n",
              "    </tr>\n",
              "    <tr>\n",
              "      <th>classical</th>\n",
              "      <td>1616</td>\n",
              "    </tr>\n",
              "    <tr>\n",
              "      <th>world</th>\n",
              "      <td>1432</td>\n",
              "    </tr>\n",
              "    <tr>\n",
              "      <th>alternative</th>\n",
              "      <td>1379</td>\n",
              "    </tr>\n",
              "    <tr>\n",
              "      <th>ruspop</th>\n",
              "      <td>1372</td>\n",
              "    </tr>\n",
              "    <tr>\n",
              "      <th>rusrap</th>\n",
              "      <td>1161</td>\n",
              "    </tr>\n",
              "  </tbody>\n",
              "</table>\n",
              "</div>\n",
              "      <button class=\"colab-df-convert\" onclick=\"convertToInteractive('df-a539ccfc-676b-4f4c-befd-aa8312edc4e2')\"\n",
              "              title=\"Convert this dataframe to an interactive table.\"\n",
              "              style=\"display:none;\">\n",
              "        \n",
              "  <svg xmlns=\"http://www.w3.org/2000/svg\" height=\"24px\"viewBox=\"0 0 24 24\"\n",
              "       width=\"24px\">\n",
              "    <path d=\"M0 0h24v24H0V0z\" fill=\"none\"/>\n",
              "    <path d=\"M18.56 5.44l.94 2.06.94-2.06 2.06-.94-2.06-.94-.94-2.06-.94 2.06-2.06.94zm-11 1L8.5 8.5l.94-2.06 2.06-.94-2.06-.94L8.5 2.5l-.94 2.06-2.06.94zm10 10l.94 2.06.94-2.06 2.06-.94-2.06-.94-.94-2.06-.94 2.06-2.06.94z\"/><path d=\"M17.41 7.96l-1.37-1.37c-.4-.4-.92-.59-1.43-.59-.52 0-1.04.2-1.43.59L10.3 9.45l-7.72 7.72c-.78.78-.78 2.05 0 2.83L4 21.41c.39.39.9.59 1.41.59.51 0 1.02-.2 1.41-.59l7.78-7.78 2.81-2.81c.8-.78.8-2.07 0-2.86zM5.41 20L4 18.59l7.72-7.72 1.47 1.35L5.41 20z\"/>\n",
              "  </svg>\n",
              "      </button>\n",
              "      \n",
              "  <style>\n",
              "    .colab-df-container {\n",
              "      display:flex;\n",
              "      flex-wrap:wrap;\n",
              "      gap: 12px;\n",
              "    }\n",
              "\n",
              "    .colab-df-convert {\n",
              "      background-color: #E8F0FE;\n",
              "      border: none;\n",
              "      border-radius: 50%;\n",
              "      cursor: pointer;\n",
              "      display: none;\n",
              "      fill: #1967D2;\n",
              "      height: 32px;\n",
              "      padding: 0 0 0 0;\n",
              "      width: 32px;\n",
              "    }\n",
              "\n",
              "    .colab-df-convert:hover {\n",
              "      background-color: #E2EBFA;\n",
              "      box-shadow: 0px 1px 2px rgba(60, 64, 67, 0.3), 0px 1px 3px 1px rgba(60, 64, 67, 0.15);\n",
              "      fill: #174EA6;\n",
              "    }\n",
              "\n",
              "    [theme=dark] .colab-df-convert {\n",
              "      background-color: #3B4455;\n",
              "      fill: #D2E3FC;\n",
              "    }\n",
              "\n",
              "    [theme=dark] .colab-df-convert:hover {\n",
              "      background-color: #434B5C;\n",
              "      box-shadow: 0px 1px 3px 1px rgba(0, 0, 0, 0.15);\n",
              "      filter: drop-shadow(0px 1px 2px rgba(0, 0, 0, 0.3));\n",
              "      fill: #FFFFFF;\n",
              "    }\n",
              "  </style>\n",
              "\n",
              "      <script>\n",
              "        const buttonEl =\n",
              "          document.querySelector('#df-a539ccfc-676b-4f4c-befd-aa8312edc4e2 button.colab-df-convert');\n",
              "        buttonEl.style.display =\n",
              "          google.colab.kernel.accessAllowed ? 'block' : 'none';\n",
              "\n",
              "        async function convertToInteractive(key) {\n",
              "          const element = document.querySelector('#df-a539ccfc-676b-4f4c-befd-aa8312edc4e2');\n",
              "          const dataTable =\n",
              "            await google.colab.kernel.invokeFunction('convertToInteractive',\n",
              "                                                     [key], {});\n",
              "          if (!dataTable) return;\n",
              "\n",
              "          const docLinkHtml = 'Like what you see? Visit the ' +\n",
              "            '<a target=\"_blank\" href=https://colab.research.google.com/notebooks/data_table.ipynb>data table notebook</a>'\n",
              "            + ' to learn more about interactive tables.';\n",
              "          element.innerHTML = '';\n",
              "          dataTable['output_type'] = 'display_data';\n",
              "          await google.colab.output.renderOutput(dataTable, element);\n",
              "          const docLink = document.createElement('div');\n",
              "          docLink.innerHTML = docLinkHtml;\n",
              "          element.appendChild(docLink);\n",
              "        }\n",
              "      </script>\n",
              "    </div>\n",
              "  </div>\n",
              "  "
            ]
          },
          "metadata": {},
          "execution_count": 39
        }
      ],
      "source": [
        "spr_genres.head(10)"
      ]
    },
    {
      "cell_type": "markdown",
      "metadata": {
        "id": "cnPG2vnN_Zcv"
      },
      "source": [
        "Sekarang lakukan hal yang sama pada data di Shelbyville.\n",
        "\n",
        "Kelompokkan tabel `shel_general` berdasarkan genre dan temukan jumlah lagu yang dimainkan untuk setiap genre. Kemudian urutkan hasilnya dalam urutan menurun dan simpan ke tabel `shel_genres`:"
      ]
    },
    {
      "cell_type": "code",
      "execution_count": 40,
      "metadata": {
        "id": "gluLIpE7_Zcv"
      },
      "outputs": [],
      "source": [
        "#shel_grouped = shel_general.groupby('genre').count()# pada satu baris: kelompokkan tabel spr_general berdasarkan kolom 'genre',\n",
        "# hitung nilai 'genre' dengan count() dalam pengelompokan,\n",
        "shel_grouped_g = shel_general[['genre','track']]\n",
        "shel_grouped = shel_grouped_g.groupby('genre').count()\n",
        "shel_genres = shel_grouped.sort_values(by = 'track', ascending = False)\n"
      ]
    },
    {
      "cell_type": "markdown",
      "metadata": {
        "id": "5Doha_ODgyQ8"
      },
      "source": [
        "Tampilkan 10 baris pertama dari `shel_genres`:"
      ]
    },
    {
      "cell_type": "code",
      "execution_count": 41,
      "metadata": {
        "id": "uaGJHjVU_Zcv",
        "colab": {
          "base_uri": "https://localhost:8080/",
          "height": 394
        },
        "outputId": "35babe24-945e-457e-e3d0-80d4ae0338cd"
      },
      "outputs": [
        {
          "output_type": "execute_result",
          "data": {
            "text/plain": [
              "             track\n",
              "genre             \n",
              "pop           2431\n",
              "dance         1932\n",
              "rock          1879\n",
              "electronic    1736\n",
              "hiphop         960\n",
              "alternative    649\n",
              "classical      646\n",
              "rusrap         564\n",
              "ruspop         538\n",
              "world          515"
            ],
            "text/html": [
              "\n",
              "  <div id=\"df-ac26be37-ace9-496d-b1bb-34ddce7512da\">\n",
              "    <div class=\"colab-df-container\">\n",
              "      <div>\n",
              "<style scoped>\n",
              "    .dataframe tbody tr th:only-of-type {\n",
              "        vertical-align: middle;\n",
              "    }\n",
              "\n",
              "    .dataframe tbody tr th {\n",
              "        vertical-align: top;\n",
              "    }\n",
              "\n",
              "    .dataframe thead th {\n",
              "        text-align: right;\n",
              "    }\n",
              "</style>\n",
              "<table border=\"1\" class=\"dataframe\">\n",
              "  <thead>\n",
              "    <tr style=\"text-align: right;\">\n",
              "      <th></th>\n",
              "      <th>track</th>\n",
              "    </tr>\n",
              "    <tr>\n",
              "      <th>genre</th>\n",
              "      <th></th>\n",
              "    </tr>\n",
              "  </thead>\n",
              "  <tbody>\n",
              "    <tr>\n",
              "      <th>pop</th>\n",
              "      <td>2431</td>\n",
              "    </tr>\n",
              "    <tr>\n",
              "      <th>dance</th>\n",
              "      <td>1932</td>\n",
              "    </tr>\n",
              "    <tr>\n",
              "      <th>rock</th>\n",
              "      <td>1879</td>\n",
              "    </tr>\n",
              "    <tr>\n",
              "      <th>electronic</th>\n",
              "      <td>1736</td>\n",
              "    </tr>\n",
              "    <tr>\n",
              "      <th>hiphop</th>\n",
              "      <td>960</td>\n",
              "    </tr>\n",
              "    <tr>\n",
              "      <th>alternative</th>\n",
              "      <td>649</td>\n",
              "    </tr>\n",
              "    <tr>\n",
              "      <th>classical</th>\n",
              "      <td>646</td>\n",
              "    </tr>\n",
              "    <tr>\n",
              "      <th>rusrap</th>\n",
              "      <td>564</td>\n",
              "    </tr>\n",
              "    <tr>\n",
              "      <th>ruspop</th>\n",
              "      <td>538</td>\n",
              "    </tr>\n",
              "    <tr>\n",
              "      <th>world</th>\n",
              "      <td>515</td>\n",
              "    </tr>\n",
              "  </tbody>\n",
              "</table>\n",
              "</div>\n",
              "      <button class=\"colab-df-convert\" onclick=\"convertToInteractive('df-ac26be37-ace9-496d-b1bb-34ddce7512da')\"\n",
              "              title=\"Convert this dataframe to an interactive table.\"\n",
              "              style=\"display:none;\">\n",
              "        \n",
              "  <svg xmlns=\"http://www.w3.org/2000/svg\" height=\"24px\"viewBox=\"0 0 24 24\"\n",
              "       width=\"24px\">\n",
              "    <path d=\"M0 0h24v24H0V0z\" fill=\"none\"/>\n",
              "    <path d=\"M18.56 5.44l.94 2.06.94-2.06 2.06-.94-2.06-.94-.94-2.06-.94 2.06-2.06.94zm-11 1L8.5 8.5l.94-2.06 2.06-.94-2.06-.94L8.5 2.5l-.94 2.06-2.06.94zm10 10l.94 2.06.94-2.06 2.06-.94-2.06-.94-.94-2.06-.94 2.06-2.06.94z\"/><path d=\"M17.41 7.96l-1.37-1.37c-.4-.4-.92-.59-1.43-.59-.52 0-1.04.2-1.43.59L10.3 9.45l-7.72 7.72c-.78.78-.78 2.05 0 2.83L4 21.41c.39.39.9.59 1.41.59.51 0 1.02-.2 1.41-.59l7.78-7.78 2.81-2.81c.8-.78.8-2.07 0-2.86zM5.41 20L4 18.59l7.72-7.72 1.47 1.35L5.41 20z\"/>\n",
              "  </svg>\n",
              "      </button>\n",
              "      \n",
              "  <style>\n",
              "    .colab-df-container {\n",
              "      display:flex;\n",
              "      flex-wrap:wrap;\n",
              "      gap: 12px;\n",
              "    }\n",
              "\n",
              "    .colab-df-convert {\n",
              "      background-color: #E8F0FE;\n",
              "      border: none;\n",
              "      border-radius: 50%;\n",
              "      cursor: pointer;\n",
              "      display: none;\n",
              "      fill: #1967D2;\n",
              "      height: 32px;\n",
              "      padding: 0 0 0 0;\n",
              "      width: 32px;\n",
              "    }\n",
              "\n",
              "    .colab-df-convert:hover {\n",
              "      background-color: #E2EBFA;\n",
              "      box-shadow: 0px 1px 2px rgba(60, 64, 67, 0.3), 0px 1px 3px 1px rgba(60, 64, 67, 0.15);\n",
              "      fill: #174EA6;\n",
              "    }\n",
              "\n",
              "    [theme=dark] .colab-df-convert {\n",
              "      background-color: #3B4455;\n",
              "      fill: #D2E3FC;\n",
              "    }\n",
              "\n",
              "    [theme=dark] .colab-df-convert:hover {\n",
              "      background-color: #434B5C;\n",
              "      box-shadow: 0px 1px 3px 1px rgba(0, 0, 0, 0.15);\n",
              "      filter: drop-shadow(0px 1px 2px rgba(0, 0, 0, 0.3));\n",
              "      fill: #FFFFFF;\n",
              "    }\n",
              "  </style>\n",
              "\n",
              "      <script>\n",
              "        const buttonEl =\n",
              "          document.querySelector('#df-ac26be37-ace9-496d-b1bb-34ddce7512da button.colab-df-convert');\n",
              "        buttonEl.style.display =\n",
              "          google.colab.kernel.accessAllowed ? 'block' : 'none';\n",
              "\n",
              "        async function convertToInteractive(key) {\n",
              "          const element = document.querySelector('#df-ac26be37-ace9-496d-b1bb-34ddce7512da');\n",
              "          const dataTable =\n",
              "            await google.colab.kernel.invokeFunction('convertToInteractive',\n",
              "                                                     [key], {});\n",
              "          if (!dataTable) return;\n",
              "\n",
              "          const docLinkHtml = 'Like what you see? Visit the ' +\n",
              "            '<a target=\"_blank\" href=https://colab.research.google.com/notebooks/data_table.ipynb>data table notebook</a>'\n",
              "            + ' to learn more about interactive tables.';\n",
              "          element.innerHTML = '';\n",
              "          dataTable['output_type'] = 'display_data';\n",
              "          await google.colab.output.renderOutput(dataTable, element);\n",
              "          const docLink = document.createElement('div');\n",
              "          docLink.innerHTML = docLinkHtml;\n",
              "          element.appendChild(docLink);\n",
              "        }\n",
              "      </script>\n",
              "    </div>\n",
              "  </div>\n",
              "  "
            ]
          },
          "metadata": {},
          "execution_count": 41
        }
      ],
      "source": [
        "shel_genres.head(10)"
      ]
    },
    {
      "cell_type": "markdown",
      "metadata": {
        "id": "RY51YJYu_Zcv"
      },
      "source": [
        "**Kesimpulan**"
      ]
    },
    {
      "cell_type": "markdown",
      "metadata": {
        "id": "nVhnJEm__Zcv"
      },
      "source": [
        "Hipotesis terbukti benar sebagian:\n",
        "* Musik pop adalah genre paling populer di Springfield, seperti yang diharapkan.\n",
        "* Namun, musik pop ternyata sama populernya baik di Springfield maupun di Shelbyville, dan musik rap tidak berada di 5 besar untuk kedua kota tersebut.\n"
      ]
    },
    {
      "cell_type": "markdown",
      "metadata": {
        "id": "Byr0RfpPVz14"
      },
      "source": [
        "[Kembali ke Daftar Isi](#back)"
      ]
    },
    {
      "cell_type": "markdown",
      "metadata": {
        "id": "ykKQ0N65_Zcv"
      },
      "source": [
        "# Temuan <a id='end'></a>"
      ]
    },
    {
      "cell_type": "markdown",
      "metadata": {
        "id": "tjUwbHb3_Zcv"
      },
      "source": [
        "Kita telah menguji tiga hipotesis berikut:\n",
        "\n",
        "1. Aktivitas pengguna berbeda-beda tergantung pada hari dan kotanya.\n",
        "2. Pada senin pagi, penduduk Springfield dan Shelbyville mendengarkan genre yang berbeda. Hal ini juga ini juga berlaku untuk Jumat malam.\n",
        "3. Pendengar di Springfield dan Shelbyville memiliki preferensi yang berbeda. Baik Springfield maupun di Shelbyville, mereka lebih suka musik pop.\n",
        "\n",
        "Setelah menganalisis data, kita dapat menyimpulkan:\n",
        "\n",
        "1. Aktivitas pengguna di Springfield dan Shelbyville bergantung pada harinya, walaupun kotanya berbeda.\n",
        "\n",
        "Hipotesis pertama dapat diterima sepenuhnya.\n",
        "\n",
        "2. Preferensi musik tidak terlalu berbeda selama seminggu di Springfield dan Shelbyville. Kita dapat melihat perbedaan kecil dalam urutan pada hari Senin, tetapi:\n",
        "* Baik di Springfield maupun di Shelbyville, orang paling banyak mendengarkan musik pop.\n",
        "\n",
        "Jadi hipotesis ini tidak dapat kita terima. Kita juga harus ingat bahwa hasilnya bisa berbeda jika bukan karena nilai yang hilang.\n",
        "\n",
        "3. Ternyata preferensi musik pengguna dari Springfield dan Shelbyville sangat mirip.\n",
        "\n",
        "Hipotesis ketiga ditolak. Jika ada perbedaan preferensi, tidak dapat dilihat dari data ini."
      ]
    },
    {
      "cell_type": "markdown",
      "metadata": {
        "id": "Ju4AHDSgV1FE"
      },
      "source": [
        "[Kembali ke Daftar Isi](#back)"
      ]
    }
  ],
  "metadata": {
    "ExecuteTimeLog": [
      {
        "duration": 638,
        "start_time": "2022-07-31T07:42:24.693Z"
      },
      {
        "duration": 165,
        "start_time": "2022-07-31T07:42:31.640Z"
      },
      {
        "duration": 16,
        "start_time": "2022-07-31T07:44:00.907Z"
      },
      {
        "duration": 74,
        "start_time": "2022-07-31T07:50:29.846Z"
      },
      {
        "duration": 13,
        "start_time": "2022-07-31T07:50:40.881Z"
      },
      {
        "duration": 140,
        "start_time": "2022-07-31T07:51:00.904Z"
      },
      {
        "duration": 3,
        "start_time": "2022-07-31T07:51:14.836Z"
      },
      {
        "duration": 387,
        "start_time": "2022-07-31T07:51:26.277Z"
      },
      {
        "duration": 152,
        "start_time": "2022-07-31T07:51:29.615Z"
      },
      {
        "duration": 27,
        "start_time": "2022-07-31T07:51:32.899Z"
      },
      {
        "duration": 156,
        "start_time": "2022-07-31T07:51:35.941Z"
      },
      {
        "duration": 4,
        "start_time": "2022-07-31T08:18:59.639Z"
      },
      {
        "duration": 117,
        "start_time": "2022-07-31T08:22:22.567Z"
      },
      {
        "duration": 11,
        "start_time": "2022-07-31T08:22:45.009Z"
      },
      {
        "duration": 4,
        "start_time": "2022-07-31T08:23:04.632Z"
      },
      {
        "duration": 23,
        "start_time": "2022-07-31T08:25:08.439Z"
      },
      {
        "duration": 75,
        "start_time": "2022-07-31T08:31:44.971Z"
      },
      {
        "duration": 21,
        "start_time": "2022-07-31T08:31:52.294Z"
      },
      {
        "duration": 21,
        "start_time": "2022-07-31T08:32:10.135Z"
      },
      {
        "duration": 76,
        "start_time": "2022-07-31T08:33:28.737Z"
      },
      {
        "duration": 88,
        "start_time": "2022-07-31T08:35:20.305Z"
      },
      {
        "duration": 65,
        "start_time": "2022-07-31T08:35:55.937Z"
      },
      {
        "duration": 78,
        "start_time": "2022-07-31T08:36:00.523Z"
      },
      {
        "duration": 75,
        "start_time": "2022-07-31T08:36:21.601Z"
      },
      {
        "duration": 78,
        "start_time": "2022-07-31T08:37:08.744Z"
      },
      {
        "duration": 52,
        "start_time": "2022-07-31T08:37:13.597Z"
      },
      {
        "duration": 10,
        "start_time": "2022-07-31T08:38:20.997Z"
      },
      {
        "duration": 4,
        "start_time": "2022-07-31T08:38:25.338Z"
      },
      {
        "duration": 12,
        "start_time": "2022-07-31T08:38:42.298Z"
      },
      {
        "duration": 4,
        "start_time": "2022-07-31T08:38:44.511Z"
      },
      {
        "duration": 7,
        "start_time": "2022-07-31T08:41:44.700Z"
      },
      {
        "duration": 19,
        "start_time": "2022-07-31T08:49:20.067Z"
      },
      {
        "duration": 9,
        "start_time": "2022-07-31T08:49:41.931Z"
      },
      {
        "duration": 7,
        "start_time": "2022-07-31T08:50:10.929Z"
      },
      {
        "duration": 3,
        "start_time": "2022-07-31T08:50:55.717Z"
      },
      {
        "duration": 8,
        "start_time": "2022-07-31T08:52:15.122Z"
      },
      {
        "duration": 11,
        "start_time": "2022-07-31T08:52:20.454Z"
      },
      {
        "duration": 24,
        "start_time": "2022-07-31T08:52:39.033Z"
      },
      {
        "duration": 7,
        "start_time": "2022-07-31T08:52:43.661Z"
      },
      {
        "duration": 19,
        "start_time": "2022-07-31T08:53:37.242Z"
      },
      {
        "duration": 7,
        "start_time": "2022-07-31T08:53:39.518Z"
      },
      {
        "duration": 3,
        "start_time": "2022-07-31T08:55:20.758Z"
      },
      {
        "duration": 9,
        "start_time": "2022-07-31T08:55:23.057Z"
      },
      {
        "duration": 12,
        "start_time": "2022-07-31T08:55:24.880Z"
      },
      {
        "duration": 8,
        "start_time": "2022-07-31T08:56:29.297Z"
      },
      {
        "duration": 14,
        "start_time": "2022-07-31T08:58:23.034Z"
      },
      {
        "duration": 17,
        "start_time": "2022-07-31T08:58:29.362Z"
      },
      {
        "duration": 10,
        "start_time": "2022-07-31T08:58:40.819Z"
      },
      {
        "duration": 4,
        "start_time": "2022-07-31T09:00:12.421Z"
      },
      {
        "duration": 7,
        "start_time": "2022-07-31T09:00:27.400Z"
      },
      {
        "duration": 5,
        "start_time": "2022-07-31T09:00:35.899Z"
      },
      {
        "duration": 1009,
        "start_time": "2022-07-31T09:08:54.193Z"
      },
      {
        "duration": 92,
        "start_time": "2022-07-31T09:09:48.892Z"
      },
      {
        "duration": 1048,
        "start_time": "2022-07-31T09:09:57.368Z"
      },
      {
        "duration": 9,
        "start_time": "2022-07-31T09:11:21.119Z"
      },
      {
        "duration": 67,
        "start_time": "2022-07-31T13:59:15.762Z"
      },
      {
        "duration": 424,
        "start_time": "2022-07-31T13:59:29.675Z"
      },
      {
        "duration": 920,
        "start_time": "2022-07-31T13:59:32.431Z"
      },
      {
        "duration": 18,
        "start_time": "2022-07-31T13:59:35.278Z"
      },
      {
        "duration": 139,
        "start_time": "2022-07-31T13:59:43.086Z"
      },
      {
        "duration": 4,
        "start_time": "2022-07-31T13:59:55.982Z"
      },
      {
        "duration": 12,
        "start_time": "2022-07-31T13:59:58.864Z"
      },
      {
        "duration": 9,
        "start_time": "2022-07-31T14:00:02.114Z"
      },
      {
        "duration": 23,
        "start_time": "2022-07-31T14:00:13.626Z"
      },
      {
        "duration": 20,
        "start_time": "2022-07-31T14:00:17.167Z"
      },
      {
        "duration": 27,
        "start_time": "2022-07-31T14:00:19.242Z"
      },
      {
        "duration": 69,
        "start_time": "2022-07-31T14:00:22.317Z"
      },
      {
        "duration": 119,
        "start_time": "2022-07-31T14:00:24.722Z"
      },
      {
        "duration": 102,
        "start_time": "2022-07-31T14:00:26.634Z"
      },
      {
        "duration": 8,
        "start_time": "2022-07-31T14:00:32.228Z"
      },
      {
        "duration": 6,
        "start_time": "2022-07-31T14:00:36.525Z"
      },
      {
        "duration": 10,
        "start_time": "2022-07-31T14:00:38.260Z"
      },
      {
        "duration": 7,
        "start_time": "2022-07-31T14:00:40.752Z"
      },
      {
        "duration": 17,
        "start_time": "2022-07-31T14:00:47.092Z"
      },
      {
        "duration": 5,
        "start_time": "2022-07-31T14:01:18.433Z"
      },
      {
        "duration": 28,
        "start_time": "2022-07-31T14:01:54.080Z"
      },
      {
        "duration": 56,
        "start_time": "2022-07-31T14:08:22.080Z"
      },
      {
        "duration": 50,
        "start_time": "2022-07-31T14:15:37.061Z"
      },
      {
        "duration": 418,
        "start_time": "2022-08-01T12:45:08.022Z"
      },
      {
        "duration": 215,
        "start_time": "2022-08-01T12:45:09.754Z"
      },
      {
        "duration": 18,
        "start_time": "2022-08-01T12:45:12.170Z"
      },
      {
        "duration": 116,
        "start_time": "2022-08-01T12:45:15.556Z"
      },
      {
        "duration": 4,
        "start_time": "2022-08-01T12:45:22.504Z"
      },
      {
        "duration": 11,
        "start_time": "2022-08-01T12:45:33.502Z"
      },
      {
        "duration": 4,
        "start_time": "2022-08-01T12:45:34.821Z"
      },
      {
        "duration": 20,
        "start_time": "2022-08-01T12:45:36.301Z"
      },
      {
        "duration": 26,
        "start_time": "2022-08-01T12:45:37.962Z"
      },
      {
        "duration": 37,
        "start_time": "2022-08-01T12:45:39.217Z"
      },
      {
        "duration": 60,
        "start_time": "2022-08-01T12:45:42.232Z"
      },
      {
        "duration": 75,
        "start_time": "2022-08-01T12:45:43.711Z"
      },
      {
        "duration": 56,
        "start_time": "2022-08-01T12:45:44.807Z"
      },
      {
        "duration": 9,
        "start_time": "2022-08-01T12:45:51.424Z"
      },
      {
        "duration": 88,
        "start_time": "2022-08-01T12:46:37.910Z"
      },
      {
        "duration": 10,
        "start_time": "2022-08-01T12:46:44.414Z"
      },
      {
        "duration": 3,
        "start_time": "2022-08-01T12:47:25.625Z"
      },
      {
        "duration": 9,
        "start_time": "2022-08-01T12:47:33.113Z"
      },
      {
        "duration": 11,
        "start_time": "2022-08-01T12:47:35.927Z"
      },
      {
        "duration": 28,
        "start_time": "2022-08-01T12:47:50.126Z"
      },
      {
        "duration": 27,
        "start_time": "2022-08-01T12:47:55.502Z"
      },
      {
        "duration": 53,
        "start_time": "2022-08-01T13:02:02.739Z"
      },
      {
        "duration": 4,
        "start_time": "2022-08-01T13:03:52.519Z"
      },
      {
        "duration": 1491,
        "start_time": "2022-08-01T13:05:17.538Z"
      },
      {
        "duration": 4,
        "start_time": "2022-08-01T13:05:51.334Z"
      },
      {
        "duration": 6,
        "start_time": "2022-08-01T13:05:56.210Z"
      },
      {
        "duration": 4,
        "start_time": "2022-08-01T13:06:12.642Z"
      },
      {
        "duration": 939,
        "start_time": "2022-08-01T13:06:14.766Z"
      },
      {
        "duration": 61,
        "start_time": "2022-08-01T13:24:51.629Z"
      },
      {
        "duration": 52,
        "start_time": "2022-08-01T13:27:03.318Z"
      },
      {
        "duration": 2,
        "start_time": "2022-08-01T13:27:39.706Z"
      },
      {
        "duration": 8,
        "start_time": "2022-08-01T13:27:46.774Z"
      },
      {
        "duration": 2,
        "start_time": "2022-08-01T13:29:45.746Z"
      },
      {
        "duration": 8,
        "start_time": "2022-08-01T13:29:49.726Z"
      },
      {
        "duration": 4,
        "start_time": "2022-08-01T13:31:12.559Z"
      },
      {
        "duration": 11,
        "start_time": "2022-08-01T13:31:15.741Z"
      },
      {
        "duration": 4,
        "start_time": "2022-08-01T13:34:35.302Z"
      },
      {
        "duration": 18,
        "start_time": "2022-08-01T13:34:39.372Z"
      },
      {
        "duration": 3,
        "start_time": "2022-08-01T13:35:05.462Z"
      },
      {
        "duration": 12,
        "start_time": "2022-08-01T13:35:08.269Z"
      },
      {
        "duration": 3,
        "start_time": "2022-08-01T13:36:06.933Z"
      },
      {
        "duration": 6,
        "start_time": "2022-08-01T13:36:10.618Z"
      },
      {
        "duration": 577,
        "start_time": "2022-08-01T13:36:21.946Z"
      },
      {
        "duration": 3,
        "start_time": "2022-08-01T13:36:59.450Z"
      },
      {
        "duration": 16,
        "start_time": "2022-08-01T13:37:10.574Z"
      },
      {
        "duration": 3,
        "start_time": "2022-08-01T13:38:41.238Z"
      },
      {
        "duration": 840,
        "start_time": "2022-08-01T13:38:44.610Z"
      },
      {
        "duration": 3,
        "start_time": "2022-08-01T13:39:17.946Z"
      },
      {
        "duration": 1016,
        "start_time": "2022-08-01T13:39:20.030Z"
      },
      {
        "duration": 3,
        "start_time": "2022-08-01T13:40:08.894Z"
      },
      {
        "duration": 14,
        "start_time": "2022-08-01T13:40:11.356Z"
      },
      {
        "duration": 3,
        "start_time": "2022-08-01T13:41:12.006Z"
      },
      {
        "duration": 12,
        "start_time": "2022-08-01T13:41:17.542Z"
      },
      {
        "duration": 10,
        "start_time": "2022-08-01T13:42:15.338Z"
      },
      {
        "duration": 11,
        "start_time": "2022-08-01T13:42:54.167Z"
      },
      {
        "duration": 10,
        "start_time": "2022-08-01T13:43:00.258Z"
      },
      {
        "duration": 11,
        "start_time": "2022-08-01T13:43:24.010Z"
      },
      {
        "duration": 14,
        "start_time": "2022-08-01T13:43:55.526Z"
      },
      {
        "duration": 11,
        "start_time": "2022-08-01T13:44:13.354Z"
      },
      {
        "duration": 256,
        "start_time": "2022-08-01T13:45:09.260Z"
      },
      {
        "duration": 46,
        "start_time": "2022-08-01T13:45:25.398Z"
      },
      {
        "duration": 16,
        "start_time": "2022-08-01T13:45:53.159Z"
      },
      {
        "duration": 13,
        "start_time": "2022-08-01T13:46:43.410Z"
      },
      {
        "duration": 3,
        "start_time": "2022-08-01T13:46:50.898Z"
      },
      {
        "duration": 21,
        "start_time": "2022-08-01T13:46:52.534Z"
      },
      {
        "duration": 15,
        "start_time": "2022-08-01T13:47:18.597Z"
      },
      {
        "duration": 15,
        "start_time": "2022-08-01T13:47:34.863Z"
      },
      {
        "duration": 13,
        "start_time": "2022-08-01T13:47:53.202Z"
      },
      {
        "duration": 15,
        "start_time": "2022-08-01T13:48:15.757Z"
      },
      {
        "duration": 15,
        "start_time": "2022-08-01T13:48:28.153Z"
      },
      {
        "duration": 3,
        "start_time": "2022-08-01T13:50:20.010Z"
      },
      {
        "duration": 225,
        "start_time": "2022-08-01T13:50:20.929Z"
      },
      {
        "duration": 3,
        "start_time": "2022-08-01T13:50:30.845Z"
      },
      {
        "duration": 16,
        "start_time": "2022-08-01T13:50:32.410Z"
      },
      {
        "duration": 8,
        "start_time": "2022-08-01T14:15:16.281Z"
      },
      {
        "duration": 7,
        "start_time": "2022-08-01T14:18:18.126Z"
      },
      {
        "duration": 4,
        "start_time": "2022-08-01T14:18:34.035Z"
      },
      {
        "duration": 4,
        "start_time": "2022-08-01T14:21:51.434Z"
      },
      {
        "duration": 7,
        "start_time": "2022-08-01T14:28:59.246Z"
      },
      {
        "duration": 7,
        "start_time": "2022-08-01T14:29:14.541Z"
      },
      {
        "duration": 7,
        "start_time": "2022-08-01T14:29:22.822Z"
      },
      {
        "duration": 7,
        "start_time": "2022-08-01T14:29:25.906Z"
      },
      {
        "duration": 4,
        "start_time": "2022-08-01T14:30:01.182Z"
      },
      {
        "duration": 3,
        "start_time": "2022-08-01T14:31:23.426Z"
      },
      {
        "duration": 5,
        "start_time": "2022-08-01T14:31:43.019Z"
      },
      {
        "duration": 4,
        "start_time": "2022-08-01T14:33:09.306Z"
      },
      {
        "duration": 4,
        "start_time": "2022-08-01T14:33:24.659Z"
      },
      {
        "duration": 5,
        "start_time": "2022-08-01T14:33:52.790Z"
      },
      {
        "duration": 8,
        "start_time": "2022-08-01T14:35:28.679Z"
      },
      {
        "duration": 8,
        "start_time": "2022-08-01T14:36:01.785Z"
      },
      {
        "duration": 7,
        "start_time": "2022-08-01T14:38:55.756Z"
      },
      {
        "duration": 7,
        "start_time": "2022-08-01T14:39:38.514Z"
      },
      {
        "duration": 7,
        "start_time": "2022-08-01T14:40:02.347Z"
      },
      {
        "duration": 7,
        "start_time": "2022-08-01T14:40:41.414Z"
      },
      {
        "duration": 8,
        "start_time": "2022-08-01T14:40:50.085Z"
      },
      {
        "duration": 4,
        "start_time": "2022-08-01T14:41:29.591Z"
      },
      {
        "duration": 9,
        "start_time": "2022-08-01T14:46:13.451Z"
      },
      {
        "duration": 80,
        "start_time": "2022-08-01T14:49:31.330Z"
      },
      {
        "duration": 6,
        "start_time": "2022-08-01T14:59:02.306Z"
      },
      {
        "duration": 11,
        "start_time": "2022-08-01T14:59:15.614Z"
      },
      {
        "duration": 16,
        "start_time": "2022-08-01T14:59:42.914Z"
      },
      {
        "duration": 14,
        "start_time": "2022-08-01T15:00:45.064Z"
      },
      {
        "duration": 1028,
        "start_time": "2022-08-01T15:23:22.946Z"
      },
      {
        "duration": 1324,
        "start_time": "2022-08-01T15:31:10.863Z"
      },
      {
        "duration": 28,
        "start_time": "2022-08-01T15:31:43.104Z"
      },
      {
        "duration": 28,
        "start_time": "2022-08-01T15:31:51.546Z"
      },
      {
        "duration": 29,
        "start_time": "2022-08-01T15:32:44.046Z"
      },
      {
        "duration": 26,
        "start_time": "2022-08-01T15:32:53.501Z"
      },
      {
        "duration": 34,
        "start_time": "2022-08-01T15:36:44.164Z"
      },
      {
        "duration": 37,
        "start_time": "2022-08-01T15:37:03.219Z"
      },
      {
        "duration": 24,
        "start_time": "2022-08-01T15:37:43.790Z"
      },
      {
        "duration": 25,
        "start_time": "2022-08-01T15:37:57.293Z"
      },
      {
        "duration": 31,
        "start_time": "2022-08-01T15:38:13.499Z"
      },
      {
        "duration": 42,
        "start_time": "2022-08-01T15:38:42.655Z"
      },
      {
        "duration": 1132,
        "start_time": "2022-08-01T15:40:29.426Z"
      },
      {
        "duration": 25,
        "start_time": "2022-08-01T15:41:01.297Z"
      },
      {
        "duration": 24,
        "start_time": "2022-08-01T15:41:30.858Z"
      },
      {
        "duration": 24,
        "start_time": "2022-08-01T15:42:03.250Z"
      },
      {
        "duration": 33,
        "start_time": "2022-08-01T15:42:16.793Z"
      },
      {
        "duration": 33,
        "start_time": "2022-08-01T15:46:12.895Z"
      },
      {
        "duration": 34,
        "start_time": "2022-08-01T15:47:01.198Z"
      },
      {
        "duration": 4,
        "start_time": "2022-08-01T15:48:50.313Z"
      },
      {
        "duration": 36,
        "start_time": "2022-08-01T15:48:51.979Z"
      },
      {
        "duration": 7,
        "start_time": "2022-08-01T15:50:54.373Z"
      },
      {
        "duration": 20,
        "start_time": "2022-08-01T15:54:09.802Z"
      },
      {
        "duration": 21,
        "start_time": "2022-08-01T15:54:27.440Z"
      },
      {
        "duration": 165,
        "start_time": "2022-08-01T15:54:44.025Z"
      },
      {
        "duration": 785,
        "start_time": "2022-08-01T15:54:52.080Z"
      },
      {
        "duration": 3,
        "start_time": "2022-08-01T15:56:06.097Z"
      },
      {
        "duration": 167,
        "start_time": "2022-08-01T15:56:06.102Z"
      },
      {
        "duration": 10,
        "start_time": "2022-08-01T15:56:06.271Z"
      },
      {
        "duration": 139,
        "start_time": "2022-08-01T15:56:06.283Z"
      },
      {
        "duration": 22,
        "start_time": "2022-08-01T15:56:06.424Z"
      },
      {
        "duration": 7,
        "start_time": "2022-08-01T15:56:06.448Z"
      },
      {
        "duration": 16,
        "start_time": "2022-08-01T15:56:06.456Z"
      },
      {
        "duration": 29,
        "start_time": "2022-08-01T15:56:06.474Z"
      },
      {
        "duration": 39,
        "start_time": "2022-08-01T15:56:06.505Z"
      },
      {
        "duration": 39,
        "start_time": "2022-08-01T15:56:06.546Z"
      },
      {
        "duration": 62,
        "start_time": "2022-08-01T15:56:06.587Z"
      },
      {
        "duration": 72,
        "start_time": "2022-08-01T15:56:06.651Z"
      },
      {
        "duration": 68,
        "start_time": "2022-08-01T15:56:06.725Z"
      },
      {
        "duration": 13,
        "start_time": "2022-08-01T15:56:06.794Z"
      },
      {
        "duration": 31,
        "start_time": "2022-08-01T15:56:06.809Z"
      },
      {
        "duration": 14,
        "start_time": "2022-08-01T15:56:06.846Z"
      },
      {
        "duration": 15,
        "start_time": "2022-08-01T15:56:06.862Z"
      },
      {
        "duration": 28,
        "start_time": "2022-08-01T15:56:06.878Z"
      },
      {
        "duration": 42,
        "start_time": "2022-08-01T15:56:06.908Z"
      },
      {
        "duration": 4,
        "start_time": "2022-08-01T15:56:06.951Z"
      },
      {
        "duration": 20,
        "start_time": "2022-08-01T15:56:06.956Z"
      },
      {
        "duration": 13,
        "start_time": "2022-08-01T15:56:06.977Z"
      },
      {
        "duration": 13,
        "start_time": "2022-08-01T15:56:06.993Z"
      },
      {
        "duration": 38,
        "start_time": "2022-08-01T15:56:07.008Z"
      },
      {
        "duration": 15,
        "start_time": "2022-08-01T15:56:07.048Z"
      },
      {
        "duration": 13,
        "start_time": "2022-08-01T15:56:07.065Z"
      },
      {
        "duration": 88,
        "start_time": "2022-08-01T15:56:07.080Z"
      },
      {
        "duration": 16,
        "start_time": "2022-08-01T15:56:07.169Z"
      },
      {
        "duration": 14,
        "start_time": "2022-08-01T15:56:07.187Z"
      },
      {
        "duration": 4,
        "start_time": "2022-08-01T15:56:07.203Z"
      },
      {
        "duration": 64,
        "start_time": "2022-08-01T15:56:07.208Z"
      },
      {
        "duration": 3,
        "start_time": "2022-08-01T15:56:07.273Z"
      },
      {
        "duration": 4,
        "start_time": "2022-08-01T15:56:07.277Z"
      },
      {
        "duration": 5,
        "start_time": "2022-08-01T15:56:07.282Z"
      },
      {
        "duration": 4,
        "start_time": "2022-08-01T15:56:07.288Z"
      },
      {
        "duration": 5,
        "start_time": "2022-08-01T15:56:07.293Z"
      },
      {
        "duration": 7,
        "start_time": "2022-08-01T15:56:07.301Z"
      },
      {
        "duration": 4,
        "start_time": "2022-08-01T15:56:07.309Z"
      },
      {
        "duration": 22,
        "start_time": "2022-08-01T15:56:41.946Z"
      },
      {
        "duration": 7,
        "start_time": "2022-08-01T15:57:08.898Z"
      },
      {
        "duration": 2,
        "start_time": "2022-08-01T15:57:39.747Z"
      },
      {
        "duration": 153,
        "start_time": "2022-08-01T15:57:39.751Z"
      },
      {
        "duration": 10,
        "start_time": "2022-08-01T15:57:39.905Z"
      },
      {
        "duration": 132,
        "start_time": "2022-08-01T15:57:39.917Z"
      },
      {
        "duration": 4,
        "start_time": "2022-08-01T15:57:40.051Z"
      },
      {
        "duration": 9,
        "start_time": "2022-08-01T15:57:40.057Z"
      },
      {
        "duration": 12,
        "start_time": "2022-08-01T15:57:40.067Z"
      },
      {
        "duration": 25,
        "start_time": "2022-08-01T15:57:40.081Z"
      },
      {
        "duration": 38,
        "start_time": "2022-08-01T15:57:40.107Z"
      },
      {
        "duration": 23,
        "start_time": "2022-08-01T15:57:40.147Z"
      },
      {
        "duration": 75,
        "start_time": "2022-08-01T15:57:40.172Z"
      },
      {
        "duration": 63,
        "start_time": "2022-08-01T15:57:40.249Z"
      },
      {
        "duration": 73,
        "start_time": "2022-08-01T15:57:40.313Z"
      },
      {
        "duration": 9,
        "start_time": "2022-08-01T15:57:40.388Z"
      },
      {
        "duration": 2,
        "start_time": "2022-08-01T15:57:40.399Z"
      },
      {
        "duration": 23,
        "start_time": "2022-08-01T15:57:40.403Z"
      },
      {
        "duration": 12,
        "start_time": "2022-08-01T15:57:40.428Z"
      },
      {
        "duration": 33,
        "start_time": "2022-08-01T15:57:40.441Z"
      },
      {
        "duration": 26,
        "start_time": "2022-08-01T15:57:40.476Z"
      },
      {
        "duration": 4,
        "start_time": "2022-08-01T15:57:40.504Z"
      },
      {
        "duration": 45,
        "start_time": "2022-08-01T15:57:40.510Z"
      },
      {
        "duration": 14,
        "start_time": "2022-08-01T15:57:40.556Z"
      },
      {
        "duration": 16,
        "start_time": "2022-08-01T15:57:40.571Z"
      },
      {
        "duration": 14,
        "start_time": "2022-08-01T15:57:40.589Z"
      },
      {
        "duration": 42,
        "start_time": "2022-08-01T15:57:40.604Z"
      },
      {
        "duration": 14,
        "start_time": "2022-08-01T15:57:40.648Z"
      },
      {
        "duration": 82,
        "start_time": "2022-08-01T15:57:40.664Z"
      },
      {
        "duration": 15,
        "start_time": "2022-08-01T15:57:40.748Z"
      },
      {
        "duration": 15,
        "start_time": "2022-08-01T15:57:40.765Z"
      },
      {
        "duration": 4,
        "start_time": "2022-08-01T15:57:40.781Z"
      },
      {
        "duration": 33,
        "start_time": "2022-08-01T15:57:40.787Z"
      },
      {
        "duration": 27,
        "start_time": "2022-08-01T15:57:40.837Z"
      },
      {
        "duration": 2,
        "start_time": "2022-08-01T15:57:40.865Z"
      },
      {
        "duration": 4,
        "start_time": "2022-08-01T15:57:40.869Z"
      },
      {
        "duration": 5,
        "start_time": "2022-08-01T15:57:40.874Z"
      },
      {
        "duration": 3,
        "start_time": "2022-08-01T15:57:40.882Z"
      },
      {
        "duration": 7,
        "start_time": "2022-08-01T15:57:40.886Z"
      },
      {
        "duration": 6,
        "start_time": "2022-08-01T15:57:40.895Z"
      },
      {
        "duration": 49,
        "start_time": "2022-08-01T15:58:43.197Z"
      },
      {
        "duration": 25,
        "start_time": "2022-08-01T15:58:53.698Z"
      },
      {
        "duration": 3,
        "start_time": "2022-08-01T16:04:32.112Z"
      },
      {
        "duration": 7,
        "start_time": "2022-08-01T16:04:42.246Z"
      },
      {
        "duration": 4,
        "start_time": "2022-08-01T16:04:46.696Z"
      },
      {
        "duration": 26,
        "start_time": "2022-08-01T16:04:57.033Z"
      },
      {
        "duration": 23,
        "start_time": "2022-08-01T16:06:07.232Z"
      },
      {
        "duration": 8,
        "start_time": "2022-08-01T16:06:23.242Z"
      },
      {
        "duration": 6,
        "start_time": "2022-08-01T16:07:15.747Z"
      },
      {
        "duration": 12,
        "start_time": "2022-08-01T16:07:18.186Z"
      },
      {
        "duration": 8,
        "start_time": "2022-08-01T16:07:19.429Z"
      },
      {
        "duration": 2,
        "start_time": "2022-08-01T16:07:35.994Z"
      },
      {
        "duration": 151,
        "start_time": "2022-08-01T16:07:35.998Z"
      },
      {
        "duration": 10,
        "start_time": "2022-08-01T16:07:36.151Z"
      },
      {
        "duration": 113,
        "start_time": "2022-08-01T16:07:36.163Z"
      },
      {
        "duration": 3,
        "start_time": "2022-08-01T16:07:36.278Z"
      },
      {
        "duration": 12,
        "start_time": "2022-08-01T16:07:36.282Z"
      },
      {
        "duration": 6,
        "start_time": "2022-08-01T16:07:36.295Z"
      },
      {
        "duration": 35,
        "start_time": "2022-08-01T16:07:36.302Z"
      },
      {
        "duration": 16,
        "start_time": "2022-08-01T16:07:36.339Z"
      },
      {
        "duration": 20,
        "start_time": "2022-08-01T16:07:36.541Z"
      },
      {
        "duration": 57,
        "start_time": "2022-08-01T16:07:36.563Z"
      },
      {
        "duration": 66,
        "start_time": "2022-08-01T16:07:36.621Z"
      },
      {
        "duration": 57,
        "start_time": "2022-08-01T16:07:36.688Z"
      },
      {
        "duration": 9,
        "start_time": "2022-08-01T16:07:36.759Z"
      },
      {
        "duration": 3,
        "start_time": "2022-08-01T16:07:36.770Z"
      },
      {
        "duration": 15,
        "start_time": "2022-08-01T16:07:36.774Z"
      },
      {
        "duration": 7,
        "start_time": "2022-08-01T16:07:36.790Z"
      },
      {
        "duration": 40,
        "start_time": "2022-08-01T16:07:36.799Z"
      },
      {
        "duration": 25,
        "start_time": "2022-08-01T16:07:36.840Z"
      },
      {
        "duration": 3,
        "start_time": "2022-08-01T16:07:36.867Z"
      },
      {
        "duration": 27,
        "start_time": "2022-08-01T16:07:36.871Z"
      },
      {
        "duration": 13,
        "start_time": "2022-08-01T16:07:36.900Z"
      },
      {
        "duration": 27,
        "start_time": "2022-08-01T16:07:36.914Z"
      },
      {
        "duration": 14,
        "start_time": "2022-08-01T16:07:36.942Z"
      },
      {
        "duration": 15,
        "start_time": "2022-08-01T16:07:36.957Z"
      },
      {
        "duration": 13,
        "start_time": "2022-08-01T16:07:36.973Z"
      },
      {
        "duration": 92,
        "start_time": "2022-08-01T16:07:36.989Z"
      },
      {
        "duration": 17,
        "start_time": "2022-08-01T16:07:37.082Z"
      },
      {
        "duration": 35,
        "start_time": "2022-08-01T16:07:37.101Z"
      },
      {
        "duration": 4,
        "start_time": "2022-08-01T16:07:37.137Z"
      },
      {
        "duration": 36,
        "start_time": "2022-08-01T16:07:37.142Z"
      },
      {
        "duration": 19,
        "start_time": "2022-08-01T16:07:37.179Z"
      },
      {
        "duration": 60,
        "start_time": "2022-08-01T16:07:37.199Z"
      },
      {
        "duration": 23,
        "start_time": "2022-08-01T16:07:37.261Z"
      },
      {
        "duration": 19,
        "start_time": "2022-08-01T16:07:37.285Z"
      },
      {
        "duration": 30,
        "start_time": "2022-08-01T16:07:37.306Z"
      },
      {
        "duration": 13,
        "start_time": "2022-08-01T16:07:37.339Z"
      },
      {
        "duration": 8,
        "start_time": "2022-08-01T16:07:37.354Z"
      },
      {
        "duration": 2,
        "start_time": "2022-08-01T19:47:34.830Z"
      },
      {
        "duration": 439,
        "start_time": "2022-08-01T19:47:52.349Z"
      },
      {
        "duration": 163,
        "start_time": "2022-08-01T19:47:52.790Z"
      },
      {
        "duration": 17,
        "start_time": "2022-08-01T19:47:52.954Z"
      },
      {
        "duration": 124,
        "start_time": "2022-08-01T19:47:52.973Z"
      },
      {
        "duration": 3,
        "start_time": "2022-08-01T19:47:53.099Z"
      },
      {
        "duration": 14,
        "start_time": "2022-08-01T19:47:53.104Z"
      },
      {
        "duration": 20,
        "start_time": "2022-08-01T19:47:53.119Z"
      },
      {
        "duration": 47,
        "start_time": "2022-08-01T19:47:53.141Z"
      },
      {
        "duration": 21,
        "start_time": "2022-08-01T19:47:53.189Z"
      },
      {
        "duration": 32,
        "start_time": "2022-08-01T19:47:53.212Z"
      },
      {
        "duration": 68,
        "start_time": "2022-08-01T19:47:53.245Z"
      },
      {
        "duration": 72,
        "start_time": "2022-08-01T19:47:53.315Z"
      },
      {
        "duration": 57,
        "start_time": "2022-08-01T19:47:53.388Z"
      },
      {
        "duration": 10,
        "start_time": "2022-08-01T19:47:53.449Z"
      },
      {
        "duration": 3,
        "start_time": "2022-08-01T19:47:53.460Z"
      },
      {
        "duration": 12,
        "start_time": "2022-08-01T19:47:53.464Z"
      },
      {
        "duration": 7,
        "start_time": "2022-08-01T19:47:53.478Z"
      },
      {
        "duration": 26,
        "start_time": "2022-08-01T19:47:53.486Z"
      },
      {
        "duration": 35,
        "start_time": "2022-08-01T19:47:53.534Z"
      },
      {
        "duration": 3,
        "start_time": "2022-08-01T19:47:53.571Z"
      },
      {
        "duration": 28,
        "start_time": "2022-08-01T19:47:53.575Z"
      },
      {
        "duration": 14,
        "start_time": "2022-08-01T19:47:53.605Z"
      },
      {
        "duration": 28,
        "start_time": "2022-08-01T19:47:53.621Z"
      },
      {
        "duration": 15,
        "start_time": "2022-08-01T19:47:53.651Z"
      },
      {
        "duration": 15,
        "start_time": "2022-08-01T19:47:53.668Z"
      },
      {
        "duration": 17,
        "start_time": "2022-08-01T19:47:53.684Z"
      },
      {
        "duration": 97,
        "start_time": "2022-08-01T19:47:53.702Z"
      },
      {
        "duration": 15,
        "start_time": "2022-08-01T19:47:53.801Z"
      },
      {
        "duration": 29,
        "start_time": "2022-08-01T19:47:53.817Z"
      },
      {
        "duration": 11,
        "start_time": "2022-08-01T19:47:53.847Z"
      },
      {
        "duration": 34,
        "start_time": "2022-08-01T19:47:53.859Z"
      },
      {
        "duration": 18,
        "start_time": "2022-08-01T19:47:53.895Z"
      },
      {
        "duration": 62,
        "start_time": "2022-08-01T19:47:53.915Z"
      },
      {
        "duration": 24,
        "start_time": "2022-08-01T19:47:53.979Z"
      },
      {
        "duration": 32,
        "start_time": "2022-08-01T19:47:54.005Z"
      },
      {
        "duration": 25,
        "start_time": "2022-08-01T19:47:54.038Z"
      },
      {
        "duration": 23,
        "start_time": "2022-08-01T19:47:54.064Z"
      },
      {
        "duration": 10,
        "start_time": "2022-08-01T19:47:54.088Z"
      },
      {
        "duration": 4,
        "start_time": "2022-08-01T19:51:03.323Z"
      },
      {
        "duration": 35,
        "start_time": "2022-08-01T19:51:06.310Z"
      },
      {
        "duration": 18,
        "start_time": "2022-08-01T19:51:10.657Z"
      },
      {
        "duration": 24,
        "start_time": "2022-08-01T19:54:01.227Z"
      },
      {
        "duration": 16,
        "start_time": "2022-08-01T19:54:24.146Z"
      },
      {
        "duration": 358,
        "start_time": "2022-08-01T19:59:27.978Z"
      },
      {
        "duration": 155,
        "start_time": "2022-08-01T19:59:28.338Z"
      },
      {
        "duration": 17,
        "start_time": "2022-08-01T19:59:28.494Z"
      },
      {
        "duration": 107,
        "start_time": "2022-08-01T19:59:28.513Z"
      },
      {
        "duration": 24,
        "start_time": "2022-08-01T19:59:28.622Z"
      },
      {
        "duration": 13,
        "start_time": "2022-08-01T19:59:28.647Z"
      },
      {
        "duration": 8,
        "start_time": "2022-08-01T19:59:28.661Z"
      },
      {
        "duration": 24,
        "start_time": "2022-08-01T19:59:28.670Z"
      },
      {
        "duration": 17,
        "start_time": "2022-08-01T19:59:28.696Z"
      },
      {
        "duration": 25,
        "start_time": "2022-08-01T19:59:28.715Z"
      },
      {
        "duration": 65,
        "start_time": "2022-08-01T19:59:28.741Z"
      },
      {
        "duration": 76,
        "start_time": "2022-08-01T19:59:28.807Z"
      },
      {
        "duration": 61,
        "start_time": "2022-08-01T19:59:28.884Z"
      },
      {
        "duration": 9,
        "start_time": "2022-08-01T19:59:28.947Z"
      },
      {
        "duration": 3,
        "start_time": "2022-08-01T19:59:28.957Z"
      },
      {
        "duration": 10,
        "start_time": "2022-08-01T19:59:28.961Z"
      },
      {
        "duration": 7,
        "start_time": "2022-08-01T19:59:28.972Z"
      },
      {
        "duration": 25,
        "start_time": "2022-08-01T19:59:28.980Z"
      },
      {
        "duration": 48,
        "start_time": "2022-08-01T19:59:29.007Z"
      },
      {
        "duration": 3,
        "start_time": "2022-08-01T19:59:29.056Z"
      },
      {
        "duration": 18,
        "start_time": "2022-08-01T19:59:29.061Z"
      },
      {
        "duration": 12,
        "start_time": "2022-08-01T19:59:29.080Z"
      },
      {
        "duration": 13,
        "start_time": "2022-08-01T19:59:29.093Z"
      },
      {
        "duration": 39,
        "start_time": "2022-08-01T19:59:29.107Z"
      },
      {
        "duration": 14,
        "start_time": "2022-08-01T19:59:29.148Z"
      },
      {
        "duration": 12,
        "start_time": "2022-08-01T19:59:29.164Z"
      },
      {
        "duration": 85,
        "start_time": "2022-08-01T19:59:29.178Z"
      },
      {
        "duration": 15,
        "start_time": "2022-08-01T19:59:29.266Z"
      },
      {
        "duration": 15,
        "start_time": "2022-08-01T19:59:29.282Z"
      },
      {
        "duration": 3,
        "start_time": "2022-08-01T19:59:29.299Z"
      },
      {
        "duration": 51,
        "start_time": "2022-08-01T19:59:29.303Z"
      },
      {
        "duration": 20,
        "start_time": "2022-08-01T19:59:29.355Z"
      },
      {
        "duration": 40,
        "start_time": "2022-08-01T19:59:29.376Z"
      },
      {
        "duration": 44,
        "start_time": "2022-08-01T19:59:29.418Z"
      },
      {
        "duration": 19,
        "start_time": "2022-08-01T19:59:29.463Z"
      },
      {
        "duration": 8,
        "start_time": "2022-08-01T19:59:29.483Z"
      },
      {
        "duration": 13,
        "start_time": "2022-08-01T19:59:29.492Z"
      },
      {
        "duration": 6,
        "start_time": "2022-08-01T19:59:29.507Z"
      },
      {
        "duration": 122,
        "start_time": "2022-08-01T20:04:03.571Z"
      },
      {
        "duration": 71,
        "start_time": "2022-08-01T20:04:15.095Z"
      },
      {
        "duration": 23,
        "start_time": "2022-08-01T20:04:38.364Z"
      },
      {
        "duration": 29,
        "start_time": "2022-08-01T20:04:51.907Z"
      },
      {
        "duration": 33,
        "start_time": "2022-08-01T20:05:04.115Z"
      },
      {
        "duration": 31,
        "start_time": "2022-08-01T20:09:54.514Z"
      },
      {
        "duration": 4,
        "start_time": "2022-08-01T20:10:37.992Z"
      },
      {
        "duration": 21,
        "start_time": "2022-08-01T20:10:39.876Z"
      },
      {
        "duration": 18,
        "start_time": "2022-08-01T20:10:43.828Z"
      },
      {
        "duration": 25,
        "start_time": "2022-08-01T20:10:45.421Z"
      },
      {
        "duration": 19,
        "start_time": "2022-08-01T20:10:46.931Z"
      },
      {
        "duration": 384,
        "start_time": "2022-08-01T20:13:04.112Z"
      },
      {
        "duration": 153,
        "start_time": "2022-08-01T20:13:04.497Z"
      },
      {
        "duration": 15,
        "start_time": "2022-08-01T20:13:04.651Z"
      },
      {
        "duration": 118,
        "start_time": "2022-08-01T20:13:04.668Z"
      },
      {
        "duration": 3,
        "start_time": "2022-08-01T20:13:04.788Z"
      },
      {
        "duration": 21,
        "start_time": "2022-08-01T20:13:04.792Z"
      },
      {
        "duration": 12,
        "start_time": "2022-08-01T20:13:04.815Z"
      },
      {
        "duration": 48,
        "start_time": "2022-08-01T20:13:04.828Z"
      },
      {
        "duration": 28,
        "start_time": "2022-08-01T20:13:04.877Z"
      },
      {
        "duration": 20,
        "start_time": "2022-08-01T20:13:04.907Z"
      },
      {
        "duration": 59,
        "start_time": "2022-08-01T20:13:04.928Z"
      },
      {
        "duration": 71,
        "start_time": "2022-08-01T20:13:04.989Z"
      },
      {
        "duration": 53,
        "start_time": "2022-08-01T20:13:05.062Z"
      },
      {
        "duration": 34,
        "start_time": "2022-08-01T20:13:05.116Z"
      },
      {
        "duration": 2,
        "start_time": "2022-08-01T20:13:05.151Z"
      },
      {
        "duration": 11,
        "start_time": "2022-08-01T20:13:05.155Z"
      },
      {
        "duration": 16,
        "start_time": "2022-08-01T20:13:05.167Z"
      },
      {
        "duration": 29,
        "start_time": "2022-08-01T20:13:05.184Z"
      },
      {
        "duration": 31,
        "start_time": "2022-08-01T20:13:05.215Z"
      },
      {
        "duration": 3,
        "start_time": "2022-08-01T20:13:05.248Z"
      },
      {
        "duration": 21,
        "start_time": "2022-08-01T20:13:05.252Z"
      },
      {
        "duration": 15,
        "start_time": "2022-08-01T20:13:05.275Z"
      },
      {
        "duration": 24,
        "start_time": "2022-08-01T20:13:05.291Z"
      },
      {
        "duration": 13,
        "start_time": "2022-08-01T20:13:05.316Z"
      },
      {
        "duration": 28,
        "start_time": "2022-08-01T20:13:05.330Z"
      },
      {
        "duration": 21,
        "start_time": "2022-08-01T20:13:05.359Z"
      },
      {
        "duration": 67,
        "start_time": "2022-08-01T20:13:05.382Z"
      },
      {
        "duration": 14,
        "start_time": "2022-08-01T20:13:05.452Z"
      },
      {
        "duration": 13,
        "start_time": "2022-08-01T20:13:05.468Z"
      },
      {
        "duration": 4,
        "start_time": "2022-08-01T20:13:05.482Z"
      },
      {
        "duration": 28,
        "start_time": "2022-08-01T20:13:05.487Z"
      },
      {
        "duration": 38,
        "start_time": "2022-08-01T20:13:05.516Z"
      },
      {
        "duration": 20,
        "start_time": "2022-08-01T20:13:05.555Z"
      },
      {
        "duration": 15,
        "start_time": "2022-08-01T20:13:05.576Z"
      },
      {
        "duration": 44,
        "start_time": "2022-08-01T20:13:05.592Z"
      },
      {
        "duration": 10,
        "start_time": "2022-08-01T20:13:05.637Z"
      },
      {
        "duration": 17,
        "start_time": "2022-08-01T20:13:05.648Z"
      },
      {
        "duration": 8,
        "start_time": "2022-08-01T20:13:05.666Z"
      },
      {
        "duration": 4,
        "start_time": "2022-08-01T20:16:38.184Z"
      },
      {
        "duration": 4,
        "start_time": "2022-08-01T20:17:43.263Z"
      },
      {
        "duration": 20,
        "start_time": "2022-08-01T20:17:47.156Z"
      },
      {
        "duration": 399,
        "start_time": "2022-08-01T20:18:39.046Z"
      },
      {
        "duration": 148,
        "start_time": "2022-08-01T20:18:39.447Z"
      },
      {
        "duration": 18,
        "start_time": "2022-08-01T20:18:39.596Z"
      },
      {
        "duration": 131,
        "start_time": "2022-08-01T20:18:39.616Z"
      },
      {
        "duration": 4,
        "start_time": "2022-08-01T20:18:39.749Z"
      },
      {
        "duration": 12,
        "start_time": "2022-08-01T20:18:39.755Z"
      },
      {
        "duration": 7,
        "start_time": "2022-08-01T20:18:39.768Z"
      },
      {
        "duration": 22,
        "start_time": "2022-08-01T20:18:39.777Z"
      },
      {
        "duration": 14,
        "start_time": "2022-08-01T20:18:39.801Z"
      },
      {
        "duration": 32,
        "start_time": "2022-08-01T20:18:39.817Z"
      },
      {
        "duration": 58,
        "start_time": "2022-08-01T20:18:39.850Z"
      },
      {
        "duration": 83,
        "start_time": "2022-08-01T20:18:39.910Z"
      },
      {
        "duration": 58,
        "start_time": "2022-08-01T20:18:39.994Z"
      },
      {
        "duration": 9,
        "start_time": "2022-08-01T20:18:40.054Z"
      },
      {
        "duration": 2,
        "start_time": "2022-08-01T20:18:40.065Z"
      },
      {
        "duration": 11,
        "start_time": "2022-08-01T20:18:40.069Z"
      },
      {
        "duration": 8,
        "start_time": "2022-08-01T20:18:40.082Z"
      },
      {
        "duration": 55,
        "start_time": "2022-08-01T20:18:40.091Z"
      },
      {
        "duration": 25,
        "start_time": "2022-08-01T20:18:40.147Z"
      },
      {
        "duration": 6,
        "start_time": "2022-08-01T20:18:40.174Z"
      },
      {
        "duration": 24,
        "start_time": "2022-08-01T20:18:40.181Z"
      },
      {
        "duration": 14,
        "start_time": "2022-08-01T20:18:40.207Z"
      },
      {
        "duration": 17,
        "start_time": "2022-08-01T20:18:40.241Z"
      },
      {
        "duration": 13,
        "start_time": "2022-08-01T20:18:40.260Z"
      },
      {
        "duration": 16,
        "start_time": "2022-08-01T20:18:40.275Z"
      },
      {
        "duration": 15,
        "start_time": "2022-08-01T20:18:40.292Z"
      },
      {
        "duration": 94,
        "start_time": "2022-08-01T20:18:40.309Z"
      },
      {
        "duration": 38,
        "start_time": "2022-08-01T20:18:40.406Z"
      },
      {
        "duration": 16,
        "start_time": "2022-08-01T20:18:40.446Z"
      },
      {
        "duration": 4,
        "start_time": "2022-08-01T20:18:40.464Z"
      },
      {
        "duration": 24,
        "start_time": "2022-08-01T20:18:40.469Z"
      },
      {
        "duration": 15,
        "start_time": "2022-08-01T20:18:40.495Z"
      },
      {
        "duration": 46,
        "start_time": "2022-08-01T20:18:40.512Z"
      },
      {
        "duration": 15,
        "start_time": "2022-08-01T20:18:40.559Z"
      },
      {
        "duration": 20,
        "start_time": "2022-08-01T20:18:40.575Z"
      },
      {
        "duration": 7,
        "start_time": "2022-08-01T20:18:40.596Z"
      },
      {
        "duration": 43,
        "start_time": "2022-08-01T20:18:40.605Z"
      },
      {
        "duration": 7,
        "start_time": "2022-08-01T20:18:40.650Z"
      },
      {
        "duration": 125,
        "start_time": "2022-08-02T15:04:34.729Z"
      },
      {
        "duration": 382,
        "start_time": "2022-08-02T17:19:31.433Z"
      },
      {
        "duration": 433,
        "start_time": "2022-08-02T17:19:33.823Z"
      },
      {
        "duration": 341,
        "start_time": "2022-08-02T17:19:41.974Z"
      },
      {
        "duration": 147,
        "start_time": "2022-08-02T17:19:42.317Z"
      },
      {
        "duration": 22,
        "start_time": "2022-08-02T17:19:42.466Z"
      },
      {
        "duration": 139,
        "start_time": "2022-08-02T17:19:42.491Z"
      },
      {
        "duration": 3,
        "start_time": "2022-08-02T17:19:42.632Z"
      },
      {
        "duration": 10,
        "start_time": "2022-08-02T17:19:42.637Z"
      },
      {
        "duration": 7,
        "start_time": "2022-08-02T17:19:42.649Z"
      },
      {
        "duration": 26,
        "start_time": "2022-08-02T17:19:42.657Z"
      },
      {
        "duration": 16,
        "start_time": "2022-08-02T17:19:42.684Z"
      },
      {
        "duration": 47,
        "start_time": "2022-08-02T17:19:42.703Z"
      },
      {
        "duration": 56,
        "start_time": "2022-08-02T17:19:42.752Z"
      },
      {
        "duration": 84,
        "start_time": "2022-08-02T17:19:42.810Z"
      },
      {
        "duration": 62,
        "start_time": "2022-08-02T17:19:42.896Z"
      },
      {
        "duration": 9,
        "start_time": "2022-08-02T17:19:42.960Z"
      },
      {
        "duration": 3,
        "start_time": "2022-08-02T17:19:42.970Z"
      },
      {
        "duration": 20,
        "start_time": "2022-08-02T17:19:42.975Z"
      },
      {
        "duration": 8,
        "start_time": "2022-08-02T17:19:42.997Z"
      },
      {
        "duration": 50,
        "start_time": "2022-08-02T17:19:43.006Z"
      },
      {
        "duration": 26,
        "start_time": "2022-08-02T17:19:43.057Z"
      },
      {
        "duration": 3,
        "start_time": "2022-08-02T17:19:43.085Z"
      },
      {
        "duration": 19,
        "start_time": "2022-08-02T17:19:43.089Z"
      },
      {
        "duration": 12,
        "start_time": "2022-08-02T17:19:43.131Z"
      },
      {
        "duration": 14,
        "start_time": "2022-08-02T17:19:43.145Z"
      },
      {
        "duration": 13,
        "start_time": "2022-08-02T17:19:43.161Z"
      },
      {
        "duration": 15,
        "start_time": "2022-08-02T17:19:43.176Z"
      },
      {
        "duration": 13,
        "start_time": "2022-08-02T17:19:43.192Z"
      },
      {
        "duration": 61,
        "start_time": "2022-08-02T17:19:43.230Z"
      },
      {
        "duration": 16,
        "start_time": "2022-08-02T17:19:43.293Z"
      },
      {
        "duration": 31,
        "start_time": "2022-08-02T17:19:43.310Z"
      },
      {
        "duration": 4,
        "start_time": "2022-08-02T17:19:43.342Z"
      },
      {
        "duration": 24,
        "start_time": "2022-08-02T17:19:43.347Z"
      },
      {
        "duration": 15,
        "start_time": "2022-08-02T17:19:43.373Z"
      },
      {
        "duration": 42,
        "start_time": "2022-08-02T17:19:43.390Z"
      },
      {
        "duration": 15,
        "start_time": "2022-08-02T17:19:43.434Z"
      },
      {
        "duration": 19,
        "start_time": "2022-08-02T17:19:43.450Z"
      },
      {
        "duration": 7,
        "start_time": "2022-08-02T17:19:43.470Z"
      },
      {
        "duration": 13,
        "start_time": "2022-08-02T17:19:43.479Z"
      },
      {
        "duration": 7,
        "start_time": "2022-08-02T17:19:43.494Z"
      },
      {
        "duration": 46,
        "start_time": "2022-08-03T07:12:55.228Z"
      },
      {
        "duration": 403,
        "start_time": "2022-08-03T07:13:03.714Z"
      },
      {
        "duration": 218,
        "start_time": "2022-08-03T07:13:04.118Z"
      },
      {
        "duration": 15,
        "start_time": "2022-08-03T07:13:04.338Z"
      },
      {
        "duration": 42,
        "start_time": "2022-08-03T07:13:04.355Z"
      },
      {
        "duration": 35,
        "start_time": "2022-08-03T07:13:04.399Z"
      },
      {
        "duration": 25,
        "start_time": "2022-08-03T07:13:04.436Z"
      },
      {
        "duration": 38,
        "start_time": "2022-08-03T07:13:04.462Z"
      },
      {
        "duration": 30,
        "start_time": "2022-08-03T07:13:04.502Z"
      },
      {
        "duration": 18,
        "start_time": "2022-08-03T07:13:04.534Z"
      },
      {
        "duration": 23,
        "start_time": "2022-08-03T07:13:04.554Z"
      },
      {
        "duration": 71,
        "start_time": "2022-08-03T07:13:04.578Z"
      },
      {
        "duration": 75,
        "start_time": "2022-08-03T07:13:04.651Z"
      },
      {
        "duration": 50,
        "start_time": "2022-08-03T07:13:04.728Z"
      },
      {
        "duration": 8,
        "start_time": "2022-08-03T07:13:04.782Z"
      },
      {
        "duration": 18,
        "start_time": "2022-08-03T07:13:04.791Z"
      },
      {
        "duration": 14,
        "start_time": "2022-08-03T07:13:04.811Z"
      },
      {
        "duration": 14,
        "start_time": "2022-08-03T07:13:04.826Z"
      },
      {
        "duration": 30,
        "start_time": "2022-08-03T07:13:04.841Z"
      },
      {
        "duration": 36,
        "start_time": "2022-08-03T07:13:04.873Z"
      },
      {
        "duration": 4,
        "start_time": "2022-08-03T07:13:04.910Z"
      },
      {
        "duration": 27,
        "start_time": "2022-08-03T07:13:04.915Z"
      },
      {
        "duration": 21,
        "start_time": "2022-08-03T07:13:04.944Z"
      },
      {
        "duration": 14,
        "start_time": "2022-08-03T07:13:04.967Z"
      },
      {
        "duration": 33,
        "start_time": "2022-08-03T07:13:04.983Z"
      },
      {
        "duration": 17,
        "start_time": "2022-08-03T07:13:05.018Z"
      },
      {
        "duration": 15,
        "start_time": "2022-08-03T07:13:05.036Z"
      },
      {
        "duration": 85,
        "start_time": "2022-08-03T07:13:05.052Z"
      },
      {
        "duration": 15,
        "start_time": "2022-08-03T07:13:05.138Z"
      },
      {
        "duration": 17,
        "start_time": "2022-08-03T07:13:05.155Z"
      },
      {
        "duration": 3,
        "start_time": "2022-08-03T07:13:05.174Z"
      },
      {
        "duration": 63,
        "start_time": "2022-08-03T07:13:05.179Z"
      },
      {
        "duration": 45,
        "start_time": "2022-08-03T07:13:05.244Z"
      },
      {
        "duration": 34,
        "start_time": "2022-08-03T07:13:05.291Z"
      },
      {
        "duration": 36,
        "start_time": "2022-08-03T07:13:05.326Z"
      },
      {
        "duration": 20,
        "start_time": "2022-08-03T07:13:05.364Z"
      },
      {
        "duration": 22,
        "start_time": "2022-08-03T07:13:05.386Z"
      },
      {
        "duration": 52,
        "start_time": "2022-08-03T07:13:05.409Z"
      },
      {
        "duration": 8,
        "start_time": "2022-08-03T07:13:05.462Z"
      },
      {
        "duration": 136,
        "start_time": "2022-08-03T07:13:34.515Z"
      },
      {
        "duration": 38,
        "start_time": "2022-08-03T07:29:03.746Z"
      },
      {
        "duration": 26,
        "start_time": "2022-08-03T07:29:40.338Z"
      },
      {
        "duration": 11,
        "start_time": "2022-08-03T07:29:46.264Z"
      },
      {
        "duration": 10,
        "start_time": "2022-08-03T07:30:05.929Z"
      },
      {
        "duration": 32,
        "start_time": "2022-08-03T07:30:26.433Z"
      },
      {
        "duration": 33,
        "start_time": "2022-08-03T07:30:48.369Z"
      },
      {
        "duration": 30,
        "start_time": "2022-08-03T07:30:59.550Z"
      },
      {
        "duration": 66,
        "start_time": "2022-08-03T07:33:29.476Z"
      },
      {
        "duration": 71,
        "start_time": "2022-08-03T07:34:09.697Z"
      },
      {
        "duration": 42,
        "start_time": "2022-08-03T07:34:23.066Z"
      },
      {
        "duration": 45,
        "start_time": "2022-08-03T07:35:00.994Z"
      },
      {
        "duration": 74,
        "start_time": "2022-08-03T07:35:24.220Z"
      },
      {
        "duration": 9,
        "start_time": "2022-08-03T07:35:31.715Z"
      },
      {
        "duration": 11,
        "start_time": "2022-08-03T07:35:36.974Z"
      },
      {
        "duration": 11,
        "start_time": "2022-08-03T07:36:07.483Z"
      },
      {
        "duration": 11,
        "start_time": "2022-08-03T07:40:15.919Z"
      },
      {
        "duration": 12,
        "start_time": "2022-08-03T07:40:26.417Z"
      },
      {
        "duration": 12,
        "start_time": "2022-08-03T07:41:04.883Z"
      },
      {
        "duration": 8,
        "start_time": "2022-08-03T07:43:52.862Z"
      },
      {
        "duration": 10,
        "start_time": "2022-08-03T07:44:27.197Z"
      },
      {
        "duration": 6,
        "start_time": "2022-08-03T07:44:59.166Z"
      },
      {
        "duration": 13,
        "start_time": "2022-08-03T07:45:01.853Z"
      },
      {
        "duration": 23,
        "start_time": "2022-08-03T07:45:27.422Z"
      },
      {
        "duration": 16,
        "start_time": "2022-08-03T07:45:40.854Z"
      },
      {
        "duration": 16,
        "start_time": "2022-08-03T07:45:49.762Z"
      },
      {
        "duration": 2,
        "start_time": "2022-08-03T07:50:02.631Z"
      },
      {
        "duration": 195,
        "start_time": "2022-08-03T07:50:02.637Z"
      },
      {
        "duration": 11,
        "start_time": "2022-08-03T07:50:02.834Z"
      },
      {
        "duration": 178,
        "start_time": "2022-08-03T07:50:02.847Z"
      },
      {
        "duration": 5,
        "start_time": "2022-08-03T07:50:03.027Z"
      },
      {
        "duration": 24,
        "start_time": "2022-08-03T07:50:03.033Z"
      },
      {
        "duration": 45,
        "start_time": "2022-08-03T07:50:03.058Z"
      },
      {
        "duration": 32,
        "start_time": "2022-08-03T07:50:03.105Z"
      },
      {
        "duration": 18,
        "start_time": "2022-08-03T07:50:03.139Z"
      },
      {
        "duration": 26,
        "start_time": "2022-08-03T07:50:03.159Z"
      },
      {
        "duration": 70,
        "start_time": "2022-08-03T07:50:03.188Z"
      },
      {
        "duration": 67,
        "start_time": "2022-08-03T07:50:03.259Z"
      },
      {
        "duration": 51,
        "start_time": "2022-08-03T07:50:03.327Z"
      },
      {
        "duration": 10,
        "start_time": "2022-08-03T07:50:03.380Z"
      },
      {
        "duration": 3,
        "start_time": "2022-08-03T07:50:03.409Z"
      },
      {
        "duration": 13,
        "start_time": "2022-08-03T07:50:03.414Z"
      },
      {
        "duration": 0,
        "start_time": "2022-08-03T07:50:03.430Z"
      },
      {
        "duration": 0,
        "start_time": "2022-08-03T07:50:03.431Z"
      },
      {
        "duration": 0,
        "start_time": "2022-08-03T07:50:03.434Z"
      },
      {
        "duration": 0,
        "start_time": "2022-08-03T07:50:03.437Z"
      },
      {
        "duration": 0,
        "start_time": "2022-08-03T07:50:03.439Z"
      },
      {
        "duration": 0,
        "start_time": "2022-08-03T07:50:03.440Z"
      },
      {
        "duration": 0,
        "start_time": "2022-08-03T07:50:03.442Z"
      },
      {
        "duration": 0,
        "start_time": "2022-08-03T07:50:03.443Z"
      },
      {
        "duration": 0,
        "start_time": "2022-08-03T07:50:03.445Z"
      },
      {
        "duration": 0,
        "start_time": "2022-08-03T07:50:03.446Z"
      },
      {
        "duration": 0,
        "start_time": "2022-08-03T07:50:03.447Z"
      },
      {
        "duration": 0,
        "start_time": "2022-08-03T07:50:03.449Z"
      },
      {
        "duration": 0,
        "start_time": "2022-08-03T07:50:03.450Z"
      },
      {
        "duration": 0,
        "start_time": "2022-08-03T07:50:03.452Z"
      },
      {
        "duration": 0,
        "start_time": "2022-08-03T07:50:03.453Z"
      },
      {
        "duration": 0,
        "start_time": "2022-08-03T07:50:03.454Z"
      },
      {
        "duration": 0,
        "start_time": "2022-08-03T07:50:03.457Z"
      },
      {
        "duration": 0,
        "start_time": "2022-08-03T07:50:03.458Z"
      },
      {
        "duration": 0,
        "start_time": "2022-08-03T07:50:03.459Z"
      },
      {
        "duration": 0,
        "start_time": "2022-08-03T07:50:03.461Z"
      },
      {
        "duration": 0,
        "start_time": "2022-08-03T07:50:03.509Z"
      },
      {
        "duration": 0,
        "start_time": "2022-08-03T07:50:03.510Z"
      },
      {
        "duration": 13,
        "start_time": "2022-08-03T07:50:40.560Z"
      },
      {
        "duration": 43,
        "start_time": "2022-08-03T07:50:45.276Z"
      },
      {
        "duration": 13,
        "start_time": "2022-08-03T07:52:02.618Z"
      },
      {
        "duration": 12,
        "start_time": "2022-08-03T07:52:05.045Z"
      },
      {
        "duration": 3,
        "start_time": "2022-08-03T07:52:10.734Z"
      },
      {
        "duration": 15,
        "start_time": "2022-08-03T07:52:14.582Z"
      },
      {
        "duration": 15,
        "start_time": "2022-08-03T07:52:15.350Z"
      },
      {
        "duration": 17,
        "start_time": "2022-08-03T07:52:15.842Z"
      },
      {
        "duration": 14,
        "start_time": "2022-08-03T07:52:16.277Z"
      },
      {
        "duration": 17,
        "start_time": "2022-08-03T07:52:16.716Z"
      },
      {
        "duration": 19,
        "start_time": "2022-08-03T07:52:17.216Z"
      },
      {
        "duration": 67,
        "start_time": "2022-08-03T07:52:20.801Z"
      },
      {
        "duration": 18,
        "start_time": "2022-08-03T07:52:24.622Z"
      },
      {
        "duration": 16,
        "start_time": "2022-08-03T07:52:25.246Z"
      },
      {
        "duration": 6,
        "start_time": "2022-08-03T07:52:30.035Z"
      },
      {
        "duration": 22,
        "start_time": "2022-08-03T07:52:33.221Z"
      },
      {
        "duration": 17,
        "start_time": "2022-08-03T07:52:33.600Z"
      },
      {
        "duration": 23,
        "start_time": "2022-08-03T07:52:34.325Z"
      },
      {
        "duration": 18,
        "start_time": "2022-08-03T07:52:34.938Z"
      },
      {
        "duration": 23,
        "start_time": "2022-08-03T07:53:12.153Z"
      },
      {
        "duration": 22,
        "start_time": "2022-08-03T07:53:15.500Z"
      },
      {
        "duration": 9,
        "start_time": "2022-08-03T07:53:20.133Z"
      },
      {
        "duration": 14,
        "start_time": "2022-08-03T07:55:05.322Z"
      },
      {
        "duration": 11,
        "start_time": "2022-08-03T07:55:07.258Z"
      },
      {
        "duration": 5,
        "start_time": "2022-08-03T08:02:34.052Z"
      },
      {
        "duration": 19,
        "start_time": "2022-08-03T08:02:36.635Z"
      },
      {
        "duration": 3,
        "start_time": "2022-08-03T08:03:42.374Z"
      },
      {
        "duration": 22,
        "start_time": "2022-08-03T08:03:43.543Z"
      },
      {
        "duration": 377,
        "start_time": "2022-08-03T14:31:37.273Z"
      },
      {
        "duration": 290,
        "start_time": "2022-08-03T14:31:37.652Z"
      },
      {
        "duration": 27,
        "start_time": "2022-08-03T14:31:37.944Z"
      },
      {
        "duration": 198,
        "start_time": "2022-08-03T14:31:37.973Z"
      },
      {
        "duration": 4,
        "start_time": "2022-08-03T14:31:38.173Z"
      },
      {
        "duration": 13,
        "start_time": "2022-08-03T14:31:38.178Z"
      },
      {
        "duration": 39,
        "start_time": "2022-08-03T14:31:38.192Z"
      },
      {
        "duration": 30,
        "start_time": "2022-08-03T14:31:38.233Z"
      },
      {
        "duration": 23,
        "start_time": "2022-08-03T14:31:38.264Z"
      },
      {
        "duration": 44,
        "start_time": "2022-08-03T14:31:38.289Z"
      },
      {
        "duration": 82,
        "start_time": "2022-08-03T14:31:38.335Z"
      },
      {
        "duration": 98,
        "start_time": "2022-08-03T14:31:38.418Z"
      },
      {
        "duration": 65,
        "start_time": "2022-08-03T14:31:38.532Z"
      },
      {
        "duration": 13,
        "start_time": "2022-08-03T14:31:38.610Z"
      },
      {
        "duration": 11,
        "start_time": "2022-08-03T14:31:38.628Z"
      },
      {
        "duration": 18,
        "start_time": "2022-08-03T14:31:38.640Z"
      },
      {
        "duration": 60,
        "start_time": "2022-08-03T14:31:38.659Z"
      },
      {
        "duration": 13,
        "start_time": "2022-08-03T14:31:38.725Z"
      },
      {
        "duration": 21,
        "start_time": "2022-08-03T14:31:38.739Z"
      },
      {
        "duration": 12,
        "start_time": "2022-08-03T14:31:38.762Z"
      },
      {
        "duration": 35,
        "start_time": "2022-08-03T14:31:38.776Z"
      },
      {
        "duration": 49,
        "start_time": "2022-08-03T14:31:38.813Z"
      },
      {
        "duration": 22,
        "start_time": "2022-08-03T14:31:38.864Z"
      },
      {
        "duration": 61,
        "start_time": "2022-08-03T14:31:38.888Z"
      },
      {
        "duration": 19,
        "start_time": "2022-08-03T14:31:38.951Z"
      },
      {
        "duration": 15,
        "start_time": "2022-08-03T14:31:38.972Z"
      },
      {
        "duration": 94,
        "start_time": "2022-08-03T14:31:38.989Z"
      },
      {
        "duration": 52,
        "start_time": "2022-08-03T14:31:39.085Z"
      },
      {
        "duration": 22,
        "start_time": "2022-08-03T14:31:39.139Z"
      },
      {
        "duration": 6,
        "start_time": "2022-08-03T14:31:39.164Z"
      },
      {
        "duration": 57,
        "start_time": "2022-08-03T14:31:39.171Z"
      },
      {
        "duration": 26,
        "start_time": "2022-08-03T14:31:39.229Z"
      },
      {
        "duration": 22,
        "start_time": "2022-08-03T14:31:39.257Z"
      },
      {
        "duration": 15,
        "start_time": "2022-08-03T14:31:39.281Z"
      },
      {
        "duration": 30,
        "start_time": "2022-08-03T14:31:39.305Z"
      },
      {
        "duration": 8,
        "start_time": "2022-08-03T14:31:39.337Z"
      },
      {
        "duration": 19,
        "start_time": "2022-08-03T14:31:39.346Z"
      },
      {
        "duration": 9,
        "start_time": "2022-08-03T14:31:39.367Z"
      },
      {
        "duration": 4,
        "start_time": "2022-08-03T14:40:22.933Z"
      },
      {
        "duration": 6,
        "start_time": "2022-08-03T14:40:31.917Z"
      },
      {
        "duration": 93,
        "start_time": "2022-08-03T14:40:54.949Z"
      },
      {
        "duration": 7,
        "start_time": "2022-08-03T14:42:57.278Z"
      },
      {
        "duration": 8,
        "start_time": "2022-08-03T14:43:15.839Z"
      },
      {
        "duration": 7,
        "start_time": "2022-08-03T14:43:27.033Z"
      },
      {
        "duration": 11,
        "start_time": "2022-08-03T14:43:45.634Z"
      },
      {
        "duration": 26,
        "start_time": "2022-08-03T14:43:53.630Z"
      },
      {
        "duration": 8,
        "start_time": "2022-08-03T14:45:01.170Z"
      },
      {
        "duration": 8,
        "start_time": "2022-08-03T14:45:10.429Z"
      },
      {
        "duration": 1251,
        "start_time": "2022-08-03T14:45:33.691Z"
      },
      {
        "duration": 83,
        "start_time": "2022-08-03T14:46:21.688Z"
      },
      {
        "duration": 8,
        "start_time": "2022-08-03T14:46:33.028Z"
      },
      {
        "duration": 14,
        "start_time": "2022-08-03T14:47:18.440Z"
      },
      {
        "duration": 32,
        "start_time": "2022-08-03T14:47:24.592Z"
      },
      {
        "duration": 8,
        "start_time": "2022-08-03T14:47:37.236Z"
      },
      {
        "duration": 13,
        "start_time": "2022-08-03T14:48:26.565Z"
      },
      {
        "duration": 18,
        "start_time": "2022-08-03T14:48:44.633Z"
      },
      {
        "duration": 15,
        "start_time": "2022-08-03T14:48:57.038Z"
      },
      {
        "duration": 14,
        "start_time": "2022-08-03T14:49:07.474Z"
      },
      {
        "duration": 7,
        "start_time": "2022-08-03T14:49:15.387Z"
      },
      {
        "duration": 11,
        "start_time": "2022-08-03T14:50:46.722Z"
      },
      {
        "duration": 11,
        "start_time": "2022-08-03T14:51:02.989Z"
      },
      {
        "duration": 9,
        "start_time": "2022-08-03T14:51:05.184Z"
      },
      {
        "duration": 9,
        "start_time": "2022-08-03T14:52:07.225Z"
      },
      {
        "duration": 6,
        "start_time": "2022-08-03T14:52:09.550Z"
      },
      {
        "duration": 4,
        "start_time": "2022-08-03T14:54:22.586Z"
      },
      {
        "duration": 25,
        "start_time": "2022-08-03T14:54:24.929Z"
      },
      {
        "duration": 28,
        "start_time": "2022-08-03T14:54:33.916Z"
      },
      {
        "duration": 19,
        "start_time": "2022-08-03T14:54:37.266Z"
      },
      {
        "duration": 44,
        "start_time": "2022-08-03T14:56:28.480Z"
      },
      {
        "duration": 112,
        "start_time": "2022-08-03T14:56:55.867Z"
      },
      {
        "duration": 17,
        "start_time": "2022-08-03T14:57:01.444Z"
      },
      {
        "duration": 62,
        "start_time": "2022-08-03T14:58:09.725Z"
      },
      {
        "duration": 412,
        "start_time": "2022-08-04T05:29:25.916Z"
      },
      {
        "duration": 232,
        "start_time": "2022-08-04T05:29:26.330Z"
      },
      {
        "duration": 22,
        "start_time": "2022-08-04T05:29:26.564Z"
      },
      {
        "duration": 152,
        "start_time": "2022-08-04T05:29:26.588Z"
      },
      {
        "duration": 3,
        "start_time": "2022-08-04T05:29:26.742Z"
      },
      {
        "duration": 15,
        "start_time": "2022-08-04T05:29:26.747Z"
      },
      {
        "duration": 5,
        "start_time": "2022-08-04T05:29:26.763Z"
      },
      {
        "duration": 44,
        "start_time": "2022-08-04T05:29:26.770Z"
      },
      {
        "duration": 16,
        "start_time": "2022-08-04T05:29:26.816Z"
      },
      {
        "duration": 25,
        "start_time": "2022-08-04T05:29:26.834Z"
      },
      {
        "duration": 86,
        "start_time": "2022-08-04T05:29:26.860Z"
      },
      {
        "duration": 80,
        "start_time": "2022-08-04T05:29:26.947Z"
      },
      {
        "duration": 54,
        "start_time": "2022-08-04T05:29:27.029Z"
      },
      {
        "duration": 30,
        "start_time": "2022-08-04T05:29:27.086Z"
      },
      {
        "duration": 6,
        "start_time": "2022-08-04T05:29:27.118Z"
      },
      {
        "duration": 11,
        "start_time": "2022-08-04T05:29:27.126Z"
      },
      {
        "duration": 41,
        "start_time": "2022-08-04T05:29:27.138Z"
      },
      {
        "duration": 39,
        "start_time": "2022-08-04T05:29:27.181Z"
      },
      {
        "duration": 16,
        "start_time": "2022-08-04T05:29:27.222Z"
      },
      {
        "duration": 4,
        "start_time": "2022-08-04T05:29:27.240Z"
      },
      {
        "duration": 20,
        "start_time": "2022-08-04T05:29:27.245Z"
      },
      {
        "duration": 47,
        "start_time": "2022-08-04T05:29:27.266Z"
      },
      {
        "duration": 21,
        "start_time": "2022-08-04T05:29:27.315Z"
      },
      {
        "duration": 20,
        "start_time": "2022-08-04T05:29:27.338Z"
      },
      {
        "duration": 16,
        "start_time": "2022-08-04T05:29:27.360Z"
      },
      {
        "duration": 37,
        "start_time": "2022-08-04T05:29:27.377Z"
      },
      {
        "duration": 72,
        "start_time": "2022-08-04T05:29:27.415Z"
      },
      {
        "duration": 23,
        "start_time": "2022-08-04T05:29:27.489Z"
      },
      {
        "duration": 17,
        "start_time": "2022-08-04T05:29:27.514Z"
      },
      {
        "duration": 4,
        "start_time": "2022-08-04T05:29:27.532Z"
      },
      {
        "duration": 24,
        "start_time": "2022-08-04T05:29:27.537Z"
      },
      {
        "duration": 12,
        "start_time": "2022-08-04T05:29:27.562Z"
      },
      {
        "duration": 26,
        "start_time": "2022-08-04T05:29:27.604Z"
      },
      {
        "duration": 13,
        "start_time": "2022-08-04T05:29:27.632Z"
      },
      {
        "duration": 12,
        "start_time": "2022-08-04T05:29:27.647Z"
      },
      {
        "duration": 7,
        "start_time": "2022-08-04T05:29:27.660Z"
      },
      {
        "duration": 36,
        "start_time": "2022-08-04T05:29:27.668Z"
      },
      {
        "duration": 10,
        "start_time": "2022-08-04T05:29:27.709Z"
      },
      {
        "duration": 391,
        "start_time": "2022-08-04T05:41:10.665Z"
      },
      {
        "duration": 161,
        "start_time": "2022-08-04T05:41:11.058Z"
      },
      {
        "duration": 16,
        "start_time": "2022-08-04T05:41:11.221Z"
      },
      {
        "duration": 145,
        "start_time": "2022-08-04T05:41:11.239Z"
      },
      {
        "duration": 19,
        "start_time": "2022-08-04T05:41:11.386Z"
      },
      {
        "duration": 15,
        "start_time": "2022-08-04T05:41:11.409Z"
      },
      {
        "duration": 8,
        "start_time": "2022-08-04T05:41:11.426Z"
      },
      {
        "duration": 28,
        "start_time": "2022-08-04T05:41:11.436Z"
      },
      {
        "duration": 18,
        "start_time": "2022-08-04T05:41:11.465Z"
      },
      {
        "duration": 30,
        "start_time": "2022-08-04T05:41:11.485Z"
      },
      {
        "duration": 67,
        "start_time": "2022-08-04T05:41:11.516Z"
      },
      {
        "duration": 75,
        "start_time": "2022-08-04T05:41:11.585Z"
      },
      {
        "duration": 60,
        "start_time": "2022-08-04T05:41:11.661Z"
      },
      {
        "duration": 9,
        "start_time": "2022-08-04T05:41:11.725Z"
      },
      {
        "duration": 2,
        "start_time": "2022-08-04T05:41:11.736Z"
      },
      {
        "duration": 12,
        "start_time": "2022-08-04T05:41:11.740Z"
      },
      {
        "duration": 62,
        "start_time": "2022-08-04T05:41:11.753Z"
      },
      {
        "duration": 15,
        "start_time": "2022-08-04T05:41:11.817Z"
      },
      {
        "duration": 15,
        "start_time": "2022-08-04T05:41:11.833Z"
      },
      {
        "duration": 16,
        "start_time": "2022-08-04T05:41:11.849Z"
      },
      {
        "duration": 4,
        "start_time": "2022-08-04T05:41:11.867Z"
      },
      {
        "duration": 48,
        "start_time": "2022-08-04T05:41:11.872Z"
      },
      {
        "duration": 19,
        "start_time": "2022-08-04T05:41:11.922Z"
      },
      {
        "duration": 28,
        "start_time": "2022-08-04T05:41:11.943Z"
      },
      {
        "duration": 40,
        "start_time": "2022-08-04T05:41:11.973Z"
      },
      {
        "duration": 17,
        "start_time": "2022-08-04T05:41:12.015Z"
      },
      {
        "duration": 14,
        "start_time": "2022-08-04T05:41:12.034Z"
      },
      {
        "duration": 78,
        "start_time": "2022-08-04T05:41:12.049Z"
      },
      {
        "duration": 15,
        "start_time": "2022-08-04T05:41:12.129Z"
      },
      {
        "duration": 21,
        "start_time": "2022-08-04T05:41:12.146Z"
      },
      {
        "duration": 14,
        "start_time": "2022-08-04T05:41:12.168Z"
      },
      {
        "duration": 53,
        "start_time": "2022-08-04T05:41:12.184Z"
      },
      {
        "duration": 20,
        "start_time": "2022-08-04T05:41:12.238Z"
      },
      {
        "duration": 18,
        "start_time": "2022-08-04T05:41:12.259Z"
      },
      {
        "duration": 13,
        "start_time": "2022-08-04T05:41:12.278Z"
      },
      {
        "duration": 24,
        "start_time": "2022-08-04T05:41:12.292Z"
      },
      {
        "duration": 8,
        "start_time": "2022-08-04T05:41:12.318Z"
      },
      {
        "duration": 16,
        "start_time": "2022-08-04T05:41:12.327Z"
      },
      {
        "duration": 12,
        "start_time": "2022-08-04T05:41:12.344Z"
      },
      {
        "duration": 76,
        "start_time": "2022-08-04T05:41:33.410Z"
      },
      {
        "duration": 96,
        "start_time": "2022-08-04T05:41:37.963Z"
      },
      {
        "duration": 12,
        "start_time": "2022-08-04T05:41:39.977Z"
      },
      {
        "duration": 11,
        "start_time": "2022-08-04T05:41:51.766Z"
      },
      {
        "duration": 3,
        "start_time": "2022-08-04T05:41:57.769Z"
      },
      {
        "duration": 13,
        "start_time": "2022-08-04T05:41:59.694Z"
      }
    ],
    "colab": {
      "collapsed_sections": [
        "E0vqbgi9ay0H",
        "VUC88oWjTJw2",
        "atZAxtq4_Zcu"
      ],
      "provenance": [],
      "include_colab_link": true
    },
    "kernelspec": {
      "display_name": "Python 3 (ipykernel)",
      "language": "python",
      "name": "python3"
    },
    "language_info": {
      "codemirror_mode": {
        "name": "ipython",
        "version": 3
      },
      "file_extension": ".py",
      "mimetype": "text/x-python",
      "name": "python",
      "nbconvert_exporter": "python",
      "pygments_lexer": "ipython3",
      "version": "3.9.5"
    },
    "toc": {
      "base_numbering": 1,
      "nav_menu": {},
      "number_sections": true,
      "sideBar": true,
      "skip_h1_title": true,
      "title_cell": "Table of Contents",
      "title_sidebar": "Contents",
      "toc_cell": false,
      "toc_position": {},
      "toc_section_display": true,
      "toc_window_display": true
    }
  },
  "nbformat": 4,
  "nbformat_minor": 0
}