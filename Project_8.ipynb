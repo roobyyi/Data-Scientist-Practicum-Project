{
  "cells": [
    {
      "cell_type": "markdown",
      "metadata": {
        "id": "view-in-github",
        "colab_type": "text"
      },
      "source": [
        "<a href=\"https://colab.research.google.com/github/roobyyi/Data-Scientist-Practicum-Project/blob/main/Project_8.ipynb\" target=\"_parent\"><img src=\"https://colab.research.google.com/assets/colab-badge.svg\" alt=\"Open In Colab\"/></a>"
      ]
    },
    {
      "cell_type": "markdown",
      "metadata": {
        "id": "iHzyYYO5VGGw"
      },
      "source": [
        "# Oily Giant"
      ]
    },
    {
      "cell_type": "markdown",
      "metadata": {
        "id": "YuxZNanVVGGw"
      },
      "source": [
        "Perusahaan minyak Oily Giant kali ini sedang mencoba untuk membuka kilang minyak terbaru mereka, disediakan data tentang masing masing sumur yang telah di riset yaitu tentang tiga fitur titik dan juga volume cadangan minyak yang tersedia di sumur tersebut. Terdapat 3 Wilayah yang telah diriset untuk dijadikan tujuan pembuatan kilang minyak.\n",
        "\n",
        "Tugas kali ini ditujukan untuk mencari wilayah mana dan sumur mana yang kira kira bisa mendapatkan keuntungan yang besar setelah diperhitungkan dengan biaya produksinya. Pencarian wilayah tersebut akan dibantu menggunakan machine learning dengan fitur tiga titik yang disediakan. Metode yang akan digunakan adalah Regresi Linear\n",
        "\n",
        "Kondisi yang digunakan adalah sebagai berikut:\n",
        "1. Anggaran mengembangkan 200 sumur minyak adalah 100 juta USD\n",
        "2. Satu barel bahan mentah menghasilkan 4,5 USD pendapatan. Pendapatan dari satu unit produk adalah 4.500 dolar (volume cadangan minyak dalam ribuan barel).\n",
        "3. Setelah mengevaluasi risiko, hanya wilayah dengan risiko kerugian lebih rendah dari 2,5% yang akan dipertahankan."
      ]
    },
    {
      "cell_type": "markdown",
      "metadata": {
        "id": "PitxFDfMVGGx"
      },
      "source": [
        "Prosedur yang akan dilakukan yaitu:\n",
        "1. Data Checking dan Splitting untuk pelatihan model Machine Learning\n",
        "2. Training Model dan Sanity Check\n",
        "3. Perhitungan RMSE untuk masing masing model\n",
        "4. Lakukan bootstrapping untuk 1000 sample untuk melihat distribusi laba\n",
        "5. Perhitungan Laba untuk 200 titik terbaik\n",
        "6. Pilih titik dengan probabilitas kerugian kurang dari 2,5%\n",
        "7. Pilih wilayah dengan laba tertinggi"
      ]
    },
    {
      "cell_type": "markdown",
      "metadata": {
        "toc": true,
        "id": "QgwN4RGSVGGx"
      },
      "source": [
        "<h1>Daftar Isi<span class=\"tocSkip\"></span></h1>\n",
        "<div class=\"toc\"><ul class=\"toc-item\"><li><span><a href=\"#Data-Preparation-&amp;-Library-Importation\" data-toc-modified-id=\"Data-Preparation-&amp;-Library-Importation-1\"><span class=\"toc-item-num\">1&nbsp;&nbsp;</span>Data Preparation &amp; Library Importation</a></span><ul class=\"toc-item\"><li><span><a href=\"#Data-Checking\" data-toc-modified-id=\"Data-Checking-1.1\"><span class=\"toc-item-num\">1.1&nbsp;&nbsp;</span>Data Checking</a></span></li><li><span><a href=\"#Data-Splitting\" data-toc-modified-id=\"Data-Splitting-1.2\"><span class=\"toc-item-num\">1.2&nbsp;&nbsp;</span>Data Splitting</a></span></li></ul></li><li><span><a href=\"#Pembuatan-Model\" data-toc-modified-id=\"Pembuatan-Model-2\"><span class=\"toc-item-num\">2&nbsp;&nbsp;</span>Pembuatan Model</a></span><ul class=\"toc-item\"><li><span><a href=\"#Hasil-Model\" data-toc-modified-id=\"Hasil-Model-2.1\"><span class=\"toc-item-num\">2.1&nbsp;&nbsp;</span>Hasil Model</a></span><ul class=\"toc-item\"><li><span><a href=\"#Region-1\" data-toc-modified-id=\"Region-1-2.1.1\"><span class=\"toc-item-num\">2.1.1&nbsp;&nbsp;</span>Region 1</a></span></li><li><span><a href=\"#Region-2\" data-toc-modified-id=\"Region-2-2.1.2\"><span class=\"toc-item-num\">2.1.2&nbsp;&nbsp;</span>Region 2</a></span></li><li><span><a href=\"#Region-3\" data-toc-modified-id=\"Region-3-2.1.3\"><span class=\"toc-item-num\">2.1.3&nbsp;&nbsp;</span>Region 3</a></span></li><li><span><a href=\"#Insight\" data-toc-modified-id=\"Insight-2.1.4\"><span class=\"toc-item-num\">2.1.4&nbsp;&nbsp;</span>Insight</a></span></li></ul></li><li><span><a href=\"#Sanity-Check\" data-toc-modified-id=\"Sanity-Check-2.2\"><span class=\"toc-item-num\">2.2&nbsp;&nbsp;</span>Sanity Check</a></span></li></ul></li><li><span><a href=\"#Perhitungan-Laba\" data-toc-modified-id=\"Perhitungan-Laba-3\"><span class=\"toc-item-num\">3&nbsp;&nbsp;</span>Perhitungan Laba</a></span></li><li><span><a href=\"#Resiko\" data-toc-modified-id=\"Resiko-4\"><span class=\"toc-item-num\">4&nbsp;&nbsp;</span>Resiko</a></span><ul class=\"toc-item\"><li><span><a href=\"#Distribusi-Laba-dan-Selang-Kepercayaan\" data-toc-modified-id=\"Distribusi-Laba-dan-Selang-Kepercayaan-4.1\"><span class=\"toc-item-num\">4.1&nbsp;&nbsp;</span>Distribusi Laba dan Selang Kepercayaan</a></span></li><li><span><a href=\"#Resiko-Kerugian\" data-toc-modified-id=\"Resiko-Kerugian-4.2\"><span class=\"toc-item-num\">4.2&nbsp;&nbsp;</span>Resiko Kerugian</a></span></li></ul></li><li><span><a href=\"#Kesimpulan\" data-toc-modified-id=\"Kesimpulan-5\"><span class=\"toc-item-num\">5&nbsp;&nbsp;</span>Kesimpulan</a></span></li></ul></div>"
      ]
    },
    {
      "cell_type": "markdown",
      "metadata": {
        "id": "CuSsQ3bkVGGz"
      },
      "source": [
        "## Data Preparation & Library Importation"
      ]
    },
    {
      "cell_type": "markdown",
      "metadata": {
        "id": "fDak2wfEVGGz"
      },
      "source": [
        "Hal yang dilakukan pertama adalah import library yang digunakan"
      ]
    },
    {
      "cell_type": "code",
      "execution_count": null,
      "metadata": {
        "id": "pH7HawOcVGGz"
      },
      "outputs": [],
      "source": [
        "import pandas as pd\n",
        "import matplotlib.pyplot as plt\n",
        "import seaborn as sb\n",
        "import numpy as np\n",
        "\n",
        "from sklearn.linear_model import LinearRegression\n",
        "from sklearn.dummy import DummyRegressor\n",
        "from sklearn.model_selection import train_test_split\n",
        "\n",
        "from sklearn.metrics import mean_squared_error"
      ]
    },
    {
      "cell_type": "markdown",
      "metadata": {
        "id": "gK8llibnVGG0"
      },
      "source": [
        "### Data Checking"
      ]
    },
    {
      "cell_type": "markdown",
      "metadata": {
        "id": "JVZ7m5LfVGG0"
      },
      "source": [
        "Selanjutnya mempersiapkan data yang akan digunakan, dan cek apakah ada hal hal yang kemungkinan akan mengganggu pada proses penyelesaianV proyek ini."
      ]
    },
    {
      "cell_type": "code",
      "execution_count": null,
      "metadata": {
        "id": "sWloFA-yVGG0"
      },
      "outputs": [],
      "source": [
        "reg1 = pd.read_csv('/datasets/geo_data_0.csv')\n",
        "reg2 = pd.read_csv('/datasets/geo_data_1.csv')\n",
        "reg3 = pd.read_csv('/datasets/geo_data_2.csv')"
      ]
    },
    {
      "cell_type": "code",
      "execution_count": null,
      "metadata": {
        "id": "vsTgI532VGG1",
        "outputId": "be3ce39c-88e5-4826-c7c0-ed220e6f756b"
      },
      "outputs": [
        {
          "name": "stdout",
          "output_type": "stream",
          "text": [
            "      id        f0        f1        f2     product\n",
            "0  txEyH  0.705745 -0.497823  1.221170  105.280062\n",
            "1  2acmU  1.334711 -0.340164  4.365080   73.037750\n",
            "2  409Wp  1.022732  0.151990  1.419926   85.265647\n",
            "3  iJLyR -0.032172  0.139033  2.978566  168.620776\n",
            "4  Xdl7t  1.988431  0.155413  4.751769  154.036647\n",
            "      id         f0         f1        f2     product\n",
            "0  kBEdx -15.001348  -8.276000 -0.005876    3.179103\n",
            "1  62mP7  14.272088  -3.475083  0.999183   26.953261\n",
            "2  vyE1P   6.263187  -5.948386  5.001160  134.766305\n",
            "3  KcrkZ -13.081196 -11.506057  4.999415  137.945408\n",
            "4  AHL4O  12.702195  -8.147433  5.004363  134.766305\n",
            "      id        f0        f1        f2     product\n",
            "0  fwXo0 -1.146987  0.963328 -0.828965   27.758673\n",
            "1  WJtFt  0.262778  0.269839 -2.530187   56.069697\n",
            "2  ovLUW  0.194587  0.289035 -5.586433   62.871910\n",
            "3  q6cA6  2.236060 -0.553760  0.930038  114.572842\n",
            "4  WPMUX -0.515993  1.716266  5.899011  149.600746\n"
          ]
        }
      ],
      "source": [
        "print(reg1.head())\n",
        "print(reg2.head())\n",
        "print(reg3.head())"
      ]
    },
    {
      "cell_type": "code",
      "execution_count": null,
      "metadata": {
        "id": "HBkTCWo0VGG1",
        "outputId": "6e0429e4-2765-427b-f092-6d32526bb807"
      },
      "outputs": [
        {
          "name": "stdout",
          "output_type": "stream",
          "text": [
            "<class 'pandas.core.frame.DataFrame'>\n",
            "RangeIndex: 100000 entries, 0 to 99999\n",
            "Data columns (total 5 columns):\n",
            " #   Column   Non-Null Count   Dtype  \n",
            "---  ------   --------------   -----  \n",
            " 0   id       100000 non-null  object \n",
            " 1   f0       100000 non-null  float64\n",
            " 2   f1       100000 non-null  float64\n",
            " 3   f2       100000 non-null  float64\n",
            " 4   product  100000 non-null  float64\n",
            "dtypes: float64(4), object(1)\n",
            "memory usage: 3.8+ MB\n"
          ]
        }
      ],
      "source": [
        "reg1.info()"
      ]
    },
    {
      "cell_type": "code",
      "execution_count": null,
      "metadata": {
        "id": "loFuxaWjVGG2",
        "outputId": "6c91d32d-6a56-436a-88cf-b15dc767a3c3"
      },
      "outputs": [
        {
          "data": {
            "text/html": [
              "<div>\n",
              "<style scoped>\n",
              "    .dataframe tbody tr th:only-of-type {\n",
              "        vertical-align: middle;\n",
              "    }\n",
              "\n",
              "    .dataframe tbody tr th {\n",
              "        vertical-align: top;\n",
              "    }\n",
              "\n",
              "    .dataframe thead th {\n",
              "        text-align: right;\n",
              "    }\n",
              "</style>\n",
              "<table border=\"1\" class=\"dataframe\">\n",
              "  <thead>\n",
              "    <tr style=\"text-align: right;\">\n",
              "      <th></th>\n",
              "      <th>f0</th>\n",
              "      <th>f1</th>\n",
              "      <th>f2</th>\n",
              "      <th>product</th>\n",
              "    </tr>\n",
              "  </thead>\n",
              "  <tbody>\n",
              "    <tr>\n",
              "      <th>count</th>\n",
              "      <td>100000.000000</td>\n",
              "      <td>100000.000000</td>\n",
              "      <td>100000.000000</td>\n",
              "      <td>100000.000000</td>\n",
              "    </tr>\n",
              "    <tr>\n",
              "      <th>mean</th>\n",
              "      <td>0.500419</td>\n",
              "      <td>0.250143</td>\n",
              "      <td>2.502647</td>\n",
              "      <td>92.500000</td>\n",
              "    </tr>\n",
              "    <tr>\n",
              "      <th>std</th>\n",
              "      <td>0.871832</td>\n",
              "      <td>0.504433</td>\n",
              "      <td>3.248248</td>\n",
              "      <td>44.288691</td>\n",
              "    </tr>\n",
              "    <tr>\n",
              "      <th>min</th>\n",
              "      <td>-1.408605</td>\n",
              "      <td>-0.848218</td>\n",
              "      <td>-12.088328</td>\n",
              "      <td>0.000000</td>\n",
              "    </tr>\n",
              "    <tr>\n",
              "      <th>25%</th>\n",
              "      <td>-0.072580</td>\n",
              "      <td>-0.200881</td>\n",
              "      <td>0.287748</td>\n",
              "      <td>56.497507</td>\n",
              "    </tr>\n",
              "    <tr>\n",
              "      <th>50%</th>\n",
              "      <td>0.502360</td>\n",
              "      <td>0.250252</td>\n",
              "      <td>2.515969</td>\n",
              "      <td>91.849972</td>\n",
              "    </tr>\n",
              "    <tr>\n",
              "      <th>75%</th>\n",
              "      <td>1.073581</td>\n",
              "      <td>0.700646</td>\n",
              "      <td>4.715088</td>\n",
              "      <td>128.564089</td>\n",
              "    </tr>\n",
              "    <tr>\n",
              "      <th>max</th>\n",
              "      <td>2.362331</td>\n",
              "      <td>1.343769</td>\n",
              "      <td>16.003790</td>\n",
              "      <td>185.364347</td>\n",
              "    </tr>\n",
              "  </tbody>\n",
              "</table>\n",
              "</div>"
            ],
            "text/plain": [
              "                  f0             f1             f2        product\n",
              "count  100000.000000  100000.000000  100000.000000  100000.000000\n",
              "mean        0.500419       0.250143       2.502647      92.500000\n",
              "std         0.871832       0.504433       3.248248      44.288691\n",
              "min        -1.408605      -0.848218     -12.088328       0.000000\n",
              "25%        -0.072580      -0.200881       0.287748      56.497507\n",
              "50%         0.502360       0.250252       2.515969      91.849972\n",
              "75%         1.073581       0.700646       4.715088     128.564089\n",
              "max         2.362331       1.343769      16.003790     185.364347"
            ]
          },
          "execution_count": 5,
          "metadata": {},
          "output_type": "execute_result"
        }
      ],
      "source": [
        "reg1.describe()"
      ]
    },
    {
      "cell_type": "code",
      "execution_count": null,
      "metadata": {
        "id": "lytTo3WgVGG2",
        "outputId": "1f926c6f-b1e4-4d6a-8e17-2a07cc595a0c"
      },
      "outputs": [
        {
          "name": "stdout",
          "output_type": "stream",
          "text": [
            "<class 'pandas.core.frame.DataFrame'>\n",
            "RangeIndex: 100000 entries, 0 to 99999\n",
            "Data columns (total 5 columns):\n",
            " #   Column   Non-Null Count   Dtype  \n",
            "---  ------   --------------   -----  \n",
            " 0   id       100000 non-null  object \n",
            " 1   f0       100000 non-null  float64\n",
            " 2   f1       100000 non-null  float64\n",
            " 3   f2       100000 non-null  float64\n",
            " 4   product  100000 non-null  float64\n",
            "dtypes: float64(4), object(1)\n",
            "memory usage: 3.8+ MB\n"
          ]
        }
      ],
      "source": [
        "reg2.info()"
      ]
    },
    {
      "cell_type": "code",
      "execution_count": null,
      "metadata": {
        "id": "6T0ajYaVVGG2",
        "outputId": "21ffee90-5681-49e7-be3d-bf2db89c6a10"
      },
      "outputs": [
        {
          "data": {
            "text/html": [
              "<div>\n",
              "<style scoped>\n",
              "    .dataframe tbody tr th:only-of-type {\n",
              "        vertical-align: middle;\n",
              "    }\n",
              "\n",
              "    .dataframe tbody tr th {\n",
              "        vertical-align: top;\n",
              "    }\n",
              "\n",
              "    .dataframe thead th {\n",
              "        text-align: right;\n",
              "    }\n",
              "</style>\n",
              "<table border=\"1\" class=\"dataframe\">\n",
              "  <thead>\n",
              "    <tr style=\"text-align: right;\">\n",
              "      <th></th>\n",
              "      <th>f0</th>\n",
              "      <th>f1</th>\n",
              "      <th>f2</th>\n",
              "      <th>product</th>\n",
              "    </tr>\n",
              "  </thead>\n",
              "  <tbody>\n",
              "    <tr>\n",
              "      <th>count</th>\n",
              "      <td>100000.000000</td>\n",
              "      <td>100000.000000</td>\n",
              "      <td>100000.000000</td>\n",
              "      <td>100000.000000</td>\n",
              "    </tr>\n",
              "    <tr>\n",
              "      <th>mean</th>\n",
              "      <td>1.141296</td>\n",
              "      <td>-4.796579</td>\n",
              "      <td>2.494541</td>\n",
              "      <td>68.825000</td>\n",
              "    </tr>\n",
              "    <tr>\n",
              "      <th>std</th>\n",
              "      <td>8.965932</td>\n",
              "      <td>5.119872</td>\n",
              "      <td>1.703572</td>\n",
              "      <td>45.944423</td>\n",
              "    </tr>\n",
              "    <tr>\n",
              "      <th>min</th>\n",
              "      <td>-31.609576</td>\n",
              "      <td>-26.358598</td>\n",
              "      <td>-0.018144</td>\n",
              "      <td>0.000000</td>\n",
              "    </tr>\n",
              "    <tr>\n",
              "      <th>25%</th>\n",
              "      <td>-6.298551</td>\n",
              "      <td>-8.267985</td>\n",
              "      <td>1.000021</td>\n",
              "      <td>26.953261</td>\n",
              "    </tr>\n",
              "    <tr>\n",
              "      <th>50%</th>\n",
              "      <td>1.153055</td>\n",
              "      <td>-4.813172</td>\n",
              "      <td>2.011479</td>\n",
              "      <td>57.085625</td>\n",
              "    </tr>\n",
              "    <tr>\n",
              "      <th>75%</th>\n",
              "      <td>8.621015</td>\n",
              "      <td>-1.332816</td>\n",
              "      <td>3.999904</td>\n",
              "      <td>107.813044</td>\n",
              "    </tr>\n",
              "    <tr>\n",
              "      <th>max</th>\n",
              "      <td>29.421755</td>\n",
              "      <td>18.734063</td>\n",
              "      <td>5.019721</td>\n",
              "      <td>137.945408</td>\n",
              "    </tr>\n",
              "  </tbody>\n",
              "</table>\n",
              "</div>"
            ],
            "text/plain": [
              "                  f0             f1             f2        product\n",
              "count  100000.000000  100000.000000  100000.000000  100000.000000\n",
              "mean        1.141296      -4.796579       2.494541      68.825000\n",
              "std         8.965932       5.119872       1.703572      45.944423\n",
              "min       -31.609576     -26.358598      -0.018144       0.000000\n",
              "25%        -6.298551      -8.267985       1.000021      26.953261\n",
              "50%         1.153055      -4.813172       2.011479      57.085625\n",
              "75%         8.621015      -1.332816       3.999904     107.813044\n",
              "max        29.421755      18.734063       5.019721     137.945408"
            ]
          },
          "execution_count": 7,
          "metadata": {},
          "output_type": "execute_result"
        }
      ],
      "source": [
        "reg2.describe()"
      ]
    },
    {
      "cell_type": "code",
      "execution_count": null,
      "metadata": {
        "id": "do9XV-sqVGG3",
        "outputId": "7ed63ef3-5bf5-4793-d081-8d2995d05658"
      },
      "outputs": [
        {
          "name": "stdout",
          "output_type": "stream",
          "text": [
            "<class 'pandas.core.frame.DataFrame'>\n",
            "RangeIndex: 100000 entries, 0 to 99999\n",
            "Data columns (total 5 columns):\n",
            " #   Column   Non-Null Count   Dtype  \n",
            "---  ------   --------------   -----  \n",
            " 0   id       100000 non-null  object \n",
            " 1   f0       100000 non-null  float64\n",
            " 2   f1       100000 non-null  float64\n",
            " 3   f2       100000 non-null  float64\n",
            " 4   product  100000 non-null  float64\n",
            "dtypes: float64(4), object(1)\n",
            "memory usage: 3.8+ MB\n"
          ]
        }
      ],
      "source": [
        "reg3.info()"
      ]
    },
    {
      "cell_type": "code",
      "execution_count": null,
      "metadata": {
        "id": "4ucA8u8CVGG3",
        "outputId": "d6d2e623-5896-4123-9575-0fb74f6f739d"
      },
      "outputs": [
        {
          "data": {
            "text/html": [
              "<div>\n",
              "<style scoped>\n",
              "    .dataframe tbody tr th:only-of-type {\n",
              "        vertical-align: middle;\n",
              "    }\n",
              "\n",
              "    .dataframe tbody tr th {\n",
              "        vertical-align: top;\n",
              "    }\n",
              "\n",
              "    .dataframe thead th {\n",
              "        text-align: right;\n",
              "    }\n",
              "</style>\n",
              "<table border=\"1\" class=\"dataframe\">\n",
              "  <thead>\n",
              "    <tr style=\"text-align: right;\">\n",
              "      <th></th>\n",
              "      <th>f0</th>\n",
              "      <th>f1</th>\n",
              "      <th>f2</th>\n",
              "      <th>product</th>\n",
              "    </tr>\n",
              "  </thead>\n",
              "  <tbody>\n",
              "    <tr>\n",
              "      <th>count</th>\n",
              "      <td>100000.000000</td>\n",
              "      <td>100000.000000</td>\n",
              "      <td>100000.000000</td>\n",
              "      <td>100000.000000</td>\n",
              "    </tr>\n",
              "    <tr>\n",
              "      <th>mean</th>\n",
              "      <td>0.002023</td>\n",
              "      <td>-0.002081</td>\n",
              "      <td>2.495128</td>\n",
              "      <td>95.000000</td>\n",
              "    </tr>\n",
              "    <tr>\n",
              "      <th>std</th>\n",
              "      <td>1.732045</td>\n",
              "      <td>1.730417</td>\n",
              "      <td>3.473445</td>\n",
              "      <td>44.749921</td>\n",
              "    </tr>\n",
              "    <tr>\n",
              "      <th>min</th>\n",
              "      <td>-8.760004</td>\n",
              "      <td>-7.084020</td>\n",
              "      <td>-11.970335</td>\n",
              "      <td>0.000000</td>\n",
              "    </tr>\n",
              "    <tr>\n",
              "      <th>25%</th>\n",
              "      <td>-1.162288</td>\n",
              "      <td>-1.174820</td>\n",
              "      <td>0.130359</td>\n",
              "      <td>59.450441</td>\n",
              "    </tr>\n",
              "    <tr>\n",
              "      <th>50%</th>\n",
              "      <td>0.009424</td>\n",
              "      <td>-0.009482</td>\n",
              "      <td>2.484236</td>\n",
              "      <td>94.925613</td>\n",
              "    </tr>\n",
              "    <tr>\n",
              "      <th>75%</th>\n",
              "      <td>1.158535</td>\n",
              "      <td>1.163678</td>\n",
              "      <td>4.858794</td>\n",
              "      <td>130.595027</td>\n",
              "    </tr>\n",
              "    <tr>\n",
              "      <th>max</th>\n",
              "      <td>7.238262</td>\n",
              "      <td>7.844801</td>\n",
              "      <td>16.739402</td>\n",
              "      <td>190.029838</td>\n",
              "    </tr>\n",
              "  </tbody>\n",
              "</table>\n",
              "</div>"
            ],
            "text/plain": [
              "                  f0             f1             f2        product\n",
              "count  100000.000000  100000.000000  100000.000000  100000.000000\n",
              "mean        0.002023      -0.002081       2.495128      95.000000\n",
              "std         1.732045       1.730417       3.473445      44.749921\n",
              "min        -8.760004      -7.084020     -11.970335       0.000000\n",
              "25%        -1.162288      -1.174820       0.130359      59.450441\n",
              "50%         0.009424      -0.009482       2.484236      94.925613\n",
              "75%         1.158535       1.163678       4.858794     130.595027\n",
              "max         7.238262       7.844801      16.739402     190.029838"
            ]
          },
          "execution_count": 9,
          "metadata": {},
          "output_type": "execute_result"
        }
      ],
      "source": [
        "reg3.describe()"
      ]
    },
    {
      "cell_type": "markdown",
      "metadata": {
        "id": "9-FMcLeQVGG3"
      },
      "source": [
        "Data terlihat sudah bersih sehingga bisa langsung dilanjut ke langkah selanjutnya"
      ]
    },
    {
      "cell_type": "markdown",
      "metadata": {
        "id": "C44TCaHNVGG4"
      },
      "source": [
        "### Data Splitting"
      ]
    },
    {
      "cell_type": "markdown",
      "metadata": {
        "id": "tT4rzPmwVGG4"
      },
      "source": [
        "Karena ketiga data tersebut akan digunakan untuk training model, maka dilakukan splitting data menjadi training set dan validation set dengan rasio 75:25, 75 untuk training set dan 25 untuk validation set. Random State digunakan untuk menciptakan hasil yang konsisten."
      ]
    },
    {
      "cell_type": "code",
      "execution_count": null,
      "metadata": {
        "id": "blxGdlNtVGG4",
        "outputId": "91390a75-ff9f-405f-a140-5409ab44bd8e"
      },
      "outputs": [
        {
          "name": "stdout",
          "output_type": "stream",
          "text": [
            "Rasio Training Region 1 adalah 0.75\n",
            "Rasio Validation Region 1 adalah 0.25\n"
          ]
        }
      ],
      "source": [
        "train_reg1, valid_reg1 = train_test_split(reg1, test_size=0.25, random_state=123)\n",
        "print(f'Rasio Training Region 1 adalah {train_reg1.shape[0]/reg1.shape[0]}')\n",
        "print(f'Rasio Validation Region 1 adalah {valid_reg1.shape[0]/reg1.shape[0]}')"
      ]
    },
    {
      "cell_type": "code",
      "execution_count": null,
      "metadata": {
        "id": "hS-6nUR_VGG4",
        "outputId": "754e248c-79d1-4946-b3ae-c581853df4a5"
      },
      "outputs": [
        {
          "name": "stdout",
          "output_type": "stream",
          "text": [
            "Rasio Training Region 2 adalah 0.75\n",
            "Rasio Validation Region 2 adalah 0.25\n"
          ]
        }
      ],
      "source": [
        "train_reg2, valid_reg2 = train_test_split(reg2, test_size=0.25, random_state=123)\n",
        "print(f'Rasio Training Region 2 adalah {train_reg2.shape[0]/reg2.shape[0]}')\n",
        "print(f'Rasio Validation Region 2 adalah {valid_reg2.shape[0]/reg2.shape[0]}')"
      ]
    },
    {
      "cell_type": "code",
      "execution_count": null,
      "metadata": {
        "id": "BaTpXOYTVGG5",
        "outputId": "1ceaaf2f-4a53-473c-903f-006d329c05a2"
      },
      "outputs": [
        {
          "name": "stdout",
          "output_type": "stream",
          "text": [
            "Rasio Training Region 3 adalah 0.75\n",
            "Rasio Validation Region 3 adalah 0.25\n"
          ]
        }
      ],
      "source": [
        "train_reg3, valid_reg3 = train_test_split(reg3, test_size=0.25, random_state=123)\n",
        "print(f'Rasio Training Region 3 adalah {train_reg3.shape[0]/reg3.shape[0]}')\n",
        "print(f'Rasio Validation Region 3 adalah {valid_reg3.shape[0]/reg3.shape[0]}')"
      ]
    },
    {
      "cell_type": "markdown",
      "metadata": {
        "id": "1jotJ-NTVGG5"
      },
      "source": [
        "Data splitting sudah dilakukan. "
      ]
    },
    {
      "cell_type": "markdown",
      "metadata": {
        "id": "Ve-K8UpcVGG5"
      },
      "source": [
        "## Pembuatan Model"
      ]
    },
    {
      "cell_type": "markdown",
      "metadata": {
        "id": "-m74ZsIfVGG5"
      },
      "source": [
        "Karena model yang cocok untuk keadaan ini adalah Regresi Linier, maka Regresi Linier lah yang akan dipilih untuk prediksi."
      ]
    },
    {
      "cell_type": "code",
      "execution_count": null,
      "metadata": {
        "id": "lenxBIERVGG6"
      },
      "outputs": [],
      "source": [
        "def prediksi_model(dataset_train, dataset_valid, region_number):\n",
        "    model = LinearRegression()\n",
        "    #features dan target\n",
        "    features_train = dataset_train.drop(['id','product'], axis=1)\n",
        "    target_train = dataset_train['product']\n",
        "    features_valid = dataset_valid.drop(['id','product'], axis=1)\n",
        "    target_valid = dataset_valid['product']\n",
        "    #fit model\n",
        "    model.fit(features_train, target_train)\n",
        "    #prediction\n",
        "    predict_train = model.predict(features_train)\n",
        "    predict_valid = model.predict(features_valid)\n",
        "    #RMSE check\n",
        "    rmse_train = mean_squared_error(target_train, predict_train)**0.5\n",
        "    rmse_valid = mean_squared_error(target_valid, predict_valid)**0.5\n",
        "    #average product mean\n",
        "    avg_train_mean = predict_train.mean()\n",
        "    avg_valid_mean = predict_valid.mean()\n",
        "    #results\n",
        "    print(f'Result dari Region {region_number}')\n",
        "    print(f'RMSE Train    : {rmse_train}')\n",
        "    print(f'RMSE Valid    : {rmse_valid}')\n",
        "    print(f'Average Train : {avg_train_mean}')\n",
        "    print(f'Average Valid : {avg_valid_mean}')\n",
        "    \n",
        "    return model, target_valid, predict_valid ,rmse_train, rmse_valid, avg_train_mean, avg_valid_mean"
      ]
    },
    {
      "cell_type": "markdown",
      "metadata": {
        "id": "SUA3GTAxVGG6"
      },
      "source": [
        "### Hasil Model"
      ]
    },
    {
      "cell_type": "markdown",
      "metadata": {
        "id": "qGVxlqygVGG6"
      },
      "source": [
        "#### Region 1"
      ]
    },
    {
      "cell_type": "code",
      "execution_count": null,
      "metadata": {
        "id": "uNX4UeTDVGG6",
        "outputId": "e0b546a0-3156-408d-c06f-bc61b2cd4f87"
      },
      "outputs": [
        {
          "name": "stdout",
          "output_type": "stream",
          "text": [
            "Result dari Region 1\n",
            "RMSE Train    : 37.7066217749194\n",
            "RMSE Valid    : 37.64786282376176\n",
            "Average Train : 92.38312536292186\n",
            "Average Valid : 92.54936189116306\n"
          ]
        }
      ],
      "source": [
        "model_1, real_1, predict_1, rmse_train_1, rmse_valid_1, avg_train_mean_1, avg_valid_mean_1= prediksi_model(train_reg1, valid_reg1, 1) "
      ]
    },
    {
      "cell_type": "markdown",
      "metadata": {
        "id": "-hQXE0W1VGG7"
      },
      "source": [
        "Rerata yang dihasilkan memang sangat besar yaitu 92-ish, namun RMSE yang didapat sangat besar, hal ini berarti bisa dibilang high risk high return."
      ]
    },
    {
      "cell_type": "markdown",
      "metadata": {
        "id": "YGbSDP-NVGG7"
      },
      "source": [
        "#### Region 2"
      ]
    },
    {
      "cell_type": "code",
      "execution_count": null,
      "metadata": {
        "scrolled": true,
        "id": "u5K9_jz8VGG7",
        "outputId": "6f503232-439e-4db3-dc7b-8725948a2959"
      },
      "outputs": [
        {
          "name": "stdout",
          "output_type": "stream",
          "text": [
            "Result dari Region 2\n",
            "RMSE Train    : 0.8886960397498725\n",
            "RMSE Valid    : 0.8954139804944313\n",
            "Average Train : 68.67542921307366\n",
            "Average Valid : 69.28001860653976\n"
          ]
        }
      ],
      "source": [
        "model_2, real_2, predict_2, rmse_train_2, rmse_valid_2, avg_train_mean_2, avg_valid_mean_2 = prediksi_model(train_reg2, valid_reg2, 2)"
      ]
    },
    {
      "cell_type": "markdown",
      "metadata": {
        "id": "sw02Q1GxVGG8"
      },
      "source": [
        "Rerata yang dihasilkan adalah sekitar 68-69, namun jika dilihat RMSEnya, Region 2 ini adalah Region yang memiliki RMSE terkecil, bisa dibilang model yang dibuat dengan data yang disediakan sudah cukup baik sehingga dapat memprediksi dengan kesalahan yang minim."
      ]
    },
    {
      "cell_type": "markdown",
      "metadata": {
        "id": "5yGJor9wVGG8"
      },
      "source": [
        "#### Region 3"
      ]
    },
    {
      "cell_type": "code",
      "execution_count": null,
      "metadata": {
        "scrolled": true,
        "id": "lVZCsg3_VGG8",
        "outputId": "2bf166ac-32d3-4646-9c42-11a48496170e"
      },
      "outputs": [
        {
          "name": "stdout",
          "output_type": "stream",
          "text": [
            "Result dari Region 3\n",
            "RMSE Train    : 40.031329210408806\n",
            "RMSE Valid    : 40.12803006598514\n",
            "Average Train : 95.042170604466\n",
            "Average Valid : 95.09859933591373\n"
          ]
        }
      ],
      "source": [
        "model_3, real_3, predict_3, rmse_train_3, rmse_valid_3, avg_train_mean_3, avg_valid_mean_3 = prediksi_model(train_reg3, valid_reg3, 3)"
      ]
    },
    {
      "cell_type": "markdown",
      "metadata": {
        "id": "U6HmbSOiVGG8"
      },
      "source": [
        "Rerata yang dihasilkan Region 3 sangat besar jika dibandingkan dengan Region lain, kasusnya sama dengan Region 1, model yang dibuat tidak terlalu bekerja dengan baik dengan data yang disediakan sehingga error yang didapat mun cukup besar."
      ]
    },
    {
      "cell_type": "markdown",
      "metadata": {
        "id": "HvgVia4TVGG9"
      },
      "source": [
        "#### Insight"
      ]
    },
    {
      "cell_type": "markdown",
      "metadata": {
        "id": "yS-ISXy9VGG9"
      },
      "source": [
        "Dari ketiga region yang tertera diatas, untuk saat ini region 2 adalah pilihan yang cukup menjanjikan, dengan error yang sedikit namun untuk produk yang dihasilkan bisa dibilang lumayan. Jadi untuk saat ini Region 2 akan dipilih untuk sementara."
      ]
    },
    {
      "cell_type": "code",
      "execution_count": null,
      "metadata": {
        "id": "qrO8X5iKVGG9"
      },
      "outputs": [],
      "source": [
        "def grafik_komparasi(data1,data2,data3,nama_data,judul):\n",
        "    compare = [data1,data2,data3]\n",
        "    compare = pd.DataFrame(compare)\n",
        "    compare['Region'] = ['Region 1','Region 2','Region 3']\n",
        "    compare.columns = [nama_data,'Region']\n",
        "    plt.figure(figsize=(5,5))\n",
        "    plot_s = sb.barplot(data=compare, x='Region', y=nama_data)\n",
        "    for i in plot_s.patches:\n",
        "        plot_s.annotate(format(i.get_height(), '.1f'),\n",
        "                       (i.get_x() + i.get_width() / 2., i.get_height()),\n",
        "                       ha = 'center', va = 'center',\n",
        "                       xytext = (0, 6),\n",
        "                       textcoords = 'offset points')\n",
        "    plt.title(judul)\n",
        "    plt.show()"
      ]
    },
    {
      "cell_type": "code",
      "execution_count": null,
      "metadata": {
        "scrolled": false,
        "id": "tA1iUjZnVGG9",
        "outputId": "72d98cda-38cc-4acb-ce4f-367420b373da"
      },
      "outputs": [
        {
          "data": {
            "image/png": "[encoded data removed]",
            "text/plain": [
              "<Figure size 360x360 with 1 Axes>"
            ]
          },
          "metadata": {
            "needs_background": "light"
          },
          "output_type": "display_data"
        },
        {
          "data": {
            "image/png": "[encoded data removed]",
            "text/plain": [
              "<Figure size 360x360 with 1 Axes>"
            ]
          },
          "metadata": {
            "needs_background": "light"
          },
          "output_type": "display_data"
        }
      ],
      "source": [
        "grafik_komparasi(rmse_valid_1, rmse_valid_2, rmse_valid_3, 'RMSE', \"Komparasi RMSE tiap Region\")\n",
        "grafik_komparasi(avg_valid_mean_1, avg_valid_mean_2, avg_valid_mean_3, 'Mean', 'Komparasi rata-rata tiap Region')"
      ]
    },
    {
      "cell_type": "markdown",
      "metadata": {
        "id": "1bi33HpdVGG9"
      },
      "source": [
        "Terlihat bahwa pada grafik diatas, bahwa rata-rata yang didapatkan pada Region 1 dan Region 3 tidak sepadan untuk menggantikan Region 2 yang memiliki RMSE yang sangat kecil."
      ]
    },
    {
      "cell_type": "markdown",
      "metadata": {
        "id": "UabwduvOVGG-"
      },
      "source": [
        "### Sanity Check"
      ]
    },
    {
      "cell_type": "markdown",
      "metadata": {
        "id": "f6Tln6aeVGG-"
      },
      "source": [
        "Sanity Check yang akan dilakukan, dikomparasi terhadap region 2. Hal ini dilakukan karena Region 2 untuk sementara akan dijadikan titik yang akan dipilih."
      ]
    },
    {
      "cell_type": "code",
      "execution_count": null,
      "metadata": {
        "id": "Zrj9sOEFVGG-",
        "outputId": "4988af49-b354-4cad-a35e-abb241cee6ba"
      },
      "outputs": [
        {
          "name": "stdout",
          "output_type": "stream",
          "text": [
            "RMSE model dummy      : 45.98490821857127\n",
            "Average predict dummy : 68.67542921307368\n",
            "Average real dummy    : 68.67542921307367\n"
          ]
        }
      ],
      "source": [
        "model_dummy = DummyRegressor()\n",
        "features_dummy = train_reg2.drop(['id','product'], axis=1)\n",
        "target_dummy = train_reg2['product']\n",
        "model_dummy.fit(features_dummy, target_dummy)\n",
        "print(f'RMSE model dummy      : {mean_squared_error(target_dummy, model_dummy.predict(features_dummy))**0.5}')\n",
        "print(f'Average predict dummy : {model_dummy.predict(features_dummy).mean()}')\n",
        "print(f'Average real dummy    : {target_dummy.mean()}')"
      ]
    },
    {
      "cell_type": "markdown",
      "metadata": {
        "id": "QC7amNcpVGG-"
      },
      "source": [
        "Memang untuk rata rata yang dihasilkan dari model dummy sangat dekat dengan rata rata yang dihasilkan dari model regresi linier yang dibuat, namun untuk RMSE yang dihasilkan model dummy sangat jauh dibandingkan dengan model regresi linier yang dibuat. Hal ini berarti model yang dibuat untuk Region 2 bekerja dengan baik."
      ]
    },
    {
      "cell_type": "markdown",
      "metadata": {
        "id": "3sZt05ofVGG_"
      },
      "source": [
        "## Perhitungan Laba"
      ]
    },
    {
      "cell_type": "markdown",
      "metadata": {
        "id": "6UC-ORI0VGG_"
      },
      "source": [
        "Dalam perhitungan laba, terdapat kondisi kondisi yang harus diperhatikan yaitu, biaya untuk pembuatan 200 sumur adalah 100 Juta USD, dengan harga seribu barel yaitu 4500 USD."
      ]
    },
    {
      "cell_type": "markdown",
      "metadata": {
        "id": "P7MhdZrAVGG_"
      },
      "source": [
        "Sebelum melangkah lebih jauh, sekecil kecilnya laba harus lebih besar dari biaya pembuatan 200 sumur yaitu 100 Juta USD."
      ]
    },
    {
      "cell_type": "code",
      "execution_count": null,
      "metadata": {
        "id": "eCPs0AopVGG_",
        "outputId": "42b32477-0be4-4731-85d1-a0f1349d1c78"
      },
      "outputs": [
        {
          "name": "stdout",
          "output_type": "stream",
          "text": [
            "Sehingga, minimal minyak cadangan yang harus ada pada 200 sumur dalam wilayah yang akan dipilih adalah 22222.222222222223 ribu barel\n"
          ]
        }
      ],
      "source": [
        "biaya200titik = 100e6\n",
        "titik = 200\n",
        "income = 4500\n",
        "biaya_per_titik = biaya200titik/titik\n",
        "print(f'Sehingga, minimal minyak cadangan yang harus ada pada 200 sumur dalam wilayah yang akan dipilih adalah {biaya200titik/income} ribu barel')"
      ]
    },
    {
      "cell_type": "code",
      "execution_count": null,
      "metadata": {
        "id": "69GZbOBDVGG_"
      },
      "outputs": [],
      "source": [
        "def keuntungan(predict, region_ke, income=4500, biaya_200_titik = 100e6, titik = 200):\n",
        "    predict = pd.Series(predict)\n",
        "    best_200 = predict.sort_values(ascending=False)[:200]\n",
        "    product = best_200.sum()\n",
        "    total_income = income * product\n",
        "    profit = total_income - biaya_200_titik\n",
        "\n",
        "    print(f'Data Geo Data {region_ke}')\n",
        "    print('-----------------------------------------------')\n",
        "    print(f'Jumlah Barel dalam ribuan      : {product}')\n",
        "    print(f'Jumlah produk lebih dari batas : {product - biaya200titik/income}')\n",
        "    print(f'Laba                           : {profit}')\n",
        "    print(f'Total Cost                     : {biaya_200_titik}')\n",
        "    print(f'Total Income                   : {total_income}')\n",
        "    print('-----------------------------------------------')\n",
        "    return total_income"
      ]
    },
    {
      "cell_type": "code",
      "execution_count": null,
      "metadata": {
        "id": "cyzGCmANVGG_",
        "outputId": "91181ed2-5ad6-492f-a345-d953372d3374"
      },
      "outputs": [
        {
          "name": "stdout",
          "output_type": "stream",
          "text": [
            "Data Geo Data Region 1\n",
            "-----------------------------------------------\n",
            "Jumlah Barel dalam ribuan      : 31034.787805093576\n",
            "Jumlah produk lebih dari batas : 8812.565582871353\n",
            "Laba                           : 39656545.12292108\n",
            "Total Cost                     : 100000000.0\n",
            "Total Income                   : 139656545.12292108\n",
            "-----------------------------------------------\n",
            "Data Geo Data Region 2\n",
            "-----------------------------------------------\n",
            "Jumlah Barel dalam ribuan      : 27755.76198279395\n",
            "Jumlah produk lebih dari batas : 5533.539760571726\n",
            "Laba                           : 24900928.922572777\n",
            "Total Cost                     : 100000000.0\n",
            "Total Income                   : 124900928.92257278\n",
            "-----------------------------------------------\n",
            "Data Geo Data Region 3\n",
            "-----------------------------------------------\n",
            "Jumlah Barel dalam ribuan      : 29943.443110391767\n",
            "Jumlah produk lebih dari batas : 7721.220888169544\n",
            "Laba                           : 34745493.99676296\n",
            "Total Cost                     : 100000000.0\n",
            "Total Income                   : 134745493.99676296\n",
            "-----------------------------------------------\n"
          ]
        }
      ],
      "source": [
        "laba_bersih_1 = keuntungan(predict_1,\"Region 1\")\n",
        "laba_bersih_2 = keuntungan(predict_2,\"Region 2\")\n",
        "laba_bersih_3 = keuntungan(predict_3,\"Region 3\")"
      ]
    },
    {
      "cell_type": "code",
      "execution_count": null,
      "metadata": {
        "id": "GZbKc6tpVGHA",
        "outputId": "512cd70c-aab7-4918-c55e-1a03c9ba86d3"
      },
      "outputs": [
        {
          "data": {
            "image/png": "[encoded data removed]",
            "text/plain": [
              "<Figure size 360x360 with 1 Axes>"
            ]
          },
          "metadata": {
            "needs_background": "light"
          },
          "output_type": "display_data"
        }
      ],
      "source": [
        "grafik_komparasi(laba_bersih_1, laba_bersih_2, laba_bersih_3, \"Laba Bersih\", \"Perbandingan Laba Bersih\")"
      ]
    },
    {
      "cell_type": "markdown",
      "metadata": {
        "id": "tOvxWLy4VGHA"
      },
      "source": [
        "Dari grafik yang ditampilkan diatas, terlihat bahwa Region 1 memiliki Laba Bersih terbanyak dan disusul oleh Region 3, dan yang terakhir adalah Region 2. Mungkin jika hanya mengandalkan grafik ini saja, Region 1 akan dipilih menjadi wilayah untuk projek penambangan minyak selanjutnya, namun ada hal penting yang harus diperhatikan yaitu nilai RMSE di Region 1 dan Region 3 sangat besar. Hal ini menandakan bahwa pemodelan yang dibuat \"memang\" bisa memprediksi namun memiliki error yang bisa dikatakan besar, berbeda dengan Region 2 yang memiliki RMSE yang kecil (bahkan dibawah 1), meskipun Laba bersih yang didapatkan lebih sedikit dibandingkan dengan kedua region lain, namun untuk perbandingan kali ini, Region 2 masuk dalam kategori tidak buruk dengan RMSE yang sangat kecil."
      ]
    },
    {
      "cell_type": "markdown",
      "metadata": {
        "id": "9ZMSS_5DVGHA"
      },
      "source": [
        "Namun sebelum benar benar memilih Region 2, ada hal lebih lanjut yang harus diperhatikan yaitu tentang distribusi laba, resiko kerugian, dan selang kepercayaan 95%."
      ]
    },
    {
      "cell_type": "markdown",
      "metadata": {
        "id": "L-_k7qZOVGHB"
      },
      "source": [
        "## Resiko"
      ]
    },
    {
      "cell_type": "markdown",
      "metadata": {
        "id": "KNNhp1sBVGHB"
      },
      "source": [
        "Karena dalam bisnis ada yang namanya kegagalan, maka untuk menghindari kegagalan tersebut dilakukan analisa resiko yang akan dihadapi, salah satunya adalah resiko kerugian."
      ]
    },
    {
      "cell_type": "markdown",
      "metadata": {
        "id": "ig9zCm2-VGHB"
      },
      "source": [
        "### Distribusi Laba dan Selang Kepercayaan"
      ]
    },
    {
      "cell_type": "markdown",
      "metadata": {
        "id": "lZt2d76pVGHB"
      },
      "source": [
        "Untuk mengetahui distribusi laba, digunakan teknik bootstrapping 1000 kali dengan 500 sampel."
      ]
    },
    {
      "cell_type": "code",
      "execution_count": null,
      "metadata": {
        "id": "X68nk6TQVGHB"
      },
      "outputs": [],
      "source": [
        "state = np.random.RandomState(12345)\n",
        "def boostrap_laba(data, region_ke):\n",
        "    values = []\n",
        "    for i in range(1000):\n",
        "        data = pd.Series(data)\n",
        "        target_subsample = data.sample(n=500, replace=True, random_state=state)    \n",
        "        values.append(target_subsample.mean())\n",
        "    values = pd.Series(values)\n",
        "    print(f'Rata-rata mean {region_ke} setelah dilakukan bootstrap sebanyak 1000 kali dengan 500 sample adalah : {values.mean()}')\n",
        "    print(f'Selang kepercayaan 95% didapat untuk batas bawah adalah {values.quantile(0.05)}')\n",
        "    print(f'dan batas atas adalah {values.quantile(0.95)} dengan perbedaan {values.quantile(0.95)-values.quantile(0.05)}')\n",
        "    print('-----------------------------------------------------------------------------------')\n",
        "    plt.figure(figsize=(8,5))\n",
        "    sb.histplot(values)\n",
        "    plt.axvline(x=values.mean(), color='red',ls='-')\n",
        "    plt.axvline(x=values.median(), color='green', ls='--')\n",
        "    plt.xlabel(\"Mean\")\n",
        "    plt.ylabel(\"Jumlah\")\n",
        "    plt.title(f'Distribusi Data {region_ke}')"
      ]
    },
    {
      "cell_type": "code",
      "execution_count": null,
      "metadata": {
        "id": "sBfej0n6VGHC",
        "outputId": "181a7d17-27b5-42a3-e075-fba53b768a21"
      },
      "outputs": [
        {
          "name": "stdout",
          "output_type": "stream",
          "text": [
            "Rata-rata mean Region 1 setelah dilakukan bootstrap sebanyak 1000 kali dengan 500 sample adalah : 92.61067830653309\n",
            "Selang kepercayaan 95% didapat untuk batas bawah adalah 90.8526966840954\n",
            "dan batas atas adalah 94.33335117195624 dengan perbedaan 3.480654487860832\n",
            "-----------------------------------------------------------------------------------\n",
            "Rata-rata mean Region 2 setelah dilakukan bootstrap sebanyak 1000 kali dengan 500 sample adalah : 69.32874015191274\n",
            "Selang kepercayaan 95% didapat untuk batas bawah adalah 65.99873176714861\n",
            "dan batas atas adalah 72.74139167384074 dengan perbedaan 6.742659906692126\n",
            "-----------------------------------------------------------------------------------\n",
            "Rata-rata mean Region 3 setelah dilakukan bootstrap sebanyak 1000 kali dengan 500 sample adalah : 95.11355118106225\n",
            "Selang kepercayaan 95% didapat untuk batas bawah adalah 93.58651355743618\n",
            "dan batas atas adalah 96.58455812844389 dengan perbedaan 2.9980445710077106\n",
            "-----------------------------------------------------------------------------------\n"
          ]
        },
        {
          "data": {
            "image/png": "[encoded data removed]",
            "text/plain": [
              "<Figure size 576x360 with 1 Axes>"
            ]
          },
          "metadata": {
            "needs_background": "light"
          },
          "output_type": "display_data"
        },
        {
          "data": {
            "image/png": "[encoded data removed]",
            "text/plain": [
              "<Figure size 576x360 with 1 Axes>"
            ]
          },
          "metadata": {
            "needs_background": "light"
          },
          "output_type": "display_data"
        },
        {
          "data": {
            "image/png": "[encoded data removed]",
            "text/plain": [
              "<Figure size 576x360 with 1 Axes>"
            ]
          },
          "metadata": {
            "needs_background": "light"
          },
          "output_type": "display_data"
        }
      ],
      "source": [
        "boostrap_laba(predict_1, \"Region 1\")\n",
        "boostrap_laba(predict_2, \"Region 2\")\n",
        "boostrap_laba(predict_3, \"Region 3\")"
      ]
    },
    {
      "cell_type": "markdown",
      "metadata": {
        "id": "hvrAS1aiVGHC"
      },
      "source": [
        "Jika dilihat dari bootstrap yang sudah dilakukan, data data tersebut bisa dianggap memiliki distribusi normal, ditandai dengan posisi mean dan median yang berdekatan."
      ]
    },
    {
      "cell_type": "markdown",
      "metadata": {
        "id": "F-DQz2_pVGHD"
      },
      "source": [
        "### Resiko Kerugian"
      ]
    },
    {
      "cell_type": "markdown",
      "metadata": {
        "id": "pOQHF6M8VGHD"
      },
      "source": [
        "Karena yang akan dijadikan studi adalah 500 titik, maka 500 titik terbaik akan dijadikan acuan dalam penentuan resiko kerugian."
      ]
    },
    {
      "cell_type": "code",
      "execution_count": null,
      "metadata": {
        "id": "3JNP1aYeVGHD"
      },
      "outputs": [],
      "source": [
        "def kerugian(asli,prediksi,region_ke):\n",
        "    data_laba = pd.DataFrame({'real': asli})\n",
        "    data_laba['prediction'] = prediksi\n",
        "    data_laba['predict_income'] = data_laba['prediction'] * 4500\n",
        "    data_laba['real_income'] = data_laba['real'] * 4500\n",
        "    data_laba['cost/point'] = 100e6/200\n",
        "    data_laba['profit'] = data_laba['predict_income'] - data_laba['cost/point']\n",
        "    data_laba = data_laba.sort_values(by='profit', ascending=False)[:500]\n",
        "    print(f'Jumlah kerugian sumur pada {region_ke} jika hanya 500 titik terbaik yang di riset adalah {(data_laba.profit<0).sum()}')"
      ]
    },
    {
      "cell_type": "code",
      "execution_count": null,
      "metadata": {
        "id": "D3_df_9oVGHE",
        "outputId": "a19a2853-1ba1-41dd-ad11-a5e715bed526"
      },
      "outputs": [
        {
          "name": "stdout",
          "output_type": "stream",
          "text": [
            "Jumlah kerugian sumur pada Region 1 jika hanya 500 titik terbaik yang di riset adalah 0\n",
            "Jumlah kerugian sumur pada Region 2 jika hanya 500 titik terbaik yang di riset adalah 0\n",
            "Jumlah kerugian sumur pada Region 3 jika hanya 500 titik terbaik yang di riset adalah 0\n"
          ]
        }
      ],
      "source": [
        "kerugian(real_1,predict_1,\"Region 1\")\n",
        "kerugian(real_2,predict_2,\"Region 2\")\n",
        "kerugian(real_3,predict_3,\"Region 3\")\n",
        "\n"
      ]
    },
    {
      "cell_type": "markdown",
      "metadata": {
        "id": "48NRd-qEVGHE"
      },
      "source": [
        "Terlihat di semua wilayah bahwa 500 titik terbaik memiliki profit yang plus. Namun yang perlu diperhatikan adalah berapa jumlah profitnya?"
      ]
    },
    {
      "cell_type": "markdown",
      "metadata": {
        "id": "1FNYQRAVVGHE"
      },
      "source": [
        "Hal ini sudah dilakukan sebelumnya di Bagian 3 Perhitungan Laba, dan yang paling menguntungkan jika mendapat titik terbaik adalah Region 1, dilanjut Region 3, dan terakhir Region 2. Namun, Region 2 memiliki RMSE yang paling kecil yaitu dibawah 1, sehingga penambangan di wilayah ini tidak terlalu \"gamble\"."
      ]
    },
    {
      "cell_type": "markdown",
      "metadata": {
        "id": "80BIiDblVGHE"
      },
      "source": [
        "## Kesimpulan"
      ]
    },
    {
      "cell_type": "markdown",
      "metadata": {
        "id": "BheTw-UqVGHF"
      },
      "source": [
        "Kesimpulan yang didapatkan adalah \n",
        "1. Region 1 memiliki potensi yang paling besar dibandingkan region lainnya.\n",
        "2. Region 2 memiliki RMSE yang paling kecil, dan jika dibanding dengan yang lainnya, perbedaannya sangat jauh.\n",
        "3. Jika dilakukan studi di 500 titik terbaik, maka semua Region memiliki jumlah sumur berpotensi rugi yang sama, yaitu 0.\n",
        "4. Dengan mempertimbangkan resiko rugi, dan RMSE yang didapat, maka Region 2 akan menjadi pilihan yang lebih berharga, meskipun Region lain memiliki keuntungan yang lebih besar dibanding Region 2, namun tetap saja region tersebut akan menjadi wilayah yang sedikit \"gamble\"."
      ]
    }
  ],
  "metadata": {
    "kernelspec": {
      "display_name": "Python 3 (ipykernel)",
      "language": "python",
      "name": "python3"
    },
    "language_info": {
      "codemirror_mode": {
        "name": "ipython",
        "version": 3
      },
      "file_extension": ".py",
      "mimetype": "text/x-python",
      "name": "python",
      "nbconvert_exporter": "python",
      "pygments_lexer": "ipython3",
      "version": "3.9.5"
    },
    "toc": {
      "base_numbering": 1,
      "nav_menu": {},
      "number_sections": true,
      "sideBar": true,
      "skip_h1_title": true,
      "title_cell": "Daftar Isi",
      "title_sidebar": "Contents",
      "toc_cell": true,
      "toc_position": {
        "height": "calc(100% - 180px)",
        "left": "10px",
        "top": "150px",
        "width": "356.797px"
      },
      "toc_section_display": true,
      "toc_window_display": false
    },
    "colab": {
      "provenance": [],
      "include_colab_link": true
    }
  },
  "nbformat": 4,
  "nbformat_minor": 0
}