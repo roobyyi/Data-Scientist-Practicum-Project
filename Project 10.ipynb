{
  "cells": [
    {
      "cell_type": "markdown",
      "metadata": {
        "id": "view-in-github",
        "colab_type": "text"
      },
      "source": [
        "<a href=\"https://colab.research.google.com/github/roobyyi/Data-Scientist-Practicum-Project/blob/main/Project%2010.ipynb\" target=\"_parent\"><img src=\"https://colab.research.google.com/assets/colab-badge.svg\" alt=\"Open In Colab\"/></a>"
      ]
    },
    {
      "cell_type": "markdown",
      "metadata": {
        "id": "C_aTjp9JZE-_"
      },
      "source": [
        "Rusty Bargain adalah perusahaan jual beli mobil bekas yang sedang mengembangkan sebuah aplikasi untuk menarik pembeli baru. Di aplikasi tersebut, kamu bisa menemukan harga pasaran sebuah mobil. Kamu memiliki akses ke data historis: spesifikasi, versi, dan harga kendaraan. Kamu perlu membuat model untuk menentukan nilainya. \n",
        "\n",
        "Rusty Bargain tertarik pada:\n",
        "\n",
        "- kualitas prediksi;\n",
        "- kecepatan model dalam memprediksi;\n",
        "- waktu yang diperlukan untuk melatih model"
      ]
    },
    {
      "cell_type": "markdown",
      "metadata": {
        "toc": true,
        "id": "nu9GGDZIZE-_"
      },
      "source": [
        "<h1>Table of Contents<span class=\"tocSkip\"></span></h1>\n",
        "<div class=\"toc\"><ul class=\"toc-item\"><li><span><a href=\"#Persiapan-Data\" data-toc-modified-id=\"Persiapan-Data-1\"><span class=\"toc-item-num\">1&nbsp;&nbsp;</span>Persiapan Data</a></span><ul class=\"toc-item\"><li><span><a href=\"#Import-Data\" data-toc-modified-id=\"Import-Data-1.1\"><span class=\"toc-item-num\">1.1&nbsp;&nbsp;</span>Import Data</a></span></li><li><span><a href=\"#Explorasi-Data-dan-Data-Adjustment\" data-toc-modified-id=\"Explorasi-Data-dan-Data-Adjustment-1.2\"><span class=\"toc-item-num\">1.2&nbsp;&nbsp;</span>Explorasi Data dan Data Adjustment</a></span></li><li><span><a href=\"#Encoding\" data-toc-modified-id=\"Encoding-1.3\"><span class=\"toc-item-num\">1.3&nbsp;&nbsp;</span>Encoding</a></span></li><li><span><a href=\"#Split-Data\" data-toc-modified-id=\"Split-Data-1.4\"><span class=\"toc-item-num\">1.4&nbsp;&nbsp;</span>Split Data</a></span></li></ul></li><li><span><a href=\"#Pelatihan-Model\" data-toc-modified-id=\"Pelatihan-Model-2\"><span class=\"toc-item-num\">2&nbsp;&nbsp;</span>Pelatihan Model</a></span><ul class=\"toc-item\"><li><span><a href=\"#Linear-Regression\" data-toc-modified-id=\"Linear-Regression-2.1\"><span class=\"toc-item-num\">2.1&nbsp;&nbsp;</span>Linear Regression</a></span></li><li><span><a href=\"#XGBoost\" data-toc-modified-id=\"XGBoost-2.2\"><span class=\"toc-item-num\">2.2&nbsp;&nbsp;</span>XGBoost</a></span></li><li><span><a href=\"#Random-Forest\" data-toc-modified-id=\"Random-Forest-2.3\"><span class=\"toc-item-num\">2.3&nbsp;&nbsp;</span>Random Forest</a></span></li><li><span><a href=\"#LightGBM\" data-toc-modified-id=\"LightGBM-2.4\"><span class=\"toc-item-num\">2.4&nbsp;&nbsp;</span>LightGBM</a></span></li><li><span><a href=\"#CatBooost\" data-toc-modified-id=\"CatBooost-2.5\"><span class=\"toc-item-num\">2.5&nbsp;&nbsp;</span>CatBooost</a></span></li></ul></li><li><span><a href=\"#Analisis-model\" data-toc-modified-id=\"Analisis-model-3\"><span class=\"toc-item-num\">3&nbsp;&nbsp;</span>Analisis model</a></span></li></ul></div>"
      ]
    },
    {
      "cell_type": "code",
      "execution_count": null,
      "metadata": {
        "id": "O-K1nTapZE_A"
      },
      "outputs": [],
      "source": [
        "import matplotlib.pyplot as plt\n",
        "import pandas as pd\n",
        "import numpy as np\n",
        "import seaborn as sb"
      ]
    },
    {
      "cell_type": "markdown",
      "metadata": {
        "id": "DKIkWP65ZE_A"
      },
      "source": [
        "## Persiapan Data"
      ]
    },
    {
      "cell_type": "markdown",
      "metadata": {
        "id": "se4apKZ0ZE_B"
      },
      "source": [
        "### Import Data"
      ]
    },
    {
      "cell_type": "code",
      "execution_count": null,
      "metadata": {
        "id": "60u-WIM7ZE_B",
        "outputId": "7afe29cc-4528-4d45-e4a8-7f2171a68fe4"
      },
      "outputs": [
        {
          "name": "stdout",
          "output_type": "stream",
          "text": [
            "<class 'pandas.core.frame.DataFrame'>\n",
            "RangeIndex: 354369 entries, 0 to 354368\n",
            "Data columns (total 16 columns):\n",
            " #   Column             Non-Null Count   Dtype \n",
            "---  ------             --------------   ----- \n",
            " 0   DateCrawled        354369 non-null  object\n",
            " 1   Price              354369 non-null  int64 \n",
            " 2   VehicleType        316879 non-null  object\n",
            " 3   RegistrationYear   354369 non-null  int64 \n",
            " 4   Gearbox            334536 non-null  object\n",
            " 5   Power              354369 non-null  int64 \n",
            " 6   Model              334664 non-null  object\n",
            " 7   Kilometer          354369 non-null  int64 \n",
            " 8   RegistrationMonth  354369 non-null  int64 \n",
            " 9   FuelType           321474 non-null  object\n",
            " 10  Brand              354369 non-null  object\n",
            " 11  NotRepaired        283215 non-null  object\n",
            " 12  DateCreated        354369 non-null  object\n",
            " 13  NumberOfPictures   354369 non-null  int64 \n",
            " 14  PostalCode         354369 non-null  int64 \n",
            " 15  LastSeen           354369 non-null  object\n",
            "dtypes: int64(7), object(9)\n",
            "memory usage: 43.3+ MB\n"
          ]
        }
      ],
      "source": [
        "data = pd.read_csv('/datasets/autos.csv')\n",
        "data.info()"
      ]
    },
    {
      "cell_type": "markdown",
      "metadata": {
        "id": "bI4PHnY1ZE_B"
      },
      "source": [
        "Sebelum memulai pembuatan model, langkah yang dilakukan pertama kali adalah mengecek data yang ada, dan mempelajari maksud dari datanya."
      ]
    },
    {
      "cell_type": "markdown",
      "metadata": {
        "id": "k96nOB6lZE_C"
      },
      "source": [
        "### Explorasi Data dan Data Adjustment"
      ]
    },
    {
      "cell_type": "code",
      "execution_count": null,
      "metadata": {
        "id": "JhU2-YvZZE_C",
        "outputId": "fe9537ba-081f-4222-af24-7db4a12ae3db"
      },
      "outputs": [
        {
          "data": {
            "text/html": [
              "<div>\n",
              "<style scoped>\n",
              "    .dataframe tbody tr th:only-of-type {\n",
              "        vertical-align: middle;\n",
              "    }\n",
              "\n",
              "    .dataframe tbody tr th {\n",
              "        vertical-align: top;\n",
              "    }\n",
              "\n",
              "    .dataframe thead th {\n",
              "        text-align: right;\n",
              "    }\n",
              "</style>\n",
              "<table border=\"1\" class=\"dataframe\">\n",
              "  <thead>\n",
              "    <tr style=\"text-align: right;\">\n",
              "      <th></th>\n",
              "      <th>DateCrawled</th>\n",
              "      <th>Price</th>\n",
              "      <th>VehicleType</th>\n",
              "      <th>RegistrationYear</th>\n",
              "      <th>Gearbox</th>\n",
              "      <th>Power</th>\n",
              "      <th>Model</th>\n",
              "      <th>Kilometer</th>\n",
              "      <th>RegistrationMonth</th>\n",
              "      <th>FuelType</th>\n",
              "      <th>Brand</th>\n",
              "      <th>NotRepaired</th>\n",
              "      <th>DateCreated</th>\n",
              "      <th>NumberOfPictures</th>\n",
              "      <th>PostalCode</th>\n",
              "      <th>LastSeen</th>\n",
              "    </tr>\n",
              "  </thead>\n",
              "  <tbody>\n",
              "    <tr>\n",
              "      <th>0</th>\n",
              "      <td>2016-03-24 11:52:17</td>\n",
              "      <td>480</td>\n",
              "      <td>NaN</td>\n",
              "      <td>1993</td>\n",
              "      <td>manual</td>\n",
              "      <td>0</td>\n",
              "      <td>golf</td>\n",
              "      <td>150000</td>\n",
              "      <td>0</td>\n",
              "      <td>petrol</td>\n",
              "      <td>volkswagen</td>\n",
              "      <td>NaN</td>\n",
              "      <td>2016-03-24 00:00:00</td>\n",
              "      <td>0</td>\n",
              "      <td>70435</td>\n",
              "      <td>2016-04-07 03:16:57</td>\n",
              "    </tr>\n",
              "    <tr>\n",
              "      <th>1</th>\n",
              "      <td>2016-03-24 10:58:45</td>\n",
              "      <td>18300</td>\n",
              "      <td>coupe</td>\n",
              "      <td>2011</td>\n",
              "      <td>manual</td>\n",
              "      <td>190</td>\n",
              "      <td>NaN</td>\n",
              "      <td>125000</td>\n",
              "      <td>5</td>\n",
              "      <td>gasoline</td>\n",
              "      <td>audi</td>\n",
              "      <td>yes</td>\n",
              "      <td>2016-03-24 00:00:00</td>\n",
              "      <td>0</td>\n",
              "      <td>66954</td>\n",
              "      <td>2016-04-07 01:46:50</td>\n",
              "    </tr>\n",
              "    <tr>\n",
              "      <th>2</th>\n",
              "      <td>2016-03-14 12:52:21</td>\n",
              "      <td>9800</td>\n",
              "      <td>suv</td>\n",
              "      <td>2004</td>\n",
              "      <td>auto</td>\n",
              "      <td>163</td>\n",
              "      <td>grand</td>\n",
              "      <td>125000</td>\n",
              "      <td>8</td>\n",
              "      <td>gasoline</td>\n",
              "      <td>jeep</td>\n",
              "      <td>NaN</td>\n",
              "      <td>2016-03-14 00:00:00</td>\n",
              "      <td>0</td>\n",
              "      <td>90480</td>\n",
              "      <td>2016-04-05 12:47:46</td>\n",
              "    </tr>\n",
              "    <tr>\n",
              "      <th>3</th>\n",
              "      <td>2016-03-17 16:54:04</td>\n",
              "      <td>1500</td>\n",
              "      <td>small</td>\n",
              "      <td>2001</td>\n",
              "      <td>manual</td>\n",
              "      <td>75</td>\n",
              "      <td>golf</td>\n",
              "      <td>150000</td>\n",
              "      <td>6</td>\n",
              "      <td>petrol</td>\n",
              "      <td>volkswagen</td>\n",
              "      <td>no</td>\n",
              "      <td>2016-03-17 00:00:00</td>\n",
              "      <td>0</td>\n",
              "      <td>91074</td>\n",
              "      <td>2016-03-17 17:40:17</td>\n",
              "    </tr>\n",
              "    <tr>\n",
              "      <th>4</th>\n",
              "      <td>2016-03-31 17:25:20</td>\n",
              "      <td>3600</td>\n",
              "      <td>small</td>\n",
              "      <td>2008</td>\n",
              "      <td>manual</td>\n",
              "      <td>69</td>\n",
              "      <td>fabia</td>\n",
              "      <td>90000</td>\n",
              "      <td>7</td>\n",
              "      <td>gasoline</td>\n",
              "      <td>skoda</td>\n",
              "      <td>no</td>\n",
              "      <td>2016-03-31 00:00:00</td>\n",
              "      <td>0</td>\n",
              "      <td>60437</td>\n",
              "      <td>2016-04-06 10:17:21</td>\n",
              "    </tr>\n",
              "  </tbody>\n",
              "</table>\n",
              "</div>"
            ],
            "text/plain": [
              "           DateCrawled  Price VehicleType  RegistrationYear Gearbox  Power  \\\n",
              "0  2016-03-24 11:52:17    480         NaN              1993  manual      0   \n",
              "1  2016-03-24 10:58:45  18300       coupe              2011  manual    190   \n",
              "2  2016-03-14 12:52:21   9800         suv              2004    auto    163   \n",
              "3  2016-03-17 16:54:04   1500       small              2001  manual     75   \n",
              "4  2016-03-31 17:25:20   3600       small              2008  manual     69   \n",
              "\n",
              "   Model  Kilometer  RegistrationMonth  FuelType       Brand NotRepaired  \\\n",
              "0   golf     150000                  0    petrol  volkswagen         NaN   \n",
              "1    NaN     125000                  5  gasoline        audi         yes   \n",
              "2  grand     125000                  8  gasoline        jeep         NaN   \n",
              "3   golf     150000                  6    petrol  volkswagen          no   \n",
              "4  fabia      90000                  7  gasoline       skoda          no   \n",
              "\n",
              "           DateCreated  NumberOfPictures  PostalCode             LastSeen  \n",
              "0  2016-03-24 00:00:00                 0       70435  2016-04-07 03:16:57  \n",
              "1  2016-03-24 00:00:00                 0       66954  2016-04-07 01:46:50  \n",
              "2  2016-03-14 00:00:00                 0       90480  2016-04-05 12:47:46  \n",
              "3  2016-03-17 00:00:00                 0       91074  2016-03-17 17:40:17  \n",
              "4  2016-03-31 00:00:00                 0       60437  2016-04-06 10:17:21  "
            ]
          },
          "execution_count": 3,
          "metadata": {},
          "output_type": "execute_result"
        }
      ],
      "source": [
        "data.head()"
      ]
    },
    {
      "cell_type": "markdown",
      "metadata": {
        "id": "1qL4Hbs_ZE_C"
      },
      "source": [
        "Karena pelatihan model ini bertujuan untuk mencari harga pasar dari sebuah mobil. Sehingga nanti ketika ada mobil yang akan didaftarkan, bisa diprediksi harga mobilnya berapa dengan melihat fitur dari mobil itu.\n",
        "\n",
        "Namun sebelum lebih lanjut, ada beberapa fitur yang tidak diperlukan dalam pengembangan model ini, yaitu\n",
        "\n",
        "1. DateCrawled\n",
        "2. DateCreated\n",
        "3. PostalCode\n",
        "4. LastSeen\n",
        "\n",
        "Meskipun beberapa orang akan menanyakan kapan terakhir dipakai, dan kapan pertama dibeli, namun semua itu bisa diwakilkan dengan kilometer, dengan makna seberapa sering mobil tersebut dipakai. Dan juga ada kolom NotRepaired yang mana itu bisa mewakilkan kondisi mobil tersebut secara umum. Jadi fitur yang akan digunakan untuk menjawab pertanyaan tersebut adalah seberapa sering mobil itu dipakai (Kilometer) dan apakah sudah pernah diperbaiki (Kondisi mobil itu terlepas dari foto yang bisa dilihat dengan mata kepala sendiri).\n",
        "\n",
        "Untuk PostalCode sendiri tidak memiliki makna yang terlalu berarti untuk pengembangan model, dengan nilainya yang bermacam macam sesuai daerah dan tidak bisa diperingkatkan, maka PostalCode akan didrop juga dari fitur."
      ]
    },
    {
      "cell_type": "code",
      "execution_count": null,
      "metadata": {
        "id": "PvVhXl0bZE_C",
        "outputId": "661d98b0-f7f5-4897-e904-32e114ad8252"
      },
      "outputs": [
        {
          "data": {
            "text/html": [
              "<div>\n",
              "<style scoped>\n",
              "    .dataframe tbody tr th:only-of-type {\n",
              "        vertical-align: middle;\n",
              "    }\n",
              "\n",
              "    .dataframe tbody tr th {\n",
              "        vertical-align: top;\n",
              "    }\n",
              "\n",
              "    .dataframe thead th {\n",
              "        text-align: right;\n",
              "    }\n",
              "</style>\n",
              "<table border=\"1\" class=\"dataframe\">\n",
              "  <thead>\n",
              "    <tr style=\"text-align: right;\">\n",
              "      <th></th>\n",
              "      <th>Price</th>\n",
              "      <th>VehicleType</th>\n",
              "      <th>RegistrationYear</th>\n",
              "      <th>Gearbox</th>\n",
              "      <th>Power</th>\n",
              "      <th>Model</th>\n",
              "      <th>Kilometer</th>\n",
              "      <th>RegistrationMonth</th>\n",
              "      <th>FuelType</th>\n",
              "      <th>Brand</th>\n",
              "      <th>NotRepaired</th>\n",
              "      <th>NumberOfPictures</th>\n",
              "    </tr>\n",
              "  </thead>\n",
              "  <tbody>\n",
              "    <tr>\n",
              "      <th>0</th>\n",
              "      <td>480</td>\n",
              "      <td>NaN</td>\n",
              "      <td>1993</td>\n",
              "      <td>manual</td>\n",
              "      <td>0</td>\n",
              "      <td>golf</td>\n",
              "      <td>150000</td>\n",
              "      <td>0</td>\n",
              "      <td>petrol</td>\n",
              "      <td>volkswagen</td>\n",
              "      <td>NaN</td>\n",
              "      <td>0</td>\n",
              "    </tr>\n",
              "    <tr>\n",
              "      <th>1</th>\n",
              "      <td>18300</td>\n",
              "      <td>coupe</td>\n",
              "      <td>2011</td>\n",
              "      <td>manual</td>\n",
              "      <td>190</td>\n",
              "      <td>NaN</td>\n",
              "      <td>125000</td>\n",
              "      <td>5</td>\n",
              "      <td>gasoline</td>\n",
              "      <td>audi</td>\n",
              "      <td>yes</td>\n",
              "      <td>0</td>\n",
              "    </tr>\n",
              "    <tr>\n",
              "      <th>2</th>\n",
              "      <td>9800</td>\n",
              "      <td>suv</td>\n",
              "      <td>2004</td>\n",
              "      <td>auto</td>\n",
              "      <td>163</td>\n",
              "      <td>grand</td>\n",
              "      <td>125000</td>\n",
              "      <td>8</td>\n",
              "      <td>gasoline</td>\n",
              "      <td>jeep</td>\n",
              "      <td>NaN</td>\n",
              "      <td>0</td>\n",
              "    </tr>\n",
              "    <tr>\n",
              "      <th>3</th>\n",
              "      <td>1500</td>\n",
              "      <td>small</td>\n",
              "      <td>2001</td>\n",
              "      <td>manual</td>\n",
              "      <td>75</td>\n",
              "      <td>golf</td>\n",
              "      <td>150000</td>\n",
              "      <td>6</td>\n",
              "      <td>petrol</td>\n",
              "      <td>volkswagen</td>\n",
              "      <td>no</td>\n",
              "      <td>0</td>\n",
              "    </tr>\n",
              "    <tr>\n",
              "      <th>4</th>\n",
              "      <td>3600</td>\n",
              "      <td>small</td>\n",
              "      <td>2008</td>\n",
              "      <td>manual</td>\n",
              "      <td>69</td>\n",
              "      <td>fabia</td>\n",
              "      <td>90000</td>\n",
              "      <td>7</td>\n",
              "      <td>gasoline</td>\n",
              "      <td>skoda</td>\n",
              "      <td>no</td>\n",
              "      <td>0</td>\n",
              "    </tr>\n",
              "  </tbody>\n",
              "</table>\n",
              "</div>"
            ],
            "text/plain": [
              "   Price VehicleType  RegistrationYear Gearbox  Power  Model  Kilometer  \\\n",
              "0    480         NaN              1993  manual      0   golf     150000   \n",
              "1  18300       coupe              2011  manual    190    NaN     125000   \n",
              "2   9800         suv              2004    auto    163  grand     125000   \n",
              "3   1500       small              2001  manual     75   golf     150000   \n",
              "4   3600       small              2008  manual     69  fabia      90000   \n",
              "\n",
              "   RegistrationMonth  FuelType       Brand NotRepaired  NumberOfPictures  \n",
              "0                  0    petrol  volkswagen         NaN                 0  \n",
              "1                  5  gasoline        audi         yes                 0  \n",
              "2                  8  gasoline        jeep         NaN                 0  \n",
              "3                  6    petrol  volkswagen          no                 0  \n",
              "4                  7  gasoline       skoda          no                 0  "
            ]
          },
          "execution_count": 4,
          "metadata": {},
          "output_type": "execute_result"
        }
      ],
      "source": [
        "data = data.drop(['DateCrawled','DateCreated','PostalCode','LastSeen'], axis=1)\n",
        "data.head()"
      ]
    },
    {
      "cell_type": "markdown",
      "metadata": {
        "id": "FdIqAbAZZE_D"
      },
      "source": [
        "Selain dari data yang sudah di drop, kita cek ada berapa macam data yang berbeda didalam data yang disediakan."
      ]
    },
    {
      "cell_type": "code",
      "execution_count": null,
      "metadata": {
        "id": "sUjOyYJHZE_D",
        "outputId": "51ec9b92-4244-474f-f4c2-61aab3611390"
      },
      "outputs": [
        {
          "name": "stdout",
          "output_type": "stream",
          "text": [
            "Price memiliki data unique sebanyak 3731\n",
            "VehicleType memiliki data unique sebanyak 9\n",
            "RegistrationYear memiliki data unique sebanyak 151\n",
            "Gearbox memiliki data unique sebanyak 3\n",
            "Power memiliki data unique sebanyak 712\n",
            "Model memiliki data unique sebanyak 251\n",
            "Kilometer memiliki data unique sebanyak 13\n",
            "RegistrationMonth memiliki data unique sebanyak 13\n",
            "FuelType memiliki data unique sebanyak 8\n",
            "Brand memiliki data unique sebanyak 40\n",
            "NotRepaired memiliki data unique sebanyak 3\n",
            "NumberOfPictures memiliki data unique sebanyak 1\n"
          ]
        }
      ],
      "source": [
        "for i in range(len(data.columns)):\n",
        "    print (f'{data.columns[i]} memiliki data unique sebanyak {len(data[data.columns[i]].unique())}')"
      ]
    },
    {
      "cell_type": "markdown",
      "metadata": {
        "id": "_UtkuwTcZE_D"
      },
      "source": [
        "NumberOfPictures hanya memiliki 1 data unique, yang berarti semua data nilai NumberOfPicturesnya selalu sama. Dengan kata lain, Number of Pictures bisa didrop juga dari data."
      ]
    },
    {
      "cell_type": "code",
      "execution_count": null,
      "metadata": {
        "id": "ciG3SLovZE_D",
        "outputId": "802d1931-3aab-48b6-8931-2ee5705fa5c5"
      },
      "outputs": [
        {
          "data": {
            "text/html": [
              "<div>\n",
              "<style scoped>\n",
              "    .dataframe tbody tr th:only-of-type {\n",
              "        vertical-align: middle;\n",
              "    }\n",
              "\n",
              "    .dataframe tbody tr th {\n",
              "        vertical-align: top;\n",
              "    }\n",
              "\n",
              "    .dataframe thead th {\n",
              "        text-align: right;\n",
              "    }\n",
              "</style>\n",
              "<table border=\"1\" class=\"dataframe\">\n",
              "  <thead>\n",
              "    <tr style=\"text-align: right;\">\n",
              "      <th></th>\n",
              "      <th>Price</th>\n",
              "      <th>VehicleType</th>\n",
              "      <th>RegistrationYear</th>\n",
              "      <th>Gearbox</th>\n",
              "      <th>Power</th>\n",
              "      <th>Model</th>\n",
              "      <th>Kilometer</th>\n",
              "      <th>RegistrationMonth</th>\n",
              "      <th>FuelType</th>\n",
              "      <th>Brand</th>\n",
              "      <th>NotRepaired</th>\n",
              "    </tr>\n",
              "  </thead>\n",
              "  <tbody>\n",
              "    <tr>\n",
              "      <th>0</th>\n",
              "      <td>480</td>\n",
              "      <td>NaN</td>\n",
              "      <td>1993</td>\n",
              "      <td>manual</td>\n",
              "      <td>0</td>\n",
              "      <td>golf</td>\n",
              "      <td>150000</td>\n",
              "      <td>0</td>\n",
              "      <td>petrol</td>\n",
              "      <td>volkswagen</td>\n",
              "      <td>NaN</td>\n",
              "    </tr>\n",
              "    <tr>\n",
              "      <th>1</th>\n",
              "      <td>18300</td>\n",
              "      <td>coupe</td>\n",
              "      <td>2011</td>\n",
              "      <td>manual</td>\n",
              "      <td>190</td>\n",
              "      <td>NaN</td>\n",
              "      <td>125000</td>\n",
              "      <td>5</td>\n",
              "      <td>gasoline</td>\n",
              "      <td>audi</td>\n",
              "      <td>yes</td>\n",
              "    </tr>\n",
              "    <tr>\n",
              "      <th>2</th>\n",
              "      <td>9800</td>\n",
              "      <td>suv</td>\n",
              "      <td>2004</td>\n",
              "      <td>auto</td>\n",
              "      <td>163</td>\n",
              "      <td>grand</td>\n",
              "      <td>125000</td>\n",
              "      <td>8</td>\n",
              "      <td>gasoline</td>\n",
              "      <td>jeep</td>\n",
              "      <td>NaN</td>\n",
              "    </tr>\n",
              "    <tr>\n",
              "      <th>3</th>\n",
              "      <td>1500</td>\n",
              "      <td>small</td>\n",
              "      <td>2001</td>\n",
              "      <td>manual</td>\n",
              "      <td>75</td>\n",
              "      <td>golf</td>\n",
              "      <td>150000</td>\n",
              "      <td>6</td>\n",
              "      <td>petrol</td>\n",
              "      <td>volkswagen</td>\n",
              "      <td>no</td>\n",
              "    </tr>\n",
              "    <tr>\n",
              "      <th>4</th>\n",
              "      <td>3600</td>\n",
              "      <td>small</td>\n",
              "      <td>2008</td>\n",
              "      <td>manual</td>\n",
              "      <td>69</td>\n",
              "      <td>fabia</td>\n",
              "      <td>90000</td>\n",
              "      <td>7</td>\n",
              "      <td>gasoline</td>\n",
              "      <td>skoda</td>\n",
              "      <td>no</td>\n",
              "    </tr>\n",
              "  </tbody>\n",
              "</table>\n",
              "</div>"
            ],
            "text/plain": [
              "   Price VehicleType  RegistrationYear Gearbox  Power  Model  Kilometer  \\\n",
              "0    480         NaN              1993  manual      0   golf     150000   \n",
              "1  18300       coupe              2011  manual    190    NaN     125000   \n",
              "2   9800         suv              2004    auto    163  grand     125000   \n",
              "3   1500       small              2001  manual     75   golf     150000   \n",
              "4   3600       small              2008  manual     69  fabia      90000   \n",
              "\n",
              "   RegistrationMonth  FuelType       Brand NotRepaired  \n",
              "0                  0    petrol  volkswagen         NaN  \n",
              "1                  5  gasoline        audi         yes  \n",
              "2                  8  gasoline        jeep         NaN  \n",
              "3                  6    petrol  volkswagen          no  \n",
              "4                  7  gasoline       skoda          no  "
            ]
          },
          "execution_count": 6,
          "metadata": {},
          "output_type": "execute_result"
        }
      ],
      "source": [
        "data = data.drop('NumberOfPictures',axis=1)\n",
        "data.head()"
      ]
    },
    {
      "cell_type": "markdown",
      "metadata": {
        "id": "TTUMcU64ZE_E"
      },
      "source": [
        "Sekarang data dicek secara umum."
      ]
    },
    {
      "cell_type": "code",
      "execution_count": null,
      "metadata": {
        "id": "bP3RO0XmZE_E",
        "outputId": "58c3eaa5-acd3-4612-820d-1bc832e69864"
      },
      "outputs": [
        {
          "data": {
            "text/plain": [
              "1937       11\n",
              "1954       11\n",
              "1951       12\n",
              "1957       13\n",
              "1953       14\n",
              "        ...  \n",
              "2006    19900\n",
              "2001    20124\n",
              "2005    22109\n",
              "1999    22728\n",
              "2000    24490\n",
              "Name: RegistrationYear, Length: 74, dtype: int64"
            ]
          },
          "execution_count": 7,
          "metadata": {},
          "output_type": "execute_result"
        }
      ],
      "source": [
        "cek = data['RegistrationYear'].value_counts()\n",
        "cek[cek>10].sort_values()"
      ]
    },
    {
      "cell_type": "code",
      "execution_count": null,
      "metadata": {
        "id": "5GLXx7neZE_E",
        "outputId": "ecf254f6-ccfb-40bc-cb44-2689adfed31a"
      },
      "outputs": [
        {
          "data": {
            "text/plain": [
              "0      40225\n",
              "1         34\n",
              "4         30\n",
              "5        103\n",
              "6         11\n",
              "       ...  \n",
              "445       11\n",
              "450       85\n",
              "476       31\n",
              "500       39\n",
              "507       13\n",
              "Name: Power, Length: 302, dtype: int64"
            ]
          },
          "execution_count": 8,
          "metadata": {},
          "output_type": "execute_result"
        }
      ],
      "source": [
        "cek = data['Power'].value_counts()\n",
        "cek[cek>10].sort_index()"
      ]
    },
    {
      "cell_type": "markdown",
      "metadata": {
        "id": "3XI71nDSZE_E"
      },
      "source": [
        "Ada nilai yang aneh pada Registration year, dan Power.\n",
        "Untuk Registration year tidak mungkin nilainya adalah 1000 karena tahun ditemukannya mobil saja adalah 1769, itu pun masih menggunakan tenaga uap. Dengan mempertimbangkan kemajuan mobil yang berkembang pesat di awal abad ke 20. Namun setelah diteliti lebih dalam ada beberapa mobil yang RegistrationYearnya sangat kecil, sehingga diambil saat awal mobil memiliki RegistrationYear sama lebih dari 10.  Maka data akan difilter diatas tahun 1950 dan dibawah tahun 2025.\n",
        "\n",
        "Untuk Power sendiri, setidaknya dari data yang saya baca, mobil pertama saja (Rolls-Royce 10 hp) memiliki 10 hp(horsepower) dan setelah dilihat lebih lanjut, nilai Power yang lebih dari 10 pun lumayan banyak. Untuk nilai maksimal Powernya sendiri tidak lebih dari 2500 hp karena setelah dicari tentang perkembangan mobil, Power yang paling tinggi ada disekitaran 2000an dan tidak lebih dari 2500. Jadi data akan difilter dengan nilai minimal adalah 10 dan maksimal 2500."
      ]
    },
    {
      "cell_type": "code",
      "execution_count": null,
      "metadata": {
        "id": "K4-0j-8MZE_F",
        "outputId": "31e9962f-8b77-48ce-aa7d-a5298990aacc"
      },
      "outputs": [
        {
          "data": {
            "text/html": [
              "<div>\n",
              "<style scoped>\n",
              "    .dataframe tbody tr th:only-of-type {\n",
              "        vertical-align: middle;\n",
              "    }\n",
              "\n",
              "    .dataframe tbody tr th {\n",
              "        vertical-align: top;\n",
              "    }\n",
              "\n",
              "    .dataframe thead th {\n",
              "        text-align: right;\n",
              "    }\n",
              "</style>\n",
              "<table border=\"1\" class=\"dataframe\">\n",
              "  <thead>\n",
              "    <tr style=\"text-align: right;\">\n",
              "      <th></th>\n",
              "      <th>Price</th>\n",
              "      <th>RegistrationYear</th>\n",
              "      <th>Power</th>\n",
              "      <th>Kilometer</th>\n",
              "      <th>RegistrationMonth</th>\n",
              "    </tr>\n",
              "  </thead>\n",
              "  <tbody>\n",
              "    <tr>\n",
              "      <th>count</th>\n",
              "      <td>313673.000000</td>\n",
              "      <td>313673.000000</td>\n",
              "      <td>313673.000000</td>\n",
              "      <td>313673.000000</td>\n",
              "      <td>313673.000000</td>\n",
              "    </tr>\n",
              "    <tr>\n",
              "      <th>mean</th>\n",
              "      <td>4704.064159</td>\n",
              "      <td>2003.266127</td>\n",
              "      <td>121.276897</td>\n",
              "      <td>128576.415567</td>\n",
              "      <td>5.935133</td>\n",
              "    </tr>\n",
              "    <tr>\n",
              "      <th>std</th>\n",
              "      <td>4589.941150</td>\n",
              "      <td>6.915366</td>\n",
              "      <td>65.922348</td>\n",
              "      <td>36721.180155</td>\n",
              "      <td>3.615614</td>\n",
              "    </tr>\n",
              "    <tr>\n",
              "      <th>min</th>\n",
              "      <td>0.000000</td>\n",
              "      <td>1956.000000</td>\n",
              "      <td>11.000000</td>\n",
              "      <td>5000.000000</td>\n",
              "      <td>0.000000</td>\n",
              "    </tr>\n",
              "    <tr>\n",
              "      <th>25%</th>\n",
              "      <td>1250.000000</td>\n",
              "      <td>1999.000000</td>\n",
              "      <td>75.000000</td>\n",
              "      <td>125000.000000</td>\n",
              "      <td>3.000000</td>\n",
              "    </tr>\n",
              "    <tr>\n",
              "      <th>50%</th>\n",
              "      <td>2999.000000</td>\n",
              "      <td>2003.000000</td>\n",
              "      <td>110.000000</td>\n",
              "      <td>150000.000000</td>\n",
              "      <td>6.000000</td>\n",
              "    </tr>\n",
              "    <tr>\n",
              "      <th>75%</th>\n",
              "      <td>6890.000000</td>\n",
              "      <td>2008.000000</td>\n",
              "      <td>150.000000</td>\n",
              "      <td>150000.000000</td>\n",
              "      <td>9.000000</td>\n",
              "    </tr>\n",
              "    <tr>\n",
              "      <th>max</th>\n",
              "      <td>20000.000000</td>\n",
              "      <td>2019.000000</td>\n",
              "      <td>2461.000000</td>\n",
              "      <td>150000.000000</td>\n",
              "      <td>12.000000</td>\n",
              "    </tr>\n",
              "  </tbody>\n",
              "</table>\n",
              "</div>"
            ],
            "text/plain": [
              "               Price  RegistrationYear          Power      Kilometer  \\\n",
              "count  313673.000000     313673.000000  313673.000000  313673.000000   \n",
              "mean     4704.064159       2003.266127     121.276897  128576.415567   \n",
              "std      4589.941150          6.915366      65.922348   36721.180155   \n",
              "min         0.000000       1956.000000      11.000000    5000.000000   \n",
              "25%      1250.000000       1999.000000      75.000000  125000.000000   \n",
              "50%      2999.000000       2003.000000     110.000000  150000.000000   \n",
              "75%      6890.000000       2008.000000     150.000000  150000.000000   \n",
              "max     20000.000000       2019.000000    2461.000000  150000.000000   \n",
              "\n",
              "       RegistrationMonth  \n",
              "count      313673.000000  \n",
              "mean            5.935133  \n",
              "std             3.615614  \n",
              "min             0.000000  \n",
              "25%             3.000000  \n",
              "50%             6.000000  \n",
              "75%             9.000000  \n",
              "max            12.000000  "
            ]
          },
          "execution_count": 9,
          "metadata": {},
          "output_type": "execute_result"
        }
      ],
      "source": [
        "data = data.query('RegistrationYear < 2025 & RegistrationYear > 1955')\n",
        "data = data.query('Power < 2500 & Power > 10')\n",
        "data.describe()"
      ]
    },
    {
      "cell_type": "markdown",
      "metadata": {
        "id": "lezTjcFJZE_F"
      },
      "source": [
        "Karena untuk harga masih belum bisa ditentukan secara presisi, maka filtering yang akan digunakan adalah dengan mengabaikan outlier pada harganya.\n",
        "\n",
        "Untuk batas minimal bawah yang akan digunakan adalah 450 euros, hal ini dikarenakan mobil murah yang memang masih berfungsi dengan baik dengan kondisi yang layak setidaknya ada di harga 500 euros. Maka dari itu, 450 euros akan ditetapkan sebagai batas bawahnya."
      ]
    },
    {
      "cell_type": "code",
      "execution_count": null,
      "metadata": {
        "id": "l_JJNrZYZE_F",
        "outputId": "aafd0dd1-f4c3-4229-af4e-ba05787eedbb"
      },
      "outputs": [
        {
          "data": {
            "text/plain": [
              "<AxesSubplot:>"
            ]
          },
          "execution_count": 10,
          "metadata": {},
          "output_type": "execute_result"
        },
        {
          "data": {
            "image/png": "[encoded data removed]",
            "text/plain": [
              "<Figure size 432x288 with 1 Axes>"
            ]
          },
          "metadata": {
            "needs_background": "light"
          },
          "output_type": "display_data"
        }
      ],
      "source": [
        "data['Price'].hist()"
      ]
    },
    {
      "cell_type": "code",
      "execution_count": null,
      "metadata": {
        "id": "3JQL8KeNZE_F"
      },
      "outputs": [],
      "source": [
        "def q75(data):\n",
        "    return data.quantile(0.75)\n",
        "def q25(data):\n",
        "    return data.quantile(0.25)\n",
        "def iqr(data):\n",
        "    return q75(data) - q25(data)\n",
        "\n",
        "#BATAS ATAS OUTLIER\n",
        "max_price = (q75(data['Price'])+(1.5*iqr(data['Price'])))\n",
        "#BATAS BAWAH OUTLIER\n",
        "min_price = 450\n",
        "\n",
        "#AMBIL DATA FILTER\n",
        "data = data.query('Price < @max_price & Price > @min_price')"
      ]
    },
    {
      "cell_type": "code",
      "execution_count": null,
      "metadata": {
        "id": "2j27sj8kZE_G",
        "outputId": "499cb408-1aff-4e8f-ce87-6fadbad10430"
      },
      "outputs": [
        {
          "data": {
            "text/html": [
              "<div>\n",
              "<style scoped>\n",
              "    .dataframe tbody tr th:only-of-type {\n",
              "        vertical-align: middle;\n",
              "    }\n",
              "\n",
              "    .dataframe tbody tr th {\n",
              "        vertical-align: top;\n",
              "    }\n",
              "\n",
              "    .dataframe thead th {\n",
              "        text-align: right;\n",
              "    }\n",
              "</style>\n",
              "<table border=\"1\" class=\"dataframe\">\n",
              "  <thead>\n",
              "    <tr style=\"text-align: right;\">\n",
              "      <th></th>\n",
              "      <th>Price</th>\n",
              "      <th>RegistrationYear</th>\n",
              "      <th>Power</th>\n",
              "      <th>Kilometer</th>\n",
              "      <th>RegistrationMonth</th>\n",
              "    </tr>\n",
              "  </thead>\n",
              "  <tbody>\n",
              "    <tr>\n",
              "      <th>count</th>\n",
              "      <td>276128.000000</td>\n",
              "      <td>276128.000000</td>\n",
              "      <td>276128.000000</td>\n",
              "      <td>276128.000000</td>\n",
              "      <td>276128.000000</td>\n",
              "    </tr>\n",
              "    <tr>\n",
              "      <th>mean</th>\n",
              "      <td>4434.620795</td>\n",
              "      <td>2003.281514</td>\n",
              "      <td>120.270230</td>\n",
              "      <td>129815.683306</td>\n",
              "      <td>6.024297</td>\n",
              "    </tr>\n",
              "    <tr>\n",
              "      <th>std</th>\n",
              "      <td>3696.260522</td>\n",
              "      <td>6.669189</td>\n",
              "      <td>62.928976</td>\n",
              "      <td>35254.039372</td>\n",
              "      <td>3.577022</td>\n",
              "    </tr>\n",
              "    <tr>\n",
              "      <th>min</th>\n",
              "      <td>455.000000</td>\n",
              "      <td>1956.000000</td>\n",
              "      <td>11.000000</td>\n",
              "      <td>5000.000000</td>\n",
              "      <td>0.000000</td>\n",
              "    </tr>\n",
              "    <tr>\n",
              "      <th>25%</th>\n",
              "      <td>1500.000000</td>\n",
              "      <td>1999.000000</td>\n",
              "      <td>80.000000</td>\n",
              "      <td>125000.000000</td>\n",
              "      <td>3.000000</td>\n",
              "    </tr>\n",
              "    <tr>\n",
              "      <th>50%</th>\n",
              "      <td>3200.000000</td>\n",
              "      <td>2003.000000</td>\n",
              "      <td>110.000000</td>\n",
              "      <td>150000.000000</td>\n",
              "      <td>6.000000</td>\n",
              "    </tr>\n",
              "    <tr>\n",
              "      <th>75%</th>\n",
              "      <td>6500.000000</td>\n",
              "      <td>2007.000000</td>\n",
              "      <td>147.000000</td>\n",
              "      <td>150000.000000</td>\n",
              "      <td>9.000000</td>\n",
              "    </tr>\n",
              "    <tr>\n",
              "      <th>max</th>\n",
              "      <td>15349.000000</td>\n",
              "      <td>2019.000000</td>\n",
              "      <td>2461.000000</td>\n",
              "      <td>150000.000000</td>\n",
              "      <td>12.000000</td>\n",
              "    </tr>\n",
              "  </tbody>\n",
              "</table>\n",
              "</div>"
            ],
            "text/plain": [
              "               Price  RegistrationYear          Power      Kilometer  \\\n",
              "count  276128.000000     276128.000000  276128.000000  276128.000000   \n",
              "mean     4434.620795       2003.281514     120.270230  129815.683306   \n",
              "std      3696.260522          6.669189      62.928976   35254.039372   \n",
              "min       455.000000       1956.000000      11.000000    5000.000000   \n",
              "25%      1500.000000       1999.000000      80.000000  125000.000000   \n",
              "50%      3200.000000       2003.000000     110.000000  150000.000000   \n",
              "75%      6500.000000       2007.000000     147.000000  150000.000000   \n",
              "max     15349.000000       2019.000000    2461.000000  150000.000000   \n",
              "\n",
              "       RegistrationMonth  \n",
              "count      276128.000000  \n",
              "mean            6.024297  \n",
              "std             3.577022  \n",
              "min             0.000000  \n",
              "25%             3.000000  \n",
              "50%             6.000000  \n",
              "75%             9.000000  \n",
              "max            12.000000  "
            ]
          },
          "execution_count": 12,
          "metadata": {},
          "output_type": "execute_result"
        }
      ],
      "source": [
        "data.describe()"
      ]
    },
    {
      "cell_type": "markdown",
      "metadata": {
        "id": "tGaflWhqZE_G"
      },
      "source": [
        "Untuk Kilometer tidak ada yang bisa dilakukan lebih lanjut karena mediannya saja sama dengan nilai maksimumnya. Untuk Registration Month kita hilangkan nilai 0 nya. Karena bulan apa yang menandakan bulan ke 0?"
      ]
    },
    {
      "cell_type": "code",
      "execution_count": null,
      "metadata": {
        "id": "MsYQWH0uZE_G"
      },
      "outputs": [],
      "source": [
        "data = data.query('RegistrationMonth !=0')"
      ]
    },
    {
      "cell_type": "code",
      "execution_count": null,
      "metadata": {
        "id": "ICiHiZUfZE_H",
        "outputId": "bb7aacf0-91ea-4c07-dbfa-4cf5b97260cd"
      },
      "outputs": [
        {
          "data": {
            "text/html": [
              "<div>\n",
              "<style scoped>\n",
              "    .dataframe tbody tr th:only-of-type {\n",
              "        vertical-align: middle;\n",
              "    }\n",
              "\n",
              "    .dataframe tbody tr th {\n",
              "        vertical-align: top;\n",
              "    }\n",
              "\n",
              "    .dataframe thead th {\n",
              "        text-align: right;\n",
              "    }\n",
              "</style>\n",
              "<table border=\"1\" class=\"dataframe\">\n",
              "  <thead>\n",
              "    <tr style=\"text-align: right;\">\n",
              "      <th></th>\n",
              "      <th>Price</th>\n",
              "      <th>VehicleType</th>\n",
              "      <th>RegistrationYear</th>\n",
              "      <th>Gearbox</th>\n",
              "      <th>Power</th>\n",
              "      <th>Model</th>\n",
              "      <th>Kilometer</th>\n",
              "      <th>RegistrationMonth</th>\n",
              "      <th>FuelType</th>\n",
              "      <th>Brand</th>\n",
              "      <th>NotRepaired</th>\n",
              "    </tr>\n",
              "  </thead>\n",
              "  <tbody>\n",
              "    <tr>\n",
              "      <th>2</th>\n",
              "      <td>9800</td>\n",
              "      <td>suv</td>\n",
              "      <td>2004</td>\n",
              "      <td>auto</td>\n",
              "      <td>163</td>\n",
              "      <td>grand</td>\n",
              "      <td>125000</td>\n",
              "      <td>8</td>\n",
              "      <td>gasoline</td>\n",
              "      <td>jeep</td>\n",
              "      <td>NaN</td>\n",
              "    </tr>\n",
              "    <tr>\n",
              "      <th>3</th>\n",
              "      <td>1500</td>\n",
              "      <td>small</td>\n",
              "      <td>2001</td>\n",
              "      <td>manual</td>\n",
              "      <td>75</td>\n",
              "      <td>golf</td>\n",
              "      <td>150000</td>\n",
              "      <td>6</td>\n",
              "      <td>petrol</td>\n",
              "      <td>volkswagen</td>\n",
              "      <td>no</td>\n",
              "    </tr>\n",
              "    <tr>\n",
              "      <th>4</th>\n",
              "      <td>3600</td>\n",
              "      <td>small</td>\n",
              "      <td>2008</td>\n",
              "      <td>manual</td>\n",
              "      <td>69</td>\n",
              "      <td>fabia</td>\n",
              "      <td>90000</td>\n",
              "      <td>7</td>\n",
              "      <td>gasoline</td>\n",
              "      <td>skoda</td>\n",
              "      <td>no</td>\n",
              "    </tr>\n",
              "    <tr>\n",
              "      <th>5</th>\n",
              "      <td>650</td>\n",
              "      <td>sedan</td>\n",
              "      <td>1995</td>\n",
              "      <td>manual</td>\n",
              "      <td>102</td>\n",
              "      <td>3er</td>\n",
              "      <td>150000</td>\n",
              "      <td>10</td>\n",
              "      <td>petrol</td>\n",
              "      <td>bmw</td>\n",
              "      <td>yes</td>\n",
              "    </tr>\n",
              "    <tr>\n",
              "      <th>6</th>\n",
              "      <td>2200</td>\n",
              "      <td>convertible</td>\n",
              "      <td>2004</td>\n",
              "      <td>manual</td>\n",
              "      <td>109</td>\n",
              "      <td>2_reihe</td>\n",
              "      <td>150000</td>\n",
              "      <td>8</td>\n",
              "      <td>petrol</td>\n",
              "      <td>peugeot</td>\n",
              "      <td>no</td>\n",
              "    </tr>\n",
              "  </tbody>\n",
              "</table>\n",
              "</div>"
            ],
            "text/plain": [
              "   Price  VehicleType  RegistrationYear Gearbox  Power    Model  Kilometer  \\\n",
              "2   9800          suv              2004    auto    163    grand     125000   \n",
              "3   1500        small              2001  manual     75     golf     150000   \n",
              "4   3600        small              2008  manual     69    fabia      90000   \n",
              "5    650        sedan              1995  manual    102      3er     150000   \n",
              "6   2200  convertible              2004  manual    109  2_reihe     150000   \n",
              "\n",
              "   RegistrationMonth  FuelType       Brand NotRepaired  \n",
              "2                  8  gasoline        jeep         NaN  \n",
              "3                  6    petrol  volkswagen          no  \n",
              "4                  7  gasoline       skoda          no  \n",
              "5                 10    petrol         bmw         yes  \n",
              "6                  8    petrol     peugeot          no  "
            ]
          },
          "execution_count": 14,
          "metadata": {},
          "output_type": "execute_result"
        }
      ],
      "source": [
        "data.head()"
      ]
    },
    {
      "cell_type": "code",
      "execution_count": null,
      "metadata": {
        "id": "wHYC-JHRZE_H",
        "outputId": "b85d6ad5-79b9-44cf-8d2f-87e5a67a66c2"
      },
      "outputs": [
        {
          "data": {
            "text/plain": [
              "Price                0.000000\n",
              "VehicleType          0.053162\n",
              "RegistrationYear     0.000000\n",
              "Gearbox              0.014368\n",
              "Power                0.000000\n",
              "Model                0.032783\n",
              "Kilometer            0.000000\n",
              "RegistrationMonth    0.000000\n",
              "FuelType             0.048447\n",
              "Brand                0.000000\n",
              "NotRepaired          0.124258\n",
              "dtype: float64"
            ]
          },
          "execution_count": 15,
          "metadata": {},
          "output_type": "execute_result"
        }
      ],
      "source": [
        "data.isnull().sum()/data.shape[0]"
      ]
    },
    {
      "cell_type": "markdown",
      "metadata": {
        "id": "vHndobafZE_H"
      },
      "source": [
        "Nilai yang paling besar ada di kolom not repaired yaitu 12%. Sedangkan yang lainnya ada di sekitar 5%."
      ]
    },
    {
      "cell_type": "markdown",
      "metadata": {
        "id": "ojacAkJJZE_I"
      },
      "source": [
        "Nilai null ini akan diisi dengan 'Unknown'. Karena nilai unknown dalam jual beli barang akan bisa berpengaruh terhadap harga."
      ]
    },
    {
      "cell_type": "code",
      "execution_count": null,
      "metadata": {
        "id": "4ON1Q_JqZE_I"
      },
      "outputs": [],
      "source": [
        "data.fillna('unknown', inplace=True)"
      ]
    },
    {
      "cell_type": "code",
      "execution_count": null,
      "metadata": {
        "id": "gGRlPZ_rZE_I",
        "outputId": "e73d5905-36e8-4fd8-e7c3-d9e2e8e557f2"
      },
      "outputs": [
        {
          "data": {
            "text/plain": [
              "Price                0\n",
              "VehicleType          0\n",
              "RegistrationYear     0\n",
              "Gearbox              0\n",
              "Power                0\n",
              "Model                0\n",
              "Kilometer            0\n",
              "RegistrationMonth    0\n",
              "FuelType             0\n",
              "Brand                0\n",
              "NotRepaired          0\n",
              "dtype: int64"
            ]
          },
          "execution_count": 17,
          "metadata": {},
          "output_type": "execute_result"
        }
      ],
      "source": [
        "data.isnull().sum()"
      ]
    },
    {
      "cell_type": "markdown",
      "metadata": {
        "id": "nCKRTmJCZE_I"
      },
      "source": [
        "Sip, data sudah diperbaiki."
      ]
    },
    {
      "cell_type": "markdown",
      "metadata": {
        "id": "9GCEoxlSZE_J"
      },
      "source": [
        "### Encoding"
      ]
    },
    {
      "cell_type": "markdown",
      "metadata": {
        "id": "UzBJ1LOoZE_J"
      },
      "source": [
        "Karena ada beberapa data yang merupakan data kategorikal, maka dilakukan encoding dengan menggunakan One Hot Encoding, karena regresi linear tidak bisa memproses langsung data kategorikal."
      ]
    },
    {
      "cell_type": "code",
      "execution_count": null,
      "metadata": {
        "id": "k9Tt-CwEZE_J",
        "outputId": "2d599935-5362-4151-f2d9-f54745a93d0d"
      },
      "outputs": [
        {
          "name": "stdout",
          "output_type": "stream",
          "text": [
            "<class 'pandas.core.frame.DataFrame'>\n",
            "Int64Index: 260015 entries, 2 to 354368\n",
            "Data columns (total 11 columns):\n",
            " #   Column             Non-Null Count   Dtype \n",
            "---  ------             --------------   ----- \n",
            " 0   Price              260015 non-null  int64 \n",
            " 1   VehicleType        260015 non-null  object\n",
            " 2   RegistrationYear   260015 non-null  int64 \n",
            " 3   Gearbox            260015 non-null  object\n",
            " 4   Power              260015 non-null  int64 \n",
            " 5   Model              260015 non-null  object\n",
            " 6   Kilometer          260015 non-null  int64 \n",
            " 7   RegistrationMonth  260015 non-null  int64 \n",
            " 8   FuelType           260015 non-null  object\n",
            " 9   Brand              260015 non-null  object\n",
            " 10  NotRepaired        260015 non-null  object\n",
            "dtypes: int64(5), object(6)\n",
            "memory usage: 23.8+ MB\n"
          ]
        }
      ],
      "source": [
        "data.info()"
      ]
    },
    {
      "cell_type": "code",
      "execution_count": null,
      "metadata": {
        "id": "HdS7xipXZE_J"
      },
      "outputs": [],
      "source": [
        "categorical = [\n",
        "    'VehicleType',\n",
        "    'Gearbox', \n",
        "    'Model',\n",
        "    'FuelType', \n",
        "    'Brand',\n",
        "    'NotRepaired']"
      ]
    },
    {
      "cell_type": "markdown",
      "metadata": {
        "id": "p3OK1SRmZE_J"
      },
      "source": [
        "Namun Dikarenakan jika kita encode semua data kategorik akan menambah banyak kolom. Jadi beberapa kolom akan dikecualikan dalam encoding ini. Sebelumnya, memang inilah kelemahan regresi linear, tidak bisa memproses data yang memiliki kategorik yang sangat banyak seperti model dan brand. Namun sebelum itu dicek terlebih dahulu ada berapa banyak tipe kategori yang ada pada data."
      ]
    },
    {
      "cell_type": "code",
      "execution_count": null,
      "metadata": {
        "scrolled": false,
        "id": "98ce3GbMZE_K",
        "outputId": "56ce5bfd-91c4-4f85-95e3-84a4c1d91787"
      },
      "outputs": [
        {
          "name": "stdout",
          "output_type": "stream",
          "text": [
            "Kolom VehicleType memiliki data unik sebanyak 9\n",
            "-----------------\n",
            "Kolom Gearbox memiliki data unik sebanyak 3\n",
            "-----------------\n",
            "Kolom Model memiliki data unik sebanyak 250\n",
            "-----------------\n",
            "Kolom FuelType memiliki data unik sebanyak 8\n",
            "-----------------\n",
            "Kolom Brand memiliki data unik sebanyak 40\n",
            "-----------------\n",
            "Kolom NotRepaired memiliki data unik sebanyak 3\n",
            "-----------------\n"
          ]
        }
      ],
      "source": [
        "for i in categorical:\n",
        "    print(f'Kolom {i} memiliki data unik sebanyak {data[i].value_counts().count()}')\n",
        "    print('-----------------')"
      ]
    },
    {
      "cell_type": "code",
      "execution_count": null,
      "metadata": {
        "id": "XgiwtBy9ZE_K",
        "outputId": "e5f2754d-09bf-4d64-a17c-2412375ce2f0"
      },
      "outputs": [
        {
          "data": {
            "text/plain": [
              "array(['jeep', 'volkswagen', 'skoda', 'bmw', 'peugeot', 'ford', 'mazda',\n",
              "       'renault', 'mercedes_benz', 'opel', 'citroen', 'honda', 'fiat',\n",
              "       'mini', 'smart', 'hyundai', 'seat', 'audi', 'nissan', 'subaru',\n",
              "       'volvo', 'mitsubishi', 'alfa_romeo', 'kia', 'suzuki', 'lancia',\n",
              "       'toyota', 'chevrolet', 'dacia', 'daihatsu', 'chrysler',\n",
              "       'sonstige_autos', 'jaguar', 'rover', 'porsche', 'saab', 'daewoo',\n",
              "       'trabant', 'land_rover', 'lada'], dtype=object)"
            ]
          },
          "execution_count": 21,
          "metadata": {},
          "output_type": "execute_result"
        }
      ],
      "source": [
        "data['Brand'].unique()"
      ]
    },
    {
      "cell_type": "code",
      "execution_count": null,
      "metadata": {
        "scrolled": true,
        "id": "JYQms9lVZE_K",
        "outputId": "70d9cad2-7fa8-49f0-9315-064640a21105"
      },
      "outputs": [
        {
          "data": {
            "text/plain": [
              "array(['grand', 'golf', 'fabia', '3er', '2_reihe', 'c_max', '3_reihe',\n",
              "       'passat', 'twingo', 'a_klasse', 'scirocco', '5er', 'meriva',\n",
              "       'other', 'c4', 'civic', 'transporter', 'punto', 'e_klasse', 'clio',\n",
              "       'one', 'fortwo', '1er', 'b_klasse', 'a8', 'jetta', 'astra',\n",
              "       'fiesta', 'c_klasse', 'micra', 'vito', 'sprinter', 'escort',\n",
              "       'forester', 'xc_reihe', 'scenic', 'a1', 'focus', 'a4', 'tt', 'a6',\n",
              "       'jazz', 'polo', 'slk', '7er', 'combo', '80', '147', 'unknown',\n",
              "       'z_reihe', 'sportage', 'sorento', 'ibiza', 'eos', 'touran', 'getz',\n",
              "       'insignia', 'ka', 'almera', 'megane', 'a3', 'lupo', 'mondeo',\n",
              "       'cordoba', 'colt', 'corsa', 'vectra', 'berlingo', 'tiguan',\n",
              "       '6_reihe', 'panda', 'up', 'i_reihe', 'ceed', 'kangoo', 'yeti',\n",
              "       'octavia', 'zafira', 'mii', 'rx_reihe', 'fox', 'matiz', 'beetle',\n",
              "       'rio', 'logan', 'caddy', 'spider', 'omega', 'cuore', 's_max',\n",
              "       'modus', 'a2', 'c3', 's_klasse', '1_reihe', 'sharan', 'avensis',\n",
              "       'viano', 'roomster', 'sl', 'kaefer', 'santa', 'leon', 'cooper',\n",
              "       '4_reihe', 'ptcruiser', 'clk', 'primera', 'espace', 'galaxy',\n",
              "       '159', 'transit', 'juke', 'x_reihe', 'v40', 'carisma', 'accord',\n",
              "       'corolla', 'phaeton', 'verso', 'swift', 'rav', 'qashqai',\n",
              "       'picanto', 'boxster', 'stilo', 'alhambra', 'touareg', 'roadster',\n",
              "       'galant', '90', 'signum', 'crossfire', 'agila', 'duster', 'v50',\n",
              "       'mx_reihe', '500', 'c_reihe', 'v_klasse', 'm_klasse', 'yaris',\n",
              "       'c5', 'aygo', 'cc', 'carnival', 'fusion', 'bora', 'forfour', 'a5',\n",
              "       'cl', 'tigra', '156', '300c', '100', 'cr_reihe', 'spark', 'kuga',\n",
              "       '5_reihe', 'x_type', 'ducato', 's_type', 'x_trail', 'toledo',\n",
              "       'altea', 'arosa', 'voyager', 'v70', 'tucson', 'c1', 'kadett',\n",
              "       'citigo', 'jimny', 'wrangler', 'lybra', 'lancer', 'captiva', 'c2',\n",
              "       'discovery', 'freelander', 'sandero', 'q7', 'note', 'impreza',\n",
              "       'seicento', 'navara', 'laguna', 'antara', 'sirion', '900',\n",
              "       'defender', '601', 'legacy', 'pajero', 'auris', 'cayenne', 'niva',\n",
              "       'exeo', 's60', 'clubman', 'm_reihe', 'nubira', 'vivaro', 'lanos',\n",
              "       'g_klasse', 'ypsilon', 'justy', 'cherokee', 'lodgy', 'superb',\n",
              "       'range_rover', '850', 'serie_2', 'calibra', 'charade', 'croma',\n",
              "       'outlander', 'doblo', 'musa', '6er', '9000', 'kalos', 'v60',\n",
              "       'bravo', 'aveo', 'r19', '200', '145', 'glk', 'b_max', 'cx_reihe',\n",
              "       'mustang', 'range_rover_sport', 'move', '911', 'rangerover', 'q5',\n",
              "       'range_rover_evoque', 'materia', 'terios', 'kalina', 'delta', 'i3',\n",
              "       'samara', 'kappa', 'serie_3', 'amarok', 'elefantino', 'gl', 'q3'],\n",
              "      dtype=object)"
            ]
          },
          "execution_count": 22,
          "metadata": {},
          "output_type": "execute_result"
        }
      ],
      "source": [
        "data['Model'].unique()"
      ]
    },
    {
      "cell_type": "markdown",
      "metadata": {
        "id": "SbId6QeJZE_K"
      },
      "source": [
        "Data diatas jika menggunakan One Hot Encoding tidak akan berjalan dengan lancar karena menjadikan kolom yang sangat banyak, sehingga akan menambahkan beban pada processor. Jika ingin grouping per jumlah yang ada misalkan Brand dengan jumlah lebih dari 500 Masuk ke Common, diantara 100-500 masuk ke Rare, dan dibawah 100 menjadi Super Rare pun tidak bisa, karena tidak akan terlalu berarti. Bisa saja yang Commmon malah lebih mahal dibandingkan yang Super Rare. Maka dari itu untuk tujuan penggunaan Machine Learning dengan algoritma regresi linear, fitur ini akan di drop."
      ]
    },
    {
      "cell_type": "code",
      "execution_count": null,
      "metadata": {
        "id": "v7asqC3lZE_L",
        "outputId": "d73aa0b3-1611-4d27-e3e7-4ab10c6a7dcb"
      },
      "outputs": [
        {
          "data": {
            "text/html": [
              "<div>\n",
              "<style scoped>\n",
              "    .dataframe tbody tr th:only-of-type {\n",
              "        vertical-align: middle;\n",
              "    }\n",
              "\n",
              "    .dataframe tbody tr th {\n",
              "        vertical-align: top;\n",
              "    }\n",
              "\n",
              "    .dataframe thead th {\n",
              "        text-align: right;\n",
              "    }\n",
              "</style>\n",
              "<table border=\"1\" class=\"dataframe\">\n",
              "  <thead>\n",
              "    <tr style=\"text-align: right;\">\n",
              "      <th></th>\n",
              "      <th>Price</th>\n",
              "      <th>RegistrationYear</th>\n",
              "      <th>Power</th>\n",
              "      <th>Kilometer</th>\n",
              "      <th>RegistrationMonth</th>\n",
              "      <th>VehicleType_convertible</th>\n",
              "      <th>VehicleType_coupe</th>\n",
              "      <th>VehicleType_other</th>\n",
              "      <th>VehicleType_sedan</th>\n",
              "      <th>VehicleType_small</th>\n",
              "      <th>...</th>\n",
              "      <th>Gearbox_unknown</th>\n",
              "      <th>FuelType_electric</th>\n",
              "      <th>FuelType_gasoline</th>\n",
              "      <th>FuelType_hybrid</th>\n",
              "      <th>FuelType_lpg</th>\n",
              "      <th>FuelType_other</th>\n",
              "      <th>FuelType_petrol</th>\n",
              "      <th>FuelType_unknown</th>\n",
              "      <th>NotRepaired_unknown</th>\n",
              "      <th>NotRepaired_yes</th>\n",
              "    </tr>\n",
              "  </thead>\n",
              "  <tbody>\n",
              "    <tr>\n",
              "      <th>2</th>\n",
              "      <td>9800</td>\n",
              "      <td>2004</td>\n",
              "      <td>163</td>\n",
              "      <td>125000</td>\n",
              "      <td>8</td>\n",
              "      <td>0</td>\n",
              "      <td>0</td>\n",
              "      <td>0</td>\n",
              "      <td>0</td>\n",
              "      <td>0</td>\n",
              "      <td>...</td>\n",
              "      <td>0</td>\n",
              "      <td>0</td>\n",
              "      <td>1</td>\n",
              "      <td>0</td>\n",
              "      <td>0</td>\n",
              "      <td>0</td>\n",
              "      <td>0</td>\n",
              "      <td>0</td>\n",
              "      <td>1</td>\n",
              "      <td>0</td>\n",
              "    </tr>\n",
              "    <tr>\n",
              "      <th>3</th>\n",
              "      <td>1500</td>\n",
              "      <td>2001</td>\n",
              "      <td>75</td>\n",
              "      <td>150000</td>\n",
              "      <td>6</td>\n",
              "      <td>0</td>\n",
              "      <td>0</td>\n",
              "      <td>0</td>\n",
              "      <td>0</td>\n",
              "      <td>1</td>\n",
              "      <td>...</td>\n",
              "      <td>0</td>\n",
              "      <td>0</td>\n",
              "      <td>0</td>\n",
              "      <td>0</td>\n",
              "      <td>0</td>\n",
              "      <td>0</td>\n",
              "      <td>1</td>\n",
              "      <td>0</td>\n",
              "      <td>0</td>\n",
              "      <td>0</td>\n",
              "    </tr>\n",
              "    <tr>\n",
              "      <th>4</th>\n",
              "      <td>3600</td>\n",
              "      <td>2008</td>\n",
              "      <td>69</td>\n",
              "      <td>90000</td>\n",
              "      <td>7</td>\n",
              "      <td>0</td>\n",
              "      <td>0</td>\n",
              "      <td>0</td>\n",
              "      <td>0</td>\n",
              "      <td>1</td>\n",
              "      <td>...</td>\n",
              "      <td>0</td>\n",
              "      <td>0</td>\n",
              "      <td>1</td>\n",
              "      <td>0</td>\n",
              "      <td>0</td>\n",
              "      <td>0</td>\n",
              "      <td>0</td>\n",
              "      <td>0</td>\n",
              "      <td>0</td>\n",
              "      <td>0</td>\n",
              "    </tr>\n",
              "    <tr>\n",
              "      <th>5</th>\n",
              "      <td>650</td>\n",
              "      <td>1995</td>\n",
              "      <td>102</td>\n",
              "      <td>150000</td>\n",
              "      <td>10</td>\n",
              "      <td>0</td>\n",
              "      <td>0</td>\n",
              "      <td>0</td>\n",
              "      <td>1</td>\n",
              "      <td>0</td>\n",
              "      <td>...</td>\n",
              "      <td>0</td>\n",
              "      <td>0</td>\n",
              "      <td>0</td>\n",
              "      <td>0</td>\n",
              "      <td>0</td>\n",
              "      <td>0</td>\n",
              "      <td>1</td>\n",
              "      <td>0</td>\n",
              "      <td>0</td>\n",
              "      <td>1</td>\n",
              "    </tr>\n",
              "    <tr>\n",
              "      <th>6</th>\n",
              "      <td>2200</td>\n",
              "      <td>2004</td>\n",
              "      <td>109</td>\n",
              "      <td>150000</td>\n",
              "      <td>8</td>\n",
              "      <td>1</td>\n",
              "      <td>0</td>\n",
              "      <td>0</td>\n",
              "      <td>0</td>\n",
              "      <td>0</td>\n",
              "      <td>...</td>\n",
              "      <td>0</td>\n",
              "      <td>0</td>\n",
              "      <td>0</td>\n",
              "      <td>0</td>\n",
              "      <td>0</td>\n",
              "      <td>0</td>\n",
              "      <td>1</td>\n",
              "      <td>0</td>\n",
              "      <td>0</td>\n",
              "      <td>0</td>\n",
              "    </tr>\n",
              "  </tbody>\n",
              "</table>\n",
              "<p>5 rows × 24 columns</p>\n",
              "</div>"
            ],
            "text/plain": [
              "   Price  RegistrationYear  Power  Kilometer  RegistrationMonth  \\\n",
              "2   9800              2004    163     125000                  8   \n",
              "3   1500              2001     75     150000                  6   \n",
              "4   3600              2008     69      90000                  7   \n",
              "5    650              1995    102     150000                 10   \n",
              "6   2200              2004    109     150000                  8   \n",
              "\n",
              "   VehicleType_convertible  VehicleType_coupe  VehicleType_other  \\\n",
              "2                        0                  0                  0   \n",
              "3                        0                  0                  0   \n",
              "4                        0                  0                  0   \n",
              "5                        0                  0                  0   \n",
              "6                        1                  0                  0   \n",
              "\n",
              "   VehicleType_sedan  VehicleType_small  ...  Gearbox_unknown  \\\n",
              "2                  0                  0  ...                0   \n",
              "3                  0                  1  ...                0   \n",
              "4                  0                  1  ...                0   \n",
              "5                  1                  0  ...                0   \n",
              "6                  0                  0  ...                0   \n",
              "\n",
              "   FuelType_electric  FuelType_gasoline  FuelType_hybrid  FuelType_lpg  \\\n",
              "2                  0                  1                0             0   \n",
              "3                  0                  0                0             0   \n",
              "4                  0                  1                0             0   \n",
              "5                  0                  0                0             0   \n",
              "6                  0                  0                0             0   \n",
              "\n",
              "   FuelType_other  FuelType_petrol  FuelType_unknown  NotRepaired_unknown  \\\n",
              "2               0                0                 0                    1   \n",
              "3               0                1                 0                    0   \n",
              "4               0                0                 0                    0   \n",
              "5               0                1                 0                    0   \n",
              "6               0                1                 0                    0   \n",
              "\n",
              "   NotRepaired_yes  \n",
              "2                0  \n",
              "3                0  \n",
              "4                0  \n",
              "5                1  \n",
              "6                0  \n",
              "\n",
              "[5 rows x 24 columns]"
            ]
          },
          "execution_count": 27,
          "metadata": {},
          "output_type": "execute_result"
        }
      ],
      "source": [
        "ohe = data.drop(['Model','Brand'] ,axis = 1)\n",
        "ohe = pd.get_dummies(ohe, drop_first=True)\n",
        "ohe.head()"
      ]
    },
    {
      "cell_type": "markdown",
      "metadata": {
        "id": "TGYGefXxZE_L"
      },
      "source": [
        "Data One Hot Encoding ini hanya akan bekerja pada algoritma regresi linear, karena dalam regresi linear bisa mengakses semua fitur dalam satu waktu sehingga seluruh nilai fitur yang merupakan 0 1 0 1 dapat diakses dengan baik oleh regresi linear, namun tidak untuk model yang berbasis pohon. Model berbasis pohon ini hanya akan memproses 1 fitur dalam satu waktu, dan jika fitur itu tidak cocok maka dicarikan yang cocoknya dan seterusnya. Sehingga untuk model berbasis pohon akan menggunakan Ordinal Encoding. RandomForest Regressor adalah model yang akan dipilih untuk model berbasis pohon."
      ]
    },
    {
      "cell_type": "code",
      "execution_count": null,
      "metadata": {
        "id": "1-PwuvJiZE_L",
        "outputId": "470f6c21-d8d5-4d43-a757-2d19deabd86c"
      },
      "outputs": [
        {
          "data": {
            "text/html": [
              "<div>\n",
              "<style scoped>\n",
              "    .dataframe tbody tr th:only-of-type {\n",
              "        vertical-align: middle;\n",
              "    }\n",
              "\n",
              "    .dataframe tbody tr th {\n",
              "        vertical-align: top;\n",
              "    }\n",
              "\n",
              "    .dataframe thead th {\n",
              "        text-align: right;\n",
              "    }\n",
              "</style>\n",
              "<table border=\"1\" class=\"dataframe\">\n",
              "  <thead>\n",
              "    <tr style=\"text-align: right;\">\n",
              "      <th></th>\n",
              "      <th>Price</th>\n",
              "      <th>VehicleType</th>\n",
              "      <th>RegistrationYear</th>\n",
              "      <th>Gearbox</th>\n",
              "      <th>Power</th>\n",
              "      <th>Model</th>\n",
              "      <th>Kilometer</th>\n",
              "      <th>RegistrationMonth</th>\n",
              "      <th>FuelType</th>\n",
              "      <th>Brand</th>\n",
              "      <th>NotRepaired</th>\n",
              "    </tr>\n",
              "  </thead>\n",
              "  <tbody>\n",
              "    <tr>\n",
              "      <th>2</th>\n",
              "      <td>9800</td>\n",
              "      <td>6.0</td>\n",
              "      <td>2004</td>\n",
              "      <td>0.0</td>\n",
              "      <td>163</td>\n",
              "      <td>117.0</td>\n",
              "      <td>125000</td>\n",
              "      <td>8</td>\n",
              "      <td>2.0</td>\n",
              "      <td>14.0</td>\n",
              "      <td>1.0</td>\n",
              "    </tr>\n",
              "    <tr>\n",
              "      <th>3</th>\n",
              "      <td>1500</td>\n",
              "      <td>5.0</td>\n",
              "      <td>2001</td>\n",
              "      <td>1.0</td>\n",
              "      <td>75</td>\n",
              "      <td>116.0</td>\n",
              "      <td>150000</td>\n",
              "      <td>6</td>\n",
              "      <td>6.0</td>\n",
              "      <td>38.0</td>\n",
              "      <td>0.0</td>\n",
              "    </tr>\n",
              "    <tr>\n",
              "      <th>4</th>\n",
              "      <td>3600</td>\n",
              "      <td>5.0</td>\n",
              "      <td>2008</td>\n",
              "      <td>1.0</td>\n",
              "      <td>69</td>\n",
              "      <td>101.0</td>\n",
              "      <td>90000</td>\n",
              "      <td>7</td>\n",
              "      <td>2.0</td>\n",
              "      <td>31.0</td>\n",
              "      <td>0.0</td>\n",
              "    </tr>\n",
              "    <tr>\n",
              "      <th>5</th>\n",
              "      <td>650</td>\n",
              "      <td>4.0</td>\n",
              "      <td>1995</td>\n",
              "      <td>1.0</td>\n",
              "      <td>102</td>\n",
              "      <td>11.0</td>\n",
              "      <td>150000</td>\n",
              "      <td>10</td>\n",
              "      <td>6.0</td>\n",
              "      <td>2.0</td>\n",
              "      <td>2.0</td>\n",
              "    </tr>\n",
              "    <tr>\n",
              "      <th>6</th>\n",
              "      <td>2200</td>\n",
              "      <td>1.0</td>\n",
              "      <td>2004</td>\n",
              "      <td>1.0</td>\n",
              "      <td>109</td>\n",
              "      <td>8.0</td>\n",
              "      <td>150000</td>\n",
              "      <td>8</td>\n",
              "      <td>6.0</td>\n",
              "      <td>25.0</td>\n",
              "      <td>0.0</td>\n",
              "    </tr>\n",
              "  </tbody>\n",
              "</table>\n",
              "</div>"
            ],
            "text/plain": [
              "   Price  VehicleType  RegistrationYear  Gearbox  Power  Model  Kilometer  \\\n",
              "2   9800          6.0              2004      0.0    163  117.0     125000   \n",
              "3   1500          5.0              2001      1.0     75  116.0     150000   \n",
              "4   3600          5.0              2008      1.0     69  101.0      90000   \n",
              "5    650          4.0              1995      1.0    102   11.0     150000   \n",
              "6   2200          1.0              2004      1.0    109    8.0     150000   \n",
              "\n",
              "   RegistrationMonth  FuelType  Brand  NotRepaired  \n",
              "2                  8       2.0   14.0          1.0  \n",
              "3                  6       6.0   38.0          0.0  \n",
              "4                  7       2.0   31.0          0.0  \n",
              "5                 10       6.0    2.0          2.0  \n",
              "6                  8       6.0   25.0          0.0  "
            ]
          },
          "execution_count": 24,
          "metadata": {},
          "output_type": "execute_result"
        }
      ],
      "source": [
        "from sklearn.preprocessing import OrdinalEncoder\n",
        "ordinal = data.copy()\n",
        "ordinal[categorical] = OrdinalEncoder().fit_transform(ordinal[categorical])\n",
        "\n",
        "ordinal.head()"
      ]
    },
    {
      "cell_type": "markdown",
      "metadata": {
        "id": "yENpt9QHZE_M"
      },
      "source": [
        "Sekarang saatnya split data Training, Valid, dan Test."
      ]
    },
    {
      "cell_type": "markdown",
      "metadata": {
        "id": "b61oCUksZE_M"
      },
      "source": [
        "### Split Data"
      ]
    },
    {
      "cell_type": "markdown",
      "metadata": {
        "id": "usgv8LX2ZE_M"
      },
      "source": [
        "Dikarenakan sumber data yang digunakan berbeda untuk masing masing model.\n",
        "1. Linear Regression dan XGBoost menggunakan data OHE.\n",
        "2. RandomForest Regressor menggunakan data ordinal.\n",
        "3. LightGBM dan CatBoost menggunakan data mentah.\n",
        "\n",
        "Maka Split data ini akan diambil berdasarkan index dari split data yang pertama, sehingga data yang digunakan tetap sama."
      ]
    },
    {
      "cell_type": "code",
      "execution_count": null,
      "metadata": {
        "id": "l-9lM5IoZE_M",
        "outputId": "b5fc6b79-9928-4478-f0f7-fa0ddad1248e"
      },
      "outputs": [
        {
          "name": "stdout",
          "output_type": "stream",
          "text": [
            "0.6999980770340173\n",
            "0.19998077034017267\n",
            "0.10002115262581004\n"
          ]
        }
      ],
      "source": [
        "from sklearn.model_selection import train_test_split\n",
        "\n",
        "index_train, index_sisa = train_test_split(data.index, train_size=0.7, random_state=1)\n",
        "index_valid, index_test = train_test_split(index_sisa, train_size=0.6666, random_state=1)\n",
        "\n",
        "print(len(index_train)/(len(data)))\n",
        "print(len(index_valid)/len(data))\n",
        "print(len(index_test)/len(data))"
      ]
    },
    {
      "cell_type": "markdown",
      "metadata": {
        "id": "-rXTwatrZE_M"
      },
      "source": [
        "Train = 70%\n",
        "Valid = 20%\n",
        "Test  = 10%"
      ]
    },
    {
      "cell_type": "code",
      "execution_count": null,
      "metadata": {
        "id": "wB9B3R1fZE_N"
      },
      "outputs": [],
      "source": [
        "def data_split(data):\n",
        "    train = data.loc[index_train]\n",
        "    valid = data.loc[index_valid]\n",
        "    test = data.loc[index_test]\n",
        "    return train,valid,test\n",
        "\n",
        "def features_target_split(data):\n",
        "    features = data.drop(['Price'],axis=1)\n",
        "    target = data['Price']\n",
        "    return features, target"
      ]
    },
    {
      "cell_type": "code",
      "execution_count": null,
      "metadata": {
        "id": "wYbXZP8QZE_N"
      },
      "outputs": [],
      "source": [
        "ohe_train, ohe_valid, ohe_test = data_split(ohe)\n",
        "ordinal_train, ordinal_valid, ordinal_test = data_split(ordinal)\n",
        "data_train, data_valid, data_test = data_split(data)"
      ]
    },
    {
      "cell_type": "markdown",
      "metadata": {
        "id": "Il03J3pCZE_N"
      },
      "source": [
        "## Pelatihan Model"
      ]
    },
    {
      "cell_type": "code",
      "execution_count": null,
      "metadata": {
        "id": "CZTk50XUZE_N"
      },
      "outputs": [],
      "source": [
        "from sklearn.metrics import mean_squared_error\n",
        "\n",
        "def rmse(pred, real):\n",
        "    return mean_squared_error(pred, real)**0.5"
      ]
    },
    {
      "cell_type": "code",
      "execution_count": null,
      "metadata": {
        "id": "qpd2Cm6EZE_N",
        "outputId": "5e4034b2-ce81-45c1-e3b2-30b77e8f189f"
      },
      "outputs": [
        {
          "data": {
            "text/plain": [
              "3719.3224882032114"
            ]
          },
          "execution_count": 68,
          "metadata": {},
          "output_type": "execute_result"
        }
      ],
      "source": [
        "from sklearn.dummy import DummyRegressor\n",
        "features_train, target_train = features_target_split(ohe_train)\n",
        "features_valid, target_valid = features_target_split(ohe_valid)\n",
        "features_test, target_test = features_target_split(ohe_test)\n",
        "dr = DummyRegressor(strategy=\"mean\")\n",
        "dr.fit(features_train, target_train)\n",
        "rmse(dr.predict(features_valid), target_valid)"
      ]
    },
    {
      "cell_type": "markdown",
      "metadata": {
        "id": "7ItWW7UgZE_N"
      },
      "source": [
        "RMSE model dummy didapatkan 3719."
      ]
    },
    {
      "cell_type": "markdown",
      "metadata": {
        "id": "DqVUI-r7ZE_R"
      },
      "source": [
        "### Linear Regression"
      ]
    },
    {
      "cell_type": "code",
      "execution_count": null,
      "metadata": {
        "id": "8d-3iKJGZE_S",
        "outputId": "c74428fe-801c-45a4-d43d-9eae4dceb1bd"
      },
      "outputs": [
        {
          "name": "stdout",
          "output_type": "stream",
          "text": [
            "CPU times: user 240 ms, sys: 70.7 ms, total: 311 ms\n",
            "Wall time: 269 ms\n"
          ]
        },
        {
          "data": {
            "text/plain": [
              "LinearRegression()"
            ]
          },
          "execution_count": 69,
          "metadata": {},
          "output_type": "execute_result"
        }
      ],
      "source": [
        "%%time\n",
        "\n",
        "from sklearn.linear_model import LinearRegression\n",
        "\n",
        "model = LinearRegression()\n",
        "model.fit(features_train, target_train)"
      ]
    },
    {
      "cell_type": "code",
      "execution_count": null,
      "metadata": {
        "id": "m7Iac-3SZE_S",
        "outputId": "cf21cd47-ccd5-4c75-eed0-5a3d3a551bc3"
      },
      "outputs": [
        {
          "name": "stdout",
          "output_type": "stream",
          "text": [
            "CPU times: user 43.7 ms, sys: 40.9 ms, total: 84.6 ms\n",
            "Wall time: 33.6 ms\n"
          ]
        }
      ],
      "source": [
        "%%time\n",
        "\n",
        "pred_train = model.predict(features_train)\n",
        "pred_valid = model.predict(features_valid)\n",
        "pred_test = model.predict(features_test)"
      ]
    },
    {
      "cell_type": "code",
      "execution_count": null,
      "metadata": {
        "scrolled": true,
        "id": "pH7UZbQLZE_S",
        "outputId": "76984139-8358-4210-a8eb-9c53c7a62caa"
      },
      "outputs": [
        {
          "name": "stdout",
          "output_type": "stream",
          "text": [
            "Train RMSE: 2543.5518738419346\n",
            "Valid RMSE: 2537.9302687442573\n",
            "Test RMSE:  2564.530177498815\n"
          ]
        }
      ],
      "source": [
        "print(\"Train RMSE:\", rmse(target_train, pred_train))\n",
        "print(\"Valid RMSE:\", rmse(target_valid, pred_valid))\n",
        "print(\"Test RMSE: \", rmse(target_test, pred_test))"
      ]
    },
    {
      "cell_type": "markdown",
      "metadata": {
        "id": "eHYirgjNZE_S"
      },
      "source": [
        "Linear Regression memanglah cepat dalam memproses, namun akurasi yang didapatkan tidak terlalu mengesankan."
      ]
    },
    {
      "cell_type": "markdown",
      "metadata": {
        "id": "75m270FSZE_T"
      },
      "source": [
        "### XGBoost"
      ]
    },
    {
      "cell_type": "code",
      "execution_count": null,
      "metadata": {
        "scrolled": true,
        "id": "fiw8CcccZE_T",
        "outputId": "28d003b4-361d-48a9-9b79-2ab2697e6abb"
      },
      "outputs": [
        {
          "name": "stdout",
          "output_type": "stream",
          "text": [
            "[13:52:30] WARNING: ../src/objective/regression_obj.cu:188: reg:linear is now deprecated in favor of reg:squarederror.\n",
            "CPU times: user 4.47 s, sys: 25.9 ms, total: 4.49 s\n",
            "Wall time: 4.45 s\n"
          ]
        },
        {
          "data": {
            "text/plain": [
              "XGBRegressor(base_score=0.5, booster='gbtree', colsample_bylevel=1,\n",
              "             colsample_bynode=1, colsample_bytree=1, enable_categorical=False,\n",
              "             gamma=0, gpu_id=-1, importance_type=None,\n",
              "             interaction_constraints='', learning_rate=0.300000012,\n",
              "             max_delta_step=0, max_depth=6, min_child_weight=1, missing=nan,\n",
              "             monotone_constraints='()', n_estimators=10, n_jobs=4,\n",
              "             num_parallel_tree=1, objective='reg:linear', predictor='auto',\n",
              "             random_state=123, reg_alpha=0, reg_lambda=1, scale_pos_weight=1,\n",
              "             seed=123, subsample=1, tree_method='exact', validate_parameters=1,\n",
              "             verbosity=None)"
            ]
          },
          "execution_count": 74,
          "metadata": {},
          "output_type": "execute_result"
        }
      ],
      "source": [
        "%%time\n",
        "import xgboost as xg\n",
        "\n",
        "model = xg.XGBRegressor(objective ='reg:linear',n_estimators = 10, seed = 123)\n",
        "model.fit(features_train, target_train)"
      ]
    },
    {
      "cell_type": "code",
      "execution_count": null,
      "metadata": {
        "id": "d-z6DFYIZE_T",
        "outputId": "7fe62038-6456-4894-cf83-6fda097e4c07"
      },
      "outputs": [
        {
          "name": "stdout",
          "output_type": "stream",
          "text": [
            "CPU times: user 379 ms, sys: 1.78 ms, total: 381 ms\n",
            "Wall time: 285 ms\n"
          ]
        }
      ],
      "source": [
        "%%time\n",
        "\n",
        "pred_train = model.predict(features_train)\n",
        "pred_valid = model.predict(features_valid)\n",
        "pred_test = model.predict(features_test)"
      ]
    },
    {
      "cell_type": "code",
      "execution_count": null,
      "metadata": {
        "scrolled": true,
        "id": "adpk0RbOZE_T",
        "outputId": "ef5bd1ab-02ae-4d30-9822-269af4b653ec"
      },
      "outputs": [
        {
          "name": "stdout",
          "output_type": "stream",
          "text": [
            "Train RMSE: 1731.3934089379504\n",
            "Valid RMSE: 1748.3885699652574\n",
            "Test RMSE:  1749.1569283690408\n"
          ]
        }
      ],
      "source": [
        "print(\"Train RMSE:\", rmse(target_train, pred_train))\n",
        "print(\"Valid RMSE:\", rmse(target_valid, pred_valid))\n",
        "print(\"Test RMSE: \", rmse(target_test, pred_test))"
      ]
    },
    {
      "cell_type": "markdown",
      "metadata": {
        "id": "BipleOcrZE_T"
      },
      "source": [
        "Dalam training, waktu yang dibutuhkan XGBoost lebih banyak dibanding dengan Linear Regression, begitu pula dengan waktu yang dibutuhkan saat prediksi jawaban."
      ]
    },
    {
      "cell_type": "markdown",
      "metadata": {
        "id": "_Ug8tpusZE_U"
      },
      "source": [
        "### Random Forest"
      ]
    },
    {
      "cell_type": "markdown",
      "metadata": {
        "id": "zsVLW_6dZE_U"
      },
      "source": [
        "Karena data yang digunakan menggunakan encoding ordinal, jangan lupa untuk mensetting ulang data yang akan digunakan."
      ]
    },
    {
      "cell_type": "code",
      "execution_count": null,
      "metadata": {
        "id": "8n_2RbmvZE_U"
      },
      "outputs": [],
      "source": [
        "from sklearn.ensemble import RandomForestRegressor\n",
        "features_train, target_train = features_target_split(ordinal_train)\n",
        "features_valid, target_valid = features_target_split(ordinal_valid)\n",
        "features_test, target_test = features_target_split(ordinal_valid)"
      ]
    },
    {
      "cell_type": "markdown",
      "metadata": {
        "id": "1vulIS2VZE_U"
      },
      "source": [
        "Untuk pertama, kita cari terlebih dahulu hiperparameter yang cocok untuk RandomForest sebelum menghitung waktu yang dibutuhkan dalam prosesnya."
      ]
    },
    {
      "cell_type": "code",
      "execution_count": null,
      "metadata": {
        "id": "XQF6SEQeZE_U",
        "outputId": "007c3d1c-4cfd-4b3f-8de6-585b687a7519"
      },
      "outputs": [
        {
          "name": "stdout",
          "output_type": "stream",
          "text": [
            "Depth: 1\n",
            "Estimator: 50\n",
            "Train RMSE: 3052.301132164857\n",
            "Valid RMSE: 3035.109415444367\n",
            "Depth: 1\n",
            "Estimator: 100\n",
            "Train RMSE: 3052.3012385246966\n",
            "Valid RMSE: 3035.104902472054\n",
            "Depth: 1\n",
            "Estimator: 150\n",
            "Train RMSE: 3052.301186531985\n",
            "Valid RMSE: 3035.1060874453797\n",
            "Depth: 1\n",
            "Estimator: 200\n",
            "Train RMSE: 3052.301155172939\n",
            "Valid RMSE: 3035.111358005913\n",
            "Depth: 1\n",
            "Estimator: 250\n",
            "Train RMSE: 3052.3011887535795\n",
            "Valid RMSE: 3035.108905377808\n",
            "Depth: 2\n",
            "Estimator: 50\n",
            "Train RMSE: 2703.2015255770048\n",
            "Valid RMSE: 2680.9210937725566\n",
            "Depth: 2\n",
            "Estimator: 100\n",
            "Train RMSE: 2705.659632612215\n",
            "Valid RMSE: 2682.6816177225037\n",
            "Depth: 2\n",
            "Estimator: 150\n",
            "Train RMSE: 2704.9376950992114\n",
            "Valid RMSE: 2682.0641151958457\n",
            "Depth: 2\n",
            "Estimator: 200\n",
            "Train RMSE: 2704.8119069601053\n",
            "Valid RMSE: 2681.9529159501244\n",
            "Depth: 2\n",
            "Estimator: 250\n",
            "Train RMSE: 2705.8480362128203\n",
            "Valid RMSE: 2682.7999324695893\n",
            "Depth: 4\n",
            "Estimator: 50\n",
            "Train RMSE: 2248.488543954931\n",
            "Valid RMSE: 2238.7198443007596\n",
            "Depth: 4\n",
            "Estimator: 100\n",
            "Train RMSE: 2242.116971372133\n",
            "Valid RMSE: 2232.583298296242\n",
            "Depth: 4\n",
            "Estimator: 150\n",
            "Train RMSE: 2245.74218522103\n",
            "Valid RMSE: 2236.6087177205404\n",
            "Depth: 4\n",
            "Estimator: 200\n",
            "Train RMSE: 2245.659573974429\n",
            "Valid RMSE: 2236.443062919571\n",
            "Depth: 4\n",
            "Estimator: 250\n",
            "Train RMSE: 2242.809352345708\n",
            "Valid RMSE: 2233.6308425055418\n",
            "Depth: 6\n",
            "Estimator: 50\n",
            "Train RMSE: 1943.1875257657216\n",
            "Valid RMSE: 1953.182745955574\n",
            "Depth: 6\n",
            "Estimator: 100\n",
            "Train RMSE: 1943.265536376938\n",
            "Valid RMSE: 1953.3689146583224\n",
            "Depth: 6\n",
            "Estimator: 150\n",
            "Train RMSE: 1942.640332643775\n",
            "Valid RMSE: 1952.1394304056396\n",
            "Depth: 6\n",
            "Estimator: 200\n",
            "Train RMSE: 1942.4291990898173\n",
            "Valid RMSE: 1952.4349317320607\n",
            "Depth: 6\n",
            "Estimator: 250\n",
            "Train RMSE: 1940.8023863838196\n",
            "Valid RMSE: 1950.3944217715905\n",
            "Depth: 8\n",
            "Estimator: 50\n",
            "Train RMSE: 1738.095021785024\n",
            "Valid RMSE: 1767.2601309708036\n",
            "Depth: 8\n",
            "Estimator: 100\n",
            "Train RMSE: 1738.6849633748175\n",
            "Valid RMSE: 1767.5259834003825\n",
            "Depth: 8\n",
            "Estimator: 150\n",
            "Train RMSE: 1740.2725853110328\n",
            "Valid RMSE: 1769.116636848504\n",
            "Depth: 8\n",
            "Estimator: 200\n",
            "Train RMSE: 1741.213951051099\n",
            "Valid RMSE: 1770.2473878149005\n",
            "Depth: 8\n",
            "Estimator: 250\n",
            "Train RMSE: 1739.017201804924\n",
            "Valid RMSE: 1768.1169147189332\n",
            "Depth: 10\n",
            "Estimator: 50\n",
            "Train RMSE: 1569.922965970529\n",
            "Valid RMSE: 1644.286332822159\n",
            "Depth: 10\n",
            "Estimator: 100\n",
            "Train RMSE: 1567.2608952276862\n",
            "Valid RMSE: 1641.7651382397755\n",
            "Depth: 10\n",
            "Estimator: 150\n",
            "Train RMSE: 1567.6973699102766\n",
            "Valid RMSE: 1642.5774070435152\n",
            "Depth: 10\n",
            "Estimator: 200\n",
            "Train RMSE: 1568.350731561607\n",
            "Valid RMSE: 1643.3196947510762\n",
            "Depth: 10\n",
            "Estimator: 250\n",
            "Train RMSE: 1568.0075453147083\n",
            "Valid RMSE: 1643.5423543397205\n"
          ]
        }
      ],
      "source": [
        "for i in [1, 2, 4, 6, 8, 10]:\n",
        "    for n in [50, 100, 150, 200, 250]:\n",
        "        model = RandomForestRegressor(max_depth=i, n_estimators=n)\n",
        "        model.fit(features_train, target_train)\n",
        "\n",
        "        pred_train = model.predict(features_train)\n",
        "        pred_valid = model.predict(features_valid)\n",
        "        print(\"Depth:\", i)\n",
        "        print(\"Estimator:\", n)\n",
        "        print(\"Train RMSE:\", rmse(target_train, pred_train))\n",
        "        print(\"Valid RMSE:\", rmse(target_valid, pred_valid))"
      ]
    },
    {
      "cell_type": "markdown",
      "metadata": {
        "id": "2q7bpRJAZE_U"
      },
      "source": [
        "n_estimators yang paling baik disini adalah 100. Namun untuk depth, kualitas model masih meningkat seiring dengan peningkatan depthnya meskipun sudah 10. Dicek kembali hingga 20 dengan n_estimators yang sama yaitu 100."
      ]
    },
    {
      "cell_type": "code",
      "execution_count": null,
      "metadata": {
        "scrolled": true,
        "id": "Ym2Qw65aZE_V",
        "outputId": "02f86a42-7fcc-41bf-d5e6-7af21be72e9f"
      },
      "outputs": [
        {
          "name": "stdout",
          "output_type": "stream",
          "text": [
            "Depth: 1\n",
            "Train RMSE: 3052.301269257433\n",
            "Valid RMSE: 3035.103649211854\n",
            "Depth: 2\n",
            "Train RMSE: 2707.686463183771\n",
            "Valid RMSE: 2684.4473495773354\n",
            "Depth: 3\n",
            "Train RMSE: 2467.6863572418556\n",
            "Valid RMSE: 2452.778000008302\n",
            "Depth: 4\n",
            "Train RMSE: 2244.8626238162124\n",
            "Valid RMSE: 2235.667403788819\n",
            "Depth: 5\n",
            "Train RMSE: 2087.712376169969\n",
            "Valid RMSE: 2086.312003661434\n",
            "Depth: 6\n",
            "Train RMSE: 1943.3280420086992\n",
            "Valid RMSE: 1953.191763312808\n",
            "Depth: 7\n",
            "Train RMSE: 1832.0712093313527\n",
            "Valid RMSE: 1848.5700668023608\n",
            "Depth: 8\n",
            "Train RMSE: 1739.956223995837\n",
            "Valid RMSE: 1768.6861111240155\n",
            "Depth: 9\n",
            "Train RMSE: 1656.0171140595758\n",
            "Valid RMSE: 1705.454544411981\n",
            "Depth: 10\n",
            "Train RMSE: 1567.6803737714804\n",
            "Valid RMSE: 1642.3258002605928\n",
            "Depth: 11\n",
            "Train RMSE: 1475.4332411056869\n",
            "Valid RMSE: 1586.007756778946\n",
            "Depth: 12\n",
            "Train RMSE: 1381.8638921686886\n",
            "Valid RMSE: 1536.0150931973053\n",
            "Depth: 13\n",
            "Train RMSE: 1286.5813044626173\n",
            "Valid RMSE: 1493.1394145656393\n",
            "Depth: 14\n",
            "Train RMSE: 1196.7248169611898\n",
            "Valid RMSE: 1456.6943852547531\n",
            "Depth: 15\n",
            "Train RMSE: 1108.8650706615272\n",
            "Valid RMSE: 1430.7695425052818\n",
            "Depth: 16\n",
            "Train RMSE: 1025.7280647074358\n",
            "Valid RMSE: 1409.5402206847284\n",
            "Depth: 17\n",
            "Train RMSE: 948.9309096353921\n",
            "Valid RMSE: 1397.6563063484411\n",
            "Depth: 18\n",
            "Train RMSE: 880.869790533182\n",
            "Valid RMSE: 1390.4773066629414\n",
            "Depth: 19\n",
            "Train RMSE: 823.3716663234208\n",
            "Valid RMSE: 1386.755246254257\n"
          ]
        }
      ],
      "source": [
        "for i in range(1,20):\n",
        "    model = RandomForestRegressor(max_depth=i, n_estimators=100)\n",
        "    model.fit(features_train, target_train)\n",
        "\n",
        "    pred_train = model.predict(features_train)\n",
        "    pred_valid = model.predict(features_valid)\n",
        "    print(\"Depth:\", i)\n",
        "    print(\"Train RMSE:\", rmse(target_train, pred_train))\n",
        "    print(\"Valid RMSE:\", rmse(target_valid, pred_valid))"
      ]
    },
    {
      "cell_type": "markdown",
      "metadata": {
        "id": "kfMo_VQaZE_V"
      },
      "source": [
        "Ternyata sampe 19 pun kualitas model masih meningkat."
      ]
    },
    {
      "cell_type": "code",
      "execution_count": null,
      "metadata": {
        "id": "WeXUyZ7zZE_V",
        "outputId": "55e52af7-48dd-405d-93f2-f9ac040ff233"
      },
      "outputs": [
        {
          "name": "stdout",
          "output_type": "stream",
          "text": [
            "Depth: 19\n",
            "Estimator: 250\n",
            "Train RMSE: 648.7455633565284\n",
            "Valid RMSE: 1400.024074161706\n"
          ]
        }
      ],
      "source": [
        "model = RandomForestRegressor(n_estimators=100)\n",
        "model.fit(features_train, target_train)\n",
        "\n",
        "pred_train = model.predict(features_train)\n",
        "pred_valid = model.predict(features_valid)\n",
        "print(\"Train RMSE:\", rmse(target_train, pred_train))\n",
        "print(\"Valid RMSE:\", rmse(target_valid, pred_valid))"
      ]
    },
    {
      "cell_type": "markdown",
      "metadata": {
        "id": "PZtbyyEbZE_V"
      },
      "source": [
        "Dan ternyata nilai default menjadi kualitas model yang terbaik. Hyperparameter ini settingan defaultnya adalah None.\n",
        "Setelah didapatkan Depth dan Estimator terbaik, saatnya menguji kecepatan training dan predict model."
      ]
    },
    {
      "cell_type": "code",
      "execution_count": null,
      "metadata": {
        "id": "csJ1Huj0ZE_V",
        "outputId": "c0bde12d-a8e6-404b-a859-70ed15263f23"
      },
      "outputs": [
        {
          "name": "stdout",
          "output_type": "stream",
          "text": [
            "CPU times: user 1min 5s, sys: 404 ms, total: 1min 6s\n",
            "Wall time: 1min 6s\n"
          ]
        },
        {
          "data": {
            "text/plain": [
              "RandomForestRegressor()"
            ]
          },
          "execution_count": 86,
          "metadata": {},
          "output_type": "execute_result"
        }
      ],
      "source": [
        "%%time\n",
        "\n",
        "model = RandomForestRegressor(n_estimators=100)\n",
        "model.fit(features_train, target_train)"
      ]
    },
    {
      "cell_type": "code",
      "execution_count": null,
      "metadata": {
        "id": "OirWnZJHZE_W",
        "outputId": "11553b9e-c125-4a2f-9afc-4167dd0bb31a"
      },
      "outputs": [
        {
          "name": "stdout",
          "output_type": "stream",
          "text": [
            "CPU times: user 13.3 s, sys: 13 µs, total: 13.3 s\n",
            "Wall time: 13.3 s\n"
          ]
        }
      ],
      "source": [
        "%%time\n",
        "\n",
        "pred_train = model.predict(features_train)\n",
        "pred_valid = model.predict(features_valid)\n",
        "pred_test = model.predict(features_test)"
      ]
    },
    {
      "cell_type": "code",
      "execution_count": null,
      "metadata": {
        "scrolled": false,
        "id": "-6R_WP7jZE_W",
        "outputId": "60164046-41cd-44be-c493-b7bf0e63446e"
      },
      "outputs": [
        {
          "name": "stdout",
          "output_type": "stream",
          "text": [
            "Train RMSE: 648.7455633565284\n",
            "Valid RMSE: 1400.024074161706\n",
            "Test RMSE:  1400.024074161706\n"
          ]
        }
      ],
      "source": [
        "print(\"Train RMSE:\", rmse(target_train, pred_train))\n",
        "print(\"Valid RMSE:\", rmse(target_valid, pred_valid))\n",
        "print(\"Test RMSE: \", rmse(target_test, pred_test))"
      ]
    },
    {
      "cell_type": "markdown",
      "metadata": {
        "id": "UOjuErr2ZE_W"
      },
      "source": [
        "Dilihat dari model sebelumnya, model ini adalah yang terlama, dengan training model sebesar 1 menit 6 detik, dan predict 13 detik."
      ]
    },
    {
      "cell_type": "markdown",
      "metadata": {
        "id": "-BFFUnT_ZE_W"
      },
      "source": [
        "### LightGBM"
      ]
    },
    {
      "cell_type": "markdown",
      "metadata": {
        "id": "HDmBzo2jZE_W"
      },
      "source": [
        "Karena data yang akan digunakan adalah data mentah, maka data training, valid, dan test akan diatur ulang"
      ]
    },
    {
      "cell_type": "code",
      "execution_count": null,
      "metadata": {
        "id": "TevDyedeZE_W"
      },
      "outputs": [],
      "source": [
        "data_categorical = data.copy()\n",
        "data_categorical[categorical] = data_categorical[categorical].astype('category')"
      ]
    },
    {
      "cell_type": "code",
      "execution_count": null,
      "metadata": {
        "id": "KJUEspmDZE_X"
      },
      "outputs": [],
      "source": [
        "import lightgbm as lgb\n",
        "features_train, target_train = features_target_split(data_categorical)\n",
        "features_valid, target_valid = features_target_split(data_categorical)\n",
        "features_test, target_test = features_target_split(data_categorical)"
      ]
    },
    {
      "cell_type": "code",
      "execution_count": null,
      "metadata": {
        "id": "bI3Lhpo1ZE_X",
        "outputId": "2a21054a-ace5-4311-e32c-22f4d8ae6ebb"
      },
      "outputs": [
        {
          "name": "stdout",
          "output_type": "stream",
          "text": [
            "<class 'pandas.core.frame.DataFrame'>\n",
            "Int64Index: 260015 entries, 2 to 354368\n",
            "Data columns (total 11 columns):\n",
            " #   Column             Non-Null Count   Dtype   \n",
            "---  ------             --------------   -----   \n",
            " 0   Price              260015 non-null  int64   \n",
            " 1   VehicleType        260015 non-null  category\n",
            " 2   RegistrationYear   260015 non-null  int64   \n",
            " 3   Gearbox            260015 non-null  category\n",
            " 4   Power              260015 non-null  int64   \n",
            " 5   Model              260015 non-null  category\n",
            " 6   Kilometer          260015 non-null  int64   \n",
            " 7   RegistrationMonth  260015 non-null  int64   \n",
            " 8   FuelType           260015 non-null  category\n",
            " 9   Brand              260015 non-null  category\n",
            " 10  NotRepaired        260015 non-null  category\n",
            "dtypes: category(6), int64(5)\n",
            "memory usage: 21.7 MB\n"
          ]
        }
      ],
      "source": [
        "data_categorical.info()"
      ]
    },
    {
      "cell_type": "markdown",
      "metadata": {
        "id": "m49MUuhsZE_X"
      },
      "source": [
        "Sama seperti Random Forest,max_depth akan dibuat sama dengan defaultnya, sementara n_estimator akan coba diatur."
      ]
    },
    {
      "cell_type": "code",
      "execution_count": null,
      "metadata": {
        "scrolled": true,
        "id": "vuFayVmXZE_X",
        "outputId": "41aae542-3ca5-4a40-83ea-62d07fa752b5"
      },
      "outputs": [
        {
          "name": "stderr",
          "output_type": "stream",
          "text": [
            "/opt/conda/lib/python3.9/site-packages/lightgbm/basic.py:2065: UserWarning: Using categorical_feature in Dataset.\n",
            "  _log_warning('Using categorical_feature in Dataset.')\n"
          ]
        },
        {
          "name": "stdout",
          "output_type": "stream",
          "text": [
            "Estimators: 100\n",
            "Train RMSE: 1377.4035830031573\n",
            "Valid RMSE: 1377.4035830031573\n"
          ]
        },
        {
          "name": "stderr",
          "output_type": "stream",
          "text": [
            "/opt/conda/lib/python3.9/site-packages/lightgbm/basic.py:2065: UserWarning: Using categorical_feature in Dataset.\n",
            "  _log_warning('Using categorical_feature in Dataset.')\n"
          ]
        },
        {
          "name": "stdout",
          "output_type": "stream",
          "text": [
            "Estimators: 250\n",
            "Train RMSE: 1313.8261513353525\n",
            "Valid RMSE: 1313.8261513353525\n"
          ]
        },
        {
          "name": "stderr",
          "output_type": "stream",
          "text": [
            "/opt/conda/lib/python3.9/site-packages/lightgbm/basic.py:2065: UserWarning: Using categorical_feature in Dataset.\n",
            "  _log_warning('Using categorical_feature in Dataset.')\n"
          ]
        },
        {
          "name": "stdout",
          "output_type": "stream",
          "text": [
            "Estimators: 500\n",
            "Train RMSE: 1259.4233409423753\n",
            "Valid RMSE: 1259.4233409423753\n"
          ]
        },
        {
          "name": "stderr",
          "output_type": "stream",
          "text": [
            "/opt/conda/lib/python3.9/site-packages/lightgbm/basic.py:2065: UserWarning: Using categorical_feature in Dataset.\n",
            "  _log_warning('Using categorical_feature in Dataset.')\n"
          ]
        },
        {
          "name": "stdout",
          "output_type": "stream",
          "text": [
            "Estimators: 750\n",
            "Train RMSE: 1223.8152504678642\n",
            "Valid RMSE: 1223.8152504678642\n"
          ]
        },
        {
          "name": "stderr",
          "output_type": "stream",
          "text": [
            "/opt/conda/lib/python3.9/site-packages/lightgbm/basic.py:2065: UserWarning: Using categorical_feature in Dataset.\n",
            "  _log_warning('Using categorical_feature in Dataset.')\n"
          ]
        },
        {
          "name": "stdout",
          "output_type": "stream",
          "text": [
            "Estimators: 1000\n",
            "Train RMSE: 1194.5944118300974\n",
            "Valid RMSE: 1194.5944118300974\n"
          ]
        }
      ],
      "source": [
        "for i in [100,250,500,750, 1000]:\n",
        "    model = lgb.LGBMRegressor(n_estimators=i, random_state=1)\n",
        "    model.fit(features_train, target_train, categorical_feature = categorical)\n",
        "    pred_train = model.predict(features_train)\n",
        "    pred_valid = model.predict(features_valid)\n",
        "    print(\"Estimators:\", i)\n",
        "    print(\"Train RMSE:\", rmse(target_train, pred_train))\n",
        "    print(\"Valid RMSE:\", rmse(target_valid, pred_valid)) "
      ]
    },
    {
      "cell_type": "code",
      "execution_count": null,
      "metadata": {
        "scrolled": true,
        "id": "5DfznixdZE_Y",
        "outputId": "d96f740b-c4b7-43be-d5c4-f9b2cfe97e60"
      },
      "outputs": [
        {
          "name": "stdout",
          "output_type": "stream",
          "text": [
            "CPU times: user 1.94 s, sys: 19.9 ms, total: 1.96 s\n",
            "Wall time: 1.96 s\n"
          ]
        },
        {
          "data": {
            "text/plain": [
              "LGBMRegressor(max_depth=1, random_state=1)"
            ]
          },
          "execution_count": 115,
          "metadata": {},
          "output_type": "execute_result"
        }
      ],
      "source": [
        "%%time\n",
        "\n",
        "model = lgb.LGBMRegressor(n_estimators=1000, random_state=1)\n",
        "model.fit(features_train, target_train, categorical_feature = categorical)\n"
      ]
    },
    {
      "cell_type": "code",
      "execution_count": null,
      "metadata": {
        "id": "VdhuH-mIZE_Y",
        "outputId": "812eeec5-6fdc-4d3d-d939-fcbf1d451124"
      },
      "outputs": [
        {
          "name": "stdout",
          "output_type": "stream",
          "text": [
            "CPU times: user 1min 8s, sys: 3.11 ms, total: 1min 9s\n",
            "Wall time: 1min 9s\n"
          ]
        }
      ],
      "source": [
        "%%time\n",
        "\n",
        "pred_train = model.predict(features_train)\n",
        "pred_valid = model.predict(features_valid)\n",
        "pred_test = model.predict(features_test)"
      ]
    },
    {
      "cell_type": "code",
      "execution_count": null,
      "metadata": {
        "scrolled": false,
        "id": "2b-bCjEbZE_Y",
        "outputId": "85fa52b0-2e5e-4024-c5d1-c2931299b0a8"
      },
      "outputs": [
        {
          "name": "stdout",
          "output_type": "stream",
          "text": [
            "Train RMSE: 1194.5944118300974\n",
            "Valid RMSE: 1194.5944118300974\n",
            "Test RMSE:  1194.5944118300974\n"
          ]
        }
      ],
      "source": [
        "print(\"Train RMSE:\", rmse(target_train, pred_train))\n",
        "print(\"Valid RMSE:\", rmse(target_valid, pred_valid))\n",
        "print(\"Test RMSE: \", rmse(target_test, pred_test))"
      ]
    },
    {
      "cell_type": "markdown",
      "metadata": {
        "id": "gXRnEJXIZE_Y"
      },
      "source": [
        "Untuk training dibutuhkan 1.96 detik, dan untuk predict membutuhkan 1 menit 9 detik"
      ]
    },
    {
      "cell_type": "markdown",
      "metadata": {
        "id": "qbnIB5HsZE_Y"
      },
      "source": [
        "### CatBooost"
      ]
    },
    {
      "cell_type": "markdown",
      "metadata": {
        "id": "fZmJAKPHZE_Z"
      },
      "source": [
        "Hampir sama dengan LightGBM, Metode ini tidak memerlukan proses lebih lanjut untuk data kategorinya."
      ]
    },
    {
      "cell_type": "code",
      "execution_count": null,
      "metadata": {
        "id": "3sYcpKe2ZE_Z"
      },
      "outputs": [],
      "source": [
        "from catboost import CatBoostRegressor"
      ]
    },
    {
      "cell_type": "code",
      "execution_count": null,
      "metadata": {
        "scrolled": true,
        "id": "3n7QLpqCZE_Z",
        "outputId": "13770f08-1ed8-47dc-842e-37de74111660"
      },
      "outputs": [
        {
          "name": "stderr",
          "output_type": "stream",
          "text": [
            "Custom logger is already specified. Specify more than one logger at same time is not thread safe."
          ]
        },
        {
          "name": "stdout",
          "output_type": "stream",
          "text": [
            "Estimators: 100\n",
            "Train RMSE: 1418.2778349134974\n",
            "Valid RMSE: 1418.2778349134974\n",
            "Estimators: 250\n",
            "Train RMSE: 1371.1495320588235\n",
            "Valid RMSE: 1371.1495320588235\n",
            "Estimators: 500\n",
            "Train RMSE: 1358.9186949721757\n",
            "Valid RMSE: 1358.9186949721757\n",
            "Estimators: 750\n",
            "Train RMSE: 1352.7166444081047\n",
            "Valid RMSE: 1352.7166444081047\n",
            "Estimators: 1000\n",
            "Train RMSE: 1348.6011126508602\n",
            "Valid RMSE: 1348.6011126508602\n"
          ]
        }
      ],
      "source": [
        "for i in [100, 250, 500, 750, 1000]:\n",
        "    model = CatBoostRegressor(n_estimators=i, random_state=1, verbose=False)\n",
        "    model.fit(features_train, target_train, cat_features=categorical)\n",
        "    pred_train = model.predict(features_train)\n",
        "    pred_valid = model.predict(features_valid)\n",
        "    print(\"Estimators:\", i)\n",
        "    print(\"Train RMSE:\", rmse(target_train, pred_train))\n",
        "    print(\"Valid RMSE:\", rmse(target_valid, pred_valid)) "
      ]
    },
    {
      "cell_type": "markdown",
      "metadata": {
        "id": "UtQhji2-ZE_Z"
      },
      "source": [
        "Setelah diteliti dengan iterasi dari 100 hingga 1000. 500 iterasi dinilai sudah cukup karena diatas segitu, waktu yang dibutuhkan sudah tidak worth it lagi ketika dihitung dengan penurunan errornya. Sehingga 500 iterasi lah yang akan dipilih."
      ]
    },
    {
      "cell_type": "code",
      "execution_count": null,
      "metadata": {
        "id": "-IY9ji2jZE_Z",
        "outputId": "7e1e18d0-5567-415e-c22a-f3db5713ef80"
      },
      "outputs": [
        {
          "name": "stdout",
          "output_type": "stream",
          "text": [
            "CPU times: user 4min 25s, sys: 189 ms, total: 4min 25s\n",
            "Wall time: 4min 26s\n"
          ]
        },
        {
          "data": {
            "text/plain": [
              "<catboost.core.CatBoostRegressor at 0x7f4aba9348e0>"
            ]
          },
          "execution_count": 131,
          "metadata": {},
          "output_type": "execute_result"
        }
      ],
      "source": [
        "%%time\n",
        "\n",
        "model = CatBoostRegressor(n_estimators=500, random_state=1, verbose=False)\n",
        "model.fit(features_train, target_train, cat_features=categorical)"
      ]
    },
    {
      "cell_type": "code",
      "execution_count": null,
      "metadata": {
        "id": "4dyjbIIFZE_Z",
        "outputId": "c2af6e22-7074-424c-e3e3-8a6457326b5d"
      },
      "outputs": [
        {
          "name": "stdout",
          "output_type": "stream",
          "text": [
            "CPU times: user 4.36 s, sys: 4.01 ms, total: 4.37 s\n",
            "Wall time: 4.37 s\n"
          ]
        }
      ],
      "source": [
        "%%time\n",
        "\n",
        "pred_train = model.predict(features_train)\n",
        "pred_valid = model.predict(features_valid)\n",
        "pred_test = model.predict(features_test)"
      ]
    },
    {
      "cell_type": "code",
      "execution_count": null,
      "metadata": {
        "id": "MbcpaqMsZE_a",
        "outputId": "dfc1c5d3-58c8-4627-aab3-d9f78fada516"
      },
      "outputs": [
        {
          "name": "stdout",
          "output_type": "stream",
          "text": [
            "Train RMSE: 1358.9186949721757\n",
            "Valid RMSE: 1358.9186949721757\n",
            "Test RMSE:  1358.9186949721757\n"
          ]
        }
      ],
      "source": [
        "print(\"Train RMSE:\", rmse(target_train, pred_train))\n",
        "print(\"Valid RMSE:\", rmse(target_valid, pred_valid))\n",
        "print(\"Test RMSE: \", rmse(target_test, pred_test))"
      ]
    },
    {
      "cell_type": "markdown",
      "metadata": {
        "id": "mF476itkZE_a"
      },
      "source": [
        "## Analisis model"
      ]
    },
    {
      "cell_type": "markdown",
      "metadata": {
        "id": "oQPL_U4-ZE_a"
      },
      "source": [
        "Setelah dibuat 5 model yang berbeda, didapatkan data berikut.\n",
        "\n",
        "|Model|Training Time| Prediction Time|Test RMSE|Data|\n",
        "|----|------|--------|------|----|\n",
        "|Linear Regression|311 ms|84.6 ms| 2564|OHE|\n",
        "|XGBoost|4.49 s|381 ms|1749|OHE|\n",
        "|Random Forest|1min 6s|13.3 s|1400|Ordinal Encoding|\n",
        "|LightGBM|1.96 s|1min 9s|1194|Tanpa Encoding|\n",
        "|CatBoost|4min 25s|4.37 s|1358|Tanpa Encoding|\n",
        "\n",
        "Dengan catatan, bahwa pemodelan ini dilakukan di PC saya.\n",
        "\n",
        "Dan ditemukan bahwa:\n",
        "1. Model tercepat adalah Linear Regression, namun akurasinya sangat jelek.\n",
        "2. Model terakurat adalah LightGBM, namun proses prediksinya sangat lama.\n",
        "3. XGBoost memiliki waktu training dan predict yang lumayan cepat, namun akurasinya masih dibawah yang lain.\n",
        "4. Random Forest memiliki waktu training yang lumayan lama, dan prediksi yang lumayan lama.\n",
        "5. CatBoost memiliki waktu training yang SANGAT lama, namun prediksinya lumayan cepat.\n",
        "6. LightGBM dan CatBoost bisa menjadi solusi jika dataset memiliki fitur kategorik yang sangat banyak, karena tanpa encoding pun, metode ini bisa berjalan dengan baik.\n",
        "7. Linear Regression bisa menjadi solusi jika dataset yang akan digunakan sangat banyak dan dengan fitur kategorik yang sangat sedikit, meskipun akurasinya dalam kasus ini dinilai terburuk, namun bisa saja di kasus lain yang memang fitur kategoriknya hanya sedikit atau bahkan tidak ada, metode ini akan menjadi yang paling baik.\n",
        "8. XGBoost masih memerlukan One Hot Encoding dalam pengerjaannya, namun dibandingkan dengan Random Forest, XGBoost bisa dibilang lebih efisien karena memiliki waktu training dan predict yang cepat.\n",
        "9. LigthGBM dan CatBoost bisa menutupi kekurangan masing masing, misalnya ada kasus yang mengharuskan model ditrain terus menerus maka LightGBM bisa menjadi solusi, sedangkan jika ada kasus yang mengharuskan model harus memprediksi setiap saat maka CatBoost adalah solusi.\n",
        "10. XGBoost, LightGBM, dan CatBoost masih bisa ditingkatkan karena masih banyak hyperparameter yang bisa di explore. \n"
      ]
    }
  ],
  "metadata": {
    "kernelspec": {
      "display_name": "Python 3 (ipykernel)",
      "language": "python",
      "name": "python3"
    },
    "language_info": {
      "codemirror_mode": {
        "name": "ipython",
        "version": 3
      },
      "file_extension": ".py",
      "mimetype": "text/x-python",
      "name": "python",
      "nbconvert_exporter": "python",
      "pygments_lexer": "ipython3",
      "version": "3.9.5"
    },
    "toc": {
      "base_numbering": 1,
      "nav_menu": {},
      "number_sections": true,
      "sideBar": true,
      "skip_h1_title": true,
      "title_cell": "Table of Contents",
      "title_sidebar": "Contents",
      "toc_cell": true,
      "toc_position": {
        "height": "calc(100% - 180px)",
        "left": "10px",
        "top": "150px",
        "width": "362.391px"
      },
      "toc_section_display": true,
      "toc_window_display": false
    },
    "colab": {
      "provenance": [],
      "include_colab_link": true
    }
  },
  "nbformat": 4,
  "nbformat_minor": 0
}